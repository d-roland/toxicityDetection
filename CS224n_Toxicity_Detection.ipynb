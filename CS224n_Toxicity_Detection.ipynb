{
  "nbformat": 4,
  "nbformat_minor": 0,
  "metadata": {
    "colab": {
      "name": "CS224n - Toxicity Detection.ipynb",
      "provenance": [],
      "collapsed_sections": [],
      "toc_visible": true,
      "include_colab_link": true
    },
    "kernelspec": {
      "name": "python3",
      "display_name": "Python 3"
    },
    "accelerator": "GPU"
  },
  "cells": [
    {
      "cell_type": "markdown",
      "metadata": {
        "id": "view-in-github",
        "colab_type": "text"
      },
      "source": [
        "<a href=\"https://colab.research.google.com/github/d-roland/toxicityDetection/blob/main/CS224n_Toxicity_Detection.ipynb\" target=\"_parent\"><img src=\"https://colab.research.google.com/assets/colab-badge.svg\" alt=\"Open In Colab\"/></a>"
      ]
    },
    {
      "cell_type": "code",
      "metadata": {
        "id": "ZOQTeOTVz-3H"
      },
      "source": [
        "%tensorflow_version 2.x"
      ],
      "execution_count": 1,
      "outputs": []
    },
    {
      "cell_type": "code",
      "metadata": {
        "colab": {
          "base_uri": "https://localhost:8080/"
        },
        "id": "BjomWJOn0Fss",
        "outputId": "e30a0238-0ff0-432c-ddc4-2c9002097fa4"
      },
      "source": [
        "import warnings\r\n",
        "warnings.filterwarnings('ignore')\r\n",
        "import pandas as pd\r\n",
        "import matplotlib.pyplot as plt\r\n",
        "import numpy as np\r\n",
        "import seaborn as sns\r\n",
        "import re\r\n",
        "import csv\r\n",
        "from tqdm import tqdm, trange\r\n",
        "from collections import Counter, defaultdict\r\n",
        "from wordcloud import WordCloud\r\n",
        "import string\r\n",
        "import nltk\r\n",
        "from nltk import sent_tokenize\r\n",
        "from nltk import word_tokenize\r\n",
        "nltk.download(\"stopwords\")\r\n",
        "nltk.download('wordnet')\r\n",
        "nltk.download('punkt')\r\n",
        "import gensim\r\n",
        "import tensorflow as tf\r\n",
        "import tensorflow_hub as hub\r\n",
        "from tensorflow import keras\r\n",
        "from tensorflow.keras.preprocessing.text import Tokenizer\r\n",
        "from tensorflow.keras.preprocessing.sequence import pad_sequences\r\n",
        "from tensorflow.keras.models import Sequential\r\n",
        "from tensorflow.keras import layers\r\n",
        "from tensorflow.keras.layers import Input, Dense, Embedding, LSTM, Bidirectional, Concatenate, concatenate\r\n",
        "from sklearn.model_selection import train_test_split\r\n",
        "from sklearn.metrics import classification_report, accuracy_score, confusion_matrix, plot_confusion_matrix\r\n",
        "from sklearn import metrics\r\n",
        "from sklearn.cluster import KMeans, MiniBatchKMeans\r\n",
        "from sklearn.preprocessing import LabelEncoder\r\n",
        "from keras.utils import np_utils\r\n",
        "from datetime import datetime\r\n",
        "from statistics import mean\r\n",
        "import random\r\n",
        "import datetime\r\n",
        "import time"
      ],
      "execution_count": 2,
      "outputs": [
        {
          "output_type": "stream",
          "text": [
            "[nltk_data] Downloading package stopwords to /root/nltk_data...\n",
            "[nltk_data]   Package stopwords is already up-to-date!\n",
            "[nltk_data] Downloading package wordnet to /root/nltk_data...\n",
            "[nltk_data]   Package wordnet is already up-to-date!\n",
            "[nltk_data] Downloading package punkt to /root/nltk_data...\n",
            "[nltk_data]   Package punkt is already up-to-date!\n"
          ],
          "name": "stdout"
        }
      ]
    },
    {
      "cell_type": "code",
      "metadata": {
        "colab": {
          "base_uri": "https://localhost:8080/"
        },
        "id": "MudTLuET0Ind",
        "outputId": "1e062ef8-b921-4124-cbbe-af55e9ee5e2a"
      },
      "source": [
        "\r\n",
        "from google.colab import auth\r\n",
        "from oauth2client.client import GoogleCredentials\r\n",
        "from google.colab import drive\r\n",
        "drive.mount('/content/drive')"
      ],
      "execution_count": 3,
      "outputs": [
        {
          "output_type": "stream",
          "text": [
            "Drive already mounted at /content/drive; to attempt to forcibly remount, call drive.mount(\"/content/drive\", force_remount=True).\n"
          ],
          "name": "stdout"
        }
      ]
    },
    {
      "cell_type": "markdown",
      "metadata": {
        "id": "tRJsw0iKwn1k"
      },
      "source": [
        "# Data Preparation"
      ]
    },
    {
      "cell_type": "markdown",
      "metadata": {
        "id": "lyhTQGRYcN9A"
      },
      "source": [
        "### Loading and merging datasets"
      ]
    },
    {
      "cell_type": "code",
      "metadata": {
        "colab": {
          "base_uri": "https://localhost:8080/"
        },
        "id": "CgkfEV9j0LlI",
        "outputId": "055e33ff-b4bb-4d9a-b6d1-9106ca5940f9"
      },
      "source": [
        "colnames=['Sentence', 'Type', 'Level', 'Target'] \r\n",
        "hateful = pd.read_csv('/content/drive/My Drive/CS224n_Project/Hatefuls.csv', names=colnames, header=None)\r\n",
        "hateful.shape"
      ],
      "execution_count": 4,
      "outputs": [
        {
          "output_type": "execute_result",
          "data": {
            "text/plain": [
              "(194593, 4)"
            ]
          },
          "metadata": {
            "tags": []
          },
          "execution_count": 4
        }
      ]
    },
    {
      "cell_type": "code",
      "metadata": {
        "colab": {
          "base_uri": "https://localhost:8080/",
          "height": 170
        },
        "id": "Z09cJAHG04NG",
        "outputId": "cd2358c8-5382-4a30-d01a-2936b76a6473"
      },
      "source": [
        "hateful.describe()"
      ],
      "execution_count": 5,
      "outputs": [
        {
          "output_type": "execute_result",
          "data": {
            "text/html": [
              "<div>\n",
              "<style scoped>\n",
              "    .dataframe tbody tr th:only-of-type {\n",
              "        vertical-align: middle;\n",
              "    }\n",
              "\n",
              "    .dataframe tbody tr th {\n",
              "        vertical-align: top;\n",
              "    }\n",
              "\n",
              "    .dataframe thead th {\n",
              "        text-align: right;\n",
              "    }\n",
              "</style>\n",
              "<table border=\"1\" class=\"dataframe\">\n",
              "  <thead>\n",
              "    <tr style=\"text-align: right;\">\n",
              "      <th></th>\n",
              "      <th>Sentence</th>\n",
              "      <th>Type</th>\n",
              "      <th>Level</th>\n",
              "      <th>Target</th>\n",
              "    </tr>\n",
              "  </thead>\n",
              "  <tbody>\n",
              "    <tr>\n",
              "      <th>count</th>\n",
              "      <td>194572</td>\n",
              "      <td>194593</td>\n",
              "      <td>194593</td>\n",
              "      <td>194593</td>\n",
              "    </tr>\n",
              "    <tr>\n",
              "      <th>unique</th>\n",
              "      <td>63324</td>\n",
              "      <td>14</td>\n",
              "      <td>4</td>\n",
              "      <td>6</td>\n",
              "    </tr>\n",
              "    <tr>\n",
              "      <th>top</th>\n",
              "      <td>tg</td>\n",
              "      <td>Insult</td>\n",
              "      <td>VERY_HIGH</td>\n",
              "      <td>USER</td>\n",
              "    </tr>\n",
              "    <tr>\n",
              "      <th>freq</th>\n",
              "      <td>1364</td>\n",
              "      <td>116947</td>\n",
              "      <td>66901</td>\n",
              "      <td>96997</td>\n",
              "    </tr>\n",
              "  </tbody>\n",
              "</table>\n",
              "</div>"
            ],
            "text/plain": [
              "       Sentence    Type      Level  Target\n",
              "count    194572  194593     194593  194593\n",
              "unique    63324      14          4       6\n",
              "top          tg  Insult  VERY_HIGH    USER\n",
              "freq       1364  116947      66901   96997"
            ]
          },
          "metadata": {
            "tags": []
          },
          "execution_count": 5
        }
      ]
    },
    {
      "cell_type": "code",
      "metadata": {
        "colab": {
          "base_uri": "https://localhost:8080/",
          "height": 201
        },
        "id": "5Hxz8aSScuKh",
        "outputId": "b4d2ffa8-fe94-46b5-a115-ba766c8e8942"
      },
      "source": [
        "#Adding a class column prior to merging with neutral data\r\n",
        "hateful[\"Class\"] = 1\r\n",
        "hateful.head()"
      ],
      "execution_count": 6,
      "outputs": [
        {
          "output_type": "execute_result",
          "data": {
            "text/html": [
              "<div>\n",
              "<style scoped>\n",
              "    .dataframe tbody tr th:only-of-type {\n",
              "        vertical-align: middle;\n",
              "    }\n",
              "\n",
              "    .dataframe tbody tr th {\n",
              "        vertical-align: top;\n",
              "    }\n",
              "\n",
              "    .dataframe thead th {\n",
              "        text-align: right;\n",
              "    }\n",
              "</style>\n",
              "<table border=\"1\" class=\"dataframe\">\n",
              "  <thead>\n",
              "    <tr style=\"text-align: right;\">\n",
              "      <th></th>\n",
              "      <th>Sentence</th>\n",
              "      <th>Type</th>\n",
              "      <th>Level</th>\n",
              "      <th>Target</th>\n",
              "      <th>Class</th>\n",
              "    </tr>\n",
              "  </thead>\n",
              "  <tbody>\n",
              "    <tr>\n",
              "      <th>0</th>\n",
              "      <td>T pas Bo 😂😂🥃</td>\n",
              "      <td>Mockery</td>\n",
              "      <td>LOW</td>\n",
              "      <td>USER</td>\n",
              "      <td>1</td>\n",
              "    </tr>\n",
              "    <tr>\n",
              "      <th>1</th>\n",
              "      <td>t’es vilain 😂😂😂😂😂😂</td>\n",
              "      <td>Mockery</td>\n",
              "      <td>LOW</td>\n",
              "      <td>USER</td>\n",
              "      <td>1</td>\n",
              "    </tr>\n",
              "    <tr>\n",
              "      <th>2</th>\n",
              "      <td>Je te propose un d'île je m'abonne à ta chaine...</td>\n",
              "      <td>Hate</td>\n",
              "      <td>LOW</td>\n",
              "      <td>USER</td>\n",
              "      <td>1</td>\n",
              "    </tr>\n",
              "    <tr>\n",
              "      <th>3</th>\n",
              "      <td>T un kiko mdr</td>\n",
              "      <td>Insult</td>\n",
              "      <td>LOW</td>\n",
              "      <td>USER</td>\n",
              "      <td>1</td>\n",
              "    </tr>\n",
              "    <tr>\n",
              "      <th>4</th>\n",
              "      <td>Moi mdr t trop nul</td>\n",
              "      <td>Hate</td>\n",
              "      <td>LOW</td>\n",
              "      <td>USER</td>\n",
              "      <td>1</td>\n",
              "    </tr>\n",
              "  </tbody>\n",
              "</table>\n",
              "</div>"
            ],
            "text/plain": [
              "                                            Sentence     Type  ... Target Class\n",
              "0                                       T pas Bo 😂😂🥃  Mockery  ...   USER     1\n",
              "1                                 t’es vilain 😂😂😂😂😂😂  Mockery  ...   USER     1\n",
              "2  Je te propose un d'île je m'abonne à ta chaine...     Hate  ...   USER     1\n",
              "3                                      T un kiko mdr   Insult  ...   USER     1\n",
              "4                                 Moi mdr t trop nul     Hate  ...   USER     1\n",
              "\n",
              "[5 rows x 5 columns]"
            ]
          },
          "metadata": {
            "tags": []
          },
          "execution_count": 6
        }
      ]
    },
    {
      "cell_type": "code",
      "metadata": {
        "id": "ZB7e4GoFyesA"
      },
      "source": [
        "hateful.Sentence = hateful.Sentence.astype(str)"
      ],
      "execution_count": 7,
      "outputs": []
    },
    {
      "cell_type": "code",
      "metadata": {
        "colab": {
          "base_uri": "https://localhost:8080/"
        },
        "id": "j74gCVR11Bsq",
        "outputId": "da0a8701-2f80-4d10-b4ee-5e1479994678"
      },
      "source": [
        "neutral = pd.read_csv('/content/drive/My Drive/CS224n_Project/Neutrals_200k.csv', names=colnames, header=None)\r\n",
        "neutral.shape"
      ],
      "execution_count": 8,
      "outputs": [
        {
          "output_type": "execute_result",
          "data": {
            "text/plain": [
              "(200000, 4)"
            ]
          },
          "metadata": {
            "tags": []
          },
          "execution_count": 8
        }
      ]
    },
    {
      "cell_type": "code",
      "metadata": {
        "id": "FzED-qIe79Ji"
      },
      "source": [
        "neutral.Sentence = neutral.Sentence.astype(str)"
      ],
      "execution_count": 9,
      "outputs": []
    },
    {
      "cell_type": "code",
      "metadata": {
        "colab": {
          "base_uri": "https://localhost:8080/",
          "height": 201
        },
        "id": "bVCpFE4vc2Oj",
        "outputId": "2f465a49-89e8-4f98-f52a-2aea7681f4ae"
      },
      "source": [
        "#Adding a class column prior to merging with toxic data\r\n",
        "neutral[\"Class\"] = 0\r\n",
        "neutral.head()"
      ],
      "execution_count": 10,
      "outputs": [
        {
          "output_type": "execute_result",
          "data": {
            "text/html": [
              "<div>\n",
              "<style scoped>\n",
              "    .dataframe tbody tr th:only-of-type {\n",
              "        vertical-align: middle;\n",
              "    }\n",
              "\n",
              "    .dataframe tbody tr th {\n",
              "        vertical-align: top;\n",
              "    }\n",
              "\n",
              "    .dataframe thead th {\n",
              "        text-align: right;\n",
              "    }\n",
              "</style>\n",
              "<table border=\"1\" class=\"dataframe\">\n",
              "  <thead>\n",
              "    <tr style=\"text-align: right;\">\n",
              "      <th></th>\n",
              "      <th>Sentence</th>\n",
              "      <th>Type</th>\n",
              "      <th>Level</th>\n",
              "      <th>Target</th>\n",
              "      <th>Class</th>\n",
              "    </tr>\n",
              "  </thead>\n",
              "  <tbody>\n",
              "    <tr>\n",
              "      <th>0</th>\n",
              "      <td>Chui désolé, mais quand un film de science-fic...</td>\n",
              "      <td>Neutral</td>\n",
              "      <td>NONE</td>\n",
              "      <td>UNDEFINED</td>\n",
              "      <td>0</td>\n",
              "    </tr>\n",
              "    <tr>\n",
              "      <th>1</th>\n",
              "      <td>Mdrrr junior bvndo</td>\n",
              "      <td>Neutral</td>\n",
              "      <td>NONE</td>\n",
              "      <td>UNDEFINED</td>\n",
              "      <td>0</td>\n",
              "    </tr>\n",
              "    <tr>\n",
              "      <th>2</th>\n",
              "      <td>baham je taimz</td>\n",
              "      <td>Neutral</td>\n",
              "      <td>NONE</td>\n",
              "      <td>UNDEFINED</td>\n",
              "      <td>0</td>\n",
              "    </tr>\n",
              "    <tr>\n",
              "      <th>3</th>\n",
              "      <td>Meilleurs rappeurs de tout les temps 😂😂😂 je ri...</td>\n",
              "      <td>Neutral</td>\n",
              "      <td>NONE</td>\n",
              "      <td>UNDEFINED</td>\n",
              "      <td>0</td>\n",
              "    </tr>\n",
              "    <tr>\n",
              "      <th>4</th>\n",
              "      <td>7up❤️</td>\n",
              "      <td>Neutral</td>\n",
              "      <td>NONE</td>\n",
              "      <td>UNDEFINED</td>\n",
              "      <td>0</td>\n",
              "    </tr>\n",
              "  </tbody>\n",
              "</table>\n",
              "</div>"
            ],
            "text/plain": [
              "                                            Sentence     Type  ...     Target Class\n",
              "0  Chui désolé, mais quand un film de science-fic...  Neutral  ...  UNDEFINED     0\n",
              "1                                 Mdrrr junior bvndo  Neutral  ...  UNDEFINED     0\n",
              "2                                     baham je taimz  Neutral  ...  UNDEFINED     0\n",
              "3  Meilleurs rappeurs de tout les temps 😂😂😂 je ri...  Neutral  ...  UNDEFINED     0\n",
              "4                                              7up❤️  Neutral  ...  UNDEFINED     0\n",
              "\n",
              "[5 rows x 5 columns]"
            ]
          },
          "metadata": {
            "tags": []
          },
          "execution_count": 10
        }
      ]
    },
    {
      "cell_type": "code",
      "metadata": {
        "colab": {
          "base_uri": "https://localhost:8080/"
        },
        "id": "3MMEuN-rdhos",
        "outputId": "0cadd854-fb97-49d6-ab0f-3a5387ae5c3d"
      },
      "source": [
        "dataset = hateful.append([neutral], ignore_index=True)\r\n",
        "dataset.shape"
      ],
      "execution_count": 11,
      "outputs": [
        {
          "output_type": "execute_result",
          "data": {
            "text/plain": [
              "(394593, 5)"
            ]
          },
          "metadata": {
            "tags": []
          },
          "execution_count": 11
        }
      ]
    },
    {
      "cell_type": "code",
      "metadata": {
        "colab": {
          "base_uri": "https://localhost:8080/",
          "height": 201
        },
        "id": "KCdAX6lod9PE",
        "outputId": "daca5bdd-77c7-4456-ea31-71e3d1d11235"
      },
      "source": [
        "dataset.head()"
      ],
      "execution_count": 12,
      "outputs": [
        {
          "output_type": "execute_result",
          "data": {
            "text/html": [
              "<div>\n",
              "<style scoped>\n",
              "    .dataframe tbody tr th:only-of-type {\n",
              "        vertical-align: middle;\n",
              "    }\n",
              "\n",
              "    .dataframe tbody tr th {\n",
              "        vertical-align: top;\n",
              "    }\n",
              "\n",
              "    .dataframe thead th {\n",
              "        text-align: right;\n",
              "    }\n",
              "</style>\n",
              "<table border=\"1\" class=\"dataframe\">\n",
              "  <thead>\n",
              "    <tr style=\"text-align: right;\">\n",
              "      <th></th>\n",
              "      <th>Sentence</th>\n",
              "      <th>Type</th>\n",
              "      <th>Level</th>\n",
              "      <th>Target</th>\n",
              "      <th>Class</th>\n",
              "    </tr>\n",
              "  </thead>\n",
              "  <tbody>\n",
              "    <tr>\n",
              "      <th>0</th>\n",
              "      <td>T pas Bo 😂😂🥃</td>\n",
              "      <td>Mockery</td>\n",
              "      <td>LOW</td>\n",
              "      <td>USER</td>\n",
              "      <td>1</td>\n",
              "    </tr>\n",
              "    <tr>\n",
              "      <th>1</th>\n",
              "      <td>t’es vilain 😂😂😂😂😂😂</td>\n",
              "      <td>Mockery</td>\n",
              "      <td>LOW</td>\n",
              "      <td>USER</td>\n",
              "      <td>1</td>\n",
              "    </tr>\n",
              "    <tr>\n",
              "      <th>2</th>\n",
              "      <td>Je te propose un d'île je m'abonne à ta chaine...</td>\n",
              "      <td>Hate</td>\n",
              "      <td>LOW</td>\n",
              "      <td>USER</td>\n",
              "      <td>1</td>\n",
              "    </tr>\n",
              "    <tr>\n",
              "      <th>3</th>\n",
              "      <td>T un kiko mdr</td>\n",
              "      <td>Insult</td>\n",
              "      <td>LOW</td>\n",
              "      <td>USER</td>\n",
              "      <td>1</td>\n",
              "    </tr>\n",
              "    <tr>\n",
              "      <th>4</th>\n",
              "      <td>Moi mdr t trop nul</td>\n",
              "      <td>Hate</td>\n",
              "      <td>LOW</td>\n",
              "      <td>USER</td>\n",
              "      <td>1</td>\n",
              "    </tr>\n",
              "  </tbody>\n",
              "</table>\n",
              "</div>"
            ],
            "text/plain": [
              "                                            Sentence     Type  ... Target Class\n",
              "0                                       T pas Bo 😂😂🥃  Mockery  ...   USER     1\n",
              "1                                 t’es vilain 😂😂😂😂😂😂  Mockery  ...   USER     1\n",
              "2  Je te propose un d'île je m'abonne à ta chaine...     Hate  ...   USER     1\n",
              "3                                      T un kiko mdr   Insult  ...   USER     1\n",
              "4                                 Moi mdr t trop nul     Hate  ...   USER     1\n",
              "\n",
              "[5 rows x 5 columns]"
            ]
          },
          "metadata": {
            "tags": []
          },
          "execution_count": 12
        }
      ]
    },
    {
      "cell_type": "code",
      "metadata": {
        "colab": {
          "base_uri": "https://localhost:8080/",
          "height": 201
        },
        "id": "lJzbasK-d_3w",
        "outputId": "e07d73f0-aed3-47f4-f8b5-71362f5d70ce"
      },
      "source": [
        "dataset.tail()"
      ],
      "execution_count": 13,
      "outputs": [
        {
          "output_type": "execute_result",
          "data": {
            "text/html": [
              "<div>\n",
              "<style scoped>\n",
              "    .dataframe tbody tr th:only-of-type {\n",
              "        vertical-align: middle;\n",
              "    }\n",
              "\n",
              "    .dataframe tbody tr th {\n",
              "        vertical-align: top;\n",
              "    }\n",
              "\n",
              "    .dataframe thead th {\n",
              "        text-align: right;\n",
              "    }\n",
              "</style>\n",
              "<table border=\"1\" class=\"dataframe\">\n",
              "  <thead>\n",
              "    <tr style=\"text-align: right;\">\n",
              "      <th></th>\n",
              "      <th>Sentence</th>\n",
              "      <th>Type</th>\n",
              "      <th>Level</th>\n",
              "      <th>Target</th>\n",
              "      <th>Class</th>\n",
              "    </tr>\n",
              "  </thead>\n",
              "  <tbody>\n",
              "    <tr>\n",
              "      <th>394588</th>\n",
              "      <td>@studiosushi @Chitori_Bocchi evangelionnnnnnnn...</td>\n",
              "      <td>Neutral</td>\n",
              "      <td>NONE</td>\n",
              "      <td>UNDEFINED</td>\n",
              "      <td>0</td>\n",
              "    </tr>\n",
              "    <tr>\n",
              "      <th>394589</th>\n",
              "      <td>J'ai kiffer les 2 Baby sitter c drôle et horri...</td>\n",
              "      <td>Neutral</td>\n",
              "      <td>NONE</td>\n",
              "      <td>UNDEFINED</td>\n",
              "      <td>0</td>\n",
              "    </tr>\n",
              "    <tr>\n",
              "      <th>394590</th>\n",
              "      <td>Moi aussi je t'ai demandé si tu étais la premi...</td>\n",
              "      <td>Neutral</td>\n",
              "      <td>NONE</td>\n",
              "      <td>UNDEFINED</td>\n",
              "      <td>0</td>\n",
              "    </tr>\n",
              "    <tr>\n",
              "      <th>394591</th>\n",
              "      <td>venez on fait l' aphalbet</td>\n",
              "      <td>Neutral</td>\n",
              "      <td>NONE</td>\n",
              "      <td>UNDEFINED</td>\n",
              "      <td>0</td>\n",
              "    </tr>\n",
              "    <tr>\n",
              "      <th>394592</th>\n",
              "      <td>Bah oui 80% de la police france est pro RN ...</td>\n",
              "      <td>Neutral</td>\n",
              "      <td>NONE</td>\n",
              "      <td>UNDEFINED</td>\n",
              "      <td>0</td>\n",
              "    </tr>\n",
              "  </tbody>\n",
              "</table>\n",
              "</div>"
            ],
            "text/plain": [
              "                                                 Sentence  ... Class\n",
              "394588  @studiosushi @Chitori_Bocchi evangelionnnnnnnn...  ...     0\n",
              "394589  J'ai kiffer les 2 Baby sitter c drôle et horri...  ...     0\n",
              "394590  Moi aussi je t'ai demandé si tu étais la premi...  ...     0\n",
              "394591                          venez on fait l' aphalbet  ...     0\n",
              "394592     Bah oui 80% de la police france est pro RN ...  ...     0\n",
              "\n",
              "[5 rows x 5 columns]"
            ]
          },
          "metadata": {
            "tags": []
          },
          "execution_count": 13
        }
      ]
    },
    {
      "cell_type": "markdown",
      "metadata": {
        "id": "VR__5j4bwhqB"
      },
      "source": [
        "### Analyzing dataset"
      ]
    },
    {
      "cell_type": "code",
      "metadata": {
        "colab": {
          "base_uri": "https://localhost:8080/",
          "height": 323
        },
        "id": "_Kiwi0Zx2XCn",
        "outputId": "7cf92dd8-39eb-4963-f827-b5c7f96b8d92"
      },
      "source": [
        "dataset.groupby(['Target']).count()"
      ],
      "execution_count": 14,
      "outputs": [
        {
          "output_type": "execute_result",
          "data": {
            "text/html": [
              "<div>\n",
              "<style scoped>\n",
              "    .dataframe tbody tr th:only-of-type {\n",
              "        vertical-align: middle;\n",
              "    }\n",
              "\n",
              "    .dataframe tbody tr th {\n",
              "        vertical-align: top;\n",
              "    }\n",
              "\n",
              "    .dataframe thead th {\n",
              "        text-align: right;\n",
              "    }\n",
              "</style>\n",
              "<table border=\"1\" class=\"dataframe\">\n",
              "  <thead>\n",
              "    <tr style=\"text-align: right;\">\n",
              "      <th></th>\n",
              "      <th>Sentence</th>\n",
              "      <th>Type</th>\n",
              "      <th>Level</th>\n",
              "      <th>Class</th>\n",
              "    </tr>\n",
              "    <tr>\n",
              "      <th>Target</th>\n",
              "      <th></th>\n",
              "      <th></th>\n",
              "      <th></th>\n",
              "      <th></th>\n",
              "    </tr>\n",
              "  </thead>\n",
              "  <tbody>\n",
              "    <tr>\n",
              "      <th>AUTHOR_OF_COMMENT</th>\n",
              "      <td>2547</td>\n",
              "      <td>2547</td>\n",
              "      <td>2547</td>\n",
              "      <td>2547</td>\n",
              "    </tr>\n",
              "    <tr>\n",
              "      <th>EVERYONE</th>\n",
              "      <td>16603</td>\n",
              "      <td>16603</td>\n",
              "      <td>16603</td>\n",
              "      <td>16603</td>\n",
              "    </tr>\n",
              "    <tr>\n",
              "      <th>GROUP</th>\n",
              "      <td>36083</td>\n",
              "      <td>36083</td>\n",
              "      <td>36083</td>\n",
              "      <td>36083</td>\n",
              "    </tr>\n",
              "    <tr>\n",
              "      <th>NO_ONE</th>\n",
              "      <td>1</td>\n",
              "      <td>1</td>\n",
              "      <td>1</td>\n",
              "      <td>1</td>\n",
              "    </tr>\n",
              "    <tr>\n",
              "      <th>SINGLE_PERSON</th>\n",
              "      <td>36128</td>\n",
              "      <td>36128</td>\n",
              "      <td>36128</td>\n",
              "      <td>36128</td>\n",
              "    </tr>\n",
              "    <tr>\n",
              "      <th>UNDEFINED</th>\n",
              "      <td>199191</td>\n",
              "      <td>199191</td>\n",
              "      <td>199191</td>\n",
              "      <td>199191</td>\n",
              "    </tr>\n",
              "    <tr>\n",
              "      <th>USER</th>\n",
              "      <td>97574</td>\n",
              "      <td>97574</td>\n",
              "      <td>97574</td>\n",
              "      <td>97574</td>\n",
              "    </tr>\n",
              "    <tr>\n",
              "      <th>USER_FAMILY</th>\n",
              "      <td>6466</td>\n",
              "      <td>6466</td>\n",
              "      <td>6466</td>\n",
              "      <td>6466</td>\n",
              "    </tr>\n",
              "  </tbody>\n",
              "</table>\n",
              "</div>"
            ],
            "text/plain": [
              "                   Sentence    Type   Level   Class\n",
              "Target                                             \n",
              "AUTHOR_OF_COMMENT      2547    2547    2547    2547\n",
              "EVERYONE              16603   16603   16603   16603\n",
              "GROUP                 36083   36083   36083   36083\n",
              "NO_ONE                    1       1       1       1\n",
              "SINGLE_PERSON         36128   36128   36128   36128\n",
              "UNDEFINED            199191  199191  199191  199191\n",
              "USER                  97574   97574   97574   97574\n",
              "USER_FAMILY            6466    6466    6466    6466"
            ]
          },
          "metadata": {
            "tags": []
          },
          "execution_count": 14
        }
      ]
    },
    {
      "cell_type": "code",
      "metadata": {
        "colab": {
          "base_uri": "https://localhost:8080/",
          "height": 414
        },
        "id": "JkR8u92JwRgF",
        "outputId": "47b0b4bd-660b-4617-9974-1d8074a0755a"
      },
      "source": [
        "plt.figure(figsize=(20,5))\r\n",
        "chart = sns.countplot(\"Target\", data=dataset)\r\n",
        "chart.set_xticklabels(chart.get_xticklabels(), rotation=45)\r\n",
        "plt.show()"
      ],
      "execution_count": 15,
      "outputs": [
        {
          "output_type": "display_data",
          "data": {
            "image/png": "[encoded data removed]",
            "text/plain": [
              "<Figure size 1440x360 with 1 Axes>"
            ]
          },
          "metadata": {
            "tags": [],
            "needs_background": "light"
          }
        }
      ]
    },
    {
      "cell_type": "code",
      "metadata": {
        "colab": {
          "base_uri": "https://localhost:8080/",
          "height": 506
        },
        "id": "OmuPXJBsmyyU",
        "outputId": "7ac63201-761f-42ce-df30-7f04940c0f24"
      },
      "source": [
        "dataset.groupby(['Type']).count()"
      ],
      "execution_count": 16,
      "outputs": [
        {
          "output_type": "execute_result",
          "data": {
            "text/html": [
              "<div>\n",
              "<style scoped>\n",
              "    .dataframe tbody tr th:only-of-type {\n",
              "        vertical-align: middle;\n",
              "    }\n",
              "\n",
              "    .dataframe tbody tr th {\n",
              "        vertical-align: top;\n",
              "    }\n",
              "\n",
              "    .dataframe thead th {\n",
              "        text-align: right;\n",
              "    }\n",
              "</style>\n",
              "<table border=\"1\" class=\"dataframe\">\n",
              "  <thead>\n",
              "    <tr style=\"text-align: right;\">\n",
              "      <th></th>\n",
              "      <th>Sentence</th>\n",
              "      <th>Level</th>\n",
              "      <th>Target</th>\n",
              "      <th>Class</th>\n",
              "    </tr>\n",
              "    <tr>\n",
              "      <th>Type</th>\n",
              "      <th></th>\n",
              "      <th></th>\n",
              "      <th></th>\n",
              "      <th></th>\n",
              "    </tr>\n",
              "  </thead>\n",
              "  <tbody>\n",
              "    <tr>\n",
              "      <th>Ads</th>\n",
              "      <td>27</td>\n",
              "      <td>27</td>\n",
              "      <td>27</td>\n",
              "      <td>27</td>\n",
              "    </tr>\n",
              "    <tr>\n",
              "      <th>Critics</th>\n",
              "      <td>15</td>\n",
              "      <td>15</td>\n",
              "      <td>15</td>\n",
              "      <td>15</td>\n",
              "    </tr>\n",
              "    <tr>\n",
              "      <th>Hate</th>\n",
              "      <td>37293</td>\n",
              "      <td>37293</td>\n",
              "      <td>37293</td>\n",
              "      <td>37293</td>\n",
              "    </tr>\n",
              "    <tr>\n",
              "      <th>Homophobia</th>\n",
              "      <td>12256</td>\n",
              "      <td>12256</td>\n",
              "      <td>12256</td>\n",
              "      <td>12256</td>\n",
              "    </tr>\n",
              "    <tr>\n",
              "      <th>Insult</th>\n",
              "      <td>116947</td>\n",
              "      <td>116947</td>\n",
              "      <td>116947</td>\n",
              "      <td>116947</td>\n",
              "    </tr>\n",
              "    <tr>\n",
              "      <th>Misogyny</th>\n",
              "      <td>6</td>\n",
              "      <td>6</td>\n",
              "      <td>6</td>\n",
              "      <td>6</td>\n",
              "    </tr>\n",
              "    <tr>\n",
              "      <th>Mockery</th>\n",
              "      <td>13950</td>\n",
              "      <td>13950</td>\n",
              "      <td>13950</td>\n",
              "      <td>13950</td>\n",
              "    </tr>\n",
              "    <tr>\n",
              "      <th>Moral Harassment</th>\n",
              "      <td>1583</td>\n",
              "      <td>1583</td>\n",
              "      <td>1583</td>\n",
              "      <td>1583</td>\n",
              "    </tr>\n",
              "    <tr>\n",
              "      <th>Neutral</th>\n",
              "      <td>200009</td>\n",
              "      <td>200009</td>\n",
              "      <td>200009</td>\n",
              "      <td>200009</td>\n",
              "    </tr>\n",
              "    <tr>\n",
              "      <th>Racism</th>\n",
              "      <td>2143</td>\n",
              "      <td>2143</td>\n",
              "      <td>2143</td>\n",
              "      <td>2143</td>\n",
              "    </tr>\n",
              "    <tr>\n",
              "      <th>Sexual Harassment</th>\n",
              "      <td>4603</td>\n",
              "      <td>4603</td>\n",
              "      <td>4603</td>\n",
              "      <td>4603</td>\n",
              "    </tr>\n",
              "    <tr>\n",
              "      <th>Threat</th>\n",
              "      <td>2282</td>\n",
              "      <td>2282</td>\n",
              "      <td>2282</td>\n",
              "      <td>2282</td>\n",
              "    </tr>\n",
              "    <tr>\n",
              "      <th>Troll</th>\n",
              "      <td>3461</td>\n",
              "      <td>3461</td>\n",
              "      <td>3461</td>\n",
              "      <td>3461</td>\n",
              "    </tr>\n",
              "    <tr>\n",
              "      <th>Useless</th>\n",
              "      <td>18</td>\n",
              "      <td>18</td>\n",
              "      <td>18</td>\n",
              "      <td>18</td>\n",
              "    </tr>\n",
              "  </tbody>\n",
              "</table>\n",
              "</div>"
            ],
            "text/plain": [
              "                   Sentence   Level  Target   Class\n",
              "Type                                               \n",
              "Ads                      27      27      27      27\n",
              "Critics                  15      15      15      15\n",
              "Hate                  37293   37293   37293   37293\n",
              "Homophobia            12256   12256   12256   12256\n",
              "Insult               116947  116947  116947  116947\n",
              "Misogyny                  6       6       6       6\n",
              "Mockery               13950   13950   13950   13950\n",
              "Moral Harassment       1583    1583    1583    1583\n",
              "Neutral              200009  200009  200009  200009\n",
              "Racism                 2143    2143    2143    2143\n",
              "Sexual Harassment      4603    4603    4603    4603\n",
              "Threat                 2282    2282    2282    2282\n",
              "Troll                  3461    3461    3461    3461\n",
              "Useless                  18      18      18      18"
            ]
          },
          "metadata": {
            "tags": []
          },
          "execution_count": 16
        }
      ]
    },
    {
      "cell_type": "code",
      "metadata": {
        "colab": {
          "base_uri": "https://localhost:8080/",
          "height": 231
        },
        "id": "BgdNEV-t24Td",
        "outputId": "83f2afe3-4131-4398-ce99-7764f45981d6"
      },
      "source": [
        "dataset.groupby(['Level']).count()"
      ],
      "execution_count": 17,
      "outputs": [
        {
          "output_type": "execute_result",
          "data": {
            "text/html": [
              "<div>\n",
              "<style scoped>\n",
              "    .dataframe tbody tr th:only-of-type {\n",
              "        vertical-align: middle;\n",
              "    }\n",
              "\n",
              "    .dataframe tbody tr th {\n",
              "        vertical-align: top;\n",
              "    }\n",
              "\n",
              "    .dataframe thead th {\n",
              "        text-align: right;\n",
              "    }\n",
              "</style>\n",
              "<table border=\"1\" class=\"dataframe\">\n",
              "  <thead>\n",
              "    <tr style=\"text-align: right;\">\n",
              "      <th></th>\n",
              "      <th>Sentence</th>\n",
              "      <th>Type</th>\n",
              "      <th>Target</th>\n",
              "      <th>Class</th>\n",
              "    </tr>\n",
              "    <tr>\n",
              "      <th>Level</th>\n",
              "      <th></th>\n",
              "      <th></th>\n",
              "      <th></th>\n",
              "      <th></th>\n",
              "    </tr>\n",
              "  </thead>\n",
              "  <tbody>\n",
              "    <tr>\n",
              "      <th>HIGH</th>\n",
              "      <td>53358</td>\n",
              "      <td>53358</td>\n",
              "      <td>53358</td>\n",
              "      <td>53358</td>\n",
              "    </tr>\n",
              "    <tr>\n",
              "      <th>LOW</th>\n",
              "      <td>28016</td>\n",
              "      <td>28016</td>\n",
              "      <td>28016</td>\n",
              "      <td>28016</td>\n",
              "    </tr>\n",
              "    <tr>\n",
              "      <th>MEDIUM</th>\n",
              "      <td>46880</td>\n",
              "      <td>46880</td>\n",
              "      <td>46880</td>\n",
              "      <td>46880</td>\n",
              "    </tr>\n",
              "    <tr>\n",
              "      <th>NONE</th>\n",
              "      <td>199189</td>\n",
              "      <td>199189</td>\n",
              "      <td>199189</td>\n",
              "      <td>199189</td>\n",
              "    </tr>\n",
              "    <tr>\n",
              "      <th>VERY_HIGH</th>\n",
              "      <td>67150</td>\n",
              "      <td>67150</td>\n",
              "      <td>67150</td>\n",
              "      <td>67150</td>\n",
              "    </tr>\n",
              "  </tbody>\n",
              "</table>\n",
              "</div>"
            ],
            "text/plain": [
              "           Sentence    Type  Target   Class\n",
              "Level                                      \n",
              "HIGH          53358   53358   53358   53358\n",
              "LOW           28016   28016   28016   28016\n",
              "MEDIUM        46880   46880   46880   46880\n",
              "NONE         199189  199189  199189  199189\n",
              "VERY_HIGH     67150   67150   67150   67150"
            ]
          },
          "metadata": {
            "tags": []
          },
          "execution_count": 17
        }
      ]
    },
    {
      "cell_type": "code",
      "metadata": {
        "colab": {
          "base_uri": "https://localhost:8080/",
          "height": 262
        },
        "id": "UdD0_lqo3UpV",
        "outputId": "6003ae94-7492-431c-fe15-6bac613cd1e5"
      },
      "source": [
        "dataset_stats = dataset.groupby(['Target', 'Level']).size().reset_index(name='count')\r\n",
        "pd.pivot_table(dataset_stats, index=['Level'], columns = ['Target'],values=['count'], fill_value=0)"
      ],
      "execution_count": 18,
      "outputs": [
        {
          "output_type": "execute_result",
          "data": {
            "text/html": [
              "<div>\n",
              "<style scoped>\n",
              "    .dataframe tbody tr th:only-of-type {\n",
              "        vertical-align: middle;\n",
              "    }\n",
              "\n",
              "    .dataframe tbody tr th {\n",
              "        vertical-align: top;\n",
              "    }\n",
              "\n",
              "    .dataframe thead tr th {\n",
              "        text-align: left;\n",
              "    }\n",
              "\n",
              "    .dataframe thead tr:last-of-type th {\n",
              "        text-align: right;\n",
              "    }\n",
              "</style>\n",
              "<table border=\"1\" class=\"dataframe\">\n",
              "  <thead>\n",
              "    <tr>\n",
              "      <th></th>\n",
              "      <th colspan=\"8\" halign=\"left\">count</th>\n",
              "    </tr>\n",
              "    <tr>\n",
              "      <th>Target</th>\n",
              "      <th>AUTHOR_OF_COMMENT</th>\n",
              "      <th>EVERYONE</th>\n",
              "      <th>GROUP</th>\n",
              "      <th>NO_ONE</th>\n",
              "      <th>SINGLE_PERSON</th>\n",
              "      <th>UNDEFINED</th>\n",
              "      <th>USER</th>\n",
              "      <th>USER_FAMILY</th>\n",
              "    </tr>\n",
              "    <tr>\n",
              "      <th>Level</th>\n",
              "      <th></th>\n",
              "      <th></th>\n",
              "      <th></th>\n",
              "      <th></th>\n",
              "      <th></th>\n",
              "      <th></th>\n",
              "      <th></th>\n",
              "      <th></th>\n",
              "    </tr>\n",
              "  </thead>\n",
              "  <tbody>\n",
              "    <tr>\n",
              "      <th>HIGH</th>\n",
              "      <td>189</td>\n",
              "      <td>3952</td>\n",
              "      <td>9004</td>\n",
              "      <td>0</td>\n",
              "      <td>9008</td>\n",
              "      <td>4</td>\n",
              "      <td>27624</td>\n",
              "      <td>3577</td>\n",
              "    </tr>\n",
              "    <tr>\n",
              "      <th>LOW</th>\n",
              "      <td>1350</td>\n",
              "      <td>2743</td>\n",
              "      <td>9031</td>\n",
              "      <td>0</td>\n",
              "      <td>9032</td>\n",
              "      <td>1</td>\n",
              "      <td>5481</td>\n",
              "      <td>378</td>\n",
              "    </tr>\n",
              "    <tr>\n",
              "      <th>MEDIUM</th>\n",
              "      <td>837</td>\n",
              "      <td>2125</td>\n",
              "      <td>9036</td>\n",
              "      <td>1</td>\n",
              "      <td>9032</td>\n",
              "      <td>14</td>\n",
              "      <td>24422</td>\n",
              "      <td>1413</td>\n",
              "    </tr>\n",
              "    <tr>\n",
              "      <th>NONE</th>\n",
              "      <td>0</td>\n",
              "      <td>4</td>\n",
              "      <td>0</td>\n",
              "      <td>0</td>\n",
              "      <td>1</td>\n",
              "      <td>199171</td>\n",
              "      <td>13</td>\n",
              "      <td>0</td>\n",
              "    </tr>\n",
              "    <tr>\n",
              "      <th>VERY_HIGH</th>\n",
              "      <td>171</td>\n",
              "      <td>7779</td>\n",
              "      <td>9012</td>\n",
              "      <td>0</td>\n",
              "      <td>9055</td>\n",
              "      <td>1</td>\n",
              "      <td>40034</td>\n",
              "      <td>1098</td>\n",
              "    </tr>\n",
              "  </tbody>\n",
              "</table>\n",
              "</div>"
            ],
            "text/plain": [
              "                      count                 ...                             \n",
              "Target    AUTHOR_OF_COMMENT EVERYONE GROUP  ... UNDEFINED   USER USER_FAMILY\n",
              "Level                                       ...                             \n",
              "HIGH                    189     3952  9004  ...         4  27624        3577\n",
              "LOW                    1350     2743  9031  ...         1   5481         378\n",
              "MEDIUM                  837     2125  9036  ...        14  24422        1413\n",
              "NONE                      0        4     0  ...    199171     13           0\n",
              "VERY_HIGH               171     7779  9012  ...         1  40034        1098\n",
              "\n",
              "[5 rows x 8 columns]"
            ]
          },
          "metadata": {
            "tags": []
          },
          "execution_count": 18
        }
      ]
    },
    {
      "cell_type": "code",
      "metadata": {
        "colab": {
          "base_uri": "https://localhost:8080/",
          "height": 67
        },
        "id": "GRdPi_wew2us",
        "outputId": "9fd95e4b-1a24-4c24-e1df-4f1e54030473"
      },
      "source": [
        "#Checking if empty Sentences exist\r\n",
        "empty_index = [index for index,text in enumerate(dataset.Sentence.values) if str(text).strip() == '']\r\n",
        "print(\"No of empty rows: {}\".format(len(empty_index)))\r\n",
        "hateful.iloc[empty_index].tail()"
      ],
      "execution_count": 19,
      "outputs": [
        {
          "output_type": "stream",
          "text": [
            "No of empty rows: 0\n"
          ],
          "name": "stdout"
        },
        {
          "output_type": "execute_result",
          "data": {
            "text/html": [
              "<div>\n",
              "<style scoped>\n",
              "    .dataframe tbody tr th:only-of-type {\n",
              "        vertical-align: middle;\n",
              "    }\n",
              "\n",
              "    .dataframe tbody tr th {\n",
              "        vertical-align: top;\n",
              "    }\n",
              "\n",
              "    .dataframe thead th {\n",
              "        text-align: right;\n",
              "    }\n",
              "</style>\n",
              "<table border=\"1\" class=\"dataframe\">\n",
              "  <thead>\n",
              "    <tr style=\"text-align: right;\">\n",
              "      <th></th>\n",
              "      <th>Sentence</th>\n",
              "      <th>Type</th>\n",
              "      <th>Level</th>\n",
              "      <th>Target</th>\n",
              "      <th>Class</th>\n",
              "    </tr>\n",
              "  </thead>\n",
              "  <tbody>\n",
              "  </tbody>\n",
              "</table>\n",
              "</div>"
            ],
            "text/plain": [
              "Empty DataFrame\n",
              "Columns: [Sentence, Type, Level, Target, Class]\n",
              "Index: []"
            ]
          },
          "metadata": {
            "tags": []
          },
          "execution_count": 19
        }
      ]
    },
    {
      "cell_type": "code",
      "metadata": {
        "id": "j_QjKMnxN6KZ"
      },
      "source": [
        "#Removing row with \"NO_ONE\" target\r\n",
        "dataset[dataset['Target']==\"NO_ONE\"]\r\n",
        "dataset = dataset.drop(dataset[dataset['Target']==\"NO_ONE\"].index)"
      ],
      "execution_count": 20,
      "outputs": []
    },
    {
      "cell_type": "code",
      "metadata": {
        "colab": {
          "base_uri": "https://localhost:8080/"
        },
        "id": "-NKwLTdG7t89",
        "outputId": "e6326da3-21b0-4495-b298-b373faa1bd30"
      },
      "source": [
        "#Checking frequent words\r\n",
        "cnt = Counter()\r\n",
        "for text in dataset[\"Sentence\"].values:\r\n",
        "    for word in text.split():\r\n",
        "        cnt[word] += 1\r\n",
        "        \r\n",
        "cnt.most_common(20)"
      ],
      "execution_count": 21,
      "outputs": [
        {
          "output_type": "execute_result",
          "data": {
            "text/plain": [
              "[('de', 212725),\n",
              " ('la', 117592),\n",
              " ('et', 104727),\n",
              " ('le', 99444),\n",
              " ('les', 94956),\n",
              " ('pas', 85171),\n",
              " ('que', 81618),\n",
              " ('des', 72993),\n",
              " ('à', 66654),\n",
              " ('un', 63619),\n",
              " ('a', 58883),\n",
              " ('je', 58172),\n",
              " ('pour', 57210),\n",
              " ('en', 56610),\n",
              " ('qui', 55488),\n",
              " ('est', 54054),\n",
              " ('tu', 51424),\n",
              " ('vous', 42380),\n",
              " ('une', 41758),\n",
              " ('il', 39910)]"
            ]
          },
          "metadata": {
            "tags": []
          },
          "execution_count": 21
        }
      ]
    },
    {
      "cell_type": "code",
      "metadata": {
        "id": "aNmoYMfW9Jhi"
      },
      "source": [
        "#Checking average sentence length vs toxicity level\r\n",
        "dataset['Length'] = dataset['Sentence'].apply(len)\r\n",
        "#fig,(ax1, ax2) = plt.subplots(1,2)\r\n",
        "#sns.barplot('Level','Length',data = dataset,palette='PRGn',ax=ax1).set_title('Avg Sentence Length vs Level')\r\n",
        "#sns.barplot('Target','Length',data = dataset,palette='PRGn',ax=ax2).set_title('Avg Sentence Length vs Target')\r\n",
        "#plt.setp(ax1.xaxis.get_majorticklabels(), rotation=45)\r\n",
        "#plt.setp(ax2.xaxis.get_majorticklabels(), rotation=45)\r\n",
        "#fig.tight_layout()"
      ],
      "execution_count": 22,
      "outputs": []
    },
    {
      "cell_type": "code",
      "metadata": {
        "id": "09K4iY87DrNI"
      },
      "source": [
        "#Checking average word number vs toxicity level\r\n",
        "dataset['Count'] = dataset['Sentence'].str.split().str.len()\r\n",
        "#fig,(ax1, ax2) = plt.subplots(1,2)\r\n",
        "#sns.barplot('Level','Count',data = dataset,palette='PRGn',ax=ax1).set_title('Average Word Count vs Level')\r\n",
        "#sns.barplot('Target','Count',data = dataset,palette='PRGn',ax=ax2).set_title('Average Word Count vs Target')\r\n",
        "#plt.setp(ax1.xaxis.get_majorticklabels(), rotation=45)\r\n",
        "#plt.setp(ax2.xaxis.get_majorticklabels(), rotation=45)\r\n",
        "#fig.tight_layout()"
      ],
      "execution_count": 23,
      "outputs": []
    },
    {
      "cell_type": "markdown",
      "metadata": {
        "id": "Vm9P9tecc_hC"
      },
      "source": [
        "### Cleaning dataset"
      ]
    },
    {
      "cell_type": "code",
      "metadata": {
        "colab": {
          "base_uri": "https://localhost:8080/",
          "height": 201
        },
        "id": "8ehbFxoK4wkG",
        "outputId": "c54b8278-7899-4dc4-873f-fe12a0febfad"
      },
      "source": [
        "#Lowering all sentences\r\n",
        "\r\n",
        "dataset['cleanSentence'] = dataset['Sentence'].apply(lambda x: x.lower())\r\n",
        "dataset.head()"
      ],
      "execution_count": 24,
      "outputs": [
        {
          "output_type": "execute_result",
          "data": {
            "text/html": [
              "<div>\n",
              "<style scoped>\n",
              "    .dataframe tbody tr th:only-of-type {\n",
              "        vertical-align: middle;\n",
              "    }\n",
              "\n",
              "    .dataframe tbody tr th {\n",
              "        vertical-align: top;\n",
              "    }\n",
              "\n",
              "    .dataframe thead th {\n",
              "        text-align: right;\n",
              "    }\n",
              "</style>\n",
              "<table border=\"1\" class=\"dataframe\">\n",
              "  <thead>\n",
              "    <tr style=\"text-align: right;\">\n",
              "      <th></th>\n",
              "      <th>Sentence</th>\n",
              "      <th>Type</th>\n",
              "      <th>Level</th>\n",
              "      <th>Target</th>\n",
              "      <th>Class</th>\n",
              "      <th>Length</th>\n",
              "      <th>Count</th>\n",
              "      <th>cleanSentence</th>\n",
              "    </tr>\n",
              "  </thead>\n",
              "  <tbody>\n",
              "    <tr>\n",
              "      <th>0</th>\n",
              "      <td>T pas Bo 😂😂🥃</td>\n",
              "      <td>Mockery</td>\n",
              "      <td>LOW</td>\n",
              "      <td>USER</td>\n",
              "      <td>1</td>\n",
              "      <td>12</td>\n",
              "      <td>4</td>\n",
              "      <td>t pas bo 😂😂🥃</td>\n",
              "    </tr>\n",
              "    <tr>\n",
              "      <th>1</th>\n",
              "      <td>t’es vilain 😂😂😂😂😂😂</td>\n",
              "      <td>Mockery</td>\n",
              "      <td>LOW</td>\n",
              "      <td>USER</td>\n",
              "      <td>1</td>\n",
              "      <td>18</td>\n",
              "      <td>3</td>\n",
              "      <td>t’es vilain 😂😂😂😂😂😂</td>\n",
              "    </tr>\n",
              "    <tr>\n",
              "      <th>2</th>\n",
              "      <td>Je te propose un d'île je m'abonne à ta chaine...</td>\n",
              "      <td>Hate</td>\n",
              "      <td>LOW</td>\n",
              "      <td>USER</td>\n",
              "      <td>1</td>\n",
              "      <td>189</td>\n",
              "      <td>37</td>\n",
              "      <td>je te propose un d'île je m'abonne à ta chaine...</td>\n",
              "    </tr>\n",
              "    <tr>\n",
              "      <th>3</th>\n",
              "      <td>T un kiko mdr</td>\n",
              "      <td>Insult</td>\n",
              "      <td>LOW</td>\n",
              "      <td>USER</td>\n",
              "      <td>1</td>\n",
              "      <td>13</td>\n",
              "      <td>4</td>\n",
              "      <td>t un kiko mdr</td>\n",
              "    </tr>\n",
              "    <tr>\n",
              "      <th>4</th>\n",
              "      <td>Moi mdr t trop nul</td>\n",
              "      <td>Hate</td>\n",
              "      <td>LOW</td>\n",
              "      <td>USER</td>\n",
              "      <td>1</td>\n",
              "      <td>18</td>\n",
              "      <td>5</td>\n",
              "      <td>moi mdr t trop nul</td>\n",
              "    </tr>\n",
              "  </tbody>\n",
              "</table>\n",
              "</div>"
            ],
            "text/plain": [
              "                                            Sentence  ...                                      cleanSentence\n",
              "0                                       T pas Bo 😂😂🥃  ...                                       t pas bo 😂😂🥃\n",
              "1                                 t’es vilain 😂😂😂😂😂😂  ...                                 t’es vilain 😂😂😂😂😂😂\n",
              "2  Je te propose un d'île je m'abonne à ta chaine...  ...  je te propose un d'île je m'abonne à ta chaine...\n",
              "3                                      T un kiko mdr  ...                                      t un kiko mdr\n",
              "4                                 Moi mdr t trop nul  ...                                 moi mdr t trop nul\n",
              "\n",
              "[5 rows x 8 columns]"
            ]
          },
          "metadata": {
            "tags": []
          },
          "execution_count": 24
        }
      ]
    },
    {
      "cell_type": "code",
      "metadata": {
        "colab": {
          "base_uri": "https://localhost:8080/",
          "height": 372
        },
        "id": "qbYGDPOL4WBL",
        "outputId": "cd8a43a4-6e58-4f0f-8af9-4733b5f8fbcd"
      },
      "source": [
        "#Dealing with emojis\r\n",
        "!pip install emoji\r\n",
        "import emoji\r\n",
        "\r\n",
        "#does the text contain an emoji?\r\n",
        "def text_has_emoji(text):\r\n",
        "    for character in text:\r\n",
        "        if character in emoji.UNICODE_EMOJI[\"en\"]:\r\n",
        "            return True\r\n",
        "    return False\r\n",
        "\r\n",
        "#extract emojis for possible future use\r\n",
        "def extract_emoji(text):\r\n",
        "    emoji_list = []\r\n",
        "    data = re.findall(r'[^\\w\\s,]', text)\r\n",
        "    for word in data:\r\n",
        "        if any(char in emoji.UNICODE_EMOJI[\"en\"] for char in word):\r\n",
        "            emoji_list.append(word)\r\n",
        "    return emoji_list\r\n",
        "\r\n",
        "#remove the emoji\r\n",
        "def remove_emoji(text):\r\n",
        "  data = re.findall(r'[^\\w\\s,]', text)\r\n",
        "  for word in data:\r\n",
        "      if any(char in emoji.UNICODE_EMOJI[\"en\"] for char in word):\r\n",
        "          text = text.replace(word, '')\r\n",
        "  return text\r\n",
        "\r\n",
        "# Checking if emoji in source Sentence\r\n",
        "dataset['Emoji'] = dataset['Sentence'].apply(extract_emoji)\r\n",
        "\r\n",
        "# Removing Emojis from Sentence\r\n",
        "dataset['cleanSentence'] = dataset['cleanSentence'].apply(remove_emoji)\r\n",
        "dataset.head(10)"
      ],
      "execution_count": 25,
      "outputs": [
        {
          "output_type": "stream",
          "text": [
            "Requirement already satisfied: emoji in /usr/local/lib/python3.7/dist-packages (1.2.0)\n"
          ],
          "name": "stdout"
        },
        {
          "output_type": "execute_result",
          "data": {
            "text/html": [
              "<div>\n",
              "<style scoped>\n",
              "    .dataframe tbody tr th:only-of-type {\n",
              "        vertical-align: middle;\n",
              "    }\n",
              "\n",
              "    .dataframe tbody tr th {\n",
              "        vertical-align: top;\n",
              "    }\n",
              "\n",
              "    .dataframe thead th {\n",
              "        text-align: right;\n",
              "    }\n",
              "</style>\n",
              "<table border=\"1\" class=\"dataframe\">\n",
              "  <thead>\n",
              "    <tr style=\"text-align: right;\">\n",
              "      <th></th>\n",
              "      <th>Sentence</th>\n",
              "      <th>Type</th>\n",
              "      <th>Level</th>\n",
              "      <th>Target</th>\n",
              "      <th>Class</th>\n",
              "      <th>Length</th>\n",
              "      <th>Count</th>\n",
              "      <th>cleanSentence</th>\n",
              "      <th>Emoji</th>\n",
              "    </tr>\n",
              "  </thead>\n",
              "  <tbody>\n",
              "    <tr>\n",
              "      <th>0</th>\n",
              "      <td>T pas Bo 😂😂🥃</td>\n",
              "      <td>Mockery</td>\n",
              "      <td>LOW</td>\n",
              "      <td>USER</td>\n",
              "      <td>1</td>\n",
              "      <td>12</td>\n",
              "      <td>4</td>\n",
              "      <td>t pas bo</td>\n",
              "      <td>[😂, 😂, 🥃]</td>\n",
              "    </tr>\n",
              "    <tr>\n",
              "      <th>1</th>\n",
              "      <td>t’es vilain 😂😂😂😂😂😂</td>\n",
              "      <td>Mockery</td>\n",
              "      <td>LOW</td>\n",
              "      <td>USER</td>\n",
              "      <td>1</td>\n",
              "      <td>18</td>\n",
              "      <td>3</td>\n",
              "      <td>t’es vilain</td>\n",
              "      <td>[😂, 😂, 😂, 😂, 😂, 😂]</td>\n",
              "    </tr>\n",
              "    <tr>\n",
              "      <th>2</th>\n",
              "      <td>Je te propose un d'île je m'abonne à ta chaine...</td>\n",
              "      <td>Hate</td>\n",
              "      <td>LOW</td>\n",
              "      <td>USER</td>\n",
              "      <td>1</td>\n",
              "      <td>189</td>\n",
              "      <td>37</td>\n",
              "      <td>je te propose un d'île je m'abonne à ta chaine...</td>\n",
              "      <td>[]</td>\n",
              "    </tr>\n",
              "    <tr>\n",
              "      <th>3</th>\n",
              "      <td>T un kiko mdr</td>\n",
              "      <td>Insult</td>\n",
              "      <td>LOW</td>\n",
              "      <td>USER</td>\n",
              "      <td>1</td>\n",
              "      <td>13</td>\n",
              "      <td>4</td>\n",
              "      <td>t un kiko mdr</td>\n",
              "      <td>[]</td>\n",
              "    </tr>\n",
              "    <tr>\n",
              "      <th>4</th>\n",
              "      <td>Moi mdr t trop nul</td>\n",
              "      <td>Hate</td>\n",
              "      <td>LOW</td>\n",
              "      <td>USER</td>\n",
              "      <td>1</td>\n",
              "      <td>18</td>\n",
              "      <td>5</td>\n",
              "      <td>moi mdr t trop nul</td>\n",
              "      <td>[]</td>\n",
              "    </tr>\n",
              "    <tr>\n",
              "      <th>5</th>\n",
              "      <td>Ta un mono sourcils 😂</td>\n",
              "      <td>Mockery</td>\n",
              "      <td>LOW</td>\n",
              "      <td>USER</td>\n",
              "      <td>1</td>\n",
              "      <td>21</td>\n",
              "      <td>5</td>\n",
              "      <td>ta un mono sourcils</td>\n",
              "      <td>[😂]</td>\n",
              "    </tr>\n",
              "    <tr>\n",
              "      <th>6</th>\n",
              "      <td>Grosse merdes</td>\n",
              "      <td>Insult</td>\n",
              "      <td>LOW</td>\n",
              "      <td>USER</td>\n",
              "      <td>1</td>\n",
              "      <td>13</td>\n",
              "      <td>2</td>\n",
              "      <td>grosse merdes</td>\n",
              "      <td>[]</td>\n",
              "    </tr>\n",
              "    <tr>\n",
              "      <th>7</th>\n",
              "      <td>espèce de gamin 😂😂</td>\n",
              "      <td>Insult</td>\n",
              "      <td>LOW</td>\n",
              "      <td>USER</td>\n",
              "      <td>1</td>\n",
              "      <td>18</td>\n",
              "      <td>4</td>\n",
              "      <td>espèce de gamin</td>\n",
              "      <td>[😂, 😂]</td>\n",
              "    </tr>\n",
              "    <tr>\n",
              "      <th>8</th>\n",
              "      <td>C'est quoi cette mode ou presque tout les YouT...</td>\n",
              "      <td>Insult</td>\n",
              "      <td>LOW</td>\n",
              "      <td>USER</td>\n",
              "      <td>1</td>\n",
              "      <td>174</td>\n",
              "      <td>37</td>\n",
              "      <td>c'est quoi cette mode ou presque tout les yout...</td>\n",
              "      <td>[]</td>\n",
              "    </tr>\n",
              "    <tr>\n",
              "      <th>9</th>\n",
              "      <td>@VittoreMorgane @crdsar et ? il est au dessus ...</td>\n",
              "      <td>Insult</td>\n",
              "      <td>LOW</td>\n",
              "      <td>USER</td>\n",
              "      <td>1</td>\n",
              "      <td>226</td>\n",
              "      <td>42</td>\n",
              "      <td>@vittoremorgane @crdsar et ? il est au dessus ...</td>\n",
              "      <td>[]</td>\n",
              "    </tr>\n",
              "  </tbody>\n",
              "</table>\n",
              "</div>"
            ],
            "text/plain": [
              "                                            Sentence  ...               Emoji\n",
              "0                                       T pas Bo 😂😂🥃  ...           [😂, 😂, 🥃]\n",
              "1                                 t’es vilain 😂😂😂😂😂😂  ...  [😂, 😂, 😂, 😂, 😂, 😂]\n",
              "2  Je te propose un d'île je m'abonne à ta chaine...  ...                  []\n",
              "3                                      T un kiko mdr  ...                  []\n",
              "4                                 Moi mdr t trop nul  ...                  []\n",
              "5                              Ta un mono sourcils 😂  ...                 [😂]\n",
              "6                                      Grosse merdes  ...                  []\n",
              "7                                 espèce de gamin 😂😂  ...              [😂, 😂]\n",
              "8  C'est quoi cette mode ou presque tout les YouT...  ...                  []\n",
              "9  @VittoreMorgane @crdsar et ? il est au dessus ...  ...                  []\n",
              "\n",
              "[10 rows x 9 columns]"
            ]
          },
          "metadata": {
            "tags": []
          },
          "execution_count": 25
        }
      ]
    },
    {
      "cell_type": "code",
      "metadata": {
        "colab": {
          "base_uri": "https://localhost:8080/"
        },
        "id": "lh0OZbD7NqaG",
        "outputId": "49fdf600-ef77-47ba-85d7-7398886ac294"
      },
      "source": [
        "#Extracting list of unique emojis\r\n",
        "import itertools\r\n",
        "emoji_list = np.unique([*itertools.chain.from_iterable(dataset.Emoji)])\r\n",
        "print(emoji_list[:30])"
      ],
      "execution_count": 26,
      "outputs": [
        {
          "output_type": "stream",
          "text": [
            "['©' '®' '‼' '⁉' '™' '↔' '↖' '↗' '↘' '↙' '↩' '↪' '⌛' '⌨' '⏩' '⏫' '⏬' '⏭'\n",
            " '⏰' '⏱' '⏳' '⏸' 'Ⓜ' '▪' '▶' '◀' '◼' '◽' '☀' '☁']\n"
          ],
          "name": "stdout"
        }
      ]
    },
    {
      "cell_type": "code",
      "metadata": {
        "colab": {
          "base_uri": "https://localhost:8080/"
        },
        "id": "QbQp-bFOjZ-H",
        "outputId": "9b5af67d-db38-40d7-f129-c7a12320e491"
      },
      "source": [
        "emoji_fr_dict = pd.read_csv('/content/drive/My Drive/CS224n_Project/emoji_fr_dict_int.csv', index_col=0, squeeze=True).to_dict()\r\n",
        "list(emoji_fr_dict.items())[:10]"
      ],
      "execution_count": 27,
      "outputs": [
        {
          "output_type": "execute_result",
          "data": {
            "text/plain": [
              "[(128512, 'visage souriant'),\n",
              " (128515, 'visage souriant avec de grands yeux'),\n",
              " (128516, 'visage souriant avec des yeux souriants'),\n",
              " (128513, 'visage rayonnant aux yeux souriants'),\n",
              " (128518, 'visage souriant plissant les yeux'),\n",
              " (128517, 'visage souriant de sueur'),\n",
              " (129315, 'roulant sur le sol en riant'),\n",
              " (128514, 'visage avec des larmes de joie'),\n",
              " (128578, 'visage légèrement souriant'),\n",
              " (128579, 'visage à l&#39;envers')]"
            ]
          },
          "metadata": {
            "tags": []
          },
          "execution_count": 27
        }
      ]
    },
    {
      "cell_type": "code",
      "metadata": {
        "id": "PAxkhi9T_XWJ",
        "colab": {
          "base_uri": "https://localhost:8080/",
          "height": 251
        },
        "outputId": "c8cfbe61-4e84-4eca-91de-9ab4072a3398"
      },
      "source": [
        "#Convert emojis to corresponding text (to keep their spirit)\r\n",
        "def convert_emojis(text):\r\n",
        "    for emot in text:\r\n",
        "      for subcode in emoji_fr_dict.keys():\r\n",
        "        if emot == chr(subcode):\r\n",
        "          text = [e.replace(emot, emoji_fr_dict[subcode]) for e in text]\r\n",
        "    return text\r\n",
        "\r\n",
        "dataset['EmojiToText'] = dataset['Emoji'].apply(convert_emojis)\r\n",
        "dataset.head()"
      ],
      "execution_count": 28,
      "outputs": [
        {
          "output_type": "execute_result",
          "data": {
            "text/html": [
              "<div>\n",
              "<style scoped>\n",
              "    .dataframe tbody tr th:only-of-type {\n",
              "        vertical-align: middle;\n",
              "    }\n",
              "\n",
              "    .dataframe tbody tr th {\n",
              "        vertical-align: top;\n",
              "    }\n",
              "\n",
              "    .dataframe thead th {\n",
              "        text-align: right;\n",
              "    }\n",
              "</style>\n",
              "<table border=\"1\" class=\"dataframe\">\n",
              "  <thead>\n",
              "    <tr style=\"text-align: right;\">\n",
              "      <th></th>\n",
              "      <th>Sentence</th>\n",
              "      <th>Type</th>\n",
              "      <th>Level</th>\n",
              "      <th>Target</th>\n",
              "      <th>Class</th>\n",
              "      <th>Length</th>\n",
              "      <th>Count</th>\n",
              "      <th>cleanSentence</th>\n",
              "      <th>Emoji</th>\n",
              "      <th>EmojiToText</th>\n",
              "    </tr>\n",
              "  </thead>\n",
              "  <tbody>\n",
              "    <tr>\n",
              "      <th>0</th>\n",
              "      <td>T pas Bo 😂😂🥃</td>\n",
              "      <td>Mockery</td>\n",
              "      <td>LOW</td>\n",
              "      <td>USER</td>\n",
              "      <td>1</td>\n",
              "      <td>12</td>\n",
              "      <td>4</td>\n",
              "      <td>t pas bo</td>\n",
              "      <td>[😂, 😂, 🥃]</td>\n",
              "      <td>[visage avec des larmes de joie, visage avec d...</td>\n",
              "    </tr>\n",
              "    <tr>\n",
              "      <th>1</th>\n",
              "      <td>t’es vilain 😂😂😂😂😂😂</td>\n",
              "      <td>Mockery</td>\n",
              "      <td>LOW</td>\n",
              "      <td>USER</td>\n",
              "      <td>1</td>\n",
              "      <td>18</td>\n",
              "      <td>3</td>\n",
              "      <td>t’es vilain</td>\n",
              "      <td>[😂, 😂, 😂, 😂, 😂, 😂]</td>\n",
              "      <td>[visage avec des larmes de joie, visage avec d...</td>\n",
              "    </tr>\n",
              "    <tr>\n",
              "      <th>2</th>\n",
              "      <td>Je te propose un d'île je m'abonne à ta chaine...</td>\n",
              "      <td>Hate</td>\n",
              "      <td>LOW</td>\n",
              "      <td>USER</td>\n",
              "      <td>1</td>\n",
              "      <td>189</td>\n",
              "      <td>37</td>\n",
              "      <td>je te propose un d'île je m'abonne à ta chaine...</td>\n",
              "      <td>[]</td>\n",
              "      <td>[]</td>\n",
              "    </tr>\n",
              "    <tr>\n",
              "      <th>3</th>\n",
              "      <td>T un kiko mdr</td>\n",
              "      <td>Insult</td>\n",
              "      <td>LOW</td>\n",
              "      <td>USER</td>\n",
              "      <td>1</td>\n",
              "      <td>13</td>\n",
              "      <td>4</td>\n",
              "      <td>t un kiko mdr</td>\n",
              "      <td>[]</td>\n",
              "      <td>[]</td>\n",
              "    </tr>\n",
              "    <tr>\n",
              "      <th>4</th>\n",
              "      <td>Moi mdr t trop nul</td>\n",
              "      <td>Hate</td>\n",
              "      <td>LOW</td>\n",
              "      <td>USER</td>\n",
              "      <td>1</td>\n",
              "      <td>18</td>\n",
              "      <td>5</td>\n",
              "      <td>moi mdr t trop nul</td>\n",
              "      <td>[]</td>\n",
              "      <td>[]</td>\n",
              "    </tr>\n",
              "  </tbody>\n",
              "</table>\n",
              "</div>"
            ],
            "text/plain": [
              "                                            Sentence  ...                                        EmojiToText\n",
              "0                                       T pas Bo 😂😂🥃  ...  [visage avec des larmes de joie, visage avec d...\n",
              "1                                 t’es vilain 😂😂😂😂😂😂  ...  [visage avec des larmes de joie, visage avec d...\n",
              "2  Je te propose un d'île je m'abonne à ta chaine...  ...                                                 []\n",
              "3                                      T un kiko mdr  ...                                                 []\n",
              "4                                 Moi mdr t trop nul  ...                                                 []\n",
              "\n",
              "[5 rows x 10 columns]"
            ]
          },
          "metadata": {
            "tags": []
          },
          "execution_count": 28
        }
      ]
    },
    {
      "cell_type": "code",
      "metadata": {
        "colab": {
          "base_uri": "https://localhost:8080/"
        },
        "id": "ch4CUTmrT1UP",
        "outputId": "9cdc2888-5552-4d28-c461-de04e3a85f39"
      },
      "source": [
        "dataset.EmojiToText[0]"
      ],
      "execution_count": 29,
      "outputs": [
        {
          "output_type": "execute_result",
          "data": {
            "text/plain": [
              "['visage avec des larmes de joie',\n",
              " 'visage avec des larmes de joie',\n",
              " 'verre de verre']"
            ]
          },
          "metadata": {
            "tags": []
          },
          "execution_count": 29
        }
      ]
    },
    {
      "cell_type": "code",
      "metadata": {
        "colab": {
          "base_uri": "https://localhost:8080/",
          "height": 453
        },
        "id": "mkP00pgPz7Ml",
        "outputId": "cf79d41e-89d8-4228-904c-b3145e8d6cf9"
      },
      "source": [
        "#Special characters cleaning\r\n",
        "\"\"\"\r\n",
        "A utility function to remove numerical characters from the text.\r\n",
        "\r\n",
        "\"\"\"\r\n",
        "\r\n",
        "def remove_nums(text):\r\n",
        "    text = ''.join([i for i in text if not i.isdigit()])         \r\n",
        "    return text\r\n",
        "\r\n",
        "\r\n",
        "\"\"\"\r\n",
        "A utility function to remove URL links from the text.\r\n",
        "\r\n",
        "\"\"\"\r\n",
        "\r\n",
        "def remove_URL(text):\r\n",
        "    url = re.compile(r'https?://\\S+|www\\.\\S+')\r\n",
        "    return url.sub(r'',text)\r\n",
        "\r\n",
        "\r\n",
        "\"\"\"\r\n",
        "A utility function to remove HTML tags from the text.\r\n",
        "\r\n",
        "\"\"\"\r\n",
        "\r\n",
        "def remove_html(text):\r\n",
        "    html=re.compile(r'<.*?>')\r\n",
        "    return html.sub(r'',text)\r\n",
        "\r\n",
        "\r\n",
        "\"\"\"\r\n",
        "A utility function to remove @\r\n",
        "\r\n",
        "\"\"\"\r\n",
        "\r\n",
        "def remove_special(text):\r\n",
        "    return \" \".join(re.sub(\"(@[A-Za-z0-9]+)|([^ \\nA-Za-z0-9À-ÖØ-öø-ÿ/ \\t])\", \" \",text).split())\r\n",
        "#    return \" \".join(re.sub(\"(@[^\\s]+)\", \" \",text).split())\r\n",
        "\r\n",
        "\r\n",
        "#dataset['cleanSentence'] = dataset['cleanSentence'].apply(remove_nums)\r\n",
        "dataset['cleanSentence'] = dataset['cleanSentence'].apply(remove_URL)\r\n",
        "dataset['cleanSentence'] = dataset['cleanSentence'].apply(remove_html)\r\n",
        "dataset['cleanSentence'] = dataset['cleanSentence'].apply(remove_special)\r\n",
        "\r\n",
        "dataset['EmojiToText'] = dataset['EmojiToText'].apply(', '.join)\r\n",
        "dataset['EmojiToText'] = dataset['EmojiToText'].apply(remove_special)\r\n",
        "\r\n",
        "dataset.head(10)"
      ],
      "execution_count": 30,
      "outputs": [
        {
          "output_type": "execute_result",
          "data": {
            "text/html": [
              "<div>\n",
              "<style scoped>\n",
              "    .dataframe tbody tr th:only-of-type {\n",
              "        vertical-align: middle;\n",
              "    }\n",
              "\n",
              "    .dataframe tbody tr th {\n",
              "        vertical-align: top;\n",
              "    }\n",
              "\n",
              "    .dataframe thead th {\n",
              "        text-align: right;\n",
              "    }\n",
              "</style>\n",
              "<table border=\"1\" class=\"dataframe\">\n",
              "  <thead>\n",
              "    <tr style=\"text-align: right;\">\n",
              "      <th></th>\n",
              "      <th>Sentence</th>\n",
              "      <th>Type</th>\n",
              "      <th>Level</th>\n",
              "      <th>Target</th>\n",
              "      <th>Class</th>\n",
              "      <th>Length</th>\n",
              "      <th>Count</th>\n",
              "      <th>cleanSentence</th>\n",
              "      <th>Emoji</th>\n",
              "      <th>EmojiToText</th>\n",
              "    </tr>\n",
              "  </thead>\n",
              "  <tbody>\n",
              "    <tr>\n",
              "      <th>0</th>\n",
              "      <td>T pas Bo 😂😂🥃</td>\n",
              "      <td>Mockery</td>\n",
              "      <td>LOW</td>\n",
              "      <td>USER</td>\n",
              "      <td>1</td>\n",
              "      <td>12</td>\n",
              "      <td>4</td>\n",
              "      <td>t pas bo</td>\n",
              "      <td>[😂, 😂, 🥃]</td>\n",
              "      <td>visage avec des larmes de joie visage avec des...</td>\n",
              "    </tr>\n",
              "    <tr>\n",
              "      <th>1</th>\n",
              "      <td>t’es vilain 😂😂😂😂😂😂</td>\n",
              "      <td>Mockery</td>\n",
              "      <td>LOW</td>\n",
              "      <td>USER</td>\n",
              "      <td>1</td>\n",
              "      <td>18</td>\n",
              "      <td>3</td>\n",
              "      <td>t es vilain</td>\n",
              "      <td>[😂, 😂, 😂, 😂, 😂, 😂]</td>\n",
              "      <td>visage avec des larmes de joie visage avec des...</td>\n",
              "    </tr>\n",
              "    <tr>\n",
              "      <th>2</th>\n",
              "      <td>Je te propose un d'île je m'abonne à ta chaine...</td>\n",
              "      <td>Hate</td>\n",
              "      <td>LOW</td>\n",
              "      <td>USER</td>\n",
              "      <td>1</td>\n",
              "      <td>189</td>\n",
              "      <td>37</td>\n",
              "      <td>je te propose un d île je m abonne à ta chaine...</td>\n",
              "      <td>[]</td>\n",
              "      <td></td>\n",
              "    </tr>\n",
              "    <tr>\n",
              "      <th>3</th>\n",
              "      <td>T un kiko mdr</td>\n",
              "      <td>Insult</td>\n",
              "      <td>LOW</td>\n",
              "      <td>USER</td>\n",
              "      <td>1</td>\n",
              "      <td>13</td>\n",
              "      <td>4</td>\n",
              "      <td>t un kiko mdr</td>\n",
              "      <td>[]</td>\n",
              "      <td></td>\n",
              "    </tr>\n",
              "    <tr>\n",
              "      <th>4</th>\n",
              "      <td>Moi mdr t trop nul</td>\n",
              "      <td>Hate</td>\n",
              "      <td>LOW</td>\n",
              "      <td>USER</td>\n",
              "      <td>1</td>\n",
              "      <td>18</td>\n",
              "      <td>5</td>\n",
              "      <td>moi mdr t trop nul</td>\n",
              "      <td>[]</td>\n",
              "      <td></td>\n",
              "    </tr>\n",
              "    <tr>\n",
              "      <th>5</th>\n",
              "      <td>Ta un mono sourcils 😂</td>\n",
              "      <td>Mockery</td>\n",
              "      <td>LOW</td>\n",
              "      <td>USER</td>\n",
              "      <td>1</td>\n",
              "      <td>21</td>\n",
              "      <td>5</td>\n",
              "      <td>ta un mono sourcils</td>\n",
              "      <td>[😂]</td>\n",
              "      <td>visage avec des larmes de joie</td>\n",
              "    </tr>\n",
              "    <tr>\n",
              "      <th>6</th>\n",
              "      <td>Grosse merdes</td>\n",
              "      <td>Insult</td>\n",
              "      <td>LOW</td>\n",
              "      <td>USER</td>\n",
              "      <td>1</td>\n",
              "      <td>13</td>\n",
              "      <td>2</td>\n",
              "      <td>grosse merdes</td>\n",
              "      <td>[]</td>\n",
              "      <td></td>\n",
              "    </tr>\n",
              "    <tr>\n",
              "      <th>7</th>\n",
              "      <td>espèce de gamin 😂😂</td>\n",
              "      <td>Insult</td>\n",
              "      <td>LOW</td>\n",
              "      <td>USER</td>\n",
              "      <td>1</td>\n",
              "      <td>18</td>\n",
              "      <td>4</td>\n",
              "      <td>espèce de gamin</td>\n",
              "      <td>[😂, 😂]</td>\n",
              "      <td>visage avec des larmes de joie visage avec des...</td>\n",
              "    </tr>\n",
              "    <tr>\n",
              "      <th>8</th>\n",
              "      <td>C'est quoi cette mode ou presque tout les YouT...</td>\n",
              "      <td>Insult</td>\n",
              "      <td>LOW</td>\n",
              "      <td>USER</td>\n",
              "      <td>1</td>\n",
              "      <td>174</td>\n",
              "      <td>37</td>\n",
              "      <td>c est quoi cette mode ou presque tout les yout...</td>\n",
              "      <td>[]</td>\n",
              "      <td></td>\n",
              "    </tr>\n",
              "    <tr>\n",
              "      <th>9</th>\n",
              "      <td>@VittoreMorgane @crdsar et ? il est au dessus ...</td>\n",
              "      <td>Insult</td>\n",
              "      <td>LOW</td>\n",
              "      <td>USER</td>\n",
              "      <td>1</td>\n",
              "      <td>226</td>\n",
              "      <td>42</td>\n",
              "      <td>et il est au dessus des lois je fais des reuni...</td>\n",
              "      <td>[]</td>\n",
              "      <td></td>\n",
              "    </tr>\n",
              "  </tbody>\n",
              "</table>\n",
              "</div>"
            ],
            "text/plain": [
              "                                            Sentence  ...                                        EmojiToText\n",
              "0                                       T pas Bo 😂😂🥃  ...  visage avec des larmes de joie visage avec des...\n",
              "1                                 t’es vilain 😂😂😂😂😂😂  ...  visage avec des larmes de joie visage avec des...\n",
              "2  Je te propose un d'île je m'abonne à ta chaine...  ...                                                   \n",
              "3                                      T un kiko mdr  ...                                                   \n",
              "4                                 Moi mdr t trop nul  ...                                                   \n",
              "5                              Ta un mono sourcils 😂  ...                     visage avec des larmes de joie\n",
              "6                                      Grosse merdes  ...                                                   \n",
              "7                                 espèce de gamin 😂😂  ...  visage avec des larmes de joie visage avec des...\n",
              "8  C'est quoi cette mode ou presque tout les YouT...  ...                                                   \n",
              "9  @VittoreMorgane @crdsar et ? il est au dessus ...  ...                                                   \n",
              "\n",
              "[10 rows x 10 columns]"
            ]
          },
          "metadata": {
            "tags": []
          },
          "execution_count": 30
        }
      ]
    },
    {
      "cell_type": "code",
      "metadata": {
        "colab": {
          "base_uri": "https://localhost:8080/",
          "height": 453
        },
        "id": "YXlELDUC4mNM",
        "outputId": "c2ad8073-3234-4915-8321-47db4b17335b"
      },
      "source": [
        "#Removing punctuation\r\n",
        "punct =[]\r\n",
        "punct += list(string.punctuation)\r\n",
        "punct += '’'\r\n",
        "punct.remove(\"'\")\r\n",
        "\r\n",
        "def remove_punctuations(text):\r\n",
        "    for punctuation in punct:\r\n",
        "        text = text.replace(punctuation, ' ')\r\n",
        "    return text\r\n",
        "\r\n",
        "dataset['cleanSentence'] = dataset['cleanSentence'].apply(remove_punctuations)\r\n",
        "dataset['EmojiToText'] = dataset['EmojiToText'].apply(remove_punctuations)\r\n",
        "dataset.head(10)"
      ],
      "execution_count": 31,
      "outputs": [
        {
          "output_type": "execute_result",
          "data": {
            "text/html": [
              "<div>\n",
              "<style scoped>\n",
              "    .dataframe tbody tr th:only-of-type {\n",
              "        vertical-align: middle;\n",
              "    }\n",
              "\n",
              "    .dataframe tbody tr th {\n",
              "        vertical-align: top;\n",
              "    }\n",
              "\n",
              "    .dataframe thead th {\n",
              "        text-align: right;\n",
              "    }\n",
              "</style>\n",
              "<table border=\"1\" class=\"dataframe\">\n",
              "  <thead>\n",
              "    <tr style=\"text-align: right;\">\n",
              "      <th></th>\n",
              "      <th>Sentence</th>\n",
              "      <th>Type</th>\n",
              "      <th>Level</th>\n",
              "      <th>Target</th>\n",
              "      <th>Class</th>\n",
              "      <th>Length</th>\n",
              "      <th>Count</th>\n",
              "      <th>cleanSentence</th>\n",
              "      <th>Emoji</th>\n",
              "      <th>EmojiToText</th>\n",
              "    </tr>\n",
              "  </thead>\n",
              "  <tbody>\n",
              "    <tr>\n",
              "      <th>0</th>\n",
              "      <td>T pas Bo 😂😂🥃</td>\n",
              "      <td>Mockery</td>\n",
              "      <td>LOW</td>\n",
              "      <td>USER</td>\n",
              "      <td>1</td>\n",
              "      <td>12</td>\n",
              "      <td>4</td>\n",
              "      <td>t pas bo</td>\n",
              "      <td>[😂, 😂, 🥃]</td>\n",
              "      <td>visage avec des larmes de joie visage avec des...</td>\n",
              "    </tr>\n",
              "    <tr>\n",
              "      <th>1</th>\n",
              "      <td>t’es vilain 😂😂😂😂😂😂</td>\n",
              "      <td>Mockery</td>\n",
              "      <td>LOW</td>\n",
              "      <td>USER</td>\n",
              "      <td>1</td>\n",
              "      <td>18</td>\n",
              "      <td>3</td>\n",
              "      <td>t es vilain</td>\n",
              "      <td>[😂, 😂, 😂, 😂, 😂, 😂]</td>\n",
              "      <td>visage avec des larmes de joie visage avec des...</td>\n",
              "    </tr>\n",
              "    <tr>\n",
              "      <th>2</th>\n",
              "      <td>Je te propose un d'île je m'abonne à ta chaine...</td>\n",
              "      <td>Hate</td>\n",
              "      <td>LOW</td>\n",
              "      <td>USER</td>\n",
              "      <td>1</td>\n",
              "      <td>189</td>\n",
              "      <td>37</td>\n",
              "      <td>je te propose un d île je m abonne à ta chaine...</td>\n",
              "      <td>[]</td>\n",
              "      <td></td>\n",
              "    </tr>\n",
              "    <tr>\n",
              "      <th>3</th>\n",
              "      <td>T un kiko mdr</td>\n",
              "      <td>Insult</td>\n",
              "      <td>LOW</td>\n",
              "      <td>USER</td>\n",
              "      <td>1</td>\n",
              "      <td>13</td>\n",
              "      <td>4</td>\n",
              "      <td>t un kiko mdr</td>\n",
              "      <td>[]</td>\n",
              "      <td></td>\n",
              "    </tr>\n",
              "    <tr>\n",
              "      <th>4</th>\n",
              "      <td>Moi mdr t trop nul</td>\n",
              "      <td>Hate</td>\n",
              "      <td>LOW</td>\n",
              "      <td>USER</td>\n",
              "      <td>1</td>\n",
              "      <td>18</td>\n",
              "      <td>5</td>\n",
              "      <td>moi mdr t trop nul</td>\n",
              "      <td>[]</td>\n",
              "      <td></td>\n",
              "    </tr>\n",
              "    <tr>\n",
              "      <th>5</th>\n",
              "      <td>Ta un mono sourcils 😂</td>\n",
              "      <td>Mockery</td>\n",
              "      <td>LOW</td>\n",
              "      <td>USER</td>\n",
              "      <td>1</td>\n",
              "      <td>21</td>\n",
              "      <td>5</td>\n",
              "      <td>ta un mono sourcils</td>\n",
              "      <td>[😂]</td>\n",
              "      <td>visage avec des larmes de joie</td>\n",
              "    </tr>\n",
              "    <tr>\n",
              "      <th>6</th>\n",
              "      <td>Grosse merdes</td>\n",
              "      <td>Insult</td>\n",
              "      <td>LOW</td>\n",
              "      <td>USER</td>\n",
              "      <td>1</td>\n",
              "      <td>13</td>\n",
              "      <td>2</td>\n",
              "      <td>grosse merdes</td>\n",
              "      <td>[]</td>\n",
              "      <td></td>\n",
              "    </tr>\n",
              "    <tr>\n",
              "      <th>7</th>\n",
              "      <td>espèce de gamin 😂😂</td>\n",
              "      <td>Insult</td>\n",
              "      <td>LOW</td>\n",
              "      <td>USER</td>\n",
              "      <td>1</td>\n",
              "      <td>18</td>\n",
              "      <td>4</td>\n",
              "      <td>espèce de gamin</td>\n",
              "      <td>[😂, 😂]</td>\n",
              "      <td>visage avec des larmes de joie visage avec des...</td>\n",
              "    </tr>\n",
              "    <tr>\n",
              "      <th>8</th>\n",
              "      <td>C'est quoi cette mode ou presque tout les YouT...</td>\n",
              "      <td>Insult</td>\n",
              "      <td>LOW</td>\n",
              "      <td>USER</td>\n",
              "      <td>1</td>\n",
              "      <td>174</td>\n",
              "      <td>37</td>\n",
              "      <td>c est quoi cette mode ou presque tout les yout...</td>\n",
              "      <td>[]</td>\n",
              "      <td></td>\n",
              "    </tr>\n",
              "    <tr>\n",
              "      <th>9</th>\n",
              "      <td>@VittoreMorgane @crdsar et ? il est au dessus ...</td>\n",
              "      <td>Insult</td>\n",
              "      <td>LOW</td>\n",
              "      <td>USER</td>\n",
              "      <td>1</td>\n",
              "      <td>226</td>\n",
              "      <td>42</td>\n",
              "      <td>et il est au dessus des lois je fais des reuni...</td>\n",
              "      <td>[]</td>\n",
              "      <td></td>\n",
              "    </tr>\n",
              "  </tbody>\n",
              "</table>\n",
              "</div>"
            ],
            "text/plain": [
              "                                            Sentence  ...                                        EmojiToText\n",
              "0                                       T pas Bo 😂😂🥃  ...  visage avec des larmes de joie visage avec des...\n",
              "1                                 t’es vilain 😂😂😂😂😂😂  ...  visage avec des larmes de joie visage avec des...\n",
              "2  Je te propose un d'île je m'abonne à ta chaine...  ...                                                   \n",
              "3                                      T un kiko mdr  ...                                                   \n",
              "4                                 Moi mdr t trop nul  ...                                                   \n",
              "5                              Ta un mono sourcils 😂  ...                     visage avec des larmes de joie\n",
              "6                                      Grosse merdes  ...                                                   \n",
              "7                                 espèce de gamin 😂😂  ...  visage avec des larmes de joie visage avec des...\n",
              "8  C'est quoi cette mode ou presque tout les YouT...  ...                                                   \n",
              "9  @VittoreMorgane @crdsar et ? il est au dessus ...  ...                                                   \n",
              "\n",
              "[10 rows x 10 columns]"
            ]
          },
          "metadata": {
            "tags": []
          },
          "execution_count": 31
        }
      ]
    },
    {
      "cell_type": "code",
      "metadata": {
        "colab": {
          "base_uri": "https://localhost:8080/"
        },
        "id": "fzKXO9qk_DKr",
        "outputId": "a758ba3c-0b4f-4c04-d5e3-85fdae83abd5"
      },
      "source": [
        "#Checking frequent words\r\n",
        "cnt = Counter()\r\n",
        "for text in dataset[\"cleanSentence\"].values:\r\n",
        "    for word in text.split():\r\n",
        "        cnt[word] += 1\r\n",
        "        \r\n",
        "cnt.most_common(20)"
      ],
      "execution_count": 32,
      "outputs": [
        {
          "output_type": "execute_result",
          "data": {
            "text/plain": [
              "[('de', 219669),\n",
              " ('est', 133579),\n",
              " ('la', 130991),\n",
              " ('et', 120552),\n",
              " ('le', 113016),\n",
              " ('les', 106419),\n",
              " ('c', 95209),\n",
              " ('pas', 92356),\n",
              " ('que', 84686),\n",
              " ('je', 80306),\n",
              " ('des', 77273),\n",
              " ('a', 76027),\n",
              " ('un', 75793),\n",
              " ('en', 73365),\n",
              " ('à', 70458),\n",
              " ('il', 67932),\n",
              " ('tu', 65680),\n",
              " ('pour', 61827),\n",
              " ('qui', 58492),\n",
              " ('l', 55957)]"
            ]
          },
          "metadata": {
            "tags": []
          },
          "execution_count": 32
        }
      ]
    },
    {
      "cell_type": "code",
      "metadata": {
        "colab": {
          "base_uri": "https://localhost:8080/",
          "height": 251
        },
        "id": "igNN2pfvnH5m",
        "outputId": "d3ccf29a-96ee-4815-b8fd-b3b54a30036d"
      },
      "source": [
        "dataset['enhancedSentence'] = dataset['cleanSentence'] + \" \" + dataset['EmojiToText']\r\n",
        "dataset.head()"
      ],
      "execution_count": 33,
      "outputs": [
        {
          "output_type": "execute_result",
          "data": {
            "text/html": [
              "<div>\n",
              "<style scoped>\n",
              "    .dataframe tbody tr th:only-of-type {\n",
              "        vertical-align: middle;\n",
              "    }\n",
              "\n",
              "    .dataframe tbody tr th {\n",
              "        vertical-align: top;\n",
              "    }\n",
              "\n",
              "    .dataframe thead th {\n",
              "        text-align: right;\n",
              "    }\n",
              "</style>\n",
              "<table border=\"1\" class=\"dataframe\">\n",
              "  <thead>\n",
              "    <tr style=\"text-align: right;\">\n",
              "      <th></th>\n",
              "      <th>Sentence</th>\n",
              "      <th>Type</th>\n",
              "      <th>Level</th>\n",
              "      <th>Target</th>\n",
              "      <th>Class</th>\n",
              "      <th>Length</th>\n",
              "      <th>Count</th>\n",
              "      <th>cleanSentence</th>\n",
              "      <th>Emoji</th>\n",
              "      <th>EmojiToText</th>\n",
              "      <th>enhancedSentence</th>\n",
              "    </tr>\n",
              "  </thead>\n",
              "  <tbody>\n",
              "    <tr>\n",
              "      <th>0</th>\n",
              "      <td>T pas Bo 😂😂🥃</td>\n",
              "      <td>Mockery</td>\n",
              "      <td>LOW</td>\n",
              "      <td>USER</td>\n",
              "      <td>1</td>\n",
              "      <td>12</td>\n",
              "      <td>4</td>\n",
              "      <td>t pas bo</td>\n",
              "      <td>[😂, 😂, 🥃]</td>\n",
              "      <td>visage avec des larmes de joie visage avec des...</td>\n",
              "      <td>t pas bo visage avec des larmes de joie visage...</td>\n",
              "    </tr>\n",
              "    <tr>\n",
              "      <th>1</th>\n",
              "      <td>t’es vilain 😂😂😂😂😂😂</td>\n",
              "      <td>Mockery</td>\n",
              "      <td>LOW</td>\n",
              "      <td>USER</td>\n",
              "      <td>1</td>\n",
              "      <td>18</td>\n",
              "      <td>3</td>\n",
              "      <td>t es vilain</td>\n",
              "      <td>[😂, 😂, 😂, 😂, 😂, 😂]</td>\n",
              "      <td>visage avec des larmes de joie visage avec des...</td>\n",
              "      <td>t es vilain visage avec des larmes de joie vis...</td>\n",
              "    </tr>\n",
              "    <tr>\n",
              "      <th>2</th>\n",
              "      <td>Je te propose un d'île je m'abonne à ta chaine...</td>\n",
              "      <td>Hate</td>\n",
              "      <td>LOW</td>\n",
              "      <td>USER</td>\n",
              "      <td>1</td>\n",
              "      <td>189</td>\n",
              "      <td>37</td>\n",
              "      <td>je te propose un d île je m abonne à ta chaine...</td>\n",
              "      <td>[]</td>\n",
              "      <td></td>\n",
              "      <td>je te propose un d île je m abonne à ta chaine...</td>\n",
              "    </tr>\n",
              "    <tr>\n",
              "      <th>3</th>\n",
              "      <td>T un kiko mdr</td>\n",
              "      <td>Insult</td>\n",
              "      <td>LOW</td>\n",
              "      <td>USER</td>\n",
              "      <td>1</td>\n",
              "      <td>13</td>\n",
              "      <td>4</td>\n",
              "      <td>t un kiko mdr</td>\n",
              "      <td>[]</td>\n",
              "      <td></td>\n",
              "      <td>t un kiko mdr</td>\n",
              "    </tr>\n",
              "    <tr>\n",
              "      <th>4</th>\n",
              "      <td>Moi mdr t trop nul</td>\n",
              "      <td>Hate</td>\n",
              "      <td>LOW</td>\n",
              "      <td>USER</td>\n",
              "      <td>1</td>\n",
              "      <td>18</td>\n",
              "      <td>5</td>\n",
              "      <td>moi mdr t trop nul</td>\n",
              "      <td>[]</td>\n",
              "      <td></td>\n",
              "      <td>moi mdr t trop nul</td>\n",
              "    </tr>\n",
              "  </tbody>\n",
              "</table>\n",
              "</div>"
            ],
            "text/plain": [
              "                                            Sentence  ...                                   enhancedSentence\n",
              "0                                       T pas Bo 😂😂🥃  ...  t pas bo visage avec des larmes de joie visage...\n",
              "1                                 t’es vilain 😂😂😂😂😂😂  ...  t es vilain visage avec des larmes de joie vis...\n",
              "2  Je te propose un d'île je m'abonne à ta chaine...  ...  je te propose un d île je m abonne à ta chaine...\n",
              "3                                      T un kiko mdr  ...                                     t un kiko mdr \n",
              "4                                 Moi mdr t trop nul  ...                                moi mdr t trop nul \n",
              "\n",
              "[5 rows x 11 columns]"
            ]
          },
          "metadata": {
            "tags": []
          },
          "execution_count": 33
        }
      ]
    },
    {
      "cell_type": "code",
      "metadata": {
        "colab": {
          "base_uri": "https://localhost:8080/",
          "height": 470
        },
        "id": "RG4L5SiL5JNg",
        "outputId": "c4b1f1ef-934a-49b1-c2a3-676a4d274789"
      },
      "source": [
        "#Removing stopwords\r\n",
        "STOPWORDS = nltk.corpus.stopwords.words('french')\r\n",
        "#STOPWORDS = set(nltk.corpus.stopwords.words('english')) | set(nltk.corpus.stopwords.words('french'))\r\n",
        "\r\n",
        "dataset_wo_stop = dataset.copy()\r\n",
        "\r\n",
        "def remove_stopwords(text):\r\n",
        "    return \" \".join([word for word in str(text).split() if word not in STOPWORDS])\r\n",
        "\r\n",
        "dataset_wo_stop['cleanSentence'] = dataset_wo_stop['cleanSentence'].apply(remove_stopwords)\r\n",
        "dataset_wo_stop.head(10)"
      ],
      "execution_count": 34,
      "outputs": [
        {
          "output_type": "execute_result",
          "data": {
            "text/html": [
              "<div>\n",
              "<style scoped>\n",
              "    .dataframe tbody tr th:only-of-type {\n",
              "        vertical-align: middle;\n",
              "    }\n",
              "\n",
              "    .dataframe tbody tr th {\n",
              "        vertical-align: top;\n",
              "    }\n",
              "\n",
              "    .dataframe thead th {\n",
              "        text-align: right;\n",
              "    }\n",
              "</style>\n",
              "<table border=\"1\" class=\"dataframe\">\n",
              "  <thead>\n",
              "    <tr style=\"text-align: right;\">\n",
              "      <th></th>\n",
              "      <th>Sentence</th>\n",
              "      <th>Type</th>\n",
              "      <th>Level</th>\n",
              "      <th>Target</th>\n",
              "      <th>Class</th>\n",
              "      <th>Length</th>\n",
              "      <th>Count</th>\n",
              "      <th>cleanSentence</th>\n",
              "      <th>Emoji</th>\n",
              "      <th>EmojiToText</th>\n",
              "      <th>enhancedSentence</th>\n",
              "    </tr>\n",
              "  </thead>\n",
              "  <tbody>\n",
              "    <tr>\n",
              "      <th>0</th>\n",
              "      <td>T pas Bo 😂😂🥃</td>\n",
              "      <td>Mockery</td>\n",
              "      <td>LOW</td>\n",
              "      <td>USER</td>\n",
              "      <td>1</td>\n",
              "      <td>12</td>\n",
              "      <td>4</td>\n",
              "      <td>bo</td>\n",
              "      <td>[😂, 😂, 🥃]</td>\n",
              "      <td>visage avec des larmes de joie visage avec des...</td>\n",
              "      <td>t pas bo visage avec des larmes de joie visage...</td>\n",
              "    </tr>\n",
              "    <tr>\n",
              "      <th>1</th>\n",
              "      <td>t’es vilain 😂😂😂😂😂😂</td>\n",
              "      <td>Mockery</td>\n",
              "      <td>LOW</td>\n",
              "      <td>USER</td>\n",
              "      <td>1</td>\n",
              "      <td>18</td>\n",
              "      <td>3</td>\n",
              "      <td>vilain</td>\n",
              "      <td>[😂, 😂, 😂, 😂, 😂, 😂]</td>\n",
              "      <td>visage avec des larmes de joie visage avec des...</td>\n",
              "      <td>t es vilain visage avec des larmes de joie vis...</td>\n",
              "    </tr>\n",
              "    <tr>\n",
              "      <th>2</th>\n",
              "      <td>Je te propose un d'île je m'abonne à ta chaine...</td>\n",
              "      <td>Hate</td>\n",
              "      <td>LOW</td>\n",
              "      <td>USER</td>\n",
              "      <td>1</td>\n",
              "      <td>189</td>\n",
              "      <td>37</td>\n",
              "      <td>propose île abonne chaine abonner chaîne youtu...</td>\n",
              "      <td>[]</td>\n",
              "      <td></td>\n",
              "      <td>je te propose un d île je m abonne à ta chaine...</td>\n",
              "    </tr>\n",
              "    <tr>\n",
              "      <th>3</th>\n",
              "      <td>T un kiko mdr</td>\n",
              "      <td>Insult</td>\n",
              "      <td>LOW</td>\n",
              "      <td>USER</td>\n",
              "      <td>1</td>\n",
              "      <td>13</td>\n",
              "      <td>4</td>\n",
              "      <td>kiko mdr</td>\n",
              "      <td>[]</td>\n",
              "      <td></td>\n",
              "      <td>t un kiko mdr</td>\n",
              "    </tr>\n",
              "    <tr>\n",
              "      <th>4</th>\n",
              "      <td>Moi mdr t trop nul</td>\n",
              "      <td>Hate</td>\n",
              "      <td>LOW</td>\n",
              "      <td>USER</td>\n",
              "      <td>1</td>\n",
              "      <td>18</td>\n",
              "      <td>5</td>\n",
              "      <td>mdr trop nul</td>\n",
              "      <td>[]</td>\n",
              "      <td></td>\n",
              "      <td>moi mdr t trop nul</td>\n",
              "    </tr>\n",
              "    <tr>\n",
              "      <th>5</th>\n",
              "      <td>Ta un mono sourcils 😂</td>\n",
              "      <td>Mockery</td>\n",
              "      <td>LOW</td>\n",
              "      <td>USER</td>\n",
              "      <td>1</td>\n",
              "      <td>21</td>\n",
              "      <td>5</td>\n",
              "      <td>mono sourcils</td>\n",
              "      <td>[😂]</td>\n",
              "      <td>visage avec des larmes de joie</td>\n",
              "      <td>ta un mono sourcils visage avec des larmes de ...</td>\n",
              "    </tr>\n",
              "    <tr>\n",
              "      <th>6</th>\n",
              "      <td>Grosse merdes</td>\n",
              "      <td>Insult</td>\n",
              "      <td>LOW</td>\n",
              "      <td>USER</td>\n",
              "      <td>1</td>\n",
              "      <td>13</td>\n",
              "      <td>2</td>\n",
              "      <td>grosse merdes</td>\n",
              "      <td>[]</td>\n",
              "      <td></td>\n",
              "      <td>grosse merdes</td>\n",
              "    </tr>\n",
              "    <tr>\n",
              "      <th>7</th>\n",
              "      <td>espèce de gamin 😂😂</td>\n",
              "      <td>Insult</td>\n",
              "      <td>LOW</td>\n",
              "      <td>USER</td>\n",
              "      <td>1</td>\n",
              "      <td>18</td>\n",
              "      <td>4</td>\n",
              "      <td>espèce gamin</td>\n",
              "      <td>[😂, 😂]</td>\n",
              "      <td>visage avec des larmes de joie visage avec des...</td>\n",
              "      <td>espèce de gamin visage avec des larmes de joie...</td>\n",
              "    </tr>\n",
              "    <tr>\n",
              "      <th>8</th>\n",
              "      <td>C'est quoi cette mode ou presque tout les YouT...</td>\n",
              "      <td>Insult</td>\n",
              "      <td>LOW</td>\n",
              "      <td>USER</td>\n",
              "      <td>1</td>\n",
              "      <td>174</td>\n",
              "      <td>37</td>\n",
              "      <td>quoi cette mode presque tout youtubeurs joue j...</td>\n",
              "      <td>[]</td>\n",
              "      <td></td>\n",
              "      <td>c est quoi cette mode ou presque tout les yout...</td>\n",
              "    </tr>\n",
              "    <tr>\n",
              "      <th>9</th>\n",
              "      <td>@VittoreMorgane @crdsar et ? il est au dessus ...</td>\n",
              "      <td>Insult</td>\n",
              "      <td>LOW</td>\n",
              "      <td>USER</td>\n",
              "      <td>1</td>\n",
              "      <td>226</td>\n",
              "      <td>42</td>\n",
              "      <td>dessus lois fais reunions travail tous jours v...</td>\n",
              "      <td>[]</td>\n",
              "      <td></td>\n",
              "      <td>et il est au dessus des lois je fais des reuni...</td>\n",
              "    </tr>\n",
              "  </tbody>\n",
              "</table>\n",
              "</div>"
            ],
            "text/plain": [
              "                                            Sentence  ...                                   enhancedSentence\n",
              "0                                       T pas Bo 😂😂🥃  ...  t pas bo visage avec des larmes de joie visage...\n",
              "1                                 t’es vilain 😂😂😂😂😂😂  ...  t es vilain visage avec des larmes de joie vis...\n",
              "2  Je te propose un d'île je m'abonne à ta chaine...  ...  je te propose un d île je m abonne à ta chaine...\n",
              "3                                      T un kiko mdr  ...                                     t un kiko mdr \n",
              "4                                 Moi mdr t trop nul  ...                                moi mdr t trop nul \n",
              "5                              Ta un mono sourcils 😂  ...  ta un mono sourcils visage avec des larmes de ...\n",
              "6                                      Grosse merdes  ...                                     grosse merdes \n",
              "7                                 espèce de gamin 😂😂  ...  espèce de gamin visage avec des larmes de joie...\n",
              "8  C'est quoi cette mode ou presque tout les YouT...  ...  c est quoi cette mode ou presque tout les yout...\n",
              "9  @VittoreMorgane @crdsar et ? il est au dessus ...  ...  et il est au dessus des lois je fais des reuni...\n",
              "\n",
              "[10 rows x 11 columns]"
            ]
          },
          "metadata": {
            "tags": []
          },
          "execution_count": 34
        }
      ]
    },
    {
      "cell_type": "code",
      "metadata": {
        "colab": {
          "base_uri": "https://localhost:8080/",
          "height": 93
        },
        "id": "4adX22hBwB8y",
        "outputId": "216f1309-f378-4583-874e-7fd4b85ab2e8"
      },
      "source": [
        "#Word Cloud on toxic posts by toxicity level\r\n",
        "\"\"\"\r\n",
        "text = ''\r\n",
        "dataset_vh = pd.DataFrame()\r\n",
        "dataset_vh = dataset_wo_stop[dataset_wo_stop['Level']=='VERY_HIGH']\r\n",
        "for news in dataset_vh.cleanSentence.values:\r\n",
        "    text += news\r\n",
        "wordcloud = WordCloud(\r\n",
        "    width = 3000,\r\n",
        "    height = 2000,\r\n",
        "    background_color = 'white',\r\n",
        "    stopwords = set(nltk.corpus.stopwords.words(\"english\"))).generate(text)\r\n",
        "fig = plt.figure(\r\n",
        "    figsize = (40, 30),\r\n",
        "    facecolor = 'k',\r\n",
        "    edgecolor = 'k')\r\n",
        "plt.imshow(wordcloud, interpolation = 'bilinear')\r\n",
        "plt.axis('off')\r\n",
        "plt.show()\r\n",
        "del dataset_vh, text\r\n",
        "\"\"\""
      ],
      "execution_count": 35,
      "outputs": [
        {
          "output_type": "execute_result",
          "data": {
            "application/vnd.google.colaboratory.intrinsic+json": {
              "type": "string"
            },
            "text/plain": [
              "'\\ntext = \\'\\'\\ndataset_vh = pd.DataFrame()\\ndataset_vh = dataset_wo_stop[dataset_wo_stop[\\'Level\\']==\\'VERY_HIGH\\']\\nfor news in dataset_vh.cleanSentence.values:\\n    text += news\\nwordcloud = WordCloud(\\n    width = 3000,\\n    height = 2000,\\n    background_color = \\'white\\',\\n    stopwords = set(nltk.corpus.stopwords.words(\"english\"))).generate(text)\\nfig = plt.figure(\\n    figsize = (40, 30),\\n    facecolor = \\'k\\',\\n    edgecolor = \\'k\\')\\nplt.imshow(wordcloud, interpolation = \\'bilinear\\')\\nplt.axis(\\'off\\')\\nplt.show()\\ndel dataset_vh, text\\n'"
            ]
          },
          "metadata": {
            "tags": []
          },
          "execution_count": 35
        }
      ]
    },
    {
      "cell_type": "code",
      "metadata": {
        "colab": {
          "base_uri": "https://localhost:8080/",
          "height": 487
        },
        "id": "O405aDJEtx4q",
        "outputId": "24840d1e-dc7a-4bed-d97c-d1b6fc30b9cb"
      },
      "source": [
        "#Removing frequent words\r\n",
        "#FREQWORDS = set([w for (w, wc) in cnt.most_common(10)])\r\n",
        "FREQWORDS = ['de', 'est', 'la', 'et', 'le','les','c','que','des','a','un','en','à', 'pour','qui', 'l', 'd', 'une', 'ce', 'mais', 'qu', 'ne', 'ça', 'dans','du', 'sur', 'avec', 'tout', 'au', 'si', 'comme']\r\n",
        "\r\n",
        "dataset_wo_freq = dataset.copy()\r\n",
        "\r\n",
        "def remove_freqwords(text):\r\n",
        "    return \" \".join([word for word in str(text).split() if word not in FREQWORDS])\r\n",
        "\r\n",
        "dataset_wo_freq['cleanSentence'] = dataset_wo_freq['cleanSentence'].apply(remove_freqwords)\r\n",
        "dataset_wo_freq.head(10)"
      ],
      "execution_count": 36,
      "outputs": [
        {
          "output_type": "execute_result",
          "data": {
            "text/html": [
              "<div>\n",
              "<style scoped>\n",
              "    .dataframe tbody tr th:only-of-type {\n",
              "        vertical-align: middle;\n",
              "    }\n",
              "\n",
              "    .dataframe tbody tr th {\n",
              "        vertical-align: top;\n",
              "    }\n",
              "\n",
              "    .dataframe thead th {\n",
              "        text-align: right;\n",
              "    }\n",
              "</style>\n",
              "<table border=\"1\" class=\"dataframe\">\n",
              "  <thead>\n",
              "    <tr style=\"text-align: right;\">\n",
              "      <th></th>\n",
              "      <th>Sentence</th>\n",
              "      <th>Type</th>\n",
              "      <th>Level</th>\n",
              "      <th>Target</th>\n",
              "      <th>Class</th>\n",
              "      <th>Length</th>\n",
              "      <th>Count</th>\n",
              "      <th>cleanSentence</th>\n",
              "      <th>Emoji</th>\n",
              "      <th>EmojiToText</th>\n",
              "      <th>enhancedSentence</th>\n",
              "    </tr>\n",
              "  </thead>\n",
              "  <tbody>\n",
              "    <tr>\n",
              "      <th>0</th>\n",
              "      <td>T pas Bo 😂😂🥃</td>\n",
              "      <td>Mockery</td>\n",
              "      <td>LOW</td>\n",
              "      <td>USER</td>\n",
              "      <td>1</td>\n",
              "      <td>12</td>\n",
              "      <td>4</td>\n",
              "      <td>t pas bo</td>\n",
              "      <td>[😂, 😂, 🥃]</td>\n",
              "      <td>visage avec des larmes de joie visage avec des...</td>\n",
              "      <td>t pas bo visage avec des larmes de joie visage...</td>\n",
              "    </tr>\n",
              "    <tr>\n",
              "      <th>1</th>\n",
              "      <td>t’es vilain 😂😂😂😂😂😂</td>\n",
              "      <td>Mockery</td>\n",
              "      <td>LOW</td>\n",
              "      <td>USER</td>\n",
              "      <td>1</td>\n",
              "      <td>18</td>\n",
              "      <td>3</td>\n",
              "      <td>t es vilain</td>\n",
              "      <td>[😂, 😂, 😂, 😂, 😂, 😂]</td>\n",
              "      <td>visage avec des larmes de joie visage avec des...</td>\n",
              "      <td>t es vilain visage avec des larmes de joie vis...</td>\n",
              "    </tr>\n",
              "    <tr>\n",
              "      <th>2</th>\n",
              "      <td>Je te propose un d'île je m'abonne à ta chaine...</td>\n",
              "      <td>Hate</td>\n",
              "      <td>LOW</td>\n",
              "      <td>USER</td>\n",
              "      <td>1</td>\n",
              "      <td>189</td>\n",
              "      <td>37</td>\n",
              "      <td>je te propose île je m abonne ta chaine tu t a...</td>\n",
              "      <td>[]</td>\n",
              "      <td></td>\n",
              "      <td>je te propose un d île je m abonne à ta chaine...</td>\n",
              "    </tr>\n",
              "    <tr>\n",
              "      <th>3</th>\n",
              "      <td>T un kiko mdr</td>\n",
              "      <td>Insult</td>\n",
              "      <td>LOW</td>\n",
              "      <td>USER</td>\n",
              "      <td>1</td>\n",
              "      <td>13</td>\n",
              "      <td>4</td>\n",
              "      <td>t kiko mdr</td>\n",
              "      <td>[]</td>\n",
              "      <td></td>\n",
              "      <td>t un kiko mdr</td>\n",
              "    </tr>\n",
              "    <tr>\n",
              "      <th>4</th>\n",
              "      <td>Moi mdr t trop nul</td>\n",
              "      <td>Hate</td>\n",
              "      <td>LOW</td>\n",
              "      <td>USER</td>\n",
              "      <td>1</td>\n",
              "      <td>18</td>\n",
              "      <td>5</td>\n",
              "      <td>moi mdr t trop nul</td>\n",
              "      <td>[]</td>\n",
              "      <td></td>\n",
              "      <td>moi mdr t trop nul</td>\n",
              "    </tr>\n",
              "    <tr>\n",
              "      <th>5</th>\n",
              "      <td>Ta un mono sourcils 😂</td>\n",
              "      <td>Mockery</td>\n",
              "      <td>LOW</td>\n",
              "      <td>USER</td>\n",
              "      <td>1</td>\n",
              "      <td>21</td>\n",
              "      <td>5</td>\n",
              "      <td>ta mono sourcils</td>\n",
              "      <td>[😂]</td>\n",
              "      <td>visage avec des larmes de joie</td>\n",
              "      <td>ta un mono sourcils visage avec des larmes de ...</td>\n",
              "    </tr>\n",
              "    <tr>\n",
              "      <th>6</th>\n",
              "      <td>Grosse merdes</td>\n",
              "      <td>Insult</td>\n",
              "      <td>LOW</td>\n",
              "      <td>USER</td>\n",
              "      <td>1</td>\n",
              "      <td>13</td>\n",
              "      <td>2</td>\n",
              "      <td>grosse merdes</td>\n",
              "      <td>[]</td>\n",
              "      <td></td>\n",
              "      <td>grosse merdes</td>\n",
              "    </tr>\n",
              "    <tr>\n",
              "      <th>7</th>\n",
              "      <td>espèce de gamin 😂😂</td>\n",
              "      <td>Insult</td>\n",
              "      <td>LOW</td>\n",
              "      <td>USER</td>\n",
              "      <td>1</td>\n",
              "      <td>18</td>\n",
              "      <td>4</td>\n",
              "      <td>espèce gamin</td>\n",
              "      <td>[😂, 😂]</td>\n",
              "      <td>visage avec des larmes de joie visage avec des...</td>\n",
              "      <td>espèce de gamin visage avec des larmes de joie...</td>\n",
              "    </tr>\n",
              "    <tr>\n",
              "      <th>8</th>\n",
              "      <td>C'est quoi cette mode ou presque tout les YouT...</td>\n",
              "      <td>Insult</td>\n",
              "      <td>LOW</td>\n",
              "      <td>USER</td>\n",
              "      <td>1</td>\n",
              "      <td>174</td>\n",
              "      <td>37</td>\n",
              "      <td>quoi cette mode ou presque youtubeurs joue jeu...</td>\n",
              "      <td>[]</td>\n",
              "      <td></td>\n",
              "      <td>c est quoi cette mode ou presque tout les yout...</td>\n",
              "    </tr>\n",
              "    <tr>\n",
              "      <th>9</th>\n",
              "      <td>@VittoreMorgane @crdsar et ? il est au dessus ...</td>\n",
              "      <td>Insult</td>\n",
              "      <td>LOW</td>\n",
              "      <td>USER</td>\n",
              "      <td>1</td>\n",
              "      <td>226</td>\n",
              "      <td>42</td>\n",
              "      <td>il dessus lois je fais reunions travail tous j...</td>\n",
              "      <td>[]</td>\n",
              "      <td></td>\n",
              "      <td>et il est au dessus des lois je fais des reuni...</td>\n",
              "    </tr>\n",
              "  </tbody>\n",
              "</table>\n",
              "</div>"
            ],
            "text/plain": [
              "                                            Sentence  ...                                   enhancedSentence\n",
              "0                                       T pas Bo 😂😂🥃  ...  t pas bo visage avec des larmes de joie visage...\n",
              "1                                 t’es vilain 😂😂😂😂😂😂  ...  t es vilain visage avec des larmes de joie vis...\n",
              "2  Je te propose un d'île je m'abonne à ta chaine...  ...  je te propose un d île je m abonne à ta chaine...\n",
              "3                                      T un kiko mdr  ...                                     t un kiko mdr \n",
              "4                                 Moi mdr t trop nul  ...                                moi mdr t trop nul \n",
              "5                              Ta un mono sourcils 😂  ...  ta un mono sourcils visage avec des larmes de ...\n",
              "6                                      Grosse merdes  ...                                     grosse merdes \n",
              "7                                 espèce de gamin 😂😂  ...  espèce de gamin visage avec des larmes de joie...\n",
              "8  C'est quoi cette mode ou presque tout les YouT...  ...  c est quoi cette mode ou presque tout les yout...\n",
              "9  @VittoreMorgane @crdsar et ? il est au dessus ...  ...  et il est au dessus des lois je fais des reuni...\n",
              "\n",
              "[10 rows x 11 columns]"
            ]
          },
          "metadata": {
            "tags": []
          },
          "execution_count": 36
        }
      ]
    },
    {
      "cell_type": "code",
      "metadata": {
        "colab": {
          "base_uri": "https://localhost:8080/"
        },
        "id": "DkIe8gx6u-hM",
        "outputId": "b4ef2ce0-46d7-413c-acc8-124dc11a8d83"
      },
      "source": [
        "#Checking frequent words\r\n",
        "cnt_frq = Counter()\r\n",
        "for text in dataset_wo_freq[\"cleanSentence\"].values:\r\n",
        "    for word in text.split():\r\n",
        "        cnt_frq[word] += 1\r\n",
        "        \r\n",
        "cnt_frq.most_common(20)"
      ],
      "execution_count": 37,
      "outputs": [
        {
          "output_type": "execute_result",
          "data": {
            "text/plain": [
              "[('pas', 92356),\n",
              " ('je', 80306),\n",
              " ('il', 67932),\n",
              " ('tu', 65680),\n",
              " ('vous', 53252),\n",
              " ('on', 44948),\n",
              " ('j', 42214),\n",
              " ('t', 33397),\n",
              " ('ta', 29548),\n",
              " ('n', 28819),\n",
              " ('plus', 28111),\n",
              " ('fait', 26564),\n",
              " ('faire', 26072),\n",
              " ('ai', 24814),\n",
              " ('se', 24618),\n",
              " ('merde', 22899),\n",
              " ('ou', 21633),\n",
              " ('bien', 21143),\n",
              " ('y', 20733),\n",
              " ('sont', 20577)]"
            ]
          },
          "metadata": {
            "tags": []
          },
          "execution_count": 37
        }
      ]
    },
    {
      "cell_type": "markdown",
      "metadata": {
        "id": "nCCW0iiCgzHh"
      },
      "source": [
        "### Tokenizing"
      ]
    },
    {
      "cell_type": "code",
      "metadata": {
        "colab": {
          "base_uri": "https://localhost:8080/",
          "height": 603
        },
        "id": "jrIhczHgf7QX",
        "outputId": "ca47dad3-2f0e-4b91-a524-24fbd81120a9"
      },
      "source": [
        "dataset['finalSentence'] = dataset['cleanSentence'].apply(word_tokenize)\r\n",
        "#dataset['finalSentence'] = dataset['enhancedSentence'].apply(word_tokenize)\r\n",
        "dataset.head(10)"
      ],
      "execution_count": 38,
      "outputs": [
        {
          "output_type": "execute_result",
          "data": {
            "text/html": [
              "<div>\n",
              "<style scoped>\n",
              "    .dataframe tbody tr th:only-of-type {\n",
              "        vertical-align: middle;\n",
              "    }\n",
              "\n",
              "    .dataframe tbody tr th {\n",
              "        vertical-align: top;\n",
              "    }\n",
              "\n",
              "    .dataframe thead th {\n",
              "        text-align: right;\n",
              "    }\n",
              "</style>\n",
              "<table border=\"1\" class=\"dataframe\">\n",
              "  <thead>\n",
              "    <tr style=\"text-align: right;\">\n",
              "      <th></th>\n",
              "      <th>Sentence</th>\n",
              "      <th>Type</th>\n",
              "      <th>Level</th>\n",
              "      <th>Target</th>\n",
              "      <th>Class</th>\n",
              "      <th>Length</th>\n",
              "      <th>Count</th>\n",
              "      <th>cleanSentence</th>\n",
              "      <th>Emoji</th>\n",
              "      <th>EmojiToText</th>\n",
              "      <th>enhancedSentence</th>\n",
              "      <th>finalSentence</th>\n",
              "    </tr>\n",
              "  </thead>\n",
              "  <tbody>\n",
              "    <tr>\n",
              "      <th>0</th>\n",
              "      <td>T pas Bo 😂😂🥃</td>\n",
              "      <td>Mockery</td>\n",
              "      <td>LOW</td>\n",
              "      <td>USER</td>\n",
              "      <td>1</td>\n",
              "      <td>12</td>\n",
              "      <td>4</td>\n",
              "      <td>t pas bo</td>\n",
              "      <td>[😂, 😂, 🥃]</td>\n",
              "      <td>visage avec des larmes de joie visage avec des...</td>\n",
              "      <td>t pas bo visage avec des larmes de joie visage...</td>\n",
              "      <td>[t, pas, bo]</td>\n",
              "    </tr>\n",
              "    <tr>\n",
              "      <th>1</th>\n",
              "      <td>t’es vilain 😂😂😂😂😂😂</td>\n",
              "      <td>Mockery</td>\n",
              "      <td>LOW</td>\n",
              "      <td>USER</td>\n",
              "      <td>1</td>\n",
              "      <td>18</td>\n",
              "      <td>3</td>\n",
              "      <td>t es vilain</td>\n",
              "      <td>[😂, 😂, 😂, 😂, 😂, 😂]</td>\n",
              "      <td>visage avec des larmes de joie visage avec des...</td>\n",
              "      <td>t es vilain visage avec des larmes de joie vis...</td>\n",
              "      <td>[t, es, vilain]</td>\n",
              "    </tr>\n",
              "    <tr>\n",
              "      <th>2</th>\n",
              "      <td>Je te propose un d'île je m'abonne à ta chaine...</td>\n",
              "      <td>Hate</td>\n",
              "      <td>LOW</td>\n",
              "      <td>USER</td>\n",
              "      <td>1</td>\n",
              "      <td>189</td>\n",
              "      <td>37</td>\n",
              "      <td>je te propose un d île je m abonne à ta chaine...</td>\n",
              "      <td>[]</td>\n",
              "      <td></td>\n",
              "      <td>je te propose un d île je m abonne à ta chaine...</td>\n",
              "      <td>[je, te, propose, un, d, île, je, m, abonne, à...</td>\n",
              "    </tr>\n",
              "    <tr>\n",
              "      <th>3</th>\n",
              "      <td>T un kiko mdr</td>\n",
              "      <td>Insult</td>\n",
              "      <td>LOW</td>\n",
              "      <td>USER</td>\n",
              "      <td>1</td>\n",
              "      <td>13</td>\n",
              "      <td>4</td>\n",
              "      <td>t un kiko mdr</td>\n",
              "      <td>[]</td>\n",
              "      <td></td>\n",
              "      <td>t un kiko mdr</td>\n",
              "      <td>[t, un, kiko, mdr]</td>\n",
              "    </tr>\n",
              "    <tr>\n",
              "      <th>4</th>\n",
              "      <td>Moi mdr t trop nul</td>\n",
              "      <td>Hate</td>\n",
              "      <td>LOW</td>\n",
              "      <td>USER</td>\n",
              "      <td>1</td>\n",
              "      <td>18</td>\n",
              "      <td>5</td>\n",
              "      <td>moi mdr t trop nul</td>\n",
              "      <td>[]</td>\n",
              "      <td></td>\n",
              "      <td>moi mdr t trop nul</td>\n",
              "      <td>[moi, mdr, t, trop, nul]</td>\n",
              "    </tr>\n",
              "    <tr>\n",
              "      <th>5</th>\n",
              "      <td>Ta un mono sourcils 😂</td>\n",
              "      <td>Mockery</td>\n",
              "      <td>LOW</td>\n",
              "      <td>USER</td>\n",
              "      <td>1</td>\n",
              "      <td>21</td>\n",
              "      <td>5</td>\n",
              "      <td>ta un mono sourcils</td>\n",
              "      <td>[😂]</td>\n",
              "      <td>visage avec des larmes de joie</td>\n",
              "      <td>ta un mono sourcils visage avec des larmes de ...</td>\n",
              "      <td>[ta, un, mono, sourcils]</td>\n",
              "    </tr>\n",
              "    <tr>\n",
              "      <th>6</th>\n",
              "      <td>Grosse merdes</td>\n",
              "      <td>Insult</td>\n",
              "      <td>LOW</td>\n",
              "      <td>USER</td>\n",
              "      <td>1</td>\n",
              "      <td>13</td>\n",
              "      <td>2</td>\n",
              "      <td>grosse merdes</td>\n",
              "      <td>[]</td>\n",
              "      <td></td>\n",
              "      <td>grosse merdes</td>\n",
              "      <td>[grosse, merdes]</td>\n",
              "    </tr>\n",
              "    <tr>\n",
              "      <th>7</th>\n",
              "      <td>espèce de gamin 😂😂</td>\n",
              "      <td>Insult</td>\n",
              "      <td>LOW</td>\n",
              "      <td>USER</td>\n",
              "      <td>1</td>\n",
              "      <td>18</td>\n",
              "      <td>4</td>\n",
              "      <td>espèce de gamin</td>\n",
              "      <td>[😂, 😂]</td>\n",
              "      <td>visage avec des larmes de joie visage avec des...</td>\n",
              "      <td>espèce de gamin visage avec des larmes de joie...</td>\n",
              "      <td>[espèce, de, gamin]</td>\n",
              "    </tr>\n",
              "    <tr>\n",
              "      <th>8</th>\n",
              "      <td>C'est quoi cette mode ou presque tout les YouT...</td>\n",
              "      <td>Insult</td>\n",
              "      <td>LOW</td>\n",
              "      <td>USER</td>\n",
              "      <td>1</td>\n",
              "      <td>174</td>\n",
              "      <td>37</td>\n",
              "      <td>c est quoi cette mode ou presque tout les yout...</td>\n",
              "      <td>[]</td>\n",
              "      <td></td>\n",
              "      <td>c est quoi cette mode ou presque tout les yout...</td>\n",
              "      <td>[c, est, quoi, cette, mode, ou, presque, tout,...</td>\n",
              "    </tr>\n",
              "    <tr>\n",
              "      <th>9</th>\n",
              "      <td>@VittoreMorgane @crdsar et ? il est au dessus ...</td>\n",
              "      <td>Insult</td>\n",
              "      <td>LOW</td>\n",
              "      <td>USER</td>\n",
              "      <td>1</td>\n",
              "      <td>226</td>\n",
              "      <td>42</td>\n",
              "      <td>et il est au dessus des lois je fais des reuni...</td>\n",
              "      <td>[]</td>\n",
              "      <td></td>\n",
              "      <td>et il est au dessus des lois je fais des reuni...</td>\n",
              "      <td>[et, il, est, au, dessus, des, lois, je, fais,...</td>\n",
              "    </tr>\n",
              "  </tbody>\n",
              "</table>\n",
              "</div>"
            ],
            "text/plain": [
              "                                            Sentence  ...                                      finalSentence\n",
              "0                                       T pas Bo 😂😂🥃  ...                                       [t, pas, bo]\n",
              "1                                 t’es vilain 😂😂😂😂😂😂  ...                                    [t, es, vilain]\n",
              "2  Je te propose un d'île je m'abonne à ta chaine...  ...  [je, te, propose, un, d, île, je, m, abonne, à...\n",
              "3                                      T un kiko mdr  ...                                 [t, un, kiko, mdr]\n",
              "4                                 Moi mdr t trop nul  ...                           [moi, mdr, t, trop, nul]\n",
              "5                              Ta un mono sourcils 😂  ...                           [ta, un, mono, sourcils]\n",
              "6                                      Grosse merdes  ...                                   [grosse, merdes]\n",
              "7                                 espèce de gamin 😂😂  ...                                [espèce, de, gamin]\n",
              "8  C'est quoi cette mode ou presque tout les YouT...  ...  [c, est, quoi, cette, mode, ou, presque, tout,...\n",
              "9  @VittoreMorgane @crdsar et ? il est au dessus ...  ...  [et, il, est, au, dessus, des, lois, je, fais,...\n",
              "\n",
              "[10 rows x 12 columns]"
            ]
          },
          "metadata": {
            "tags": []
          },
          "execution_count": 38
        }
      ]
    },
    {
      "cell_type": "code",
      "metadata": {
        "colab": {
          "base_uri": "https://localhost:8080/",
          "height": 653
        },
        "id": "2V8myZwnn9Oq",
        "outputId": "50cac580-0267-4df1-cb80-70b3e79328c4"
      },
      "source": [
        "dataset['ultimateSentence'] = dataset['enhancedSentence'].apply(word_tokenize)\r\n",
        "dataset.head(10)"
      ],
      "execution_count": 39,
      "outputs": [
        {
          "output_type": "execute_result",
          "data": {
            "text/html": [
              "<div>\n",
              "<style scoped>\n",
              "    .dataframe tbody tr th:only-of-type {\n",
              "        vertical-align: middle;\n",
              "    }\n",
              "\n",
              "    .dataframe tbody tr th {\n",
              "        vertical-align: top;\n",
              "    }\n",
              "\n",
              "    .dataframe thead th {\n",
              "        text-align: right;\n",
              "    }\n",
              "</style>\n",
              "<table border=\"1\" class=\"dataframe\">\n",
              "  <thead>\n",
              "    <tr style=\"text-align: right;\">\n",
              "      <th></th>\n",
              "      <th>Sentence</th>\n",
              "      <th>Type</th>\n",
              "      <th>Level</th>\n",
              "      <th>Target</th>\n",
              "      <th>Class</th>\n",
              "      <th>Length</th>\n",
              "      <th>Count</th>\n",
              "      <th>cleanSentence</th>\n",
              "      <th>Emoji</th>\n",
              "      <th>EmojiToText</th>\n",
              "      <th>enhancedSentence</th>\n",
              "      <th>finalSentence</th>\n",
              "      <th>ultimateSentence</th>\n",
              "    </tr>\n",
              "  </thead>\n",
              "  <tbody>\n",
              "    <tr>\n",
              "      <th>0</th>\n",
              "      <td>T pas Bo 😂😂🥃</td>\n",
              "      <td>Mockery</td>\n",
              "      <td>LOW</td>\n",
              "      <td>USER</td>\n",
              "      <td>1</td>\n",
              "      <td>12</td>\n",
              "      <td>4</td>\n",
              "      <td>t pas bo</td>\n",
              "      <td>[😂, 😂, 🥃]</td>\n",
              "      <td>visage avec des larmes de joie visage avec des...</td>\n",
              "      <td>t pas bo visage avec des larmes de joie visage...</td>\n",
              "      <td>[t, pas, bo]</td>\n",
              "      <td>[t, pas, bo, visage, avec, des, larmes, de, jo...</td>\n",
              "    </tr>\n",
              "    <tr>\n",
              "      <th>1</th>\n",
              "      <td>t’es vilain 😂😂😂😂😂😂</td>\n",
              "      <td>Mockery</td>\n",
              "      <td>LOW</td>\n",
              "      <td>USER</td>\n",
              "      <td>1</td>\n",
              "      <td>18</td>\n",
              "      <td>3</td>\n",
              "      <td>t es vilain</td>\n",
              "      <td>[😂, 😂, 😂, 😂, 😂, 😂]</td>\n",
              "      <td>visage avec des larmes de joie visage avec des...</td>\n",
              "      <td>t es vilain visage avec des larmes de joie vis...</td>\n",
              "      <td>[t, es, vilain]</td>\n",
              "      <td>[t, es, vilain, visage, avec, des, larmes, de,...</td>\n",
              "    </tr>\n",
              "    <tr>\n",
              "      <th>2</th>\n",
              "      <td>Je te propose un d'île je m'abonne à ta chaine...</td>\n",
              "      <td>Hate</td>\n",
              "      <td>LOW</td>\n",
              "      <td>USER</td>\n",
              "      <td>1</td>\n",
              "      <td>189</td>\n",
              "      <td>37</td>\n",
              "      <td>je te propose un d île je m abonne à ta chaine...</td>\n",
              "      <td>[]</td>\n",
              "      <td></td>\n",
              "      <td>je te propose un d île je m abonne à ta chaine...</td>\n",
              "      <td>[je, te, propose, un, d, île, je, m, abonne, à...</td>\n",
              "      <td>[je, te, propose, un, d, île, je, m, abonne, à...</td>\n",
              "    </tr>\n",
              "    <tr>\n",
              "      <th>3</th>\n",
              "      <td>T un kiko mdr</td>\n",
              "      <td>Insult</td>\n",
              "      <td>LOW</td>\n",
              "      <td>USER</td>\n",
              "      <td>1</td>\n",
              "      <td>13</td>\n",
              "      <td>4</td>\n",
              "      <td>t un kiko mdr</td>\n",
              "      <td>[]</td>\n",
              "      <td></td>\n",
              "      <td>t un kiko mdr</td>\n",
              "      <td>[t, un, kiko, mdr]</td>\n",
              "      <td>[t, un, kiko, mdr]</td>\n",
              "    </tr>\n",
              "    <tr>\n",
              "      <th>4</th>\n",
              "      <td>Moi mdr t trop nul</td>\n",
              "      <td>Hate</td>\n",
              "      <td>LOW</td>\n",
              "      <td>USER</td>\n",
              "      <td>1</td>\n",
              "      <td>18</td>\n",
              "      <td>5</td>\n",
              "      <td>moi mdr t trop nul</td>\n",
              "      <td>[]</td>\n",
              "      <td></td>\n",
              "      <td>moi mdr t trop nul</td>\n",
              "      <td>[moi, mdr, t, trop, nul]</td>\n",
              "      <td>[moi, mdr, t, trop, nul]</td>\n",
              "    </tr>\n",
              "    <tr>\n",
              "      <th>5</th>\n",
              "      <td>Ta un mono sourcils 😂</td>\n",
              "      <td>Mockery</td>\n",
              "      <td>LOW</td>\n",
              "      <td>USER</td>\n",
              "      <td>1</td>\n",
              "      <td>21</td>\n",
              "      <td>5</td>\n",
              "      <td>ta un mono sourcils</td>\n",
              "      <td>[😂]</td>\n",
              "      <td>visage avec des larmes de joie</td>\n",
              "      <td>ta un mono sourcils visage avec des larmes de ...</td>\n",
              "      <td>[ta, un, mono, sourcils]</td>\n",
              "      <td>[ta, un, mono, sourcils, visage, avec, des, la...</td>\n",
              "    </tr>\n",
              "    <tr>\n",
              "      <th>6</th>\n",
              "      <td>Grosse merdes</td>\n",
              "      <td>Insult</td>\n",
              "      <td>LOW</td>\n",
              "      <td>USER</td>\n",
              "      <td>1</td>\n",
              "      <td>13</td>\n",
              "      <td>2</td>\n",
              "      <td>grosse merdes</td>\n",
              "      <td>[]</td>\n",
              "      <td></td>\n",
              "      <td>grosse merdes</td>\n",
              "      <td>[grosse, merdes]</td>\n",
              "      <td>[grosse, merdes]</td>\n",
              "    </tr>\n",
              "    <tr>\n",
              "      <th>7</th>\n",
              "      <td>espèce de gamin 😂😂</td>\n",
              "      <td>Insult</td>\n",
              "      <td>LOW</td>\n",
              "      <td>USER</td>\n",
              "      <td>1</td>\n",
              "      <td>18</td>\n",
              "      <td>4</td>\n",
              "      <td>espèce de gamin</td>\n",
              "      <td>[😂, 😂]</td>\n",
              "      <td>visage avec des larmes de joie visage avec des...</td>\n",
              "      <td>espèce de gamin visage avec des larmes de joie...</td>\n",
              "      <td>[espèce, de, gamin]</td>\n",
              "      <td>[espèce, de, gamin, visage, avec, des, larmes,...</td>\n",
              "    </tr>\n",
              "    <tr>\n",
              "      <th>8</th>\n",
              "      <td>C'est quoi cette mode ou presque tout les YouT...</td>\n",
              "      <td>Insult</td>\n",
              "      <td>LOW</td>\n",
              "      <td>USER</td>\n",
              "      <td>1</td>\n",
              "      <td>174</td>\n",
              "      <td>37</td>\n",
              "      <td>c est quoi cette mode ou presque tout les yout...</td>\n",
              "      <td>[]</td>\n",
              "      <td></td>\n",
              "      <td>c est quoi cette mode ou presque tout les yout...</td>\n",
              "      <td>[c, est, quoi, cette, mode, ou, presque, tout,...</td>\n",
              "      <td>[c, est, quoi, cette, mode, ou, presque, tout,...</td>\n",
              "    </tr>\n",
              "    <tr>\n",
              "      <th>9</th>\n",
              "      <td>@VittoreMorgane @crdsar et ? il est au dessus ...</td>\n",
              "      <td>Insult</td>\n",
              "      <td>LOW</td>\n",
              "      <td>USER</td>\n",
              "      <td>1</td>\n",
              "      <td>226</td>\n",
              "      <td>42</td>\n",
              "      <td>et il est au dessus des lois je fais des reuni...</td>\n",
              "      <td>[]</td>\n",
              "      <td></td>\n",
              "      <td>et il est au dessus des lois je fais des reuni...</td>\n",
              "      <td>[et, il, est, au, dessus, des, lois, je, fais,...</td>\n",
              "      <td>[et, il, est, au, dessus, des, lois, je, fais,...</td>\n",
              "    </tr>\n",
              "  </tbody>\n",
              "</table>\n",
              "</div>"
            ],
            "text/plain": [
              "                                            Sentence  ...                                   ultimateSentence\n",
              "0                                       T pas Bo 😂😂🥃  ...  [t, pas, bo, visage, avec, des, larmes, de, jo...\n",
              "1                                 t’es vilain 😂😂😂😂😂😂  ...  [t, es, vilain, visage, avec, des, larmes, de,...\n",
              "2  Je te propose un d'île je m'abonne à ta chaine...  ...  [je, te, propose, un, d, île, je, m, abonne, à...\n",
              "3                                      T un kiko mdr  ...                                 [t, un, kiko, mdr]\n",
              "4                                 Moi mdr t trop nul  ...                           [moi, mdr, t, trop, nul]\n",
              "5                              Ta un mono sourcils 😂  ...  [ta, un, mono, sourcils, visage, avec, des, la...\n",
              "6                                      Grosse merdes  ...                                   [grosse, merdes]\n",
              "7                                 espèce de gamin 😂😂  ...  [espèce, de, gamin, visage, avec, des, larmes,...\n",
              "8  C'est quoi cette mode ou presque tout les YouT...  ...  [c, est, quoi, cette, mode, ou, presque, tout,...\n",
              "9  @VittoreMorgane @crdsar et ? il est au dessus ...  ...  [et, il, est, au, dessus, des, lois, je, fais,...\n",
              "\n",
              "[10 rows x 13 columns]"
            ]
          },
          "metadata": {
            "tags": []
          },
          "execution_count": 39
        }
      ]
    },
    {
      "cell_type": "code",
      "metadata": {
        "colab": {
          "base_uri": "https://localhost:8080/",
          "height": 587
        },
        "id": "GNGKX2uZiAWj",
        "outputId": "5c79b8b6-ce31-459e-c37f-1ac2a6412d88"
      },
      "source": [
        "dataset_wo_stop['finalSentence'] = dataset_wo_stop['cleanSentence'].apply(word_tokenize)\r\n",
        "dataset_wo_stop.head(10)"
      ],
      "execution_count": 40,
      "outputs": [
        {
          "output_type": "execute_result",
          "data": {
            "text/html": [
              "<div>\n",
              "<style scoped>\n",
              "    .dataframe tbody tr th:only-of-type {\n",
              "        vertical-align: middle;\n",
              "    }\n",
              "\n",
              "    .dataframe tbody tr th {\n",
              "        vertical-align: top;\n",
              "    }\n",
              "\n",
              "    .dataframe thead th {\n",
              "        text-align: right;\n",
              "    }\n",
              "</style>\n",
              "<table border=\"1\" class=\"dataframe\">\n",
              "  <thead>\n",
              "    <tr style=\"text-align: right;\">\n",
              "      <th></th>\n",
              "      <th>Sentence</th>\n",
              "      <th>Type</th>\n",
              "      <th>Level</th>\n",
              "      <th>Target</th>\n",
              "      <th>Class</th>\n",
              "      <th>Length</th>\n",
              "      <th>Count</th>\n",
              "      <th>cleanSentence</th>\n",
              "      <th>Emoji</th>\n",
              "      <th>EmojiToText</th>\n",
              "      <th>enhancedSentence</th>\n",
              "      <th>finalSentence</th>\n",
              "    </tr>\n",
              "  </thead>\n",
              "  <tbody>\n",
              "    <tr>\n",
              "      <th>0</th>\n",
              "      <td>T pas Bo 😂😂🥃</td>\n",
              "      <td>Mockery</td>\n",
              "      <td>LOW</td>\n",
              "      <td>USER</td>\n",
              "      <td>1</td>\n",
              "      <td>12</td>\n",
              "      <td>4</td>\n",
              "      <td>bo</td>\n",
              "      <td>[😂, 😂, 🥃]</td>\n",
              "      <td>visage avec des larmes de joie visage avec des...</td>\n",
              "      <td>t pas bo visage avec des larmes de joie visage...</td>\n",
              "      <td>[bo]</td>\n",
              "    </tr>\n",
              "    <tr>\n",
              "      <th>1</th>\n",
              "      <td>t’es vilain 😂😂😂😂😂😂</td>\n",
              "      <td>Mockery</td>\n",
              "      <td>LOW</td>\n",
              "      <td>USER</td>\n",
              "      <td>1</td>\n",
              "      <td>18</td>\n",
              "      <td>3</td>\n",
              "      <td>vilain</td>\n",
              "      <td>[😂, 😂, 😂, 😂, 😂, 😂]</td>\n",
              "      <td>visage avec des larmes de joie visage avec des...</td>\n",
              "      <td>t es vilain visage avec des larmes de joie vis...</td>\n",
              "      <td>[vilain]</td>\n",
              "    </tr>\n",
              "    <tr>\n",
              "      <th>2</th>\n",
              "      <td>Je te propose un d'île je m'abonne à ta chaine...</td>\n",
              "      <td>Hate</td>\n",
              "      <td>LOW</td>\n",
              "      <td>USER</td>\n",
              "      <td>1</td>\n",
              "      <td>189</td>\n",
              "      <td>37</td>\n",
              "      <td>propose île abonne chaine abonner chaîne youtu...</td>\n",
              "      <td>[]</td>\n",
              "      <td></td>\n",
              "      <td>je te propose un d île je m abonne à ta chaine...</td>\n",
              "      <td>[propose, île, abonne, chaine, abonner, chaîne...</td>\n",
              "    </tr>\n",
              "    <tr>\n",
              "      <th>3</th>\n",
              "      <td>T un kiko mdr</td>\n",
              "      <td>Insult</td>\n",
              "      <td>LOW</td>\n",
              "      <td>USER</td>\n",
              "      <td>1</td>\n",
              "      <td>13</td>\n",
              "      <td>4</td>\n",
              "      <td>kiko mdr</td>\n",
              "      <td>[]</td>\n",
              "      <td></td>\n",
              "      <td>t un kiko mdr</td>\n",
              "      <td>[kiko, mdr]</td>\n",
              "    </tr>\n",
              "    <tr>\n",
              "      <th>4</th>\n",
              "      <td>Moi mdr t trop nul</td>\n",
              "      <td>Hate</td>\n",
              "      <td>LOW</td>\n",
              "      <td>USER</td>\n",
              "      <td>1</td>\n",
              "      <td>18</td>\n",
              "      <td>5</td>\n",
              "      <td>mdr trop nul</td>\n",
              "      <td>[]</td>\n",
              "      <td></td>\n",
              "      <td>moi mdr t trop nul</td>\n",
              "      <td>[mdr, trop, nul]</td>\n",
              "    </tr>\n",
              "    <tr>\n",
              "      <th>5</th>\n",
              "      <td>Ta un mono sourcils 😂</td>\n",
              "      <td>Mockery</td>\n",
              "      <td>LOW</td>\n",
              "      <td>USER</td>\n",
              "      <td>1</td>\n",
              "      <td>21</td>\n",
              "      <td>5</td>\n",
              "      <td>mono sourcils</td>\n",
              "      <td>[😂]</td>\n",
              "      <td>visage avec des larmes de joie</td>\n",
              "      <td>ta un mono sourcils visage avec des larmes de ...</td>\n",
              "      <td>[mono, sourcils]</td>\n",
              "    </tr>\n",
              "    <tr>\n",
              "      <th>6</th>\n",
              "      <td>Grosse merdes</td>\n",
              "      <td>Insult</td>\n",
              "      <td>LOW</td>\n",
              "      <td>USER</td>\n",
              "      <td>1</td>\n",
              "      <td>13</td>\n",
              "      <td>2</td>\n",
              "      <td>grosse merdes</td>\n",
              "      <td>[]</td>\n",
              "      <td></td>\n",
              "      <td>grosse merdes</td>\n",
              "      <td>[grosse, merdes]</td>\n",
              "    </tr>\n",
              "    <tr>\n",
              "      <th>7</th>\n",
              "      <td>espèce de gamin 😂😂</td>\n",
              "      <td>Insult</td>\n",
              "      <td>LOW</td>\n",
              "      <td>USER</td>\n",
              "      <td>1</td>\n",
              "      <td>18</td>\n",
              "      <td>4</td>\n",
              "      <td>espèce gamin</td>\n",
              "      <td>[😂, 😂]</td>\n",
              "      <td>visage avec des larmes de joie visage avec des...</td>\n",
              "      <td>espèce de gamin visage avec des larmes de joie...</td>\n",
              "      <td>[espèce, gamin]</td>\n",
              "    </tr>\n",
              "    <tr>\n",
              "      <th>8</th>\n",
              "      <td>C'est quoi cette mode ou presque tout les YouT...</td>\n",
              "      <td>Insult</td>\n",
              "      <td>LOW</td>\n",
              "      <td>USER</td>\n",
              "      <td>1</td>\n",
              "      <td>174</td>\n",
              "      <td>37</td>\n",
              "      <td>quoi cette mode presque tout youtubeurs joue j...</td>\n",
              "      <td>[]</td>\n",
              "      <td></td>\n",
              "      <td>c est quoi cette mode ou presque tout les yout...</td>\n",
              "      <td>[quoi, cette, mode, presque, tout, youtubeurs,...</td>\n",
              "    </tr>\n",
              "    <tr>\n",
              "      <th>9</th>\n",
              "      <td>@VittoreMorgane @crdsar et ? il est au dessus ...</td>\n",
              "      <td>Insult</td>\n",
              "      <td>LOW</td>\n",
              "      <td>USER</td>\n",
              "      <td>1</td>\n",
              "      <td>226</td>\n",
              "      <td>42</td>\n",
              "      <td>dessus lois fais reunions travail tous jours v...</td>\n",
              "      <td>[]</td>\n",
              "      <td></td>\n",
              "      <td>et il est au dessus des lois je fais des reuni...</td>\n",
              "      <td>[dessus, lois, fais, reunions, travail, tous, ...</td>\n",
              "    </tr>\n",
              "  </tbody>\n",
              "</table>\n",
              "</div>"
            ],
            "text/plain": [
              "                                            Sentence  ...                                      finalSentence\n",
              "0                                       T pas Bo 😂😂🥃  ...                                               [bo]\n",
              "1                                 t’es vilain 😂😂😂😂😂😂  ...                                           [vilain]\n",
              "2  Je te propose un d'île je m'abonne à ta chaine...  ...  [propose, île, abonne, chaine, abonner, chaîne...\n",
              "3                                      T un kiko mdr  ...                                        [kiko, mdr]\n",
              "4                                 Moi mdr t trop nul  ...                                   [mdr, trop, nul]\n",
              "5                              Ta un mono sourcils 😂  ...                                   [mono, sourcils]\n",
              "6                                      Grosse merdes  ...                                   [grosse, merdes]\n",
              "7                                 espèce de gamin 😂😂  ...                                    [espèce, gamin]\n",
              "8  C'est quoi cette mode ou presque tout les YouT...  ...  [quoi, cette, mode, presque, tout, youtubeurs,...\n",
              "9  @VittoreMorgane @crdsar et ? il est au dessus ...  ...  [dessus, lois, fais, reunions, travail, tous, ...\n",
              "\n",
              "[10 rows x 12 columns]"
            ]
          },
          "metadata": {
            "tags": []
          },
          "execution_count": 40
        }
      ]
    },
    {
      "cell_type": "code",
      "metadata": {
        "colab": {
          "base_uri": "https://localhost:8080/",
          "height": 603
        },
        "id": "PNK4z3nxv5MW",
        "outputId": "dd46ad5f-6916-4865-c8d7-5fd27bdc35d5"
      },
      "source": [
        "dataset_wo_freq['finalSentence'] = dataset_wo_freq['cleanSentence'].apply(word_tokenize)\r\n",
        "dataset_wo_freq.head(10)"
      ],
      "execution_count": 41,
      "outputs": [
        {
          "output_type": "execute_result",
          "data": {
            "text/html": [
              "<div>\n",
              "<style scoped>\n",
              "    .dataframe tbody tr th:only-of-type {\n",
              "        vertical-align: middle;\n",
              "    }\n",
              "\n",
              "    .dataframe tbody tr th {\n",
              "        vertical-align: top;\n",
              "    }\n",
              "\n",
              "    .dataframe thead th {\n",
              "        text-align: right;\n",
              "    }\n",
              "</style>\n",
              "<table border=\"1\" class=\"dataframe\">\n",
              "  <thead>\n",
              "    <tr style=\"text-align: right;\">\n",
              "      <th></th>\n",
              "      <th>Sentence</th>\n",
              "      <th>Type</th>\n",
              "      <th>Level</th>\n",
              "      <th>Target</th>\n",
              "      <th>Class</th>\n",
              "      <th>Length</th>\n",
              "      <th>Count</th>\n",
              "      <th>cleanSentence</th>\n",
              "      <th>Emoji</th>\n",
              "      <th>EmojiToText</th>\n",
              "      <th>enhancedSentence</th>\n",
              "      <th>finalSentence</th>\n",
              "    </tr>\n",
              "  </thead>\n",
              "  <tbody>\n",
              "    <tr>\n",
              "      <th>0</th>\n",
              "      <td>T pas Bo 😂😂🥃</td>\n",
              "      <td>Mockery</td>\n",
              "      <td>LOW</td>\n",
              "      <td>USER</td>\n",
              "      <td>1</td>\n",
              "      <td>12</td>\n",
              "      <td>4</td>\n",
              "      <td>t pas bo</td>\n",
              "      <td>[😂, 😂, 🥃]</td>\n",
              "      <td>visage avec des larmes de joie visage avec des...</td>\n",
              "      <td>t pas bo visage avec des larmes de joie visage...</td>\n",
              "      <td>[t, pas, bo]</td>\n",
              "    </tr>\n",
              "    <tr>\n",
              "      <th>1</th>\n",
              "      <td>t’es vilain 😂😂😂😂😂😂</td>\n",
              "      <td>Mockery</td>\n",
              "      <td>LOW</td>\n",
              "      <td>USER</td>\n",
              "      <td>1</td>\n",
              "      <td>18</td>\n",
              "      <td>3</td>\n",
              "      <td>t es vilain</td>\n",
              "      <td>[😂, 😂, 😂, 😂, 😂, 😂]</td>\n",
              "      <td>visage avec des larmes de joie visage avec des...</td>\n",
              "      <td>t es vilain visage avec des larmes de joie vis...</td>\n",
              "      <td>[t, es, vilain]</td>\n",
              "    </tr>\n",
              "    <tr>\n",
              "      <th>2</th>\n",
              "      <td>Je te propose un d'île je m'abonne à ta chaine...</td>\n",
              "      <td>Hate</td>\n",
              "      <td>LOW</td>\n",
              "      <td>USER</td>\n",
              "      <td>1</td>\n",
              "      <td>189</td>\n",
              "      <td>37</td>\n",
              "      <td>je te propose île je m abonne ta chaine tu t a...</td>\n",
              "      <td>[]</td>\n",
              "      <td></td>\n",
              "      <td>je te propose un d île je m abonne à ta chaine...</td>\n",
              "      <td>[je, te, propose, île, je, m, abonne, ta, chai...</td>\n",
              "    </tr>\n",
              "    <tr>\n",
              "      <th>3</th>\n",
              "      <td>T un kiko mdr</td>\n",
              "      <td>Insult</td>\n",
              "      <td>LOW</td>\n",
              "      <td>USER</td>\n",
              "      <td>1</td>\n",
              "      <td>13</td>\n",
              "      <td>4</td>\n",
              "      <td>t kiko mdr</td>\n",
              "      <td>[]</td>\n",
              "      <td></td>\n",
              "      <td>t un kiko mdr</td>\n",
              "      <td>[t, kiko, mdr]</td>\n",
              "    </tr>\n",
              "    <tr>\n",
              "      <th>4</th>\n",
              "      <td>Moi mdr t trop nul</td>\n",
              "      <td>Hate</td>\n",
              "      <td>LOW</td>\n",
              "      <td>USER</td>\n",
              "      <td>1</td>\n",
              "      <td>18</td>\n",
              "      <td>5</td>\n",
              "      <td>moi mdr t trop nul</td>\n",
              "      <td>[]</td>\n",
              "      <td></td>\n",
              "      <td>moi mdr t trop nul</td>\n",
              "      <td>[moi, mdr, t, trop, nul]</td>\n",
              "    </tr>\n",
              "    <tr>\n",
              "      <th>5</th>\n",
              "      <td>Ta un mono sourcils 😂</td>\n",
              "      <td>Mockery</td>\n",
              "      <td>LOW</td>\n",
              "      <td>USER</td>\n",
              "      <td>1</td>\n",
              "      <td>21</td>\n",
              "      <td>5</td>\n",
              "      <td>ta mono sourcils</td>\n",
              "      <td>[😂]</td>\n",
              "      <td>visage avec des larmes de joie</td>\n",
              "      <td>ta un mono sourcils visage avec des larmes de ...</td>\n",
              "      <td>[ta, mono, sourcils]</td>\n",
              "    </tr>\n",
              "    <tr>\n",
              "      <th>6</th>\n",
              "      <td>Grosse merdes</td>\n",
              "      <td>Insult</td>\n",
              "      <td>LOW</td>\n",
              "      <td>USER</td>\n",
              "      <td>1</td>\n",
              "      <td>13</td>\n",
              "      <td>2</td>\n",
              "      <td>grosse merdes</td>\n",
              "      <td>[]</td>\n",
              "      <td></td>\n",
              "      <td>grosse merdes</td>\n",
              "      <td>[grosse, merdes]</td>\n",
              "    </tr>\n",
              "    <tr>\n",
              "      <th>7</th>\n",
              "      <td>espèce de gamin 😂😂</td>\n",
              "      <td>Insult</td>\n",
              "      <td>LOW</td>\n",
              "      <td>USER</td>\n",
              "      <td>1</td>\n",
              "      <td>18</td>\n",
              "      <td>4</td>\n",
              "      <td>espèce gamin</td>\n",
              "      <td>[😂, 😂]</td>\n",
              "      <td>visage avec des larmes de joie visage avec des...</td>\n",
              "      <td>espèce de gamin visage avec des larmes de joie...</td>\n",
              "      <td>[espèce, gamin]</td>\n",
              "    </tr>\n",
              "    <tr>\n",
              "      <th>8</th>\n",
              "      <td>C'est quoi cette mode ou presque tout les YouT...</td>\n",
              "      <td>Insult</td>\n",
              "      <td>LOW</td>\n",
              "      <td>USER</td>\n",
              "      <td>1</td>\n",
              "      <td>174</td>\n",
              "      <td>37</td>\n",
              "      <td>quoi cette mode ou presque youtubeurs joue jeu...</td>\n",
              "      <td>[]</td>\n",
              "      <td></td>\n",
              "      <td>c est quoi cette mode ou presque tout les yout...</td>\n",
              "      <td>[quoi, cette, mode, ou, presque, youtubeurs, j...</td>\n",
              "    </tr>\n",
              "    <tr>\n",
              "      <th>9</th>\n",
              "      <td>@VittoreMorgane @crdsar et ? il est au dessus ...</td>\n",
              "      <td>Insult</td>\n",
              "      <td>LOW</td>\n",
              "      <td>USER</td>\n",
              "      <td>1</td>\n",
              "      <td>226</td>\n",
              "      <td>42</td>\n",
              "      <td>il dessus lois je fais reunions travail tous j...</td>\n",
              "      <td>[]</td>\n",
              "      <td></td>\n",
              "      <td>et il est au dessus des lois je fais des reuni...</td>\n",
              "      <td>[il, dessus, lois, je, fais, reunions, travail...</td>\n",
              "    </tr>\n",
              "  </tbody>\n",
              "</table>\n",
              "</div>"
            ],
            "text/plain": [
              "                                            Sentence  ...                                      finalSentence\n",
              "0                                       T pas Bo 😂😂🥃  ...                                       [t, pas, bo]\n",
              "1                                 t’es vilain 😂😂😂😂😂😂  ...                                    [t, es, vilain]\n",
              "2  Je te propose un d'île je m'abonne à ta chaine...  ...  [je, te, propose, île, je, m, abonne, ta, chai...\n",
              "3                                      T un kiko mdr  ...                                     [t, kiko, mdr]\n",
              "4                                 Moi mdr t trop nul  ...                           [moi, mdr, t, trop, nul]\n",
              "5                              Ta un mono sourcils 😂  ...                               [ta, mono, sourcils]\n",
              "6                                      Grosse merdes  ...                                   [grosse, merdes]\n",
              "7                                 espèce de gamin 😂😂  ...                                    [espèce, gamin]\n",
              "8  C'est quoi cette mode ou presque tout les YouT...  ...  [quoi, cette, mode, ou, presque, youtubeurs, j...\n",
              "9  @VittoreMorgane @crdsar et ? il est au dessus ...  ...  [il, dessus, lois, je, fais, reunions, travail...\n",
              "\n",
              "[10 rows x 12 columns]"
            ]
          },
          "metadata": {
            "tags": []
          },
          "execution_count": 41
        }
      ]
    },
    {
      "cell_type": "code",
      "metadata": {
        "colab": {
          "base_uri": "https://localhost:8080/",
          "height": 707
        },
        "id": "yfCvA_riUjMV",
        "outputId": "9031e8a2-6c53-4c22-e923-177782406655"
      },
      "source": [
        "dataset['Emoji_token'] = dataset['EmojiToText']\r\n",
        "dataset['Emoji_token'] = dataset['Emoji_token'].apply(remove_special)\r\n",
        "dataset['Emoji_token'] = dataset['Emoji_token'].apply(remove_punctuations)\r\n",
        "dataset['Emoji_token'] = dataset['Emoji_token'].apply(word_tokenize)\r\n",
        "dataset.head(10)"
      ],
      "execution_count": 42,
      "outputs": [
        {
          "output_type": "execute_result",
          "data": {
            "text/html": [
              "<div>\n",
              "<style scoped>\n",
              "    .dataframe tbody tr th:only-of-type {\n",
              "        vertical-align: middle;\n",
              "    }\n",
              "\n",
              "    .dataframe tbody tr th {\n",
              "        vertical-align: top;\n",
              "    }\n",
              "\n",
              "    .dataframe thead th {\n",
              "        text-align: right;\n",
              "    }\n",
              "</style>\n",
              "<table border=\"1\" class=\"dataframe\">\n",
              "  <thead>\n",
              "    <tr style=\"text-align: right;\">\n",
              "      <th></th>\n",
              "      <th>Sentence</th>\n",
              "      <th>Type</th>\n",
              "      <th>Level</th>\n",
              "      <th>Target</th>\n",
              "      <th>Class</th>\n",
              "      <th>Length</th>\n",
              "      <th>Count</th>\n",
              "      <th>cleanSentence</th>\n",
              "      <th>Emoji</th>\n",
              "      <th>EmojiToText</th>\n",
              "      <th>enhancedSentence</th>\n",
              "      <th>finalSentence</th>\n",
              "      <th>ultimateSentence</th>\n",
              "      <th>Emoji_token</th>\n",
              "    </tr>\n",
              "  </thead>\n",
              "  <tbody>\n",
              "    <tr>\n",
              "      <th>0</th>\n",
              "      <td>T pas Bo 😂😂🥃</td>\n",
              "      <td>Mockery</td>\n",
              "      <td>LOW</td>\n",
              "      <td>USER</td>\n",
              "      <td>1</td>\n",
              "      <td>12</td>\n",
              "      <td>4</td>\n",
              "      <td>t pas bo</td>\n",
              "      <td>[😂, 😂, 🥃]</td>\n",
              "      <td>visage avec des larmes de joie visage avec des...</td>\n",
              "      <td>t pas bo visage avec des larmes de joie visage...</td>\n",
              "      <td>[t, pas, bo]</td>\n",
              "      <td>[t, pas, bo, visage, avec, des, larmes, de, jo...</td>\n",
              "      <td>[visage, avec, des, larmes, de, joie, visage, ...</td>\n",
              "    </tr>\n",
              "    <tr>\n",
              "      <th>1</th>\n",
              "      <td>t’es vilain 😂😂😂😂😂😂</td>\n",
              "      <td>Mockery</td>\n",
              "      <td>LOW</td>\n",
              "      <td>USER</td>\n",
              "      <td>1</td>\n",
              "      <td>18</td>\n",
              "      <td>3</td>\n",
              "      <td>t es vilain</td>\n",
              "      <td>[😂, 😂, 😂, 😂, 😂, 😂]</td>\n",
              "      <td>visage avec des larmes de joie visage avec des...</td>\n",
              "      <td>t es vilain visage avec des larmes de joie vis...</td>\n",
              "      <td>[t, es, vilain]</td>\n",
              "      <td>[t, es, vilain, visage, avec, des, larmes, de,...</td>\n",
              "      <td>[visage, avec, des, larmes, de, joie, visage, ...</td>\n",
              "    </tr>\n",
              "    <tr>\n",
              "      <th>2</th>\n",
              "      <td>Je te propose un d'île je m'abonne à ta chaine...</td>\n",
              "      <td>Hate</td>\n",
              "      <td>LOW</td>\n",
              "      <td>USER</td>\n",
              "      <td>1</td>\n",
              "      <td>189</td>\n",
              "      <td>37</td>\n",
              "      <td>je te propose un d île je m abonne à ta chaine...</td>\n",
              "      <td>[]</td>\n",
              "      <td></td>\n",
              "      <td>je te propose un d île je m abonne à ta chaine...</td>\n",
              "      <td>[je, te, propose, un, d, île, je, m, abonne, à...</td>\n",
              "      <td>[je, te, propose, un, d, île, je, m, abonne, à...</td>\n",
              "      <td>[]</td>\n",
              "    </tr>\n",
              "    <tr>\n",
              "      <th>3</th>\n",
              "      <td>T un kiko mdr</td>\n",
              "      <td>Insult</td>\n",
              "      <td>LOW</td>\n",
              "      <td>USER</td>\n",
              "      <td>1</td>\n",
              "      <td>13</td>\n",
              "      <td>4</td>\n",
              "      <td>t un kiko mdr</td>\n",
              "      <td>[]</td>\n",
              "      <td></td>\n",
              "      <td>t un kiko mdr</td>\n",
              "      <td>[t, un, kiko, mdr]</td>\n",
              "      <td>[t, un, kiko, mdr]</td>\n",
              "      <td>[]</td>\n",
              "    </tr>\n",
              "    <tr>\n",
              "      <th>4</th>\n",
              "      <td>Moi mdr t trop nul</td>\n",
              "      <td>Hate</td>\n",
              "      <td>LOW</td>\n",
              "      <td>USER</td>\n",
              "      <td>1</td>\n",
              "      <td>18</td>\n",
              "      <td>5</td>\n",
              "      <td>moi mdr t trop nul</td>\n",
              "      <td>[]</td>\n",
              "      <td></td>\n",
              "      <td>moi mdr t trop nul</td>\n",
              "      <td>[moi, mdr, t, trop, nul]</td>\n",
              "      <td>[moi, mdr, t, trop, nul]</td>\n",
              "      <td>[]</td>\n",
              "    </tr>\n",
              "    <tr>\n",
              "      <th>5</th>\n",
              "      <td>Ta un mono sourcils 😂</td>\n",
              "      <td>Mockery</td>\n",
              "      <td>LOW</td>\n",
              "      <td>USER</td>\n",
              "      <td>1</td>\n",
              "      <td>21</td>\n",
              "      <td>5</td>\n",
              "      <td>ta un mono sourcils</td>\n",
              "      <td>[😂]</td>\n",
              "      <td>visage avec des larmes de joie</td>\n",
              "      <td>ta un mono sourcils visage avec des larmes de ...</td>\n",
              "      <td>[ta, un, mono, sourcils]</td>\n",
              "      <td>[ta, un, mono, sourcils, visage, avec, des, la...</td>\n",
              "      <td>[visage, avec, des, larmes, de, joie]</td>\n",
              "    </tr>\n",
              "    <tr>\n",
              "      <th>6</th>\n",
              "      <td>Grosse merdes</td>\n",
              "      <td>Insult</td>\n",
              "      <td>LOW</td>\n",
              "      <td>USER</td>\n",
              "      <td>1</td>\n",
              "      <td>13</td>\n",
              "      <td>2</td>\n",
              "      <td>grosse merdes</td>\n",
              "      <td>[]</td>\n",
              "      <td></td>\n",
              "      <td>grosse merdes</td>\n",
              "      <td>[grosse, merdes]</td>\n",
              "      <td>[grosse, merdes]</td>\n",
              "      <td>[]</td>\n",
              "    </tr>\n",
              "    <tr>\n",
              "      <th>7</th>\n",
              "      <td>espèce de gamin 😂😂</td>\n",
              "      <td>Insult</td>\n",
              "      <td>LOW</td>\n",
              "      <td>USER</td>\n",
              "      <td>1</td>\n",
              "      <td>18</td>\n",
              "      <td>4</td>\n",
              "      <td>espèce de gamin</td>\n",
              "      <td>[😂, 😂]</td>\n",
              "      <td>visage avec des larmes de joie visage avec des...</td>\n",
              "      <td>espèce de gamin visage avec des larmes de joie...</td>\n",
              "      <td>[espèce, de, gamin]</td>\n",
              "      <td>[espèce, de, gamin, visage, avec, des, larmes,...</td>\n",
              "      <td>[visage, avec, des, larmes, de, joie, visage, ...</td>\n",
              "    </tr>\n",
              "    <tr>\n",
              "      <th>8</th>\n",
              "      <td>C'est quoi cette mode ou presque tout les YouT...</td>\n",
              "      <td>Insult</td>\n",
              "      <td>LOW</td>\n",
              "      <td>USER</td>\n",
              "      <td>1</td>\n",
              "      <td>174</td>\n",
              "      <td>37</td>\n",
              "      <td>c est quoi cette mode ou presque tout les yout...</td>\n",
              "      <td>[]</td>\n",
              "      <td></td>\n",
              "      <td>c est quoi cette mode ou presque tout les yout...</td>\n",
              "      <td>[c, est, quoi, cette, mode, ou, presque, tout,...</td>\n",
              "      <td>[c, est, quoi, cette, mode, ou, presque, tout,...</td>\n",
              "      <td>[]</td>\n",
              "    </tr>\n",
              "    <tr>\n",
              "      <th>9</th>\n",
              "      <td>@VittoreMorgane @crdsar et ? il est au dessus ...</td>\n",
              "      <td>Insult</td>\n",
              "      <td>LOW</td>\n",
              "      <td>USER</td>\n",
              "      <td>1</td>\n",
              "      <td>226</td>\n",
              "      <td>42</td>\n",
              "      <td>et il est au dessus des lois je fais des reuni...</td>\n",
              "      <td>[]</td>\n",
              "      <td></td>\n",
              "      <td>et il est au dessus des lois je fais des reuni...</td>\n",
              "      <td>[et, il, est, au, dessus, des, lois, je, fais,...</td>\n",
              "      <td>[et, il, est, au, dessus, des, lois, je, fais,...</td>\n",
              "      <td>[]</td>\n",
              "    </tr>\n",
              "  </tbody>\n",
              "</table>\n",
              "</div>"
            ],
            "text/plain": [
              "                                            Sentence  ...                                        Emoji_token\n",
              "0                                       T pas Bo 😂😂🥃  ...  [visage, avec, des, larmes, de, joie, visage, ...\n",
              "1                                 t’es vilain 😂😂😂😂😂😂  ...  [visage, avec, des, larmes, de, joie, visage, ...\n",
              "2  Je te propose un d'île je m'abonne à ta chaine...  ...                                                 []\n",
              "3                                      T un kiko mdr  ...                                                 []\n",
              "4                                 Moi mdr t trop nul  ...                                                 []\n",
              "5                              Ta un mono sourcils 😂  ...              [visage, avec, des, larmes, de, joie]\n",
              "6                                      Grosse merdes  ...                                                 []\n",
              "7                                 espèce de gamin 😂😂  ...  [visage, avec, des, larmes, de, joie, visage, ...\n",
              "8  C'est quoi cette mode ou presque tout les YouT...  ...                                                 []\n",
              "9  @VittoreMorgane @crdsar et ? il est au dessus ...  ...                                                 []\n",
              "\n",
              "[10 rows x 14 columns]"
            ]
          },
          "metadata": {
            "tags": []
          },
          "execution_count": 42
        }
      ]
    },
    {
      "cell_type": "code",
      "metadata": {
        "colab": {
          "base_uri": "https://localhost:8080/",
          "height": 1000
        },
        "id": "xxhbDZNtXExc",
        "outputId": "40cdd1ee-80cf-4c2f-f924-a0422ab52ebe"
      },
      "source": [
        "#Alternative: Keeping only 60k neutral examples for a more balanced dataset\r\n",
        "\r\n",
        "remove_n = len(dataset[dataset.Class == 0]) - 60000\r\n",
        "neutralIndices = dataset[dataset.Class == 0].index\r\n",
        "drop_indices = np.random.choice(neutralIndices, remove_n)\r\n",
        "short_dataset = dataset.drop(index = drop_indices)\r\n",
        "short_dataset"
      ],
      "execution_count": 43,
      "outputs": [
        {
          "output_type": "execute_result",
          "data": {
            "text/html": [
              "<div>\n",
              "<style scoped>\n",
              "    .dataframe tbody tr th:only-of-type {\n",
              "        vertical-align: middle;\n",
              "    }\n",
              "\n",
              "    .dataframe tbody tr th {\n",
              "        vertical-align: top;\n",
              "    }\n",
              "\n",
              "    .dataframe thead th {\n",
              "        text-align: right;\n",
              "    }\n",
              "</style>\n",
              "<table border=\"1\" class=\"dataframe\">\n",
              "  <thead>\n",
              "    <tr style=\"text-align: right;\">\n",
              "      <th></th>\n",
              "      <th>Sentence</th>\n",
              "      <th>Type</th>\n",
              "      <th>Level</th>\n",
              "      <th>Target</th>\n",
              "      <th>Class</th>\n",
              "      <th>Length</th>\n",
              "      <th>Count</th>\n",
              "      <th>cleanSentence</th>\n",
              "      <th>Emoji</th>\n",
              "      <th>EmojiToText</th>\n",
              "      <th>enhancedSentence</th>\n",
              "      <th>finalSentence</th>\n",
              "      <th>ultimateSentence</th>\n",
              "      <th>Emoji_token</th>\n",
              "    </tr>\n",
              "  </thead>\n",
              "  <tbody>\n",
              "    <tr>\n",
              "      <th>0</th>\n",
              "      <td>T pas Bo 😂😂🥃</td>\n",
              "      <td>Mockery</td>\n",
              "      <td>LOW</td>\n",
              "      <td>USER</td>\n",
              "      <td>1</td>\n",
              "      <td>12</td>\n",
              "      <td>4</td>\n",
              "      <td>t pas bo</td>\n",
              "      <td>[😂, 😂, 🥃]</td>\n",
              "      <td>visage avec des larmes de joie visage avec des...</td>\n",
              "      <td>t pas bo visage avec des larmes de joie visage...</td>\n",
              "      <td>[t, pas, bo]</td>\n",
              "      <td>[t, pas, bo, visage, avec, des, larmes, de, jo...</td>\n",
              "      <td>[visage, avec, des, larmes, de, joie, visage, ...</td>\n",
              "    </tr>\n",
              "    <tr>\n",
              "      <th>1</th>\n",
              "      <td>t’es vilain 😂😂😂😂😂😂</td>\n",
              "      <td>Mockery</td>\n",
              "      <td>LOW</td>\n",
              "      <td>USER</td>\n",
              "      <td>1</td>\n",
              "      <td>18</td>\n",
              "      <td>3</td>\n",
              "      <td>t es vilain</td>\n",
              "      <td>[😂, 😂, 😂, 😂, 😂, 😂]</td>\n",
              "      <td>visage avec des larmes de joie visage avec des...</td>\n",
              "      <td>t es vilain visage avec des larmes de joie vis...</td>\n",
              "      <td>[t, es, vilain]</td>\n",
              "      <td>[t, es, vilain, visage, avec, des, larmes, de,...</td>\n",
              "      <td>[visage, avec, des, larmes, de, joie, visage, ...</td>\n",
              "    </tr>\n",
              "    <tr>\n",
              "      <th>2</th>\n",
              "      <td>Je te propose un d'île je m'abonne à ta chaine...</td>\n",
              "      <td>Hate</td>\n",
              "      <td>LOW</td>\n",
              "      <td>USER</td>\n",
              "      <td>1</td>\n",
              "      <td>189</td>\n",
              "      <td>37</td>\n",
              "      <td>je te propose un d île je m abonne à ta chaine...</td>\n",
              "      <td>[]</td>\n",
              "      <td></td>\n",
              "      <td>je te propose un d île je m abonne à ta chaine...</td>\n",
              "      <td>[je, te, propose, un, d, île, je, m, abonne, à...</td>\n",
              "      <td>[je, te, propose, un, d, île, je, m, abonne, à...</td>\n",
              "      <td>[]</td>\n",
              "    </tr>\n",
              "    <tr>\n",
              "      <th>3</th>\n",
              "      <td>T un kiko mdr</td>\n",
              "      <td>Insult</td>\n",
              "      <td>LOW</td>\n",
              "      <td>USER</td>\n",
              "      <td>1</td>\n",
              "      <td>13</td>\n",
              "      <td>4</td>\n",
              "      <td>t un kiko mdr</td>\n",
              "      <td>[]</td>\n",
              "      <td></td>\n",
              "      <td>t un kiko mdr</td>\n",
              "      <td>[t, un, kiko, mdr]</td>\n",
              "      <td>[t, un, kiko, mdr]</td>\n",
              "      <td>[]</td>\n",
              "    </tr>\n",
              "    <tr>\n",
              "      <th>4</th>\n",
              "      <td>Moi mdr t trop nul</td>\n",
              "      <td>Hate</td>\n",
              "      <td>LOW</td>\n",
              "      <td>USER</td>\n",
              "      <td>1</td>\n",
              "      <td>18</td>\n",
              "      <td>5</td>\n",
              "      <td>moi mdr t trop nul</td>\n",
              "      <td>[]</td>\n",
              "      <td></td>\n",
              "      <td>moi mdr t trop nul</td>\n",
              "      <td>[moi, mdr, t, trop, nul]</td>\n",
              "      <td>[moi, mdr, t, trop, nul]</td>\n",
              "      <td>[]</td>\n",
              "    </tr>\n",
              "    <tr>\n",
              "      <th>...</th>\n",
              "      <td>...</td>\n",
              "      <td>...</td>\n",
              "      <td>...</td>\n",
              "      <td>...</td>\n",
              "      <td>...</td>\n",
              "      <td>...</td>\n",
              "      <td>...</td>\n",
              "      <td>...</td>\n",
              "      <td>...</td>\n",
              "      <td>...</td>\n",
              "      <td>...</td>\n",
              "      <td>...</td>\n",
              "      <td>...</td>\n",
              "      <td>...</td>\n",
              "    </tr>\n",
              "    <tr>\n",
              "      <th>394580</th>\n",
              "      <td>Jonathan Voisin j adhère à 200%. Il est peut-ê...</td>\n",
              "      <td>Neutral</td>\n",
              "      <td>NONE</td>\n",
              "      <td>UNDEFINED</td>\n",
              "      <td>0</td>\n",
              "      <td>184</td>\n",
              "      <td>29</td>\n",
              "      <td>jonathan voisin j adhère à 200 il est peut êtr...</td>\n",
              "      <td>[]</td>\n",
              "      <td></td>\n",
              "      <td>jonathan voisin j adhère à 200 il est peut êtr...</td>\n",
              "      <td>[jonathan, voisin, j, adhère, à, 200, il, est,...</td>\n",
              "      <td>[jonathan, voisin, j, adhère, à, 200, il, est,...</td>\n",
              "      <td>[]</td>\n",
              "    </tr>\n",
              "    <tr>\n",
              "      <th>394581</th>\n",
              "      <td>Puis le divorce n était pas accecible comme au...</td>\n",
              "      <td>Neutral</td>\n",
              "      <td>NONE</td>\n",
              "      <td>UNDEFINED</td>\n",
              "      <td>0</td>\n",
              "      <td>677</td>\n",
              "      <td>132</td>\n",
              "      <td>puis le divorce n était pas accecible comme au...</td>\n",
              "      <td>[]</td>\n",
              "      <td></td>\n",
              "      <td>puis le divorce n était pas accecible comme au...</td>\n",
              "      <td>[puis, le, divorce, n, était, pas, accecible, ...</td>\n",
              "      <td>[puis, le, divorce, n, était, pas, accecible, ...</td>\n",
              "      <td>[]</td>\n",
              "    </tr>\n",
              "    <tr>\n",
              "      <th>394584</th>\n",
              "      <td>@franceinfo Elle en sait quelque chose @nadine...</td>\n",
              "      <td>Neutral</td>\n",
              "      <td>NONE</td>\n",
              "      <td>UNDEFINED</td>\n",
              "      <td>0</td>\n",
              "      <td>58</td>\n",
              "      <td>8</td>\n",
              "      <td>elle en sait quelque chose morano</td>\n",
              "      <td>[🤭, 😁, 😁]</td>\n",
              "      <td>visage avec la main sur la bouche visage rayon...</td>\n",
              "      <td>elle en sait quelque chose morano visage avec ...</td>\n",
              "      <td>[elle, en, sait, quelque, chose, morano]</td>\n",
              "      <td>[elle, en, sait, quelque, chose, morano, visag...</td>\n",
              "      <td>[visage, avec, la, main, sur, la, bouche, visa...</td>\n",
              "    </tr>\n",
              "    <tr>\n",
              "      <th>394585</th>\n",
              "      <td>tu joue sur fortnite sur mobile  si oui ajt oi...</td>\n",
              "      <td>Neutral</td>\n",
              "      <td>NONE</td>\n",
              "      <td>UNDEFINED</td>\n",
              "      <td>0</td>\n",
              "      <td>51</td>\n",
              "      <td>11</td>\n",
              "      <td>tu joue sur fortnite sur mobile si oui ajt oim...</td>\n",
              "      <td>[]</td>\n",
              "      <td></td>\n",
              "      <td>tu joue sur fortnite sur mobile si oui ajt oim...</td>\n",
              "      <td>[tu, joue, sur, fortnite, sur, mobile, si, oui...</td>\n",
              "      <td>[tu, joue, sur, fortnite, sur, mobile, si, oui...</td>\n",
              "      <td>[]</td>\n",
              "    </tr>\n",
              "    <tr>\n",
              "      <th>394589</th>\n",
              "      <td>J'ai kiffer les 2 Baby sitter c drôle et horri...</td>\n",
              "      <td>Neutral</td>\n",
              "      <td>NONE</td>\n",
              "      <td>UNDEFINED</td>\n",
              "      <td>0</td>\n",
              "      <td>144</td>\n",
              "      <td>28</td>\n",
              "      <td>j ai kiffer les 2 baby sitter c drôle et horri...</td>\n",
              "      <td>[]</td>\n",
              "      <td></td>\n",
              "      <td>j ai kiffer les 2 baby sitter c drôle et horri...</td>\n",
              "      <td>[j, ai, kiffer, les, 2, baby, sitter, c, drôle...</td>\n",
              "      <td>[j, ai, kiffer, les, 2, baby, sitter, c, drôle...</td>\n",
              "      <td>[]</td>\n",
              "    </tr>\n",
              "  </tbody>\n",
              "</table>\n",
              "<p>293911 rows × 14 columns</p>\n",
              "</div>"
            ],
            "text/plain": [
              "                                                 Sentence  ...                                        Emoji_token\n",
              "0                                            T pas Bo 😂😂🥃  ...  [visage, avec, des, larmes, de, joie, visage, ...\n",
              "1                                      t’es vilain 😂😂😂😂😂😂  ...  [visage, avec, des, larmes, de, joie, visage, ...\n",
              "2       Je te propose un d'île je m'abonne à ta chaine...  ...                                                 []\n",
              "3                                           T un kiko mdr  ...                                                 []\n",
              "4                                      Moi mdr t trop nul  ...                                                 []\n",
              "...                                                   ...  ...                                                ...\n",
              "394580  Jonathan Voisin j adhère à 200%. Il est peut-ê...  ...                                                 []\n",
              "394581  Puis le divorce n était pas accecible comme au...  ...                                                 []\n",
              "394584  @franceinfo Elle en sait quelque chose @nadine...  ...  [visage, avec, la, main, sur, la, bouche, visa...\n",
              "394585  tu joue sur fortnite sur mobile  si oui ajt oi...  ...                                                 []\n",
              "394589  J'ai kiffer les 2 Baby sitter c drôle et horri...  ...                                                 []\n",
              "\n",
              "[293911 rows x 14 columns]"
            ]
          },
          "metadata": {
            "tags": []
          },
          "execution_count": 43
        }
      ]
    },
    {
      "cell_type": "code",
      "metadata": {
        "colab": {
          "base_uri": "https://localhost:8080/",
          "height": 371
        },
        "id": "0y6xZqjPdU8B",
        "outputId": "484db288-8e50-466c-8fba-ab3c7396a66b"
      },
      "source": [
        "plt.figure(figsize=(20,5))\r\n",
        "chart = sns.countplot(\"Level\", data=short_dataset)\r\n",
        "chart.set_xticklabels(chart.get_xticklabels(), rotation=45)\r\n",
        "plt.show()"
      ],
      "execution_count": 44,
      "outputs": [
        {
          "output_type": "display_data",
          "data": {
            "image/png": "[encoded data removed]",
            "text/plain": [
              "<Figure size 1440x360 with 1 Axes>"
            ]
          },
          "metadata": {
            "tags": [],
            "needs_background": "light"
          }
        }
      ]
    },
    {
      "cell_type": "code",
      "metadata": {
        "colab": {
          "base_uri": "https://localhost:8080/",
          "height": 201
        },
        "id": "8RlOkx_BWgJ1",
        "outputId": "6370b30f-ed40-4bff-8a25-3fb4e6ff77af"
      },
      "source": [
        "simpleDataset = short_dataset[['cleanSentence', 'Level']].copy()\r\n",
        "simpleDataset.head()"
      ],
      "execution_count": 45,
      "outputs": [
        {
          "output_type": "execute_result",
          "data": {
            "text/html": [
              "<div>\n",
              "<style scoped>\n",
              "    .dataframe tbody tr th:only-of-type {\n",
              "        vertical-align: middle;\n",
              "    }\n",
              "\n",
              "    .dataframe tbody tr th {\n",
              "        vertical-align: top;\n",
              "    }\n",
              "\n",
              "    .dataframe thead th {\n",
              "        text-align: right;\n",
              "    }\n",
              "</style>\n",
              "<table border=\"1\" class=\"dataframe\">\n",
              "  <thead>\n",
              "    <tr style=\"text-align: right;\">\n",
              "      <th></th>\n",
              "      <th>cleanSentence</th>\n",
              "      <th>Level</th>\n",
              "    </tr>\n",
              "  </thead>\n",
              "  <tbody>\n",
              "    <tr>\n",
              "      <th>0</th>\n",
              "      <td>t pas bo</td>\n",
              "      <td>LOW</td>\n",
              "    </tr>\n",
              "    <tr>\n",
              "      <th>1</th>\n",
              "      <td>t es vilain</td>\n",
              "      <td>LOW</td>\n",
              "    </tr>\n",
              "    <tr>\n",
              "      <th>2</th>\n",
              "      <td>je te propose un d île je m abonne à ta chaine...</td>\n",
              "      <td>LOW</td>\n",
              "    </tr>\n",
              "    <tr>\n",
              "      <th>3</th>\n",
              "      <td>t un kiko mdr</td>\n",
              "      <td>LOW</td>\n",
              "    </tr>\n",
              "    <tr>\n",
              "      <th>4</th>\n",
              "      <td>moi mdr t trop nul</td>\n",
              "      <td>LOW</td>\n",
              "    </tr>\n",
              "  </tbody>\n",
              "</table>\n",
              "</div>"
            ],
            "text/plain": [
              "                                       cleanSentence Level\n",
              "0                                           t pas bo   LOW\n",
              "1                                        t es vilain   LOW\n",
              "2  je te propose un d île je m abonne à ta chaine...   LOW\n",
              "3                                      t un kiko mdr   LOW\n",
              "4                                 moi mdr t trop nul   LOW"
            ]
          },
          "metadata": {
            "tags": []
          },
          "execution_count": 45
        }
      ]
    },
    {
      "cell_type": "code",
      "metadata": {
        "colab": {
          "base_uri": "https://localhost:8080/"
        },
        "id": "9B6CLOJzevWb",
        "outputId": "71718388-ce8e-4ee8-a9a1-f176ca53ce72"
      },
      "source": [
        "simpleTrain, simpleTest = train_test_split(simpleDataset, test_size=0.2)\r\n",
        "print(simpleTrain.shape, simpleTest.shape)"
      ],
      "execution_count": 46,
      "outputs": [
        {
          "output_type": "stream",
          "text": [
            "(235128, 2) (58783, 2)\n"
          ],
          "name": "stdout"
        }
      ]
    },
    {
      "cell_type": "markdown",
      "metadata": {
        "id": "rrHkXM9KXCTh"
      },
      "source": [
        "### Creating final datasets"
      ]
    },
    {
      "cell_type": "code",
      "metadata": {
        "id": "EvB5JZg6wXJj"
      },
      "source": [
        "final_dataset = dataset.copy()"
      ],
      "execution_count": 47,
      "outputs": []
    },
    {
      "cell_type": "markdown",
      "metadata": {
        "id": "Gk1krgK0bKWL"
      },
      "source": [
        "#### Keras tokenization of Sentences"
      ]
    },
    {
      "cell_type": "code",
      "metadata": {
        "id": "ZTD8XfmAr315"
      },
      "source": [
        "#Tokenizing Text with Keras -> Representing each word by a number\r\n",
        "from tensorflow.keras.preprocessing.text import Tokenizer\r\n",
        "\r\n",
        "tokenizer = Tokenizer(lower=True)\r\n",
        "tokenizer.fit_on_texts(final_dataset[\"finalSentence\"])\r\n",
        "\r\n",
        "X_tok = tokenizer.texts_to_sequences(final_dataset[\"finalSentence\"])\r\n"
      ],
      "execution_count": 48,
      "outputs": []
    },
    {
      "cell_type": "code",
      "metadata": {
        "colab": {
          "base_uri": "https://localhost:8080/"
        },
        "id": "sKOba-1ZsD54",
        "outputId": "21e81863-5819-4e4b-ffd4-dc01d6e5a3c8"
      },
      "source": [
        "X_tok[0][:10]"
      ],
      "execution_count": 49,
      "outputs": [
        {
          "output_type": "execute_result",
          "data": {
            "text/plain": [
              "[29, 8, 5523]"
            ]
          },
          "metadata": {
            "tags": []
          },
          "execution_count": 49
        }
      ]
    },
    {
      "cell_type": "code",
      "metadata": {
        "colab": {
          "base_uri": "https://localhost:8080/"
        },
        "id": "4KkN9haIsIyS",
        "outputId": "9185952b-9b74-4ab4-b03e-3fa1ccc5479e"
      },
      "source": [
        "#Lets check few word to numerical representation\r\n",
        "#Mapping is preserved in dictionary -> word_index property of instance\r\n",
        "word_index = tokenizer.word_index\r\n",
        "for word, num in word_index.items():\r\n",
        "    print(\"{} -> {}\".format(word, num))\r\n",
        "    if num == 10:\r\n",
        "        break        "
      ],
      "execution_count": 50,
      "outputs": [
        {
          "output_type": "stream",
          "text": [
            "de -> 1\n",
            "est -> 2\n",
            "la -> 3\n",
            "et -> 4\n",
            "le -> 5\n",
            "les -> 6\n",
            "c -> 7\n",
            "pas -> 8\n",
            "que -> 9\n",
            "je -> 10\n"
          ],
          "name": "stdout"
        }
      ]
    },
    {
      "cell_type": "code",
      "metadata": {
        "colab": {
          "base_uri": "https://localhost:8080/",
          "height": 265
        },
        "id": "hydnGNf8voK6",
        "outputId": "afa8cab2-1eef-42db-ed02-51d6263282f9"
      },
      "source": [
        "# Making histogram for no of words in sentences shows that most news sentences are under 150 words.\r\n",
        "plt.hist([len(x) for x in X_tok], bins=500)\r\n",
        "plt.show()"
      ],
      "execution_count": 51,
      "outputs": [
        {
          "output_type": "display_data",
          "data": {
            "image/png": "[encoded data removed]",
            "text/plain": [
              "<Figure size 432x288 with 1 Axes>"
            ]
          },
          "metadata": {
            "tags": [],
            "needs_background": "light"
          }
        }
      ]
    },
    {
      "cell_type": "code",
      "metadata": {
        "id": "aE8C1Zy6vehv"
      },
      "source": [
        "#Lets keep all sentences to 150, add padding to news with less than 150 words and truncating long ones\r\n",
        "maxlen = 150 \r\n",
        "\r\n",
        "#Making all news of size maxlen defined above, padding with 0 when needed\r\n",
        "X_tok = pad_sequences(X_tok, maxlen=maxlen)"
      ],
      "execution_count": 52,
      "outputs": []
    },
    {
      "cell_type": "code",
      "metadata": {
        "id": "JM7s1fIevK9U"
      },
      "source": [
        "# Embedding Layer used in Keras creates one more vector for \"UNKNOWN\" words, or padded words (0s). This Vector is filled with zeros.\r\n",
        "# Thus our vocab size inceeases by 1\r\n",
        "vocab_size = len(tokenizer.word_index) + 1"
      ],
      "execution_count": 53,
      "outputs": []
    },
    {
      "cell_type": "markdown",
      "metadata": {
        "id": "CN3CAVcBbTjX"
      },
      "source": [
        "#### One-Hot vectors of Levels"
      ]
    },
    {
      "cell_type": "code",
      "metadata": {
        "colab": {
          "base_uri": "https://localhost:8080/"
        },
        "id": "5kw6-vlUxZEJ",
        "outputId": "298a1712-6f2f-43e7-9257-d40db45f6e9d"
      },
      "source": [
        "#Encoding labels as one-hot vectors\r\n",
        "y = final_dataset[\"Level\"]\r\n",
        "\r\n",
        "# encode class values as integers\r\n",
        "encoder = LabelEncoder()\r\n",
        "encoder.fit(y)\r\n",
        "encoded_y = encoder.transform(y)\r\n",
        "print(y)"
      ],
      "execution_count": 54,
      "outputs": [
        {
          "output_type": "stream",
          "text": [
            "0          LOW\n",
            "1          LOW\n",
            "2          LOW\n",
            "3          LOW\n",
            "4          LOW\n",
            "          ... \n",
            "394588    NONE\n",
            "394589    NONE\n",
            "394590    NONE\n",
            "394591    NONE\n",
            "394592    NONE\n",
            "Name: Level, Length: 394592, dtype: object\n"
          ],
          "name": "stdout"
        }
      ]
    },
    {
      "cell_type": "code",
      "metadata": {
        "colab": {
          "base_uri": "https://localhost:8080/"
        },
        "id": "SODKAAZoY1qF",
        "outputId": "ef903cb4-c0ed-4add-85fa-b76d3589a707"
      },
      "source": [
        "labels_mapping = dict(zip(encoder.classes_,encoder.transform(encoder.classes_)))\r\n",
        "labels_mapping"
      ],
      "execution_count": 55,
      "outputs": [
        {
          "output_type": "execute_result",
          "data": {
            "text/plain": [
              "{'HIGH': 0, 'LOW': 1, 'MEDIUM': 2, 'NONE': 3, 'VERY_HIGH': 4}"
            ]
          },
          "metadata": {
            "tags": []
          },
          "execution_count": 55
        }
      ]
    },
    {
      "cell_type": "code",
      "metadata": {
        "id": "Cqi0ddr1rGTb"
      },
      "source": [
        "# convert integers to dummy variables (i.e. one hot encoded)\r\n",
        "onehot_y = np_utils.to_categorical(encoded_y)"
      ],
      "execution_count": 56,
      "outputs": []
    },
    {
      "cell_type": "markdown",
      "metadata": {
        "id": "C3RYYSSXbYzc"
      },
      "source": [
        "#### One-Hot vectors of Targets"
      ]
    },
    {
      "cell_type": "code",
      "metadata": {
        "id": "9nI7XX-MTgWQ",
        "colab": {
          "base_uri": "https://localhost:8080/"
        },
        "outputId": "71469e39-a762-45b1-be65-d38d6f9dc747"
      },
      "source": [
        "#Encoding targets as one-hot vectors\r\n",
        "targets = final_dataset[\"Target\"]\r\n",
        "encoder = LabelEncoder()\r\n",
        "encoder.fit(targets)\r\n",
        "encoded_targets = encoder.transform(targets)\r\n",
        "print(targets)"
      ],
      "execution_count": 57,
      "outputs": [
        {
          "output_type": "stream",
          "text": [
            "0              USER\n",
            "1              USER\n",
            "2              USER\n",
            "3              USER\n",
            "4              USER\n",
            "            ...    \n",
            "394588    UNDEFINED\n",
            "394589    UNDEFINED\n",
            "394590    UNDEFINED\n",
            "394591    UNDEFINED\n",
            "394592    UNDEFINED\n",
            "Name: Target, Length: 394592, dtype: object\n"
          ],
          "name": "stdout"
        }
      ]
    },
    {
      "cell_type": "code",
      "metadata": {
        "colab": {
          "base_uri": "https://localhost:8080/"
        },
        "id": "T3j2VD1TW-Nn",
        "outputId": "12d289eb-fc90-43d7-a279-2634f9da2bb6"
      },
      "source": [
        "onehot_targets = np_utils.to_categorical(encoded_targets)\r\n",
        "onehot_targets"
      ],
      "execution_count": 58,
      "outputs": [
        {
          "output_type": "execute_result",
          "data": {
            "text/plain": [
              "array([[0., 0., 0., ..., 0., 1., 0.],\n",
              "       [0., 0., 0., ..., 0., 1., 0.],\n",
              "       [0., 0., 0., ..., 0., 1., 0.],\n",
              "       ...,\n",
              "       [0., 0., 0., ..., 1., 0., 0.],\n",
              "       [0., 0., 0., ..., 1., 0., 0.],\n",
              "       [0., 0., 0., ..., 1., 0., 0.]], dtype=float32)"
            ]
          },
          "metadata": {
            "tags": []
          },
          "execution_count": 58
        }
      ]
    },
    {
      "cell_type": "code",
      "metadata": {
        "colab": {
          "base_uri": "https://localhost:8080/"
        },
        "id": "ienX9JUnXN-w",
        "outputId": "572c49ae-e93c-45d4-9cdc-1b442c1ab5b9"
      },
      "source": [
        "targets_mapping = dict(zip(encoder.classes_,encoder.transform(encoder.classes_)))\r\n",
        "targets_mapping"
      ],
      "execution_count": 59,
      "outputs": [
        {
          "output_type": "execute_result",
          "data": {
            "text/plain": [
              "{'AUTHOR_OF_COMMENT': 0,\n",
              " 'EVERYONE': 1,\n",
              " 'GROUP': 2,\n",
              " 'SINGLE_PERSON': 3,\n",
              " 'UNDEFINED': 4,\n",
              " 'USER': 5,\n",
              " 'USER_FAMILY': 6}"
            ]
          },
          "metadata": {
            "tags": []
          },
          "execution_count": 59
        }
      ]
    },
    {
      "cell_type": "markdown",
      "metadata": {
        "id": "AN-n9syDbamP"
      },
      "source": [
        "#### Keras tokenization of Emojis"
      ]
    },
    {
      "cell_type": "code",
      "metadata": {
        "id": "WdUgIOvXZ0xv"
      },
      "source": [
        "#Tokenizing EmojisToText with Keras -> Representing each word by a number\r\n",
        "from tensorflow.keras.preprocessing.text import Tokenizer\r\n",
        "\r\n",
        "tokenizer_emojis = Tokenizer(lower=True)\r\n",
        "tokenizer_emojis.fit_on_texts(final_dataset[\"Emoji_token\"])\r\n",
        "\r\n",
        "E_tok = tokenizer_emojis.texts_to_sequences(final_dataset[\"Emoji_token\"])\r\n"
      ],
      "execution_count": 60,
      "outputs": []
    },
    {
      "cell_type": "code",
      "metadata": {
        "colab": {
          "base_uri": "https://localhost:8080/"
        },
        "id": "Q2V2lMR4aHUJ",
        "outputId": "a1e25c4b-19f9-46c7-e51d-f8e572e176fe"
      },
      "source": [
        "#Lets check few word to numerical representation\r\n",
        "#Mapping is preserved in dictionary -> word_index property of instance\r\n",
        "emoji_index = tokenizer_emojis.word_index\r\n",
        "for word, num in emoji_index.items():\r\n",
        "    print(\"{} -> {}\".format(word, num))\r\n",
        "    if num == 10:\r\n",
        "        break        "
      ],
      "execution_count": 61,
      "outputs": [
        {
          "output_type": "stream",
          "text": [
            "visage -> 1\n",
            "de -> 2\n",
            "peau -> 3\n",
            "avec -> 4\n",
            "foncée -> 5\n",
            "des -> 6\n",
            "larmes -> 7\n",
            "joie -> 8\n",
            "en -> 9\n",
            "majeur -> 10\n"
          ],
          "name": "stdout"
        }
      ]
    },
    {
      "cell_type": "code",
      "metadata": {
        "colab": {
          "base_uri": "https://localhost:8080/"
        },
        "id": "7RSDAW4ldKwS",
        "outputId": "7ed2a028-578f-44de-ee06-d7eba1415d50"
      },
      "source": [
        "print(np.average([len(x) for x in E_tok]))"
      ],
      "execution_count": 62,
      "outputs": [
        {
          "output_type": "stream",
          "text": [
            "2.2027841415943556\n"
          ],
          "name": "stdout"
        }
      ]
    },
    {
      "cell_type": "code",
      "metadata": {
        "id": "puh7u1_HbnuN"
      },
      "source": [
        "#Lets keep all emoji description to 50, add padding to short ones and truncating long ones\r\n",
        "maxlen_emoji = 50\r\n",
        "\r\n",
        "#Making all news of size maxlen defined above, padding with 0 when needed\r\n",
        "E_tok = pad_sequences(E_tok, maxlen=maxlen_emoji)"
      ],
      "execution_count": 63,
      "outputs": []
    },
    {
      "cell_type": "code",
      "metadata": {
        "id": "1G6DJPSAbnuO"
      },
      "source": [
        "# Embedding Layer used in Keras creates one more vector for \"UNKNOWN\" words, or padded words (0s). This Vector is filled with zeros.\r\n",
        "# Thus our vocab size increases by 1\r\n",
        "emo_vocab_size = len(tokenizer_emojis.word_index) + 1"
      ],
      "execution_count": 64,
      "outputs": []
    },
    {
      "cell_type": "markdown",
      "metadata": {
        "id": "C3-Rfm8BbhHp"
      },
      "source": [
        "#### Dataset split"
      ]
    },
    {
      "cell_type": "code",
      "metadata": {
        "id": "Kp6g2CJGwVPh"
      },
      "source": [
        "#Creating input and output sets\r\n",
        "X_train_tok, X_test_tok, E_train_tok, E_test_tok, X_train_targets, X_test_targets, y_train_tok, y_test_tok = train_test_split(X_tok, E_tok, onehot_targets, onehot_y, test_size = 0.2) "
      ],
      "execution_count": 65,
      "outputs": []
    },
    {
      "cell_type": "markdown",
      "metadata": {
        "id": "ozaKwx_Mg1QT"
      },
      "source": [
        "# Vectorization"
      ]
    },
    {
      "cell_type": "code",
      "metadata": {
        "id": "BKsA4Y1SIadq"
      },
      "source": [
        "EMBEDDING_DIM = 200"
      ],
      "execution_count": 66,
      "outputs": []
    },
    {
      "cell_type": "code",
      "metadata": {
        "id": "HmQ5fwfZrTm4"
      },
      "source": [
        "# Function to create weight matrix between word-index and vectors from gensim models\r\n",
        "def get_weight_matrix(model, vocab):\r\n",
        "    # total vocabulary size plus 0 for unknown words\r\n",
        "    vocab_size = len(vocab) + 1\r\n",
        "    # define weight matrix dimensions with all 0\r\n",
        "    weight_matrix = np.zeros((vocab_size, EMBEDDING_DIM))\r\n",
        "    # step vocab, store vectors using the Tokenizer's integer mapping\r\n",
        "    for word, i in vocab.items():\r\n",
        "        try: \r\n",
        "          weight_matrix[i] = model[word]\r\n",
        "        except:\r\n",
        "          pass\r\n",
        "    return weight_matrix"
      ],
      "execution_count": 67,
      "outputs": []
    },
    {
      "cell_type": "markdown",
      "metadata": {
        "id": "2s44cyQtT_hR"
      },
      "source": [
        "### Via TF-IDF"
      ]
    },
    {
      "cell_type": "code",
      "metadata": {
        "id": "4hKnYMuggUc0"
      },
      "source": [
        "X_simpleTrain = simpleTrain['cleanSentence'].to_numpy()\r\n",
        "y_simpleTrain = simpleTrain['Level'].to_numpy()\r\n",
        "\r\n",
        "X_simpleTest = simpleTest['cleanSentence'].to_numpy()\r\n",
        "y_simpleTest = simpleTest['Level'].to_numpy()"
      ],
      "execution_count": 48,
      "outputs": []
    },
    {
      "cell_type": "code",
      "metadata": {
        "id": "ezYjTb5nUIQ3"
      },
      "source": [
        "from sklearn.feature_extraction.text import TfidfVectorizer\r\n",
        "\r\n",
        "vectorizer = TfidfVectorizer()\r\n",
        "X_simpleTrain_tfidf = vectorizer.fit_transform(X_simpleTrain)\r\n",
        "X_simpleTest_tfidf = vectorizer.transform(X_simpleTest)"
      ],
      "execution_count": 49,
      "outputs": []
    },
    {
      "cell_type": "code",
      "metadata": {
        "colab": {
          "base_uri": "https://localhost:8080/"
        },
        "id": "MSJP3FXQUKtO",
        "outputId": "79282a76-4f81-4d37-8536-7a64cffe99b4"
      },
      "source": [
        "X_simpleTrain_tfidf.shape"
      ],
      "execution_count": 50,
      "outputs": [
        {
          "output_type": "execute_result",
          "data": {
            "text/plain": [
              "(235060, 89269)"
            ]
          },
          "metadata": {
            "tags": []
          },
          "execution_count": 50
        }
      ]
    },
    {
      "cell_type": "code",
      "metadata": {
        "colab": {
          "base_uri": "https://localhost:8080/"
        },
        "id": "wO9JMTHfUQNY",
        "outputId": "9c07837e-4431-469b-ad1f-25cf54c80063"
      },
      "source": [
        "X_simpleTrain[:10]"
      ],
      "execution_count": 51,
      "outputs": [
        {
          "output_type": "execute_result",
          "data": {
            "text/plain": [
              "array(['trop nul ta video sale jaloux',\n",
              "       'pour avoir beatrice il faut la parler',\n",
              "       'en gros le peuple devient con et exprime sa connerie parce qu on lui donne les moyens ok jusque là je le suis par contre sa hauteur de diplômé qui explique qu on est en général trop con pour s exprimer sur quoi que ce soit là je decroche monsieur le philosophe exprimez donc l idée que les gouvernements successifs ont tout fait pour priver les citoyens d accéder aux connaissances nécessaires pour réfléchir ce qui a entraîner des pensées extrémistes non canalisées par manque de savoir et là on sera d accord parce que le côté donneur de leçon sans explication ça fait légèrement macroniste genre une élie sait les autres non donc fermez vos gueules c est pas très philosophique c est même très stérile comme réflexion pronez la connaissance la réforme de l éducation nationale mais ne reprochez pas aux gens d essayer d exprimer leurs émotions aussi mal retranscris qu elles soient',\n",
              "       'quand on a du charme on serait bien bête de ne pas s en servir pour arriver à ses fins macron travaille pdt que les français glandent pour la plupart',\n",
              "       'matheo tgl',\n",
              "       'moi je trouve que passer 12 semaines c est trop apres c est un bébé quand je vois les delais a l etranger oui j appelle cela un meurtre en premier lieuil faudrait permettre une meilleure information dans les collèges et lycées en second lieu il faudrait une meilleure prise en charge des femmes qui souhaitent avorter et arreter de les faire attendre et culpabiliser l avortement reste un traumatisme pour une majorité de femmes meme si certaines prennent l avortement pour un moyen de contraception et j en connais n en deplaisent a certaines et c est pas un pb d inefficacité de pilule aujourd hiui nous avons le choix mais pour moi passé 12 semaines ça ne decrait plus etre possible hors img et viol',\n",
              "       'j aime trop vidéos ahah',\n",
              "       'vous racontez n importe quoi dix états viennent d attaquer pennsylvanie wisconsin michigan géorgie devant la cour suprême qui a jugé la plainte recevable des procédures sont en cours dans 6 états des machines dominion saisies des milliers de preuves game over',\n",
              "       'j ai même pas regardé la vidéo mais je sens que sa va être bien est drôle',\n",
              "       't es con ou quoi tu passe pleins de vidéos enduro avec une supermot ne te plains pas tu désespères'],\n",
              "      dtype=object)"
            ]
          },
          "metadata": {
            "tags": []
          },
          "execution_count": 51
        }
      ]
    },
    {
      "cell_type": "code",
      "metadata": {
        "colab": {
          "base_uri": "https://localhost:8080/"
        },
        "id": "fmHlaHzDUZbg",
        "outputId": "7e07bd44-2fdf-4f77-e83a-96ba93262438"
      },
      "source": [
        "y_simpleTrain[:10]"
      ],
      "execution_count": 52,
      "outputs": [
        {
          "output_type": "execute_result",
          "data": {
            "text/plain": [
              "array(['MEDIUM', 'NONE', 'HIGH', 'NONE', 'VERY_HIGH', 'NONE', 'NONE',\n",
              "       'LOW', 'NONE', 'HIGH'], dtype=object)"
            ]
          },
          "metadata": {
            "tags": []
          },
          "execution_count": 52
        }
      ]
    },
    {
      "cell_type": "markdown",
      "metadata": {
        "id": "piZ9OkN2H7bX"
      },
      "source": [
        "### Via FastText"
      ]
    },
    {
      "cell_type": "code",
      "metadata": {
        "id": "Ej1ryePRH6hc"
      },
      "source": [
        "fasttext_model = gensim.models.FastText(sentences=final_dataset[\"finalSentence\"], size=EMBEDDING_DIM, window=5, min_count=5)"
      ],
      "execution_count": 53,
      "outputs": []
    },
    {
      "cell_type": "code",
      "metadata": {
        "colab": {
          "base_uri": "https://localhost:8080/"
        },
        "id": "GGCKRGZLI_8y",
        "outputId": "c4867d64-ba6f-4014-95cd-c189aae193ea"
      },
      "source": [
        "len(fasttext_model.wv.vocab)"
      ],
      "execution_count": 54,
      "outputs": [
        {
          "output_type": "execute_result",
          "data": {
            "text/plain": [
              "36605"
            ]
          },
          "metadata": {
            "tags": []
          },
          "execution_count": 54
        }
      ]
    },
    {
      "cell_type": "code",
      "metadata": {
        "colab": {
          "base_uri": "https://localhost:8080/"
        },
        "id": "UFVfRDOpKjT7",
        "outputId": "ce36980d-9405-4408-fad0-c21f3cbdcaf9"
      },
      "source": [
        "fasttext_model.wv[\"merde\"]"
      ],
      "execution_count": 55,
      "outputs": [
        {
          "output_type": "execute_result",
          "data": {
            "text/plain": [
              "array([ 1.1284579 ,  0.6026093 ,  0.55194414, -1.4858775 , -1.8394794 ,\n",
              "       -3.0810142 , -0.940217  , -1.6027595 , -1.5497886 , -0.85429865,\n",
              "       -0.6348115 , -1.8178934 ,  2.1839948 , -1.6538231 , -0.85423   ,\n",
              "       -1.5764794 ,  1.4149851 ,  1.0057323 , -0.36474034,  0.29080233,\n",
              "       -0.21080719, -0.17950217, -0.45694226,  1.8594996 , -2.1465688 ,\n",
              "        0.2735612 ,  0.3968396 , -0.62402505, -0.9700226 , -1.2724721 ,\n",
              "        1.8486054 ,  0.15272905,  0.54489774, -0.37184393,  0.6777381 ,\n",
              "        2.389091  , -0.8056522 ,  0.8209127 ,  0.25181684, -1.0788106 ,\n",
              "        0.50884855, -1.0748245 , -1.5625927 ,  2.1265693 ,  0.769541  ,\n",
              "        2.002416  ,  0.7465693 ,  0.2287906 ,  0.11381675,  0.21265097,\n",
              "       -1.9339    , -0.12194537, -0.7238728 , -2.128207  , -1.4337852 ,\n",
              "       -1.9397132 , -2.0834067 , -1.2747929 , -1.898521  ,  0.45629272,\n",
              "       -1.0381802 ,  1.0910054 , -2.6330535 ,  1.1270115 ,  2.9112854 ,\n",
              "       -0.17099997,  1.5804169 , -1.9675343 , -0.30740622, -3.9469461 ,\n",
              "        1.8320427 , -2.846405  ,  0.66749877,  0.6414539 , -1.5920634 ,\n",
              "        0.1933288 ,  1.693085  ,  0.871396  ,  0.5151297 ,  2.6988835 ,\n",
              "        1.5160756 , -1.3373349 , -0.994022  ,  1.3093051 ,  2.6754892 ,\n",
              "       -1.222581  ,  0.7236006 ,  0.2511951 ,  0.08793838,  2.253535  ,\n",
              "        1.7085046 , -3.0825906 , -0.5640991 ,  1.0897698 ,  4.236094  ,\n",
              "       -0.9549447 , -1.8628849 ,  3.489036  ,  0.29263046, -0.45586866,\n",
              "       -1.0085841 ,  2.1303613 , -0.96835095,  1.06196   , -2.1253734 ,\n",
              "       -0.8048417 ,  0.5508288 ,  1.9439946 , -2.035199  ,  1.2499338 ,\n",
              "        0.39856404, -0.9310709 ,  0.7589251 , -0.35314462, -0.67770886,\n",
              "       -0.13210833,  0.16502741, -2.8785434 ,  0.362937  ,  2.4585118 ,\n",
              "       -3.1734555 ,  0.72105986,  2.6460733 , -0.80496216,  2.0252328 ,\n",
              "       -0.11809396,  2.488435  ,  0.26036966,  4.461234  , -1.6578193 ,\n",
              "        2.2480364 ,  0.13173112,  1.329245  , -0.47827533,  2.31198   ,\n",
              "       -1.1691173 ,  0.89805055,  2.105921  , -2.4248064 , -0.08589764,\n",
              "        0.6520202 ,  0.07982782, -0.19201966, -0.63405836, -0.27411616,\n",
              "        2.0166383 ,  2.1024978 , -1.0536556 , -0.4101936 ,  0.35675007,\n",
              "        1.4448876 , -0.3421734 ,  0.7620745 ,  2.1236482 , -1.1501976 ,\n",
              "       -0.62548023, -1.2168171 , -1.9953284 , -0.90848327,  1.4541003 ,\n",
              "        1.62694   ,  0.9562122 ,  0.10513929,  1.0631807 ,  0.7266306 ,\n",
              "       -1.5446907 , -2.9609864 ,  0.94310606,  0.66552734,  0.23235293,\n",
              "       -0.6104289 ,  1.7677929 ,  0.61962277,  1.5615029 ,  2.8517573 ,\n",
              "       -0.99401325, -2.9234648 ,  1.4639516 , -0.07244381, -0.75191027,\n",
              "       -1.5630735 , -1.5566403 , -0.37653166, -1.7016124 , -0.42375055,\n",
              "       -1.6204827 ,  0.17889862, -1.6114802 , -0.9557336 ,  1.195308  ,\n",
              "       -0.7618269 ,  2.3008146 , -0.10178146,  1.611692  ,  1.1187599 ,\n",
              "        3.5563264 , -1.7887752 ,  3.748937  ,  0.52590406,  0.97113955],\n",
              "      dtype=float32)"
            ]
          },
          "metadata": {
            "tags": []
          },
          "execution_count": 55
        }
      ]
    },
    {
      "cell_type": "code",
      "metadata": {
        "id": "QMZ8oX-dYz2_",
        "colab": {
          "base_uri": "https://localhost:8080/"
        },
        "outputId": "8a5db176-4071-40b0-854a-312534c387cc"
      },
      "source": [
        "print(fasttext_model.wv.most_similar(\"merde\"))"
      ],
      "execution_count": 56,
      "outputs": [
        {
          "output_type": "stream",
          "text": [
            "[('merdebfmmerde', 0.9710953235626221), ('dmerde', 0.9606221318244934), ('merdeee', 0.9603695273399353), ('bfmerde', 0.9471138715744019), ('merdeu', 0.9379007816314697), ('merdeeee', 0.9377528429031372), ('emerde', 0.9298129677772522), ('merddd', 0.9261928796768188), ('merd', 0.9223754405975342), ('démerde', 0.9182571172714233)]\n"
          ],
          "name": "stdout"
        }
      ]
    },
    {
      "cell_type": "code",
      "metadata": {
        "id": "wHwEi-UOOT32"
      },
      "source": [
        "ft_embedding_vectors = get_weight_matrix(fasttext_model, word_index)"
      ],
      "execution_count": 57,
      "outputs": []
    },
    {
      "cell_type": "markdown",
      "metadata": {
        "id": "2Z4YMuBiptx8"
      },
      "source": [
        "### Via Word2Vec"
      ]
    },
    {
      "cell_type": "code",
      "metadata": {
        "id": "dY54k6TXpzW0"
      },
      "source": [
        "w2v_model = gensim.models.Word2Vec(sentences=final_dataset[\"finalSentence\"], size=EMBEDDING_DIM, window=5, min_count=5)"
      ],
      "execution_count": 76,
      "outputs": []
    },
    {
      "cell_type": "code",
      "metadata": {
        "colab": {
          "base_uri": "https://localhost:8080/"
        },
        "id": "DkCvkXjpqmVi",
        "outputId": "30268f4c-fbc9-410e-d564-9dbacad76d86"
      },
      "source": [
        "len(w2v_model.wv.vocab)"
      ],
      "execution_count": 77,
      "outputs": [
        {
          "output_type": "execute_result",
          "data": {
            "text/plain": [
              "36605"
            ]
          },
          "metadata": {
            "tags": []
          },
          "execution_count": 77
        }
      ]
    },
    {
      "cell_type": "code",
      "metadata": {
        "colab": {
          "base_uri": "https://localhost:8080/"
        },
        "id": "4xNMpfpQquyt",
        "outputId": "0a3b7df1-f074-4161-f276-dd3a0277ede0"
      },
      "source": [
        "w2v_model[\"merde\"]"
      ],
      "execution_count": 78,
      "outputs": [
        {
          "output_type": "execute_result",
          "data": {
            "text/plain": [
              "array([ 2.1625078e+00, -1.4712865e+00, -7.3073179e-01, -6.0896373e-01,\n",
              "       -2.4179866e+00,  1.5976194e+00, -1.1449257e+00,  3.2340641e+00,\n",
              "        3.2497365e+00,  3.0005029e-01, -1.5872887e+00, -1.3320677e+00,\n",
              "        1.3923520e+00, -5.1014948e-01,  1.2544361e+00,  2.1848817e+00,\n",
              "       -1.3621336e+00, -2.0024990e-01, -5.2028006e-01, -3.6428983e+00,\n",
              "       -7.5161171e-01, -1.5214986e+00, -5.4342592e-01, -6.7806154e-01,\n",
              "        5.0414819e-01, -1.0078553e+00,  1.6206586e-01,  1.1517686e+00,\n",
              "       -2.5021321e-01, -1.6442226e+00,  7.8841513e-01, -2.1266255e+00,\n",
              "        1.2746131e+00,  4.2191011e-01, -1.1127776e+00, -5.4076090e+00,\n",
              "        1.0627707e+00,  6.0634291e-01,  5.1079118e-01, -1.3816198e+00,\n",
              "       -1.3149065e+00, -5.5041397e-01,  1.5740345e+00,  3.3243225e+00,\n",
              "        2.2967808e-01,  1.7201536e+00, -2.1909134e+00, -1.2031718e+00,\n",
              "        1.2199881e-01,  3.2989242e+00,  1.3729383e+00,  3.5822275e+00,\n",
              "       -2.9440541e+00, -6.9700325e-01, -9.1200750e-03,  7.3993385e-01,\n",
              "       -8.8707286e-01,  3.5117932e-02, -1.3503157e+00, -1.2097133e+00,\n",
              "        7.1640420e-01, -2.7436781e-01, -1.1574668e+00, -5.9027606e-01,\n",
              "       -3.9703393e+00, -9.3012154e-01,  1.7528470e+00, -3.0073924e+00,\n",
              "       -2.7556226e-01, -1.3172307e+00, -5.9369367e-01,  2.1284771e+00,\n",
              "        2.7786443e-01, -1.1760882e+00,  7.7745432e-01, -3.9092413e-01,\n",
              "        8.8798624e-01,  1.5541251e+00, -7.4111181e-01, -1.3241140e+00,\n",
              "        7.5591952e-01,  2.9309924e+00,  4.0310536e-02, -6.3815677e-01,\n",
              "       -1.7073257e+00,  1.7660026e-01, -1.5325547e+00, -1.8415689e-01,\n",
              "       -1.2661390e+00,  1.7226986e+00, -9.7865641e-01, -6.6166794e-01,\n",
              "       -9.5089287e-01,  9.5107377e-02,  9.7500288e-01,  5.0116267e+00,\n",
              "       -2.3223548e+00,  9.6039158e-01,  1.2053523e+00,  1.5673000e+00,\n",
              "        3.6070213e-01, -1.3894520e+00, -6.9743246e-02,  8.2295287e-01,\n",
              "        1.2934895e+00, -3.9378804e-01,  3.2052720e-01, -9.6060336e-01,\n",
              "       -3.9040491e-01,  1.5927425e-01,  2.1414728e+00, -8.5592067e-01,\n",
              "       -1.8097404e+00, -1.1714866e+00,  3.0696723e-01, -4.2737141e-01,\n",
              "        9.7013974e-01, -9.2189068e-01,  2.8773072e+00,  5.0682986e-01,\n",
              "       -3.3378426e-02,  5.8244610e-01, -5.6690353e-01,  3.4755446e-02,\n",
              "       -9.3399161e-01,  1.3382342e+00,  1.8795253e+00,  1.0781662e-01,\n",
              "        1.2997538e+00, -4.2562193e-01, -4.7735777e-01, -2.4708877e+00,\n",
              "        1.8228153e+00, -1.4730291e+00,  4.1505253e-01,  2.1629095e+00,\n",
              "        2.9841466e-02, -1.7649207e+00,  1.1464115e+00, -8.4866750e-01,\n",
              "        3.7149134e-01,  4.4313210e-01,  1.7212381e+00, -4.6646064e-03,\n",
              "       -5.1325989e-01,  2.4113462e+00,  1.0920461e+00,  5.1946640e-01,\n",
              "        3.9240446e+00,  7.8930861e-01,  1.2078745e+00, -6.7294538e-02,\n",
              "        9.8294340e-02,  1.0637358e+00, -2.8609719e+00,  1.6314082e+00,\n",
              "       -1.0265511e+00,  8.4713972e-01, -1.2776128e+00, -2.0356040e+00,\n",
              "       -5.5666953e-01,  1.6219537e+00,  1.4564212e-01, -1.2658525e+00,\n",
              "       -1.8673662e+00, -1.5514076e-01, -8.7889624e-01,  2.3981981e-01,\n",
              "        2.3454551e-01, -2.4202421e+00,  1.4507198e+00, -4.3730873e-01,\n",
              "       -1.5109117e+00,  3.3321527e-01,  2.8835520e-01, -9.3154854e-01,\n",
              "       -5.6389636e-01,  8.2928598e-01,  3.1540042e-01, -3.8344732e-01,\n",
              "        1.4198173e+00, -2.2850373e+00, -5.2866757e-01, -3.4140626e-01,\n",
              "        1.9430708e+00,  5.6317222e-01,  1.3960932e+00,  9.0099424e-01,\n",
              "        5.5220759e-01, -2.4884493e+00, -2.0130026e-01, -1.0809863e+00,\n",
              "        1.9736880e+00, -6.2532204e-01,  5.6435508e-01, -1.4633772e+00,\n",
              "       -1.8354164e+00,  1.4112962e+00, -1.3104198e+00, -1.0306571e+00],\n",
              "      dtype=float32)"
            ]
          },
          "metadata": {
            "tags": []
          },
          "execution_count": 78
        }
      ]
    },
    {
      "cell_type": "code",
      "metadata": {
        "colab": {
          "base_uri": "https://localhost:8080/"
        },
        "id": "rDanO3mLahyh",
        "outputId": "a12e42c0-978b-4d14-90aa-31b7873052af"
      },
      "source": [
        "print(w2v_model.wv.most_similar(\"merde\"))"
      ],
      "execution_count": 79,
      "outputs": [
        {
          "output_type": "stream",
          "text": [
            "[('merdes', 0.5505917072296143), ('mrd', 0.4899296760559082), ('daube', 0.4801943302154541), ('vermine', 0.4770973324775696), ('marde', 0.4394283890724182), ('merd', 0.43894556164741516), ('bouse', 0.4221230149269104), ('faute', 0.41620805859565735), ('racaille', 0.4160346984863281), ('darronnes', 0.41285842657089233)]\n"
          ],
          "name": "stdout"
        }
      ]
    },
    {
      "cell_type": "code",
      "metadata": {
        "id": "JzgJF6ZNrOeu"
      },
      "source": [
        "w2v_embedding_vectors = get_weight_matrix(w2v_model, word_index)"
      ],
      "execution_count": 80,
      "outputs": []
    },
    {
      "cell_type": "code",
      "metadata": {
        "id": "ipuR-Y_YZnBR"
      },
      "source": [
        "w2v_emojis = gensim.models.Word2Vec(sentences=final_dataset[\"Emoji_token\"], size=EMBEDDING_DIM, window=5, min_count=5)"
      ],
      "execution_count": 81,
      "outputs": []
    },
    {
      "cell_type": "code",
      "metadata": {
        "colab": {
          "base_uri": "https://localhost:8080/"
        },
        "id": "ieHQ0iRwecFj",
        "outputId": "5ed32783-24c5-464d-e087-23dc2b420b3b"
      },
      "source": [
        "len(w2v_emojis.wv.vocab)"
      ],
      "execution_count": 82,
      "outputs": [
        {
          "output_type": "execute_result",
          "data": {
            "text/plain": [
              "834"
            ]
          },
          "metadata": {
            "tags": []
          },
          "execution_count": 82
        }
      ]
    },
    {
      "cell_type": "code",
      "metadata": {
        "id": "p2dVyNAQee69"
      },
      "source": [
        "w2v_emoji_embedding_vectors = get_weight_matrix(w2v_emojis, emoji_index)"
      ],
      "execution_count": 83,
      "outputs": []
    },
    {
      "cell_type": "markdown",
      "metadata": {
        "id": "WW3thk7ZhJCN"
      },
      "source": [
        "### Via FastText Pretrained vectors"
      ]
    },
    {
      "cell_type": "code",
      "metadata": {
        "id": "3fMZr6WlIbcI"
      },
      "source": [
        "!pip install fasttext"
      ],
      "execution_count": null,
      "outputs": []
    },
    {
      "cell_type": "code",
      "metadata": {
        "id": "T4XWOOWkJFvt"
      },
      "source": [
        "import fasttext.util\r\n",
        "fasttext.util.download_model('fr', if_exists='ignore')\r\n",
        "ft = fasttext.load_model('cc.fr.300.bin')"
      ],
      "execution_count": null,
      "outputs": []
    },
    {
      "cell_type": "code",
      "metadata": {
        "id": "iiFQEqChI7Fu"
      },
      "source": [
        "ft.get_dimension()"
      ],
      "execution_count": null,
      "outputs": []
    },
    {
      "cell_type": "code",
      "metadata": {
        "id": "_vmCmZfHI9lR"
      },
      "source": [
        "#Optional - reduce vectors dimensions\r\n",
        "#fasttext.util.reduce_model(ft, 100)\r\n",
        "#ft.get_dimension()"
      ],
      "execution_count": null,
      "outputs": []
    },
    {
      "cell_type": "code",
      "metadata": {
        "id": "0gpfTsNwg3W4"
      },
      "source": [
        "#!wget https://dl.fbaipublicfiles.com/fasttext/vectors-crawl/cc.fr.300.vec.gz"
      ],
      "execution_count": null,
      "outputs": []
    },
    {
      "cell_type": "markdown",
      "metadata": {
        "id": "L-rZ6HRxhLbc"
      },
      "source": [
        "### Via Universal Sentence Encoder"
      ]
    },
    {
      "cell_type": "code",
      "metadata": {
        "id": "qUODqxTvqk8m"
      },
      "source": [
        ""
      ],
      "execution_count": null,
      "outputs": []
    },
    {
      "cell_type": "code",
      "metadata": {
        "id": "d_GOUSRjhLmv"
      },
      "source": [
        ""
      ],
      "execution_count": null,
      "outputs": []
    },
    {
      "cell_type": "markdown",
      "metadata": {
        "id": "jEOaK143g2l8"
      },
      "source": [
        "# Modelization"
      ]
    },
    {
      "cell_type": "markdown",
      "metadata": {
        "id": "t3FH6JWZ94-o"
      },
      "source": [
        "## Baseline - Prediction based on sentence only"
      ]
    },
    {
      "cell_type": "markdown",
      "metadata": {
        "id": "lg78VPsFFfEG"
      },
      "source": [
        "### Via FastText"
      ]
    },
    {
      "cell_type": "code",
      "metadata": {
        "id": "uT7XWKfHM7_C"
      },
      "source": [
        "label_mapping = {'NONE': '__label__0',\r\n",
        "                     'LOW': '__label__1',\r\n",
        "                     'MEDIUM': '__label__2',\r\n",
        "                     'HIGH': '__label__3',\r\n",
        "                     'VERY_HIGH': '__label__4'}"
      ],
      "execution_count": null,
      "outputs": []
    },
    {
      "cell_type": "code",
      "metadata": {
        "id": "GEPUoOQnRYuN"
      },
      "source": [
        "#np.savetxt(r'Model_training_data.txt', dataset.values, fmt='%d')"
      ],
      "execution_count": null,
      "outputs": []
    },
    {
      "cell_type": "code",
      "metadata": {
        "id": "kKbn1gYhhGhd"
      },
      "source": [
        "#model = fasttext.train_supervised(input=train_fn,\r\n",
        "#                                  pretrainedVectors=pretrainedvec_fn,\r\n",
        "#                                  dim=300, \r\n",
        "#                                  wordNgrams=2, \r\n",
        "#                                  minCount=3, \r\n",
        "#                                  epoch=20, \r\n",
        "#                                  loss='ova')"
      ],
      "execution_count": null,
      "outputs": []
    },
    {
      "cell_type": "markdown",
      "metadata": {
        "id": "ow16_dTjTQzA"
      },
      "source": [
        "### Via Bi-LSTM"
      ]
    },
    {
      "cell_type": "code",
      "metadata": {
        "id": "Fz_DxfoLTSZ5",
        "colab": {
          "base_uri": "https://localhost:8080/",
          "height": 250
        },
        "outputId": "775ac7b3-78b4-497d-aa19-c42757f6e5b3"
      },
      "source": [
        "#Defining Neural Network\r\n",
        "lstm_model = Sequential()\r\n",
        "#Non-trainable embeddidng layer\r\n",
        "lstm_model.add(Embedding(vocab_size, output_dim=EMBEDDING_DIM, weights=[w2v_embedding_vectors], input_length=maxlen, trainable=False))\r\n",
        "#LSTM \r\n",
        "#lstm_model.add(LSTM(units=128, dropout=0.2, recurrent_dropout=0.2, return_sequences=False))\r\n",
        "#Bi-LSTM\r\n",
        "lstm_model.add(Bidirectional(LSTM(units=128, dropout=0.2, recurrent_dropout=0.2, return_sequences=False)))\r\n",
        "lstm_model.add(Dense(EMBEDDING_DIM, activation='relu'))\r\n",
        "lstm_model.add(Dense(5, activation='softmax'))\r\n",
        "lstm_model.compile(optimizer='adam', loss='categorical_crossentropy', metrics=['acc'])"
      ],
      "execution_count": 75,
      "outputs": [
        {
          "output_type": "error",
          "ename": "NameError",
          "evalue": "ignored",
          "traceback": [
            "\u001b[0;31m---------------------------------------------------------------------------\u001b[0m",
            "\u001b[0;31mNameError\u001b[0m                                 Traceback (most recent call last)",
            "\u001b[0;32m<ipython-input-75-9957a45c5671>\u001b[0m in \u001b[0;36m<module>\u001b[0;34m()\u001b[0m\n\u001b[1;32m      2\u001b[0m \u001b[0mlstm_model\u001b[0m \u001b[0;34m=\u001b[0m \u001b[0mSequential\u001b[0m\u001b[0;34m(\u001b[0m\u001b[0;34m)\u001b[0m\u001b[0;34m\u001b[0m\u001b[0;34m\u001b[0m\u001b[0m\n\u001b[1;32m      3\u001b[0m \u001b[0;31m#Non-trainable embeddidng layer\u001b[0m\u001b[0;34m\u001b[0m\u001b[0;34m\u001b[0m\u001b[0;34m\u001b[0m\u001b[0m\n\u001b[0;32m----> 4\u001b[0;31m \u001b[0mlstm_model\u001b[0m\u001b[0;34m.\u001b[0m\u001b[0madd\u001b[0m\u001b[0;34m(\u001b[0m\u001b[0mEmbedding\u001b[0m\u001b[0;34m(\u001b[0m\u001b[0mvocab_size\u001b[0m\u001b[0;34m,\u001b[0m \u001b[0moutput_dim\u001b[0m\u001b[0;34m=\u001b[0m\u001b[0mEMBEDDING_DIM\u001b[0m\u001b[0;34m,\u001b[0m \u001b[0mweights\u001b[0m\u001b[0;34m=\u001b[0m\u001b[0;34m[\u001b[0m\u001b[0mw2v_embedding_vectors\u001b[0m\u001b[0;34m]\u001b[0m\u001b[0;34m,\u001b[0m \u001b[0minput_length\u001b[0m\u001b[0;34m=\u001b[0m\u001b[0mmaxlen\u001b[0m\u001b[0;34m,\u001b[0m \u001b[0mtrainable\u001b[0m\u001b[0;34m=\u001b[0m\u001b[0;32mFalse\u001b[0m\u001b[0;34m)\u001b[0m\u001b[0;34m)\u001b[0m\u001b[0;34m\u001b[0m\u001b[0;34m\u001b[0m\u001b[0m\n\u001b[0m\u001b[1;32m      5\u001b[0m \u001b[0;31m#LSTM\u001b[0m\u001b[0;34m\u001b[0m\u001b[0;34m\u001b[0m\u001b[0;34m\u001b[0m\u001b[0m\n\u001b[1;32m      6\u001b[0m \u001b[0;31m#lstm_model.add(LSTM(units=128, dropout=0.2, recurrent_dropout=0.2, return_sequences=False))\u001b[0m\u001b[0;34m\u001b[0m\u001b[0;34m\u001b[0m\u001b[0;34m\u001b[0m\u001b[0m\n",
            "\u001b[0;31mNameError\u001b[0m: name 'w2v_embedding_vectors' is not defined"
          ]
        }
      ]
    },
    {
      "cell_type": "code",
      "metadata": {
        "colab": {
          "base_uri": "https://localhost:8080/"
        },
        "id": "WgiChQkZv8Sn",
        "outputId": "044ddd67-6898-48a6-81f6-be5e0745a5e8"
      },
      "source": [
        "lstm_model.summary()"
      ],
      "execution_count": 258,
      "outputs": [
        {
          "output_type": "stream",
          "text": [
            "Model: \"sequential\"\n",
            "_________________________________________________________________\n",
            "Layer (type)                 Output Shape              Param #   \n",
            "=================================================================\n",
            "embedding_2 (Embedding)      (None, 150, 200)          26521600  \n",
            "_________________________________________________________________\n",
            "bidirectional_2 (Bidirection (None, 256)               336896    \n",
            "_________________________________________________________________\n",
            "dense_3 (Dense)              (None, 200)               51400     \n",
            "_________________________________________________________________\n",
            "dense_4 (Dense)              (None, 5)                 1005      \n",
            "=================================================================\n",
            "Total params: 26,910,901\n",
            "Trainable params: 389,301\n",
            "Non-trainable params: 26,521,600\n",
            "_________________________________________________________________\n"
          ],
          "name": "stdout"
        }
      ]
    },
    {
      "cell_type": "code",
      "metadata": {
        "colab": {
          "base_uri": "https://localhost:8080/"
        },
        "id": "RCFq97Qtv8V2",
        "outputId": "5886d7d3-e0cd-4626-8525-e4d04e13109f"
      },
      "source": [
        "early_stopping_callback_loss = tf.keras.callbacks.EarlyStopping(monitor = 'loss', patience = 1)\r\n",
        "early_stopping_callback_val_loss = tf.keras.callbacks.EarlyStopping(monitor = 'val_loss', patience = 1)\r\n",
        "\r\n",
        "lstm_history = lstm_model.fit(X_train_tok, y_train_tok, validation_split=0.2, epochs=6, batch_size = 512, \\\r\n",
        "                         callbacks = [early_stopping_callback_loss, early_stopping_callback_val_loss], verbose=1)"
      ],
      "execution_count": 260,
      "outputs": [
        {
          "output_type": "stream",
          "text": [
            "Train on 252538 samples, validate on 63135 samples\n",
            "Epoch 1/6\n",
            "252538/252538 [==============================] - 234s 928us/sample - loss: 0.7393 - acc: 0.7347 - val_loss: 0.6771 - val_acc: 0.7581\n",
            "Epoch 2/6\n",
            "252538/252538 [==============================] - 232s 920us/sample - loss: 0.6647 - acc: 0.7624 - val_loss: 0.6096 - val_acc: 0.7861\n",
            "Epoch 3/6\n",
            "252538/252538 [==============================] - 228s 902us/sample - loss: 0.6052 - acc: 0.7851 - val_loss: 0.5568 - val_acc: 0.8045\n",
            "Epoch 4/6\n",
            "252538/252538 [==============================] - 229s 908us/sample - loss: 0.5554 - acc: 0.8030 - val_loss: 0.5095 - val_acc: 0.8249\n",
            "Epoch 5/6\n",
            "252538/252538 [==============================] - 229s 905us/sample - loss: 0.5139 - acc: 0.8195 - val_loss: 0.4792 - val_acc: 0.8369\n",
            "Epoch 6/6\n",
            "252538/252538 [==============================] - 224s 885us/sample - loss: 0.4820 - acc: 0.8323 - val_loss: 0.4569 - val_acc: 0.8463\n"
          ],
          "name": "stdout"
        }
      ]
    },
    {
      "cell_type": "code",
      "metadata": {
        "id": "hzfbNZB0v8YG",
        "colab": {
          "base_uri": "https://localhost:8080/",
          "height": 295
        },
        "outputId": "70947a72-3825-4492-e343-3cf5929584fd"
      },
      "source": [
        "plt.plot(lstm_history.history['loss'])\r\n",
        "plt.plot(lstm_history.history['val_loss'])\r\n",
        "plt.title('model train vs validation accuracy')\r\n",
        "plt.ylabel('accuracy')\r\n",
        "plt.xlabel('epoch')\r\n",
        "plt.legend(['train', 'validation'], loc='upper right')\r\n",
        "plt.show()"
      ],
      "execution_count": 261,
      "outputs": [
        {
          "output_type": "display_data",
          "data": {
            "image/png": "[encoded data removed]",
            "text/plain": [
              "<Figure size 432x288 with 1 Axes>"
            ]
          },
          "metadata": {
            "tags": [],
            "needs_background": "light"
          }
        }
      ]
    },
    {
      "cell_type": "code",
      "metadata": {
        "id": "mLfelR5B0cTr"
      },
      "source": [
        "lstm_pred = (lstm_model.predict(X_test_tok) >= 0.5).astype(\"int\")"
      ],
      "execution_count": 262,
      "outputs": []
    },
    {
      "cell_type": "code",
      "metadata": {
        "id": "Y23-MEiB0kEw",
        "colab": {
          "base_uri": "https://localhost:8080/"
        },
        "outputId": "9f74623c-3b34-4ced-f419-bf9c95d98718"
      },
      "source": [
        "print(classification_report(y_test_tok, lstm_pred))"
      ],
      "execution_count": 263,
      "outputs": [
        {
          "output_type": "stream",
          "text": [
            "              precision    recall  f1-score   support\n",
            "\n",
            "           0       0.81      0.65      0.72     10828\n",
            "           1       0.85      0.70      0.76      5610\n",
            "           2       0.79      0.60      0.68      9296\n",
            "           3       0.93      0.95      0.94     39709\n",
            "           4       0.86      0.72      0.79     13476\n",
            "\n",
            "   micro avg       0.89      0.81      0.85     78919\n",
            "   macro avg       0.85      0.73      0.78     78919\n",
            "weighted avg       0.88      0.81      0.84     78919\n",
            " samples avg       0.81      0.81      0.81     78919\n",
            "\n"
          ],
          "name": "stdout"
        }
      ]
    },
    {
      "cell_type": "code",
      "metadata": {
        "id": "Lv2Ly7jR0kOm",
        "colab": {
          "base_uri": "https://localhost:8080/"
        },
        "outputId": "275a1975-8b1a-4c6b-e8f1-e0faf5897850"
      },
      "source": [
        "conf_matrix = confusion_matrix(y_test_tok.argmax(axis=1), lstm_pred.argmax(axis=1))\r\n",
        "print(conf_matrix)"
      ],
      "execution_count": 264,
      "outputs": [
        {
          "output_type": "stream",
          "text": [
            "[[ 8655   139   475   964   595]\n",
            " [  983  3915   304   282   126]\n",
            " [ 2039   205  5609   785   658]\n",
            " [ 1274   210   234 37835   156]\n",
            " [ 2225   158   487   842  9764]]\n"
          ],
          "name": "stdout"
        }
      ]
    },
    {
      "cell_type": "code",
      "metadata": {
        "colab": {
          "base_uri": "https://localhost:8080/",
          "height": 284
        },
        "id": "6FpCR_v-y1QC",
        "outputId": "9e569cef-b5e2-4a6f-d8b3-90a535079be7"
      },
      "source": [
        "sns.heatmap(conf_matrix/np.sum(conf_matrix), annot=True)"
      ],
      "execution_count": 265,
      "outputs": [
        {
          "output_type": "execute_result",
          "data": {
            "text/plain": [
              "<matplotlib.axes._subplots.AxesSubplot at 0x7f94f4e1b390>"
            ]
          },
          "metadata": {
            "tags": []
          },
          "execution_count": 265
        },
        {
          "output_type": "display_data",
          "data": {
            "image/png": "[encoded data removed]",
            "text/plain": [
              "<Figure size 432x288 with 2 Axes>"
            ]
          },
          "metadata": {
            "tags": [],
            "needs_background": "light"
          }
        }
      ]
    },
    {
      "cell_type": "code",
      "metadata": {
        "id": "WvQ7VyZPZ4CN"
      },
      "source": [
        "#lstm_model.save(\"BiLSTM\")"
      ],
      "execution_count": null,
      "outputs": []
    },
    {
      "cell_type": "code",
      "metadata": {
        "id": "g3lzS2dce1P7"
      },
      "source": [
        ""
      ],
      "execution_count": null,
      "outputs": []
    },
    {
      "cell_type": "markdown",
      "metadata": {
        "id": "OX7mSbUXe1eb"
      },
      "source": [
        "### Via 2 Bi-LSTM with Emojis"
      ]
    },
    {
      "cell_type": "code",
      "metadata": {
        "colab": {
          "base_uri": "https://localhost:8080/"
        },
        "id": "HuKALxS4e1ec",
        "outputId": "8ce3bd2f-21dc-48e7-97ad-d727f3306c10"
      },
      "source": [
        "input1 = Input(shape=(maxlen,))\r\n",
        "embed1 = Embedding(vocab_size, output_dim=EMBEDDING_DIM, weights=[w2v_embedding_vectors], input_length=maxlen, trainable=False)(input1)\r\n",
        "bdlstm1 = Bidirectional(LSTM(units=128, dropout=0.2, recurrent_dropout=0.2, return_sequences=False))(embed1)\r\n",
        "dense1 = Dense(EMBEDDING_DIM, activation='relu')(bdlstm1)\r\n",
        "\r\n",
        "input2 = Input(shape=(maxlen_emoji,))\r\n",
        "embed2 = Embedding(emo_vocab_size, output_dim=EMBEDDING_DIM, weights=[w2v_emoji_embedding_vectors], input_length=maxlen_emoji, trainable=False)(input2)\r\n",
        "bdlstm2 = Bidirectional(LSTM(units=128, dropout=0.2, recurrent_dropout=0.2, return_sequences=False))(embed2)\r\n",
        "dense2 = Dense(EMBEDDING_DIM, activation='relu')(bdlstm2)\r\n",
        "\r\n",
        "dense = Concatenate()([dense1, dense2])\r\n",
        "out = Dense(5, activation='softmax')(dense)\r\n",
        "bilstm_model = keras.Model(inputs = [input1, input2], outputs = out)\r\n",
        "bilstm_model.compile(optimizer='adam', loss='categorical_crossentropy', metrics=['acc'])"
      ],
      "execution_count": 136,
      "outputs": [
        {
          "output_type": "stream",
          "text": [
            "WARNING:tensorflow:From /tensorflow-1.15.2/python3.7/tensorflow_core/python/keras/initializers.py:119: calling RandomUniform.__init__ (from tensorflow.python.ops.init_ops) with dtype is deprecated and will be removed in a future version.\n",
            "Instructions for updating:\n",
            "Call initializer instance with the dtype argument instead of passing it to the constructor\n",
            "WARNING:tensorflow:From /tensorflow-1.15.2/python3.7/tensorflow_core/python/ops/resource_variable_ops.py:1630: calling BaseResourceVariable.__init__ (from tensorflow.python.ops.resource_variable_ops) with constraint is deprecated and will be removed in a future version.\n",
            "Instructions for updating:\n",
            "If using Keras pass *_constraint arguments to layers.\n",
            "WARNING:tensorflow:From /tensorflow-1.15.2/python3.7/tensorflow_core/python/ops/init_ops.py:97: calling GlorotUniform.__init__ (from tensorflow.python.ops.init_ops) with dtype is deprecated and will be removed in a future version.\n",
            "Instructions for updating:\n",
            "Call initializer instance with the dtype argument instead of passing it to the constructor\n",
            "WARNING:tensorflow:From /tensorflow-1.15.2/python3.7/tensorflow_core/python/ops/init_ops.py:97: calling Orthogonal.__init__ (from tensorflow.python.ops.init_ops) with dtype is deprecated and will be removed in a future version.\n",
            "Instructions for updating:\n",
            "Call initializer instance with the dtype argument instead of passing it to the constructor\n",
            "WARNING:tensorflow:From /tensorflow-1.15.2/python3.7/tensorflow_core/python/ops/init_ops.py:97: calling Zeros.__init__ (from tensorflow.python.ops.init_ops) with dtype is deprecated and will be removed in a future version.\n",
            "Instructions for updating:\n",
            "Call initializer instance with the dtype argument instead of passing it to the constructor\n"
          ],
          "name": "stdout"
        }
      ]
    },
    {
      "cell_type": "code",
      "metadata": {
        "colab": {
          "base_uri": "https://localhost:8080/"
        },
        "id": "nE5G5emUe1ed",
        "outputId": "24aa2dfb-75bc-4dc4-f47d-6063744ace08"
      },
      "source": [
        "bilstm_model.summary()"
      ],
      "execution_count": 137,
      "outputs": [
        {
          "output_type": "stream",
          "text": [
            "Model: \"model\"\n",
            "__________________________________________________________________________________________________\n",
            "Layer (type)                    Output Shape         Param #     Connected to                     \n",
            "==================================================================================================\n",
            "input_1 (InputLayer)            [(None, 150)]        0                                            \n",
            "__________________________________________________________________________________________________\n",
            "input_2 (InputLayer)            [(None, 50)]         0                                            \n",
            "__________________________________________________________________________________________________\n",
            "embedding (Embedding)           (None, 150, 200)     26521600    input_1[0][0]                    \n",
            "__________________________________________________________________________________________________\n",
            "embedding_1 (Embedding)         (None, 50, 200)      229600      input_2[0][0]                    \n",
            "__________________________________________________________________________________________________\n",
            "bidirectional (Bidirectional)   (None, 256)          336896      embedding[0][0]                  \n",
            "__________________________________________________________________________________________________\n",
            "bidirectional_1 (Bidirectional) (None, 256)          336896      embedding_1[0][0]                \n",
            "__________________________________________________________________________________________________\n",
            "dense (Dense)                   (None, 200)          51400       bidirectional[0][0]              \n",
            "__________________________________________________________________________________________________\n",
            "dense_1 (Dense)                 (None, 200)          51400       bidirectional_1[0][0]            \n",
            "__________________________________________________________________________________________________\n",
            "concatenate (Concatenate)       (None, 400)          0           dense[0][0]                      \n",
            "                                                                 dense_1[0][0]                    \n",
            "__________________________________________________________________________________________________\n",
            "dense_2 (Dense)                 (None, 5)            2005        concatenate[0][0]                \n",
            "==================================================================================================\n",
            "Total params: 27,529,797\n",
            "Trainable params: 778,597\n",
            "Non-trainable params: 26,751,200\n",
            "__________________________________________________________________________________________________\n"
          ],
          "name": "stdout"
        }
      ]
    },
    {
      "cell_type": "code",
      "metadata": {
        "colab": {
          "base_uri": "https://localhost:8080/"
        },
        "id": "P1sv4TTNg6MR",
        "outputId": "86142f13-171a-4943-e172-850ace28e91d"
      },
      "source": [
        "early_stopping_callback_loss = tf.keras.callbacks.EarlyStopping(monitor = 'loss', patience = 1)\r\n",
        "early_stopping_callback_val_loss = tf.keras.callbacks.EarlyStopping(monitor = 'val_loss', patience = 1)\r\n",
        "\r\n",
        "bilstm_history = bilstm_model.fit([X_train_tok, E_train_tok], y_train_tok, validation_split=0.2, epochs=6, batch_size = 512, \\\r\n",
        "                         callbacks = [early_stopping_callback_loss, early_stopping_callback_val_loss], verbose=1)"
      ],
      "execution_count": 138,
      "outputs": [
        {
          "output_type": "stream",
          "text": [
            "WARNING:tensorflow:From /tensorflow-1.15.2/python3.7/tensorflow_core/python/ops/math_grad.py:1424: where (from tensorflow.python.ops.array_ops) is deprecated and will be removed in a future version.\n",
            "Instructions for updating:\n",
            "Use tf.where in 2.0, which has the same broadcast rule as np.where\n",
            "Train on 252538 samples, validate on 63135 samples\n",
            "Epoch 1/6\n",
            "252538/252538 [==============================] - 276s 1ms/sample - loss: 0.8221 - acc: 0.7039 - val_loss: 0.6587 - val_acc: 0.7647\n",
            "Epoch 2/6\n",
            "252538/252538 [==============================] - 271s 1ms/sample - loss: 0.6326 - acc: 0.7739 - val_loss: 0.5665 - val_acc: 0.8010\n",
            "Epoch 3/6\n",
            "252538/252538 [==============================] - 272s 1ms/sample - loss: 0.5594 - acc: 0.8011 - val_loss: 0.5107 - val_acc: 0.8222\n",
            "Epoch 4/6\n",
            "252538/252538 [==============================] - 271s 1ms/sample - loss: 0.5100 - acc: 0.8198 - val_loss: 0.4696 - val_acc: 0.8400\n",
            "Epoch 5/6\n",
            "252538/252538 [==============================] - 268s 1ms/sample - loss: 0.4725 - acc: 0.8342 - val_loss: 0.4429 - val_acc: 0.8504\n",
            "Epoch 6/6\n",
            "252538/252538 [==============================] - 269s 1ms/sample - loss: 0.4435 - acc: 0.8459 - val_loss: 0.4231 - val_acc: 0.8593\n"
          ],
          "name": "stdout"
        }
      ]
    },
    {
      "cell_type": "code",
      "metadata": {
        "colab": {
          "base_uri": "https://localhost:8080/",
          "height": 295
        },
        "id": "_zky9yKpg6MT",
        "outputId": "64b3f130-cc39-4c92-9e0e-c488d4c059d9"
      },
      "source": [
        "plt.plot(bilstm_history.history['loss'])\r\n",
        "plt.plot(bilstm_history.history['val_loss'])\r\n",
        "plt.title('model train vs validation accuracy')\r\n",
        "plt.ylabel('accuracy')\r\n",
        "plt.xlabel('epoch')\r\n",
        "plt.legend(['train', 'validation'], loc='upper right')\r\n",
        "plt.show()"
      ],
      "execution_count": 139,
      "outputs": [
        {
          "output_type": "display_data",
          "data": {
            "image/png": "[encoded data removed]",
            "text/plain": [
              "<Figure size 432x288 with 1 Axes>"
            ]
          },
          "metadata": {
            "tags": [],
            "needs_background": "light"
          }
        }
      ]
    },
    {
      "cell_type": "code",
      "metadata": {
        "id": "TmIsWmldg6MU"
      },
      "source": [
        "bilstm_pred = (bilstm_model.predict([X_test_tok, E_test_tok]) >= 0.5).astype(\"int\")"
      ],
      "execution_count": 140,
      "outputs": []
    },
    {
      "cell_type": "code",
      "metadata": {
        "id": "GeJ9UznRg6MU"
      },
      "source": [
        "print(classification_report(y_test_tok, bilstm_pred))"
      ],
      "execution_count": null,
      "outputs": []
    },
    {
      "cell_type": "code",
      "metadata": {
        "id": "JOvwObgZg6MV"
      },
      "source": [
        "conf_matrix = confusion_matrix(y_test_tok.argmax(axis=1), bilstm_pred.argmax(axis=1))\r\n",
        "print(conf_matrix)"
      ],
      "execution_count": null,
      "outputs": []
    },
    {
      "cell_type": "code",
      "metadata": {
        "colab": {
          "base_uri": "https://localhost:8080/",
          "height": 284
        },
        "id": "qJTquQ4Gg6MW",
        "outputId": "aae6b38b-468f-4e49-96c7-b3b80672f473"
      },
      "source": [
        "sns.heatmap(conf_matrix/np.sum(conf_matrix), annot=True)"
      ],
      "execution_count": 144,
      "outputs": [
        {
          "output_type": "execute_result",
          "data": {
            "text/plain": [
              "<matplotlib.axes._subplots.AxesSubplot at 0x7fcb4f4993d0>"
            ]
          },
          "metadata": {
            "tags": []
          },
          "execution_count": 144
        },
        {
          "output_type": "display_data",
          "data": {
            "image/png": "[encoded data removed]",
            "text/plain": [
              "<Figure size 432x288 with 2 Axes>"
            ]
          },
          "metadata": {
            "tags": [],
            "needs_background": "light"
          }
        }
      ]
    },
    {
      "cell_type": "code",
      "metadata": {
        "id": "FNGaeDr3e1eg"
      },
      "source": [
        "#lstm_model.save(\"BiLSTM\")"
      ],
      "execution_count": null,
      "outputs": []
    },
    {
      "cell_type": "markdown",
      "metadata": {
        "id": "kSpLsMowniq3"
      },
      "source": [
        "### Via Transformer"
      ]
    },
    {
      "cell_type": "markdown",
      "metadata": {
        "id": "uSVeMAXznyuK"
      },
      "source": [
        "https://keras.io/examples/nlp/text_classification_with_transformer/"
      ]
    },
    {
      "cell_type": "code",
      "metadata": {
        "colab": {
          "base_uri": "https://localhost:8080/"
        },
        "id": "frgPsQu3nkX8",
        "outputId": "275c6bca-38a9-4fdb-81d2-b6f783eea976"
      },
      "source": [
        "#Implement a Transformer block as a layer\r\n",
        "\r\n",
        "!pip install tf-nightly\r\n",
        "\r\n",
        "class TransformerBlock(layers.Layer):\r\n",
        "    def __init__(self, embed_dim, num_heads, ff_dim, rate=0.1):\r\n",
        "        super(TransformerBlock, self).__init__()\r\n",
        "        self.att = layers.MultiHeadAttention(num_heads=num_heads, key_dim=embed_dim)\r\n",
        "        self.ffn = keras.Sequential(\r\n",
        "            [layers.Dense(ff_dim, activation=\"relu\"), layers.Dense(embed_dim),]\r\n",
        "        )\r\n",
        "        self.layernorm1 = layers.LayerNormalization(epsilon=1e-6)\r\n",
        "        self.layernorm2 = layers.LayerNormalization(epsilon=1e-6)\r\n",
        "        self.dropout1 = layers.Dropout(rate)\r\n",
        "        self.dropout2 = layers.Dropout(rate)\r\n",
        "\r\n",
        "    def call(self, inputs, training):\r\n",
        "        attn_output = self.att(inputs, inputs)\r\n",
        "        attn_output = self.dropout1(attn_output, training=training)\r\n",
        "        out1 = self.layernorm1(inputs + attn_output)\r\n",
        "        ffn_output = self.ffn(out1)\r\n",
        "        ffn_output = self.dropout2(ffn_output, training=training)\r\n",
        "        return self.layernorm2(out1 + ffn_output)"
      ],
      "execution_count": 68,
      "outputs": [
        {
          "output_type": "stream",
          "text": [
            "Requirement already satisfied: tf-nightly in /usr/local/lib/python3.7/dist-packages (2.5.0.dev20210228)\n",
            "Requirement already satisfied: six~=1.15.0 in /usr/local/lib/python3.7/dist-packages (from tf-nightly) (1.15.0)\n",
            "Requirement already satisfied: grpcio~=1.34.0 in /usr/local/lib/python3.7/dist-packages (from tf-nightly) (1.34.1)\n",
            "Requirement already satisfied: keras-preprocessing~=1.1.2 in /usr/local/lib/python3.7/dist-packages (from tf-nightly) (1.1.2)\n",
            "Requirement already satisfied: wheel~=0.35 in /usr/local/lib/python3.7/dist-packages (from tf-nightly) (0.36.2)\n",
            "Requirement already satisfied: termcolor~=1.1.0 in /usr/local/lib/python3.7/dist-packages (from tf-nightly) (1.1.0)\n",
            "Requirement already satisfied: gast==0.4.0 in /usr/local/lib/python3.7/dist-packages (from tf-nightly) (0.4.0)\n",
            "Requirement already satisfied: typing-extensions~=3.7.4 in /usr/local/lib/python3.7/dist-packages (from tf-nightly) (3.7.4.3)\n",
            "Requirement already satisfied: wrapt~=1.12.1 in /usr/local/lib/python3.7/dist-packages (from tf-nightly) (1.12.1)\n",
            "Requirement already satisfied: numpy~=1.19.2 in /usr/local/lib/python3.7/dist-packages (from tf-nightly) (1.19.5)\n",
            "Requirement already satisfied: absl-py~=0.10 in /usr/local/lib/python3.7/dist-packages (from tf-nightly) (0.10.0)\n",
            "Requirement already satisfied: google-pasta~=0.2 in /usr/local/lib/python3.7/dist-packages (from tf-nightly) (0.2.0)\n",
            "Requirement already satisfied: flatbuffers~=1.12.0 in /usr/local/lib/python3.7/dist-packages (from tf-nightly) (1.12)\n",
            "Requirement already satisfied: h5py~=3.1.0 in /usr/local/lib/python3.7/dist-packages (from tf-nightly) (3.1.0)\n",
            "Requirement already satisfied: opt-einsum~=3.3.0 in /usr/local/lib/python3.7/dist-packages (from tf-nightly) (3.3.0)\n",
            "Requirement already satisfied: tb-nightly~=2.5.0.a in /usr/local/lib/python3.7/dist-packages (from tf-nightly) (2.5.0a20210228)\n",
            "Requirement already satisfied: protobuf>=3.9.2 in /usr/local/lib/python3.7/dist-packages (from tf-nightly) (3.12.4)\n",
            "Requirement already satisfied: tf-estimator-nightly~=2.5.0.dev in /usr/local/lib/python3.7/dist-packages (from tf-nightly) (2.5.0.dev2021022801)\n",
            "Requirement already satisfied: astunparse~=1.6.3 in /usr/local/lib/python3.7/dist-packages (from tf-nightly) (1.6.3)\n",
            "Requirement already satisfied: cached-property; python_version < \"3.8\" in /usr/local/lib/python3.7/dist-packages (from h5py~=3.1.0->tf-nightly) (1.5.2)\n",
            "Requirement already satisfied: tensorboard-data-server<0.4.0,>=0.3.0 in /usr/local/lib/python3.7/dist-packages (from tb-nightly~=2.5.0.a->tf-nightly) (0.3.0)\n",
            "Requirement already satisfied: tensorboard-plugin-wit>=1.6.0 in /usr/local/lib/python3.7/dist-packages (from tb-nightly~=2.5.0.a->tf-nightly) (1.8.0)\n",
            "Requirement already satisfied: setuptools>=41.0.0 in /usr/local/lib/python3.7/dist-packages (from tb-nightly~=2.5.0.a->tf-nightly) (53.0.0)\n",
            "Requirement already satisfied: markdown>=2.6.8 in /usr/local/lib/python3.7/dist-packages (from tb-nightly~=2.5.0.a->tf-nightly) (3.3.4)\n",
            "Requirement already satisfied: google-auth-oauthlib<0.5,>=0.4.1 in /usr/local/lib/python3.7/dist-packages (from tb-nightly~=2.5.0.a->tf-nightly) (0.4.2)\n",
            "Requirement already satisfied: requests<3,>=2.21.0 in /usr/local/lib/python3.7/dist-packages (from tb-nightly~=2.5.0.a->tf-nightly) (2.23.0)\n",
            "Requirement already satisfied: werkzeug>=0.11.15 in /usr/local/lib/python3.7/dist-packages (from tb-nightly~=2.5.0.a->tf-nightly) (1.0.1)\n",
            "Requirement already satisfied: google-auth<2,>=1.6.3 in /usr/local/lib/python3.7/dist-packages (from tb-nightly~=2.5.0.a->tf-nightly) (1.27.0)\n",
            "Requirement already satisfied: importlib-metadata; python_version < \"3.8\" in /usr/local/lib/python3.7/dist-packages (from markdown>=2.6.8->tb-nightly~=2.5.0.a->tf-nightly) (3.7.0)\n",
            "Requirement already satisfied: requests-oauthlib>=0.7.0 in /usr/local/lib/python3.7/dist-packages (from google-auth-oauthlib<0.5,>=0.4.1->tb-nightly~=2.5.0.a->tf-nightly) (1.3.0)\n",
            "Requirement already satisfied: chardet<4,>=3.0.2 in /usr/local/lib/python3.7/dist-packages (from requests<3,>=2.21.0->tb-nightly~=2.5.0.a->tf-nightly) (3.0.4)\n",
            "Requirement already satisfied: certifi>=2017.4.17 in /usr/local/lib/python3.7/dist-packages (from requests<3,>=2.21.0->tb-nightly~=2.5.0.a->tf-nightly) (2020.12.5)\n",
            "Requirement already satisfied: urllib3!=1.25.0,!=1.25.1,<1.26,>=1.21.1 in /usr/local/lib/python3.7/dist-packages (from requests<3,>=2.21.0->tb-nightly~=2.5.0.a->tf-nightly) (1.24.3)\n",
            "Requirement already satisfied: idna<3,>=2.5 in /usr/local/lib/python3.7/dist-packages (from requests<3,>=2.21.0->tb-nightly~=2.5.0.a->tf-nightly) (2.10)\n",
            "Requirement already satisfied: rsa<5,>=3.1.4; python_version >= \"3.6\" in /usr/local/lib/python3.7/dist-packages (from google-auth<2,>=1.6.3->tb-nightly~=2.5.0.a->tf-nightly) (4.7.2)\n",
            "Requirement already satisfied: pyasn1-modules>=0.2.1 in /usr/local/lib/python3.7/dist-packages (from google-auth<2,>=1.6.3->tb-nightly~=2.5.0.a->tf-nightly) (0.2.8)\n",
            "Requirement already satisfied: cachetools<5.0,>=2.0.0 in /usr/local/lib/python3.7/dist-packages (from google-auth<2,>=1.6.3->tb-nightly~=2.5.0.a->tf-nightly) (4.2.1)\n",
            "Requirement already satisfied: zipp>=0.5 in /usr/local/lib/python3.7/dist-packages (from importlib-metadata; python_version < \"3.8\"->markdown>=2.6.8->tb-nightly~=2.5.0.a->tf-nightly) (3.4.0)\n",
            "Requirement already satisfied: oauthlib>=3.0.0 in /usr/local/lib/python3.7/dist-packages (from requests-oauthlib>=0.7.0->google-auth-oauthlib<0.5,>=0.4.1->tb-nightly~=2.5.0.a->tf-nightly) (3.1.0)\n",
            "Requirement already satisfied: pyasn1>=0.1.3 in /usr/local/lib/python3.7/dist-packages (from rsa<5,>=3.1.4; python_version >= \"3.6\"->google-auth<2,>=1.6.3->tb-nightly~=2.5.0.a->tf-nightly) (0.4.8)\n"
          ],
          "name": "stdout"
        }
      ]
    },
    {
      "cell_type": "code",
      "metadata": {
        "id": "IwWC98Vwn3IP"
      },
      "source": [
        "#Implement embedding layer\r\n",
        "#Two seperate embedding layers, one for tokens, one for token index (positions).\r\n",
        "\r\n",
        "class TokenAndPositionEmbedding(layers.Layer):\r\n",
        "    def __init__(self, maxlen, vocab_size, embed_dim):\r\n",
        "        super(TokenAndPositionEmbedding, self).__init__()\r\n",
        "        self.token_emb = layers.Embedding(input_dim=vocab_size, output_dim=embed_dim)\r\n",
        "        self.pos_emb = layers.Embedding(input_dim=maxlen, output_dim=embed_dim)\r\n",
        "\r\n",
        "    def call(self, x):\r\n",
        "        maxlen = tf.shape(x)[-1]\r\n",
        "        positions = tf.range(start=0, limit=maxlen, delta=1)\r\n",
        "        positions = self.pos_emb(positions)\r\n",
        "        x = self.token_emb(x)\r\n",
        "        return x + positions"
      ],
      "execution_count": 69,
      "outputs": []
    },
    {
      "cell_type": "code",
      "metadata": {
        "id": "dJ_inM1moGyf"
      },
      "source": [
        "#Create classifier model using transformer layer\r\n",
        "\r\n",
        "embed_dim = 32  # Embedding size for each token\r\n",
        "num_heads = 2  # Number of attention heads\r\n",
        "ff_dim = 32  # Hidden layer size in feed forward network inside transformer\r\n",
        "\r\n",
        "inputs = layers.Input(shape=(maxlen,))\r\n",
        "embedding_layer = TokenAndPositionEmbedding(maxlen, vocab_size, embed_dim)\r\n",
        "x = embedding_layer(inputs)\r\n",
        "transformer_block = TransformerBlock(embed_dim, num_heads, ff_dim)\r\n",
        "x = transformer_block(x)\r\n",
        "x = layers.GlobalAveragePooling1D()(x)\r\n",
        "x = layers.Dropout(0.1)(x)\r\n",
        "x = layers.Dense(20, activation=\"relu\")(x)\r\n",
        "x = layers.Dropout(0.1)(x)\r\n",
        "outputs = layers.Dense(5, activation=\"softmax\")(x)\r\n",
        "\r\n",
        "transfo_model = keras.Model(inputs=inputs, outputs=outputs)"
      ],
      "execution_count": 85,
      "outputs": []
    },
    {
      "cell_type": "code",
      "metadata": {
        "id": "u5LcTtkrqBE_",
        "outputId": "582fa479-29fc-4e07-f267-d56f3b46623a",
        "colab": {
          "base_uri": "https://localhost:8080/"
        }
      },
      "source": [
        "#Train and Evaluate\r\n",
        "early_stopping_callback_loss = tf.keras.callbacks.EarlyStopping(monitor = 'loss', patience = 1)\r\n",
        "early_stopping_callback_val_loss = tf.keras.callbacks.EarlyStopping(monitor = 'val_loss', patience = 1)\r\n",
        "\r\n",
        "transfo_model.compile(\"adam\", \"categorical_crossentropy\", metrics=[\"accuracy\"])\r\n",
        "transfo_history = transfo_model.fit(\r\n",
        "    X_train_tok, y_train_tok, validation_split=0.2, batch_size=512, epochs=4 , \\\r\n",
        "                         callbacks = [early_stopping_callback_loss, early_stopping_callback_val_loss], verbose=1)"
      ],
      "execution_count": null,
      "outputs": [
        {
          "output_type": "stream",
          "text": [
            "Epoch 1/4\n",
            " 78/494 [===>..........................] - ETA: 5:58 - loss: 0.6583 - accuracy: 0.7643"
          ],
          "name": "stdout"
        }
      ]
    },
    {
      "cell_type": "code",
      "metadata": {
        "colab": {
          "base_uri": "https://localhost:8080/",
          "height": 295
        },
        "id": "STnZkBCAwUpb",
        "outputId": "70947a72-3825-4492-e343-3cf5929584fd"
      },
      "source": [
        "plt.plot(transfo_history.history['loss'])\r\n",
        "plt.plot(transfo_history.history['val_loss'])\r\n",
        "plt.title('model train vs validation accuracy')\r\n",
        "plt.ylabel('accuracy')\r\n",
        "plt.xlabel('epoch')\r\n",
        "plt.legend(['train', 'validation'], loc='upper right')\r\n",
        "plt.show()"
      ],
      "execution_count": null,
      "outputs": [
        {
          "output_type": "display_data",
          "data": {
            "image/png": "[encoded data removed]",
            "text/plain": [
              "<Figure size 432x288 with 1 Axes>"
            ]
          },
          "metadata": {
            "tags": [],
            "needs_background": "light"
          }
        }
      ]
    },
    {
      "cell_type": "code",
      "metadata": {
        "id": "ZBv5TfJJwUp7"
      },
      "source": [
        "transfo_pred = (transfo_model.predict(X_test_tok) >= 0.5).astype(\"int\")"
      ],
      "execution_count": null,
      "outputs": []
    },
    {
      "cell_type": "code",
      "metadata": {
        "colab": {
          "base_uri": "https://localhost:8080/"
        },
        "id": "UmMDosS0wUp8",
        "outputId": "9f74623c-3b34-4ced-f419-bf9c95d98718"
      },
      "source": [
        "print(classification_report(y_test_tok, transfo_pred))"
      ],
      "execution_count": null,
      "outputs": [
        {
          "output_type": "stream",
          "text": [
            "              precision    recall  f1-score   support\n",
            "\n",
            "           0       0.81      0.65      0.72     10828\n",
            "           1       0.85      0.70      0.76      5610\n",
            "           2       0.79      0.60      0.68      9296\n",
            "           3       0.93      0.95      0.94     39709\n",
            "           4       0.86      0.72      0.79     13476\n",
            "\n",
            "   micro avg       0.89      0.81      0.85     78919\n",
            "   macro avg       0.85      0.73      0.78     78919\n",
            "weighted avg       0.88      0.81      0.84     78919\n",
            " samples avg       0.81      0.81      0.81     78919\n",
            "\n"
          ],
          "name": "stdout"
        }
      ]
    },
    {
      "cell_type": "code",
      "metadata": {
        "colab": {
          "base_uri": "https://localhost:8080/"
        },
        "id": "W6DkINn1wUp9",
        "outputId": "275a1975-8b1a-4c6b-e8f1-e0faf5897850"
      },
      "source": [
        "conf_matrix = confusion_matrix(y_test_tok.argmax(axis=1), transfo_pred.argmax(axis=1))\r\n",
        "print(conf_matrix)"
      ],
      "execution_count": null,
      "outputs": [
        {
          "output_type": "stream",
          "text": [
            "[[ 8655   139   475   964   595]\n",
            " [  983  3915   304   282   126]\n",
            " [ 2039   205  5609   785   658]\n",
            " [ 1274   210   234 37835   156]\n",
            " [ 2225   158   487   842  9764]]\n"
          ],
          "name": "stdout"
        }
      ]
    },
    {
      "cell_type": "code",
      "metadata": {
        "colab": {
          "base_uri": "https://localhost:8080/",
          "height": 284
        },
        "id": "obbqte0IwUp-",
        "outputId": "9e569cef-b5e2-4a6f-d8b3-90a535079be7"
      },
      "source": [
        "sns.heatmap(conf_matrix/np.sum(conf_matrix), annot=True)"
      ],
      "execution_count": null,
      "outputs": [
        {
          "output_type": "execute_result",
          "data": {
            "text/plain": [
              "<matplotlib.axes._subplots.AxesSubplot at 0x7f94f4e1b390>"
            ]
          },
          "metadata": {
            "tags": []
          },
          "execution_count": 265
        },
        {
          "output_type": "display_data",
          "data": {
            "image/png": "[encoded data removed]",
            "text/plain": [
              "<Figure size 432x288 with 2 Axes>"
            ]
          },
          "metadata": {
            "tags": [],
            "needs_background": "light"
          }
        }
      ]
    },
    {
      "cell_type": "markdown",
      "metadata": {
        "id": "GM0W372-g6Ps"
      },
      "source": [
        "### Via CamemBERT"
      ]
    },
    {
      "cell_type": "code",
      "metadata": {
        "id": "q3DlMtXcnxH0"
      },
      "source": [
        ""
      ],
      "execution_count": null,
      "outputs": []
    },
    {
      "cell_type": "markdown",
      "metadata": {
        "id": "ULAfGlizkeap"
      },
      "source": [
        "==> https://colab.sandbox.google.com/drive/1KgWs_sYNEL_ZnnZ_p7eTSevVb5xXx1Hu?usp=sharing#scrollTo=ELf3ehrNxY3k"
      ]
    },
    {
      "cell_type": "code",
      "metadata": {
        "id": "n-xa5hZTEcHW",
        "colab": {
          "base_uri": "https://localhost:8080/"
        },
        "outputId": "c3c3488c-af59-43a1-f2a5-637d564e191f"
      },
      "source": [
        "!pip install transformers==3.5.1\r\n",
        "!pip install sentencepiece\r\n",
        "import torch\r\n",
        "from torch.utils.data import TensorDataset, random_split, \\\r\n",
        "                            DataLoader, RandomSampler, SequentialSampler\r\n",
        "from transformers import CamembertForSequenceClassification, CamembertTokenizer, \\\r\n",
        "                         AdamW, get_linear_schedule_with_warmup\r\n",
        "\r\n",
        "MAX_LEN = 128\r\n",
        "epochs = 6\r\n",
        "batch_size = 64\r\n",
        "device = torch.device('cuda' if torch.cuda.is_available() else 'cpu')\r\n",
        "\r\n",
        "text = dataset['cleanSentence'].to_list()\r\n",
        "labels = list(encoded_y)\r\n",
        "\r\n",
        "cam_tokenizer = CamembertTokenizer.from_pretrained(\r\n",
        "    'camembert-base', do_lower_case=True)"
      ],
      "execution_count": 94,
      "outputs": [
        {
          "output_type": "stream",
          "text": [
            "Requirement already satisfied: transformers==3.5.1 in /usr/local/lib/python3.7/dist-packages (3.5.1)\n",
            "Requirement already satisfied: numpy in /usr/local/lib/python3.7/dist-packages (from transformers==3.5.1) (1.19.5)\n",
            "Requirement already satisfied: requests in /usr/local/lib/python3.7/dist-packages (from transformers==3.5.1) (2.23.0)\n",
            "Requirement already satisfied: sacremoses in /usr/local/lib/python3.7/dist-packages (from transformers==3.5.1) (0.0.43)\n",
            "Requirement already satisfied: packaging in /usr/local/lib/python3.7/dist-packages (from transformers==3.5.1) (20.9)\n",
            "Requirement already satisfied: tqdm>=4.27 in /usr/local/lib/python3.7/dist-packages (from transformers==3.5.1) (4.41.1)\n",
            "Requirement already satisfied: filelock in /usr/local/lib/python3.7/dist-packages (from transformers==3.5.1) (3.0.12)\n",
            "Requirement already satisfied: tokenizers==0.9.3 in /usr/local/lib/python3.7/dist-packages (from transformers==3.5.1) (0.9.3)\n",
            "Requirement already satisfied: protobuf in /usr/local/lib/python3.7/dist-packages (from transformers==3.5.1) (3.12.4)\n",
            "Requirement already satisfied: regex!=2019.12.17 in /usr/local/lib/python3.7/dist-packages (from transformers==3.5.1) (2019.12.20)\n",
            "Requirement already satisfied: sentencepiece==0.1.91 in /usr/local/lib/python3.7/dist-packages (from transformers==3.5.1) (0.1.91)\n",
            "Requirement already satisfied: chardet<4,>=3.0.2 in /usr/local/lib/python3.7/dist-packages (from requests->transformers==3.5.1) (3.0.4)\n",
            "Requirement already satisfied: certifi>=2017.4.17 in /usr/local/lib/python3.7/dist-packages (from requests->transformers==3.5.1) (2020.12.5)\n",
            "Requirement already satisfied: urllib3!=1.25.0,!=1.25.1,<1.26,>=1.21.1 in /usr/local/lib/python3.7/dist-packages (from requests->transformers==3.5.1) (1.24.3)\n",
            "Requirement already satisfied: idna<3,>=2.5 in /usr/local/lib/python3.7/dist-packages (from requests->transformers==3.5.1) (2.10)\n",
            "Requirement already satisfied: click in /usr/local/lib/python3.7/dist-packages (from sacremoses->transformers==3.5.1) (7.1.2)\n",
            "Requirement already satisfied: joblib in /usr/local/lib/python3.7/dist-packages (from sacremoses->transformers==3.5.1) (1.0.1)\n",
            "Requirement already satisfied: six in /usr/local/lib/python3.7/dist-packages (from sacremoses->transformers==3.5.1) (1.15.0)\n",
            "Requirement already satisfied: pyparsing>=2.0.2 in /usr/local/lib/python3.7/dist-packages (from packaging->transformers==3.5.1) (2.4.7)\n",
            "Requirement already satisfied: setuptools in /usr/local/lib/python3.7/dist-packages (from protobuf->transformers==3.5.1) (53.0.0)\n",
            "Requirement already satisfied: sentencepiece in /usr/local/lib/python3.7/dist-packages (0.1.91)\n"
          ],
          "name": "stdout"
        }
      ]
    },
    {
      "cell_type": "code",
      "metadata": {
        "id": "_gHjb6NemS5r"
      },
      "source": [
        "def preprocess(raw_text, labels=None):\r\n",
        "    encoded_batch = cam_tokenizer.batch_encode_plus(raw_text,\r\n",
        "                                                truncation=True,\r\n",
        "                                                add_special_tokens=True,\r\n",
        "                                                pad_to_max_length=True,\r\n",
        "                                                max_length=MAX_LEN,\r\n",
        "                                                return_attention_mask=True,\r\n",
        "                                                return_tensors = 'pt')\r\n",
        "    if labels:\r\n",
        "        labels = torch.tensor(labels)\r\n",
        "        return encoded_batch['input_ids'], encoded_batch['attention_mask'], labels\r\n",
        "    return encoded_batch['input_ids'], encoded_batch['attention_mask']\r\n",
        "\r\n",
        "def format_time(elapsed):\r\n",
        "    # Round to the nearest second.\r\n",
        "    elapsed_rounded = int(round((elapsed)))\r\n",
        "    \r\n",
        "    return str(datetime.timedelta(seconds=elapsed_rounded))\r\n",
        "\r\n",
        "# Function to calculate the accuracy of our predictions vs labels\r\n",
        "def flat_accuracy(preds, labels):\r\n",
        "    pred_flat = np.argmax(preds, axis=1).flatten()\r\n",
        "    labels_flat = labels.flatten()\r\n",
        "    return np.sum(pred_flat == labels_flat) / len(labels_flat)\r\n",
        "\r\n",
        "\r\n",
        "# Split train-validation\r\n",
        "train_inputs, validation_inputs, train_labels, validation_labels = train_test_split(text, labels,\r\n",
        "                                                            random_state=42, test_size=0.2)"
      ],
      "execution_count": 95,
      "outputs": []
    },
    {
      "cell_type": "code",
      "metadata": {
        "id": "ZguphheM04PA"
      },
      "source": [
        "train_input_ids, train_attention_mask, train_labels = preprocess(train_inputs, train_labels)\r\n",
        "# Combine the training inputs into a TensorDataset\r\n",
        "train_dataset = TensorDataset(\r\n",
        "    train_input_ids,\r\n",
        "    train_attention_mask,\r\n",
        "    train_labels)\r\n",
        "\r\n",
        "val_input_ids, val_attention_mask, validation_labels = preprocess(validation_inputs, validation_labels)\r\n",
        "# Combine the validation inputs into a TensorDataset\r\n",
        "validation_dataset = TensorDataset(\r\n",
        "    val_input_ids,\r\n",
        "    val_attention_mask,\r\n",
        "    validation_labels)"
      ],
      "execution_count": 96,
      "outputs": []
    },
    {
      "cell_type": "code",
      "metadata": {
        "id": "0sCMhv4O5Px9"
      },
      "source": [
        "# Create the DataLoaders\r\n",
        "train_dataloader = DataLoader(\r\n",
        "            train_dataset,\r\n",
        "            sampler = RandomSampler(train_dataset),\r\n",
        "            batch_size = batch_size)\r\n",
        "\r\n",
        "validation_dataloader = DataLoader(\r\n",
        "            validation_dataset,\r\n",
        "            sampler = SequentialSampler(validation_dataset),\r\n",
        "            batch_size = batch_size)"
      ],
      "execution_count": 97,
      "outputs": []
    },
    {
      "cell_type": "code",
      "metadata": {
        "colab": {
          "base_uri": "https://localhost:8080/"
        },
        "id": "UxBjW2Ol2G3L",
        "outputId": "83114510-2caa-4c86-f4e6-6c5f5d17b943"
      },
      "source": [
        "try:\r\n",
        "    state_dict = torch.load(\"Bert.pt\")\r\n",
        "    print(\"Loading trained model...\")\r\n",
        "    model = CamembertForSequenceClassification.from_pretrained(\r\n",
        "    'camembert-base',\r\n",
        "    state_dict=state_dict)\r\n",
        "    print(\"Trained model loaded!\")\r\n",
        "except Exception as e:\r\n",
        "    print(\"Unable to load trained model.\")\r\n",
        "    print(e)\r\n",
        "    model = CamembertForSequenceClassification.from_pretrained(\r\n",
        "        'camembert-base',\r\n",
        "        num_labels = 5)\r\n",
        "\r\n",
        "model.to(device) "
      ],
      "execution_count": 98,
      "outputs": [
        {
          "output_type": "stream",
          "text": [
            "Unable to load trained model.\n",
            "[Errno 2] No such file or directory: 'Bert.pt'\n"
          ],
          "name": "stdout"
        },
        {
          "output_type": "stream",
          "text": [
            "Some weights of the model checkpoint at camembert-base were not used when initializing CamembertForSequenceClassification: ['lm_head.bias', 'lm_head.dense.weight', 'lm_head.dense.bias', 'lm_head.layer_norm.weight', 'lm_head.layer_norm.bias', 'lm_head.decoder.weight', 'roberta.pooler.dense.weight', 'roberta.pooler.dense.bias']\n",
            "- This IS expected if you are initializing CamembertForSequenceClassification from the checkpoint of a model trained on another task or with another architecture (e.g. initializing a BertForSequenceClassification model from a BertForPreTraining model).\n",
            "- This IS NOT expected if you are initializing CamembertForSequenceClassification from the checkpoint of a model that you expect to be exactly identical (initializing a BertForSequenceClassification model from a BertForSequenceClassification model).\n",
            "Some weights of CamembertForSequenceClassification were not initialized from the model checkpoint at camembert-base and are newly initialized: ['classifier.dense.weight', 'classifier.dense.bias', 'classifier.out_proj.weight', 'classifier.out_proj.bias']\n",
            "You should probably TRAIN this model on a down-stream task to be able to use it for predictions and inference.\n"
          ],
          "name": "stderr"
        },
        {
          "output_type": "execute_result",
          "data": {
            "text/plain": [
              "CamembertForSequenceClassification(\n",
              "  (roberta): RobertaModel(\n",
              "    (embeddings): RobertaEmbeddings(\n",
              "      (word_embeddings): Embedding(32005, 768, padding_idx=1)\n",
              "      (position_embeddings): Embedding(514, 768, padding_idx=1)\n",
              "      (token_type_embeddings): Embedding(1, 768)\n",
              "      (LayerNorm): LayerNorm((768,), eps=1e-05, elementwise_affine=True)\n",
              "      (dropout): Dropout(p=0.1, inplace=False)\n",
              "    )\n",
              "    (encoder): RobertaEncoder(\n",
              "      (layer): ModuleList(\n",
              "        (0): RobertaLayer(\n",
              "          (attention): RobertaAttention(\n",
              "            (self): RobertaSelfAttention(\n",
              "              (query): Linear(in_features=768, out_features=768, bias=True)\n",
              "              (key): Linear(in_features=768, out_features=768, bias=True)\n",
              "              (value): Linear(in_features=768, out_features=768, bias=True)\n",
              "              (dropout): Dropout(p=0.1, inplace=False)\n",
              "            )\n",
              "            (output): RobertaSelfOutput(\n",
              "              (dense): Linear(in_features=768, out_features=768, bias=True)\n",
              "              (LayerNorm): LayerNorm((768,), eps=1e-05, elementwise_affine=True)\n",
              "              (dropout): Dropout(p=0.1, inplace=False)\n",
              "            )\n",
              "          )\n",
              "          (intermediate): RobertaIntermediate(\n",
              "            (dense): Linear(in_features=768, out_features=3072, bias=True)\n",
              "          )\n",
              "          (output): RobertaOutput(\n",
              "            (dense): Linear(in_features=3072, out_features=768, bias=True)\n",
              "            (LayerNorm): LayerNorm((768,), eps=1e-05, elementwise_affine=True)\n",
              "            (dropout): Dropout(p=0.1, inplace=False)\n",
              "          )\n",
              "        )\n",
              "        (1): RobertaLayer(\n",
              "          (attention): RobertaAttention(\n",
              "            (self): RobertaSelfAttention(\n",
              "              (query): Linear(in_features=768, out_features=768, bias=True)\n",
              "              (key): Linear(in_features=768, out_features=768, bias=True)\n",
              "              (value): Linear(in_features=768, out_features=768, bias=True)\n",
              "              (dropout): Dropout(p=0.1, inplace=False)\n",
              "            )\n",
              "            (output): RobertaSelfOutput(\n",
              "              (dense): Linear(in_features=768, out_features=768, bias=True)\n",
              "              (LayerNorm): LayerNorm((768,), eps=1e-05, elementwise_affine=True)\n",
              "              (dropout): Dropout(p=0.1, inplace=False)\n",
              "            )\n",
              "          )\n",
              "          (intermediate): RobertaIntermediate(\n",
              "            (dense): Linear(in_features=768, out_features=3072, bias=True)\n",
              "          )\n",
              "          (output): RobertaOutput(\n",
              "            (dense): Linear(in_features=3072, out_features=768, bias=True)\n",
              "            (LayerNorm): LayerNorm((768,), eps=1e-05, elementwise_affine=True)\n",
              "            (dropout): Dropout(p=0.1, inplace=False)\n",
              "          )\n",
              "        )\n",
              "        (2): RobertaLayer(\n",
              "          (attention): RobertaAttention(\n",
              "            (self): RobertaSelfAttention(\n",
              "              (query): Linear(in_features=768, out_features=768, bias=True)\n",
              "              (key): Linear(in_features=768, out_features=768, bias=True)\n",
              "              (value): Linear(in_features=768, out_features=768, bias=True)\n",
              "              (dropout): Dropout(p=0.1, inplace=False)\n",
              "            )\n",
              "            (output): RobertaSelfOutput(\n",
              "              (dense): Linear(in_features=768, out_features=768, bias=True)\n",
              "              (LayerNorm): LayerNorm((768,), eps=1e-05, elementwise_affine=True)\n",
              "              (dropout): Dropout(p=0.1, inplace=False)\n",
              "            )\n",
              "          )\n",
              "          (intermediate): RobertaIntermediate(\n",
              "            (dense): Linear(in_features=768, out_features=3072, bias=True)\n",
              "          )\n",
              "          (output): RobertaOutput(\n",
              "            (dense): Linear(in_features=3072, out_features=768, bias=True)\n",
              "            (LayerNorm): LayerNorm((768,), eps=1e-05, elementwise_affine=True)\n",
              "            (dropout): Dropout(p=0.1, inplace=False)\n",
              "          )\n",
              "        )\n",
              "        (3): RobertaLayer(\n",
              "          (attention): RobertaAttention(\n",
              "            (self): RobertaSelfAttention(\n",
              "              (query): Linear(in_features=768, out_features=768, bias=True)\n",
              "              (key): Linear(in_features=768, out_features=768, bias=True)\n",
              "              (value): Linear(in_features=768, out_features=768, bias=True)\n",
              "              (dropout): Dropout(p=0.1, inplace=False)\n",
              "            )\n",
              "            (output): RobertaSelfOutput(\n",
              "              (dense): Linear(in_features=768, out_features=768, bias=True)\n",
              "              (LayerNorm): LayerNorm((768,), eps=1e-05, elementwise_affine=True)\n",
              "              (dropout): Dropout(p=0.1, inplace=False)\n",
              "            )\n",
              "          )\n",
              "          (intermediate): RobertaIntermediate(\n",
              "            (dense): Linear(in_features=768, out_features=3072, bias=True)\n",
              "          )\n",
              "          (output): RobertaOutput(\n",
              "            (dense): Linear(in_features=3072, out_features=768, bias=True)\n",
              "            (LayerNorm): LayerNorm((768,), eps=1e-05, elementwise_affine=True)\n",
              "            (dropout): Dropout(p=0.1, inplace=False)\n",
              "          )\n",
              "        )\n",
              "        (4): RobertaLayer(\n",
              "          (attention): RobertaAttention(\n",
              "            (self): RobertaSelfAttention(\n",
              "              (query): Linear(in_features=768, out_features=768, bias=True)\n",
              "              (key): Linear(in_features=768, out_features=768, bias=True)\n",
              "              (value): Linear(in_features=768, out_features=768, bias=True)\n",
              "              (dropout): Dropout(p=0.1, inplace=False)\n",
              "            )\n",
              "            (output): RobertaSelfOutput(\n",
              "              (dense): Linear(in_features=768, out_features=768, bias=True)\n",
              "              (LayerNorm): LayerNorm((768,), eps=1e-05, elementwise_affine=True)\n",
              "              (dropout): Dropout(p=0.1, inplace=False)\n",
              "            )\n",
              "          )\n",
              "          (intermediate): RobertaIntermediate(\n",
              "            (dense): Linear(in_features=768, out_features=3072, bias=True)\n",
              "          )\n",
              "          (output): RobertaOutput(\n",
              "            (dense): Linear(in_features=3072, out_features=768, bias=True)\n",
              "            (LayerNorm): LayerNorm((768,), eps=1e-05, elementwise_affine=True)\n",
              "            (dropout): Dropout(p=0.1, inplace=False)\n",
              "          )\n",
              "        )\n",
              "        (5): RobertaLayer(\n",
              "          (attention): RobertaAttention(\n",
              "            (self): RobertaSelfAttention(\n",
              "              (query): Linear(in_features=768, out_features=768, bias=True)\n",
              "              (key): Linear(in_features=768, out_features=768, bias=True)\n",
              "              (value): Linear(in_features=768, out_features=768, bias=True)\n",
              "              (dropout): Dropout(p=0.1, inplace=False)\n",
              "            )\n",
              "            (output): RobertaSelfOutput(\n",
              "              (dense): Linear(in_features=768, out_features=768, bias=True)\n",
              "              (LayerNorm): LayerNorm((768,), eps=1e-05, elementwise_affine=True)\n",
              "              (dropout): Dropout(p=0.1, inplace=False)\n",
              "            )\n",
              "          )\n",
              "          (intermediate): RobertaIntermediate(\n",
              "            (dense): Linear(in_features=768, out_features=3072, bias=True)\n",
              "          )\n",
              "          (output): RobertaOutput(\n",
              "            (dense): Linear(in_features=3072, out_features=768, bias=True)\n",
              "            (LayerNorm): LayerNorm((768,), eps=1e-05, elementwise_affine=True)\n",
              "            (dropout): Dropout(p=0.1, inplace=False)\n",
              "          )\n",
              "        )\n",
              "        (6): RobertaLayer(\n",
              "          (attention): RobertaAttention(\n",
              "            (self): RobertaSelfAttention(\n",
              "              (query): Linear(in_features=768, out_features=768, bias=True)\n",
              "              (key): Linear(in_features=768, out_features=768, bias=True)\n",
              "              (value): Linear(in_features=768, out_features=768, bias=True)\n",
              "              (dropout): Dropout(p=0.1, inplace=False)\n",
              "            )\n",
              "            (output): RobertaSelfOutput(\n",
              "              (dense): Linear(in_features=768, out_features=768, bias=True)\n",
              "              (LayerNorm): LayerNorm((768,), eps=1e-05, elementwise_affine=True)\n",
              "              (dropout): Dropout(p=0.1, inplace=False)\n",
              "            )\n",
              "          )\n",
              "          (intermediate): RobertaIntermediate(\n",
              "            (dense): Linear(in_features=768, out_features=3072, bias=True)\n",
              "          )\n",
              "          (output): RobertaOutput(\n",
              "            (dense): Linear(in_features=3072, out_features=768, bias=True)\n",
              "            (LayerNorm): LayerNorm((768,), eps=1e-05, elementwise_affine=True)\n",
              "            (dropout): Dropout(p=0.1, inplace=False)\n",
              "          )\n",
              "        )\n",
              "        (7): RobertaLayer(\n",
              "          (attention): RobertaAttention(\n",
              "            (self): RobertaSelfAttention(\n",
              "              (query): Linear(in_features=768, out_features=768, bias=True)\n",
              "              (key): Linear(in_features=768, out_features=768, bias=True)\n",
              "              (value): Linear(in_features=768, out_features=768, bias=True)\n",
              "              (dropout): Dropout(p=0.1, inplace=False)\n",
              "            )\n",
              "            (output): RobertaSelfOutput(\n",
              "              (dense): Linear(in_features=768, out_features=768, bias=True)\n",
              "              (LayerNorm): LayerNorm((768,), eps=1e-05, elementwise_affine=True)\n",
              "              (dropout): Dropout(p=0.1, inplace=False)\n",
              "            )\n",
              "          )\n",
              "          (intermediate): RobertaIntermediate(\n",
              "            (dense): Linear(in_features=768, out_features=3072, bias=True)\n",
              "          )\n",
              "          (output): RobertaOutput(\n",
              "            (dense): Linear(in_features=3072, out_features=768, bias=True)\n",
              "            (LayerNorm): LayerNorm((768,), eps=1e-05, elementwise_affine=True)\n",
              "            (dropout): Dropout(p=0.1, inplace=False)\n",
              "          )\n",
              "        )\n",
              "        (8): RobertaLayer(\n",
              "          (attention): RobertaAttention(\n",
              "            (self): RobertaSelfAttention(\n",
              "              (query): Linear(in_features=768, out_features=768, bias=True)\n",
              "              (key): Linear(in_features=768, out_features=768, bias=True)\n",
              "              (value): Linear(in_features=768, out_features=768, bias=True)\n",
              "              (dropout): Dropout(p=0.1, inplace=False)\n",
              "            )\n",
              "            (output): RobertaSelfOutput(\n",
              "              (dense): Linear(in_features=768, out_features=768, bias=True)\n",
              "              (LayerNorm): LayerNorm((768,), eps=1e-05, elementwise_affine=True)\n",
              "              (dropout): Dropout(p=0.1, inplace=False)\n",
              "            )\n",
              "          )\n",
              "          (intermediate): RobertaIntermediate(\n",
              "            (dense): Linear(in_features=768, out_features=3072, bias=True)\n",
              "          )\n",
              "          (output): RobertaOutput(\n",
              "            (dense): Linear(in_features=3072, out_features=768, bias=True)\n",
              "            (LayerNorm): LayerNorm((768,), eps=1e-05, elementwise_affine=True)\n",
              "            (dropout): Dropout(p=0.1, inplace=False)\n",
              "          )\n",
              "        )\n",
              "        (9): RobertaLayer(\n",
              "          (attention): RobertaAttention(\n",
              "            (self): RobertaSelfAttention(\n",
              "              (query): Linear(in_features=768, out_features=768, bias=True)\n",
              "              (key): Linear(in_features=768, out_features=768, bias=True)\n",
              "              (value): Linear(in_features=768, out_features=768, bias=True)\n",
              "              (dropout): Dropout(p=0.1, inplace=False)\n",
              "            )\n",
              "            (output): RobertaSelfOutput(\n",
              "              (dense): Linear(in_features=768, out_features=768, bias=True)\n",
              "              (LayerNorm): LayerNorm((768,), eps=1e-05, elementwise_affine=True)\n",
              "              (dropout): Dropout(p=0.1, inplace=False)\n",
              "            )\n",
              "          )\n",
              "          (intermediate): RobertaIntermediate(\n",
              "            (dense): Linear(in_features=768, out_features=3072, bias=True)\n",
              "          )\n",
              "          (output): RobertaOutput(\n",
              "            (dense): Linear(in_features=3072, out_features=768, bias=True)\n",
              "            (LayerNorm): LayerNorm((768,), eps=1e-05, elementwise_affine=True)\n",
              "            (dropout): Dropout(p=0.1, inplace=False)\n",
              "          )\n",
              "        )\n",
              "        (10): RobertaLayer(\n",
              "          (attention): RobertaAttention(\n",
              "            (self): RobertaSelfAttention(\n",
              "              (query): Linear(in_features=768, out_features=768, bias=True)\n",
              "              (key): Linear(in_features=768, out_features=768, bias=True)\n",
              "              (value): Linear(in_features=768, out_features=768, bias=True)\n",
              "              (dropout): Dropout(p=0.1, inplace=False)\n",
              "            )\n",
              "            (output): RobertaSelfOutput(\n",
              "              (dense): Linear(in_features=768, out_features=768, bias=True)\n",
              "              (LayerNorm): LayerNorm((768,), eps=1e-05, elementwise_affine=True)\n",
              "              (dropout): Dropout(p=0.1, inplace=False)\n",
              "            )\n",
              "          )\n",
              "          (intermediate): RobertaIntermediate(\n",
              "            (dense): Linear(in_features=768, out_features=3072, bias=True)\n",
              "          )\n",
              "          (output): RobertaOutput(\n",
              "            (dense): Linear(in_features=3072, out_features=768, bias=True)\n",
              "            (LayerNorm): LayerNorm((768,), eps=1e-05, elementwise_affine=True)\n",
              "            (dropout): Dropout(p=0.1, inplace=False)\n",
              "          )\n",
              "        )\n",
              "        (11): RobertaLayer(\n",
              "          (attention): RobertaAttention(\n",
              "            (self): RobertaSelfAttention(\n",
              "              (query): Linear(in_features=768, out_features=768, bias=True)\n",
              "              (key): Linear(in_features=768, out_features=768, bias=True)\n",
              "              (value): Linear(in_features=768, out_features=768, bias=True)\n",
              "              (dropout): Dropout(p=0.1, inplace=False)\n",
              "            )\n",
              "            (output): RobertaSelfOutput(\n",
              "              (dense): Linear(in_features=768, out_features=768, bias=True)\n",
              "              (LayerNorm): LayerNorm((768,), eps=1e-05, elementwise_affine=True)\n",
              "              (dropout): Dropout(p=0.1, inplace=False)\n",
              "            )\n",
              "          )\n",
              "          (intermediate): RobertaIntermediate(\n",
              "            (dense): Linear(in_features=768, out_features=3072, bias=True)\n",
              "          )\n",
              "          (output): RobertaOutput(\n",
              "            (dense): Linear(in_features=3072, out_features=768, bias=True)\n",
              "            (LayerNorm): LayerNorm((768,), eps=1e-05, elementwise_affine=True)\n",
              "            (dropout): Dropout(p=0.1, inplace=False)\n",
              "          )\n",
              "        )\n",
              "      )\n",
              "    )\n",
              "  )\n",
              "  (classifier): RobertaClassificationHead(\n",
              "    (dense): Linear(in_features=768, out_features=768, bias=True)\n",
              "    (dropout): Dropout(p=0.1, inplace=False)\n",
              "    (out_proj): Linear(in_features=768, out_features=5, bias=True)\n",
              "  )\n",
              ")"
            ]
          },
          "metadata": {
            "tags": []
          },
          "execution_count": 98
        }
      ]
    },
    {
      "cell_type": "code",
      "metadata": {
        "id": "5IDXz8fW2sJ0"
      },
      "source": [
        "#Training parameters\r\n",
        "optimizer = AdamW(model.parameters(),\r\n",
        "                  lr = 2e-5, # Learning Rate - Default is 5e-5\r\n",
        "                  eps = 1e-8 # Adam Epsilon  - Default is 1e-8.\r\n",
        "                )\r\n",
        "\r\n",
        "\r\n",
        "# Training loop\r\n",
        "training_stats = []\r\n",
        "validation_stats = []\r\n",
        "\r\n",
        "# Measure the total training time for the whole run.\r\n",
        "total_t0 = time.time()\r\n",
        "\r\n",
        "# Total number of training steps is [number of batches] x [number of epochs]\r\n",
        "# (Note that this is not the same as the number of training samples)\r\n",
        "total_steps = len(train_dataloader) * epochs\r\n",
        "\r\n",
        "# Create the learning rate scheduler\r\n",
        "scheduler = get_linear_schedule_with_warmup(optimizer, \r\n",
        "                                            num_warmup_steps = 0, # Default value in run_glue.py\r\n",
        "                                            num_training_steps = total_steps)\r\n",
        "\r\n",
        "# This variable will evaluate the convergence on the training\r\n",
        "consecutive_epochs_with_no_improve = 0"
      ],
      "execution_count": 99,
      "outputs": []
    },
    {
      "cell_type": "code",
      "metadata": {
        "colab": {
          "base_uri": "https://localhost:8080/",
          "height": 306
        },
        "id": "ftMfjMFH8VYQ",
        "outputId": "a00fb2be-17f5-4a13-91a6-a46e977bfa96"
      },
      "source": [
        "# Training & Validation\r\n",
        "for epoch in range(0, epochs):\r\n",
        "  print(\"\")\r\n",
        "  print(f'########## Epoch {epoch+1} / {epochs} ##########')\r\n",
        "  print('Training...')\r\n",
        "\r\n",
        "  # Measure how long the training epoch takes.\r\n",
        "  t0 = time.time()\r\n",
        "\r\n",
        "  # Reset the total loss for this epoch.\r\n",
        "  total_train_loss = 0\r\n",
        "\r\n",
        "  # Put the model into training mode\r\n",
        "  model.train()\r\n",
        "\r\n",
        "  # For each batch of training data\r\n",
        "  for step, batch in enumerate(train_dataloader):\r\n",
        "    # Progress update every 40 batches.\r\n",
        "    if step % 40 == 0 and not step == 0:\r\n",
        "        # Calculate elapsed time in minutes.\r\n",
        "        elapsed = time.time() - t0\r\n",
        "\r\n",
        "        # Report progress\r\n",
        "        print(f'  Batch {step}  of  {len(train_dataloader)}    Elapsed: {format_time(elapsed)}.')\r\n",
        "\r\n",
        "    # Unpack this training batch from our dataloader. \r\n",
        "    #\r\n",
        "    # As we unpack the batch, we'll also copy each tensor to the 'device' using the 'to' method\r\n",
        "    #\r\n",
        "    # 'batch' contains three pytorch tensors:\r\n",
        "    #   [0]: input ids \r\n",
        "    #   [1]: attention masks\r\n",
        "    #   [2]: skills \r\n",
        "    input_id = batch[0].to(device)\r\n",
        "    attention_mask = batch[1].to(device)\r\n",
        "    label = batch[2].to(device)\r\n",
        "\r\n",
        "    # Clear any previously calculated gradients before performing a backward pass\r\n",
        "    model.zero_grad()        \r\n",
        "\r\n",
        "    # Perform a forward pass (evaluate the model on this training batch)\r\n",
        "    # the loss (because we provided skills) and the \"logits\"--the model\r\n",
        "    # outputs prior to activation\r\n",
        "    loss, logits = model(input_id, \r\n",
        "                          token_type_ids=None, \r\n",
        "                          attention_mask=attention_mask, \r\n",
        "                          labels=label)\r\n",
        "\r\n",
        "    # Accumulate the training loss over all of the batches so that we can\r\n",
        "    # calculate the average loss at the end. 'loss' is a Tensor containing a\r\n",
        "    # single value; the '.item()' function just returns the Python value \r\n",
        "    # from the tensor\r\n",
        "    total_train_loss += loss.item()\r\n",
        "\r\n",
        "    # Perform a backward pass to calculate the gradients\r\n",
        "    loss.backward()\r\n",
        "\r\n",
        "    # Clip the norm of the gradients to 1.0\r\n",
        "    # This is to help prevent the \"exploding gradients\" problem.\r\n",
        "    torch.nn.utils.clip_grad_norm_(model.parameters(), 1.0)\r\n",
        "\r\n",
        "    # Update parameters and take a step using the computed gradient\r\n",
        "    # The optimizer dictates the \"update rule\"--how the parameters are\r\n",
        "    # modified based on their gradients, the learning rate, etc.\r\n",
        "    optimizer.step()\r\n",
        "\r\n",
        "    # Update the learning rate.\r\n",
        "    scheduler.step()\r\n",
        "\r\n",
        "  # Calculate the average loss over all of the batches\r\n",
        "  avg_train_loss = total_train_loss / len(train_dataloader)   \r\n",
        "\r\n",
        "  if epoch > 0:\r\n",
        "      if min([stat['Training Loss'] for stat in training_stats]) <= avg_train_loss:\r\n",
        "          # i.e. If there is not improvement\r\n",
        "          consecutive_epochs_with_no_improve += 1\r\n",
        "      else:\r\n",
        "          # If there is improvement\r\n",
        "          consecutive_epochs_with_no_improve = 0\r\n",
        "          print(\"Model saved!\")\r\n",
        "          torch.save(model.state_dict(), \"Bert.pt\")\r\n",
        "\r\n",
        "  # Measure how long this epoch took\r\n",
        "  training_time = time.time() - t0\r\n",
        "\r\n",
        "  print(\"\")\r\n",
        "  print(\"  Average training loss: {0:.2f}\".format(avg_train_loss))\r\n",
        "  print(\"  Training epoch took: {:}\".format(training_time))\r\n",
        "\r\n",
        "  # Record all statistics from this epoch.\r\n",
        "  training_stats.append(\r\n",
        "      {\r\n",
        "          'epoch': epoch + 1,\r\n",
        "          'Training Loss': avg_train_loss,\r\n",
        "          'Training Time': training_time,\r\n",
        "      }\r\n",
        "  )\r\n",
        "\r\n",
        "  print(\"epoch: {} \\n\".format(epoch + 1), file=outfile)\r\n",
        "  print(\"Training Loss: {} \\n\".format(avg_train_loss), file=outfile)\r\n",
        "  print(\"Training Time: {} \\n\".format(training_time), file=outfile)\r\n",
        "\r\n",
        "  if consecutive_epochs_with_no_improve == 2:\r\n",
        "      print(\"Stop training : The loss has not changed since 2 epochs!\")\r\n",
        "      break\r\n",
        "\r\n",
        "\r\n",
        "  # Tracking variables for validation\r\n",
        "  eval_loss, eval_accuracy = 0, 0\r\n",
        "  batch_count = 0\r\n",
        "\r\n",
        "  t1 = time.time()\r\n",
        "  # Validation of the model\r\n",
        "  model.eval()\r\n",
        "\r\n",
        "  # Evaluate data for one epoch\r\n",
        "  for batch in validation_dataloader:\r\n",
        "      elapsed = time.time() - t1\r\n",
        "      print(f'  Batch {batch_count}  of  {len(validation_dataloader)}    Elapsed: {format_time(elapsed)}.')\r\n",
        "\r\n",
        "      # Unpack this training batch from our dataloader. \r\n",
        "      #\r\n",
        "      # As we unpack the batch, we'll also copy each tensor to the 'device' using the 'to' method\r\n",
        "      #\r\n",
        "      # 'batch' contains three pytorch tensors:\r\n",
        "      #   [0]: input ids \r\n",
        "      #   [1]: attention masks\r\n",
        "      #   [2]: skills \r\n",
        "      input_id = batch[0].to(device)\r\n",
        "      attention_mask = batch[1].to(device)\r\n",
        "      label = batch[2].to(device)\r\n",
        "\r\n",
        "      with torch.no_grad():\r\n",
        "      # Forward pass, calculate logit predictions\r\n",
        "          outputs =  model(input_id, token_type_ids=None, \r\n",
        "                            attention_mask=attention_mask,\r\n",
        "                            labels=label)\r\n",
        "          loss, logits = outputs[:2]\r\n",
        "\r\n",
        "      # Accumulate the training loss over all of the batches so that we can\r\n",
        "      # calculate the average loss at the end. 'loss' is a Tensor containing a\r\n",
        "      # single value; the '.item()' function just returns the Python value \r\n",
        "      # from the tensor\r\n",
        "      eval_loss += loss.item()\r\n",
        "\r\n",
        "      # Move logits and labels to CPU if GPU is used\r\n",
        "      logits = logits.detach().cpu().numpy()\r\n",
        "      label_ids = label.to('cpu').numpy()\r\n",
        "      predictions = np.argmax(logits, axis=1).flatten()\r\n",
        "\r\n",
        "      tmp_eval_accuracy = flat_accuracy(logits, label_ids)\r\n",
        "\r\n",
        "      eval_accuracy += tmp_eval_accuracy\r\n",
        "      if batch_count == 0:\r\n",
        "          global_predictions = predictions\r\n",
        "      else:\r\n",
        "          global_predictions = np.append(global_predictions,predictions)\r\n",
        "      batch_count += 1\r\n",
        "\r\n",
        "\r\n",
        "  avg_validation_loss = eval_loss / len(validation_dataloader)   \r\n",
        "\r\n",
        "\r\n",
        "  # Measure how long this epoch took\r\n",
        "  validation_time = time.time() - t1\r\n",
        "\r\n",
        "  print(\"\")\r\n",
        "  print(\"  Average validation loss: {0:.2f}\".format(avg_validation_loss))\r\n",
        "  print(\"  Validation took: {:}\".format(validation_time))\r\n",
        "  print(\"  Validation Accuracy: {}\".format(eval_accuracy/batch_count))\r\n",
        "  # Calculate the average loss over all of the batches\r\n",
        "\r\n",
        "  # Record all statistics from this epoch.\r\n",
        "  validation_stats.append(\r\n",
        "      {\r\n",
        "          'Training Loss': avg_validation_loss,\r\n",
        "          'Training Time': validation_time,\r\n",
        "      }\r\n",
        "  )\r\n",
        "\r\n",
        "  print(\"Validation Loss: {} \\n\".format(avg_validation_loss), file=outfile)\r\n",
        "  print(\"Validation Time: {} \\n\".format(validation_time), file=outfile)\r\n",
        "        \r\n",
        "        \r\n",
        "#with open('Bert_Metrics.json', 'w+') as outfile:\r\n",
        "#    json.dump(training_stats, outfile)\r\n",
        "\r\n",
        "#torch.save(model.state_dict(), \"Bert.pt\")\r\n",
        "#print(\"Final Model saved!\")"
      ],
      "execution_count": 100,
      "outputs": [
        {
          "output_type": "stream",
          "text": [
            "\n",
            "########## Epoch 1 / 6 ##########\n",
            "Training...\n"
          ],
          "name": "stdout"
        },
        {
          "output_type": "error",
          "ename": "AttributeError",
          "evalue": "ignored",
          "traceback": [
            "\u001b[0;31m---------------------------------------------------------------------------\u001b[0m",
            "\u001b[0;31mAttributeError\u001b[0m                            Traceback (most recent call last)",
            "\u001b[0;32m<ipython-input-100-17b0712a14fe>\u001b[0m in \u001b[0;36m<module>\u001b[0;34m()\u001b[0m\n\u001b[1;32m     51\u001b[0m     \u001b[0;31m# single value; the '.item()' function just returns the Python value\u001b[0m\u001b[0;34m\u001b[0m\u001b[0;34m\u001b[0m\u001b[0;34m\u001b[0m\u001b[0m\n\u001b[1;32m     52\u001b[0m     \u001b[0;31m# from the tensor\u001b[0m\u001b[0;34m\u001b[0m\u001b[0;34m\u001b[0m\u001b[0;34m\u001b[0m\u001b[0m\n\u001b[0;32m---> 53\u001b[0;31m     \u001b[0mtotal_train_loss\u001b[0m \u001b[0;34m+=\u001b[0m \u001b[0mloss\u001b[0m\u001b[0;34m.\u001b[0m\u001b[0mitem\u001b[0m\u001b[0;34m(\u001b[0m\u001b[0;34m)\u001b[0m\u001b[0;34m\u001b[0m\u001b[0;34m\u001b[0m\u001b[0m\n\u001b[0m\u001b[1;32m     54\u001b[0m \u001b[0;34m\u001b[0m\u001b[0m\n\u001b[1;32m     55\u001b[0m     \u001b[0;31m# Perform a backward pass to calculate the gradients\u001b[0m\u001b[0;34m\u001b[0m\u001b[0;34m\u001b[0m\u001b[0;34m\u001b[0m\u001b[0m\n",
            "\u001b[0;31mAttributeError\u001b[0m: 'str' object has no attribute 'item'"
          ]
        }
      ]
    },
    {
      "cell_type": "code",
      "metadata": {
        "id": "5RMJkngn4h4S"
      },
      "source": [
        "global_preds = torch.from_numpy(global_predictions)\r\n",
        "\r\n",
        "report = metrics.classification_report(validation_labels, global_preds, zero_division=0)\r\n",
        "print(\"Report: {} \\n\".format(report))\r\n",
        "\r\n",
        "confusion_matrix = metrics.confusion_matrix(validation_labels, global_preds)\r\n",
        "\r\n",
        "print(\"Confusion Matrix: {} \\n\".format(confusion_matrix))\r\n",
        "\r\n",
        "sns.heatmap(confusion_matrix, annot=True)\r\n"
      ],
      "execution_count": null,
      "outputs": []
    },
    {
      "cell_type": "markdown",
      "metadata": {
        "id": "xg9BPpNP-SNf"
      },
      "source": [
        "## Next stage - Prediction based on sentence + target"
      ]
    },
    {
      "cell_type": "markdown",
      "metadata": {
        "id": "g6gK0vzf-nxC"
      },
      "source": [
        "### Via FastText"
      ]
    },
    {
      "cell_type": "code",
      "metadata": {
        "id": "_egkFgr_-uji"
      },
      "source": [
        ""
      ],
      "execution_count": null,
      "outputs": []
    },
    {
      "cell_type": "markdown",
      "metadata": {
        "id": "MmRBo2g-TewA"
      },
      "source": [
        "### Via Bi-LSTM"
      ]
    },
    {
      "cell_type": "code",
      "metadata": {
        "id": "UQ-cx43kXmMk"
      },
      "source": [
        "input1 = Input(shape=(maxlen,))\r\n",
        "embed1 = Embedding(vocab_size, output_dim=EMBEDDING_DIM, weights=[w2v_embedding_vectors], input_length=maxlen, trainable=False)(input1)\r\n",
        "bdlstm1 = Bidirectional(LSTM(units=128, dropout=0.2, recurrent_dropout=0.2, return_sequences=False))(embed1)\r\n",
        "dense1 = Dense(EMBEDDING_DIM, activation='relu')(bdlstm1)\r\n",
        "\r\n",
        "input2 = Input(shape=(7,))\r\n",
        "dense2 = Dense(EMBEDDING_DIM, activation='relu')(input2)\r\n",
        "\r\n",
        "dense = Concatenate()([dense1, dense2])\r\n",
        "out = Dense(5, activation='softmax')(dense)\r\n",
        "bilstm_model = keras.Model(inputs = [input1, input2], outputs = out)\r\n",
        "bilstm_model.compile(optimizer='adam', loss='categorical_crossentropy', metrics=['acc'])"
      ],
      "execution_count": 266,
      "outputs": []
    },
    {
      "cell_type": "code",
      "metadata": {
        "colab": {
          "base_uri": "https://localhost:8080/"
        },
        "id": "F5cFwZJhkq5f",
        "outputId": "4dc6c89b-b049-4669-cfcf-e8cff02b8338"
      },
      "source": [
        "bilstm_model.summary()"
      ],
      "execution_count": 267,
      "outputs": [
        {
          "output_type": "stream",
          "text": [
            "Model: \"model_1\"\n",
            "__________________________________________________________________________________________________\n",
            "Layer (type)                    Output Shape         Param #     Connected to                     \n",
            "==================================================================================================\n",
            "input_3 (InputLayer)            [(None, 150)]        0                                            \n",
            "__________________________________________________________________________________________________\n",
            "embedding_3 (Embedding)         (None, 150, 200)     26521600    input_3[0][0]                    \n",
            "__________________________________________________________________________________________________\n",
            "bidirectional_3 (Bidirectional) (None, 256)          336896      embedding_3[0][0]                \n",
            "__________________________________________________________________________________________________\n",
            "input_4 (InputLayer)            [(None, 7)]          0                                            \n",
            "__________________________________________________________________________________________________\n",
            "dense_5 (Dense)                 (None, 200)          51400       bidirectional_3[0][0]            \n",
            "__________________________________________________________________________________________________\n",
            "dense_6 (Dense)                 (None, 200)          1600        input_4[0][0]                    \n",
            "__________________________________________________________________________________________________\n",
            "concatenate_1 (Concatenate)     (None, 400)          0           dense_5[0][0]                    \n",
            "                                                                 dense_6[0][0]                    \n",
            "__________________________________________________________________________________________________\n",
            "dense_7 (Dense)                 (None, 5)            2005        concatenate_1[0][0]              \n",
            "==================================================================================================\n",
            "Total params: 26,913,501\n",
            "Trainable params: 391,901\n",
            "Non-trainable params: 26,521,600\n",
            "__________________________________________________________________________________________________\n"
          ],
          "name": "stdout"
        }
      ]
    },
    {
      "cell_type": "code",
      "metadata": {
        "colab": {
          "base_uri": "https://localhost:8080/"
        },
        "id": "_en6LkHgrM1w",
        "outputId": "c731dae4-5ec3-4a7b-cb5e-2a47f572d536"
      },
      "source": [
        "early_stopping_callback_loss = tf.keras.callbacks.EarlyStopping(monitor = 'loss', patience = 1)\r\n",
        "early_stopping_callback_val_loss = tf.keras.callbacks.EarlyStopping(monitor = 'val_loss', patience = 1)\r\n",
        "\r\n",
        "bilstm_history = bilstm_model.fit([X_train_tok, X_train_targets], y_train_tok, validation_split=0.2, epochs=6, batch_size = 512, \\\r\n",
        "                         callbacks = [early_stopping_callback_loss, early_stopping_callback_val_loss], verbose=1)"
      ],
      "execution_count": 268,
      "outputs": [
        {
          "output_type": "stream",
          "text": [
            "Train on 252538 samples, validate on 63135 samples\n",
            "Epoch 1/6\n",
            "252538/252538 [==============================] - 228s 904us/sample - loss: 0.5586 - acc: 0.7743 - val_loss: 0.4240 - val_acc: 0.8254\n",
            "Epoch 2/6\n",
            "252538/252538 [==============================] - 227s 897us/sample - loss: 0.3927 - acc: 0.8397 - val_loss: 0.3475 - val_acc: 0.8637\n",
            "Epoch 3/6\n",
            "252538/252538 [==============================] - 225s 891us/sample - loss: 0.3382 - acc: 0.8647 - val_loss: 0.3071 - val_acc: 0.8826\n",
            "Epoch 4/6\n",
            "252538/252538 [==============================] - 222s 880us/sample - loss: 0.3012 - acc: 0.8809 - val_loss: 0.2740 - val_acc: 0.8986\n",
            "Epoch 5/6\n",
            "252538/252538 [==============================] - 224s 887us/sample - loss: 0.2745 - acc: 0.8921 - val_loss: 0.2596 - val_acc: 0.9036\n",
            "Epoch 6/6\n",
            "252538/252538 [==============================] - 218s 864us/sample - loss: 0.2556 - acc: 0.9003 - val_loss: 0.2484 - val_acc: 0.9091\n"
          ],
          "name": "stdout"
        }
      ]
    },
    {
      "cell_type": "code",
      "metadata": {
        "colab": {
          "base_uri": "https://localhost:8080/",
          "height": 295
        },
        "id": "jUKCspVUrPpE",
        "outputId": "a7557e7a-4c6f-45de-dcb5-f8bb41b7b056"
      },
      "source": [
        "plt.plot(bilstm_history.history['loss'])\r\n",
        "plt.plot(bilstm_history.history['val_loss'])\r\n",
        "plt.title('model train vs validation accuracy')\r\n",
        "plt.ylabel('accuracy')\r\n",
        "plt.xlabel('epoch')\r\n",
        "plt.legend(['train', 'validation'], loc='upper right')\r\n",
        "plt.show()"
      ],
      "execution_count": 269,
      "outputs": [
        {
          "output_type": "display_data",
          "data": {
            "image/png": "[encoded data removed]",
            "text/plain": [
              "<Figure size 432x288 with 1 Axes>"
            ]
          },
          "metadata": {
            "tags": [],
            "needs_background": "light"
          }
        }
      ]
    },
    {
      "cell_type": "code",
      "metadata": {
        "id": "XGJshZkSrPpF"
      },
      "source": [
        "bilstm_pred = (bilstm_model.predict([X_test_tok, X_test_targets]) >= 0.5).astype(\"int\")"
      ],
      "execution_count": 270,
      "outputs": []
    },
    {
      "cell_type": "code",
      "metadata": {
        "colab": {
          "base_uri": "https://localhost:8080/"
        },
        "id": "a_tPzNdorPpF",
        "outputId": "b3814421-00fb-4220-a94f-55f5a042eadf"
      },
      "source": [
        "print(classification_report(y_test_tok, bilstm_pred))"
      ],
      "execution_count": 271,
      "outputs": [
        {
          "output_type": "stream",
          "text": [
            "              precision    recall  f1-score   support\n",
            "\n",
            "           0       0.83      0.75      0.79     10828\n",
            "           1       0.94      0.81      0.87      5610\n",
            "           2       0.82      0.73      0.77      9296\n",
            "           3       1.00      1.00      1.00     39709\n",
            "           4       0.86      0.84      0.85     13476\n",
            "\n",
            "   micro avg       0.93      0.89      0.91     78919\n",
            "   macro avg       0.89      0.83      0.86     78919\n",
            "weighted avg       0.93      0.89      0.91     78919\n",
            " samples avg       0.89      0.89      0.89     78919\n",
            "\n"
          ],
          "name": "stdout"
        }
      ]
    },
    {
      "cell_type": "code",
      "metadata": {
        "colab": {
          "base_uri": "https://localhost:8080/"
        },
        "id": "LJmiUvAHrPpG",
        "outputId": "77506b8a-e13b-4ff4-a50d-e11e3c652423"
      },
      "source": [
        "conf_matrix = confusion_matrix(y_test_tok.argmax(axis=1), bilstm_pred.argmax(axis=1))\r\n",
        "print(conf_matrix)"
      ],
      "execution_count": 272,
      "outputs": [
        {
          "output_type": "stream",
          "text": [
            "[[ 9230    98   620     0   880]\n",
            " [  568  4535   333     0   174]\n",
            " [ 1592   123  6756     2   823]\n",
            " [    3     0     1 39705     0]\n",
            " [ 1438    83   573     0 11382]]\n"
          ],
          "name": "stdout"
        }
      ]
    },
    {
      "cell_type": "code",
      "metadata": {
        "colab": {
          "base_uri": "https://localhost:8080/",
          "height": 287
        },
        "id": "x84eImlnrPpG",
        "outputId": "ca3ccc56-7ab6-4836-8505-61a7b1100409"
      },
      "source": [
        "sns.heatmap(conf_matrix/np.sum(conf_matrix), annot=True)"
      ],
      "execution_count": 273,
      "outputs": [
        {
          "output_type": "execute_result",
          "data": {
            "text/plain": [
              "<matplotlib.axes._subplots.AxesSubplot at 0x7f92a6e2a250>"
            ]
          },
          "metadata": {
            "tags": []
          },
          "execution_count": 273
        },
        {
          "output_type": "display_data",
          "data": {
            "image/png": "[encoded data removed]",
            "text/plain": [
              "<Figure size 432x288 with 2 Axes>"
            ]
          },
          "metadata": {
            "tags": [],
            "needs_background": "light"
          }
        }
      ]
    },
    {
      "cell_type": "code",
      "metadata": {
        "id": "ZVQ6Dc6WrPpH"
      },
      "source": [
        "#lstm_model.save(\"BiLSTM\")"
      ],
      "execution_count": 70,
      "outputs": []
    },
    {
      "cell_type": "markdown",
      "metadata": {
        "id": "xNKcn5xX-rlr"
      },
      "source": [
        "### Via CamemBERT"
      ]
    },
    {
      "cell_type": "code",
      "metadata": {
        "id": "FQneD41q-t1d"
      },
      "source": [
        ""
      ],
      "execution_count": null,
      "outputs": []
    },
    {
      "cell_type": "markdown",
      "metadata": {
        "id": "37GrdUuV9sbJ"
      },
      "source": [
        "# Target prediction"
      ]
    },
    {
      "cell_type": "markdown",
      "metadata": {
        "id": "zH90z4b2LOWI"
      },
      "source": [
        "### By training a classifier based on current \"Target\" label?"
      ]
    },
    {
      "cell_type": "code",
      "metadata": {
        "id": "NkWNVJnoLT8l"
      },
      "source": [
        ""
      ],
      "execution_count": null,
      "outputs": []
    },
    {
      "cell_type": "markdown",
      "metadata": {
        "id": "0EDqzlvdH73O"
      },
      "source": [
        "#### Via Bi-LSTM"
      ]
    },
    {
      "cell_type": "code",
      "metadata": {
        "id": "2YOA4AbfH73n"
      },
      "source": [
        "#Defining Neural Network\r\n",
        "lstm_model = Sequential()\r\n",
        "#Non-trainable embeddidng layer\r\n",
        "lstm_model.add(Embedding(vocab_size, output_dim=EMBEDDING_DIM, weights=[w2v_embedding_vectors], input_length=maxlen, trainable=False))\r\n",
        "#LSTM \r\n",
        "#lstm_model.add(LSTM(units=128, dropout=0.2, recurrent_dropout=0.2, return_sequences=False))\r\n",
        "#Bi-LSTM\r\n",
        "lstm_model.add(Bidirectional(LSTM(units=128, dropout=0.2, recurrent_dropout=0.2, return_sequences=False)))\r\n",
        "lstm_model.add(Dense(EMBEDDING_DIM, activation='relu'))\r\n",
        "lstm_model.add(Dense(7, activation='softmax'))\r\n",
        "lstm_model.compile(optimizer='adam', loss='categorical_crossentropy', metrics=['acc'])"
      ],
      "execution_count": 109,
      "outputs": []
    },
    {
      "cell_type": "code",
      "metadata": {
        "colab": {
          "base_uri": "https://localhost:8080/"
        },
        "id": "iN1CmIp-H73o",
        "outputId": "a51226de-009f-4bfe-9310-e915debc7119"
      },
      "source": [
        "lstm_model.summary()"
      ],
      "execution_count": 110,
      "outputs": [
        {
          "output_type": "stream",
          "text": [
            "Model: \"sequential\"\n",
            "_________________________________________________________________\n",
            "Layer (type)                 Output Shape              Param #   \n",
            "=================================================================\n",
            "embedding_1 (Embedding)      (None, 150, 200)          26499400  \n",
            "_________________________________________________________________\n",
            "bidirectional_1 (Bidirection (None, 256)               336896    \n",
            "_________________________________________________________________\n",
            "dense_3 (Dense)              (None, 200)               51400     \n",
            "_________________________________________________________________\n",
            "dense_4 (Dense)              (None, 7)                 1407      \n",
            "=================================================================\n",
            "Total params: 26,889,103\n",
            "Trainable params: 389,703\n",
            "Non-trainable params: 26,499,400\n",
            "_________________________________________________________________\n"
          ],
          "name": "stdout"
        }
      ]
    },
    {
      "cell_type": "code",
      "metadata": {
        "colab": {
          "base_uri": "https://localhost:8080/"
        },
        "id": "5YxMLI4MH73p",
        "outputId": "79cae4c1-b962-4a3e-c060-62636309f27d"
      },
      "source": [
        "early_stopping_callback_loss = tf.keras.callbacks.EarlyStopping(monitor = 'loss', patience = 1)\r\n",
        "early_stopping_callback_val_loss = tf.keras.callbacks.EarlyStopping(monitor = 'val_loss', patience = 1)\r\n",
        "\r\n",
        "lstm_history = lstm_model.fit(X_train_tok, X_train_targets, validation_split=0.2, epochs=6, batch_size =512, \\\r\n",
        "                         callbacks = [early_stopping_callback_loss, early_stopping_callback_val_loss], verbose=1)"
      ],
      "execution_count": 111,
      "outputs": [
        {
          "output_type": "stream",
          "text": [
            "Train on 252538 samples, validate on 63135 samples\n",
            "Epoch 1/6\n",
            "252538/252538 [==============================] - 185s 733us/sample - loss: 0.6982 - acc: 0.7636 - val_loss: 0.5370 - val_acc: 0.8146\n",
            "Epoch 2/6\n",
            "252538/252538 [==============================] - 184s 729us/sample - loss: 0.5090 - acc: 0.8232 - val_loss: 0.4414 - val_acc: 0.8443\n",
            "Epoch 3/6\n",
            "252538/252538 [==============================] - 185s 731us/sample - loss: 0.4348 - acc: 0.8480 - val_loss: 0.3815 - val_acc: 0.8686\n",
            "Epoch 4/6\n",
            "252538/252538 [==============================] - 181s 718us/sample - loss: 0.3826 - acc: 0.8668 - val_loss: 0.3351 - val_acc: 0.8863\n",
            "Epoch 5/6\n",
            "252538/252538 [==============================] - 182s 719us/sample - loss: 0.3453 - acc: 0.8786 - val_loss: 0.3021 - val_acc: 0.8977\n",
            "Epoch 6/6\n",
            "252538/252538 [==============================] - 181s 716us/sample - loss: 0.3162 - acc: 0.8892 - val_loss: 0.2843 - val_acc: 0.9050\n"
          ],
          "name": "stdout"
        }
      ]
    },
    {
      "cell_type": "code",
      "metadata": {
        "colab": {
          "base_uri": "https://localhost:8080/",
          "height": 295
        },
        "id": "XJ3j3xC3H73p",
        "outputId": "14aaa908-2965-4e73-b848-7cf39d90d399"
      },
      "source": [
        "plt.plot(lstm_history.history['loss'])\r\n",
        "plt.plot(lstm_history.history['val_loss'])\r\n",
        "plt.title('model train vs validation accuracy')\r\n",
        "plt.ylabel('accuracy')\r\n",
        "plt.xlabel('epoch')\r\n",
        "plt.legend(['train', 'validation'], loc='upper right')\r\n",
        "plt.show()"
      ],
      "execution_count": 112,
      "outputs": [
        {
          "output_type": "display_data",
          "data": {
            "image/png": "[encoded data removed]",
            "text/plain": [
              "<Figure size 432x288 with 1 Axes>"
            ]
          },
          "metadata": {
            "tags": [],
            "needs_background": "light"
          }
        }
      ]
    },
    {
      "cell_type": "code",
      "metadata": {
        "id": "4I9bcILtH73p"
      },
      "source": [
        "lstm_pred = (lstm_model.predict(X_test_tok) >= 0.5).astype(\"int\")"
      ],
      "execution_count": 113,
      "outputs": []
    },
    {
      "cell_type": "code",
      "metadata": {
        "colab": {
          "base_uri": "https://localhost:8080/"
        },
        "id": "JpO99AchH73q",
        "outputId": "758f3ef8-5d7e-4c39-f8e8-bff8c086c7be"
      },
      "source": [
        "print(classification_report(X_test_targets, lstm_pred))"
      ],
      "execution_count": 114,
      "outputs": [
        {
          "output_type": "stream",
          "text": [
            "              precision    recall  f1-score   support\n",
            "\n",
            "           0       0.92      0.91      0.92       526\n",
            "           1       0.96      0.98      0.97      3338\n",
            "           2       0.87      0.91      0.89      7125\n",
            "           3       0.87      0.89      0.88      7393\n",
            "           4       0.93      0.95      0.94     39729\n",
            "           5       0.91      0.77      0.83     19520\n",
            "           6       0.94      0.94      0.94      1288\n",
            "\n",
            "   micro avg       0.91      0.90      0.90     78919\n",
            "   macro avg       0.91      0.91      0.91     78919\n",
            "weighted avg       0.91      0.90      0.90     78919\n",
            " samples avg       0.90      0.90      0.90     78919\n",
            "\n"
          ],
          "name": "stdout"
        }
      ]
    },
    {
      "cell_type": "code",
      "metadata": {
        "colab": {
          "base_uri": "https://localhost:8080/"
        },
        "id": "No8lLQ4PH73q",
        "outputId": "d0583f87-8095-4b82-e1bd-21d969c317ed"
      },
      "source": [
        "conf_matrix = confusion_matrix(X_test_targets.argmax(axis=1), lstm_pred.argmax(axis=1))\r\n",
        "print(conf_matrix)"
      ],
      "execution_count": 115,
      "outputs": [
        {
          "output_type": "stream",
          "text": [
            "[[  500     0     2     0    19     5     0]\n",
            " [   14  3268     2     6    23    25     0]\n",
            " [  155     1  6449    72   124   324     0]\n",
            " [  227     1   104  6562   191   308     0]\n",
            " [  572    59   280   315 37607   874    22]\n",
            " [  631    67   564   569  2548 15081    60]\n",
            " [   36     0     3     4    12    19  1214]]\n"
          ],
          "name": "stdout"
        }
      ]
    },
    {
      "cell_type": "code",
      "metadata": {
        "colab": {
          "base_uri": "https://localhost:8080/",
          "height": 284
        },
        "id": "kfeslAMRH73q",
        "outputId": "73366d4c-bd7f-471b-b83b-87365b975803"
      },
      "source": [
        "sns.heatmap(conf_matrix/np.sum(conf_matrix), annot=True)"
      ],
      "execution_count": 116,
      "outputs": [
        {
          "output_type": "execute_result",
          "data": {
            "text/plain": [
              "<matplotlib.axes._subplots.AxesSubplot at 0x7fb6be2fcb10>"
            ]
          },
          "metadata": {
            "tags": []
          },
          "execution_count": 116
        },
        {
          "output_type": "display_data",
          "data": {
            "image/png": "[encoded data removed]",
            "text/plain": [
              "<Figure size 432x288 with 2 Axes>"
            ]
          },
          "metadata": {
            "tags": [],
            "needs_background": "light"
          }
        }
      ]
    },
    {
      "cell_type": "code",
      "metadata": {
        "id": "arFVFsWpH73r"
      },
      "source": [
        "#lstm_model.save(\"BiLSTM\")"
      ],
      "execution_count": null,
      "outputs": []
    },
    {
      "cell_type": "markdown",
      "metadata": {
        "id": "D2o-ZiqvL9Xz"
      },
      "source": [
        "### Via lexical features analysis ?"
      ]
    },
    {
      "cell_type": "code",
      "metadata": {
        "id": "KRhlmH4DMBCk"
      },
      "source": [
        ""
      ],
      "execution_count": null,
      "outputs": []
    },
    {
      "cell_type": "markdown",
      "metadata": {
        "id": "ce_rtrfuLww8"
      },
      "source": [
        "### Via modified Aspect-Based Sentiment Analysis ?"
      ]
    },
    {
      "cell_type": "code",
      "metadata": {
        "id": "mPR93c2ZL2EC"
      },
      "source": [
        ""
      ],
      "execution_count": null,
      "outputs": []
    },
    {
      "cell_type": "markdown",
      "metadata": {
        "id": "tMoNvZr0Lmlj"
      },
      "source": [
        "# Data augmentation"
      ]
    },
    {
      "cell_type": "markdown",
      "metadata": {
        "id": "yJ_7SvHGLo5x"
      },
      "source": [
        "### Via Google Translate"
      ]
    },
    {
      "cell_type": "code",
      "metadata": {
        "id": "A9swQCYJLrNz"
      },
      "source": [
        ""
      ],
      "execution_count": null,
      "outputs": []
    },
    {
      "cell_type": "markdown",
      "metadata": {
        "id": "u-K2CqBqjorl"
      },
      "source": [
        "### Via Weakly Unsupervised Learning"
      ]
    },
    {
      "cell_type": "code",
      "metadata": {
        "id": "RdSeFnwdjuCR"
      },
      "source": [
        ""
      ],
      "execution_count": null,
      "outputs": []
    },
    {
      "cell_type": "markdown",
      "metadata": {
        "id": "qTamIv6bjuOV"
      },
      "source": [
        "# Feature analysis"
      ]
    },
    {
      "cell_type": "markdown",
      "metadata": {
        "id": "oDHsf0pljx0K"
      },
      "source": [
        "### Sentiment analysis"
      ]
    },
    {
      "cell_type": "code",
      "metadata": {
        "colab": {
          "base_uri": "https://localhost:8080/"
        },
        "id": "vLcREzxvjwRL",
        "outputId": "c6bc14a6-8766-4765-8bcf-c2b31cd69c1d"
      },
      "source": [
        "!pip install vaderSentiment_fr\r\n",
        "from vaderSentiment_fr.vaderSentiment import SentimentIntensityAnalyzer\r\n",
        "nltk.download('vader_lexicon')\r\n",
        "vader = SentimentIntensityAnalyzer()"
      ],
      "execution_count": 101,
      "outputs": [
        {
          "output_type": "stream",
          "text": [
            "Collecting vaderSentiment_fr\n",
            "\u001b[?25l  Downloading https://files.pythonhosted.org/packages/d6/f0/eca010539a8b0ac61a7c7c3e10054bd8657ed625dfa52b5d629aaf321212/vaderSentiment_fr-1.2.tar.gz (228kB)\n",
            "\u001b[K     |████████████████████████████████| 235kB 5.8MB/s \n",
            "\u001b[?25hCollecting unidecode\n",
            "\u001b[?25l  Downloading https://files.pythonhosted.org/packages/9e/25/723487ca2a52ebcee88a34d7d1f5a4b80b793f179ee0f62d5371938dfa01/Unidecode-1.2.0-py2.py3-none-any.whl (241kB)\n",
            "\u001b[K     |████████████████████████████████| 245kB 49.0MB/s \n",
            "\u001b[?25hCollecting fuzzywuzzy\n",
            "  Downloading https://files.pythonhosted.org/packages/43/ff/74f23998ad2f93b945c0309f825be92e04e0348e062026998b5eefef4c33/fuzzywuzzy-0.18.0-py2.py3-none-any.whl\n",
            "Building wheels for collected packages: vaderSentiment-fr\n",
            "  Building wheel for vaderSentiment-fr (setup.py) ... \u001b[?25l\u001b[?25hdone\n",
            "  Created wheel for vaderSentiment-fr: filename=vaderSentiment_fr-1.2-cp37-none-any.whl size=232216 sha256=c232af99699787ebdf86243077aace094bfc6417e1ed82a6e4285f39d98d134d\n",
            "  Stored in directory: /root/.cache/pip/wheels/a1/3f/c5/0aca890f5c576a804800875e10035a2a0f8bd808952cd82bdf\n",
            "Successfully built vaderSentiment-fr\n",
            "Installing collected packages: unidecode, fuzzywuzzy, vaderSentiment-fr\n",
            "Successfully installed fuzzywuzzy-0.18.0 unidecode-1.2.0 vaderSentiment-fr-1.2\n",
            "[nltk_data] Downloading package vader_lexicon to /root/nltk_data...\n"
          ],
          "name": "stdout"
        }
      ]
    },
    {
      "cell_type": "code",
      "metadata": {
        "colab": {
          "base_uri": "https://localhost:8080/"
        },
        "id": "zKOdO-BvkILD",
        "outputId": "6f0b85b2-6ca7-4157-8170-3d5075c8fcbe"
      },
      "source": [
        "vader.polarity_scores('Moi mdr t trop nul')"
      ],
      "execution_count": 102,
      "outputs": [
        {
          "output_type": "execute_result",
          "data": {
            "text/plain": [
              "{'compound': 0.4779, 'neg': 0.206, 'neu': 0.345, 'pos': 0.449}"
            ]
          },
          "metadata": {
            "tags": []
          },
          "execution_count": 102
        }
      ]
    },
    {
      "cell_type": "code",
      "metadata": {
        "colab": {
          "base_uri": "https://localhost:8080/"
        },
        "id": "iJAHTNUUlRlv",
        "outputId": "2b8a9d67-b8b1-4dd8-95f2-8d1da480f226"
      },
      "source": [
        "vader.polarity_scores_max('visage avec des larmes de joie')"
      ],
      "execution_count": 103,
      "outputs": [
        {
          "output_type": "stream",
          "text": [
            "visage --> sage\n",
            "Fuzzy Ratio : 80\n",
            "Pas pris en compte car < 85\n",
            "avec --> avare\n",
            "Fuzzy Ratio : 67\n",
            "Pas pris en compte car < 85\n",
            "Processing time : 0.36016273498535156\n"
          ],
          "name": "stdout"
        },
        {
          "output_type": "execute_result",
          "data": {
            "text/plain": [
              "{'compound': -0.1531, 'neg': 0.264, 'neu': 0.556, 'pos': 0.181}"
            ]
          },
          "metadata": {
            "tags": []
          },
          "execution_count": 103
        }
      ]
    },
    {
      "cell_type": "code",
      "metadata": {
        "id": "ndWGQXvGlTu-"
      },
      "source": [
        "def get_vader_sent(val):\r\n",
        "  if val >= 0.05:\r\n",
        "    return \"pos\"\r\n",
        "  elif val <= -0.05:\r\n",
        "    return \"neg\"\r\n",
        "  else:\r\n",
        "    return \"neu\""
      ],
      "execution_count": 56,
      "outputs": []
    },
    {
      "cell_type": "code",
      "metadata": {
        "colab": {
          "base_uri": "https://localhost:8080/"
        },
        "id": "boQdcoxnlXC6",
        "outputId": "5c0dc33b-3567-477f-f3ce-5fdf72dfdb80"
      },
      "source": [
        "# Checking with non tokenized toxic data\r\n",
        "vader_toxic = []\r\n",
        "sentiments_toxic = dataset.loc[dataset['Class'] == 1][\"cleanSentence\"].tolist()\r\n",
        "\r\n",
        "for i in range(len(sentiments_toxic)):\r\n",
        "  vader_toxic.append(vader.polarity_scores(str(sentiments_toxic[i])))\r\n",
        "\r\n",
        "comp = []\r\n",
        "pos = []\r\n",
        "neg = []\r\n",
        "neu = []\r\n",
        "for j in range(len(vader_toxic)):\r\n",
        "  comp.append(vader_toxic[j]['compound'])\r\n",
        "  pos.append(vader_toxic[j]['pos'])\r\n",
        "  neg.append(vader_toxic[j]['neg'])\r\n",
        "  neu.append(vader_toxic[j]['neu'])\r\n",
        "\r\n",
        "print(\"Compound: \",sum(comp)/len(comp), \"Positive: \",sum(pos)/len(pos),\"Neutral: \", sum(neu)/len(neu),\"Negative :\", sum(neg)/len(neg))"
      ],
      "execution_count": 61,
      "outputs": [
        {
          "output_type": "stream",
          "text": [
            "Compound:  -0.13845125929507032 Positive:  0.06868095460782297 Neutral:  0.7195407851258535 Negative : 0.21178063445240752\n"
          ],
          "name": "stdout"
        }
      ]
    },
    {
      "cell_type": "code",
      "metadata": {
        "colab": {
          "base_uri": "https://localhost:8080/"
        },
        "id": "GblYYtFjmAfY",
        "outputId": "1f30d3c5-04a6-4ada-b439-61913bc79cdb"
      },
      "source": [
        "# Checking with non tokenized clean data\r\n",
        "vader_clean = []\r\n",
        "sentiments_clean = dataset.loc[dataset['Class'] == 0][\"cleanSentence\"].tolist()\r\n",
        "\r\n",
        "for i in range(len(sentiments_clean)):\r\n",
        "  vader_clean.append(vader.polarity_scores(str(sentiments_clean[i])))\r\n",
        "\r\n",
        "comp = []\r\n",
        "pos = []\r\n",
        "neg = []\r\n",
        "neu = []\r\n",
        "for j in range(len(vader_clean)):\r\n",
        "  comp.append(vader_clean[j]['compound'])\r\n",
        "  pos.append(vader_clean[j]['pos'])\r\n",
        "  neg.append(vader_clean[j]['neg'])\r\n",
        "  neu.append(vader_clean[j]['neu'])\r\n",
        "\r\n",
        "print(\"Compound: \",sum(comp)/len(comp), \"Positive: \",sum(pos)/len(pos),\"Neutral: \", sum(neu)/len(neu),\"Negative :\", sum(neg)/len(neg))"
      ],
      "execution_count": 62,
      "outputs": [
        {
          "output_type": "stream",
          "text": [
            "Compound:  0.1103306954999951 Positive:  0.1261536849999933 Neutral:  0.8205530599999965 Negative : 0.053292799999998926\n"
          ],
          "name": "stdout"
        }
      ]
    },
    {
      "cell_type": "code",
      "metadata": {
        "colab": {
          "base_uri": "https://localhost:8080/"
        },
        "id": "w-iEJ0e-mQRG",
        "outputId": "d2cac464-a018-4e7d-df5c-2b0cd7dae4e3"
      },
      "source": [
        "# Checking with non tokenized VERY toxic data\r\n",
        "vader_toxic = []\r\n",
        "sentiments_toxic = dataset.loc[dataset['Level'] == \"HIGH\"][\"cleanSentence\"].tolist()\r\n",
        "\r\n",
        "for i in range(len(sentiments_toxic)):\r\n",
        "  vader_toxic.append(vader.polarity_scores(str(sentiments_toxic[i])))\r\n",
        "\r\n",
        "comp = []\r\n",
        "pos = []\r\n",
        "neg = []\r\n",
        "neu = []\r\n",
        "for j in range(len(vader_toxic)):\r\n",
        "  comp.append(vader_toxic[j]['compound'])\r\n",
        "  pos.append(vader_toxic[j]['pos'])\r\n",
        "  neg.append(vader_toxic[j]['neg'])\r\n",
        "  neu.append(vader_toxic[j]['neu'])\r\n",
        "\r\n",
        "print(\"Compound: \",sum(comp)/len(comp), \"Positive: \",sum(pos)/len(pos),\"Neutral: \", sum(neu)/len(neu),\"Negative :\", sum(neg)/len(neg))"
      ],
      "execution_count": 64,
      "outputs": [
        {
          "output_type": "stream",
          "text": [
            "Compound:  -0.1677027025000968 Positive:  0.06561415345402831 Neutral:  0.7009890175793817 Negative : 0.23339883428913538\n"
          ],
          "name": "stdout"
        }
      ]
    },
    {
      "cell_type": "code",
      "metadata": {
        "id": "kqRE68tBluYn"
      },
      "source": [
        ""
      ],
      "execution_count": null,
      "outputs": []
    },
    {
      "cell_type": "code",
      "metadata": {
        "id": "FBDGBeM7ex02"
      },
      "source": [
        ""
      ],
      "execution_count": null,
      "outputs": []
    }
  ]
}