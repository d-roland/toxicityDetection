{
  "nbformat": 4,
  "nbformat_minor": 0,
  "metadata": {
    "colab": {
      "name": "CS224n - Toxicity Detection.ipynb",
      "provenance": [],
      "collapsed_sections": [],
      "toc_visible": true,
      "include_colab_link": true
    },
    "kernelspec": {
      "name": "python3",
      "display_name": "Python 3"
    },
    "accelerator": "GPU"
  },
  "cells": [
    {
      "cell_type": "markdown",
      "metadata": {
        "id": "view-in-github",
        "colab_type": "text"
      },
      "source": [
        "<a href=\"https://colab.research.google.com/github/d-roland/toxicityDetection/blob/main/CS224n_Toxicity_Detection.ipynb\" target=\"_parent\"><img src=\"https://colab.research.google.com/assets/colab-badge.svg\" alt=\"Open In Colab\"/></a>"
      ]
    },
    {
      "cell_type": "code",
      "metadata": {
        "colab": {
          "base_uri": "https://localhost:8080/"
        },
        "id": "ZOQTeOTVz-3H",
        "outputId": "826d1c67-6e1f-462c-e8b8-004351e3dc6c"
      },
      "source": [
        "%tensorflow_version 1.x"
      ],
      "execution_count": 3,
      "outputs": [
        {
          "output_type": "stream",
          "text": [
            "TensorFlow 1.x selected.\n"
          ],
          "name": "stdout"
        }
      ]
    },
    {
      "cell_type": "code",
      "metadata": {
        "colab": {
          "base_uri": "https://localhost:8080/"
        },
        "id": "BjomWJOn0Fss",
        "outputId": "ee6975a5-5a04-4c2c-b8d3-e37a7736f9c1"
      },
      "source": [
        "import warnings\r\n",
        "warnings.filterwarnings('ignore')\r\n",
        "import pandas as pd\r\n",
        "import matplotlib.pyplot as plt\r\n",
        "import numpy as np\r\n",
        "import seaborn as sns\r\n",
        "import re\r\n",
        "import csv\r\n",
        "from collections import Counter, defaultdict\r\n",
        "from wordcloud import WordCloud\r\n",
        "import string\r\n",
        "import nltk\r\n",
        "from nltk import sent_tokenize\r\n",
        "from nltk import word_tokenize\r\n",
        "nltk.download(\"stopwords\")\r\n",
        "nltk.download('wordnet')\r\n",
        "nltk.download('punkt')\r\n",
        "from nltk.stem import WordNetLemmatizer\r\n",
        "import gensim\r\n",
        "import tensorflow as tf\r\n",
        "import tensorflow_hub as hub\r\n",
        "from tensorflow import keras\r\n",
        "from tensorflow.keras.preprocessing.text import Tokenizer\r\n",
        "from tensorflow.keras.preprocessing.sequence import pad_sequences\r\n",
        "from tensorflow.keras.models import Sequential\r\n",
        "from tensorflow.keras.layers import Dense, Embedding, LSTM, Conv1D, MaxPool1D, CuDNNLSTM, Bidirectional\r\n",
        "from sklearn.model_selection import train_test_split\r\n",
        "from sklearn.metrics import classification_report, accuracy_score, confusion_matrix, plot_confusion_matrix\r\n",
        "from sklearn import metrics\r\n",
        "from sklearn.cluster import KMeans, MiniBatchKMeans\r\n",
        "from sklearn.preprocessing import LabelEncoder\r\n",
        "from keras.utils import np_utils\r\n",
        "from datetime import datetime\r\n",
        "from statistics import mean\r\n",
        "import random\r\n",
        "import seaborn as sns"
      ],
      "execution_count": 4,
      "outputs": [
        {
          "output_type": "stream",
          "text": [
            "[nltk_data] Downloading package stopwords to /root/nltk_data...\n",
            "[nltk_data]   Unzipping corpora/stopwords.zip.\n",
            "[nltk_data] Downloading package wordnet to /root/nltk_data...\n",
            "[nltk_data]   Unzipping corpora/wordnet.zip.\n",
            "[nltk_data] Downloading package punkt to /root/nltk_data...\n",
            "[nltk_data]   Unzipping tokenizers/punkt.zip.\n"
          ],
          "name": "stdout"
        },
        {
          "output_type": "stream",
          "text": [
            "Using TensorFlow backend.\n"
          ],
          "name": "stderr"
        }
      ]
    },
    {
      "cell_type": "code",
      "metadata": {
        "colab": {
          "base_uri": "https://localhost:8080/"
        },
        "id": "MudTLuET0Ind",
        "outputId": "32d02cd7-ce5a-4b80-cee1-f1af6e73c261"
      },
      "source": [
        "from google.colab import auth\r\n",
        "from oauth2client.client import GoogleCredentials\r\n",
        "from google.colab import drive\r\n",
        "drive.mount('/content/drive')"
      ],
      "execution_count": 5,
      "outputs": [
        {
          "output_type": "stream",
          "text": [
            "Mounted at /content/drive\n"
          ],
          "name": "stdout"
        }
      ]
    },
    {
      "cell_type": "markdown",
      "metadata": {
        "id": "tRJsw0iKwn1k"
      },
      "source": [
        "# Data Preparation"
      ]
    },
    {
      "cell_type": "markdown",
      "metadata": {
        "id": "lyhTQGRYcN9A"
      },
      "source": [
        "### Loading and merging datasets"
      ]
    },
    {
      "cell_type": "code",
      "metadata": {
        "colab": {
          "base_uri": "https://localhost:8080/"
        },
        "id": "CgkfEV9j0LlI",
        "outputId": "cb12607b-0edb-44eb-9a25-798037ac2fb6"
      },
      "source": [
        "colnames=['Sentence', 'Type', 'Level', 'Target'] \r\n",
        "hateful = pd.read_csv('/content/drive/My Drive/CS224n_Project/Hatefuls.csv', names=colnames, header=None)\r\n",
        "hateful.shape"
      ],
      "execution_count": 6,
      "outputs": [
        {
          "output_type": "execute_result",
          "data": {
            "text/plain": [
              "(194593, 4)"
            ]
          },
          "metadata": {
            "tags": []
          },
          "execution_count": 6
        }
      ]
    },
    {
      "cell_type": "code",
      "metadata": {
        "colab": {
          "base_uri": "https://localhost:8080/",
          "height": 170
        },
        "id": "Z09cJAHG04NG",
        "outputId": "4f3621cf-3208-401d-9470-2574ce0136ba"
      },
      "source": [
        "hateful.describe()"
      ],
      "execution_count": 7,
      "outputs": [
        {
          "output_type": "execute_result",
          "data": {
            "text/html": [
              "<div>\n",
              "<style scoped>\n",
              "    .dataframe tbody tr th:only-of-type {\n",
              "        vertical-align: middle;\n",
              "    }\n",
              "\n",
              "    .dataframe tbody tr th {\n",
              "        vertical-align: top;\n",
              "    }\n",
              "\n",
              "    .dataframe thead th {\n",
              "        text-align: right;\n",
              "    }\n",
              "</style>\n",
              "<table border=\"1\" class=\"dataframe\">\n",
              "  <thead>\n",
              "    <tr style=\"text-align: right;\">\n",
              "      <th></th>\n",
              "      <th>Sentence</th>\n",
              "      <th>Type</th>\n",
              "      <th>Level</th>\n",
              "      <th>Target</th>\n",
              "    </tr>\n",
              "  </thead>\n",
              "  <tbody>\n",
              "    <tr>\n",
              "      <th>count</th>\n",
              "      <td>194572</td>\n",
              "      <td>194593</td>\n",
              "      <td>194593</td>\n",
              "      <td>194593</td>\n",
              "    </tr>\n",
              "    <tr>\n",
              "      <th>unique</th>\n",
              "      <td>63324</td>\n",
              "      <td>14</td>\n",
              "      <td>4</td>\n",
              "      <td>6</td>\n",
              "    </tr>\n",
              "    <tr>\n",
              "      <th>top</th>\n",
              "      <td>tg</td>\n",
              "      <td>Insult</td>\n",
              "      <td>VERY_HIGH</td>\n",
              "      <td>USER</td>\n",
              "    </tr>\n",
              "    <tr>\n",
              "      <th>freq</th>\n",
              "      <td>1364</td>\n",
              "      <td>116947</td>\n",
              "      <td>66901</td>\n",
              "      <td>96997</td>\n",
              "    </tr>\n",
              "  </tbody>\n",
              "</table>\n",
              "</div>"
            ],
            "text/plain": [
              "       Sentence    Type      Level  Target\n",
              "count    194572  194593     194593  194593\n",
              "unique    63324      14          4       6\n",
              "top          tg  Insult  VERY_HIGH    USER\n",
              "freq       1364  116947      66901   96997"
            ]
          },
          "metadata": {
            "tags": []
          },
          "execution_count": 7
        }
      ]
    },
    {
      "cell_type": "code",
      "metadata": {
        "colab": {
          "base_uri": "https://localhost:8080/",
          "height": 201
        },
        "id": "5Hxz8aSScuKh",
        "outputId": "0e5dcd40-26f7-42af-e7ca-0c6e2e266f7d"
      },
      "source": [
        "#Adding a class column prior to merging with neutral data\r\n",
        "hateful[\"Class\"] = 1\r\n",
        "hateful.head()"
      ],
      "execution_count": 8,
      "outputs": [
        {
          "output_type": "execute_result",
          "data": {
            "text/html": [
              "<div>\n",
              "<style scoped>\n",
              "    .dataframe tbody tr th:only-of-type {\n",
              "        vertical-align: middle;\n",
              "    }\n",
              "\n",
              "    .dataframe tbody tr th {\n",
              "        vertical-align: top;\n",
              "    }\n",
              "\n",
              "    .dataframe thead th {\n",
              "        text-align: right;\n",
              "    }\n",
              "</style>\n",
              "<table border=\"1\" class=\"dataframe\">\n",
              "  <thead>\n",
              "    <tr style=\"text-align: right;\">\n",
              "      <th></th>\n",
              "      <th>Sentence</th>\n",
              "      <th>Type</th>\n",
              "      <th>Level</th>\n",
              "      <th>Target</th>\n",
              "      <th>Class</th>\n",
              "    </tr>\n",
              "  </thead>\n",
              "  <tbody>\n",
              "    <tr>\n",
              "      <th>0</th>\n",
              "      <td>T pas Bo 😂😂🥃</td>\n",
              "      <td>Mockery</td>\n",
              "      <td>LOW</td>\n",
              "      <td>USER</td>\n",
              "      <td>1</td>\n",
              "    </tr>\n",
              "    <tr>\n",
              "      <th>1</th>\n",
              "      <td>t’es vilain 😂😂😂😂😂😂</td>\n",
              "      <td>Mockery</td>\n",
              "      <td>LOW</td>\n",
              "      <td>USER</td>\n",
              "      <td>1</td>\n",
              "    </tr>\n",
              "    <tr>\n",
              "      <th>2</th>\n",
              "      <td>Je te propose un d'île je m'abonne à ta chaine...</td>\n",
              "      <td>Hate</td>\n",
              "      <td>LOW</td>\n",
              "      <td>USER</td>\n",
              "      <td>1</td>\n",
              "    </tr>\n",
              "    <tr>\n",
              "      <th>3</th>\n",
              "      <td>T un kiko mdr</td>\n",
              "      <td>Insult</td>\n",
              "      <td>LOW</td>\n",
              "      <td>USER</td>\n",
              "      <td>1</td>\n",
              "    </tr>\n",
              "    <tr>\n",
              "      <th>4</th>\n",
              "      <td>Moi mdr t trop nul</td>\n",
              "      <td>Hate</td>\n",
              "      <td>LOW</td>\n",
              "      <td>USER</td>\n",
              "      <td>1</td>\n",
              "    </tr>\n",
              "  </tbody>\n",
              "</table>\n",
              "</div>"
            ],
            "text/plain": [
              "                                            Sentence     Type  ... Target Class\n",
              "0                                       T pas Bo 😂😂🥃  Mockery  ...   USER     1\n",
              "1                                 t’es vilain 😂😂😂😂😂😂  Mockery  ...   USER     1\n",
              "2  Je te propose un d'île je m'abonne à ta chaine...     Hate  ...   USER     1\n",
              "3                                      T un kiko mdr   Insult  ...   USER     1\n",
              "4                                 Moi mdr t trop nul     Hate  ...   USER     1\n",
              "\n",
              "[5 rows x 5 columns]"
            ]
          },
          "metadata": {
            "tags": []
          },
          "execution_count": 8
        }
      ]
    },
    {
      "cell_type": "code",
      "metadata": {
        "id": "ZB7e4GoFyesA"
      },
      "source": [
        "hateful.Sentence = hateful.Sentence.astype(str)"
      ],
      "execution_count": 9,
      "outputs": []
    },
    {
      "cell_type": "code",
      "metadata": {
        "colab": {
          "base_uri": "https://localhost:8080/"
        },
        "id": "j74gCVR11Bsq",
        "outputId": "fb07b8b1-c43a-4b5c-a3e3-473bf5284d58"
      },
      "source": [
        "neutral = pd.read_csv('/content/drive/My Drive/CS224n_Project/Neutrals_200k.csv', names=colnames, header=None)\r\n",
        "neutral.shape"
      ],
      "execution_count": 10,
      "outputs": [
        {
          "output_type": "execute_result",
          "data": {
            "text/plain": [
              "(200000, 4)"
            ]
          },
          "metadata": {
            "tags": []
          },
          "execution_count": 10
        }
      ]
    },
    {
      "cell_type": "code",
      "metadata": {
        "id": "FzED-qIe79Ji"
      },
      "source": [
        "neutral.Sentence = neutral.Sentence.astype(str)"
      ],
      "execution_count": 11,
      "outputs": []
    },
    {
      "cell_type": "code",
      "metadata": {
        "colab": {
          "base_uri": "https://localhost:8080/",
          "height": 201
        },
        "id": "bVCpFE4vc2Oj",
        "outputId": "378fb942-4c92-4c43-b504-cdee31bf2995"
      },
      "source": [
        "#Adding a class column prior to merging with toxic data\r\n",
        "neutral[\"Class\"] = 0\r\n",
        "neutral.head()"
      ],
      "execution_count": 12,
      "outputs": [
        {
          "output_type": "execute_result",
          "data": {
            "text/html": [
              "<div>\n",
              "<style scoped>\n",
              "    .dataframe tbody tr th:only-of-type {\n",
              "        vertical-align: middle;\n",
              "    }\n",
              "\n",
              "    .dataframe tbody tr th {\n",
              "        vertical-align: top;\n",
              "    }\n",
              "\n",
              "    .dataframe thead th {\n",
              "        text-align: right;\n",
              "    }\n",
              "</style>\n",
              "<table border=\"1\" class=\"dataframe\">\n",
              "  <thead>\n",
              "    <tr style=\"text-align: right;\">\n",
              "      <th></th>\n",
              "      <th>Sentence</th>\n",
              "      <th>Type</th>\n",
              "      <th>Level</th>\n",
              "      <th>Target</th>\n",
              "      <th>Class</th>\n",
              "    </tr>\n",
              "  </thead>\n",
              "  <tbody>\n",
              "    <tr>\n",
              "      <th>0</th>\n",
              "      <td>Chui désolé, mais quand un film de science-fic...</td>\n",
              "      <td>Neutral</td>\n",
              "      <td>NONE</td>\n",
              "      <td>UNDEFINED</td>\n",
              "      <td>0</td>\n",
              "    </tr>\n",
              "    <tr>\n",
              "      <th>1</th>\n",
              "      <td>Mdrrr junior bvndo</td>\n",
              "      <td>Neutral</td>\n",
              "      <td>NONE</td>\n",
              "      <td>UNDEFINED</td>\n",
              "      <td>0</td>\n",
              "    </tr>\n",
              "    <tr>\n",
              "      <th>2</th>\n",
              "      <td>baham je taimz</td>\n",
              "      <td>Neutral</td>\n",
              "      <td>NONE</td>\n",
              "      <td>UNDEFINED</td>\n",
              "      <td>0</td>\n",
              "    </tr>\n",
              "    <tr>\n",
              "      <th>3</th>\n",
              "      <td>Meilleurs rappeurs de tout les temps 😂😂😂 je ri...</td>\n",
              "      <td>Neutral</td>\n",
              "      <td>NONE</td>\n",
              "      <td>UNDEFINED</td>\n",
              "      <td>0</td>\n",
              "    </tr>\n",
              "    <tr>\n",
              "      <th>4</th>\n",
              "      <td>7up❤️</td>\n",
              "      <td>Neutral</td>\n",
              "      <td>NONE</td>\n",
              "      <td>UNDEFINED</td>\n",
              "      <td>0</td>\n",
              "    </tr>\n",
              "  </tbody>\n",
              "</table>\n",
              "</div>"
            ],
            "text/plain": [
              "                                            Sentence     Type  ...     Target Class\n",
              "0  Chui désolé, mais quand un film de science-fic...  Neutral  ...  UNDEFINED     0\n",
              "1                                 Mdrrr junior bvndo  Neutral  ...  UNDEFINED     0\n",
              "2                                     baham je taimz  Neutral  ...  UNDEFINED     0\n",
              "3  Meilleurs rappeurs de tout les temps 😂😂😂 je ri...  Neutral  ...  UNDEFINED     0\n",
              "4                                              7up❤️  Neutral  ...  UNDEFINED     0\n",
              "\n",
              "[5 rows x 5 columns]"
            ]
          },
          "metadata": {
            "tags": []
          },
          "execution_count": 12
        }
      ]
    },
    {
      "cell_type": "code",
      "metadata": {
        "colab": {
          "base_uri": "https://localhost:8080/"
        },
        "id": "3MMEuN-rdhos",
        "outputId": "f94bd396-a8a2-4014-f81b-6e290f0df843"
      },
      "source": [
        "dataset = hateful.append([neutral], ignore_index=True)\r\n",
        "dataset.shape"
      ],
      "execution_count": 13,
      "outputs": [
        {
          "output_type": "execute_result",
          "data": {
            "text/plain": [
              "(394593, 5)"
            ]
          },
          "metadata": {
            "tags": []
          },
          "execution_count": 13
        }
      ]
    },
    {
      "cell_type": "code",
      "metadata": {
        "colab": {
          "base_uri": "https://localhost:8080/",
          "height": 201
        },
        "id": "KCdAX6lod9PE",
        "outputId": "0b3e6882-5816-4a79-cdc4-2df7f1453754"
      },
      "source": [
        "dataset.head()"
      ],
      "execution_count": 14,
      "outputs": [
        {
          "output_type": "execute_result",
          "data": {
            "text/html": [
              "<div>\n",
              "<style scoped>\n",
              "    .dataframe tbody tr th:only-of-type {\n",
              "        vertical-align: middle;\n",
              "    }\n",
              "\n",
              "    .dataframe tbody tr th {\n",
              "        vertical-align: top;\n",
              "    }\n",
              "\n",
              "    .dataframe thead th {\n",
              "        text-align: right;\n",
              "    }\n",
              "</style>\n",
              "<table border=\"1\" class=\"dataframe\">\n",
              "  <thead>\n",
              "    <tr style=\"text-align: right;\">\n",
              "      <th></th>\n",
              "      <th>Sentence</th>\n",
              "      <th>Type</th>\n",
              "      <th>Level</th>\n",
              "      <th>Target</th>\n",
              "      <th>Class</th>\n",
              "    </tr>\n",
              "  </thead>\n",
              "  <tbody>\n",
              "    <tr>\n",
              "      <th>0</th>\n",
              "      <td>T pas Bo 😂😂🥃</td>\n",
              "      <td>Mockery</td>\n",
              "      <td>LOW</td>\n",
              "      <td>USER</td>\n",
              "      <td>1</td>\n",
              "    </tr>\n",
              "    <tr>\n",
              "      <th>1</th>\n",
              "      <td>t’es vilain 😂😂😂😂😂😂</td>\n",
              "      <td>Mockery</td>\n",
              "      <td>LOW</td>\n",
              "      <td>USER</td>\n",
              "      <td>1</td>\n",
              "    </tr>\n",
              "    <tr>\n",
              "      <th>2</th>\n",
              "      <td>Je te propose un d'île je m'abonne à ta chaine...</td>\n",
              "      <td>Hate</td>\n",
              "      <td>LOW</td>\n",
              "      <td>USER</td>\n",
              "      <td>1</td>\n",
              "    </tr>\n",
              "    <tr>\n",
              "      <th>3</th>\n",
              "      <td>T un kiko mdr</td>\n",
              "      <td>Insult</td>\n",
              "      <td>LOW</td>\n",
              "      <td>USER</td>\n",
              "      <td>1</td>\n",
              "    </tr>\n",
              "    <tr>\n",
              "      <th>4</th>\n",
              "      <td>Moi mdr t trop nul</td>\n",
              "      <td>Hate</td>\n",
              "      <td>LOW</td>\n",
              "      <td>USER</td>\n",
              "      <td>1</td>\n",
              "    </tr>\n",
              "  </tbody>\n",
              "</table>\n",
              "</div>"
            ],
            "text/plain": [
              "                                            Sentence     Type  ... Target Class\n",
              "0                                       T pas Bo 😂😂🥃  Mockery  ...   USER     1\n",
              "1                                 t’es vilain 😂😂😂😂😂😂  Mockery  ...   USER     1\n",
              "2  Je te propose un d'île je m'abonne à ta chaine...     Hate  ...   USER     1\n",
              "3                                      T un kiko mdr   Insult  ...   USER     1\n",
              "4                                 Moi mdr t trop nul     Hate  ...   USER     1\n",
              "\n",
              "[5 rows x 5 columns]"
            ]
          },
          "metadata": {
            "tags": []
          },
          "execution_count": 14
        }
      ]
    },
    {
      "cell_type": "code",
      "metadata": {
        "colab": {
          "base_uri": "https://localhost:8080/",
          "height": 201
        },
        "id": "lJzbasK-d_3w",
        "outputId": "141039f0-fcb9-4fa0-f4af-9e5431ea17dd"
      },
      "source": [
        "dataset.tail()"
      ],
      "execution_count": 15,
      "outputs": [
        {
          "output_type": "execute_result",
          "data": {
            "text/html": [
              "<div>\n",
              "<style scoped>\n",
              "    .dataframe tbody tr th:only-of-type {\n",
              "        vertical-align: middle;\n",
              "    }\n",
              "\n",
              "    .dataframe tbody tr th {\n",
              "        vertical-align: top;\n",
              "    }\n",
              "\n",
              "    .dataframe thead th {\n",
              "        text-align: right;\n",
              "    }\n",
              "</style>\n",
              "<table border=\"1\" class=\"dataframe\">\n",
              "  <thead>\n",
              "    <tr style=\"text-align: right;\">\n",
              "      <th></th>\n",
              "      <th>Sentence</th>\n",
              "      <th>Type</th>\n",
              "      <th>Level</th>\n",
              "      <th>Target</th>\n",
              "      <th>Class</th>\n",
              "    </tr>\n",
              "  </thead>\n",
              "  <tbody>\n",
              "    <tr>\n",
              "      <th>394588</th>\n",
              "      <td>@studiosushi @Chitori_Bocchi evangelionnnnnnnn...</td>\n",
              "      <td>Neutral</td>\n",
              "      <td>NONE</td>\n",
              "      <td>UNDEFINED</td>\n",
              "      <td>0</td>\n",
              "    </tr>\n",
              "    <tr>\n",
              "      <th>394589</th>\n",
              "      <td>J'ai kiffer les 2 Baby sitter c drôle et horri...</td>\n",
              "      <td>Neutral</td>\n",
              "      <td>NONE</td>\n",
              "      <td>UNDEFINED</td>\n",
              "      <td>0</td>\n",
              "    </tr>\n",
              "    <tr>\n",
              "      <th>394590</th>\n",
              "      <td>Moi aussi je t'ai demandé si tu étais la premi...</td>\n",
              "      <td>Neutral</td>\n",
              "      <td>NONE</td>\n",
              "      <td>UNDEFINED</td>\n",
              "      <td>0</td>\n",
              "    </tr>\n",
              "    <tr>\n",
              "      <th>394591</th>\n",
              "      <td>venez on fait l' aphalbet</td>\n",
              "      <td>Neutral</td>\n",
              "      <td>NONE</td>\n",
              "      <td>UNDEFINED</td>\n",
              "      <td>0</td>\n",
              "    </tr>\n",
              "    <tr>\n",
              "      <th>394592</th>\n",
              "      <td>Bah oui 80% de la police france est pro RN ...</td>\n",
              "      <td>Neutral</td>\n",
              "      <td>NONE</td>\n",
              "      <td>UNDEFINED</td>\n",
              "      <td>0</td>\n",
              "    </tr>\n",
              "  </tbody>\n",
              "</table>\n",
              "</div>"
            ],
            "text/plain": [
              "                                                 Sentence  ... Class\n",
              "394588  @studiosushi @Chitori_Bocchi evangelionnnnnnnn...  ...     0\n",
              "394589  J'ai kiffer les 2 Baby sitter c drôle et horri...  ...     0\n",
              "394590  Moi aussi je t'ai demandé si tu étais la premi...  ...     0\n",
              "394591                          venez on fait l' aphalbet  ...     0\n",
              "394592     Bah oui 80% de la police france est pro RN ...  ...     0\n",
              "\n",
              "[5 rows x 5 columns]"
            ]
          },
          "metadata": {
            "tags": []
          },
          "execution_count": 15
        }
      ]
    },
    {
      "cell_type": "markdown",
      "metadata": {
        "id": "VR__5j4bwhqB"
      },
      "source": [
        "### Analyzing dataset"
      ]
    },
    {
      "cell_type": "code",
      "metadata": {
        "colab": {
          "base_uri": "https://localhost:8080/",
          "height": 323
        },
        "id": "_Kiwi0Zx2XCn",
        "outputId": "79a49cbe-e554-4358-bac1-d78fd509fa8b"
      },
      "source": [
        "dataset.groupby(['Target']).count()"
      ],
      "execution_count": 16,
      "outputs": [
        {
          "output_type": "execute_result",
          "data": {
            "text/html": [
              "<div>\n",
              "<style scoped>\n",
              "    .dataframe tbody tr th:only-of-type {\n",
              "        vertical-align: middle;\n",
              "    }\n",
              "\n",
              "    .dataframe tbody tr th {\n",
              "        vertical-align: top;\n",
              "    }\n",
              "\n",
              "    .dataframe thead th {\n",
              "        text-align: right;\n",
              "    }\n",
              "</style>\n",
              "<table border=\"1\" class=\"dataframe\">\n",
              "  <thead>\n",
              "    <tr style=\"text-align: right;\">\n",
              "      <th></th>\n",
              "      <th>Sentence</th>\n",
              "      <th>Type</th>\n",
              "      <th>Level</th>\n",
              "      <th>Class</th>\n",
              "    </tr>\n",
              "    <tr>\n",
              "      <th>Target</th>\n",
              "      <th></th>\n",
              "      <th></th>\n",
              "      <th></th>\n",
              "      <th></th>\n",
              "    </tr>\n",
              "  </thead>\n",
              "  <tbody>\n",
              "    <tr>\n",
              "      <th>AUTHOR_OF_COMMENT</th>\n",
              "      <td>2547</td>\n",
              "      <td>2547</td>\n",
              "      <td>2547</td>\n",
              "      <td>2547</td>\n",
              "    </tr>\n",
              "    <tr>\n",
              "      <th>EVERYONE</th>\n",
              "      <td>16603</td>\n",
              "      <td>16603</td>\n",
              "      <td>16603</td>\n",
              "      <td>16603</td>\n",
              "    </tr>\n",
              "    <tr>\n",
              "      <th>GROUP</th>\n",
              "      <td>36083</td>\n",
              "      <td>36083</td>\n",
              "      <td>36083</td>\n",
              "      <td>36083</td>\n",
              "    </tr>\n",
              "    <tr>\n",
              "      <th>NO_ONE</th>\n",
              "      <td>1</td>\n",
              "      <td>1</td>\n",
              "      <td>1</td>\n",
              "      <td>1</td>\n",
              "    </tr>\n",
              "    <tr>\n",
              "      <th>SINGLE_PERSON</th>\n",
              "      <td>36128</td>\n",
              "      <td>36128</td>\n",
              "      <td>36128</td>\n",
              "      <td>36128</td>\n",
              "    </tr>\n",
              "    <tr>\n",
              "      <th>UNDEFINED</th>\n",
              "      <td>199191</td>\n",
              "      <td>199191</td>\n",
              "      <td>199191</td>\n",
              "      <td>199191</td>\n",
              "    </tr>\n",
              "    <tr>\n",
              "      <th>USER</th>\n",
              "      <td>97574</td>\n",
              "      <td>97574</td>\n",
              "      <td>97574</td>\n",
              "      <td>97574</td>\n",
              "    </tr>\n",
              "    <tr>\n",
              "      <th>USER_FAMILY</th>\n",
              "      <td>6466</td>\n",
              "      <td>6466</td>\n",
              "      <td>6466</td>\n",
              "      <td>6466</td>\n",
              "    </tr>\n",
              "  </tbody>\n",
              "</table>\n",
              "</div>"
            ],
            "text/plain": [
              "                   Sentence    Type   Level   Class\n",
              "Target                                             \n",
              "AUTHOR_OF_COMMENT      2547    2547    2547    2547\n",
              "EVERYONE              16603   16603   16603   16603\n",
              "GROUP                 36083   36083   36083   36083\n",
              "NO_ONE                    1       1       1       1\n",
              "SINGLE_PERSON         36128   36128   36128   36128\n",
              "UNDEFINED            199191  199191  199191  199191\n",
              "USER                  97574   97574   97574   97574\n",
              "USER_FAMILY            6466    6466    6466    6466"
            ]
          },
          "metadata": {
            "tags": []
          },
          "execution_count": 16
        }
      ]
    },
    {
      "cell_type": "code",
      "metadata": {
        "colab": {
          "base_uri": "https://localhost:8080/",
          "height": 414
        },
        "id": "JkR8u92JwRgF",
        "outputId": "77f091f0-d827-4bc4-b3ce-aadf9ad56d47"
      },
      "source": [
        "plt.figure(figsize=(20,5))\r\n",
        "chart = sns.countplot(\"Target\", data=dataset)\r\n",
        "chart.set_xticklabels(chart.get_xticklabels(), rotation=45)\r\n",
        "plt.show()"
      ],
      "execution_count": 17,
      "outputs": [
        {
          "output_type": "display_data",
          "data": {
            "image/png": "[encoded data removed]",
            "text/plain": [
              "<Figure size 1440x360 with 1 Axes>"
            ]
          },
          "metadata": {
            "tags": [],
            "needs_background": "light"
          }
        }
      ]
    },
    {
      "cell_type": "code",
      "metadata": {
        "colab": {
          "base_uri": "https://localhost:8080/",
          "height": 506
        },
        "id": "OmuPXJBsmyyU",
        "outputId": "e8cbe027-31f0-4599-d787-455d5bc88266"
      },
      "source": [
        "dataset.groupby(['Type']).count()"
      ],
      "execution_count": 18,
      "outputs": [
        {
          "output_type": "execute_result",
          "data": {
            "text/html": [
              "<div>\n",
              "<style scoped>\n",
              "    .dataframe tbody tr th:only-of-type {\n",
              "        vertical-align: middle;\n",
              "    }\n",
              "\n",
              "    .dataframe tbody tr th {\n",
              "        vertical-align: top;\n",
              "    }\n",
              "\n",
              "    .dataframe thead th {\n",
              "        text-align: right;\n",
              "    }\n",
              "</style>\n",
              "<table border=\"1\" class=\"dataframe\">\n",
              "  <thead>\n",
              "    <tr style=\"text-align: right;\">\n",
              "      <th></th>\n",
              "      <th>Sentence</th>\n",
              "      <th>Level</th>\n",
              "      <th>Target</th>\n",
              "      <th>Class</th>\n",
              "    </tr>\n",
              "    <tr>\n",
              "      <th>Type</th>\n",
              "      <th></th>\n",
              "      <th></th>\n",
              "      <th></th>\n",
              "      <th></th>\n",
              "    </tr>\n",
              "  </thead>\n",
              "  <tbody>\n",
              "    <tr>\n",
              "      <th>Ads</th>\n",
              "      <td>27</td>\n",
              "      <td>27</td>\n",
              "      <td>27</td>\n",
              "      <td>27</td>\n",
              "    </tr>\n",
              "    <tr>\n",
              "      <th>Critics</th>\n",
              "      <td>15</td>\n",
              "      <td>15</td>\n",
              "      <td>15</td>\n",
              "      <td>15</td>\n",
              "    </tr>\n",
              "    <tr>\n",
              "      <th>Hate</th>\n",
              "      <td>37293</td>\n",
              "      <td>37293</td>\n",
              "      <td>37293</td>\n",
              "      <td>37293</td>\n",
              "    </tr>\n",
              "    <tr>\n",
              "      <th>Homophobia</th>\n",
              "      <td>12256</td>\n",
              "      <td>12256</td>\n",
              "      <td>12256</td>\n",
              "      <td>12256</td>\n",
              "    </tr>\n",
              "    <tr>\n",
              "      <th>Insult</th>\n",
              "      <td>116947</td>\n",
              "      <td>116947</td>\n",
              "      <td>116947</td>\n",
              "      <td>116947</td>\n",
              "    </tr>\n",
              "    <tr>\n",
              "      <th>Misogyny</th>\n",
              "      <td>6</td>\n",
              "      <td>6</td>\n",
              "      <td>6</td>\n",
              "      <td>6</td>\n",
              "    </tr>\n",
              "    <tr>\n",
              "      <th>Mockery</th>\n",
              "      <td>13950</td>\n",
              "      <td>13950</td>\n",
              "      <td>13950</td>\n",
              "      <td>13950</td>\n",
              "    </tr>\n",
              "    <tr>\n",
              "      <th>Moral Harassment</th>\n",
              "      <td>1583</td>\n",
              "      <td>1583</td>\n",
              "      <td>1583</td>\n",
              "      <td>1583</td>\n",
              "    </tr>\n",
              "    <tr>\n",
              "      <th>Neutral</th>\n",
              "      <td>200009</td>\n",
              "      <td>200009</td>\n",
              "      <td>200009</td>\n",
              "      <td>200009</td>\n",
              "    </tr>\n",
              "    <tr>\n",
              "      <th>Racism</th>\n",
              "      <td>2143</td>\n",
              "      <td>2143</td>\n",
              "      <td>2143</td>\n",
              "      <td>2143</td>\n",
              "    </tr>\n",
              "    <tr>\n",
              "      <th>Sexual Harassment</th>\n",
              "      <td>4603</td>\n",
              "      <td>4603</td>\n",
              "      <td>4603</td>\n",
              "      <td>4603</td>\n",
              "    </tr>\n",
              "    <tr>\n",
              "      <th>Threat</th>\n",
              "      <td>2282</td>\n",
              "      <td>2282</td>\n",
              "      <td>2282</td>\n",
              "      <td>2282</td>\n",
              "    </tr>\n",
              "    <tr>\n",
              "      <th>Troll</th>\n",
              "      <td>3461</td>\n",
              "      <td>3461</td>\n",
              "      <td>3461</td>\n",
              "      <td>3461</td>\n",
              "    </tr>\n",
              "    <tr>\n",
              "      <th>Useless</th>\n",
              "      <td>18</td>\n",
              "      <td>18</td>\n",
              "      <td>18</td>\n",
              "      <td>18</td>\n",
              "    </tr>\n",
              "  </tbody>\n",
              "</table>\n",
              "</div>"
            ],
            "text/plain": [
              "                   Sentence   Level  Target   Class\n",
              "Type                                               \n",
              "Ads                      27      27      27      27\n",
              "Critics                  15      15      15      15\n",
              "Hate                  37293   37293   37293   37293\n",
              "Homophobia            12256   12256   12256   12256\n",
              "Insult               116947  116947  116947  116947\n",
              "Misogyny                  6       6       6       6\n",
              "Mockery               13950   13950   13950   13950\n",
              "Moral Harassment       1583    1583    1583    1583\n",
              "Neutral              200009  200009  200009  200009\n",
              "Racism                 2143    2143    2143    2143\n",
              "Sexual Harassment      4603    4603    4603    4603\n",
              "Threat                 2282    2282    2282    2282\n",
              "Troll                  3461    3461    3461    3461\n",
              "Useless                  18      18      18      18"
            ]
          },
          "metadata": {
            "tags": []
          },
          "execution_count": 18
        }
      ]
    },
    {
      "cell_type": "code",
      "metadata": {
        "colab": {
          "base_uri": "https://localhost:8080/",
          "height": 231
        },
        "id": "BgdNEV-t24Td",
        "outputId": "4409a2b4-05b6-4fb4-fac7-fd7271dab2d3"
      },
      "source": [
        "dataset.groupby(['Level']).count()"
      ],
      "execution_count": 19,
      "outputs": [
        {
          "output_type": "execute_result",
          "data": {
            "text/html": [
              "<div>\n",
              "<style scoped>\n",
              "    .dataframe tbody tr th:only-of-type {\n",
              "        vertical-align: middle;\n",
              "    }\n",
              "\n",
              "    .dataframe tbody tr th {\n",
              "        vertical-align: top;\n",
              "    }\n",
              "\n",
              "    .dataframe thead th {\n",
              "        text-align: right;\n",
              "    }\n",
              "</style>\n",
              "<table border=\"1\" class=\"dataframe\">\n",
              "  <thead>\n",
              "    <tr style=\"text-align: right;\">\n",
              "      <th></th>\n",
              "      <th>Sentence</th>\n",
              "      <th>Type</th>\n",
              "      <th>Target</th>\n",
              "      <th>Class</th>\n",
              "    </tr>\n",
              "    <tr>\n",
              "      <th>Level</th>\n",
              "      <th></th>\n",
              "      <th></th>\n",
              "      <th></th>\n",
              "      <th></th>\n",
              "    </tr>\n",
              "  </thead>\n",
              "  <tbody>\n",
              "    <tr>\n",
              "      <th>HIGH</th>\n",
              "      <td>53358</td>\n",
              "      <td>53358</td>\n",
              "      <td>53358</td>\n",
              "      <td>53358</td>\n",
              "    </tr>\n",
              "    <tr>\n",
              "      <th>LOW</th>\n",
              "      <td>28016</td>\n",
              "      <td>28016</td>\n",
              "      <td>28016</td>\n",
              "      <td>28016</td>\n",
              "    </tr>\n",
              "    <tr>\n",
              "      <th>MEDIUM</th>\n",
              "      <td>46880</td>\n",
              "      <td>46880</td>\n",
              "      <td>46880</td>\n",
              "      <td>46880</td>\n",
              "    </tr>\n",
              "    <tr>\n",
              "      <th>NONE</th>\n",
              "      <td>199189</td>\n",
              "      <td>199189</td>\n",
              "      <td>199189</td>\n",
              "      <td>199189</td>\n",
              "    </tr>\n",
              "    <tr>\n",
              "      <th>VERY_HIGH</th>\n",
              "      <td>67150</td>\n",
              "      <td>67150</td>\n",
              "      <td>67150</td>\n",
              "      <td>67150</td>\n",
              "    </tr>\n",
              "  </tbody>\n",
              "</table>\n",
              "</div>"
            ],
            "text/plain": [
              "           Sentence    Type  Target   Class\n",
              "Level                                      \n",
              "HIGH          53358   53358   53358   53358\n",
              "LOW           28016   28016   28016   28016\n",
              "MEDIUM        46880   46880   46880   46880\n",
              "NONE         199189  199189  199189  199189\n",
              "VERY_HIGH     67150   67150   67150   67150"
            ]
          },
          "metadata": {
            "tags": []
          },
          "execution_count": 19
        }
      ]
    },
    {
      "cell_type": "code",
      "metadata": {
        "colab": {
          "base_uri": "https://localhost:8080/",
          "height": 262
        },
        "id": "UdD0_lqo3UpV",
        "outputId": "c1839296-8a71-4274-ee80-d2ea713cb238"
      },
      "source": [
        "dataset_stats = dataset.groupby(['Target', 'Level']).size().reset_index(name='count')\r\n",
        "pd.pivot_table(dataset_stats, index=['Level'], columns = ['Target'],values=['count'], fill_value=0)"
      ],
      "execution_count": 20,
      "outputs": [
        {
          "output_type": "execute_result",
          "data": {
            "text/html": [
              "<div>\n",
              "<style scoped>\n",
              "    .dataframe tbody tr th:only-of-type {\n",
              "        vertical-align: middle;\n",
              "    }\n",
              "\n",
              "    .dataframe tbody tr th {\n",
              "        vertical-align: top;\n",
              "    }\n",
              "\n",
              "    .dataframe thead tr th {\n",
              "        text-align: left;\n",
              "    }\n",
              "\n",
              "    .dataframe thead tr:last-of-type th {\n",
              "        text-align: right;\n",
              "    }\n",
              "</style>\n",
              "<table border=\"1\" class=\"dataframe\">\n",
              "  <thead>\n",
              "    <tr>\n",
              "      <th></th>\n",
              "      <th colspan=\"8\" halign=\"left\">count</th>\n",
              "    </tr>\n",
              "    <tr>\n",
              "      <th>Target</th>\n",
              "      <th>AUTHOR_OF_COMMENT</th>\n",
              "      <th>EVERYONE</th>\n",
              "      <th>GROUP</th>\n",
              "      <th>NO_ONE</th>\n",
              "      <th>SINGLE_PERSON</th>\n",
              "      <th>UNDEFINED</th>\n",
              "      <th>USER</th>\n",
              "      <th>USER_FAMILY</th>\n",
              "    </tr>\n",
              "    <tr>\n",
              "      <th>Level</th>\n",
              "      <th></th>\n",
              "      <th></th>\n",
              "      <th></th>\n",
              "      <th></th>\n",
              "      <th></th>\n",
              "      <th></th>\n",
              "      <th></th>\n",
              "      <th></th>\n",
              "    </tr>\n",
              "  </thead>\n",
              "  <tbody>\n",
              "    <tr>\n",
              "      <th>HIGH</th>\n",
              "      <td>189</td>\n",
              "      <td>3952</td>\n",
              "      <td>9004</td>\n",
              "      <td>0</td>\n",
              "      <td>9008</td>\n",
              "      <td>4</td>\n",
              "      <td>27624</td>\n",
              "      <td>3577</td>\n",
              "    </tr>\n",
              "    <tr>\n",
              "      <th>LOW</th>\n",
              "      <td>1350</td>\n",
              "      <td>2743</td>\n",
              "      <td>9031</td>\n",
              "      <td>0</td>\n",
              "      <td>9032</td>\n",
              "      <td>1</td>\n",
              "      <td>5481</td>\n",
              "      <td>378</td>\n",
              "    </tr>\n",
              "    <tr>\n",
              "      <th>MEDIUM</th>\n",
              "      <td>837</td>\n",
              "      <td>2125</td>\n",
              "      <td>9036</td>\n",
              "      <td>1</td>\n",
              "      <td>9032</td>\n",
              "      <td>14</td>\n",
              "      <td>24422</td>\n",
              "      <td>1413</td>\n",
              "    </tr>\n",
              "    <tr>\n",
              "      <th>NONE</th>\n",
              "      <td>0</td>\n",
              "      <td>4</td>\n",
              "      <td>0</td>\n",
              "      <td>0</td>\n",
              "      <td>1</td>\n",
              "      <td>199171</td>\n",
              "      <td>13</td>\n",
              "      <td>0</td>\n",
              "    </tr>\n",
              "    <tr>\n",
              "      <th>VERY_HIGH</th>\n",
              "      <td>171</td>\n",
              "      <td>7779</td>\n",
              "      <td>9012</td>\n",
              "      <td>0</td>\n",
              "      <td>9055</td>\n",
              "      <td>1</td>\n",
              "      <td>40034</td>\n",
              "      <td>1098</td>\n",
              "    </tr>\n",
              "  </tbody>\n",
              "</table>\n",
              "</div>"
            ],
            "text/plain": [
              "                      count                 ...                             \n",
              "Target    AUTHOR_OF_COMMENT EVERYONE GROUP  ... UNDEFINED   USER USER_FAMILY\n",
              "Level                                       ...                             \n",
              "HIGH                    189     3952  9004  ...         4  27624        3577\n",
              "LOW                    1350     2743  9031  ...         1   5481         378\n",
              "MEDIUM                  837     2125  9036  ...        14  24422        1413\n",
              "NONE                      0        4     0  ...    199171     13           0\n",
              "VERY_HIGH               171     7779  9012  ...         1  40034        1098\n",
              "\n",
              "[5 rows x 8 columns]"
            ]
          },
          "metadata": {
            "tags": []
          },
          "execution_count": 20
        }
      ]
    },
    {
      "cell_type": "code",
      "metadata": {
        "colab": {
          "base_uri": "https://localhost:8080/",
          "height": 67
        },
        "id": "GRdPi_wew2us",
        "outputId": "c8d865a2-a0ef-48e9-c1f5-7e182cb99c08"
      },
      "source": [
        "#Checking if empty Sentences exist\r\n",
        "empty_index = [index for index,text in enumerate(dataset.Sentence.values) if str(text).strip() == '']\r\n",
        "print(\"No of empty rows: {}\".format(len(empty_index)))\r\n",
        "hateful.iloc[empty_index].tail()"
      ],
      "execution_count": 21,
      "outputs": [
        {
          "output_type": "stream",
          "text": [
            "No of empty rows: 0\n"
          ],
          "name": "stdout"
        },
        {
          "output_type": "execute_result",
          "data": {
            "text/html": [
              "<div>\n",
              "<style scoped>\n",
              "    .dataframe tbody tr th:only-of-type {\n",
              "        vertical-align: middle;\n",
              "    }\n",
              "\n",
              "    .dataframe tbody tr th {\n",
              "        vertical-align: top;\n",
              "    }\n",
              "\n",
              "    .dataframe thead th {\n",
              "        text-align: right;\n",
              "    }\n",
              "</style>\n",
              "<table border=\"1\" class=\"dataframe\">\n",
              "  <thead>\n",
              "    <tr style=\"text-align: right;\">\n",
              "      <th></th>\n",
              "      <th>Sentence</th>\n",
              "      <th>Type</th>\n",
              "      <th>Level</th>\n",
              "      <th>Target</th>\n",
              "      <th>Class</th>\n",
              "    </tr>\n",
              "  </thead>\n",
              "  <tbody>\n",
              "  </tbody>\n",
              "</table>\n",
              "</div>"
            ],
            "text/plain": [
              "Empty DataFrame\n",
              "Columns: [Sentence, Type, Level, Target, Class]\n",
              "Index: []"
            ]
          },
          "metadata": {
            "tags": []
          },
          "execution_count": 21
        }
      ]
    },
    {
      "cell_type": "code",
      "metadata": {
        "colab": {
          "base_uri": "https://localhost:8080/"
        },
        "id": "-NKwLTdG7t89",
        "outputId": "7d2e0a9e-5e4c-44c6-b0f9-88366cc50267"
      },
      "source": [
        "#Checking frequent words\r\n",
        "cnt = Counter()\r\n",
        "for text in dataset[\"Sentence\"].values:\r\n",
        "    for word in text.split():\r\n",
        "        cnt[word] += 1\r\n",
        "        \r\n",
        "cnt.most_common(20)"
      ],
      "execution_count": 22,
      "outputs": [
        {
          "output_type": "execute_result",
          "data": {
            "text/plain": [
              "[('de', 212725),\n",
              " ('la', 117593),\n",
              " ('et', 104727),\n",
              " ('le', 99444),\n",
              " ('les', 94956),\n",
              " ('pas', 85171),\n",
              " ('que', 81618),\n",
              " ('des', 72996),\n",
              " ('à', 66654),\n",
              " ('un', 63619),\n",
              " ('a', 58883),\n",
              " ('je', 58172),\n",
              " ('pour', 57210),\n",
              " ('en', 56610),\n",
              " ('qui', 55488),\n",
              " ('est', 54054),\n",
              " ('tu', 51424),\n",
              " ('vous', 42380),\n",
              " ('une', 41758),\n",
              " ('il', 39910)]"
            ]
          },
          "metadata": {
            "tags": []
          },
          "execution_count": 22
        }
      ]
    },
    {
      "cell_type": "code",
      "metadata": {
        "id": "aNmoYMfW9Jhi"
      },
      "source": [
        "#Checking average sentence length vs toxicity level\r\n",
        "dataset['Length'] = dataset['Sentence'].apply(len)\r\n",
        "#fig,(ax1, ax2) = plt.subplots(1,2)\r\n",
        "#sns.barplot('Level','Length',data = dataset,palette='PRGn',ax=ax1).set_title('Avg Sentence Length vs Level')\r\n",
        "#sns.barplot('Target','Length',data = dataset,palette='PRGn',ax=ax2).set_title('Avg Sentence Length vs Target')\r\n",
        "#plt.setp(ax1.xaxis.get_majorticklabels(), rotation=45)\r\n",
        "#plt.setp(ax2.xaxis.get_majorticklabels(), rotation=45)\r\n",
        "#fig.tight_layout()"
      ],
      "execution_count": 23,
      "outputs": []
    },
    {
      "cell_type": "code",
      "metadata": {
        "id": "09K4iY87DrNI"
      },
      "source": [
        "#Checking average word number vs toxicity level\r\n",
        "dataset['Count'] = dataset['Sentence'].str.split().str.len()\r\n",
        "#fig,(ax1, ax2) = plt.subplots(1,2)\r\n",
        "#sns.barplot('Level','Count',data = dataset,palette='PRGn',ax=ax1).set_title('Average Word Count vs Level')\r\n",
        "#sns.barplot('Target','Count',data = dataset,palette='PRGn',ax=ax2).set_title('Average Word Count vs Target')\r\n",
        "#plt.setp(ax1.xaxis.get_majorticklabels(), rotation=45)\r\n",
        "#plt.setp(ax2.xaxis.get_majorticklabels(), rotation=45)\r\n",
        "#fig.tight_layout()"
      ],
      "execution_count": 24,
      "outputs": []
    },
    {
      "cell_type": "markdown",
      "metadata": {
        "id": "Vm9P9tecc_hC"
      },
      "source": [
        "### Cleaning dataset"
      ]
    },
    {
      "cell_type": "code",
      "metadata": {
        "colab": {
          "base_uri": "https://localhost:8080/",
          "height": 201
        },
        "id": "8ehbFxoK4wkG",
        "outputId": "ffe7ba94-fc31-4e31-c974-f3d6fe090ac4"
      },
      "source": [
        "#Lowering all sentences\r\n",
        "\r\n",
        "dataset['cleanSentence'] = dataset['Sentence'].apply(lambda x: x.lower())\r\n",
        "dataset.head()"
      ],
      "execution_count": 25,
      "outputs": [
        {
          "output_type": "execute_result",
          "data": {
            "text/html": [
              "<div>\n",
              "<style scoped>\n",
              "    .dataframe tbody tr th:only-of-type {\n",
              "        vertical-align: middle;\n",
              "    }\n",
              "\n",
              "    .dataframe tbody tr th {\n",
              "        vertical-align: top;\n",
              "    }\n",
              "\n",
              "    .dataframe thead th {\n",
              "        text-align: right;\n",
              "    }\n",
              "</style>\n",
              "<table border=\"1\" class=\"dataframe\">\n",
              "  <thead>\n",
              "    <tr style=\"text-align: right;\">\n",
              "      <th></th>\n",
              "      <th>Sentence</th>\n",
              "      <th>Type</th>\n",
              "      <th>Level</th>\n",
              "      <th>Target</th>\n",
              "      <th>Class</th>\n",
              "      <th>Length</th>\n",
              "      <th>Count</th>\n",
              "      <th>cleanSentence</th>\n",
              "    </tr>\n",
              "  </thead>\n",
              "  <tbody>\n",
              "    <tr>\n",
              "      <th>0</th>\n",
              "      <td>T pas Bo 😂😂🥃</td>\n",
              "      <td>Mockery</td>\n",
              "      <td>LOW</td>\n",
              "      <td>USER</td>\n",
              "      <td>1</td>\n",
              "      <td>12</td>\n",
              "      <td>4</td>\n",
              "      <td>t pas bo 😂😂🥃</td>\n",
              "    </tr>\n",
              "    <tr>\n",
              "      <th>1</th>\n",
              "      <td>t’es vilain 😂😂😂😂😂😂</td>\n",
              "      <td>Mockery</td>\n",
              "      <td>LOW</td>\n",
              "      <td>USER</td>\n",
              "      <td>1</td>\n",
              "      <td>18</td>\n",
              "      <td>3</td>\n",
              "      <td>t’es vilain 😂😂😂😂😂😂</td>\n",
              "    </tr>\n",
              "    <tr>\n",
              "      <th>2</th>\n",
              "      <td>Je te propose un d'île je m'abonne à ta chaine...</td>\n",
              "      <td>Hate</td>\n",
              "      <td>LOW</td>\n",
              "      <td>USER</td>\n",
              "      <td>1</td>\n",
              "      <td>189</td>\n",
              "      <td>37</td>\n",
              "      <td>je te propose un d'île je m'abonne à ta chaine...</td>\n",
              "    </tr>\n",
              "    <tr>\n",
              "      <th>3</th>\n",
              "      <td>T un kiko mdr</td>\n",
              "      <td>Insult</td>\n",
              "      <td>LOW</td>\n",
              "      <td>USER</td>\n",
              "      <td>1</td>\n",
              "      <td>13</td>\n",
              "      <td>4</td>\n",
              "      <td>t un kiko mdr</td>\n",
              "    </tr>\n",
              "    <tr>\n",
              "      <th>4</th>\n",
              "      <td>Moi mdr t trop nul</td>\n",
              "      <td>Hate</td>\n",
              "      <td>LOW</td>\n",
              "      <td>USER</td>\n",
              "      <td>1</td>\n",
              "      <td>18</td>\n",
              "      <td>5</td>\n",
              "      <td>moi mdr t trop nul</td>\n",
              "    </tr>\n",
              "  </tbody>\n",
              "</table>\n",
              "</div>"
            ],
            "text/plain": [
              "                                            Sentence  ...                                      cleanSentence\n",
              "0                                       T pas Bo 😂😂🥃  ...                                       t pas bo 😂😂🥃\n",
              "1                                 t’es vilain 😂😂😂😂😂😂  ...                                 t’es vilain 😂😂😂😂😂😂\n",
              "2  Je te propose un d'île je m'abonne à ta chaine...  ...  je te propose un d'île je m'abonne à ta chaine...\n",
              "3                                      T un kiko mdr  ...                                      t un kiko mdr\n",
              "4                                 Moi mdr t trop nul  ...                                 moi mdr t trop nul\n",
              "\n",
              "[5 rows x 8 columns]"
            ]
          },
          "metadata": {
            "tags": []
          },
          "execution_count": 25
        }
      ]
    },
    {
      "cell_type": "code",
      "metadata": {
        "colab": {
          "base_uri": "https://localhost:8080/",
          "height": 372
        },
        "id": "qbYGDPOL4WBL",
        "outputId": "803c8dbe-fa38-4afd-ef5f-cf02a05fa618"
      },
      "source": [
        "#Dealing with emojis\r\n",
        "!pip install emoji\r\n",
        "import emoji\r\n",
        "\r\n",
        "#does the text contain an emoji?\r\n",
        "def text_has_emoji(text):\r\n",
        "    for character in text:\r\n",
        "        if character in emoji.UNICODE_EMOJI[\"en\"]:\r\n",
        "            return True\r\n",
        "    return False\r\n",
        "\r\n",
        "#extract emojis for possible future use\r\n",
        "def extract_emoji(text):\r\n",
        "    emoji_list = []\r\n",
        "    data = re.findall(r'[^\\w\\s,]', text)\r\n",
        "    for word in data:\r\n",
        "        if any(char in emoji.UNICODE_EMOJI[\"en\"] for char in word):\r\n",
        "            emoji_list.append(word)\r\n",
        "    return emoji_list\r\n",
        "\r\n",
        "#remove the emoji\r\n",
        "def remove_emoji(text):\r\n",
        "  data = re.findall(r'[^\\w\\s,]', text)\r\n",
        "  for word in data:\r\n",
        "      if any(char in emoji.UNICODE_EMOJI[\"en\"] for char in word):\r\n",
        "          text = text.replace(word, '')\r\n",
        "  return text\r\n",
        "\r\n",
        "# Checking if emoji in source Sentence\r\n",
        "dataset['Emoji'] = dataset['Sentence'].apply(extract_emoji)\r\n",
        "\r\n",
        "# Removing Emojis from Sentence\r\n",
        "dataset['cleanSentence'] = dataset['cleanSentence'].apply(remove_emoji)\r\n",
        "dataset.head(10)"
      ],
      "execution_count": 31,
      "outputs": [
        {
          "output_type": "stream",
          "text": [
            "Requirement already satisfied: emoji in /usr/local/lib/python3.7/dist-packages (1.2.0)\n"
          ],
          "name": "stdout"
        },
        {
          "output_type": "execute_result",
          "data": {
            "text/html": [
              "<div>\n",
              "<style scoped>\n",
              "    .dataframe tbody tr th:only-of-type {\n",
              "        vertical-align: middle;\n",
              "    }\n",
              "\n",
              "    .dataframe tbody tr th {\n",
              "        vertical-align: top;\n",
              "    }\n",
              "\n",
              "    .dataframe thead th {\n",
              "        text-align: right;\n",
              "    }\n",
              "</style>\n",
              "<table border=\"1\" class=\"dataframe\">\n",
              "  <thead>\n",
              "    <tr style=\"text-align: right;\">\n",
              "      <th></th>\n",
              "      <th>Sentence</th>\n",
              "      <th>Type</th>\n",
              "      <th>Level</th>\n",
              "      <th>Target</th>\n",
              "      <th>Class</th>\n",
              "      <th>Length</th>\n",
              "      <th>Count</th>\n",
              "      <th>cleanSentence</th>\n",
              "      <th>Emoji</th>\n",
              "    </tr>\n",
              "  </thead>\n",
              "  <tbody>\n",
              "    <tr>\n",
              "      <th>0</th>\n",
              "      <td>T pas Bo 😂😂🥃</td>\n",
              "      <td>Mockery</td>\n",
              "      <td>LOW</td>\n",
              "      <td>USER</td>\n",
              "      <td>1</td>\n",
              "      <td>12</td>\n",
              "      <td>4</td>\n",
              "      <td>t pas bo</td>\n",
              "      <td>[😂, 😂, 🥃]</td>\n",
              "    </tr>\n",
              "    <tr>\n",
              "      <th>1</th>\n",
              "      <td>t’es vilain 😂😂😂😂😂😂</td>\n",
              "      <td>Mockery</td>\n",
              "      <td>LOW</td>\n",
              "      <td>USER</td>\n",
              "      <td>1</td>\n",
              "      <td>18</td>\n",
              "      <td>3</td>\n",
              "      <td>t’es vilain</td>\n",
              "      <td>[😂, 😂, 😂, 😂, 😂, 😂]</td>\n",
              "    </tr>\n",
              "    <tr>\n",
              "      <th>2</th>\n",
              "      <td>Je te propose un d'île je m'abonne à ta chaine...</td>\n",
              "      <td>Hate</td>\n",
              "      <td>LOW</td>\n",
              "      <td>USER</td>\n",
              "      <td>1</td>\n",
              "      <td>189</td>\n",
              "      <td>37</td>\n",
              "      <td>je te propose un d'île je m'abonne à ta chaine...</td>\n",
              "      <td>[]</td>\n",
              "    </tr>\n",
              "    <tr>\n",
              "      <th>3</th>\n",
              "      <td>T un kiko mdr</td>\n",
              "      <td>Insult</td>\n",
              "      <td>LOW</td>\n",
              "      <td>USER</td>\n",
              "      <td>1</td>\n",
              "      <td>13</td>\n",
              "      <td>4</td>\n",
              "      <td>t un kiko mdr</td>\n",
              "      <td>[]</td>\n",
              "    </tr>\n",
              "    <tr>\n",
              "      <th>4</th>\n",
              "      <td>Moi mdr t trop nul</td>\n",
              "      <td>Hate</td>\n",
              "      <td>LOW</td>\n",
              "      <td>USER</td>\n",
              "      <td>1</td>\n",
              "      <td>18</td>\n",
              "      <td>5</td>\n",
              "      <td>moi mdr t trop nul</td>\n",
              "      <td>[]</td>\n",
              "    </tr>\n",
              "    <tr>\n",
              "      <th>5</th>\n",
              "      <td>Ta un mono sourcils 😂</td>\n",
              "      <td>Mockery</td>\n",
              "      <td>LOW</td>\n",
              "      <td>USER</td>\n",
              "      <td>1</td>\n",
              "      <td>21</td>\n",
              "      <td>5</td>\n",
              "      <td>ta un mono sourcils</td>\n",
              "      <td>[😂]</td>\n",
              "    </tr>\n",
              "    <tr>\n",
              "      <th>6</th>\n",
              "      <td>Grosse merdes</td>\n",
              "      <td>Insult</td>\n",
              "      <td>LOW</td>\n",
              "      <td>USER</td>\n",
              "      <td>1</td>\n",
              "      <td>13</td>\n",
              "      <td>2</td>\n",
              "      <td>grosse merdes</td>\n",
              "      <td>[]</td>\n",
              "    </tr>\n",
              "    <tr>\n",
              "      <th>7</th>\n",
              "      <td>espèce de gamin 😂😂</td>\n",
              "      <td>Insult</td>\n",
              "      <td>LOW</td>\n",
              "      <td>USER</td>\n",
              "      <td>1</td>\n",
              "      <td>18</td>\n",
              "      <td>4</td>\n",
              "      <td>espèce de gamin</td>\n",
              "      <td>[😂, 😂]</td>\n",
              "    </tr>\n",
              "    <tr>\n",
              "      <th>8</th>\n",
              "      <td>C'est quoi cette mode ou presque tout les YouT...</td>\n",
              "      <td>Insult</td>\n",
              "      <td>LOW</td>\n",
              "      <td>USER</td>\n",
              "      <td>1</td>\n",
              "      <td>174</td>\n",
              "      <td>37</td>\n",
              "      <td>c'est quoi cette mode ou presque tout les yout...</td>\n",
              "      <td>[]</td>\n",
              "    </tr>\n",
              "    <tr>\n",
              "      <th>9</th>\n",
              "      <td>@VittoreMorgane @crdsar et ? il est au dessus ...</td>\n",
              "      <td>Insult</td>\n",
              "      <td>LOW</td>\n",
              "      <td>USER</td>\n",
              "      <td>1</td>\n",
              "      <td>226</td>\n",
              "      <td>42</td>\n",
              "      <td>@vittoremorgane @crdsar et ? il est au dessus ...</td>\n",
              "      <td>[]</td>\n",
              "    </tr>\n",
              "  </tbody>\n",
              "</table>\n",
              "</div>"
            ],
            "text/plain": [
              "                                            Sentence  ...               Emoji\n",
              "0                                       T pas Bo 😂😂🥃  ...           [😂, 😂, 🥃]\n",
              "1                                 t’es vilain 😂😂😂😂😂😂  ...  [😂, 😂, 😂, 😂, 😂, 😂]\n",
              "2  Je te propose un d'île je m'abonne à ta chaine...  ...                  []\n",
              "3                                      T un kiko mdr  ...                  []\n",
              "4                                 Moi mdr t trop nul  ...                  []\n",
              "5                              Ta un mono sourcils 😂  ...                 [😂]\n",
              "6                                      Grosse merdes  ...                  []\n",
              "7                                 espèce de gamin 😂😂  ...              [😂, 😂]\n",
              "8  C'est quoi cette mode ou presque tout les YouT...  ...                  []\n",
              "9  @VittoreMorgane @crdsar et ? il est au dessus ...  ...                  []\n",
              "\n",
              "[10 rows x 9 columns]"
            ]
          },
          "metadata": {
            "tags": []
          },
          "execution_count": 31
        }
      ]
    },
    {
      "cell_type": "code",
      "metadata": {
        "id": "PAxkhi9T_XWJ"
      },
      "source": [
        "#ALTERNATIVE: convert emojis to corresponding text (to keep their spirit)\r\n",
        "# TODO"
      ],
      "execution_count": 84,
      "outputs": []
    },
    {
      "cell_type": "code",
      "metadata": {
        "colab": {
          "base_uri": "https://localhost:8080/",
          "height": 353
        },
        "id": "mkP00pgPz7Ml",
        "outputId": "68d79637-8134-4f5e-bb72-516e96d26f59"
      },
      "source": [
        "#Special characters cleaning\r\n",
        "\"\"\"\r\n",
        "A utility function to remove numerical characters from the text.\r\n",
        "\r\n",
        "\"\"\"\r\n",
        "\r\n",
        "def remove_nums(text):\r\n",
        "    text = ''.join([i for i in text if not i.isdigit()])         \r\n",
        "    return text\r\n",
        "\r\n",
        "\r\n",
        "\"\"\"\r\n",
        "A utility function to remove URL links from the text.\r\n",
        "\r\n",
        "\"\"\"\r\n",
        "\r\n",
        "def remove_URL(text):\r\n",
        "    url = re.compile(r'https?://\\S+|www\\.\\S+')\r\n",
        "    return url.sub(r'',text)\r\n",
        "\r\n",
        "\r\n",
        "\"\"\"\r\n",
        "A utility function to remove HTML tags from the text.\r\n",
        "\r\n",
        "\"\"\"\r\n",
        "\r\n",
        "def remove_html(text):\r\n",
        "    html=re.compile(r'<.*?>')\r\n",
        "    return html.sub(r'',text)\r\n",
        "\r\n",
        "\r\n",
        "\"\"\"\r\n",
        "A utility function to remove @\r\n",
        "\r\n",
        "\"\"\"\r\n",
        "\r\n",
        "def remove_special(text):\r\n",
        "    return \" \".join(re.sub(\"(@[A-Za-z0-9]+)|([^ \\nA-Za-z0-9À-ÖØ-öø-ÿ/ \\t])\", \" \",text).split())\r\n",
        "#    return \" \".join(re.sub(\"(@[^\\s]+)\", \" \",text).split())\r\n",
        "\r\n",
        "\r\n",
        "#dataset['cleanSentence'] = dataset['cleanSentence'].apply(remove_nums)\r\n",
        "dataset['cleanSentence'] = dataset['cleanSentence'].apply(remove_URL)\r\n",
        "dataset['cleanSentence'] = dataset['cleanSentence'].apply(remove_html)\r\n",
        "dataset['cleanSentence'] = dataset['cleanSentence'].apply(remove_special)\r\n",
        "dataset.head(10)"
      ],
      "execution_count": 32,
      "outputs": [
        {
          "output_type": "execute_result",
          "data": {
            "text/html": [
              "<div>\n",
              "<style scoped>\n",
              "    .dataframe tbody tr th:only-of-type {\n",
              "        vertical-align: middle;\n",
              "    }\n",
              "\n",
              "    .dataframe tbody tr th {\n",
              "        vertical-align: top;\n",
              "    }\n",
              "\n",
              "    .dataframe thead th {\n",
              "        text-align: right;\n",
              "    }\n",
              "</style>\n",
              "<table border=\"1\" class=\"dataframe\">\n",
              "  <thead>\n",
              "    <tr style=\"text-align: right;\">\n",
              "      <th></th>\n",
              "      <th>Sentence</th>\n",
              "      <th>Type</th>\n",
              "      <th>Level</th>\n",
              "      <th>Target</th>\n",
              "      <th>Class</th>\n",
              "      <th>Length</th>\n",
              "      <th>Count</th>\n",
              "      <th>cleanSentence</th>\n",
              "      <th>Emoji</th>\n",
              "    </tr>\n",
              "  </thead>\n",
              "  <tbody>\n",
              "    <tr>\n",
              "      <th>0</th>\n",
              "      <td>T pas Bo 😂😂🥃</td>\n",
              "      <td>Mockery</td>\n",
              "      <td>LOW</td>\n",
              "      <td>USER</td>\n",
              "      <td>1</td>\n",
              "      <td>12</td>\n",
              "      <td>4</td>\n",
              "      <td>t pas bo</td>\n",
              "      <td>[😂, 😂, 🥃]</td>\n",
              "    </tr>\n",
              "    <tr>\n",
              "      <th>1</th>\n",
              "      <td>t’es vilain 😂😂😂😂😂😂</td>\n",
              "      <td>Mockery</td>\n",
              "      <td>LOW</td>\n",
              "      <td>USER</td>\n",
              "      <td>1</td>\n",
              "      <td>18</td>\n",
              "      <td>3</td>\n",
              "      <td>t es vilain</td>\n",
              "      <td>[😂, 😂, 😂, 😂, 😂, 😂]</td>\n",
              "    </tr>\n",
              "    <tr>\n",
              "      <th>2</th>\n",
              "      <td>Je te propose un d'île je m'abonne à ta chaine...</td>\n",
              "      <td>Hate</td>\n",
              "      <td>LOW</td>\n",
              "      <td>USER</td>\n",
              "      <td>1</td>\n",
              "      <td>189</td>\n",
              "      <td>37</td>\n",
              "      <td>je te propose un d île je m abonne à ta chaine...</td>\n",
              "      <td>[]</td>\n",
              "    </tr>\n",
              "    <tr>\n",
              "      <th>3</th>\n",
              "      <td>T un kiko mdr</td>\n",
              "      <td>Insult</td>\n",
              "      <td>LOW</td>\n",
              "      <td>USER</td>\n",
              "      <td>1</td>\n",
              "      <td>13</td>\n",
              "      <td>4</td>\n",
              "      <td>t un kiko mdr</td>\n",
              "      <td>[]</td>\n",
              "    </tr>\n",
              "    <tr>\n",
              "      <th>4</th>\n",
              "      <td>Moi mdr t trop nul</td>\n",
              "      <td>Hate</td>\n",
              "      <td>LOW</td>\n",
              "      <td>USER</td>\n",
              "      <td>1</td>\n",
              "      <td>18</td>\n",
              "      <td>5</td>\n",
              "      <td>moi mdr t trop nul</td>\n",
              "      <td>[]</td>\n",
              "    </tr>\n",
              "    <tr>\n",
              "      <th>5</th>\n",
              "      <td>Ta un mono sourcils 😂</td>\n",
              "      <td>Mockery</td>\n",
              "      <td>LOW</td>\n",
              "      <td>USER</td>\n",
              "      <td>1</td>\n",
              "      <td>21</td>\n",
              "      <td>5</td>\n",
              "      <td>ta un mono sourcils</td>\n",
              "      <td>[😂]</td>\n",
              "    </tr>\n",
              "    <tr>\n",
              "      <th>6</th>\n",
              "      <td>Grosse merdes</td>\n",
              "      <td>Insult</td>\n",
              "      <td>LOW</td>\n",
              "      <td>USER</td>\n",
              "      <td>1</td>\n",
              "      <td>13</td>\n",
              "      <td>2</td>\n",
              "      <td>grosse merdes</td>\n",
              "      <td>[]</td>\n",
              "    </tr>\n",
              "    <tr>\n",
              "      <th>7</th>\n",
              "      <td>espèce de gamin 😂😂</td>\n",
              "      <td>Insult</td>\n",
              "      <td>LOW</td>\n",
              "      <td>USER</td>\n",
              "      <td>1</td>\n",
              "      <td>18</td>\n",
              "      <td>4</td>\n",
              "      <td>espèce de gamin</td>\n",
              "      <td>[😂, 😂]</td>\n",
              "    </tr>\n",
              "    <tr>\n",
              "      <th>8</th>\n",
              "      <td>C'est quoi cette mode ou presque tout les YouT...</td>\n",
              "      <td>Insult</td>\n",
              "      <td>LOW</td>\n",
              "      <td>USER</td>\n",
              "      <td>1</td>\n",
              "      <td>174</td>\n",
              "      <td>37</td>\n",
              "      <td>c est quoi cette mode ou presque tout les yout...</td>\n",
              "      <td>[]</td>\n",
              "    </tr>\n",
              "    <tr>\n",
              "      <th>9</th>\n",
              "      <td>@VittoreMorgane @crdsar et ? il est au dessus ...</td>\n",
              "      <td>Insult</td>\n",
              "      <td>LOW</td>\n",
              "      <td>USER</td>\n",
              "      <td>1</td>\n",
              "      <td>226</td>\n",
              "      <td>42</td>\n",
              "      <td>et il est au dessus des lois je fais des reuni...</td>\n",
              "      <td>[]</td>\n",
              "    </tr>\n",
              "  </tbody>\n",
              "</table>\n",
              "</div>"
            ],
            "text/plain": [
              "                                            Sentence  ...               Emoji\n",
              "0                                       T pas Bo 😂😂🥃  ...           [😂, 😂, 🥃]\n",
              "1                                 t’es vilain 😂😂😂😂😂😂  ...  [😂, 😂, 😂, 😂, 😂, 😂]\n",
              "2  Je te propose un d'île je m'abonne à ta chaine...  ...                  []\n",
              "3                                      T un kiko mdr  ...                  []\n",
              "4                                 Moi mdr t trop nul  ...                  []\n",
              "5                              Ta un mono sourcils 😂  ...                 [😂]\n",
              "6                                      Grosse merdes  ...                  []\n",
              "7                                 espèce de gamin 😂😂  ...              [😂, 😂]\n",
              "8  C'est quoi cette mode ou presque tout les YouT...  ...                  []\n",
              "9  @VittoreMorgane @crdsar et ? il est au dessus ...  ...                  []\n",
              "\n",
              "[10 rows x 9 columns]"
            ]
          },
          "metadata": {
            "tags": []
          },
          "execution_count": 32
        }
      ]
    },
    {
      "cell_type": "code",
      "metadata": {
        "colab": {
          "base_uri": "https://localhost:8080/",
          "height": 353
        },
        "id": "YXlELDUC4mNM",
        "outputId": "8a70b6c5-5b13-4a7e-8a44-efd35ec1859b"
      },
      "source": [
        "#Removing punctuation\r\n",
        "punct =[]\r\n",
        "punct += list(string.punctuation)\r\n",
        "punct += '’'\r\n",
        "punct.remove(\"'\")\r\n",
        "\r\n",
        "def remove_punctuations(text):\r\n",
        "    for punctuation in punct:\r\n",
        "        text = text.replace(punctuation, ' ')\r\n",
        "    return text\r\n",
        "\r\n",
        "dataset['cleanSentence'] = dataset['cleanSentence'].apply(remove_punctuations)\r\n",
        "dataset.head(10)"
      ],
      "execution_count": 33,
      "outputs": [
        {
          "output_type": "execute_result",
          "data": {
            "text/html": [
              "<div>\n",
              "<style scoped>\n",
              "    .dataframe tbody tr th:only-of-type {\n",
              "        vertical-align: middle;\n",
              "    }\n",
              "\n",
              "    .dataframe tbody tr th {\n",
              "        vertical-align: top;\n",
              "    }\n",
              "\n",
              "    .dataframe thead th {\n",
              "        text-align: right;\n",
              "    }\n",
              "</style>\n",
              "<table border=\"1\" class=\"dataframe\">\n",
              "  <thead>\n",
              "    <tr style=\"text-align: right;\">\n",
              "      <th></th>\n",
              "      <th>Sentence</th>\n",
              "      <th>Type</th>\n",
              "      <th>Level</th>\n",
              "      <th>Target</th>\n",
              "      <th>Class</th>\n",
              "      <th>Length</th>\n",
              "      <th>Count</th>\n",
              "      <th>cleanSentence</th>\n",
              "      <th>Emoji</th>\n",
              "    </tr>\n",
              "  </thead>\n",
              "  <tbody>\n",
              "    <tr>\n",
              "      <th>0</th>\n",
              "      <td>T pas Bo 😂😂🥃</td>\n",
              "      <td>Mockery</td>\n",
              "      <td>LOW</td>\n",
              "      <td>USER</td>\n",
              "      <td>1</td>\n",
              "      <td>12</td>\n",
              "      <td>4</td>\n",
              "      <td>t pas bo</td>\n",
              "      <td>[😂, 😂, 🥃]</td>\n",
              "    </tr>\n",
              "    <tr>\n",
              "      <th>1</th>\n",
              "      <td>t’es vilain 😂😂😂😂😂😂</td>\n",
              "      <td>Mockery</td>\n",
              "      <td>LOW</td>\n",
              "      <td>USER</td>\n",
              "      <td>1</td>\n",
              "      <td>18</td>\n",
              "      <td>3</td>\n",
              "      <td>t es vilain</td>\n",
              "      <td>[😂, 😂, 😂, 😂, 😂, 😂]</td>\n",
              "    </tr>\n",
              "    <tr>\n",
              "      <th>2</th>\n",
              "      <td>Je te propose un d'île je m'abonne à ta chaine...</td>\n",
              "      <td>Hate</td>\n",
              "      <td>LOW</td>\n",
              "      <td>USER</td>\n",
              "      <td>1</td>\n",
              "      <td>189</td>\n",
              "      <td>37</td>\n",
              "      <td>je te propose un d île je m abonne à ta chaine...</td>\n",
              "      <td>[]</td>\n",
              "    </tr>\n",
              "    <tr>\n",
              "      <th>3</th>\n",
              "      <td>T un kiko mdr</td>\n",
              "      <td>Insult</td>\n",
              "      <td>LOW</td>\n",
              "      <td>USER</td>\n",
              "      <td>1</td>\n",
              "      <td>13</td>\n",
              "      <td>4</td>\n",
              "      <td>t un kiko mdr</td>\n",
              "      <td>[]</td>\n",
              "    </tr>\n",
              "    <tr>\n",
              "      <th>4</th>\n",
              "      <td>Moi mdr t trop nul</td>\n",
              "      <td>Hate</td>\n",
              "      <td>LOW</td>\n",
              "      <td>USER</td>\n",
              "      <td>1</td>\n",
              "      <td>18</td>\n",
              "      <td>5</td>\n",
              "      <td>moi mdr t trop nul</td>\n",
              "      <td>[]</td>\n",
              "    </tr>\n",
              "    <tr>\n",
              "      <th>5</th>\n",
              "      <td>Ta un mono sourcils 😂</td>\n",
              "      <td>Mockery</td>\n",
              "      <td>LOW</td>\n",
              "      <td>USER</td>\n",
              "      <td>1</td>\n",
              "      <td>21</td>\n",
              "      <td>5</td>\n",
              "      <td>ta un mono sourcils</td>\n",
              "      <td>[😂]</td>\n",
              "    </tr>\n",
              "    <tr>\n",
              "      <th>6</th>\n",
              "      <td>Grosse merdes</td>\n",
              "      <td>Insult</td>\n",
              "      <td>LOW</td>\n",
              "      <td>USER</td>\n",
              "      <td>1</td>\n",
              "      <td>13</td>\n",
              "      <td>2</td>\n",
              "      <td>grosse merdes</td>\n",
              "      <td>[]</td>\n",
              "    </tr>\n",
              "    <tr>\n",
              "      <th>7</th>\n",
              "      <td>espèce de gamin 😂😂</td>\n",
              "      <td>Insult</td>\n",
              "      <td>LOW</td>\n",
              "      <td>USER</td>\n",
              "      <td>1</td>\n",
              "      <td>18</td>\n",
              "      <td>4</td>\n",
              "      <td>espèce de gamin</td>\n",
              "      <td>[😂, 😂]</td>\n",
              "    </tr>\n",
              "    <tr>\n",
              "      <th>8</th>\n",
              "      <td>C'est quoi cette mode ou presque tout les YouT...</td>\n",
              "      <td>Insult</td>\n",
              "      <td>LOW</td>\n",
              "      <td>USER</td>\n",
              "      <td>1</td>\n",
              "      <td>174</td>\n",
              "      <td>37</td>\n",
              "      <td>c est quoi cette mode ou presque tout les yout...</td>\n",
              "      <td>[]</td>\n",
              "    </tr>\n",
              "    <tr>\n",
              "      <th>9</th>\n",
              "      <td>@VittoreMorgane @crdsar et ? il est au dessus ...</td>\n",
              "      <td>Insult</td>\n",
              "      <td>LOW</td>\n",
              "      <td>USER</td>\n",
              "      <td>1</td>\n",
              "      <td>226</td>\n",
              "      <td>42</td>\n",
              "      <td>et il est au dessus des lois je fais des reuni...</td>\n",
              "      <td>[]</td>\n",
              "    </tr>\n",
              "  </tbody>\n",
              "</table>\n",
              "</div>"
            ],
            "text/plain": [
              "                                            Sentence  ...               Emoji\n",
              "0                                       T pas Bo 😂😂🥃  ...           [😂, 😂, 🥃]\n",
              "1                                 t’es vilain 😂😂😂😂😂😂  ...  [😂, 😂, 😂, 😂, 😂, 😂]\n",
              "2  Je te propose un d'île je m'abonne à ta chaine...  ...                  []\n",
              "3                                      T un kiko mdr  ...                  []\n",
              "4                                 Moi mdr t trop nul  ...                  []\n",
              "5                              Ta un mono sourcils 😂  ...                 [😂]\n",
              "6                                      Grosse merdes  ...                  []\n",
              "7                                 espèce de gamin 😂😂  ...              [😂, 😂]\n",
              "8  C'est quoi cette mode ou presque tout les YouT...  ...                  []\n",
              "9  @VittoreMorgane @crdsar et ? il est au dessus ...  ...                  []\n",
              "\n",
              "[10 rows x 9 columns]"
            ]
          },
          "metadata": {
            "tags": []
          },
          "execution_count": 33
        }
      ]
    },
    {
      "cell_type": "code",
      "metadata": {
        "colab": {
          "base_uri": "https://localhost:8080/"
        },
        "id": "fzKXO9qk_DKr",
        "outputId": "cb4c1155-f5b8-4e08-9bfc-21d39861dfe0"
      },
      "source": [
        "#Checking frequent words\r\n",
        "cnt = Counter()\r\n",
        "for text in dataset[\"cleanSentence\"].values:\r\n",
        "    for word in text.split():\r\n",
        "        cnt[word] += 1\r\n",
        "        \r\n",
        "cnt.most_common(20)"
      ],
      "execution_count": 34,
      "outputs": [
        {
          "output_type": "execute_result",
          "data": {
            "text/plain": [
              "[('de', 219669),\n",
              " ('est', 133579),\n",
              " ('la', 130992),\n",
              " ('et', 120552),\n",
              " ('le', 113016),\n",
              " ('les', 106419),\n",
              " ('c', 95209),\n",
              " ('pas', 92356),\n",
              " ('que', 84686),\n",
              " ('je', 80306),\n",
              " ('des', 77276),\n",
              " ('a', 76027),\n",
              " ('un', 75793),\n",
              " ('en', 73365),\n",
              " ('à', 70458),\n",
              " ('il', 67933),\n",
              " ('tu', 65680),\n",
              " ('pour', 61827),\n",
              " ('qui', 58492),\n",
              " ('l', 55957)]"
            ]
          },
          "metadata": {
            "tags": []
          },
          "execution_count": 34
        }
      ]
    },
    {
      "cell_type": "code",
      "metadata": {
        "colab": {
          "base_uri": "https://localhost:8080/",
          "height": 353
        },
        "id": "RG4L5SiL5JNg",
        "outputId": "0b6edee4-b216-44ea-9081-4a737eda67fa"
      },
      "source": [
        "#Removing stopwords\r\n",
        "STOPWORDS = nltk.corpus.stopwords.words('french')\r\n",
        "#STOPWORDS = set(nltk.corpus.stopwords.words('english')) | set(nltk.corpus.stopwords.words('french'))\r\n",
        "\r\n",
        "dataset_wo_stop = dataset.copy()\r\n",
        "\r\n",
        "def remove_stopwords(text):\r\n",
        "    return \" \".join([word for word in str(text).split() if word not in STOPWORDS])\r\n",
        "\r\n",
        "dataset_wo_stop['cleanSentence'] = dataset_wo_stop['cleanSentence'].apply(remove_stopwords)\r\n",
        "dataset_wo_stop.head(10)"
      ],
      "execution_count": 35,
      "outputs": [
        {
          "output_type": "execute_result",
          "data": {
            "text/html": [
              "<div>\n",
              "<style scoped>\n",
              "    .dataframe tbody tr th:only-of-type {\n",
              "        vertical-align: middle;\n",
              "    }\n",
              "\n",
              "    .dataframe tbody tr th {\n",
              "        vertical-align: top;\n",
              "    }\n",
              "\n",
              "    .dataframe thead th {\n",
              "        text-align: right;\n",
              "    }\n",
              "</style>\n",
              "<table border=\"1\" class=\"dataframe\">\n",
              "  <thead>\n",
              "    <tr style=\"text-align: right;\">\n",
              "      <th></th>\n",
              "      <th>Sentence</th>\n",
              "      <th>Type</th>\n",
              "      <th>Level</th>\n",
              "      <th>Target</th>\n",
              "      <th>Class</th>\n",
              "      <th>Length</th>\n",
              "      <th>Count</th>\n",
              "      <th>cleanSentence</th>\n",
              "      <th>Emoji</th>\n",
              "    </tr>\n",
              "  </thead>\n",
              "  <tbody>\n",
              "    <tr>\n",
              "      <th>0</th>\n",
              "      <td>T pas Bo 😂😂🥃</td>\n",
              "      <td>Mockery</td>\n",
              "      <td>LOW</td>\n",
              "      <td>USER</td>\n",
              "      <td>1</td>\n",
              "      <td>12</td>\n",
              "      <td>4</td>\n",
              "      <td>bo</td>\n",
              "      <td>[😂, 😂, 🥃]</td>\n",
              "    </tr>\n",
              "    <tr>\n",
              "      <th>1</th>\n",
              "      <td>t’es vilain 😂😂😂😂😂😂</td>\n",
              "      <td>Mockery</td>\n",
              "      <td>LOW</td>\n",
              "      <td>USER</td>\n",
              "      <td>1</td>\n",
              "      <td>18</td>\n",
              "      <td>3</td>\n",
              "      <td>vilain</td>\n",
              "      <td>[😂, 😂, 😂, 😂, 😂, 😂]</td>\n",
              "    </tr>\n",
              "    <tr>\n",
              "      <th>2</th>\n",
              "      <td>Je te propose un d'île je m'abonne à ta chaine...</td>\n",
              "      <td>Hate</td>\n",
              "      <td>LOW</td>\n",
              "      <td>USER</td>\n",
              "      <td>1</td>\n",
              "      <td>189</td>\n",
              "      <td>37</td>\n",
              "      <td>propose île abonne chaine abonner chaîne youtu...</td>\n",
              "      <td>[]</td>\n",
              "    </tr>\n",
              "    <tr>\n",
              "      <th>3</th>\n",
              "      <td>T un kiko mdr</td>\n",
              "      <td>Insult</td>\n",
              "      <td>LOW</td>\n",
              "      <td>USER</td>\n",
              "      <td>1</td>\n",
              "      <td>13</td>\n",
              "      <td>4</td>\n",
              "      <td>kiko mdr</td>\n",
              "      <td>[]</td>\n",
              "    </tr>\n",
              "    <tr>\n",
              "      <th>4</th>\n",
              "      <td>Moi mdr t trop nul</td>\n",
              "      <td>Hate</td>\n",
              "      <td>LOW</td>\n",
              "      <td>USER</td>\n",
              "      <td>1</td>\n",
              "      <td>18</td>\n",
              "      <td>5</td>\n",
              "      <td>mdr trop nul</td>\n",
              "      <td>[]</td>\n",
              "    </tr>\n",
              "    <tr>\n",
              "      <th>5</th>\n",
              "      <td>Ta un mono sourcils 😂</td>\n",
              "      <td>Mockery</td>\n",
              "      <td>LOW</td>\n",
              "      <td>USER</td>\n",
              "      <td>1</td>\n",
              "      <td>21</td>\n",
              "      <td>5</td>\n",
              "      <td>mono sourcils</td>\n",
              "      <td>[😂]</td>\n",
              "    </tr>\n",
              "    <tr>\n",
              "      <th>6</th>\n",
              "      <td>Grosse merdes</td>\n",
              "      <td>Insult</td>\n",
              "      <td>LOW</td>\n",
              "      <td>USER</td>\n",
              "      <td>1</td>\n",
              "      <td>13</td>\n",
              "      <td>2</td>\n",
              "      <td>grosse merdes</td>\n",
              "      <td>[]</td>\n",
              "    </tr>\n",
              "    <tr>\n",
              "      <th>7</th>\n",
              "      <td>espèce de gamin 😂😂</td>\n",
              "      <td>Insult</td>\n",
              "      <td>LOW</td>\n",
              "      <td>USER</td>\n",
              "      <td>1</td>\n",
              "      <td>18</td>\n",
              "      <td>4</td>\n",
              "      <td>espèce gamin</td>\n",
              "      <td>[😂, 😂]</td>\n",
              "    </tr>\n",
              "    <tr>\n",
              "      <th>8</th>\n",
              "      <td>C'est quoi cette mode ou presque tout les YouT...</td>\n",
              "      <td>Insult</td>\n",
              "      <td>LOW</td>\n",
              "      <td>USER</td>\n",
              "      <td>1</td>\n",
              "      <td>174</td>\n",
              "      <td>37</td>\n",
              "      <td>quoi cette mode presque tout youtubeurs joue j...</td>\n",
              "      <td>[]</td>\n",
              "    </tr>\n",
              "    <tr>\n",
              "      <th>9</th>\n",
              "      <td>@VittoreMorgane @crdsar et ? il est au dessus ...</td>\n",
              "      <td>Insult</td>\n",
              "      <td>LOW</td>\n",
              "      <td>USER</td>\n",
              "      <td>1</td>\n",
              "      <td>226</td>\n",
              "      <td>42</td>\n",
              "      <td>dessus lois fais reunions travail tous jours v...</td>\n",
              "      <td>[]</td>\n",
              "    </tr>\n",
              "  </tbody>\n",
              "</table>\n",
              "</div>"
            ],
            "text/plain": [
              "                                            Sentence  ...               Emoji\n",
              "0                                       T pas Bo 😂😂🥃  ...           [😂, 😂, 🥃]\n",
              "1                                 t’es vilain 😂😂😂😂😂😂  ...  [😂, 😂, 😂, 😂, 😂, 😂]\n",
              "2  Je te propose un d'île je m'abonne à ta chaine...  ...                  []\n",
              "3                                      T un kiko mdr  ...                  []\n",
              "4                                 Moi mdr t trop nul  ...                  []\n",
              "5                              Ta un mono sourcils 😂  ...                 [😂]\n",
              "6                                      Grosse merdes  ...                  []\n",
              "7                                 espèce de gamin 😂😂  ...              [😂, 😂]\n",
              "8  C'est quoi cette mode ou presque tout les YouT...  ...                  []\n",
              "9  @VittoreMorgane @crdsar et ? il est au dessus ...  ...                  []\n",
              "\n",
              "[10 rows x 9 columns]"
            ]
          },
          "metadata": {
            "tags": []
          },
          "execution_count": 35
        }
      ]
    },
    {
      "cell_type": "markdown",
      "metadata": {
        "id": "nCCW0iiCgzHh"
      },
      "source": [
        "### Tokenizing"
      ]
    },
    {
      "cell_type": "markdown",
      "metadata": {
        "id": "fniJxoKShxBl"
      },
      "source": [
        "#### Word tokens"
      ]
    },
    {
      "cell_type": "code",
      "metadata": {
        "colab": {
          "base_uri": "https://localhost:8080/",
          "height": 420
        },
        "id": "jrIhczHgf7QX",
        "outputId": "e0ac8bcc-f1fd-4838-d09d-4ab9b39aebe6"
      },
      "source": [
        "dataset['finalSentence'] = dataset['cleanSentence'].apply(word_tokenize)\r\n",
        "dataset.head(10)"
      ],
      "execution_count": 36,
      "outputs": [
        {
          "output_type": "execute_result",
          "data": {
            "text/html": [
              "<div>\n",
              "<style scoped>\n",
              "    .dataframe tbody tr th:only-of-type {\n",
              "        vertical-align: middle;\n",
              "    }\n",
              "\n",
              "    .dataframe tbody tr th {\n",
              "        vertical-align: top;\n",
              "    }\n",
              "\n",
              "    .dataframe thead th {\n",
              "        text-align: right;\n",
              "    }\n",
              "</style>\n",
              "<table border=\"1\" class=\"dataframe\">\n",
              "  <thead>\n",
              "    <tr style=\"text-align: right;\">\n",
              "      <th></th>\n",
              "      <th>Sentence</th>\n",
              "      <th>Type</th>\n",
              "      <th>Level</th>\n",
              "      <th>Target</th>\n",
              "      <th>Class</th>\n",
              "      <th>Length</th>\n",
              "      <th>Count</th>\n",
              "      <th>cleanSentence</th>\n",
              "      <th>Emoji</th>\n",
              "      <th>finalSentence</th>\n",
              "    </tr>\n",
              "  </thead>\n",
              "  <tbody>\n",
              "    <tr>\n",
              "      <th>0</th>\n",
              "      <td>T pas Bo 😂😂🥃</td>\n",
              "      <td>Mockery</td>\n",
              "      <td>LOW</td>\n",
              "      <td>USER</td>\n",
              "      <td>1</td>\n",
              "      <td>12</td>\n",
              "      <td>4</td>\n",
              "      <td>t pas bo</td>\n",
              "      <td>[😂, 😂, 🥃]</td>\n",
              "      <td>[t, pas, bo]</td>\n",
              "    </tr>\n",
              "    <tr>\n",
              "      <th>1</th>\n",
              "      <td>t’es vilain 😂😂😂😂😂😂</td>\n",
              "      <td>Mockery</td>\n",
              "      <td>LOW</td>\n",
              "      <td>USER</td>\n",
              "      <td>1</td>\n",
              "      <td>18</td>\n",
              "      <td>3</td>\n",
              "      <td>t es vilain</td>\n",
              "      <td>[😂, 😂, 😂, 😂, 😂, 😂]</td>\n",
              "      <td>[t, es, vilain]</td>\n",
              "    </tr>\n",
              "    <tr>\n",
              "      <th>2</th>\n",
              "      <td>Je te propose un d'île je m'abonne à ta chaine...</td>\n",
              "      <td>Hate</td>\n",
              "      <td>LOW</td>\n",
              "      <td>USER</td>\n",
              "      <td>1</td>\n",
              "      <td>189</td>\n",
              "      <td>37</td>\n",
              "      <td>je te propose un d île je m abonne à ta chaine...</td>\n",
              "      <td>[]</td>\n",
              "      <td>[je, te, propose, un, d, île, je, m, abonne, à...</td>\n",
              "    </tr>\n",
              "    <tr>\n",
              "      <th>3</th>\n",
              "      <td>T un kiko mdr</td>\n",
              "      <td>Insult</td>\n",
              "      <td>LOW</td>\n",
              "      <td>USER</td>\n",
              "      <td>1</td>\n",
              "      <td>13</td>\n",
              "      <td>4</td>\n",
              "      <td>t un kiko mdr</td>\n",
              "      <td>[]</td>\n",
              "      <td>[t, un, kiko, mdr]</td>\n",
              "    </tr>\n",
              "    <tr>\n",
              "      <th>4</th>\n",
              "      <td>Moi mdr t trop nul</td>\n",
              "      <td>Hate</td>\n",
              "      <td>LOW</td>\n",
              "      <td>USER</td>\n",
              "      <td>1</td>\n",
              "      <td>18</td>\n",
              "      <td>5</td>\n",
              "      <td>moi mdr t trop nul</td>\n",
              "      <td>[]</td>\n",
              "      <td>[moi, mdr, t, trop, nul]</td>\n",
              "    </tr>\n",
              "    <tr>\n",
              "      <th>5</th>\n",
              "      <td>Ta un mono sourcils 😂</td>\n",
              "      <td>Mockery</td>\n",
              "      <td>LOW</td>\n",
              "      <td>USER</td>\n",
              "      <td>1</td>\n",
              "      <td>21</td>\n",
              "      <td>5</td>\n",
              "      <td>ta un mono sourcils</td>\n",
              "      <td>[😂]</td>\n",
              "      <td>[ta, un, mono, sourcils]</td>\n",
              "    </tr>\n",
              "    <tr>\n",
              "      <th>6</th>\n",
              "      <td>Grosse merdes</td>\n",
              "      <td>Insult</td>\n",
              "      <td>LOW</td>\n",
              "      <td>USER</td>\n",
              "      <td>1</td>\n",
              "      <td>13</td>\n",
              "      <td>2</td>\n",
              "      <td>grosse merdes</td>\n",
              "      <td>[]</td>\n",
              "      <td>[grosse, merdes]</td>\n",
              "    </tr>\n",
              "    <tr>\n",
              "      <th>7</th>\n",
              "      <td>espèce de gamin 😂😂</td>\n",
              "      <td>Insult</td>\n",
              "      <td>LOW</td>\n",
              "      <td>USER</td>\n",
              "      <td>1</td>\n",
              "      <td>18</td>\n",
              "      <td>4</td>\n",
              "      <td>espèce de gamin</td>\n",
              "      <td>[😂, 😂]</td>\n",
              "      <td>[espèce, de, gamin]</td>\n",
              "    </tr>\n",
              "    <tr>\n",
              "      <th>8</th>\n",
              "      <td>C'est quoi cette mode ou presque tout les YouT...</td>\n",
              "      <td>Insult</td>\n",
              "      <td>LOW</td>\n",
              "      <td>USER</td>\n",
              "      <td>1</td>\n",
              "      <td>174</td>\n",
              "      <td>37</td>\n",
              "      <td>c est quoi cette mode ou presque tout les yout...</td>\n",
              "      <td>[]</td>\n",
              "      <td>[c, est, quoi, cette, mode, ou, presque, tout,...</td>\n",
              "    </tr>\n",
              "    <tr>\n",
              "      <th>9</th>\n",
              "      <td>@VittoreMorgane @crdsar et ? il est au dessus ...</td>\n",
              "      <td>Insult</td>\n",
              "      <td>LOW</td>\n",
              "      <td>USER</td>\n",
              "      <td>1</td>\n",
              "      <td>226</td>\n",
              "      <td>42</td>\n",
              "      <td>et il est au dessus des lois je fais des reuni...</td>\n",
              "      <td>[]</td>\n",
              "      <td>[et, il, est, au, dessus, des, lois, je, fais,...</td>\n",
              "    </tr>\n",
              "  </tbody>\n",
              "</table>\n",
              "</div>"
            ],
            "text/plain": [
              "                                            Sentence  ...                                      finalSentence\n",
              "0                                       T pas Bo 😂😂🥃  ...                                       [t, pas, bo]\n",
              "1                                 t’es vilain 😂😂😂😂😂😂  ...                                    [t, es, vilain]\n",
              "2  Je te propose un d'île je m'abonne à ta chaine...  ...  [je, te, propose, un, d, île, je, m, abonne, à...\n",
              "3                                      T un kiko mdr  ...                                 [t, un, kiko, mdr]\n",
              "4                                 Moi mdr t trop nul  ...                           [moi, mdr, t, trop, nul]\n",
              "5                              Ta un mono sourcils 😂  ...                           [ta, un, mono, sourcils]\n",
              "6                                      Grosse merdes  ...                                   [grosse, merdes]\n",
              "7                                 espèce de gamin 😂😂  ...                                [espèce, de, gamin]\n",
              "8  C'est quoi cette mode ou presque tout les YouT...  ...  [c, est, quoi, cette, mode, ou, presque, tout,...\n",
              "9  @VittoreMorgane @crdsar et ? il est au dessus ...  ...  [et, il, est, au, dessus, des, lois, je, fais,...\n",
              "\n",
              "[10 rows x 10 columns]"
            ]
          },
          "metadata": {
            "tags": []
          },
          "execution_count": 36
        }
      ]
    },
    {
      "cell_type": "markdown",
      "metadata": {
        "id": "lFrHeVXehz4u"
      },
      "source": [
        "#### Keras tokens"
      ]
    },
    {
      "cell_type": "code",
      "metadata": {
        "id": "ZTD8XfmAr315"
      },
      "source": [
        "#Tokenizing Text with Keras -> Representing each word by a number\r\n",
        "from tensorflow.keras.preprocessing.text import Tokenizer\r\n",
        "\r\n",
        "tokenizer = Tokenizer(lower=True)\r\n",
        "tokenizer.fit_on_texts(dataset[\"finalSentence\"])\r\n",
        "\r\n",
        "X_tok = tokenizer.texts_to_sequences(dataset[\"finalSentence\"])\r\n"
      ],
      "execution_count": 37,
      "outputs": []
    },
    {
      "cell_type": "code",
      "metadata": {
        "colab": {
          "base_uri": "https://localhost:8080/"
        },
        "id": "sKOba-1ZsD54",
        "outputId": "640d297f-2ffb-46c2-eef1-b6febb8144da"
      },
      "source": [
        "X_tok[0][:10]"
      ],
      "execution_count": 38,
      "outputs": [
        {
          "output_type": "execute_result",
          "data": {
            "text/plain": [
              "[29, 8, 5523]"
            ]
          },
          "metadata": {
            "tags": []
          },
          "execution_count": 38
        }
      ]
    },
    {
      "cell_type": "code",
      "metadata": {
        "colab": {
          "base_uri": "https://localhost:8080/"
        },
        "id": "4KkN9haIsIyS",
        "outputId": "c35e0cc1-b0da-4f4c-b662-a0f05b48efaa"
      },
      "source": [
        "#Lets check few word to numerical representation\r\n",
        "#Mapping is preserved in dictionary -> word_index property of instance\r\n",
        "word_index = tokenizer.word_index\r\n",
        "for word, num in word_index.items():\r\n",
        "    print(\"{} -> {}\".format(word, num))\r\n",
        "    if num == 10:\r\n",
        "        break        "
      ],
      "execution_count": 39,
      "outputs": [
        {
          "output_type": "stream",
          "text": [
            "de -> 1\n",
            "est -> 2\n",
            "la -> 3\n",
            "et -> 4\n",
            "le -> 5\n",
            "les -> 6\n",
            "c -> 7\n",
            "pas -> 8\n",
            "que -> 9\n",
            "je -> 10\n"
          ],
          "name": "stdout"
        }
      ]
    },
    {
      "cell_type": "code",
      "metadata": {
        "colab": {
          "base_uri": "https://localhost:8080/",
          "height": 265
        },
        "id": "hydnGNf8voK6",
        "outputId": "ed3be2a5-e5a9-49a3-ef73-6d74fc4f0baf"
      },
      "source": [
        "# Making histogram for no of words in sentences shows that most news sentences are under 150 words.\r\n",
        "plt.hist([len(x) for x in X_tok], bins=500)\r\n",
        "plt.show()"
      ],
      "execution_count": 40,
      "outputs": [
        {
          "output_type": "display_data",
          "data": {
            "image/png": "[encoded data removed]",
            "text/plain": [
              "<Figure size 432x288 with 1 Axes>"
            ]
          },
          "metadata": {
            "tags": [],
            "needs_background": "light"
          }
        }
      ]
    },
    {
      "cell_type": "code",
      "metadata": {
        "id": "aE8C1Zy6vehv"
      },
      "source": [
        "#Lets keep all sentences to 150, add padding to news with less than 150 words and truncating long ones\r\n",
        "maxlen = 150 \r\n",
        "\r\n",
        "#Making all news of size maxlen defined above, padding with 0 when needed\r\n",
        "X_tok = pad_sequences(X_tok, maxlen=maxlen)"
      ],
      "execution_count": 41,
      "outputs": []
    },
    {
      "cell_type": "code",
      "metadata": {
        "id": "JM7s1fIevK9U"
      },
      "source": [
        "# Embedding Layer used in Keras creates one more vector for \"UNKNOWN\" words, or padded words (0s). This Vector is filled with zeros.\r\n",
        "# Thus our vocab size inceeases by 1\r\n",
        "vocab_size = len(tokenizer.word_index) + 1"
      ],
      "execution_count": 42,
      "outputs": []
    },
    {
      "cell_type": "code",
      "metadata": {
        "colab": {
          "base_uri": "https://localhost:8080/"
        },
        "id": "5kw6-vlUxZEJ",
        "outputId": "446a00a0-b67a-405a-9e90-02aab95cd8bd"
      },
      "source": [
        "y = dataset[\"Level\"]\r\n",
        "\r\n",
        "# encode class values as integers\r\n",
        "encoder = LabelEncoder()\r\n",
        "encoder.fit(y)\r\n",
        "encoded_y = encoder.transform(y)\r\n",
        "print(y)"
      ],
      "execution_count": 43,
      "outputs": [
        {
          "output_type": "stream",
          "text": [
            "0          LOW\n",
            "1          LOW\n",
            "2          LOW\n",
            "3          LOW\n",
            "4          LOW\n",
            "          ... \n",
            "394588    NONE\n",
            "394589    NONE\n",
            "394590    NONE\n",
            "394591    NONE\n",
            "394592    NONE\n",
            "Name: Level, Length: 394593, dtype: object\n"
          ],
          "name": "stdout"
        }
      ]
    },
    {
      "cell_type": "code",
      "metadata": {
        "colab": {
          "base_uri": "https://localhost:8080/"
        },
        "id": "SODKAAZoY1qF",
        "outputId": "3a7ef0e2-c0fd-46be-d0b9-943403674835"
      },
      "source": [
        "labels_mapping = dict(zip(encoder.classes_,encoder.transform(encoder.classes_)))\r\n",
        "labels_mapping"
      ],
      "execution_count": 44,
      "outputs": [
        {
          "output_type": "execute_result",
          "data": {
            "text/plain": [
              "{'HIGH': 0, 'LOW': 1, 'MEDIUM': 2, 'NONE': 3, 'VERY_HIGH': 4}"
            ]
          },
          "metadata": {
            "tags": []
          },
          "execution_count": 44
        }
      ]
    },
    {
      "cell_type": "code",
      "metadata": {
        "id": "Cqi0ddr1rGTb"
      },
      "source": [
        "# convert integers to dummy variables (i.e. one hot encoded)\r\n",
        "dummy_y = np_utils.to_categorical(encoded_y)"
      ],
      "execution_count": 45,
      "outputs": []
    },
    {
      "cell_type": "code",
      "metadata": {
        "id": "Kp6g2CJGwVPh"
      },
      "source": [
        "X_train_tok, X_test_tok, y_train_tok, y_test_tok = train_test_split(X_tok, dummy_y, test_size = 0.2) "
      ],
      "execution_count": 46,
      "outputs": []
    },
    {
      "cell_type": "markdown",
      "metadata": {
        "id": "rrHkXM9KXCTh"
      },
      "source": [
        "### Creating final datasets"
      ]
    },
    {
      "cell_type": "code",
      "metadata": {
        "colab": {
          "base_uri": "https://localhost:8080/",
          "height": 733
        },
        "id": "xxhbDZNtXExc",
        "outputId": "5fca5b37-5ec4-417a-90c8-1345aada2708"
      },
      "source": [
        "#Keeping only 60k neutral examples\r\n",
        "\r\n",
        "remove_n = len(dataset[dataset.Class == 0]) - 60000\r\n",
        "neutralIndices = dataset[dataset.Class == 0].index\r\n",
        "drop_indices = np.random.choice(neutralIndices, remove_n)\r\n",
        "short_dataset = dataset.drop(index = drop_indices)\r\n",
        "short_dataset"
      ],
      "execution_count": null,
      "outputs": [
        {
          "output_type": "execute_result",
          "data": {
            "text/html": [
              "<div>\n",
              "<style scoped>\n",
              "    .dataframe tbody tr th:only-of-type {\n",
              "        vertical-align: middle;\n",
              "    }\n",
              "\n",
              "    .dataframe tbody tr th {\n",
              "        vertical-align: top;\n",
              "    }\n",
              "\n",
              "    .dataframe thead th {\n",
              "        text-align: right;\n",
              "    }\n",
              "</style>\n",
              "<table border=\"1\" class=\"dataframe\">\n",
              "  <thead>\n",
              "    <tr style=\"text-align: right;\">\n",
              "      <th></th>\n",
              "      <th>Sentence</th>\n",
              "      <th>Type</th>\n",
              "      <th>Level</th>\n",
              "      <th>Target</th>\n",
              "      <th>Class</th>\n",
              "      <th>Length</th>\n",
              "      <th>Count</th>\n",
              "      <th>cleanSentence</th>\n",
              "      <th>Emoji</th>\n",
              "      <th>finalSentence</th>\n",
              "    </tr>\n",
              "  </thead>\n",
              "  <tbody>\n",
              "    <tr>\n",
              "      <th>0</th>\n",
              "      <td>T pas Bo 😂😂🥃</td>\n",
              "      <td>Mockery</td>\n",
              "      <td>LOW</td>\n",
              "      <td>USER</td>\n",
              "      <td>1</td>\n",
              "      <td>12</td>\n",
              "      <td>4</td>\n",
              "      <td>t pas bo</td>\n",
              "      <td>[😂, 😂, 🥃]</td>\n",
              "      <td>[t, pas, bo]</td>\n",
              "    </tr>\n",
              "    <tr>\n",
              "      <th>1</th>\n",
              "      <td>t’es vilain 😂😂😂😂😂😂</td>\n",
              "      <td>Mockery</td>\n",
              "      <td>LOW</td>\n",
              "      <td>USER</td>\n",
              "      <td>1</td>\n",
              "      <td>18</td>\n",
              "      <td>3</td>\n",
              "      <td>tes vilain</td>\n",
              "      <td>[😂, 😂, 😂, 😂, 😂, 😂]</td>\n",
              "      <td>[tes, vilain]</td>\n",
              "    </tr>\n",
              "    <tr>\n",
              "      <th>2</th>\n",
              "      <td>Je te propose un d'île je m'abonne à ta chaine...</td>\n",
              "      <td>Hate</td>\n",
              "      <td>LOW</td>\n",
              "      <td>USER</td>\n",
              "      <td>1</td>\n",
              "      <td>189</td>\n",
              "      <td>37</td>\n",
              "      <td>je te propose un d le je m abonne ta chaine et...</td>\n",
              "      <td>[]</td>\n",
              "      <td>[je, te, propose, un, d, le, je, m, abonne, ta...</td>\n",
              "    </tr>\n",
              "    <tr>\n",
              "      <th>3</th>\n",
              "      <td>T un kiko mdr</td>\n",
              "      <td>Insult</td>\n",
              "      <td>LOW</td>\n",
              "      <td>USER</td>\n",
              "      <td>1</td>\n",
              "      <td>13</td>\n",
              "      <td>4</td>\n",
              "      <td>t un kiko mdr</td>\n",
              "      <td>[]</td>\n",
              "      <td>[t, un, kiko, mdr]</td>\n",
              "    </tr>\n",
              "    <tr>\n",
              "      <th>4</th>\n",
              "      <td>Moi mdr t trop nul</td>\n",
              "      <td>Hate</td>\n",
              "      <td>LOW</td>\n",
              "      <td>USER</td>\n",
              "      <td>1</td>\n",
              "      <td>18</td>\n",
              "      <td>5</td>\n",
              "      <td>moi mdr t trop nul</td>\n",
              "      <td>[]</td>\n",
              "      <td>[moi, mdr, t, trop, nul]</td>\n",
              "    </tr>\n",
              "    <tr>\n",
              "      <th>...</th>\n",
              "      <td>...</td>\n",
              "      <td>...</td>\n",
              "      <td>...</td>\n",
              "      <td>...</td>\n",
              "      <td>...</td>\n",
              "      <td>...</td>\n",
              "      <td>...</td>\n",
              "      <td>...</td>\n",
              "      <td>...</td>\n",
              "      <td>...</td>\n",
              "    </tr>\n",
              "    <tr>\n",
              "      <th>394581</th>\n",
              "      <td>Puis le divorce n était pas accecible comme au...</td>\n",
              "      <td>Neutral</td>\n",
              "      <td>NONE</td>\n",
              "      <td>UNDEFINED</td>\n",
              "      <td>0</td>\n",
              "      <td>677</td>\n",
              "      <td>132</td>\n",
              "      <td>puis le divorce n tait pas accecible comme auj...</td>\n",
              "      <td>[]</td>\n",
              "      <td>[puis, le, divorce, n, tait, pas, accecible, c...</td>\n",
              "    </tr>\n",
              "    <tr>\n",
              "      <th>394584</th>\n",
              "      <td>@franceinfo Elle en sait quelque chose @nadine...</td>\n",
              "      <td>Neutral</td>\n",
              "      <td>NONE</td>\n",
              "      <td>UNDEFINED</td>\n",
              "      <td>0</td>\n",
              "      <td>58</td>\n",
              "      <td>8</td>\n",
              "      <td>elle en sait quelque chose morano</td>\n",
              "      <td>[🤭, 😁, 😁]</td>\n",
              "      <td>[elle, en, sait, quelque, chose, morano]</td>\n",
              "    </tr>\n",
              "    <tr>\n",
              "      <th>394587</th>\n",
              "      <td>@NicolasCatard @IntelFrance le mien il a deja ...</td>\n",
              "      <td>Neutral</td>\n",
              "      <td>NONE</td>\n",
              "      <td>UNDEFINED</td>\n",
              "      <td>0</td>\n",
              "      <td>109</td>\n",
              "      <td>17</td>\n",
              "      <td>le mien il a deja 4 ans je participe avec plai...</td>\n",
              "      <td>[]</td>\n",
              "      <td>[le, mien, il, a, deja, 4, ans, je, participe,...</td>\n",
              "    </tr>\n",
              "    <tr>\n",
              "      <th>394588</th>\n",
              "      <td>@studiosushi @Chitori_Bocchi evangelionnnnnnnn...</td>\n",
              "      <td>Neutral</td>\n",
              "      <td>NONE</td>\n",
              "      <td>UNDEFINED</td>\n",
              "      <td>0</td>\n",
              "      <td>67</td>\n",
              "      <td>3</td>\n",
              "      <td>bocchi evangelionnnnnnnnnnnnnnnnnnnnnnnnnnnnn</td>\n",
              "      <td>[]</td>\n",
              "      <td>[bocchi, evangelionnnnnnnnnnnnnnnnnnnnnnnnnnnnn]</td>\n",
              "    </tr>\n",
              "    <tr>\n",
              "      <th>394591</th>\n",
              "      <td>venez on fait l' aphalbet</td>\n",
              "      <td>Neutral</td>\n",
              "      <td>NONE</td>\n",
              "      <td>UNDEFINED</td>\n",
              "      <td>0</td>\n",
              "      <td>25</td>\n",
              "      <td>5</td>\n",
              "      <td>venez on fait l aphalbet</td>\n",
              "      <td>[]</td>\n",
              "      <td>[venez, on, fait, l, aphalbet]</td>\n",
              "    </tr>\n",
              "  </tbody>\n",
              "</table>\n",
              "<p>293958 rows × 10 columns</p>\n",
              "</div>"
            ],
            "text/plain": [
              "                                                 Sentence  ...                                      finalSentence\n",
              "0                                            T pas Bo 😂😂🥃  ...                                       [t, pas, bo]\n",
              "1                                      t’es vilain 😂😂😂😂😂😂  ...                                      [tes, vilain]\n",
              "2       Je te propose un d'île je m'abonne à ta chaine...  ...  [je, te, propose, un, d, le, je, m, abonne, ta...\n",
              "3                                           T un kiko mdr  ...                                 [t, un, kiko, mdr]\n",
              "4                                      Moi mdr t trop nul  ...                           [moi, mdr, t, trop, nul]\n",
              "...                                                   ...  ...                                                ...\n",
              "394581  Puis le divorce n était pas accecible comme au...  ...  [puis, le, divorce, n, tait, pas, accecible, c...\n",
              "394584  @franceinfo Elle en sait quelque chose @nadine...  ...           [elle, en, sait, quelque, chose, morano]\n",
              "394587  @NicolasCatard @IntelFrance le mien il a deja ...  ...  [le, mien, il, a, deja, 4, ans, je, participe,...\n",
              "394588  @studiosushi @Chitori_Bocchi evangelionnnnnnnn...  ...   [bocchi, evangelionnnnnnnnnnnnnnnnnnnnnnnnnnnnn]\n",
              "394591                          venez on fait l' aphalbet  ...                     [venez, on, fait, l, aphalbet]\n",
              "\n",
              "[293958 rows x 10 columns]"
            ]
          },
          "metadata": {
            "tags": []
          },
          "execution_count": 39
        }
      ]
    },
    {
      "cell_type": "code",
      "metadata": {
        "colab": {
          "base_uri": "https://localhost:8080/",
          "height": 371
        },
        "id": "0y6xZqjPdU8B",
        "outputId": "45c8de4f-51e8-4e8a-8742-4a7e6a3f78b4"
      },
      "source": [
        "plt.figure(figsize=(20,5))\r\n",
        "chart = sns.countplot(\"Level\", data=short_dataset)\r\n",
        "chart.set_xticklabels(chart.get_xticklabels(), rotation=45)\r\n",
        "plt.show()"
      ],
      "execution_count": null,
      "outputs": [
        {
          "output_type": "display_data",
          "data": {
            "image/png": "[encoded data removed]",
            "text/plain": [
              "<Figure size 1440x360 with 1 Axes>"
            ]
          },
          "metadata": {
            "tags": [],
            "needs_background": "light"
          }
        }
      ]
    },
    {
      "cell_type": "code",
      "metadata": {
        "colab": {
          "base_uri": "https://localhost:8080/",
          "height": 201
        },
        "id": "8RlOkx_BWgJ1",
        "outputId": "53e49bd8-ce3b-450b-ead8-ec5ebcf0ae3f"
      },
      "source": [
        "simpleDataset = short_dataset[['cleanSentence', 'Level']].copy()\r\n",
        "simpleDataset.head()"
      ],
      "execution_count": null,
      "outputs": [
        {
          "output_type": "execute_result",
          "data": {
            "text/html": [
              "<div>\n",
              "<style scoped>\n",
              "    .dataframe tbody tr th:only-of-type {\n",
              "        vertical-align: middle;\n",
              "    }\n",
              "\n",
              "    .dataframe tbody tr th {\n",
              "        vertical-align: top;\n",
              "    }\n",
              "\n",
              "    .dataframe thead th {\n",
              "        text-align: right;\n",
              "    }\n",
              "</style>\n",
              "<table border=\"1\" class=\"dataframe\">\n",
              "  <thead>\n",
              "    <tr style=\"text-align: right;\">\n",
              "      <th></th>\n",
              "      <th>cleanSentence</th>\n",
              "      <th>Level</th>\n",
              "    </tr>\n",
              "  </thead>\n",
              "  <tbody>\n",
              "    <tr>\n",
              "      <th>0</th>\n",
              "      <td>t pas bo</td>\n",
              "      <td>LOW</td>\n",
              "    </tr>\n",
              "    <tr>\n",
              "      <th>1</th>\n",
              "      <td>tes vilain</td>\n",
              "      <td>LOW</td>\n",
              "    </tr>\n",
              "    <tr>\n",
              "      <th>2</th>\n",
              "      <td>je te propose un d le je m abonne ta chaine et...</td>\n",
              "      <td>LOW</td>\n",
              "    </tr>\n",
              "    <tr>\n",
              "      <th>3</th>\n",
              "      <td>t un kiko mdr</td>\n",
              "      <td>LOW</td>\n",
              "    </tr>\n",
              "    <tr>\n",
              "      <th>4</th>\n",
              "      <td>moi mdr t trop nul</td>\n",
              "      <td>LOW</td>\n",
              "    </tr>\n",
              "  </tbody>\n",
              "</table>\n",
              "</div>"
            ],
            "text/plain": [
              "                                       cleanSentence Level\n",
              "0                                           t pas bo   LOW\n",
              "1                                         tes vilain   LOW\n",
              "2  je te propose un d le je m abonne ta chaine et...   LOW\n",
              "3                                      t un kiko mdr   LOW\n",
              "4                                 moi mdr t trop nul   LOW"
            ]
          },
          "metadata": {
            "tags": []
          },
          "execution_count": 41
        }
      ]
    },
    {
      "cell_type": "code",
      "metadata": {
        "colab": {
          "base_uri": "https://localhost:8080/"
        },
        "id": "9B6CLOJzevWb",
        "outputId": "8195b8a1-34d3-4fe6-ae25-27067147a1bb"
      },
      "source": [
        "simpleTrain, simpleTest = train_test_split(simpleDataset, test_size=0.2)\r\n",
        "print(simpleTrain.shape, simpleTest.shape)"
      ],
      "execution_count": null,
      "outputs": [
        {
          "output_type": "stream",
          "text": [
            "(235166, 2) (58792, 2)\n"
          ],
          "name": "stdout"
        }
      ]
    },
    {
      "cell_type": "markdown",
      "metadata": {
        "id": "ozaKwx_Mg1QT"
      },
      "source": [
        "# Vectorization"
      ]
    },
    {
      "cell_type": "code",
      "metadata": {
        "id": "BKsA4Y1SIadq"
      },
      "source": [
        "EMBEDDING_DIM = 200"
      ],
      "execution_count": 47,
      "outputs": []
    },
    {
      "cell_type": "code",
      "metadata": {
        "id": "HmQ5fwfZrTm4"
      },
      "source": [
        "# Function to create weight matrix between word-index and vectors from gensim models\r\n",
        "def get_weight_matrix(model, vocab):\r\n",
        "    # total vocabulary size plus 0 for unknown words\r\n",
        "    vocab_size = len(vocab) + 1\r\n",
        "    # define weight matrix dimensions with all 0\r\n",
        "    weight_matrix = np.zeros((vocab_size, EMBEDDING_DIM))\r\n",
        "    # step vocab, store vectors using the Tokenizer's integer mapping\r\n",
        "    for word, i in vocab.items():\r\n",
        "        try: \r\n",
        "          weight_matrix[i] = model[word]\r\n",
        "        except:\r\n",
        "          pass\r\n",
        "    return weight_matrix"
      ],
      "execution_count": 48,
      "outputs": []
    },
    {
      "cell_type": "markdown",
      "metadata": {
        "id": "2s44cyQtT_hR"
      },
      "source": [
        "### Via TF-IDF"
      ]
    },
    {
      "cell_type": "code",
      "metadata": {
        "id": "4hKnYMuggUc0"
      },
      "source": [
        "X_simpleTrain = simpleTrain['cleanSentence'].to_numpy()\r\n",
        "y_simpleTrain = simpleTrain['Level'].to_numpy()\r\n",
        "\r\n",
        "X_simpleTest = simpleTest['cleanSentence'].to_numpy()\r\n",
        "y_simpleTest = simpleTest['Level'].to_numpy()"
      ],
      "execution_count": null,
      "outputs": []
    },
    {
      "cell_type": "code",
      "metadata": {
        "id": "ezYjTb5nUIQ3"
      },
      "source": [
        "from sklearn.feature_extraction.text import TfidfVectorizer\r\n",
        "\r\n",
        "vectorizer = TfidfVectorizer()\r\n",
        "X_simpleTrain_tfidf = vectorizer.fit_transform(X_simpleTrain)\r\n",
        "X_simpleTest_tfidf = vectorizer.transform(X_simpleTest)"
      ],
      "execution_count": null,
      "outputs": []
    },
    {
      "cell_type": "code",
      "metadata": {
        "colab": {
          "base_uri": "https://localhost:8080/"
        },
        "id": "MSJP3FXQUKtO",
        "outputId": "63aa33d7-f266-4eb6-fd8b-050c717675d0"
      },
      "source": [
        "X_simpleTrain_tfidf.shape"
      ],
      "execution_count": null,
      "outputs": [
        {
          "output_type": "execute_result",
          "data": {
            "text/plain": [
              "(235371, 88162)"
            ]
          },
          "metadata": {
            "tags": []
          },
          "execution_count": 38
        }
      ]
    },
    {
      "cell_type": "code",
      "metadata": {
        "colab": {
          "base_uri": "https://localhost:8080/"
        },
        "id": "wO9JMTHfUQNY",
        "outputId": "d8084a92-4c33-4b62-9909-d93443558b61"
      },
      "source": [
        "X_simpleTrain[:10]"
      ],
      "execution_count": null,
      "outputs": [
        {
          "output_type": "execute_result",
          "data": {
            "text/plain": [
              "array(['une chvre mme le pen ferait mieux',\n",
              "       'euphmisme heureusement que des initiatives d interpellation de fr sont menes mukwege drmukwege',\n",
              "       'dj il faut tre fire de ce que vous tes et ne pas dire femme de couleur mais femme noire tout simplement',\n",
              "       'rponse rapide finance123loans com vous tes a la recherche de prt pour soit relancer vos activits soit pour la ralisation d un projet soit pour vous achetez un appartement mais hlas la banque vous pose assez de conditions dont vous tes incapables plus de soucis je mets la disposition de tout dsirants des crdits personnels allant de 2000 jusqu 10 000 000 avec un taux d intrt allant de 3 en fonction du montant demand veuillez nous prciser dans votre demande de prt le montant exact et la dure de remboursement que vous souhaiteriez pour que je puisse vous satisfaire avec prcision et le plus rapidement possible',\n",
              "       'petit con', 'c une michto ta copine',\n",
              "       'automode la con de ta mre arrte toi', 'niquer tous vos grand mre',\n",
              "       'mais il est srieux lui de redirig la faute sur les gens qui sont bouts qui sont dans la merde et qui ne sont pas couts c est de leur faute c est pas de la faute de les laisser dans la merde peut tre',\n",
              "       'mdr que a fait du bien de rire dans ce monde de fous'],\n",
              "      dtype=object)"
            ]
          },
          "metadata": {
            "tags": []
          },
          "execution_count": 39
        }
      ]
    },
    {
      "cell_type": "code",
      "metadata": {
        "colab": {
          "base_uri": "https://localhost:8080/"
        },
        "id": "fmHlaHzDUZbg",
        "outputId": "0a04acde-1cdf-4199-c0e9-3a628ff875f8"
      },
      "source": [
        "y_simpleTrain[:10]"
      ],
      "execution_count": null,
      "outputs": [
        {
          "output_type": "execute_result",
          "data": {
            "text/plain": [
              "array(['HIGH', 'NONE', 'MEDIUM', 'HIGH', 'NONE', 'HIGH', 'HIGH',\n",
              "       'VERY_HIGH', 'MEDIUM', 'HIGH'], dtype=object)"
            ]
          },
          "metadata": {
            "tags": []
          },
          "execution_count": 39
        }
      ]
    },
    {
      "cell_type": "markdown",
      "metadata": {
        "id": "piZ9OkN2H7bX"
      },
      "source": [
        "### Via FastText"
      ]
    },
    {
      "cell_type": "code",
      "metadata": {
        "id": "Ej1ryePRH6hc"
      },
      "source": [
        "fasttext_model = gensim.models.FastText(sentences=dataset[\"finalSentence\"], size=EMBEDDING_DIM, window=5, min_count=5)"
      ],
      "execution_count": 50,
      "outputs": []
    },
    {
      "cell_type": "code",
      "metadata": {
        "colab": {
          "base_uri": "https://localhost:8080/"
        },
        "id": "GGCKRGZLI_8y",
        "outputId": "4c9fc377-d9d0-4efb-e46b-2553ce921f20"
      },
      "source": [
        "len(fasttext_model.wv.vocab)"
      ],
      "execution_count": 51,
      "outputs": [
        {
          "output_type": "execute_result",
          "data": {
            "text/plain": [
              "36297"
            ]
          },
          "metadata": {
            "tags": []
          },
          "execution_count": 51
        }
      ]
    },
    {
      "cell_type": "code",
      "metadata": {
        "colab": {
          "base_uri": "https://localhost:8080/"
        },
        "id": "UFVfRDOpKjT7",
        "outputId": "89c65992-c113-41f8-d027-fa8c8447e3ce"
      },
      "source": [
        "fasttext_model.wv[\"merde\"]"
      ],
      "execution_count": 52,
      "outputs": [
        {
          "output_type": "execute_result",
          "data": {
            "text/plain": [
              "array([ 1.28277254e+00,  2.37815356e+00,  5.41421592e-01, -3.97268504e-01,\n",
              "        3.64808589e-01, -1.97345388e+00, -1.30945504e+00,  4.55946982e-01,\n",
              "        1.97585416e+00,  2.32089579e-01,  2.41845608e+00,  7.88552165e-01,\n",
              "        1.46034014e+00,  1.19476938e+00,  1.39157438e+00,  1.28285086e+00,\n",
              "        9.52229381e-01,  2.74617076e-01, -2.01065958e-01,  4.26023394e-01,\n",
              "        1.87982190e+00, -9.90394175e-01, -3.32589436e+00,  2.06895304e+00,\n",
              "        1.99276078e+00, -7.38700986e-01, -8.75100851e-01, -2.62912917e+00,\n",
              "       -1.14301793e-01,  1.55689871e+00,  8.96778464e-01, -1.54684866e-02,\n",
              "        1.72944307e+00,  1.80163562e+00,  1.98262596e+00,  2.38149866e-01,\n",
              "        1.22910571e+00,  1.63723499e-01, -5.27954221e-01, -3.71727490e+00,\n",
              "       -1.38495553e+00, -7.82626450e-01,  1.65324569e+00, -4.36282009e-02,\n",
              "       -6.67426288e-01,  1.63421437e-01, -1.21430421e+00, -6.31466985e-01,\n",
              "       -1.91856551e+00,  3.34578156e-01, -3.95928645e+00, -8.34798038e-01,\n",
              "        6.91828579e-02,  1.52114704e-01,  4.04774964e-01, -7.30460063e-02,\n",
              "       -1.60420883e+00, -1.63162315e+00,  2.00076118e-01, -1.25489116e+00,\n",
              "        2.42822933e+00, -1.93734735e-01, -2.41404080e+00, -2.19951081e+00,\n",
              "        3.52224231e-01, -8.29080164e-01,  8.14641416e-01,  4.76124436e-01,\n",
              "        1.90203500e+00,  1.97647914e-01,  1.51557589e+00,  3.09253344e-03,\n",
              "        1.46800780e+00, -2.65527201e+00, -7.68472493e-01, -1.03023005e+00,\n",
              "        3.45725918e+00, -2.24429578e-01,  1.66400766e+00,  1.57092047e+00,\n",
              "        1.44446433e-01,  1.64337412e-01,  1.39454991e-01,  1.51129925e+00,\n",
              "       -8.96398485e-01,  4.05131698e-01,  1.42302644e+00, -3.89381260e-01,\n",
              "        5.23388326e-01,  5.05568743e-01,  2.18413401e+00, -8.27921271e-01,\n",
              "        1.30845094e+00, -8.79869878e-01, -4.88263220e-01,  1.57394838e+00,\n",
              "        1.52985585e+00, -1.37209046e+00,  4.39418167e-01, -1.02139235e-01,\n",
              "       -3.04700685e+00, -1.62617230e+00, -5.77672958e-01,  1.06249261e+00,\n",
              "       -4.13020897e+00,  1.99211761e-01,  6.61070585e-01,  1.88637936e+00,\n",
              "       -2.77792478e+00,  1.29637492e+00, -7.19113469e-01,  5.88113904e-01,\n",
              "        7.76538432e-01,  3.95836473e+00,  2.07785678e+00, -4.00843143e+00,\n",
              "        6.51598275e-01, -1.07187927e+00, -2.12148714e+00,  1.45789742e+00,\n",
              "       -6.42887771e-01, -6.11714900e-01, -2.26416528e-01,  3.50565934e+00,\n",
              "        2.83788562e+00,  1.27841806e+00, -4.15742189e-01, -1.96885884e+00,\n",
              "        1.09014523e+00,  6.12371445e-01,  1.95251212e-01,  4.91227120e-01,\n",
              "        1.76896024e+00,  1.82352871e-01, -4.37090993e-01, -9.68467116e-01,\n",
              "        1.73562038e+00, -9.71851945e-01,  1.47543383e+00, -1.24367321e+00,\n",
              "        2.88834810e+00, -5.14981389e-01,  1.86095881e+00,  4.32750404e-01,\n",
              "        9.65328634e-01, -5.42951584e-01,  1.53620386e+00, -8.13991845e-01,\n",
              "        4.64809388e-01,  1.61127579e+00,  1.81302476e+00,  2.52351403e-01,\n",
              "        1.72717357e+00,  3.47039819e+00, -2.20147276e+00, -1.54895711e+00,\n",
              "        4.12863716e-02, -2.05683661e+00, -7.77532518e-01,  1.42044663e+00,\n",
              "        2.02941000e-01, -4.34380323e-01,  3.71956378e-01,  7.05593050e-01,\n",
              "        7.23349869e-01, -2.24114656e+00, -7.59991482e-02, -1.77553371e-01,\n",
              "       -7.57499993e-01,  3.14666182e-01,  6.89717472e-01, -2.47061357e-01,\n",
              "       -5.55033386e-01,  1.23731315e+00, -5.77236056e-01,  1.87140727e+00,\n",
              "       -1.27879572e+00,  1.10346055e+00,  1.24436557e+00,  2.84467530e+00,\n",
              "        1.60476282e-01,  1.59946311e+00, -4.70003176e+00,  5.76773643e-01,\n",
              "        5.23449957e-01,  5.78480884e-02, -8.07603002e-01,  1.05093944e+00,\n",
              "        1.94653392e+00, -4.70921785e-01, -4.64956671e-01, -2.12792540e+00,\n",
              "       -3.65417480e+00, -1.91462135e+00,  7.65331209e-01,  1.60015440e+00,\n",
              "        6.50377870e-01,  4.23329681e-01, -4.81701702e-01,  7.85631180e-01],\n",
              "      dtype=float32)"
            ]
          },
          "metadata": {
            "tags": []
          },
          "execution_count": 52
        }
      ]
    },
    {
      "cell_type": "code",
      "metadata": {
        "id": "QMZ8oX-dYz2_",
        "colab": {
          "base_uri": "https://localhost:8080/"
        },
        "outputId": "c704676a-0e1d-49d2-8b28-2118bce4f0d9"
      },
      "source": [
        "print(fasttext_model.wv.most_similar(\"merde\"))"
      ],
      "execution_count": 53,
      "outputs": [
        {
          "output_type": "stream",
          "text": [
            "[('merdebfmmerde', 0.9705947637557983), ('merdeee', 0.9597932696342468), ('dmerde', 0.9513048529624939), ('bfmerde', 0.9463177919387817), ('merdeeee', 0.9382055997848511), ('lamerde', 0.9356496930122375), ('merdeu', 0.9343056082725525), ('emerde', 0.9300199747085571), ('merddd', 0.926791787147522), ('merd', 0.9161005020141602)]\n"
          ],
          "name": "stdout"
        }
      ]
    },
    {
      "cell_type": "code",
      "metadata": {
        "id": "wHwEi-UOOT32"
      },
      "source": [
        "ft_embedding_vectors = get_weight_matrix(fasttext_model, word_index)"
      ],
      "execution_count": 54,
      "outputs": []
    },
    {
      "cell_type": "markdown",
      "metadata": {
        "id": "2Z4YMuBiptx8"
      },
      "source": [
        "### Via Word2Vec"
      ]
    },
    {
      "cell_type": "code",
      "metadata": {
        "id": "dY54k6TXpzW0"
      },
      "source": [
        "w2v_model = gensim.models.Word2Vec(sentences=dataset[\"finalSentence\"], size=EMBEDDING_DIM, window=5, min_count=5)"
      ],
      "execution_count": 49,
      "outputs": []
    },
    {
      "cell_type": "code",
      "metadata": {
        "colab": {
          "base_uri": "https://localhost:8080/"
        },
        "id": "DkCvkXjpqmVi",
        "outputId": "ccf42647-3b1d-4819-d7bb-4a23ed3ed1d3"
      },
      "source": [
        "len(w2v_model.wv.vocab)"
      ],
      "execution_count": 50,
      "outputs": [
        {
          "output_type": "execute_result",
          "data": {
            "text/plain": [
              "36605"
            ]
          },
          "metadata": {
            "tags": []
          },
          "execution_count": 50
        }
      ]
    },
    {
      "cell_type": "code",
      "metadata": {
        "colab": {
          "base_uri": "https://localhost:8080/"
        },
        "id": "4xNMpfpQquyt",
        "outputId": "a7d05bb8-3729-4738-a219-afbfd9d352ed"
      },
      "source": [
        "w2v_model[\"merde\"]"
      ],
      "execution_count": 51,
      "outputs": [
        {
          "output_type": "execute_result",
          "data": {
            "text/plain": [
              "array([-0.44167414, -0.57466024,  1.3229734 , -0.8138429 ,  0.7389031 ,\n",
              "       -1.046623  ,  2.1426883 , -0.47184685,  1.4757396 , -2.4019508 ,\n",
              "       -1.8502212 , -0.9009774 ,  2.3653831 , -1.403554  ,  1.5912931 ,\n",
              "       -1.3716445 ,  2.4951086 ,  1.2120715 , -0.08946671,  0.01827973,\n",
              "        0.29409784, -1.9760131 ,  0.22887214,  0.7250679 ,  0.5397885 ,\n",
              "       -0.64699244, -2.2272108 , -0.1081611 , -1.7487895 ,  0.85025674,\n",
              "        0.916776  ,  1.964579  , -1.6468168 , -1.2373204 ,  1.0139377 ,\n",
              "       -0.23523009, -1.1258075 ,  1.5997359 ,  2.1710234 ,  0.6162649 ,\n",
              "       -0.92634887,  3.0964432 , -2.2388763 ,  0.79962194, -0.01949489,\n",
              "       -1.2615734 , -1.1920958 , -0.8548928 ,  0.39548522, -2.2880988 ,\n",
              "        2.547163  ,  1.7059351 ,  1.0158545 , -0.21936503, -2.611934  ,\n",
              "       -0.07522841, -0.08792974,  1.9504817 ,  2.428722  , -0.42266917,\n",
              "        1.957506  , -1.2184954 ,  1.8075904 , -0.78605986, -0.31870306,\n",
              "        0.481328  , -2.6158316 , -0.02298287, -0.57275474, -0.14525235,\n",
              "        1.8818655 ,  1.3869383 , -0.7271119 ,  1.1650287 , -1.7842205 ,\n",
              "        2.2045846 ,  1.0276437 , -1.4937223 , -0.23187147, -1.1838603 ,\n",
              "       -1.1889124 ,  0.8996359 , -0.78637964, -0.5987966 , -0.4252464 ,\n",
              "        0.6754358 , -0.6459306 , -0.78429   ,  1.1653264 ,  0.95338756,\n",
              "       -1.5578376 ,  1.8292329 , -2.1082926 ,  0.34405276,  2.511042  ,\n",
              "        1.4743968 , -1.4171233 , -0.7731966 ,  0.4224356 ,  1.2041051 ,\n",
              "       -1.591299  ,  0.51510054, -0.08300519,  0.26925334,  0.06156649,\n",
              "       -1.4767805 ,  1.8913673 , -1.5777602 ,  0.62617457,  0.8971278 ,\n",
              "       -1.4483463 ,  0.6203203 , -0.5328735 , -1.5212146 , -2.3018172 ,\n",
              "       -0.6420694 , -1.6619054 , -0.8474306 ,  0.8296181 ,  0.0967497 ,\n",
              "       -1.9895209 ,  0.8978937 ,  2.1932173 , -0.7233342 ,  1.3297056 ,\n",
              "       -0.267585  , -1.9528526 ,  0.88760763, -2.5517185 , -2.3543625 ,\n",
              "       -0.43154728,  0.14797646,  4.539083  , -0.18623531, -1.0545205 ,\n",
              "       -1.5328461 , -1.5907061 ,  0.28751183, -1.2241635 , -1.4691559 ,\n",
              "       -2.1331298 ,  2.015388  , -3.1562307 ,  0.6921466 , -1.531538  ,\n",
              "        1.8678646 ,  0.4274583 ,  1.2898444 , -2.1713586 ,  1.4888711 ,\n",
              "       -0.5901861 , -2.1840665 ,  1.4645394 ,  1.1134956 , -0.8510934 ,\n",
              "        0.89903075, -3.379006  ,  1.7652138 ,  1.7177366 ,  0.08256792,\n",
              "        3.057037  , -1.2581254 ,  0.6391918 , -3.8408263 , -0.01254896,\n",
              "       -0.7637039 ,  0.76415896,  0.2670391 ,  2.3777282 , -1.1406515 ,\n",
              "       -2.67565   ,  1.7529292 ,  1.1220934 ,  2.547185  ,  1.2606292 ,\n",
              "        1.1959703 ,  1.468836  , -1.5209712 , -1.6908033 , -0.24660552,\n",
              "        2.4533367 ,  1.650235  ,  2.256027  ,  0.79192066,  2.0693734 ,\n",
              "        2.3721623 ,  1.3741838 , -0.8921724 , -1.7118592 ,  2.8420372 ,\n",
              "       -1.7433087 ,  0.66989803, -0.13505892, -2.1742203 ,  0.09532806,\n",
              "       -0.27586383,  1.8417639 ,  0.46217358, -0.12228781,  2.330336  ],\n",
              "      dtype=float32)"
            ]
          },
          "metadata": {
            "tags": []
          },
          "execution_count": 51
        }
      ]
    },
    {
      "cell_type": "code",
      "metadata": {
        "colab": {
          "base_uri": "https://localhost:8080/"
        },
        "id": "rDanO3mLahyh",
        "outputId": "14380e4e-9566-4b5a-baa5-4176585fae41"
      },
      "source": [
        "print(w2v_model.wv.most_similar(\"merde\"))"
      ],
      "execution_count": 52,
      "outputs": [
        {
          "output_type": "stream",
          "text": [
            "[('mrd', 0.5406033992767334), ('merdes', 0.5210213661193848), ('daube', 0.5146381258964539), ('vermine', 0.4651830792427063), ('merd', 0.4461911916732788), ('faute', 0.4217475652694702), ('bouse', 0.41559603810310364), ('chimio', 0.4036428928375244), ('m3rde', 0.3944900929927826), ('racaille', 0.3916143774986267)]\n"
          ],
          "name": "stdout"
        }
      ]
    },
    {
      "cell_type": "code",
      "metadata": {
        "id": "JzgJF6ZNrOeu"
      },
      "source": [
        "w2v_embedding_vectors = get_weight_matrix(w2v_model, word_index)"
      ],
      "execution_count": 53,
      "outputs": []
    },
    {
      "cell_type": "markdown",
      "metadata": {
        "id": "WW3thk7ZhJCN"
      },
      "source": [
        "### Via FastText Pretrained vectors"
      ]
    },
    {
      "cell_type": "code",
      "metadata": {
        "id": "3fMZr6WlIbcI"
      },
      "source": [
        "!pip install fasttext"
      ],
      "execution_count": null,
      "outputs": []
    },
    {
      "cell_type": "code",
      "metadata": {
        "id": "T4XWOOWkJFvt"
      },
      "source": [
        "import fasttext.util\r\n",
        "fasttext.util.download_model('fr', if_exists='ignore')\r\n",
        "ft = fasttext.load_model('cc.fr.300.bin')"
      ],
      "execution_count": null,
      "outputs": []
    },
    {
      "cell_type": "code",
      "metadata": {
        "id": "iiFQEqChI7Fu"
      },
      "source": [
        "ft.get_dimension()"
      ],
      "execution_count": null,
      "outputs": []
    },
    {
      "cell_type": "code",
      "metadata": {
        "id": "_vmCmZfHI9lR"
      },
      "source": [
        "#Optional - reduce vectors dimensions\r\n",
        "#fasttext.util.reduce_model(ft, 100)\r\n",
        "#ft.get_dimension()"
      ],
      "execution_count": null,
      "outputs": []
    },
    {
      "cell_type": "code",
      "metadata": {
        "id": "0gpfTsNwg3W4"
      },
      "source": [
        "#!wget https://dl.fbaipublicfiles.com/fasttext/vectors-crawl/cc.fr.300.vec.gz"
      ],
      "execution_count": null,
      "outputs": []
    },
    {
      "cell_type": "markdown",
      "metadata": {
        "id": "L-rZ6HRxhLbc"
      },
      "source": [
        "### Via Universal Sentence Encoder"
      ]
    },
    {
      "cell_type": "code",
      "metadata": {
        "id": "qUODqxTvqk8m"
      },
      "source": [
        ""
      ],
      "execution_count": null,
      "outputs": []
    },
    {
      "cell_type": "code",
      "metadata": {
        "id": "d_GOUSRjhLmv"
      },
      "source": [
        ""
      ],
      "execution_count": null,
      "outputs": []
    },
    {
      "cell_type": "markdown",
      "metadata": {
        "id": "jEOaK143g2l8"
      },
      "source": [
        "# Modelization"
      ]
    },
    {
      "cell_type": "markdown",
      "metadata": {
        "id": "t3FH6JWZ94-o"
      },
      "source": [
        "## Baseline - Prediction based on sentence only"
      ]
    },
    {
      "cell_type": "markdown",
      "metadata": {
        "id": "_M5So0RyU0Mt"
      },
      "source": [
        "### Via SVM (Baseline)"
      ]
    },
    {
      "cell_type": "code",
      "metadata": {
        "id": "vq7yauB8gtRz"
      },
      "source": [
        "from sklearn.svm import SVC\r\n",
        "\r\n",
        "linear_svm_classifier_tfidf = SVC(kernel = \"linear\").fit(X_simpleTrain_tfidf,y_simpleTrain)"
      ],
      "execution_count": null,
      "outputs": []
    },
    {
      "cell_type": "code",
      "metadata": {
        "id": "H5aSQZfWhAV4"
      },
      "source": [
        "train_acc_svm = metrics.accuracy_score(y_simpleTrain, linear_svm_classifier_tfidf.predict(X_simpleTrain_tfidf))\r\n",
        "print(\"Training accuracy: \", train_acc_svm)"
      ],
      "execution_count": null,
      "outputs": []
    },
    {
      "cell_type": "code",
      "metadata": {
        "id": "9hTLHKVghIWo"
      },
      "source": [
        "predictions_svm_tfidf = linear_svm_classifier_tfidf.predict(X_simpleTest_tfidf)\r\n",
        "print(predictions_svm_tfidf)"
      ],
      "execution_count": null,
      "outputs": []
    },
    {
      "cell_type": "code",
      "metadata": {
        "id": "vc2zDuJ9hKM0"
      },
      "source": [
        "print(classification_report(y_simpleTest, predictions_svm_tfidf))"
      ],
      "execution_count": null,
      "outputs": []
    },
    {
      "cell_type": "markdown",
      "metadata": {
        "id": "6ft6SuWREXNn"
      },
      "source": [
        "### Via Perspective API"
      ]
    },
    {
      "cell_type": "code",
      "metadata": {
        "id": "1FPt-7H9U7M5"
      },
      "source": [
        ""
      ],
      "execution_count": null,
      "outputs": []
    },
    {
      "cell_type": "markdown",
      "metadata": {
        "id": "lg78VPsFFfEG"
      },
      "source": [
        "### Via FastText"
      ]
    },
    {
      "cell_type": "code",
      "metadata": {
        "id": "uT7XWKfHM7_C"
      },
      "source": [
        "label_mapping = {'NONE': '__label__0',\r\n",
        "                     'LOW': '__label__1',\r\n",
        "                     'MEDIUM': '__label__2',\r\n",
        "                     'HIGH': '__label__3',\r\n",
        "                     'VERY_HIGH': '__label__4'}"
      ],
      "execution_count": null,
      "outputs": []
    },
    {
      "cell_type": "code",
      "metadata": {
        "id": "GEPUoOQnRYuN"
      },
      "source": [
        "#np.savetxt(r'Model_training_data.txt', dataset.values, fmt='%d')"
      ],
      "execution_count": null,
      "outputs": []
    },
    {
      "cell_type": "code",
      "metadata": {
        "id": "kKbn1gYhhGhd"
      },
      "source": [
        "#model = fasttext.train_supervised(input=train_fn,\r\n",
        "#                                  pretrainedVectors=pretrainedvec_fn,\r\n",
        "#                                  dim=300, \r\n",
        "#                                  wordNgrams=2, \r\n",
        "#                                  minCount=3, \r\n",
        "#                                  epoch=20, \r\n",
        "#                                  loss='ova')"
      ],
      "execution_count": null,
      "outputs": []
    },
    {
      "cell_type": "markdown",
      "metadata": {
        "id": "ow16_dTjTQzA"
      },
      "source": [
        "### Via Bi-LSTM"
      ]
    },
    {
      "cell_type": "code",
      "metadata": {
        "id": "Fz_DxfoLTSZ5",
        "colab": {
          "base_uri": "https://localhost:8080/"
        },
        "outputId": "61b7a9a4-1616-4206-9cec-2c0b421e64ca"
      },
      "source": [
        "#Defining Neural Network\r\n",
        "lstm_model = Sequential()\r\n",
        "#Non-trainable embeddidng layer\r\n",
        "lstm_model.add(Embedding(vocab_size, output_dim=EMBEDDING_DIM, weights=[w2v_embedding_vectors], input_length=maxlen, trainable=False))\r\n",
        "#LSTM \r\n",
        "#lstm_model.add(LSTM(units=128, dropout=0.2, recurrent_dropout=0.2, return_sequences=False))\r\n",
        "#Bi-LSTM\r\n",
        "lstm_model.add(Bidirectional(LSTM(units=128, dropout=0.2, recurrent_dropout=0.2, return_sequences=False)))\r\n",
        "lstm_model.add(Dense(EMBEDDING_DIM, activation='relu'))\r\n",
        "lstm_model.add(Dense(5, activation='softmax'))\r\n",
        "lstm_model.compile(optimizer='adam', loss='categorical_crossentropy', metrics=['acc'])"
      ],
      "execution_count": 54,
      "outputs": [
        {
          "output_type": "stream",
          "text": [
            "WARNING:tensorflow:From /tensorflow-1.15.2/python3.7/tensorflow_core/python/keras/initializers.py:119: calling RandomUniform.__init__ (from tensorflow.python.ops.init_ops) with dtype is deprecated and will be removed in a future version.\n",
            "Instructions for updating:\n",
            "Call initializer instance with the dtype argument instead of passing it to the constructor\n",
            "WARNING:tensorflow:From /tensorflow-1.15.2/python3.7/tensorflow_core/python/ops/resource_variable_ops.py:1630: calling BaseResourceVariable.__init__ (from tensorflow.python.ops.resource_variable_ops) with constraint is deprecated and will be removed in a future version.\n",
            "Instructions for updating:\n",
            "If using Keras pass *_constraint arguments to layers.\n",
            "WARNING:tensorflow:From /tensorflow-1.15.2/python3.7/tensorflow_core/python/ops/init_ops.py:97: calling GlorotUniform.__init__ (from tensorflow.python.ops.init_ops) with dtype is deprecated and will be removed in a future version.\n",
            "Instructions for updating:\n",
            "Call initializer instance with the dtype argument instead of passing it to the constructor\n",
            "WARNING:tensorflow:From /tensorflow-1.15.2/python3.7/tensorflow_core/python/ops/init_ops.py:97: calling Orthogonal.__init__ (from tensorflow.python.ops.init_ops) with dtype is deprecated and will be removed in a future version.\n",
            "Instructions for updating:\n",
            "Call initializer instance with the dtype argument instead of passing it to the constructor\n",
            "WARNING:tensorflow:From /tensorflow-1.15.2/python3.7/tensorflow_core/python/ops/init_ops.py:97: calling Zeros.__init__ (from tensorflow.python.ops.init_ops) with dtype is deprecated and will be removed in a future version.\n",
            "Instructions for updating:\n",
            "Call initializer instance with the dtype argument instead of passing it to the constructor\n"
          ],
          "name": "stdout"
        }
      ]
    },
    {
      "cell_type": "code",
      "metadata": {
        "colab": {
          "base_uri": "https://localhost:8080/"
        },
        "id": "WgiChQkZv8Sn",
        "outputId": "eb8bfa27-77c0-485a-ec1a-97f8ae846d33"
      },
      "source": [
        "lstm_model.summary()"
      ],
      "execution_count": 55,
      "outputs": [
        {
          "output_type": "stream",
          "text": [
            "Model: \"sequential\"\n",
            "_________________________________________________________________\n",
            "Layer (type)                 Output Shape              Param #   \n",
            "=================================================================\n",
            "embedding (Embedding)        (None, 150, 200)          26505600  \n",
            "_________________________________________________________________\n",
            "bidirectional (Bidirectional (None, 256)               336896    \n",
            "_________________________________________________________________\n",
            "dense (Dense)                (None, 200)               51400     \n",
            "_________________________________________________________________\n",
            "dense_1 (Dense)              (None, 5)                 1005      \n",
            "=================================================================\n",
            "Total params: 26,894,901\n",
            "Trainable params: 389,301\n",
            "Non-trainable params: 26,505,600\n",
            "_________________________________________________________________\n"
          ],
          "name": "stdout"
        }
      ]
    },
    {
      "cell_type": "code",
      "metadata": {
        "colab": {
          "base_uri": "https://localhost:8080/"
        },
        "id": "RCFq97Qtv8V2",
        "outputId": "9681e044-67cf-423b-8b0f-93c056df9550"
      },
      "source": [
        "early_stopping_callback_loss = tf.keras.callbacks.EarlyStopping(monitor = 'loss', patience = 1)\r\n",
        "early_stopping_callback_val_loss = tf.keras.callbacks.EarlyStopping(monitor = 'val_loss', patience = 1)\r\n",
        "\r\n",
        "lstm_history = lstm_model.fit(X_train_tok, y_train_tok, validation_split=0.2, epochs=4, \\\r\n",
        "                         callbacks = [early_stopping_callback_loss, early_stopping_callback_val_loss], verbose=1)"
      ],
      "execution_count": null,
      "outputs": [
        {
          "output_type": "stream",
          "text": [
            "WARNING:tensorflow:From /tensorflow-1.15.2/python3.7/tensorflow_core/python/ops/math_grad.py:1424: where (from tensorflow.python.ops.array_ops) is deprecated and will be removed in a future version.\n",
            "Instructions for updating:\n",
            "Use tf.where in 2.0, which has the same broadcast rule as np.where\n",
            "Train on 252539 samples, validate on 63135 samples\n",
            "Epoch 1/4\n",
            "252539/252539 [==============================] - 2944s 12ms/sample - loss: 0.7124 - acc: 0.7486 - val_loss: 0.5740 - val_acc: 0.7992\n",
            "Epoch 2/4\n",
            "252539/252539 [==============================] - 2949s 12ms/sample - loss: 0.5649 - acc: 0.8035 - val_loss: 0.5072 - val_acc: 0.8272\n",
            "Epoch 3/4\n",
            "216800/252539 [========================>.....] - ETA: 6:42 - loss: 0.5143 - acc: 0.8220"
          ],
          "name": "stdout"
        }
      ]
    },
    {
      "cell_type": "code",
      "metadata": {
        "id": "hzfbNZB0v8YG"
      },
      "source": [
        "plt.plot(lstm_history.history['loss'])\r\n",
        "plt.plot(lstm_history.history['val_loss'])\r\n",
        "plt.title('model train vs validation accuracy')\r\n",
        "plt.ylabel('accuracy')\r\n",
        "plt.xlabel('epoch')\r\n",
        "plt.legend(['train', 'validation'], loc='upper right')\r\n",
        "plt.show()"
      ],
      "execution_count": null,
      "outputs": []
    },
    {
      "cell_type": "code",
      "metadata": {
        "id": "mLfelR5B0cTr"
      },
      "source": [
        "lstm_pred = (lstm_model.predict(X_test_tok) >= 0.5).astype(\"int\")"
      ],
      "execution_count": null,
      "outputs": []
    },
    {
      "cell_type": "code",
      "metadata": {
        "id": "Y23-MEiB0kEw"
      },
      "source": [
        "print(classification_report(y_test_tok, lstm_pred))"
      ],
      "execution_count": null,
      "outputs": []
    },
    {
      "cell_type": "code",
      "metadata": {
        "id": "Lv2Ly7jR0kOm"
      },
      "source": [
        "conf_matrix = confusion_matrix(y_test_tok.argmax(axis=1), lstm_pred.argmax(axis=1))\r\n",
        "print(conf_matrix)"
      ],
      "execution_count": null,
      "outputs": []
    },
    {
      "cell_type": "code",
      "metadata": {
        "id": "6FpCR_v-y1QC"
      },
      "source": [
        "sns.heatmap(conf_matrix/np.sum(conf_matrix), annot=True)"
      ],
      "execution_count": null,
      "outputs": []
    },
    {
      "cell_type": "code",
      "metadata": {
        "id": "WvQ7VyZPZ4CN"
      },
      "source": [
        "#lstm_model.save(\"BiLSTM\")"
      ],
      "execution_count": null,
      "outputs": []
    },
    {
      "cell_type": "markdown",
      "metadata": {
        "id": "GM0W372-g6Ps"
      },
      "source": [
        "### Via CamemBERT"
      ]
    },
    {
      "cell_type": "markdown",
      "metadata": {
        "id": "ULAfGlizkeap"
      },
      "source": [
        "==> https://www.kaggle.com/houssemayed/camembert-for-french-tweets-classification"
      ]
    },
    {
      "cell_type": "code",
      "metadata": {
        "id": "n-xa5hZTEcHW"
      },
      "source": [
        "!pip install transformers\r\n",
        "from transformers import CamembertTokenizer, CamembertForSequenceClassification\r\n",
        "from transformers import AdamW\r\n",
        "import torch\r\n",
        "\r\n",
        "MAX_LEN = 128\r\n",
        "\r\n",
        "# Initialize CamemBERT tokenizer\r\n",
        "cam_tokenizer = CamembertTokenizer.from_pretrained('camembert-base',do_lower_case=True)\r\n",
        "\r\n",
        "# Creates list of texts and labels\r\n",
        "text = dataset['cleanSentence'].to_list()\r\n",
        "labels = dataset['Level'].to_list()\r\n",
        "\r\n",
        "#user tokenizer to convert sentences into tokenizer\r\n",
        "input_ids  = [cam_tokenizer.encode(sent,add_special_tokens=True,max_length=MAX_LEN) for sent in text]\r\n",
        "\r\n",
        "# Pad our input tokens\r\n",
        "input_ids = pad_sequences(input_ids, maxlen=MAX_LEN, dtype=\"long\", truncating=\"post\", padding=\"post\")\r\n",
        "\r\n",
        "# Create attention masks\r\n",
        "attention_masks = []\r\n",
        "# Create a mask of 1s for each token followed by 0s for padding\r\n",
        "for seq in input_ids:\r\n",
        "    seq_mask = [float(i>0) for i in seq]  \r\n",
        "    attention_masks.append(seq_mask)\r\n"
      ],
      "execution_count": null,
      "outputs": []
    },
    {
      "cell_type": "markdown",
      "metadata": {
        "id": "xg9BPpNP-SNf"
      },
      "source": [
        "## Next stage - Prediction based on sentence + target"
      ]
    },
    {
      "cell_type": "markdown",
      "metadata": {
        "id": "HljFS_HREff1"
      },
      "source": [
        "### Via Perspective API"
      ]
    },
    {
      "cell_type": "code",
      "metadata": {
        "id": "mj7zVeMsEhGR"
      },
      "source": [
        ""
      ],
      "execution_count": null,
      "outputs": []
    },
    {
      "cell_type": "markdown",
      "metadata": {
        "id": "g6gK0vzf-nxC"
      },
      "source": [
        "### Via FastText"
      ]
    },
    {
      "cell_type": "code",
      "metadata": {
        "id": "_egkFgr_-uji"
      },
      "source": [
        ""
      ],
      "execution_count": null,
      "outputs": []
    },
    {
      "cell_type": "markdown",
      "metadata": {
        "id": "MmRBo2g-TewA"
      },
      "source": [
        "### Via Bi-LSTM"
      ]
    },
    {
      "cell_type": "code",
      "metadata": {
        "id": "9nI7XX-MTgWQ"
      },
      "source": [
        ""
      ],
      "execution_count": null,
      "outputs": []
    },
    {
      "cell_type": "markdown",
      "metadata": {
        "id": "xNKcn5xX-rlr"
      },
      "source": [
        "### Via CamemBERT"
      ]
    },
    {
      "cell_type": "code",
      "metadata": {
        "id": "FQneD41q-t1d"
      },
      "source": [
        ""
      ],
      "execution_count": null,
      "outputs": []
    },
    {
      "cell_type": "markdown",
      "metadata": {
        "id": "37GrdUuV9sbJ"
      },
      "source": [
        "# Target prediction"
      ]
    },
    {
      "cell_type": "markdown",
      "metadata": {
        "id": "zH90z4b2LOWI"
      },
      "source": [
        "### By training a classifier based on current \"Target\" label?"
      ]
    },
    {
      "cell_type": "code",
      "metadata": {
        "id": "NkWNVJnoLT8l"
      },
      "source": [
        ""
      ],
      "execution_count": null,
      "outputs": []
    },
    {
      "cell_type": "markdown",
      "metadata": {
        "id": "4YXHZJngLC9X"
      },
      "source": [
        "### Via semantic role labeling ?"
      ]
    },
    {
      "cell_type": "code",
      "metadata": {
        "id": "EtbLaF1P92mp"
      },
      "source": [
        ""
      ],
      "execution_count": null,
      "outputs": []
    },
    {
      "cell_type": "markdown",
      "metadata": {
        "id": "D2o-ZiqvL9Xz"
      },
      "source": [
        "### Via lexical features analysis ?"
      ]
    },
    {
      "cell_type": "code",
      "metadata": {
        "id": "KRhlmH4DMBCk"
      },
      "source": [
        ""
      ],
      "execution_count": null,
      "outputs": []
    },
    {
      "cell_type": "markdown",
      "metadata": {
        "id": "ce_rtrfuLww8"
      },
      "source": [
        "### Via modified Aspect-Based Sentiment Analysis ?"
      ]
    },
    {
      "cell_type": "code",
      "metadata": {
        "id": "mPR93c2ZL2EC"
      },
      "source": [
        ""
      ],
      "execution_count": null,
      "outputs": []
    },
    {
      "cell_type": "markdown",
      "metadata": {
        "id": "tMoNvZr0Lmlj"
      },
      "source": [
        "# Data augmentation"
      ]
    },
    {
      "cell_type": "markdown",
      "metadata": {
        "id": "yJ_7SvHGLo5x"
      },
      "source": [
        "### Via Google Translate"
      ]
    },
    {
      "cell_type": "code",
      "metadata": {
        "id": "A9swQCYJLrNz"
      },
      "source": [
        ""
      ],
      "execution_count": null,
      "outputs": []
    }
  ]
}