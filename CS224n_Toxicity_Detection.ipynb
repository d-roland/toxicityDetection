{
  "nbformat": 4,
  "nbformat_minor": 0,
  "metadata": {
    "accelerator": "GPU",
    "colab": {
      "name": "CS224n - Toxicity Detection.ipynb",
      "provenance": [],
      "collapsed_sections": [],
      "toc_visible": true,
      "include_colab_link": true
    },
    "kernelspec": {
      "display_name": "Python 3",
      "name": "python3"
    }
  },
  "cells": [
    {
      "cell_type": "markdown",
      "metadata": {
        "id": "view-in-github",
        "colab_type": "text"
      },
      "source": [
        "<a href=\"https://colab.research.google.com/github/d-roland/toxicityDetection/blob/main/CS224n_Toxicity_Detection.ipynb\" target=\"_parent\"><img src=\"https://colab.research.google.com/assets/colab-badge.svg\" alt=\"Open In Colab\"/></a>"
      ]
    },
    {
      "cell_type": "code",
      "metadata": {
        "id": "ZOQTeOTVz-3H"
      },
      "source": [
        "%tensorflow_version 2.x"
      ],
      "execution_count": 1,
      "outputs": []
    },
    {
      "cell_type": "code",
      "metadata": {
        "colab": {
          "base_uri": "https://localhost:8080/"
        },
        "id": "BjomWJOn0Fss",
        "outputId": "4a3188a2-2456-4f94-9a2a-5e50df305521"
      },
      "source": [
        "import warnings\r\n",
        "warnings.filterwarnings('ignore')\r\n",
        "import pandas as pd\r\n",
        "import matplotlib.pyplot as plt\r\n",
        "import numpy as np\r\n",
        "import seaborn as sns\r\n",
        "import re\r\n",
        "import csv\r\n",
        "from tqdm import tqdm, trange\r\n",
        "from collections import Counter, defaultdict\r\n",
        "from wordcloud import WordCloud\r\n",
        "import string\r\n",
        "import nltk\r\n",
        "from nltk import sent_tokenize\r\n",
        "from nltk import word_tokenize\r\n",
        "nltk.download(\"stopwords\")\r\n",
        "nltk.download('wordnet')\r\n",
        "nltk.download('punkt')\r\n",
        "import gensim\r\n",
        "import tensorflow as tf\r\n",
        "import tensorflow_hub as hub\r\n",
        "from tensorflow import keras\r\n",
        "from tensorflow.keras.preprocessing.text import Tokenizer\r\n",
        "from tensorflow.keras.preprocessing.sequence import pad_sequences\r\n",
        "from tensorflow.keras.models import Sequential\r\n",
        "from tensorflow.keras import layers\r\n",
        "from tensorflow.keras.layers import Input, Dense, Embedding, LSTM, Bidirectional, Concatenate, concatenate\r\n",
        "from sklearn.model_selection import train_test_split\r\n",
        "from sklearn.metrics import classification_report, accuracy_score, confusion_matrix, plot_confusion_matrix\r\n",
        "from sklearn import metrics\r\n",
        "from sklearn.cluster import KMeans, MiniBatchKMeans\r\n",
        "from sklearn.preprocessing import LabelEncoder\r\n",
        "from keras.utils import np_utils\r\n",
        "from datetime import datetime\r\n",
        "from statistics import mean\r\n",
        "import random\r\n",
        "import datetime\r\n",
        "import time"
      ],
      "execution_count": 2,
      "outputs": [
        {
          "output_type": "stream",
          "text": [
            "[nltk_data] Downloading package stopwords to /root/nltk_data...\n",
            "[nltk_data]   Unzipping corpora/stopwords.zip.\n",
            "[nltk_data] Downloading package wordnet to /root/nltk_data...\n",
            "[nltk_data]   Unzipping corpora/wordnet.zip.\n",
            "[nltk_data] Downloading package punkt to /root/nltk_data...\n",
            "[nltk_data]   Unzipping tokenizers/punkt.zip.\n"
          ],
          "name": "stdout"
        }
      ]
    },
    {
      "cell_type": "code",
      "metadata": {
        "colab": {
          "base_uri": "https://localhost:8080/"
        },
        "id": "MudTLuET0Ind",
        "outputId": "f351f498-11e7-4680-9d68-70d26d15753b"
      },
      "source": [
        "\r\n",
        "from google.colab import auth\r\n",
        "from oauth2client.client import GoogleCredentials\r\n",
        "from google.colab import drive\r\n",
        "drive.mount('/content/drive')"
      ],
      "execution_count": 3,
      "outputs": [
        {
          "output_type": "stream",
          "text": [
            "Mounted at /content/drive\n"
          ],
          "name": "stdout"
        }
      ]
    },
    {
      "cell_type": "markdown",
      "metadata": {
        "id": "tRJsw0iKwn1k"
      },
      "source": [
        "# Data Preparation"
      ]
    },
    {
      "cell_type": "markdown",
      "metadata": {
        "id": "lyhTQGRYcN9A"
      },
      "source": [
        "### Loading and merging datasets"
      ]
    },
    {
      "cell_type": "code",
      "metadata": {
        "colab": {
          "base_uri": "https://localhost:8080/"
        },
        "id": "CgkfEV9j0LlI",
        "outputId": "53ca494b-e396-4af5-f655-eeaec53a82e6"
      },
      "source": [
        "colnames=['Sentence', 'Type', 'Level', 'Target'] \r\n",
        "hateful = pd.read_csv('/content/drive/My Drive/CS224n_Project/Hatefuls.csv', names=colnames, header=None)\r\n",
        "hateful.shape"
      ],
      "execution_count": 4,
      "outputs": [
        {
          "output_type": "execute_result",
          "data": {
            "text/plain": [
              "(194593, 4)"
            ]
          },
          "metadata": {
            "tags": []
          },
          "execution_count": 4
        }
      ]
    },
    {
      "cell_type": "code",
      "metadata": {
        "colab": {
          "base_uri": "https://localhost:8080/",
          "height": 170
        },
        "id": "Z09cJAHG04NG",
        "outputId": "729dba6c-11ec-41ad-e71d-9845ed7ad4f0"
      },
      "source": [
        "hateful.describe()"
      ],
      "execution_count": 5,
      "outputs": [
        {
          "output_type": "execute_result",
          "data": {
            "text/html": [
              "<div>\n",
              "<style scoped>\n",
              "    .dataframe tbody tr th:only-of-type {\n",
              "        vertical-align: middle;\n",
              "    }\n",
              "\n",
              "    .dataframe tbody tr th {\n",
              "        vertical-align: top;\n",
              "    }\n",
              "\n",
              "    .dataframe thead th {\n",
              "        text-align: right;\n",
              "    }\n",
              "</style>\n",
              "<table border=\"1\" class=\"dataframe\">\n",
              "  <thead>\n",
              "    <tr style=\"text-align: right;\">\n",
              "      <th></th>\n",
              "      <th>Sentence</th>\n",
              "      <th>Type</th>\n",
              "      <th>Level</th>\n",
              "      <th>Target</th>\n",
              "    </tr>\n",
              "  </thead>\n",
              "  <tbody>\n",
              "    <tr>\n",
              "      <th>count</th>\n",
              "      <td>194572</td>\n",
              "      <td>194593</td>\n",
              "      <td>194593</td>\n",
              "      <td>194593</td>\n",
              "    </tr>\n",
              "    <tr>\n",
              "      <th>unique</th>\n",
              "      <td>63324</td>\n",
              "      <td>14</td>\n",
              "      <td>4</td>\n",
              "      <td>6</td>\n",
              "    </tr>\n",
              "    <tr>\n",
              "      <th>top</th>\n",
              "      <td>tg</td>\n",
              "      <td>Insult</td>\n",
              "      <td>VERY_HIGH</td>\n",
              "      <td>USER</td>\n",
              "    </tr>\n",
              "    <tr>\n",
              "      <th>freq</th>\n",
              "      <td>1364</td>\n",
              "      <td>116947</td>\n",
              "      <td>66901</td>\n",
              "      <td>96997</td>\n",
              "    </tr>\n",
              "  </tbody>\n",
              "</table>\n",
              "</div>"
            ],
            "text/plain": [
              "       Sentence    Type      Level  Target\n",
              "count    194572  194593     194593  194593\n",
              "unique    63324      14          4       6\n",
              "top          tg  Insult  VERY_HIGH    USER\n",
              "freq       1364  116947      66901   96997"
            ]
          },
          "metadata": {
            "tags": []
          },
          "execution_count": 5
        }
      ]
    },
    {
      "cell_type": "code",
      "metadata": {
        "colab": {
          "base_uri": "https://localhost:8080/",
          "height": 201
        },
        "id": "5Hxz8aSScuKh",
        "outputId": "82fc4880-8708-47ce-dde2-4834039af174"
      },
      "source": [
        "#Adding a class column prior to merging with neutral data\r\n",
        "hateful[\"Class\"] = 1\r\n",
        "hateful.head()"
      ],
      "execution_count": 6,
      "outputs": [
        {
          "output_type": "execute_result",
          "data": {
            "text/html": [
              "<div>\n",
              "<style scoped>\n",
              "    .dataframe tbody tr th:only-of-type {\n",
              "        vertical-align: middle;\n",
              "    }\n",
              "\n",
              "    .dataframe tbody tr th {\n",
              "        vertical-align: top;\n",
              "    }\n",
              "\n",
              "    .dataframe thead th {\n",
              "        text-align: right;\n",
              "    }\n",
              "</style>\n",
              "<table border=\"1\" class=\"dataframe\">\n",
              "  <thead>\n",
              "    <tr style=\"text-align: right;\">\n",
              "      <th></th>\n",
              "      <th>Sentence</th>\n",
              "      <th>Type</th>\n",
              "      <th>Level</th>\n",
              "      <th>Target</th>\n",
              "      <th>Class</th>\n",
              "    </tr>\n",
              "  </thead>\n",
              "  <tbody>\n",
              "    <tr>\n",
              "      <th>0</th>\n",
              "      <td>T pas Bo 😂😂🥃</td>\n",
              "      <td>Mockery</td>\n",
              "      <td>LOW</td>\n",
              "      <td>USER</td>\n",
              "      <td>1</td>\n",
              "    </tr>\n",
              "    <tr>\n",
              "      <th>1</th>\n",
              "      <td>t’es vilain 😂😂😂😂😂😂</td>\n",
              "      <td>Mockery</td>\n",
              "      <td>LOW</td>\n",
              "      <td>USER</td>\n",
              "      <td>1</td>\n",
              "    </tr>\n",
              "    <tr>\n",
              "      <th>2</th>\n",
              "      <td>Je te propose un d'île je m'abonne à ta chaine...</td>\n",
              "      <td>Hate</td>\n",
              "      <td>LOW</td>\n",
              "      <td>USER</td>\n",
              "      <td>1</td>\n",
              "    </tr>\n",
              "    <tr>\n",
              "      <th>3</th>\n",
              "      <td>T un kiko mdr</td>\n",
              "      <td>Insult</td>\n",
              "      <td>LOW</td>\n",
              "      <td>USER</td>\n",
              "      <td>1</td>\n",
              "    </tr>\n",
              "    <tr>\n",
              "      <th>4</th>\n",
              "      <td>Moi mdr t trop nul</td>\n",
              "      <td>Hate</td>\n",
              "      <td>LOW</td>\n",
              "      <td>USER</td>\n",
              "      <td>1</td>\n",
              "    </tr>\n",
              "  </tbody>\n",
              "</table>\n",
              "</div>"
            ],
            "text/plain": [
              "                                            Sentence     Type  ... Target Class\n",
              "0                                       T pas Bo 😂😂🥃  Mockery  ...   USER     1\n",
              "1                                 t’es vilain 😂😂😂😂😂😂  Mockery  ...   USER     1\n",
              "2  Je te propose un d'île je m'abonne à ta chaine...     Hate  ...   USER     1\n",
              "3                                      T un kiko mdr   Insult  ...   USER     1\n",
              "4                                 Moi mdr t trop nul     Hate  ...   USER     1\n",
              "\n",
              "[5 rows x 5 columns]"
            ]
          },
          "metadata": {
            "tags": []
          },
          "execution_count": 6
        }
      ]
    },
    {
      "cell_type": "code",
      "metadata": {
        "id": "ZB7e4GoFyesA"
      },
      "source": [
        "hateful.Sentence = hateful.Sentence.astype(str)"
      ],
      "execution_count": 7,
      "outputs": []
    },
    {
      "cell_type": "code",
      "metadata": {
        "colab": {
          "base_uri": "https://localhost:8080/"
        },
        "id": "j74gCVR11Bsq",
        "outputId": "88834ea8-f564-4c8f-cddc-5026246e9514"
      },
      "source": [
        "neutral = pd.read_csv('/content/drive/My Drive/CS224n_Project/Neutrals_200k.csv', names=colnames, header=None)\r\n",
        "neutral.shape"
      ],
      "execution_count": 8,
      "outputs": [
        {
          "output_type": "execute_result",
          "data": {
            "text/plain": [
              "(200000, 4)"
            ]
          },
          "metadata": {
            "tags": []
          },
          "execution_count": 8
        }
      ]
    },
    {
      "cell_type": "code",
      "metadata": {
        "id": "FzED-qIe79Ji"
      },
      "source": [
        "neutral.Sentence = neutral.Sentence.astype(str)"
      ],
      "execution_count": 9,
      "outputs": []
    },
    {
      "cell_type": "code",
      "metadata": {
        "colab": {
          "base_uri": "https://localhost:8080/",
          "height": 201
        },
        "id": "bVCpFE4vc2Oj",
        "outputId": "1c28a2e5-ab5e-463a-97b4-4c0f41541c7e"
      },
      "source": [
        "#Adding a class column prior to merging with toxic data\r\n",
        "neutral[\"Class\"] = 0\r\n",
        "neutral.head()"
      ],
      "execution_count": 10,
      "outputs": [
        {
          "output_type": "execute_result",
          "data": {
            "text/html": [
              "<div>\n",
              "<style scoped>\n",
              "    .dataframe tbody tr th:only-of-type {\n",
              "        vertical-align: middle;\n",
              "    }\n",
              "\n",
              "    .dataframe tbody tr th {\n",
              "        vertical-align: top;\n",
              "    }\n",
              "\n",
              "    .dataframe thead th {\n",
              "        text-align: right;\n",
              "    }\n",
              "</style>\n",
              "<table border=\"1\" class=\"dataframe\">\n",
              "  <thead>\n",
              "    <tr style=\"text-align: right;\">\n",
              "      <th></th>\n",
              "      <th>Sentence</th>\n",
              "      <th>Type</th>\n",
              "      <th>Level</th>\n",
              "      <th>Target</th>\n",
              "      <th>Class</th>\n",
              "    </tr>\n",
              "  </thead>\n",
              "  <tbody>\n",
              "    <tr>\n",
              "      <th>0</th>\n",
              "      <td>Chui désolé, mais quand un film de science-fic...</td>\n",
              "      <td>Neutral</td>\n",
              "      <td>NONE</td>\n",
              "      <td>UNDEFINED</td>\n",
              "      <td>0</td>\n",
              "    </tr>\n",
              "    <tr>\n",
              "      <th>1</th>\n",
              "      <td>Mdrrr junior bvndo</td>\n",
              "      <td>Neutral</td>\n",
              "      <td>NONE</td>\n",
              "      <td>UNDEFINED</td>\n",
              "      <td>0</td>\n",
              "    </tr>\n",
              "    <tr>\n",
              "      <th>2</th>\n",
              "      <td>baham je taimz</td>\n",
              "      <td>Neutral</td>\n",
              "      <td>NONE</td>\n",
              "      <td>UNDEFINED</td>\n",
              "      <td>0</td>\n",
              "    </tr>\n",
              "    <tr>\n",
              "      <th>3</th>\n",
              "      <td>Meilleurs rappeurs de tout les temps 😂😂😂 je ri...</td>\n",
              "      <td>Neutral</td>\n",
              "      <td>NONE</td>\n",
              "      <td>UNDEFINED</td>\n",
              "      <td>0</td>\n",
              "    </tr>\n",
              "    <tr>\n",
              "      <th>4</th>\n",
              "      <td>7up❤️</td>\n",
              "      <td>Neutral</td>\n",
              "      <td>NONE</td>\n",
              "      <td>UNDEFINED</td>\n",
              "      <td>0</td>\n",
              "    </tr>\n",
              "  </tbody>\n",
              "</table>\n",
              "</div>"
            ],
            "text/plain": [
              "                                            Sentence     Type  ...     Target Class\n",
              "0  Chui désolé, mais quand un film de science-fic...  Neutral  ...  UNDEFINED     0\n",
              "1                                 Mdrrr junior bvndo  Neutral  ...  UNDEFINED     0\n",
              "2                                     baham je taimz  Neutral  ...  UNDEFINED     0\n",
              "3  Meilleurs rappeurs de tout les temps 😂😂😂 je ri...  Neutral  ...  UNDEFINED     0\n",
              "4                                              7up❤️  Neutral  ...  UNDEFINED     0\n",
              "\n",
              "[5 rows x 5 columns]"
            ]
          },
          "metadata": {
            "tags": []
          },
          "execution_count": 10
        }
      ]
    },
    {
      "cell_type": "code",
      "metadata": {
        "colab": {
          "base_uri": "https://localhost:8080/"
        },
        "id": "3MMEuN-rdhos",
        "outputId": "ed37be54-6062-46a1-8120-f30e4765063e"
      },
      "source": [
        "dataset = hateful.append([neutral], ignore_index=True)\r\n",
        "dataset.shape"
      ],
      "execution_count": 11,
      "outputs": [
        {
          "output_type": "execute_result",
          "data": {
            "text/plain": [
              "(394593, 5)"
            ]
          },
          "metadata": {
            "tags": []
          },
          "execution_count": 11
        }
      ]
    },
    {
      "cell_type": "code",
      "metadata": {
        "colab": {
          "base_uri": "https://localhost:8080/",
          "height": 201
        },
        "id": "KCdAX6lod9PE",
        "outputId": "0f69056f-3c64-42b7-a26e-36e716f32999"
      },
      "source": [
        "dataset.head()"
      ],
      "execution_count": 12,
      "outputs": [
        {
          "output_type": "execute_result",
          "data": {
            "text/html": [
              "<div>\n",
              "<style scoped>\n",
              "    .dataframe tbody tr th:only-of-type {\n",
              "        vertical-align: middle;\n",
              "    }\n",
              "\n",
              "    .dataframe tbody tr th {\n",
              "        vertical-align: top;\n",
              "    }\n",
              "\n",
              "    .dataframe thead th {\n",
              "        text-align: right;\n",
              "    }\n",
              "</style>\n",
              "<table border=\"1\" class=\"dataframe\">\n",
              "  <thead>\n",
              "    <tr style=\"text-align: right;\">\n",
              "      <th></th>\n",
              "      <th>Sentence</th>\n",
              "      <th>Type</th>\n",
              "      <th>Level</th>\n",
              "      <th>Target</th>\n",
              "      <th>Class</th>\n",
              "    </tr>\n",
              "  </thead>\n",
              "  <tbody>\n",
              "    <tr>\n",
              "      <th>0</th>\n",
              "      <td>T pas Bo 😂😂🥃</td>\n",
              "      <td>Mockery</td>\n",
              "      <td>LOW</td>\n",
              "      <td>USER</td>\n",
              "      <td>1</td>\n",
              "    </tr>\n",
              "    <tr>\n",
              "      <th>1</th>\n",
              "      <td>t’es vilain 😂😂😂😂😂😂</td>\n",
              "      <td>Mockery</td>\n",
              "      <td>LOW</td>\n",
              "      <td>USER</td>\n",
              "      <td>1</td>\n",
              "    </tr>\n",
              "    <tr>\n",
              "      <th>2</th>\n",
              "      <td>Je te propose un d'île je m'abonne à ta chaine...</td>\n",
              "      <td>Hate</td>\n",
              "      <td>LOW</td>\n",
              "      <td>USER</td>\n",
              "      <td>1</td>\n",
              "    </tr>\n",
              "    <tr>\n",
              "      <th>3</th>\n",
              "      <td>T un kiko mdr</td>\n",
              "      <td>Insult</td>\n",
              "      <td>LOW</td>\n",
              "      <td>USER</td>\n",
              "      <td>1</td>\n",
              "    </tr>\n",
              "    <tr>\n",
              "      <th>4</th>\n",
              "      <td>Moi mdr t trop nul</td>\n",
              "      <td>Hate</td>\n",
              "      <td>LOW</td>\n",
              "      <td>USER</td>\n",
              "      <td>1</td>\n",
              "    </tr>\n",
              "  </tbody>\n",
              "</table>\n",
              "</div>"
            ],
            "text/plain": [
              "                                            Sentence     Type  ... Target Class\n",
              "0                                       T pas Bo 😂😂🥃  Mockery  ...   USER     1\n",
              "1                                 t’es vilain 😂😂😂😂😂😂  Mockery  ...   USER     1\n",
              "2  Je te propose un d'île je m'abonne à ta chaine...     Hate  ...   USER     1\n",
              "3                                      T un kiko mdr   Insult  ...   USER     1\n",
              "4                                 Moi mdr t trop nul     Hate  ...   USER     1\n",
              "\n",
              "[5 rows x 5 columns]"
            ]
          },
          "metadata": {
            "tags": []
          },
          "execution_count": 12
        }
      ]
    },
    {
      "cell_type": "code",
      "metadata": {
        "colab": {
          "base_uri": "https://localhost:8080/",
          "height": 201
        },
        "id": "lJzbasK-d_3w",
        "outputId": "d61a7ac7-40d8-47e2-cbba-c19250b084ad"
      },
      "source": [
        "dataset.tail()"
      ],
      "execution_count": 13,
      "outputs": [
        {
          "output_type": "execute_result",
          "data": {
            "text/html": [
              "<div>\n",
              "<style scoped>\n",
              "    .dataframe tbody tr th:only-of-type {\n",
              "        vertical-align: middle;\n",
              "    }\n",
              "\n",
              "    .dataframe tbody tr th {\n",
              "        vertical-align: top;\n",
              "    }\n",
              "\n",
              "    .dataframe thead th {\n",
              "        text-align: right;\n",
              "    }\n",
              "</style>\n",
              "<table border=\"1\" class=\"dataframe\">\n",
              "  <thead>\n",
              "    <tr style=\"text-align: right;\">\n",
              "      <th></th>\n",
              "      <th>Sentence</th>\n",
              "      <th>Type</th>\n",
              "      <th>Level</th>\n",
              "      <th>Target</th>\n",
              "      <th>Class</th>\n",
              "    </tr>\n",
              "  </thead>\n",
              "  <tbody>\n",
              "    <tr>\n",
              "      <th>394588</th>\n",
              "      <td>@studiosushi @Chitori_Bocchi evangelionnnnnnnn...</td>\n",
              "      <td>Neutral</td>\n",
              "      <td>NONE</td>\n",
              "      <td>UNDEFINED</td>\n",
              "      <td>0</td>\n",
              "    </tr>\n",
              "    <tr>\n",
              "      <th>394589</th>\n",
              "      <td>J'ai kiffer les 2 Baby sitter c drôle et horri...</td>\n",
              "      <td>Neutral</td>\n",
              "      <td>NONE</td>\n",
              "      <td>UNDEFINED</td>\n",
              "      <td>0</td>\n",
              "    </tr>\n",
              "    <tr>\n",
              "      <th>394590</th>\n",
              "      <td>Moi aussi je t'ai demandé si tu étais la premi...</td>\n",
              "      <td>Neutral</td>\n",
              "      <td>NONE</td>\n",
              "      <td>UNDEFINED</td>\n",
              "      <td>0</td>\n",
              "    </tr>\n",
              "    <tr>\n",
              "      <th>394591</th>\n",
              "      <td>venez on fait l' aphalbet</td>\n",
              "      <td>Neutral</td>\n",
              "      <td>NONE</td>\n",
              "      <td>UNDEFINED</td>\n",
              "      <td>0</td>\n",
              "    </tr>\n",
              "    <tr>\n",
              "      <th>394592</th>\n",
              "      <td>Bah oui 80% de la police france est pro RN ...</td>\n",
              "      <td>Neutral</td>\n",
              "      <td>NONE</td>\n",
              "      <td>UNDEFINED</td>\n",
              "      <td>0</td>\n",
              "    </tr>\n",
              "  </tbody>\n",
              "</table>\n",
              "</div>"
            ],
            "text/plain": [
              "                                                 Sentence  ... Class\n",
              "394588  @studiosushi @Chitori_Bocchi evangelionnnnnnnn...  ...     0\n",
              "394589  J'ai kiffer les 2 Baby sitter c drôle et horri...  ...     0\n",
              "394590  Moi aussi je t'ai demandé si tu étais la premi...  ...     0\n",
              "394591                          venez on fait l' aphalbet  ...     0\n",
              "394592     Bah oui 80% de la police france est pro RN ...  ...     0\n",
              "\n",
              "[5 rows x 5 columns]"
            ]
          },
          "metadata": {
            "tags": []
          },
          "execution_count": 13
        }
      ]
    },
    {
      "cell_type": "markdown",
      "metadata": {
        "id": "VR__5j4bwhqB"
      },
      "source": [
        "### Analyzing dataset"
      ]
    },
    {
      "cell_type": "code",
      "metadata": {
        "colab": {
          "base_uri": "https://localhost:8080/",
          "height": 323
        },
        "id": "_Kiwi0Zx2XCn",
        "outputId": "983b07b0-b530-4618-bb9e-3507302648d8"
      },
      "source": [
        "dataset.groupby(['Target']).count()"
      ],
      "execution_count": 14,
      "outputs": [
        {
          "output_type": "execute_result",
          "data": {
            "text/html": [
              "<div>\n",
              "<style scoped>\n",
              "    .dataframe tbody tr th:only-of-type {\n",
              "        vertical-align: middle;\n",
              "    }\n",
              "\n",
              "    .dataframe tbody tr th {\n",
              "        vertical-align: top;\n",
              "    }\n",
              "\n",
              "    .dataframe thead th {\n",
              "        text-align: right;\n",
              "    }\n",
              "</style>\n",
              "<table border=\"1\" class=\"dataframe\">\n",
              "  <thead>\n",
              "    <tr style=\"text-align: right;\">\n",
              "      <th></th>\n",
              "      <th>Sentence</th>\n",
              "      <th>Type</th>\n",
              "      <th>Level</th>\n",
              "      <th>Class</th>\n",
              "    </tr>\n",
              "    <tr>\n",
              "      <th>Target</th>\n",
              "      <th></th>\n",
              "      <th></th>\n",
              "      <th></th>\n",
              "      <th></th>\n",
              "    </tr>\n",
              "  </thead>\n",
              "  <tbody>\n",
              "    <tr>\n",
              "      <th>AUTHOR_OF_COMMENT</th>\n",
              "      <td>2547</td>\n",
              "      <td>2547</td>\n",
              "      <td>2547</td>\n",
              "      <td>2547</td>\n",
              "    </tr>\n",
              "    <tr>\n",
              "      <th>EVERYONE</th>\n",
              "      <td>16603</td>\n",
              "      <td>16603</td>\n",
              "      <td>16603</td>\n",
              "      <td>16603</td>\n",
              "    </tr>\n",
              "    <tr>\n",
              "      <th>GROUP</th>\n",
              "      <td>36083</td>\n",
              "      <td>36083</td>\n",
              "      <td>36083</td>\n",
              "      <td>36083</td>\n",
              "    </tr>\n",
              "    <tr>\n",
              "      <th>NO_ONE</th>\n",
              "      <td>1</td>\n",
              "      <td>1</td>\n",
              "      <td>1</td>\n",
              "      <td>1</td>\n",
              "    </tr>\n",
              "    <tr>\n",
              "      <th>SINGLE_PERSON</th>\n",
              "      <td>36128</td>\n",
              "      <td>36128</td>\n",
              "      <td>36128</td>\n",
              "      <td>36128</td>\n",
              "    </tr>\n",
              "    <tr>\n",
              "      <th>UNDEFINED</th>\n",
              "      <td>199191</td>\n",
              "      <td>199191</td>\n",
              "      <td>199191</td>\n",
              "      <td>199191</td>\n",
              "    </tr>\n",
              "    <tr>\n",
              "      <th>USER</th>\n",
              "      <td>97574</td>\n",
              "      <td>97574</td>\n",
              "      <td>97574</td>\n",
              "      <td>97574</td>\n",
              "    </tr>\n",
              "    <tr>\n",
              "      <th>USER_FAMILY</th>\n",
              "      <td>6466</td>\n",
              "      <td>6466</td>\n",
              "      <td>6466</td>\n",
              "      <td>6466</td>\n",
              "    </tr>\n",
              "  </tbody>\n",
              "</table>\n",
              "</div>"
            ],
            "text/plain": [
              "                   Sentence    Type   Level   Class\n",
              "Target                                             \n",
              "AUTHOR_OF_COMMENT      2547    2547    2547    2547\n",
              "EVERYONE              16603   16603   16603   16603\n",
              "GROUP                 36083   36083   36083   36083\n",
              "NO_ONE                    1       1       1       1\n",
              "SINGLE_PERSON         36128   36128   36128   36128\n",
              "UNDEFINED            199191  199191  199191  199191\n",
              "USER                  97574   97574   97574   97574\n",
              "USER_FAMILY            6466    6466    6466    6466"
            ]
          },
          "metadata": {
            "tags": []
          },
          "execution_count": 14
        }
      ]
    },
    {
      "cell_type": "code",
      "metadata": {
        "colab": {
          "base_uri": "https://localhost:8080/",
          "height": 414
        },
        "id": "JkR8u92JwRgF",
        "outputId": "15644114-ac03-4b85-9ba2-a80966aacd07"
      },
      "source": [
        "plt.figure(figsize=(20,5))\r\n",
        "chart = sns.countplot(\"Target\", data=dataset)\r\n",
        "chart.set_xticklabels(chart.get_xticklabels(), rotation=45)\r\n",
        "plt.show()"
      ],
      "execution_count": 15,
      "outputs": [
        {
          "output_type": "display_data",
          "data": {
            "image/png": "[encoded data removed]",
            "text/plain": [
              "<Figure size 1440x360 with 1 Axes>"
            ]
          },
          "metadata": {
            "tags": [],
            "needs_background": "light"
          }
        }
      ]
    },
    {
      "cell_type": "code",
      "metadata": {
        "colab": {
          "base_uri": "https://localhost:8080/",
          "height": 506
        },
        "id": "OmuPXJBsmyyU",
        "outputId": "e4a15db1-cb75-458c-929a-f32806be26de"
      },
      "source": [
        "dataset.groupby(['Type']).count()"
      ],
      "execution_count": 16,
      "outputs": [
        {
          "output_type": "execute_result",
          "data": {
            "text/html": [
              "<div>\n",
              "<style scoped>\n",
              "    .dataframe tbody tr th:only-of-type {\n",
              "        vertical-align: middle;\n",
              "    }\n",
              "\n",
              "    .dataframe tbody tr th {\n",
              "        vertical-align: top;\n",
              "    }\n",
              "\n",
              "    .dataframe thead th {\n",
              "        text-align: right;\n",
              "    }\n",
              "</style>\n",
              "<table border=\"1\" class=\"dataframe\">\n",
              "  <thead>\n",
              "    <tr style=\"text-align: right;\">\n",
              "      <th></th>\n",
              "      <th>Sentence</th>\n",
              "      <th>Level</th>\n",
              "      <th>Target</th>\n",
              "      <th>Class</th>\n",
              "    </tr>\n",
              "    <tr>\n",
              "      <th>Type</th>\n",
              "      <th></th>\n",
              "      <th></th>\n",
              "      <th></th>\n",
              "      <th></th>\n",
              "    </tr>\n",
              "  </thead>\n",
              "  <tbody>\n",
              "    <tr>\n",
              "      <th>Ads</th>\n",
              "      <td>27</td>\n",
              "      <td>27</td>\n",
              "      <td>27</td>\n",
              "      <td>27</td>\n",
              "    </tr>\n",
              "    <tr>\n",
              "      <th>Critics</th>\n",
              "      <td>15</td>\n",
              "      <td>15</td>\n",
              "      <td>15</td>\n",
              "      <td>15</td>\n",
              "    </tr>\n",
              "    <tr>\n",
              "      <th>Hate</th>\n",
              "      <td>37293</td>\n",
              "      <td>37293</td>\n",
              "      <td>37293</td>\n",
              "      <td>37293</td>\n",
              "    </tr>\n",
              "    <tr>\n",
              "      <th>Homophobia</th>\n",
              "      <td>12256</td>\n",
              "      <td>12256</td>\n",
              "      <td>12256</td>\n",
              "      <td>12256</td>\n",
              "    </tr>\n",
              "    <tr>\n",
              "      <th>Insult</th>\n",
              "      <td>116947</td>\n",
              "      <td>116947</td>\n",
              "      <td>116947</td>\n",
              "      <td>116947</td>\n",
              "    </tr>\n",
              "    <tr>\n",
              "      <th>Misogyny</th>\n",
              "      <td>6</td>\n",
              "      <td>6</td>\n",
              "      <td>6</td>\n",
              "      <td>6</td>\n",
              "    </tr>\n",
              "    <tr>\n",
              "      <th>Mockery</th>\n",
              "      <td>13950</td>\n",
              "      <td>13950</td>\n",
              "      <td>13950</td>\n",
              "      <td>13950</td>\n",
              "    </tr>\n",
              "    <tr>\n",
              "      <th>Moral Harassment</th>\n",
              "      <td>1583</td>\n",
              "      <td>1583</td>\n",
              "      <td>1583</td>\n",
              "      <td>1583</td>\n",
              "    </tr>\n",
              "    <tr>\n",
              "      <th>Neutral</th>\n",
              "      <td>200009</td>\n",
              "      <td>200009</td>\n",
              "      <td>200009</td>\n",
              "      <td>200009</td>\n",
              "    </tr>\n",
              "    <tr>\n",
              "      <th>Racism</th>\n",
              "      <td>2143</td>\n",
              "      <td>2143</td>\n",
              "      <td>2143</td>\n",
              "      <td>2143</td>\n",
              "    </tr>\n",
              "    <tr>\n",
              "      <th>Sexual Harassment</th>\n",
              "      <td>4603</td>\n",
              "      <td>4603</td>\n",
              "      <td>4603</td>\n",
              "      <td>4603</td>\n",
              "    </tr>\n",
              "    <tr>\n",
              "      <th>Threat</th>\n",
              "      <td>2282</td>\n",
              "      <td>2282</td>\n",
              "      <td>2282</td>\n",
              "      <td>2282</td>\n",
              "    </tr>\n",
              "    <tr>\n",
              "      <th>Troll</th>\n",
              "      <td>3461</td>\n",
              "      <td>3461</td>\n",
              "      <td>3461</td>\n",
              "      <td>3461</td>\n",
              "    </tr>\n",
              "    <tr>\n",
              "      <th>Useless</th>\n",
              "      <td>18</td>\n",
              "      <td>18</td>\n",
              "      <td>18</td>\n",
              "      <td>18</td>\n",
              "    </tr>\n",
              "  </tbody>\n",
              "</table>\n",
              "</div>"
            ],
            "text/plain": [
              "                   Sentence   Level  Target   Class\n",
              "Type                                               \n",
              "Ads                      27      27      27      27\n",
              "Critics                  15      15      15      15\n",
              "Hate                  37293   37293   37293   37293\n",
              "Homophobia            12256   12256   12256   12256\n",
              "Insult               116947  116947  116947  116947\n",
              "Misogyny                  6       6       6       6\n",
              "Mockery               13950   13950   13950   13950\n",
              "Moral Harassment       1583    1583    1583    1583\n",
              "Neutral              200009  200009  200009  200009\n",
              "Racism                 2143    2143    2143    2143\n",
              "Sexual Harassment      4603    4603    4603    4603\n",
              "Threat                 2282    2282    2282    2282\n",
              "Troll                  3461    3461    3461    3461\n",
              "Useless                  18      18      18      18"
            ]
          },
          "metadata": {
            "tags": []
          },
          "execution_count": 16
        }
      ]
    },
    {
      "cell_type": "code",
      "metadata": {
        "colab": {
          "base_uri": "https://localhost:8080/",
          "height": 231
        },
        "id": "BgdNEV-t24Td",
        "outputId": "d253d077-480a-40c7-9e04-f839ddc9869b"
      },
      "source": [
        "dataset.groupby(['Level']).count()"
      ],
      "execution_count": 17,
      "outputs": [
        {
          "output_type": "execute_result",
          "data": {
            "text/html": [
              "<div>\n",
              "<style scoped>\n",
              "    .dataframe tbody tr th:only-of-type {\n",
              "        vertical-align: middle;\n",
              "    }\n",
              "\n",
              "    .dataframe tbody tr th {\n",
              "        vertical-align: top;\n",
              "    }\n",
              "\n",
              "    .dataframe thead th {\n",
              "        text-align: right;\n",
              "    }\n",
              "</style>\n",
              "<table border=\"1\" class=\"dataframe\">\n",
              "  <thead>\n",
              "    <tr style=\"text-align: right;\">\n",
              "      <th></th>\n",
              "      <th>Sentence</th>\n",
              "      <th>Type</th>\n",
              "      <th>Target</th>\n",
              "      <th>Class</th>\n",
              "    </tr>\n",
              "    <tr>\n",
              "      <th>Level</th>\n",
              "      <th></th>\n",
              "      <th></th>\n",
              "      <th></th>\n",
              "      <th></th>\n",
              "    </tr>\n",
              "  </thead>\n",
              "  <tbody>\n",
              "    <tr>\n",
              "      <th>HIGH</th>\n",
              "      <td>53358</td>\n",
              "      <td>53358</td>\n",
              "      <td>53358</td>\n",
              "      <td>53358</td>\n",
              "    </tr>\n",
              "    <tr>\n",
              "      <th>LOW</th>\n",
              "      <td>28016</td>\n",
              "      <td>28016</td>\n",
              "      <td>28016</td>\n",
              "      <td>28016</td>\n",
              "    </tr>\n",
              "    <tr>\n",
              "      <th>MEDIUM</th>\n",
              "      <td>46880</td>\n",
              "      <td>46880</td>\n",
              "      <td>46880</td>\n",
              "      <td>46880</td>\n",
              "    </tr>\n",
              "    <tr>\n",
              "      <th>NONE</th>\n",
              "      <td>199189</td>\n",
              "      <td>199189</td>\n",
              "      <td>199189</td>\n",
              "      <td>199189</td>\n",
              "    </tr>\n",
              "    <tr>\n",
              "      <th>VERY_HIGH</th>\n",
              "      <td>67150</td>\n",
              "      <td>67150</td>\n",
              "      <td>67150</td>\n",
              "      <td>67150</td>\n",
              "    </tr>\n",
              "  </tbody>\n",
              "</table>\n",
              "</div>"
            ],
            "text/plain": [
              "           Sentence    Type  Target   Class\n",
              "Level                                      \n",
              "HIGH          53358   53358   53358   53358\n",
              "LOW           28016   28016   28016   28016\n",
              "MEDIUM        46880   46880   46880   46880\n",
              "NONE         199189  199189  199189  199189\n",
              "VERY_HIGH     67150   67150   67150   67150"
            ]
          },
          "metadata": {
            "tags": []
          },
          "execution_count": 17
        }
      ]
    },
    {
      "cell_type": "code",
      "metadata": {
        "colab": {
          "base_uri": "https://localhost:8080/",
          "height": 262
        },
        "id": "UdD0_lqo3UpV",
        "outputId": "2c09bd87-228f-4e88-eefa-d7d238ae4d72"
      },
      "source": [
        "dataset_stats = dataset.groupby(['Target', 'Level']).size().reset_index(name='count')\r\n",
        "pd.pivot_table(dataset_stats, index=['Level'], columns = ['Target'],values=['count'], fill_value=0)"
      ],
      "execution_count": 18,
      "outputs": [
        {
          "output_type": "execute_result",
          "data": {
            "text/html": [
              "<div>\n",
              "<style scoped>\n",
              "    .dataframe tbody tr th:only-of-type {\n",
              "        vertical-align: middle;\n",
              "    }\n",
              "\n",
              "    .dataframe tbody tr th {\n",
              "        vertical-align: top;\n",
              "    }\n",
              "\n",
              "    .dataframe thead tr th {\n",
              "        text-align: left;\n",
              "    }\n",
              "\n",
              "    .dataframe thead tr:last-of-type th {\n",
              "        text-align: right;\n",
              "    }\n",
              "</style>\n",
              "<table border=\"1\" class=\"dataframe\">\n",
              "  <thead>\n",
              "    <tr>\n",
              "      <th></th>\n",
              "      <th colspan=\"8\" halign=\"left\">count</th>\n",
              "    </tr>\n",
              "    <tr>\n",
              "      <th>Target</th>\n",
              "      <th>AUTHOR_OF_COMMENT</th>\n",
              "      <th>EVERYONE</th>\n",
              "      <th>GROUP</th>\n",
              "      <th>NO_ONE</th>\n",
              "      <th>SINGLE_PERSON</th>\n",
              "      <th>UNDEFINED</th>\n",
              "      <th>USER</th>\n",
              "      <th>USER_FAMILY</th>\n",
              "    </tr>\n",
              "    <tr>\n",
              "      <th>Level</th>\n",
              "      <th></th>\n",
              "      <th></th>\n",
              "      <th></th>\n",
              "      <th></th>\n",
              "      <th></th>\n",
              "      <th></th>\n",
              "      <th></th>\n",
              "      <th></th>\n",
              "    </tr>\n",
              "  </thead>\n",
              "  <tbody>\n",
              "    <tr>\n",
              "      <th>HIGH</th>\n",
              "      <td>189</td>\n",
              "      <td>3952</td>\n",
              "      <td>9004</td>\n",
              "      <td>0</td>\n",
              "      <td>9008</td>\n",
              "      <td>4</td>\n",
              "      <td>27624</td>\n",
              "      <td>3577</td>\n",
              "    </tr>\n",
              "    <tr>\n",
              "      <th>LOW</th>\n",
              "      <td>1350</td>\n",
              "      <td>2743</td>\n",
              "      <td>9031</td>\n",
              "      <td>0</td>\n",
              "      <td>9032</td>\n",
              "      <td>1</td>\n",
              "      <td>5481</td>\n",
              "      <td>378</td>\n",
              "    </tr>\n",
              "    <tr>\n",
              "      <th>MEDIUM</th>\n",
              "      <td>837</td>\n",
              "      <td>2125</td>\n",
              "      <td>9036</td>\n",
              "      <td>1</td>\n",
              "      <td>9032</td>\n",
              "      <td>14</td>\n",
              "      <td>24422</td>\n",
              "      <td>1413</td>\n",
              "    </tr>\n",
              "    <tr>\n",
              "      <th>NONE</th>\n",
              "      <td>0</td>\n",
              "      <td>4</td>\n",
              "      <td>0</td>\n",
              "      <td>0</td>\n",
              "      <td>1</td>\n",
              "      <td>199171</td>\n",
              "      <td>13</td>\n",
              "      <td>0</td>\n",
              "    </tr>\n",
              "    <tr>\n",
              "      <th>VERY_HIGH</th>\n",
              "      <td>171</td>\n",
              "      <td>7779</td>\n",
              "      <td>9012</td>\n",
              "      <td>0</td>\n",
              "      <td>9055</td>\n",
              "      <td>1</td>\n",
              "      <td>40034</td>\n",
              "      <td>1098</td>\n",
              "    </tr>\n",
              "  </tbody>\n",
              "</table>\n",
              "</div>"
            ],
            "text/plain": [
              "                      count                 ...                             \n",
              "Target    AUTHOR_OF_COMMENT EVERYONE GROUP  ... UNDEFINED   USER USER_FAMILY\n",
              "Level                                       ...                             \n",
              "HIGH                    189     3952  9004  ...         4  27624        3577\n",
              "LOW                    1350     2743  9031  ...         1   5481         378\n",
              "MEDIUM                  837     2125  9036  ...        14  24422        1413\n",
              "NONE                      0        4     0  ...    199171     13           0\n",
              "VERY_HIGH               171     7779  9012  ...         1  40034        1098\n",
              "\n",
              "[5 rows x 8 columns]"
            ]
          },
          "metadata": {
            "tags": []
          },
          "execution_count": 18
        }
      ]
    },
    {
      "cell_type": "code",
      "metadata": {
        "colab": {
          "base_uri": "https://localhost:8080/",
          "height": 67
        },
        "id": "GRdPi_wew2us",
        "outputId": "a04cd1fb-98ef-4ddf-aade-2f1343dcbdcf"
      },
      "source": [
        "#Checking if empty Sentences exist\r\n",
        "empty_index = [index for index,text in enumerate(dataset.Sentence.values) if str(text).strip() == '']\r\n",
        "print(\"No of empty rows: {}\".format(len(empty_index)))\r\n",
        "hateful.iloc[empty_index].tail()"
      ],
      "execution_count": 19,
      "outputs": [
        {
          "output_type": "stream",
          "text": [
            "No of empty rows: 0\n"
          ],
          "name": "stdout"
        },
        {
          "output_type": "execute_result",
          "data": {
            "text/html": [
              "<div>\n",
              "<style scoped>\n",
              "    .dataframe tbody tr th:only-of-type {\n",
              "        vertical-align: middle;\n",
              "    }\n",
              "\n",
              "    .dataframe tbody tr th {\n",
              "        vertical-align: top;\n",
              "    }\n",
              "\n",
              "    .dataframe thead th {\n",
              "        text-align: right;\n",
              "    }\n",
              "</style>\n",
              "<table border=\"1\" class=\"dataframe\">\n",
              "  <thead>\n",
              "    <tr style=\"text-align: right;\">\n",
              "      <th></th>\n",
              "      <th>Sentence</th>\n",
              "      <th>Type</th>\n",
              "      <th>Level</th>\n",
              "      <th>Target</th>\n",
              "      <th>Class</th>\n",
              "    </tr>\n",
              "  </thead>\n",
              "  <tbody>\n",
              "  </tbody>\n",
              "</table>\n",
              "</div>"
            ],
            "text/plain": [
              "Empty DataFrame\n",
              "Columns: [Sentence, Type, Level, Target, Class]\n",
              "Index: []"
            ]
          },
          "metadata": {
            "tags": []
          },
          "execution_count": 19
        }
      ]
    },
    {
      "cell_type": "code",
      "metadata": {
        "id": "j_QjKMnxN6KZ"
      },
      "source": [
        "#Removing row with \"NO_ONE\" target\r\n",
        "dataset[dataset['Target']==\"NO_ONE\"]\r\n",
        "dataset = dataset.drop(dataset[dataset['Target']==\"NO_ONE\"].index)"
      ],
      "execution_count": 20,
      "outputs": []
    },
    {
      "cell_type": "code",
      "metadata": {
        "colab": {
          "base_uri": "https://localhost:8080/"
        },
        "id": "-NKwLTdG7t89",
        "outputId": "d9ccba0a-22f3-44ea-e157-a6fd18d99cc6"
      },
      "source": [
        "#Checking frequent words\r\n",
        "cnt = Counter()\r\n",
        "for text in dataset[\"Sentence\"].values:\r\n",
        "    for word in text.split():\r\n",
        "        cnt[word] += 1\r\n",
        "        \r\n",
        "cnt.most_common(20)"
      ],
      "execution_count": 21,
      "outputs": [
        {
          "output_type": "execute_result",
          "data": {
            "text/plain": [
              "[('de', 212725),\n",
              " ('la', 117592),\n",
              " ('et', 104727),\n",
              " ('le', 99444),\n",
              " ('les', 94956),\n",
              " ('pas', 85171),\n",
              " ('que', 81618),\n",
              " ('des', 72993),\n",
              " ('à', 66654),\n",
              " ('un', 63619),\n",
              " ('a', 58883),\n",
              " ('je', 58172),\n",
              " ('pour', 57210),\n",
              " ('en', 56610),\n",
              " ('qui', 55488),\n",
              " ('est', 54054),\n",
              " ('tu', 51424),\n",
              " ('vous', 42380),\n",
              " ('une', 41758),\n",
              " ('il', 39910)]"
            ]
          },
          "metadata": {
            "tags": []
          },
          "execution_count": 21
        }
      ]
    },
    {
      "cell_type": "code",
      "metadata": {
        "id": "aNmoYMfW9Jhi"
      },
      "source": [
        "#Checking average sentence length vs toxicity level\r\n",
        "dataset['Length'] = dataset['Sentence'].apply(len)\r\n",
        "#fig,(ax1, ax2) = plt.subplots(1,2)\r\n",
        "#sns.barplot('Level','Length',data = dataset,palette='PRGn',ax=ax1).set_title('Avg Sentence Length vs Level')\r\n",
        "#sns.barplot('Target','Length',data = dataset,palette='PRGn',ax=ax2).set_title('Avg Sentence Length vs Target')\r\n",
        "#plt.setp(ax1.xaxis.get_majorticklabels(), rotation=45)\r\n",
        "#plt.setp(ax2.xaxis.get_majorticklabels(), rotation=45)\r\n",
        "#fig.tight_layout()"
      ],
      "execution_count": 22,
      "outputs": []
    },
    {
      "cell_type": "code",
      "metadata": {
        "id": "09K4iY87DrNI"
      },
      "source": [
        "#Checking average word number vs toxicity level\r\n",
        "dataset['Count'] = dataset['Sentence'].str.split().str.len()\r\n",
        "#fig,(ax1, ax2) = plt.subplots(1,2)\r\n",
        "#sns.barplot('Level','Count',data = dataset,palette='PRGn',ax=ax1).set_title('Average Word Count vs Level')\r\n",
        "#sns.barplot('Target','Count',data = dataset,palette='PRGn',ax=ax2).set_title('Average Word Count vs Target')\r\n",
        "#plt.setp(ax1.xaxis.get_majorticklabels(), rotation=45)\r\n",
        "#plt.setp(ax2.xaxis.get_majorticklabels(), rotation=45)\r\n",
        "#fig.tight_layout()"
      ],
      "execution_count": 23,
      "outputs": []
    },
    {
      "cell_type": "markdown",
      "metadata": {
        "id": "Vm9P9tecc_hC"
      },
      "source": [
        "### Cleaning dataset"
      ]
    },
    {
      "cell_type": "code",
      "metadata": {
        "colab": {
          "base_uri": "https://localhost:8080/",
          "height": 201
        },
        "id": "8ehbFxoK4wkG",
        "outputId": "98dbf1e1-fd32-4260-b37e-27ada2502af1"
      },
      "source": [
        "#Lowering all sentences\r\n",
        "\r\n",
        "dataset['cleanSentence'] = dataset['Sentence'].apply(lambda x: x.lower())\r\n",
        "dataset.head()"
      ],
      "execution_count": 24,
      "outputs": [
        {
          "output_type": "execute_result",
          "data": {
            "text/html": [
              "<div>\n",
              "<style scoped>\n",
              "    .dataframe tbody tr th:only-of-type {\n",
              "        vertical-align: middle;\n",
              "    }\n",
              "\n",
              "    .dataframe tbody tr th {\n",
              "        vertical-align: top;\n",
              "    }\n",
              "\n",
              "    .dataframe thead th {\n",
              "        text-align: right;\n",
              "    }\n",
              "</style>\n",
              "<table border=\"1\" class=\"dataframe\">\n",
              "  <thead>\n",
              "    <tr style=\"text-align: right;\">\n",
              "      <th></th>\n",
              "      <th>Sentence</th>\n",
              "      <th>Type</th>\n",
              "      <th>Level</th>\n",
              "      <th>Target</th>\n",
              "      <th>Class</th>\n",
              "      <th>Length</th>\n",
              "      <th>Count</th>\n",
              "      <th>cleanSentence</th>\n",
              "    </tr>\n",
              "  </thead>\n",
              "  <tbody>\n",
              "    <tr>\n",
              "      <th>0</th>\n",
              "      <td>T pas Bo 😂😂🥃</td>\n",
              "      <td>Mockery</td>\n",
              "      <td>LOW</td>\n",
              "      <td>USER</td>\n",
              "      <td>1</td>\n",
              "      <td>12</td>\n",
              "      <td>4</td>\n",
              "      <td>t pas bo 😂😂🥃</td>\n",
              "    </tr>\n",
              "    <tr>\n",
              "      <th>1</th>\n",
              "      <td>t’es vilain 😂😂😂😂😂😂</td>\n",
              "      <td>Mockery</td>\n",
              "      <td>LOW</td>\n",
              "      <td>USER</td>\n",
              "      <td>1</td>\n",
              "      <td>18</td>\n",
              "      <td>3</td>\n",
              "      <td>t’es vilain 😂😂😂😂😂😂</td>\n",
              "    </tr>\n",
              "    <tr>\n",
              "      <th>2</th>\n",
              "      <td>Je te propose un d'île je m'abonne à ta chaine...</td>\n",
              "      <td>Hate</td>\n",
              "      <td>LOW</td>\n",
              "      <td>USER</td>\n",
              "      <td>1</td>\n",
              "      <td>189</td>\n",
              "      <td>37</td>\n",
              "      <td>je te propose un d'île je m'abonne à ta chaine...</td>\n",
              "    </tr>\n",
              "    <tr>\n",
              "      <th>3</th>\n",
              "      <td>T un kiko mdr</td>\n",
              "      <td>Insult</td>\n",
              "      <td>LOW</td>\n",
              "      <td>USER</td>\n",
              "      <td>1</td>\n",
              "      <td>13</td>\n",
              "      <td>4</td>\n",
              "      <td>t un kiko mdr</td>\n",
              "    </tr>\n",
              "    <tr>\n",
              "      <th>4</th>\n",
              "      <td>Moi mdr t trop nul</td>\n",
              "      <td>Hate</td>\n",
              "      <td>LOW</td>\n",
              "      <td>USER</td>\n",
              "      <td>1</td>\n",
              "      <td>18</td>\n",
              "      <td>5</td>\n",
              "      <td>moi mdr t trop nul</td>\n",
              "    </tr>\n",
              "  </tbody>\n",
              "</table>\n",
              "</div>"
            ],
            "text/plain": [
              "                                            Sentence  ...                                      cleanSentence\n",
              "0                                       T pas Bo 😂😂🥃  ...                                       t pas bo 😂😂🥃\n",
              "1                                 t’es vilain 😂😂😂😂😂😂  ...                                 t’es vilain 😂😂😂😂😂😂\n",
              "2  Je te propose un d'île je m'abonne à ta chaine...  ...  je te propose un d'île je m'abonne à ta chaine...\n",
              "3                                      T un kiko mdr  ...                                      t un kiko mdr\n",
              "4                                 Moi mdr t trop nul  ...                                 moi mdr t trop nul\n",
              "\n",
              "[5 rows x 8 columns]"
            ]
          },
          "metadata": {
            "tags": []
          },
          "execution_count": 24
        }
      ]
    },
    {
      "cell_type": "code",
      "metadata": {
        "colab": {
          "base_uri": "https://localhost:8080/",
          "height": 467
        },
        "id": "qbYGDPOL4WBL",
        "outputId": "a2adb31b-3c1a-406d-f18d-2a7362704ced"
      },
      "source": [
        "#Dealing with emojis\r\n",
        "!pip install emoji\r\n",
        "import emoji\r\n",
        "\r\n",
        "#does the text contain an emoji?\r\n",
        "def text_has_emoji(text):\r\n",
        "    for character in text:\r\n",
        "        if character in emoji.UNICODE_EMOJI[\"en\"]:\r\n",
        "            return True\r\n",
        "    return False\r\n",
        "\r\n",
        "#extract emojis for possible future use\r\n",
        "def extract_emoji(text):\r\n",
        "    emoji_list = []\r\n",
        "    data = re.findall(r'[^\\w\\s,]', text)\r\n",
        "    for word in data:\r\n",
        "        if any(char in emoji.UNICODE_EMOJI[\"en\"] for char in word):\r\n",
        "            emoji_list.append(word)\r\n",
        "    return emoji_list\r\n",
        "\r\n",
        "#remove the emoji\r\n",
        "def remove_emoji(text):\r\n",
        "  data = re.findall(r'[^\\w\\s,]', text)\r\n",
        "  for word in data:\r\n",
        "      if any(char in emoji.UNICODE_EMOJI[\"en\"] for char in word):\r\n",
        "          text = text.replace(word, '')\r\n",
        "  return text\r\n",
        "\r\n",
        "# Checking if emoji in source Sentence\r\n",
        "dataset['Emoji'] = dataset['Sentence'].apply(extract_emoji)\r\n",
        "\r\n",
        "# Removing Emojis from Sentence\r\n",
        "dataset['cleanSentence'] = dataset['cleanSentence'].apply(remove_emoji)\r\n",
        "dataset.head(10)"
      ],
      "execution_count": 25,
      "outputs": [
        {
          "output_type": "stream",
          "text": [
            "Collecting emoji\n",
            "\u001b[?25l  Downloading https://files.pythonhosted.org/packages/24/fa/b3368f41b95a286f8d300e323449ab4e86b85334c2e0b477e94422b8ed0f/emoji-1.2.0-py3-none-any.whl (131kB)\n",
            "\r\u001b[K     |██▌                             | 10kB 18.5MB/s eta 0:00:01\r\u001b[K     |█████                           | 20kB 25.5MB/s eta 0:00:01\r\u001b[K     |███████▌                        | 30kB 22.3MB/s eta 0:00:01\r\u001b[K     |██████████                      | 40kB 25.0MB/s eta 0:00:01\r\u001b[K     |████████████▌                   | 51kB 26.0MB/s eta 0:00:01\r\u001b[K     |███████████████                 | 61kB 21.4MB/s eta 0:00:01\r\u001b[K     |█████████████████▌              | 71kB 20.6MB/s eta 0:00:01\r\u001b[K     |████████████████████            | 81kB 21.6MB/s eta 0:00:01\r\u001b[K     |██████████████████████▌         | 92kB 20.1MB/s eta 0:00:01\r\u001b[K     |█████████████████████████       | 102kB 19.6MB/s eta 0:00:01\r\u001b[K     |███████████████████████████▌    | 112kB 19.6MB/s eta 0:00:01\r\u001b[K     |██████████████████████████████  | 122kB 19.6MB/s eta 0:00:01\r\u001b[K     |████████████████████████████████| 133kB 19.6MB/s \n",
            "\u001b[?25hInstalling collected packages: emoji\n",
            "Successfully installed emoji-1.2.0\n"
          ],
          "name": "stdout"
        },
        {
          "output_type": "execute_result",
          "data": {
            "text/html": [
              "<div>\n",
              "<style scoped>\n",
              "    .dataframe tbody tr th:only-of-type {\n",
              "        vertical-align: middle;\n",
              "    }\n",
              "\n",
              "    .dataframe tbody tr th {\n",
              "        vertical-align: top;\n",
              "    }\n",
              "\n",
              "    .dataframe thead th {\n",
              "        text-align: right;\n",
              "    }\n",
              "</style>\n",
              "<table border=\"1\" class=\"dataframe\">\n",
              "  <thead>\n",
              "    <tr style=\"text-align: right;\">\n",
              "      <th></th>\n",
              "      <th>Sentence</th>\n",
              "      <th>Type</th>\n",
              "      <th>Level</th>\n",
              "      <th>Target</th>\n",
              "      <th>Class</th>\n",
              "      <th>Length</th>\n",
              "      <th>Count</th>\n",
              "      <th>cleanSentence</th>\n",
              "      <th>Emoji</th>\n",
              "    </tr>\n",
              "  </thead>\n",
              "  <tbody>\n",
              "    <tr>\n",
              "      <th>0</th>\n",
              "      <td>T pas Bo 😂😂🥃</td>\n",
              "      <td>Mockery</td>\n",
              "      <td>LOW</td>\n",
              "      <td>USER</td>\n",
              "      <td>1</td>\n",
              "      <td>12</td>\n",
              "      <td>4</td>\n",
              "      <td>t pas bo</td>\n",
              "      <td>[😂, 😂, 🥃]</td>\n",
              "    </tr>\n",
              "    <tr>\n",
              "      <th>1</th>\n",
              "      <td>t’es vilain 😂😂😂😂😂😂</td>\n",
              "      <td>Mockery</td>\n",
              "      <td>LOW</td>\n",
              "      <td>USER</td>\n",
              "      <td>1</td>\n",
              "      <td>18</td>\n",
              "      <td>3</td>\n",
              "      <td>t’es vilain</td>\n",
              "      <td>[😂, 😂, 😂, 😂, 😂, 😂]</td>\n",
              "    </tr>\n",
              "    <tr>\n",
              "      <th>2</th>\n",
              "      <td>Je te propose un d'île je m'abonne à ta chaine...</td>\n",
              "      <td>Hate</td>\n",
              "      <td>LOW</td>\n",
              "      <td>USER</td>\n",
              "      <td>1</td>\n",
              "      <td>189</td>\n",
              "      <td>37</td>\n",
              "      <td>je te propose un d'île je m'abonne à ta chaine...</td>\n",
              "      <td>[]</td>\n",
              "    </tr>\n",
              "    <tr>\n",
              "      <th>3</th>\n",
              "      <td>T un kiko mdr</td>\n",
              "      <td>Insult</td>\n",
              "      <td>LOW</td>\n",
              "      <td>USER</td>\n",
              "      <td>1</td>\n",
              "      <td>13</td>\n",
              "      <td>4</td>\n",
              "      <td>t un kiko mdr</td>\n",
              "      <td>[]</td>\n",
              "    </tr>\n",
              "    <tr>\n",
              "      <th>4</th>\n",
              "      <td>Moi mdr t trop nul</td>\n",
              "      <td>Hate</td>\n",
              "      <td>LOW</td>\n",
              "      <td>USER</td>\n",
              "      <td>1</td>\n",
              "      <td>18</td>\n",
              "      <td>5</td>\n",
              "      <td>moi mdr t trop nul</td>\n",
              "      <td>[]</td>\n",
              "    </tr>\n",
              "    <tr>\n",
              "      <th>5</th>\n",
              "      <td>Ta un mono sourcils 😂</td>\n",
              "      <td>Mockery</td>\n",
              "      <td>LOW</td>\n",
              "      <td>USER</td>\n",
              "      <td>1</td>\n",
              "      <td>21</td>\n",
              "      <td>5</td>\n",
              "      <td>ta un mono sourcils</td>\n",
              "      <td>[😂]</td>\n",
              "    </tr>\n",
              "    <tr>\n",
              "      <th>6</th>\n",
              "      <td>Grosse merdes</td>\n",
              "      <td>Insult</td>\n",
              "      <td>LOW</td>\n",
              "      <td>USER</td>\n",
              "      <td>1</td>\n",
              "      <td>13</td>\n",
              "      <td>2</td>\n",
              "      <td>grosse merdes</td>\n",
              "      <td>[]</td>\n",
              "    </tr>\n",
              "    <tr>\n",
              "      <th>7</th>\n",
              "      <td>espèce de gamin 😂😂</td>\n",
              "      <td>Insult</td>\n",
              "      <td>LOW</td>\n",
              "      <td>USER</td>\n",
              "      <td>1</td>\n",
              "      <td>18</td>\n",
              "      <td>4</td>\n",
              "      <td>espèce de gamin</td>\n",
              "      <td>[😂, 😂]</td>\n",
              "    </tr>\n",
              "    <tr>\n",
              "      <th>8</th>\n",
              "      <td>C'est quoi cette mode ou presque tout les YouT...</td>\n",
              "      <td>Insult</td>\n",
              "      <td>LOW</td>\n",
              "      <td>USER</td>\n",
              "      <td>1</td>\n",
              "      <td>174</td>\n",
              "      <td>37</td>\n",
              "      <td>c'est quoi cette mode ou presque tout les yout...</td>\n",
              "      <td>[]</td>\n",
              "    </tr>\n",
              "    <tr>\n",
              "      <th>9</th>\n",
              "      <td>@VittoreMorgane @crdsar et ? il est au dessus ...</td>\n",
              "      <td>Insult</td>\n",
              "      <td>LOW</td>\n",
              "      <td>USER</td>\n",
              "      <td>1</td>\n",
              "      <td>226</td>\n",
              "      <td>42</td>\n",
              "      <td>@vittoremorgane @crdsar et ? il est au dessus ...</td>\n",
              "      <td>[]</td>\n",
              "    </tr>\n",
              "  </tbody>\n",
              "</table>\n",
              "</div>"
            ],
            "text/plain": [
              "                                            Sentence  ...               Emoji\n",
              "0                                       T pas Bo 😂😂🥃  ...           [😂, 😂, 🥃]\n",
              "1                                 t’es vilain 😂😂😂😂😂😂  ...  [😂, 😂, 😂, 😂, 😂, 😂]\n",
              "2  Je te propose un d'île je m'abonne à ta chaine...  ...                  []\n",
              "3                                      T un kiko mdr  ...                  []\n",
              "4                                 Moi mdr t trop nul  ...                  []\n",
              "5                              Ta un mono sourcils 😂  ...                 [😂]\n",
              "6                                      Grosse merdes  ...                  []\n",
              "7                                 espèce de gamin 😂😂  ...              [😂, 😂]\n",
              "8  C'est quoi cette mode ou presque tout les YouT...  ...                  []\n",
              "9  @VittoreMorgane @crdsar et ? il est au dessus ...  ...                  []\n",
              "\n",
              "[10 rows x 9 columns]"
            ]
          },
          "metadata": {
            "tags": []
          },
          "execution_count": 25
        }
      ]
    },
    {
      "cell_type": "code",
      "metadata": {
        "colab": {
          "base_uri": "https://localhost:8080/"
        },
        "id": "lh0OZbD7NqaG",
        "outputId": "b3174779-d6d2-462f-ad70-5b41e387e28d"
      },
      "source": [
        "#Extracting list of unique emojis\r\n",
        "import itertools\r\n",
        "emoji_list = np.unique([*itertools.chain.from_iterable(dataset.Emoji)])\r\n",
        "print(emoji_list[:30])"
      ],
      "execution_count": 26,
      "outputs": [
        {
          "output_type": "stream",
          "text": [
            "['©' '®' '‼' '⁉' '™' '↔' '↖' '↗' '↘' '↙' '↩' '↪' '⌛' '⌨' '⏩' '⏫' '⏬' '⏭'\n",
            " '⏰' '⏱' '⏳' '⏸' 'Ⓜ' '▪' '▶' '◀' '◼' '◽' '☀' '☁']\n"
          ],
          "name": "stdout"
        }
      ]
    },
    {
      "cell_type": "code",
      "metadata": {
        "colab": {
          "base_uri": "https://localhost:8080/"
        },
        "id": "QbQp-bFOjZ-H",
        "outputId": "f71e5bdb-669f-4489-982d-ca64b47a36f4"
      },
      "source": [
        "emoji_fr_dict = pd.read_csv('/content/drive/My Drive/CS224n_Project/emoji_fr_dict_int.csv', index_col=0, squeeze=True).to_dict()\r\n",
        "list(emoji_fr_dict.items())[:10]"
      ],
      "execution_count": 27,
      "outputs": [
        {
          "output_type": "execute_result",
          "data": {
            "text/plain": [
              "[(128512, 'visage souriant'),\n",
              " (128515, 'visage souriant avec de grands yeux'),\n",
              " (128516, 'visage souriant avec des yeux souriants'),\n",
              " (128513, 'visage rayonnant aux yeux souriants'),\n",
              " (128518, 'visage souriant plissant les yeux'),\n",
              " (128517, 'visage souriant de sueur'),\n",
              " (129315, 'roulant sur le sol en riant'),\n",
              " (128514, 'visage avec des larmes de joie'),\n",
              " (128578, 'visage légèrement souriant'),\n",
              " (128579, 'visage à l&#39;envers')]"
            ]
          },
          "metadata": {
            "tags": []
          },
          "execution_count": 27
        }
      ]
    },
    {
      "cell_type": "code",
      "metadata": {
        "id": "PAxkhi9T_XWJ",
        "colab": {
          "base_uri": "https://localhost:8080/",
          "height": 251
        },
        "outputId": "28134fab-c072-481f-f374-2888093313be"
      },
      "source": [
        "#Convert emojis to corresponding text (to keep their spirit)\r\n",
        "def convert_emojis(text):\r\n",
        "    for emot in text:\r\n",
        "      for subcode in emoji_fr_dict.keys():\r\n",
        "        if emot == chr(subcode):\r\n",
        "          text = [e.replace(emot, emoji_fr_dict[subcode]) for e in text]\r\n",
        "    return text\r\n",
        "\r\n",
        "dataset['EmojiToText'] = dataset['Emoji'].apply(convert_emojis)\r\n",
        "dataset.head()"
      ],
      "execution_count": 28,
      "outputs": [
        {
          "output_type": "execute_result",
          "data": {
            "text/html": [
              "<div>\n",
              "<style scoped>\n",
              "    .dataframe tbody tr th:only-of-type {\n",
              "        vertical-align: middle;\n",
              "    }\n",
              "\n",
              "    .dataframe tbody tr th {\n",
              "        vertical-align: top;\n",
              "    }\n",
              "\n",
              "    .dataframe thead th {\n",
              "        text-align: right;\n",
              "    }\n",
              "</style>\n",
              "<table border=\"1\" class=\"dataframe\">\n",
              "  <thead>\n",
              "    <tr style=\"text-align: right;\">\n",
              "      <th></th>\n",
              "      <th>Sentence</th>\n",
              "      <th>Type</th>\n",
              "      <th>Level</th>\n",
              "      <th>Target</th>\n",
              "      <th>Class</th>\n",
              "      <th>Length</th>\n",
              "      <th>Count</th>\n",
              "      <th>cleanSentence</th>\n",
              "      <th>Emoji</th>\n",
              "      <th>EmojiToText</th>\n",
              "    </tr>\n",
              "  </thead>\n",
              "  <tbody>\n",
              "    <tr>\n",
              "      <th>0</th>\n",
              "      <td>T pas Bo 😂😂🥃</td>\n",
              "      <td>Mockery</td>\n",
              "      <td>LOW</td>\n",
              "      <td>USER</td>\n",
              "      <td>1</td>\n",
              "      <td>12</td>\n",
              "      <td>4</td>\n",
              "      <td>t pas bo</td>\n",
              "      <td>[😂, 😂, 🥃]</td>\n",
              "      <td>[visage avec des larmes de joie, visage avec d...</td>\n",
              "    </tr>\n",
              "    <tr>\n",
              "      <th>1</th>\n",
              "      <td>t’es vilain 😂😂😂😂😂😂</td>\n",
              "      <td>Mockery</td>\n",
              "      <td>LOW</td>\n",
              "      <td>USER</td>\n",
              "      <td>1</td>\n",
              "      <td>18</td>\n",
              "      <td>3</td>\n",
              "      <td>t’es vilain</td>\n",
              "      <td>[😂, 😂, 😂, 😂, 😂, 😂]</td>\n",
              "      <td>[visage avec des larmes de joie, visage avec d...</td>\n",
              "    </tr>\n",
              "    <tr>\n",
              "      <th>2</th>\n",
              "      <td>Je te propose un d'île je m'abonne à ta chaine...</td>\n",
              "      <td>Hate</td>\n",
              "      <td>LOW</td>\n",
              "      <td>USER</td>\n",
              "      <td>1</td>\n",
              "      <td>189</td>\n",
              "      <td>37</td>\n",
              "      <td>je te propose un d'île je m'abonne à ta chaine...</td>\n",
              "      <td>[]</td>\n",
              "      <td>[]</td>\n",
              "    </tr>\n",
              "    <tr>\n",
              "      <th>3</th>\n",
              "      <td>T un kiko mdr</td>\n",
              "      <td>Insult</td>\n",
              "      <td>LOW</td>\n",
              "      <td>USER</td>\n",
              "      <td>1</td>\n",
              "      <td>13</td>\n",
              "      <td>4</td>\n",
              "      <td>t un kiko mdr</td>\n",
              "      <td>[]</td>\n",
              "      <td>[]</td>\n",
              "    </tr>\n",
              "    <tr>\n",
              "      <th>4</th>\n",
              "      <td>Moi mdr t trop nul</td>\n",
              "      <td>Hate</td>\n",
              "      <td>LOW</td>\n",
              "      <td>USER</td>\n",
              "      <td>1</td>\n",
              "      <td>18</td>\n",
              "      <td>5</td>\n",
              "      <td>moi mdr t trop nul</td>\n",
              "      <td>[]</td>\n",
              "      <td>[]</td>\n",
              "    </tr>\n",
              "  </tbody>\n",
              "</table>\n",
              "</div>"
            ],
            "text/plain": [
              "                                            Sentence  ...                                        EmojiToText\n",
              "0                                       T pas Bo 😂😂🥃  ...  [visage avec des larmes de joie, visage avec d...\n",
              "1                                 t’es vilain 😂😂😂😂😂😂  ...  [visage avec des larmes de joie, visage avec d...\n",
              "2  Je te propose un d'île je m'abonne à ta chaine...  ...                                                 []\n",
              "3                                      T un kiko mdr  ...                                                 []\n",
              "4                                 Moi mdr t trop nul  ...                                                 []\n",
              "\n",
              "[5 rows x 10 columns]"
            ]
          },
          "metadata": {
            "tags": []
          },
          "execution_count": 28
        }
      ]
    },
    {
      "cell_type": "code",
      "metadata": {
        "colab": {
          "base_uri": "https://localhost:8080/"
        },
        "id": "ch4CUTmrT1UP",
        "outputId": "66114010-eb30-4eb9-937c-6bc6fe8959a8"
      },
      "source": [
        "dataset.EmojiToText[0]"
      ],
      "execution_count": 29,
      "outputs": [
        {
          "output_type": "execute_result",
          "data": {
            "text/plain": [
              "['visage avec des larmes de joie',\n",
              " 'visage avec des larmes de joie',\n",
              " 'verre de verre']"
            ]
          },
          "metadata": {
            "tags": []
          },
          "execution_count": 29
        }
      ]
    },
    {
      "cell_type": "code",
      "metadata": {
        "colab": {
          "base_uri": "https://localhost:8080/",
          "height": 453
        },
        "id": "mkP00pgPz7Ml",
        "outputId": "042b94d1-6090-4a0c-d60c-63b1e4bff347"
      },
      "source": [
        "#Special characters cleaning\r\n",
        "\"\"\"\r\n",
        "A utility function to remove numerical characters from the text.\r\n",
        "\r\n",
        "\"\"\"\r\n",
        "\r\n",
        "def remove_nums(text):\r\n",
        "    text = ''.join([i for i in text if not i.isdigit()])         \r\n",
        "    return text\r\n",
        "\r\n",
        "\r\n",
        "\"\"\"\r\n",
        "A utility function to remove URL links from the text.\r\n",
        "\r\n",
        "\"\"\"\r\n",
        "\r\n",
        "def remove_URL(text):\r\n",
        "    url = re.compile(r'https?://\\S+|www\\.\\S+')\r\n",
        "    return url.sub(r'',text)\r\n",
        "\r\n",
        "\r\n",
        "\"\"\"\r\n",
        "A utility function to remove HTML tags from the text.\r\n",
        "\r\n",
        "\"\"\"\r\n",
        "\r\n",
        "def remove_html(text):\r\n",
        "    html=re.compile(r'<.*?>')\r\n",
        "    return html.sub(r'',text)\r\n",
        "\r\n",
        "\r\n",
        "\"\"\"\r\n",
        "A utility function to remove @\r\n",
        "\r\n",
        "\"\"\"\r\n",
        "\r\n",
        "def remove_special(text):\r\n",
        "    return \" \".join(re.sub(\"(@[A-Za-z0-9]+)|([^ \\nA-Za-z0-9À-ÖØ-öø-ÿ/ \\t])\", \" \",text).split())\r\n",
        "#    return \" \".join(re.sub(\"(@[^\\s]+)\", \" \",text).split())\r\n",
        "\r\n",
        "\r\n",
        "#dataset['cleanSentence'] = dataset['cleanSentence'].apply(remove_nums)\r\n",
        "dataset['cleanSentence'] = dataset['cleanSentence'].apply(remove_URL)\r\n",
        "dataset['cleanSentence'] = dataset['cleanSentence'].apply(remove_html)\r\n",
        "dataset['cleanSentence'] = dataset['cleanSentence'].apply(remove_special)\r\n",
        "\r\n",
        "dataset['EmojiToText'] = dataset['EmojiToText'].apply(', '.join)\r\n",
        "dataset['EmojiToText'] = dataset['EmojiToText'].apply(remove_special)\r\n",
        "\r\n",
        "dataset.head(10)"
      ],
      "execution_count": 30,
      "outputs": [
        {
          "output_type": "execute_result",
          "data": {
            "text/html": [
              "<div>\n",
              "<style scoped>\n",
              "    .dataframe tbody tr th:only-of-type {\n",
              "        vertical-align: middle;\n",
              "    }\n",
              "\n",
              "    .dataframe tbody tr th {\n",
              "        vertical-align: top;\n",
              "    }\n",
              "\n",
              "    .dataframe thead th {\n",
              "        text-align: right;\n",
              "    }\n",
              "</style>\n",
              "<table border=\"1\" class=\"dataframe\">\n",
              "  <thead>\n",
              "    <tr style=\"text-align: right;\">\n",
              "      <th></th>\n",
              "      <th>Sentence</th>\n",
              "      <th>Type</th>\n",
              "      <th>Level</th>\n",
              "      <th>Target</th>\n",
              "      <th>Class</th>\n",
              "      <th>Length</th>\n",
              "      <th>Count</th>\n",
              "      <th>cleanSentence</th>\n",
              "      <th>Emoji</th>\n",
              "      <th>EmojiToText</th>\n",
              "    </tr>\n",
              "  </thead>\n",
              "  <tbody>\n",
              "    <tr>\n",
              "      <th>0</th>\n",
              "      <td>T pas Bo 😂😂🥃</td>\n",
              "      <td>Mockery</td>\n",
              "      <td>LOW</td>\n",
              "      <td>USER</td>\n",
              "      <td>1</td>\n",
              "      <td>12</td>\n",
              "      <td>4</td>\n",
              "      <td>t pas bo</td>\n",
              "      <td>[😂, 😂, 🥃]</td>\n",
              "      <td>visage avec des larmes de joie visage avec des...</td>\n",
              "    </tr>\n",
              "    <tr>\n",
              "      <th>1</th>\n",
              "      <td>t’es vilain 😂😂😂😂😂😂</td>\n",
              "      <td>Mockery</td>\n",
              "      <td>LOW</td>\n",
              "      <td>USER</td>\n",
              "      <td>1</td>\n",
              "      <td>18</td>\n",
              "      <td>3</td>\n",
              "      <td>t es vilain</td>\n",
              "      <td>[😂, 😂, 😂, 😂, 😂, 😂]</td>\n",
              "      <td>visage avec des larmes de joie visage avec des...</td>\n",
              "    </tr>\n",
              "    <tr>\n",
              "      <th>2</th>\n",
              "      <td>Je te propose un d'île je m'abonne à ta chaine...</td>\n",
              "      <td>Hate</td>\n",
              "      <td>LOW</td>\n",
              "      <td>USER</td>\n",
              "      <td>1</td>\n",
              "      <td>189</td>\n",
              "      <td>37</td>\n",
              "      <td>je te propose un d île je m abonne à ta chaine...</td>\n",
              "      <td>[]</td>\n",
              "      <td></td>\n",
              "    </tr>\n",
              "    <tr>\n",
              "      <th>3</th>\n",
              "      <td>T un kiko mdr</td>\n",
              "      <td>Insult</td>\n",
              "      <td>LOW</td>\n",
              "      <td>USER</td>\n",
              "      <td>1</td>\n",
              "      <td>13</td>\n",
              "      <td>4</td>\n",
              "      <td>t un kiko mdr</td>\n",
              "      <td>[]</td>\n",
              "      <td></td>\n",
              "    </tr>\n",
              "    <tr>\n",
              "      <th>4</th>\n",
              "      <td>Moi mdr t trop nul</td>\n",
              "      <td>Hate</td>\n",
              "      <td>LOW</td>\n",
              "      <td>USER</td>\n",
              "      <td>1</td>\n",
              "      <td>18</td>\n",
              "      <td>5</td>\n",
              "      <td>moi mdr t trop nul</td>\n",
              "      <td>[]</td>\n",
              "      <td></td>\n",
              "    </tr>\n",
              "    <tr>\n",
              "      <th>5</th>\n",
              "      <td>Ta un mono sourcils 😂</td>\n",
              "      <td>Mockery</td>\n",
              "      <td>LOW</td>\n",
              "      <td>USER</td>\n",
              "      <td>1</td>\n",
              "      <td>21</td>\n",
              "      <td>5</td>\n",
              "      <td>ta un mono sourcils</td>\n",
              "      <td>[😂]</td>\n",
              "      <td>visage avec des larmes de joie</td>\n",
              "    </tr>\n",
              "    <tr>\n",
              "      <th>6</th>\n",
              "      <td>Grosse merdes</td>\n",
              "      <td>Insult</td>\n",
              "      <td>LOW</td>\n",
              "      <td>USER</td>\n",
              "      <td>1</td>\n",
              "      <td>13</td>\n",
              "      <td>2</td>\n",
              "      <td>grosse merdes</td>\n",
              "      <td>[]</td>\n",
              "      <td></td>\n",
              "    </tr>\n",
              "    <tr>\n",
              "      <th>7</th>\n",
              "      <td>espèce de gamin 😂😂</td>\n",
              "      <td>Insult</td>\n",
              "      <td>LOW</td>\n",
              "      <td>USER</td>\n",
              "      <td>1</td>\n",
              "      <td>18</td>\n",
              "      <td>4</td>\n",
              "      <td>espèce de gamin</td>\n",
              "      <td>[😂, 😂]</td>\n",
              "      <td>visage avec des larmes de joie visage avec des...</td>\n",
              "    </tr>\n",
              "    <tr>\n",
              "      <th>8</th>\n",
              "      <td>C'est quoi cette mode ou presque tout les YouT...</td>\n",
              "      <td>Insult</td>\n",
              "      <td>LOW</td>\n",
              "      <td>USER</td>\n",
              "      <td>1</td>\n",
              "      <td>174</td>\n",
              "      <td>37</td>\n",
              "      <td>c est quoi cette mode ou presque tout les yout...</td>\n",
              "      <td>[]</td>\n",
              "      <td></td>\n",
              "    </tr>\n",
              "    <tr>\n",
              "      <th>9</th>\n",
              "      <td>@VittoreMorgane @crdsar et ? il est au dessus ...</td>\n",
              "      <td>Insult</td>\n",
              "      <td>LOW</td>\n",
              "      <td>USER</td>\n",
              "      <td>1</td>\n",
              "      <td>226</td>\n",
              "      <td>42</td>\n",
              "      <td>et il est au dessus des lois je fais des reuni...</td>\n",
              "      <td>[]</td>\n",
              "      <td></td>\n",
              "    </tr>\n",
              "  </tbody>\n",
              "</table>\n",
              "</div>"
            ],
            "text/plain": [
              "                                            Sentence  ...                                        EmojiToText\n",
              "0                                       T pas Bo 😂😂🥃  ...  visage avec des larmes de joie visage avec des...\n",
              "1                                 t’es vilain 😂😂😂😂😂😂  ...  visage avec des larmes de joie visage avec des...\n",
              "2  Je te propose un d'île je m'abonne à ta chaine...  ...                                                   \n",
              "3                                      T un kiko mdr  ...                                                   \n",
              "4                                 Moi mdr t trop nul  ...                                                   \n",
              "5                              Ta un mono sourcils 😂  ...                     visage avec des larmes de joie\n",
              "6                                      Grosse merdes  ...                                                   \n",
              "7                                 espèce de gamin 😂😂  ...  visage avec des larmes de joie visage avec des...\n",
              "8  C'est quoi cette mode ou presque tout les YouT...  ...                                                   \n",
              "9  @VittoreMorgane @crdsar et ? il est au dessus ...  ...                                                   \n",
              "\n",
              "[10 rows x 10 columns]"
            ]
          },
          "metadata": {
            "tags": []
          },
          "execution_count": 30
        }
      ]
    },
    {
      "cell_type": "code",
      "metadata": {
        "colab": {
          "base_uri": "https://localhost:8080/",
          "height": 453
        },
        "id": "YXlELDUC4mNM",
        "outputId": "0b1f1017-a98a-4552-fb08-0ea0423be93c"
      },
      "source": [
        "#Removing punctuation\r\n",
        "punct =[]\r\n",
        "punct += list(string.punctuation)\r\n",
        "punct += '’'\r\n",
        "punct.remove(\"'\")\r\n",
        "\r\n",
        "def remove_punctuations(text):\r\n",
        "    for punctuation in punct:\r\n",
        "        text = text.replace(punctuation, ' ')\r\n",
        "    return text\r\n",
        "\r\n",
        "dataset['cleanSentence'] = dataset['cleanSentence'].apply(remove_punctuations)\r\n",
        "dataset['EmojiToText'] = dataset['EmojiToText'].apply(remove_punctuations)\r\n",
        "dataset.head(10)"
      ],
      "execution_count": 31,
      "outputs": [
        {
          "output_type": "execute_result",
          "data": {
            "text/html": [
              "<div>\n",
              "<style scoped>\n",
              "    .dataframe tbody tr th:only-of-type {\n",
              "        vertical-align: middle;\n",
              "    }\n",
              "\n",
              "    .dataframe tbody tr th {\n",
              "        vertical-align: top;\n",
              "    }\n",
              "\n",
              "    .dataframe thead th {\n",
              "        text-align: right;\n",
              "    }\n",
              "</style>\n",
              "<table border=\"1\" class=\"dataframe\">\n",
              "  <thead>\n",
              "    <tr style=\"text-align: right;\">\n",
              "      <th></th>\n",
              "      <th>Sentence</th>\n",
              "      <th>Type</th>\n",
              "      <th>Level</th>\n",
              "      <th>Target</th>\n",
              "      <th>Class</th>\n",
              "      <th>Length</th>\n",
              "      <th>Count</th>\n",
              "      <th>cleanSentence</th>\n",
              "      <th>Emoji</th>\n",
              "      <th>EmojiToText</th>\n",
              "    </tr>\n",
              "  </thead>\n",
              "  <tbody>\n",
              "    <tr>\n",
              "      <th>0</th>\n",
              "      <td>T pas Bo 😂😂🥃</td>\n",
              "      <td>Mockery</td>\n",
              "      <td>LOW</td>\n",
              "      <td>USER</td>\n",
              "      <td>1</td>\n",
              "      <td>12</td>\n",
              "      <td>4</td>\n",
              "      <td>t pas bo</td>\n",
              "      <td>[😂, 😂, 🥃]</td>\n",
              "      <td>visage avec des larmes de joie visage avec des...</td>\n",
              "    </tr>\n",
              "    <tr>\n",
              "      <th>1</th>\n",
              "      <td>t’es vilain 😂😂😂😂😂😂</td>\n",
              "      <td>Mockery</td>\n",
              "      <td>LOW</td>\n",
              "      <td>USER</td>\n",
              "      <td>1</td>\n",
              "      <td>18</td>\n",
              "      <td>3</td>\n",
              "      <td>t es vilain</td>\n",
              "      <td>[😂, 😂, 😂, 😂, 😂, 😂]</td>\n",
              "      <td>visage avec des larmes de joie visage avec des...</td>\n",
              "    </tr>\n",
              "    <tr>\n",
              "      <th>2</th>\n",
              "      <td>Je te propose un d'île je m'abonne à ta chaine...</td>\n",
              "      <td>Hate</td>\n",
              "      <td>LOW</td>\n",
              "      <td>USER</td>\n",
              "      <td>1</td>\n",
              "      <td>189</td>\n",
              "      <td>37</td>\n",
              "      <td>je te propose un d île je m abonne à ta chaine...</td>\n",
              "      <td>[]</td>\n",
              "      <td></td>\n",
              "    </tr>\n",
              "    <tr>\n",
              "      <th>3</th>\n",
              "      <td>T un kiko mdr</td>\n",
              "      <td>Insult</td>\n",
              "      <td>LOW</td>\n",
              "      <td>USER</td>\n",
              "      <td>1</td>\n",
              "      <td>13</td>\n",
              "      <td>4</td>\n",
              "      <td>t un kiko mdr</td>\n",
              "      <td>[]</td>\n",
              "      <td></td>\n",
              "    </tr>\n",
              "    <tr>\n",
              "      <th>4</th>\n",
              "      <td>Moi mdr t trop nul</td>\n",
              "      <td>Hate</td>\n",
              "      <td>LOW</td>\n",
              "      <td>USER</td>\n",
              "      <td>1</td>\n",
              "      <td>18</td>\n",
              "      <td>5</td>\n",
              "      <td>moi mdr t trop nul</td>\n",
              "      <td>[]</td>\n",
              "      <td></td>\n",
              "    </tr>\n",
              "    <tr>\n",
              "      <th>5</th>\n",
              "      <td>Ta un mono sourcils 😂</td>\n",
              "      <td>Mockery</td>\n",
              "      <td>LOW</td>\n",
              "      <td>USER</td>\n",
              "      <td>1</td>\n",
              "      <td>21</td>\n",
              "      <td>5</td>\n",
              "      <td>ta un mono sourcils</td>\n",
              "      <td>[😂]</td>\n",
              "      <td>visage avec des larmes de joie</td>\n",
              "    </tr>\n",
              "    <tr>\n",
              "      <th>6</th>\n",
              "      <td>Grosse merdes</td>\n",
              "      <td>Insult</td>\n",
              "      <td>LOW</td>\n",
              "      <td>USER</td>\n",
              "      <td>1</td>\n",
              "      <td>13</td>\n",
              "      <td>2</td>\n",
              "      <td>grosse merdes</td>\n",
              "      <td>[]</td>\n",
              "      <td></td>\n",
              "    </tr>\n",
              "    <tr>\n",
              "      <th>7</th>\n",
              "      <td>espèce de gamin 😂😂</td>\n",
              "      <td>Insult</td>\n",
              "      <td>LOW</td>\n",
              "      <td>USER</td>\n",
              "      <td>1</td>\n",
              "      <td>18</td>\n",
              "      <td>4</td>\n",
              "      <td>espèce de gamin</td>\n",
              "      <td>[😂, 😂]</td>\n",
              "      <td>visage avec des larmes de joie visage avec des...</td>\n",
              "    </tr>\n",
              "    <tr>\n",
              "      <th>8</th>\n",
              "      <td>C'est quoi cette mode ou presque tout les YouT...</td>\n",
              "      <td>Insult</td>\n",
              "      <td>LOW</td>\n",
              "      <td>USER</td>\n",
              "      <td>1</td>\n",
              "      <td>174</td>\n",
              "      <td>37</td>\n",
              "      <td>c est quoi cette mode ou presque tout les yout...</td>\n",
              "      <td>[]</td>\n",
              "      <td></td>\n",
              "    </tr>\n",
              "    <tr>\n",
              "      <th>9</th>\n",
              "      <td>@VittoreMorgane @crdsar et ? il est au dessus ...</td>\n",
              "      <td>Insult</td>\n",
              "      <td>LOW</td>\n",
              "      <td>USER</td>\n",
              "      <td>1</td>\n",
              "      <td>226</td>\n",
              "      <td>42</td>\n",
              "      <td>et il est au dessus des lois je fais des reuni...</td>\n",
              "      <td>[]</td>\n",
              "      <td></td>\n",
              "    </tr>\n",
              "  </tbody>\n",
              "</table>\n",
              "</div>"
            ],
            "text/plain": [
              "                                            Sentence  ...                                        EmojiToText\n",
              "0                                       T pas Bo 😂😂🥃  ...  visage avec des larmes de joie visage avec des...\n",
              "1                                 t’es vilain 😂😂😂😂😂😂  ...  visage avec des larmes de joie visage avec des...\n",
              "2  Je te propose un d'île je m'abonne à ta chaine...  ...                                                   \n",
              "3                                      T un kiko mdr  ...                                                   \n",
              "4                                 Moi mdr t trop nul  ...                                                   \n",
              "5                              Ta un mono sourcils 😂  ...                     visage avec des larmes de joie\n",
              "6                                      Grosse merdes  ...                                                   \n",
              "7                                 espèce de gamin 😂😂  ...  visage avec des larmes de joie visage avec des...\n",
              "8  C'est quoi cette mode ou presque tout les YouT...  ...                                                   \n",
              "9  @VittoreMorgane @crdsar et ? il est au dessus ...  ...                                                   \n",
              "\n",
              "[10 rows x 10 columns]"
            ]
          },
          "metadata": {
            "tags": []
          },
          "execution_count": 31
        }
      ]
    },
    {
      "cell_type": "code",
      "metadata": {
        "colab": {
          "base_uri": "https://localhost:8080/"
        },
        "id": "fzKXO9qk_DKr",
        "outputId": "9fd4e48b-0fd9-4378-c296-ed9d63d52e8d"
      },
      "source": [
        "#Checking frequent words\r\n",
        "cnt = Counter()\r\n",
        "for text in dataset[\"cleanSentence\"].values:\r\n",
        "    for word in text.split():\r\n",
        "        cnt[word] += 1\r\n",
        "        \r\n",
        "cnt.most_common(20)"
      ],
      "execution_count": 32,
      "outputs": [
        {
          "output_type": "execute_result",
          "data": {
            "text/plain": [
              "[('de', 219669),\n",
              " ('est', 133579),\n",
              " ('la', 130991),\n",
              " ('et', 120552),\n",
              " ('le', 113016),\n",
              " ('les', 106419),\n",
              " ('c', 95209),\n",
              " ('pas', 92356),\n",
              " ('que', 84686),\n",
              " ('je', 80306),\n",
              " ('des', 77273),\n",
              " ('a', 76027),\n",
              " ('un', 75793),\n",
              " ('en', 73365),\n",
              " ('à', 70458),\n",
              " ('il', 67932),\n",
              " ('tu', 65680),\n",
              " ('pour', 61827),\n",
              " ('qui', 58492),\n",
              " ('l', 55957)]"
            ]
          },
          "metadata": {
            "tags": []
          },
          "execution_count": 32
        }
      ]
    },
    {
      "cell_type": "code",
      "metadata": {
        "colab": {
          "base_uri": "https://localhost:8080/",
          "height": 251
        },
        "id": "igNN2pfvnH5m",
        "outputId": "b827bba1-5cbb-41f0-e698-1ef4be71edc5"
      },
      "source": [
        "dataset['enhancedSentence'] = dataset['cleanSentence'] + \" \" + dataset['EmojiToText']\r\n",
        "dataset.head()"
      ],
      "execution_count": 33,
      "outputs": [
        {
          "output_type": "execute_result",
          "data": {
            "text/html": [
              "<div>\n",
              "<style scoped>\n",
              "    .dataframe tbody tr th:only-of-type {\n",
              "        vertical-align: middle;\n",
              "    }\n",
              "\n",
              "    .dataframe tbody tr th {\n",
              "        vertical-align: top;\n",
              "    }\n",
              "\n",
              "    .dataframe thead th {\n",
              "        text-align: right;\n",
              "    }\n",
              "</style>\n",
              "<table border=\"1\" class=\"dataframe\">\n",
              "  <thead>\n",
              "    <tr style=\"text-align: right;\">\n",
              "      <th></th>\n",
              "      <th>Sentence</th>\n",
              "      <th>Type</th>\n",
              "      <th>Level</th>\n",
              "      <th>Target</th>\n",
              "      <th>Class</th>\n",
              "      <th>Length</th>\n",
              "      <th>Count</th>\n",
              "      <th>cleanSentence</th>\n",
              "      <th>Emoji</th>\n",
              "      <th>EmojiToText</th>\n",
              "      <th>enhancedSentence</th>\n",
              "    </tr>\n",
              "  </thead>\n",
              "  <tbody>\n",
              "    <tr>\n",
              "      <th>0</th>\n",
              "      <td>T pas Bo 😂😂🥃</td>\n",
              "      <td>Mockery</td>\n",
              "      <td>LOW</td>\n",
              "      <td>USER</td>\n",
              "      <td>1</td>\n",
              "      <td>12</td>\n",
              "      <td>4</td>\n",
              "      <td>t pas bo</td>\n",
              "      <td>[😂, 😂, 🥃]</td>\n",
              "      <td>visage avec des larmes de joie visage avec des...</td>\n",
              "      <td>t pas bo visage avec des larmes de joie visage...</td>\n",
              "    </tr>\n",
              "    <tr>\n",
              "      <th>1</th>\n",
              "      <td>t’es vilain 😂😂😂😂😂😂</td>\n",
              "      <td>Mockery</td>\n",
              "      <td>LOW</td>\n",
              "      <td>USER</td>\n",
              "      <td>1</td>\n",
              "      <td>18</td>\n",
              "      <td>3</td>\n",
              "      <td>t es vilain</td>\n",
              "      <td>[😂, 😂, 😂, 😂, 😂, 😂]</td>\n",
              "      <td>visage avec des larmes de joie visage avec des...</td>\n",
              "      <td>t es vilain visage avec des larmes de joie vis...</td>\n",
              "    </tr>\n",
              "    <tr>\n",
              "      <th>2</th>\n",
              "      <td>Je te propose un d'île je m'abonne à ta chaine...</td>\n",
              "      <td>Hate</td>\n",
              "      <td>LOW</td>\n",
              "      <td>USER</td>\n",
              "      <td>1</td>\n",
              "      <td>189</td>\n",
              "      <td>37</td>\n",
              "      <td>je te propose un d île je m abonne à ta chaine...</td>\n",
              "      <td>[]</td>\n",
              "      <td></td>\n",
              "      <td>je te propose un d île je m abonne à ta chaine...</td>\n",
              "    </tr>\n",
              "    <tr>\n",
              "      <th>3</th>\n",
              "      <td>T un kiko mdr</td>\n",
              "      <td>Insult</td>\n",
              "      <td>LOW</td>\n",
              "      <td>USER</td>\n",
              "      <td>1</td>\n",
              "      <td>13</td>\n",
              "      <td>4</td>\n",
              "      <td>t un kiko mdr</td>\n",
              "      <td>[]</td>\n",
              "      <td></td>\n",
              "      <td>t un kiko mdr</td>\n",
              "    </tr>\n",
              "    <tr>\n",
              "      <th>4</th>\n",
              "      <td>Moi mdr t trop nul</td>\n",
              "      <td>Hate</td>\n",
              "      <td>LOW</td>\n",
              "      <td>USER</td>\n",
              "      <td>1</td>\n",
              "      <td>18</td>\n",
              "      <td>5</td>\n",
              "      <td>moi mdr t trop nul</td>\n",
              "      <td>[]</td>\n",
              "      <td></td>\n",
              "      <td>moi mdr t trop nul</td>\n",
              "    </tr>\n",
              "  </tbody>\n",
              "</table>\n",
              "</div>"
            ],
            "text/plain": [
              "                                            Sentence  ...                                   enhancedSentence\n",
              "0                                       T pas Bo 😂😂🥃  ...  t pas bo visage avec des larmes de joie visage...\n",
              "1                                 t’es vilain 😂😂😂😂😂😂  ...  t es vilain visage avec des larmes de joie vis...\n",
              "2  Je te propose un d'île je m'abonne à ta chaine...  ...  je te propose un d île je m abonne à ta chaine...\n",
              "3                                      T un kiko mdr  ...                                     t un kiko mdr \n",
              "4                                 Moi mdr t trop nul  ...                                moi mdr t trop nul \n",
              "\n",
              "[5 rows x 11 columns]"
            ]
          },
          "metadata": {
            "tags": []
          },
          "execution_count": 33
        }
      ]
    },
    {
      "cell_type": "code",
      "metadata": {
        "colab": {
          "base_uri": "https://localhost:8080/",
          "height": 470
        },
        "id": "RG4L5SiL5JNg",
        "outputId": "a7384852-afb3-4d85-fbc6-a001239b149b"
      },
      "source": [
        "#Removing stopwords\r\n",
        "STOPWORDS = nltk.corpus.stopwords.words('french')\r\n",
        "#STOPWORDS = set(nltk.corpus.stopwords.words('english')) | set(nltk.corpus.stopwords.words('french'))\r\n",
        "\r\n",
        "dataset_wo_stop = dataset.copy()\r\n",
        "\r\n",
        "def remove_stopwords(text):\r\n",
        "    return \" \".join([word for word in str(text).split() if word not in STOPWORDS])\r\n",
        "\r\n",
        "dataset_wo_stop['cleanSentence'] = dataset_wo_stop['cleanSentence'].apply(remove_stopwords)\r\n",
        "dataset_wo_stop.head(10)"
      ],
      "execution_count": 34,
      "outputs": [
        {
          "output_type": "execute_result",
          "data": {
            "text/html": [
              "<div>\n",
              "<style scoped>\n",
              "    .dataframe tbody tr th:only-of-type {\n",
              "        vertical-align: middle;\n",
              "    }\n",
              "\n",
              "    .dataframe tbody tr th {\n",
              "        vertical-align: top;\n",
              "    }\n",
              "\n",
              "    .dataframe thead th {\n",
              "        text-align: right;\n",
              "    }\n",
              "</style>\n",
              "<table border=\"1\" class=\"dataframe\">\n",
              "  <thead>\n",
              "    <tr style=\"text-align: right;\">\n",
              "      <th></th>\n",
              "      <th>Sentence</th>\n",
              "      <th>Type</th>\n",
              "      <th>Level</th>\n",
              "      <th>Target</th>\n",
              "      <th>Class</th>\n",
              "      <th>Length</th>\n",
              "      <th>Count</th>\n",
              "      <th>cleanSentence</th>\n",
              "      <th>Emoji</th>\n",
              "      <th>EmojiToText</th>\n",
              "      <th>enhancedSentence</th>\n",
              "    </tr>\n",
              "  </thead>\n",
              "  <tbody>\n",
              "    <tr>\n",
              "      <th>0</th>\n",
              "      <td>T pas Bo 😂😂🥃</td>\n",
              "      <td>Mockery</td>\n",
              "      <td>LOW</td>\n",
              "      <td>USER</td>\n",
              "      <td>1</td>\n",
              "      <td>12</td>\n",
              "      <td>4</td>\n",
              "      <td>bo</td>\n",
              "      <td>[😂, 😂, 🥃]</td>\n",
              "      <td>visage avec des larmes de joie visage avec des...</td>\n",
              "      <td>t pas bo visage avec des larmes de joie visage...</td>\n",
              "    </tr>\n",
              "    <tr>\n",
              "      <th>1</th>\n",
              "      <td>t’es vilain 😂😂😂😂😂😂</td>\n",
              "      <td>Mockery</td>\n",
              "      <td>LOW</td>\n",
              "      <td>USER</td>\n",
              "      <td>1</td>\n",
              "      <td>18</td>\n",
              "      <td>3</td>\n",
              "      <td>vilain</td>\n",
              "      <td>[😂, 😂, 😂, 😂, 😂, 😂]</td>\n",
              "      <td>visage avec des larmes de joie visage avec des...</td>\n",
              "      <td>t es vilain visage avec des larmes de joie vis...</td>\n",
              "    </tr>\n",
              "    <tr>\n",
              "      <th>2</th>\n",
              "      <td>Je te propose un d'île je m'abonne à ta chaine...</td>\n",
              "      <td>Hate</td>\n",
              "      <td>LOW</td>\n",
              "      <td>USER</td>\n",
              "      <td>1</td>\n",
              "      <td>189</td>\n",
              "      <td>37</td>\n",
              "      <td>propose île abonne chaine abonner chaîne youtu...</td>\n",
              "      <td>[]</td>\n",
              "      <td></td>\n",
              "      <td>je te propose un d île je m abonne à ta chaine...</td>\n",
              "    </tr>\n",
              "    <tr>\n",
              "      <th>3</th>\n",
              "      <td>T un kiko mdr</td>\n",
              "      <td>Insult</td>\n",
              "      <td>LOW</td>\n",
              "      <td>USER</td>\n",
              "      <td>1</td>\n",
              "      <td>13</td>\n",
              "      <td>4</td>\n",
              "      <td>kiko mdr</td>\n",
              "      <td>[]</td>\n",
              "      <td></td>\n",
              "      <td>t un kiko mdr</td>\n",
              "    </tr>\n",
              "    <tr>\n",
              "      <th>4</th>\n",
              "      <td>Moi mdr t trop nul</td>\n",
              "      <td>Hate</td>\n",
              "      <td>LOW</td>\n",
              "      <td>USER</td>\n",
              "      <td>1</td>\n",
              "      <td>18</td>\n",
              "      <td>5</td>\n",
              "      <td>mdr trop nul</td>\n",
              "      <td>[]</td>\n",
              "      <td></td>\n",
              "      <td>moi mdr t trop nul</td>\n",
              "    </tr>\n",
              "    <tr>\n",
              "      <th>5</th>\n",
              "      <td>Ta un mono sourcils 😂</td>\n",
              "      <td>Mockery</td>\n",
              "      <td>LOW</td>\n",
              "      <td>USER</td>\n",
              "      <td>1</td>\n",
              "      <td>21</td>\n",
              "      <td>5</td>\n",
              "      <td>mono sourcils</td>\n",
              "      <td>[😂]</td>\n",
              "      <td>visage avec des larmes de joie</td>\n",
              "      <td>ta un mono sourcils visage avec des larmes de ...</td>\n",
              "    </tr>\n",
              "    <tr>\n",
              "      <th>6</th>\n",
              "      <td>Grosse merdes</td>\n",
              "      <td>Insult</td>\n",
              "      <td>LOW</td>\n",
              "      <td>USER</td>\n",
              "      <td>1</td>\n",
              "      <td>13</td>\n",
              "      <td>2</td>\n",
              "      <td>grosse merdes</td>\n",
              "      <td>[]</td>\n",
              "      <td></td>\n",
              "      <td>grosse merdes</td>\n",
              "    </tr>\n",
              "    <tr>\n",
              "      <th>7</th>\n",
              "      <td>espèce de gamin 😂😂</td>\n",
              "      <td>Insult</td>\n",
              "      <td>LOW</td>\n",
              "      <td>USER</td>\n",
              "      <td>1</td>\n",
              "      <td>18</td>\n",
              "      <td>4</td>\n",
              "      <td>espèce gamin</td>\n",
              "      <td>[😂, 😂]</td>\n",
              "      <td>visage avec des larmes de joie visage avec des...</td>\n",
              "      <td>espèce de gamin visage avec des larmes de joie...</td>\n",
              "    </tr>\n",
              "    <tr>\n",
              "      <th>8</th>\n",
              "      <td>C'est quoi cette mode ou presque tout les YouT...</td>\n",
              "      <td>Insult</td>\n",
              "      <td>LOW</td>\n",
              "      <td>USER</td>\n",
              "      <td>1</td>\n",
              "      <td>174</td>\n",
              "      <td>37</td>\n",
              "      <td>quoi cette mode presque tout youtubeurs joue j...</td>\n",
              "      <td>[]</td>\n",
              "      <td></td>\n",
              "      <td>c est quoi cette mode ou presque tout les yout...</td>\n",
              "    </tr>\n",
              "    <tr>\n",
              "      <th>9</th>\n",
              "      <td>@VittoreMorgane @crdsar et ? il est au dessus ...</td>\n",
              "      <td>Insult</td>\n",
              "      <td>LOW</td>\n",
              "      <td>USER</td>\n",
              "      <td>1</td>\n",
              "      <td>226</td>\n",
              "      <td>42</td>\n",
              "      <td>dessus lois fais reunions travail tous jours v...</td>\n",
              "      <td>[]</td>\n",
              "      <td></td>\n",
              "      <td>et il est au dessus des lois je fais des reuni...</td>\n",
              "    </tr>\n",
              "  </tbody>\n",
              "</table>\n",
              "</div>"
            ],
            "text/plain": [
              "                                            Sentence  ...                                   enhancedSentence\n",
              "0                                       T pas Bo 😂😂🥃  ...  t pas bo visage avec des larmes de joie visage...\n",
              "1                                 t’es vilain 😂😂😂😂😂😂  ...  t es vilain visage avec des larmes de joie vis...\n",
              "2  Je te propose un d'île je m'abonne à ta chaine...  ...  je te propose un d île je m abonne à ta chaine...\n",
              "3                                      T un kiko mdr  ...                                     t un kiko mdr \n",
              "4                                 Moi mdr t trop nul  ...                                moi mdr t trop nul \n",
              "5                              Ta un mono sourcils 😂  ...  ta un mono sourcils visage avec des larmes de ...\n",
              "6                                      Grosse merdes  ...                                     grosse merdes \n",
              "7                                 espèce de gamin 😂😂  ...  espèce de gamin visage avec des larmes de joie...\n",
              "8  C'est quoi cette mode ou presque tout les YouT...  ...  c est quoi cette mode ou presque tout les yout...\n",
              "9  @VittoreMorgane @crdsar et ? il est au dessus ...  ...  et il est au dessus des lois je fais des reuni...\n",
              "\n",
              "[10 rows x 11 columns]"
            ]
          },
          "metadata": {
            "tags": []
          },
          "execution_count": 34
        }
      ]
    },
    {
      "cell_type": "code",
      "metadata": {
        "colab": {
          "base_uri": "https://localhost:8080/",
          "height": 93
        },
        "id": "4adX22hBwB8y",
        "outputId": "b136f934-6a1b-4076-c4ca-ba24a3060c58"
      },
      "source": [
        "#Word Cloud on toxic posts by toxicity level\r\n",
        "\"\"\"\r\n",
        "text = ''\r\n",
        "dataset_vh = pd.DataFrame()\r\n",
        "dataset_vh = dataset_wo_stop[dataset_wo_stop['Level']=='VERY_HIGH']\r\n",
        "for news in dataset_vh.cleanSentence.values:\r\n",
        "    text += news\r\n",
        "wordcloud = WordCloud(\r\n",
        "    width = 3000,\r\n",
        "    height = 2000,\r\n",
        "    background_color = 'white',\r\n",
        "    stopwords = set(nltk.corpus.stopwords.words(\"english\"))).generate(text)\r\n",
        "fig = plt.figure(\r\n",
        "    figsize = (40, 30),\r\n",
        "    facecolor = 'k',\r\n",
        "    edgecolor = 'k')\r\n",
        "plt.imshow(wordcloud, interpolation = 'bilinear')\r\n",
        "plt.axis('off')\r\n",
        "plt.show()\r\n",
        "del dataset_vh, text\r\n",
        "\"\"\""
      ],
      "execution_count": 35,
      "outputs": [
        {
          "output_type": "execute_result",
          "data": {
            "application/vnd.google.colaboratory.intrinsic+json": {
              "type": "string"
            },
            "text/plain": [
              "'\\ntext = \\'\\'\\ndataset_vh = pd.DataFrame()\\ndataset_vh = dataset_wo_stop[dataset_wo_stop[\\'Level\\']==\\'VERY_HIGH\\']\\nfor news in dataset_vh.cleanSentence.values:\\n    text += news\\nwordcloud = WordCloud(\\n    width = 3000,\\n    height = 2000,\\n    background_color = \\'white\\',\\n    stopwords = set(nltk.corpus.stopwords.words(\"english\"))).generate(text)\\nfig = plt.figure(\\n    figsize = (40, 30),\\n    facecolor = \\'k\\',\\n    edgecolor = \\'k\\')\\nplt.imshow(wordcloud, interpolation = \\'bilinear\\')\\nplt.axis(\\'off\\')\\nplt.show()\\ndel dataset_vh, text\\n'"
            ]
          },
          "metadata": {
            "tags": []
          },
          "execution_count": 35
        }
      ]
    },
    {
      "cell_type": "code",
      "metadata": {
        "colab": {
          "base_uri": "https://localhost:8080/",
          "height": 487
        },
        "id": "O405aDJEtx4q",
        "outputId": "a3adb0a1-9ad0-48b8-e350-c0da1882ce59"
      },
      "source": [
        "#Removing frequent words\r\n",
        "#FREQWORDS = set([w for (w, wc) in cnt.most_common(10)])\r\n",
        "FREQWORDS = ['de', 'est', 'la', 'et', 'le','les','c','que','des','a','un','en','à', 'pour','qui', 'l', 'd', 'une', 'ce', 'mais', 'qu', 'ne', 'ça', 'dans','du', 'sur', 'avec', 'tout', 'au', 'si', 'comme']\r\n",
        "\r\n",
        "dataset_wo_freq = dataset.copy()\r\n",
        "\r\n",
        "def remove_freqwords(text):\r\n",
        "    return \" \".join([word for word in str(text).split() if word not in FREQWORDS])\r\n",
        "\r\n",
        "dataset_wo_freq['cleanSentence'] = dataset_wo_freq['cleanSentence'].apply(remove_freqwords)\r\n",
        "dataset_wo_freq.head(10)"
      ],
      "execution_count": 36,
      "outputs": [
        {
          "output_type": "execute_result",
          "data": {
            "text/html": [
              "<div>\n",
              "<style scoped>\n",
              "    .dataframe tbody tr th:only-of-type {\n",
              "        vertical-align: middle;\n",
              "    }\n",
              "\n",
              "    .dataframe tbody tr th {\n",
              "        vertical-align: top;\n",
              "    }\n",
              "\n",
              "    .dataframe thead th {\n",
              "        text-align: right;\n",
              "    }\n",
              "</style>\n",
              "<table border=\"1\" class=\"dataframe\">\n",
              "  <thead>\n",
              "    <tr style=\"text-align: right;\">\n",
              "      <th></th>\n",
              "      <th>Sentence</th>\n",
              "      <th>Type</th>\n",
              "      <th>Level</th>\n",
              "      <th>Target</th>\n",
              "      <th>Class</th>\n",
              "      <th>Length</th>\n",
              "      <th>Count</th>\n",
              "      <th>cleanSentence</th>\n",
              "      <th>Emoji</th>\n",
              "      <th>EmojiToText</th>\n",
              "      <th>enhancedSentence</th>\n",
              "    </tr>\n",
              "  </thead>\n",
              "  <tbody>\n",
              "    <tr>\n",
              "      <th>0</th>\n",
              "      <td>T pas Bo 😂😂🥃</td>\n",
              "      <td>Mockery</td>\n",
              "      <td>LOW</td>\n",
              "      <td>USER</td>\n",
              "      <td>1</td>\n",
              "      <td>12</td>\n",
              "      <td>4</td>\n",
              "      <td>t pas bo</td>\n",
              "      <td>[😂, 😂, 🥃]</td>\n",
              "      <td>visage avec des larmes de joie visage avec des...</td>\n",
              "      <td>t pas bo visage avec des larmes de joie visage...</td>\n",
              "    </tr>\n",
              "    <tr>\n",
              "      <th>1</th>\n",
              "      <td>t’es vilain 😂😂😂😂😂😂</td>\n",
              "      <td>Mockery</td>\n",
              "      <td>LOW</td>\n",
              "      <td>USER</td>\n",
              "      <td>1</td>\n",
              "      <td>18</td>\n",
              "      <td>3</td>\n",
              "      <td>t es vilain</td>\n",
              "      <td>[😂, 😂, 😂, 😂, 😂, 😂]</td>\n",
              "      <td>visage avec des larmes de joie visage avec des...</td>\n",
              "      <td>t es vilain visage avec des larmes de joie vis...</td>\n",
              "    </tr>\n",
              "    <tr>\n",
              "      <th>2</th>\n",
              "      <td>Je te propose un d'île je m'abonne à ta chaine...</td>\n",
              "      <td>Hate</td>\n",
              "      <td>LOW</td>\n",
              "      <td>USER</td>\n",
              "      <td>1</td>\n",
              "      <td>189</td>\n",
              "      <td>37</td>\n",
              "      <td>je te propose île je m abonne ta chaine tu t a...</td>\n",
              "      <td>[]</td>\n",
              "      <td></td>\n",
              "      <td>je te propose un d île je m abonne à ta chaine...</td>\n",
              "    </tr>\n",
              "    <tr>\n",
              "      <th>3</th>\n",
              "      <td>T un kiko mdr</td>\n",
              "      <td>Insult</td>\n",
              "      <td>LOW</td>\n",
              "      <td>USER</td>\n",
              "      <td>1</td>\n",
              "      <td>13</td>\n",
              "      <td>4</td>\n",
              "      <td>t kiko mdr</td>\n",
              "      <td>[]</td>\n",
              "      <td></td>\n",
              "      <td>t un kiko mdr</td>\n",
              "    </tr>\n",
              "    <tr>\n",
              "      <th>4</th>\n",
              "      <td>Moi mdr t trop nul</td>\n",
              "      <td>Hate</td>\n",
              "      <td>LOW</td>\n",
              "      <td>USER</td>\n",
              "      <td>1</td>\n",
              "      <td>18</td>\n",
              "      <td>5</td>\n",
              "      <td>moi mdr t trop nul</td>\n",
              "      <td>[]</td>\n",
              "      <td></td>\n",
              "      <td>moi mdr t trop nul</td>\n",
              "    </tr>\n",
              "    <tr>\n",
              "      <th>5</th>\n",
              "      <td>Ta un mono sourcils 😂</td>\n",
              "      <td>Mockery</td>\n",
              "      <td>LOW</td>\n",
              "      <td>USER</td>\n",
              "      <td>1</td>\n",
              "      <td>21</td>\n",
              "      <td>5</td>\n",
              "      <td>ta mono sourcils</td>\n",
              "      <td>[😂]</td>\n",
              "      <td>visage avec des larmes de joie</td>\n",
              "      <td>ta un mono sourcils visage avec des larmes de ...</td>\n",
              "    </tr>\n",
              "    <tr>\n",
              "      <th>6</th>\n",
              "      <td>Grosse merdes</td>\n",
              "      <td>Insult</td>\n",
              "      <td>LOW</td>\n",
              "      <td>USER</td>\n",
              "      <td>1</td>\n",
              "      <td>13</td>\n",
              "      <td>2</td>\n",
              "      <td>grosse merdes</td>\n",
              "      <td>[]</td>\n",
              "      <td></td>\n",
              "      <td>grosse merdes</td>\n",
              "    </tr>\n",
              "    <tr>\n",
              "      <th>7</th>\n",
              "      <td>espèce de gamin 😂😂</td>\n",
              "      <td>Insult</td>\n",
              "      <td>LOW</td>\n",
              "      <td>USER</td>\n",
              "      <td>1</td>\n",
              "      <td>18</td>\n",
              "      <td>4</td>\n",
              "      <td>espèce gamin</td>\n",
              "      <td>[😂, 😂]</td>\n",
              "      <td>visage avec des larmes de joie visage avec des...</td>\n",
              "      <td>espèce de gamin visage avec des larmes de joie...</td>\n",
              "    </tr>\n",
              "    <tr>\n",
              "      <th>8</th>\n",
              "      <td>C'est quoi cette mode ou presque tout les YouT...</td>\n",
              "      <td>Insult</td>\n",
              "      <td>LOW</td>\n",
              "      <td>USER</td>\n",
              "      <td>1</td>\n",
              "      <td>174</td>\n",
              "      <td>37</td>\n",
              "      <td>quoi cette mode ou presque youtubeurs joue jeu...</td>\n",
              "      <td>[]</td>\n",
              "      <td></td>\n",
              "      <td>c est quoi cette mode ou presque tout les yout...</td>\n",
              "    </tr>\n",
              "    <tr>\n",
              "      <th>9</th>\n",
              "      <td>@VittoreMorgane @crdsar et ? il est au dessus ...</td>\n",
              "      <td>Insult</td>\n",
              "      <td>LOW</td>\n",
              "      <td>USER</td>\n",
              "      <td>1</td>\n",
              "      <td>226</td>\n",
              "      <td>42</td>\n",
              "      <td>il dessus lois je fais reunions travail tous j...</td>\n",
              "      <td>[]</td>\n",
              "      <td></td>\n",
              "      <td>et il est au dessus des lois je fais des reuni...</td>\n",
              "    </tr>\n",
              "  </tbody>\n",
              "</table>\n",
              "</div>"
            ],
            "text/plain": [
              "                                            Sentence  ...                                   enhancedSentence\n",
              "0                                       T pas Bo 😂😂🥃  ...  t pas bo visage avec des larmes de joie visage...\n",
              "1                                 t’es vilain 😂😂😂😂😂😂  ...  t es vilain visage avec des larmes de joie vis...\n",
              "2  Je te propose un d'île je m'abonne à ta chaine...  ...  je te propose un d île je m abonne à ta chaine...\n",
              "3                                      T un kiko mdr  ...                                     t un kiko mdr \n",
              "4                                 Moi mdr t trop nul  ...                                moi mdr t trop nul \n",
              "5                              Ta un mono sourcils 😂  ...  ta un mono sourcils visage avec des larmes de ...\n",
              "6                                      Grosse merdes  ...                                     grosse merdes \n",
              "7                                 espèce de gamin 😂😂  ...  espèce de gamin visage avec des larmes de joie...\n",
              "8  C'est quoi cette mode ou presque tout les YouT...  ...  c est quoi cette mode ou presque tout les yout...\n",
              "9  @VittoreMorgane @crdsar et ? il est au dessus ...  ...  et il est au dessus des lois je fais des reuni...\n",
              "\n",
              "[10 rows x 11 columns]"
            ]
          },
          "metadata": {
            "tags": []
          },
          "execution_count": 36
        }
      ]
    },
    {
      "cell_type": "code",
      "metadata": {
        "colab": {
          "base_uri": "https://localhost:8080/"
        },
        "id": "DkIe8gx6u-hM",
        "outputId": "934e9daf-30c9-4c1e-d2e0-313912e9a381"
      },
      "source": [
        "#Checking frequent words\r\n",
        "cnt_frq = Counter()\r\n",
        "for text in dataset_wo_freq[\"cleanSentence\"].values:\r\n",
        "    for word in text.split():\r\n",
        "        cnt_frq[word] += 1\r\n",
        "        \r\n",
        "cnt_frq.most_common(20)"
      ],
      "execution_count": 37,
      "outputs": [
        {
          "output_type": "execute_result",
          "data": {
            "text/plain": [
              "[('pas', 92356),\n",
              " ('je', 80306),\n",
              " ('il', 67932),\n",
              " ('tu', 65680),\n",
              " ('vous', 53252),\n",
              " ('on', 44948),\n",
              " ('j', 42214),\n",
              " ('t', 33397),\n",
              " ('ta', 29548),\n",
              " ('n', 28819),\n",
              " ('plus', 28111),\n",
              " ('fait', 26564),\n",
              " ('faire', 26072),\n",
              " ('ai', 24814),\n",
              " ('se', 24618),\n",
              " ('merde', 22899),\n",
              " ('ou', 21633),\n",
              " ('bien', 21143),\n",
              " ('y', 20733),\n",
              " ('sont', 20577)]"
            ]
          },
          "metadata": {
            "tags": []
          },
          "execution_count": 37
        }
      ]
    },
    {
      "cell_type": "markdown",
      "metadata": {
        "id": "nCCW0iiCgzHh"
      },
      "source": [
        "### Tokenizing"
      ]
    },
    {
      "cell_type": "code",
      "metadata": {
        "colab": {
          "base_uri": "https://localhost:8080/",
          "height": 603
        },
        "id": "jrIhczHgf7QX",
        "outputId": "a6631a32-7802-4dae-a01f-b1b682b06db2"
      },
      "source": [
        "dataset['finalSentence'] = dataset['cleanSentence'].apply(word_tokenize)\r\n",
        "#dataset['finalSentence'] = dataset['enhancedSentence'].apply(word_tokenize)\r\n",
        "dataset.head(10)"
      ],
      "execution_count": 38,
      "outputs": [
        {
          "output_type": "execute_result",
          "data": {
            "text/html": [
              "<div>\n",
              "<style scoped>\n",
              "    .dataframe tbody tr th:only-of-type {\n",
              "        vertical-align: middle;\n",
              "    }\n",
              "\n",
              "    .dataframe tbody tr th {\n",
              "        vertical-align: top;\n",
              "    }\n",
              "\n",
              "    .dataframe thead th {\n",
              "        text-align: right;\n",
              "    }\n",
              "</style>\n",
              "<table border=\"1\" class=\"dataframe\">\n",
              "  <thead>\n",
              "    <tr style=\"text-align: right;\">\n",
              "      <th></th>\n",
              "      <th>Sentence</th>\n",
              "      <th>Type</th>\n",
              "      <th>Level</th>\n",
              "      <th>Target</th>\n",
              "      <th>Class</th>\n",
              "      <th>Length</th>\n",
              "      <th>Count</th>\n",
              "      <th>cleanSentence</th>\n",
              "      <th>Emoji</th>\n",
              "      <th>EmojiToText</th>\n",
              "      <th>enhancedSentence</th>\n",
              "      <th>finalSentence</th>\n",
              "    </tr>\n",
              "  </thead>\n",
              "  <tbody>\n",
              "    <tr>\n",
              "      <th>0</th>\n",
              "      <td>T pas Bo 😂😂🥃</td>\n",
              "      <td>Mockery</td>\n",
              "      <td>LOW</td>\n",
              "      <td>USER</td>\n",
              "      <td>1</td>\n",
              "      <td>12</td>\n",
              "      <td>4</td>\n",
              "      <td>t pas bo</td>\n",
              "      <td>[😂, 😂, 🥃]</td>\n",
              "      <td>visage avec des larmes de joie visage avec des...</td>\n",
              "      <td>t pas bo visage avec des larmes de joie visage...</td>\n",
              "      <td>[t, pas, bo]</td>\n",
              "    </tr>\n",
              "    <tr>\n",
              "      <th>1</th>\n",
              "      <td>t’es vilain 😂😂😂😂😂😂</td>\n",
              "      <td>Mockery</td>\n",
              "      <td>LOW</td>\n",
              "      <td>USER</td>\n",
              "      <td>1</td>\n",
              "      <td>18</td>\n",
              "      <td>3</td>\n",
              "      <td>t es vilain</td>\n",
              "      <td>[😂, 😂, 😂, 😂, 😂, 😂]</td>\n",
              "      <td>visage avec des larmes de joie visage avec des...</td>\n",
              "      <td>t es vilain visage avec des larmes de joie vis...</td>\n",
              "      <td>[t, es, vilain]</td>\n",
              "    </tr>\n",
              "    <tr>\n",
              "      <th>2</th>\n",
              "      <td>Je te propose un d'île je m'abonne à ta chaine...</td>\n",
              "      <td>Hate</td>\n",
              "      <td>LOW</td>\n",
              "      <td>USER</td>\n",
              "      <td>1</td>\n",
              "      <td>189</td>\n",
              "      <td>37</td>\n",
              "      <td>je te propose un d île je m abonne à ta chaine...</td>\n",
              "      <td>[]</td>\n",
              "      <td></td>\n",
              "      <td>je te propose un d île je m abonne à ta chaine...</td>\n",
              "      <td>[je, te, propose, un, d, île, je, m, abonne, à...</td>\n",
              "    </tr>\n",
              "    <tr>\n",
              "      <th>3</th>\n",
              "      <td>T un kiko mdr</td>\n",
              "      <td>Insult</td>\n",
              "      <td>LOW</td>\n",
              "      <td>USER</td>\n",
              "      <td>1</td>\n",
              "      <td>13</td>\n",
              "      <td>4</td>\n",
              "      <td>t un kiko mdr</td>\n",
              "      <td>[]</td>\n",
              "      <td></td>\n",
              "      <td>t un kiko mdr</td>\n",
              "      <td>[t, un, kiko, mdr]</td>\n",
              "    </tr>\n",
              "    <tr>\n",
              "      <th>4</th>\n",
              "      <td>Moi mdr t trop nul</td>\n",
              "      <td>Hate</td>\n",
              "      <td>LOW</td>\n",
              "      <td>USER</td>\n",
              "      <td>1</td>\n",
              "      <td>18</td>\n",
              "      <td>5</td>\n",
              "      <td>moi mdr t trop nul</td>\n",
              "      <td>[]</td>\n",
              "      <td></td>\n",
              "      <td>moi mdr t trop nul</td>\n",
              "      <td>[moi, mdr, t, trop, nul]</td>\n",
              "    </tr>\n",
              "    <tr>\n",
              "      <th>5</th>\n",
              "      <td>Ta un mono sourcils 😂</td>\n",
              "      <td>Mockery</td>\n",
              "      <td>LOW</td>\n",
              "      <td>USER</td>\n",
              "      <td>1</td>\n",
              "      <td>21</td>\n",
              "      <td>5</td>\n",
              "      <td>ta un mono sourcils</td>\n",
              "      <td>[😂]</td>\n",
              "      <td>visage avec des larmes de joie</td>\n",
              "      <td>ta un mono sourcils visage avec des larmes de ...</td>\n",
              "      <td>[ta, un, mono, sourcils]</td>\n",
              "    </tr>\n",
              "    <tr>\n",
              "      <th>6</th>\n",
              "      <td>Grosse merdes</td>\n",
              "      <td>Insult</td>\n",
              "      <td>LOW</td>\n",
              "      <td>USER</td>\n",
              "      <td>1</td>\n",
              "      <td>13</td>\n",
              "      <td>2</td>\n",
              "      <td>grosse merdes</td>\n",
              "      <td>[]</td>\n",
              "      <td></td>\n",
              "      <td>grosse merdes</td>\n",
              "      <td>[grosse, merdes]</td>\n",
              "    </tr>\n",
              "    <tr>\n",
              "      <th>7</th>\n",
              "      <td>espèce de gamin 😂😂</td>\n",
              "      <td>Insult</td>\n",
              "      <td>LOW</td>\n",
              "      <td>USER</td>\n",
              "      <td>1</td>\n",
              "      <td>18</td>\n",
              "      <td>4</td>\n",
              "      <td>espèce de gamin</td>\n",
              "      <td>[😂, 😂]</td>\n",
              "      <td>visage avec des larmes de joie visage avec des...</td>\n",
              "      <td>espèce de gamin visage avec des larmes de joie...</td>\n",
              "      <td>[espèce, de, gamin]</td>\n",
              "    </tr>\n",
              "    <tr>\n",
              "      <th>8</th>\n",
              "      <td>C'est quoi cette mode ou presque tout les YouT...</td>\n",
              "      <td>Insult</td>\n",
              "      <td>LOW</td>\n",
              "      <td>USER</td>\n",
              "      <td>1</td>\n",
              "      <td>174</td>\n",
              "      <td>37</td>\n",
              "      <td>c est quoi cette mode ou presque tout les yout...</td>\n",
              "      <td>[]</td>\n",
              "      <td></td>\n",
              "      <td>c est quoi cette mode ou presque tout les yout...</td>\n",
              "      <td>[c, est, quoi, cette, mode, ou, presque, tout,...</td>\n",
              "    </tr>\n",
              "    <tr>\n",
              "      <th>9</th>\n",
              "      <td>@VittoreMorgane @crdsar et ? il est au dessus ...</td>\n",
              "      <td>Insult</td>\n",
              "      <td>LOW</td>\n",
              "      <td>USER</td>\n",
              "      <td>1</td>\n",
              "      <td>226</td>\n",
              "      <td>42</td>\n",
              "      <td>et il est au dessus des lois je fais des reuni...</td>\n",
              "      <td>[]</td>\n",
              "      <td></td>\n",
              "      <td>et il est au dessus des lois je fais des reuni...</td>\n",
              "      <td>[et, il, est, au, dessus, des, lois, je, fais,...</td>\n",
              "    </tr>\n",
              "  </tbody>\n",
              "</table>\n",
              "</div>"
            ],
            "text/plain": [
              "                                            Sentence  ...                                      finalSentence\n",
              "0                                       T pas Bo 😂😂🥃  ...                                       [t, pas, bo]\n",
              "1                                 t’es vilain 😂😂😂😂😂😂  ...                                    [t, es, vilain]\n",
              "2  Je te propose un d'île je m'abonne à ta chaine...  ...  [je, te, propose, un, d, île, je, m, abonne, à...\n",
              "3                                      T un kiko mdr  ...                                 [t, un, kiko, mdr]\n",
              "4                                 Moi mdr t trop nul  ...                           [moi, mdr, t, trop, nul]\n",
              "5                              Ta un mono sourcils 😂  ...                           [ta, un, mono, sourcils]\n",
              "6                                      Grosse merdes  ...                                   [grosse, merdes]\n",
              "7                                 espèce de gamin 😂😂  ...                                [espèce, de, gamin]\n",
              "8  C'est quoi cette mode ou presque tout les YouT...  ...  [c, est, quoi, cette, mode, ou, presque, tout,...\n",
              "9  @VittoreMorgane @crdsar et ? il est au dessus ...  ...  [et, il, est, au, dessus, des, lois, je, fais,...\n",
              "\n",
              "[10 rows x 12 columns]"
            ]
          },
          "metadata": {
            "tags": []
          },
          "execution_count": 38
        }
      ]
    },
    {
      "cell_type": "code",
      "metadata": {
        "colab": {
          "base_uri": "https://localhost:8080/",
          "height": 653
        },
        "id": "2V8myZwnn9Oq",
        "outputId": "b609452f-d525-4f69-8b69-80b33d382e64"
      },
      "source": [
        "dataset['ultimateSentence'] = dataset['enhancedSentence'].apply(word_tokenize)\r\n",
        "dataset.head(10)"
      ],
      "execution_count": 39,
      "outputs": [
        {
          "output_type": "execute_result",
          "data": {
            "text/html": [
              "<div>\n",
              "<style scoped>\n",
              "    .dataframe tbody tr th:only-of-type {\n",
              "        vertical-align: middle;\n",
              "    }\n",
              "\n",
              "    .dataframe tbody tr th {\n",
              "        vertical-align: top;\n",
              "    }\n",
              "\n",
              "    .dataframe thead th {\n",
              "        text-align: right;\n",
              "    }\n",
              "</style>\n",
              "<table border=\"1\" class=\"dataframe\">\n",
              "  <thead>\n",
              "    <tr style=\"text-align: right;\">\n",
              "      <th></th>\n",
              "      <th>Sentence</th>\n",
              "      <th>Type</th>\n",
              "      <th>Level</th>\n",
              "      <th>Target</th>\n",
              "      <th>Class</th>\n",
              "      <th>Length</th>\n",
              "      <th>Count</th>\n",
              "      <th>cleanSentence</th>\n",
              "      <th>Emoji</th>\n",
              "      <th>EmojiToText</th>\n",
              "      <th>enhancedSentence</th>\n",
              "      <th>finalSentence</th>\n",
              "      <th>ultimateSentence</th>\n",
              "    </tr>\n",
              "  </thead>\n",
              "  <tbody>\n",
              "    <tr>\n",
              "      <th>0</th>\n",
              "      <td>T pas Bo 😂😂🥃</td>\n",
              "      <td>Mockery</td>\n",
              "      <td>LOW</td>\n",
              "      <td>USER</td>\n",
              "      <td>1</td>\n",
              "      <td>12</td>\n",
              "      <td>4</td>\n",
              "      <td>t pas bo</td>\n",
              "      <td>[😂, 😂, 🥃]</td>\n",
              "      <td>visage avec des larmes de joie visage avec des...</td>\n",
              "      <td>t pas bo visage avec des larmes de joie visage...</td>\n",
              "      <td>[t, pas, bo]</td>\n",
              "      <td>[t, pas, bo, visage, avec, des, larmes, de, jo...</td>\n",
              "    </tr>\n",
              "    <tr>\n",
              "      <th>1</th>\n",
              "      <td>t’es vilain 😂😂😂😂😂😂</td>\n",
              "      <td>Mockery</td>\n",
              "      <td>LOW</td>\n",
              "      <td>USER</td>\n",
              "      <td>1</td>\n",
              "      <td>18</td>\n",
              "      <td>3</td>\n",
              "      <td>t es vilain</td>\n",
              "      <td>[😂, 😂, 😂, 😂, 😂, 😂]</td>\n",
              "      <td>visage avec des larmes de joie visage avec des...</td>\n",
              "      <td>t es vilain visage avec des larmes de joie vis...</td>\n",
              "      <td>[t, es, vilain]</td>\n",
              "      <td>[t, es, vilain, visage, avec, des, larmes, de,...</td>\n",
              "    </tr>\n",
              "    <tr>\n",
              "      <th>2</th>\n",
              "      <td>Je te propose un d'île je m'abonne à ta chaine...</td>\n",
              "      <td>Hate</td>\n",
              "      <td>LOW</td>\n",
              "      <td>USER</td>\n",
              "      <td>1</td>\n",
              "      <td>189</td>\n",
              "      <td>37</td>\n",
              "      <td>je te propose un d île je m abonne à ta chaine...</td>\n",
              "      <td>[]</td>\n",
              "      <td></td>\n",
              "      <td>je te propose un d île je m abonne à ta chaine...</td>\n",
              "      <td>[je, te, propose, un, d, île, je, m, abonne, à...</td>\n",
              "      <td>[je, te, propose, un, d, île, je, m, abonne, à...</td>\n",
              "    </tr>\n",
              "    <tr>\n",
              "      <th>3</th>\n",
              "      <td>T un kiko mdr</td>\n",
              "      <td>Insult</td>\n",
              "      <td>LOW</td>\n",
              "      <td>USER</td>\n",
              "      <td>1</td>\n",
              "      <td>13</td>\n",
              "      <td>4</td>\n",
              "      <td>t un kiko mdr</td>\n",
              "      <td>[]</td>\n",
              "      <td></td>\n",
              "      <td>t un kiko mdr</td>\n",
              "      <td>[t, un, kiko, mdr]</td>\n",
              "      <td>[t, un, kiko, mdr]</td>\n",
              "    </tr>\n",
              "    <tr>\n",
              "      <th>4</th>\n",
              "      <td>Moi mdr t trop nul</td>\n",
              "      <td>Hate</td>\n",
              "      <td>LOW</td>\n",
              "      <td>USER</td>\n",
              "      <td>1</td>\n",
              "      <td>18</td>\n",
              "      <td>5</td>\n",
              "      <td>moi mdr t trop nul</td>\n",
              "      <td>[]</td>\n",
              "      <td></td>\n",
              "      <td>moi mdr t trop nul</td>\n",
              "      <td>[moi, mdr, t, trop, nul]</td>\n",
              "      <td>[moi, mdr, t, trop, nul]</td>\n",
              "    </tr>\n",
              "    <tr>\n",
              "      <th>5</th>\n",
              "      <td>Ta un mono sourcils 😂</td>\n",
              "      <td>Mockery</td>\n",
              "      <td>LOW</td>\n",
              "      <td>USER</td>\n",
              "      <td>1</td>\n",
              "      <td>21</td>\n",
              "      <td>5</td>\n",
              "      <td>ta un mono sourcils</td>\n",
              "      <td>[😂]</td>\n",
              "      <td>visage avec des larmes de joie</td>\n",
              "      <td>ta un mono sourcils visage avec des larmes de ...</td>\n",
              "      <td>[ta, un, mono, sourcils]</td>\n",
              "      <td>[ta, un, mono, sourcils, visage, avec, des, la...</td>\n",
              "    </tr>\n",
              "    <tr>\n",
              "      <th>6</th>\n",
              "      <td>Grosse merdes</td>\n",
              "      <td>Insult</td>\n",
              "      <td>LOW</td>\n",
              "      <td>USER</td>\n",
              "      <td>1</td>\n",
              "      <td>13</td>\n",
              "      <td>2</td>\n",
              "      <td>grosse merdes</td>\n",
              "      <td>[]</td>\n",
              "      <td></td>\n",
              "      <td>grosse merdes</td>\n",
              "      <td>[grosse, merdes]</td>\n",
              "      <td>[grosse, merdes]</td>\n",
              "    </tr>\n",
              "    <tr>\n",
              "      <th>7</th>\n",
              "      <td>espèce de gamin 😂😂</td>\n",
              "      <td>Insult</td>\n",
              "      <td>LOW</td>\n",
              "      <td>USER</td>\n",
              "      <td>1</td>\n",
              "      <td>18</td>\n",
              "      <td>4</td>\n",
              "      <td>espèce de gamin</td>\n",
              "      <td>[😂, 😂]</td>\n",
              "      <td>visage avec des larmes de joie visage avec des...</td>\n",
              "      <td>espèce de gamin visage avec des larmes de joie...</td>\n",
              "      <td>[espèce, de, gamin]</td>\n",
              "      <td>[espèce, de, gamin, visage, avec, des, larmes,...</td>\n",
              "    </tr>\n",
              "    <tr>\n",
              "      <th>8</th>\n",
              "      <td>C'est quoi cette mode ou presque tout les YouT...</td>\n",
              "      <td>Insult</td>\n",
              "      <td>LOW</td>\n",
              "      <td>USER</td>\n",
              "      <td>1</td>\n",
              "      <td>174</td>\n",
              "      <td>37</td>\n",
              "      <td>c est quoi cette mode ou presque tout les yout...</td>\n",
              "      <td>[]</td>\n",
              "      <td></td>\n",
              "      <td>c est quoi cette mode ou presque tout les yout...</td>\n",
              "      <td>[c, est, quoi, cette, mode, ou, presque, tout,...</td>\n",
              "      <td>[c, est, quoi, cette, mode, ou, presque, tout,...</td>\n",
              "    </tr>\n",
              "    <tr>\n",
              "      <th>9</th>\n",
              "      <td>@VittoreMorgane @crdsar et ? il est au dessus ...</td>\n",
              "      <td>Insult</td>\n",
              "      <td>LOW</td>\n",
              "      <td>USER</td>\n",
              "      <td>1</td>\n",
              "      <td>226</td>\n",
              "      <td>42</td>\n",
              "      <td>et il est au dessus des lois je fais des reuni...</td>\n",
              "      <td>[]</td>\n",
              "      <td></td>\n",
              "      <td>et il est au dessus des lois je fais des reuni...</td>\n",
              "      <td>[et, il, est, au, dessus, des, lois, je, fais,...</td>\n",
              "      <td>[et, il, est, au, dessus, des, lois, je, fais,...</td>\n",
              "    </tr>\n",
              "  </tbody>\n",
              "</table>\n",
              "</div>"
            ],
            "text/plain": [
              "                                            Sentence  ...                                   ultimateSentence\n",
              "0                                       T pas Bo 😂😂🥃  ...  [t, pas, bo, visage, avec, des, larmes, de, jo...\n",
              "1                                 t’es vilain 😂😂😂😂😂😂  ...  [t, es, vilain, visage, avec, des, larmes, de,...\n",
              "2  Je te propose un d'île je m'abonne à ta chaine...  ...  [je, te, propose, un, d, île, je, m, abonne, à...\n",
              "3                                      T un kiko mdr  ...                                 [t, un, kiko, mdr]\n",
              "4                                 Moi mdr t trop nul  ...                           [moi, mdr, t, trop, nul]\n",
              "5                              Ta un mono sourcils 😂  ...  [ta, un, mono, sourcils, visage, avec, des, la...\n",
              "6                                      Grosse merdes  ...                                   [grosse, merdes]\n",
              "7                                 espèce de gamin 😂😂  ...  [espèce, de, gamin, visage, avec, des, larmes,...\n",
              "8  C'est quoi cette mode ou presque tout les YouT...  ...  [c, est, quoi, cette, mode, ou, presque, tout,...\n",
              "9  @VittoreMorgane @crdsar et ? il est au dessus ...  ...  [et, il, est, au, dessus, des, lois, je, fais,...\n",
              "\n",
              "[10 rows x 13 columns]"
            ]
          },
          "metadata": {
            "tags": []
          },
          "execution_count": 39
        }
      ]
    },
    {
      "cell_type": "code",
      "metadata": {
        "colab": {
          "base_uri": "https://localhost:8080/",
          "height": 587
        },
        "id": "GNGKX2uZiAWj",
        "outputId": "7db42dbb-4e38-43a6-bf58-59cadaaa516e"
      },
      "source": [
        "dataset_wo_stop['finalSentence'] = dataset_wo_stop['cleanSentence'].apply(word_tokenize)\r\n",
        "dataset_wo_stop.head(10)"
      ],
      "execution_count": 40,
      "outputs": [
        {
          "output_type": "execute_result",
          "data": {
            "text/html": [
              "<div>\n",
              "<style scoped>\n",
              "    .dataframe tbody tr th:only-of-type {\n",
              "        vertical-align: middle;\n",
              "    }\n",
              "\n",
              "    .dataframe tbody tr th {\n",
              "        vertical-align: top;\n",
              "    }\n",
              "\n",
              "    .dataframe thead th {\n",
              "        text-align: right;\n",
              "    }\n",
              "</style>\n",
              "<table border=\"1\" class=\"dataframe\">\n",
              "  <thead>\n",
              "    <tr style=\"text-align: right;\">\n",
              "      <th></th>\n",
              "      <th>Sentence</th>\n",
              "      <th>Type</th>\n",
              "      <th>Level</th>\n",
              "      <th>Target</th>\n",
              "      <th>Class</th>\n",
              "      <th>Length</th>\n",
              "      <th>Count</th>\n",
              "      <th>cleanSentence</th>\n",
              "      <th>Emoji</th>\n",
              "      <th>EmojiToText</th>\n",
              "      <th>enhancedSentence</th>\n",
              "      <th>finalSentence</th>\n",
              "    </tr>\n",
              "  </thead>\n",
              "  <tbody>\n",
              "    <tr>\n",
              "      <th>0</th>\n",
              "      <td>T pas Bo 😂😂🥃</td>\n",
              "      <td>Mockery</td>\n",
              "      <td>LOW</td>\n",
              "      <td>USER</td>\n",
              "      <td>1</td>\n",
              "      <td>12</td>\n",
              "      <td>4</td>\n",
              "      <td>bo</td>\n",
              "      <td>[😂, 😂, 🥃]</td>\n",
              "      <td>visage avec des larmes de joie visage avec des...</td>\n",
              "      <td>t pas bo visage avec des larmes de joie visage...</td>\n",
              "      <td>[bo]</td>\n",
              "    </tr>\n",
              "    <tr>\n",
              "      <th>1</th>\n",
              "      <td>t’es vilain 😂😂😂😂😂😂</td>\n",
              "      <td>Mockery</td>\n",
              "      <td>LOW</td>\n",
              "      <td>USER</td>\n",
              "      <td>1</td>\n",
              "      <td>18</td>\n",
              "      <td>3</td>\n",
              "      <td>vilain</td>\n",
              "      <td>[😂, 😂, 😂, 😂, 😂, 😂]</td>\n",
              "      <td>visage avec des larmes de joie visage avec des...</td>\n",
              "      <td>t es vilain visage avec des larmes de joie vis...</td>\n",
              "      <td>[vilain]</td>\n",
              "    </tr>\n",
              "    <tr>\n",
              "      <th>2</th>\n",
              "      <td>Je te propose un d'île je m'abonne à ta chaine...</td>\n",
              "      <td>Hate</td>\n",
              "      <td>LOW</td>\n",
              "      <td>USER</td>\n",
              "      <td>1</td>\n",
              "      <td>189</td>\n",
              "      <td>37</td>\n",
              "      <td>propose île abonne chaine abonner chaîne youtu...</td>\n",
              "      <td>[]</td>\n",
              "      <td></td>\n",
              "      <td>je te propose un d île je m abonne à ta chaine...</td>\n",
              "      <td>[propose, île, abonne, chaine, abonner, chaîne...</td>\n",
              "    </tr>\n",
              "    <tr>\n",
              "      <th>3</th>\n",
              "      <td>T un kiko mdr</td>\n",
              "      <td>Insult</td>\n",
              "      <td>LOW</td>\n",
              "      <td>USER</td>\n",
              "      <td>1</td>\n",
              "      <td>13</td>\n",
              "      <td>4</td>\n",
              "      <td>kiko mdr</td>\n",
              "      <td>[]</td>\n",
              "      <td></td>\n",
              "      <td>t un kiko mdr</td>\n",
              "      <td>[kiko, mdr]</td>\n",
              "    </tr>\n",
              "    <tr>\n",
              "      <th>4</th>\n",
              "      <td>Moi mdr t trop nul</td>\n",
              "      <td>Hate</td>\n",
              "      <td>LOW</td>\n",
              "      <td>USER</td>\n",
              "      <td>1</td>\n",
              "      <td>18</td>\n",
              "      <td>5</td>\n",
              "      <td>mdr trop nul</td>\n",
              "      <td>[]</td>\n",
              "      <td></td>\n",
              "      <td>moi mdr t trop nul</td>\n",
              "      <td>[mdr, trop, nul]</td>\n",
              "    </tr>\n",
              "    <tr>\n",
              "      <th>5</th>\n",
              "      <td>Ta un mono sourcils 😂</td>\n",
              "      <td>Mockery</td>\n",
              "      <td>LOW</td>\n",
              "      <td>USER</td>\n",
              "      <td>1</td>\n",
              "      <td>21</td>\n",
              "      <td>5</td>\n",
              "      <td>mono sourcils</td>\n",
              "      <td>[😂]</td>\n",
              "      <td>visage avec des larmes de joie</td>\n",
              "      <td>ta un mono sourcils visage avec des larmes de ...</td>\n",
              "      <td>[mono, sourcils]</td>\n",
              "    </tr>\n",
              "    <tr>\n",
              "      <th>6</th>\n",
              "      <td>Grosse merdes</td>\n",
              "      <td>Insult</td>\n",
              "      <td>LOW</td>\n",
              "      <td>USER</td>\n",
              "      <td>1</td>\n",
              "      <td>13</td>\n",
              "      <td>2</td>\n",
              "      <td>grosse merdes</td>\n",
              "      <td>[]</td>\n",
              "      <td></td>\n",
              "      <td>grosse merdes</td>\n",
              "      <td>[grosse, merdes]</td>\n",
              "    </tr>\n",
              "    <tr>\n",
              "      <th>7</th>\n",
              "      <td>espèce de gamin 😂😂</td>\n",
              "      <td>Insult</td>\n",
              "      <td>LOW</td>\n",
              "      <td>USER</td>\n",
              "      <td>1</td>\n",
              "      <td>18</td>\n",
              "      <td>4</td>\n",
              "      <td>espèce gamin</td>\n",
              "      <td>[😂, 😂]</td>\n",
              "      <td>visage avec des larmes de joie visage avec des...</td>\n",
              "      <td>espèce de gamin visage avec des larmes de joie...</td>\n",
              "      <td>[espèce, gamin]</td>\n",
              "    </tr>\n",
              "    <tr>\n",
              "      <th>8</th>\n",
              "      <td>C'est quoi cette mode ou presque tout les YouT...</td>\n",
              "      <td>Insult</td>\n",
              "      <td>LOW</td>\n",
              "      <td>USER</td>\n",
              "      <td>1</td>\n",
              "      <td>174</td>\n",
              "      <td>37</td>\n",
              "      <td>quoi cette mode presque tout youtubeurs joue j...</td>\n",
              "      <td>[]</td>\n",
              "      <td></td>\n",
              "      <td>c est quoi cette mode ou presque tout les yout...</td>\n",
              "      <td>[quoi, cette, mode, presque, tout, youtubeurs,...</td>\n",
              "    </tr>\n",
              "    <tr>\n",
              "      <th>9</th>\n",
              "      <td>@VittoreMorgane @crdsar et ? il est au dessus ...</td>\n",
              "      <td>Insult</td>\n",
              "      <td>LOW</td>\n",
              "      <td>USER</td>\n",
              "      <td>1</td>\n",
              "      <td>226</td>\n",
              "      <td>42</td>\n",
              "      <td>dessus lois fais reunions travail tous jours v...</td>\n",
              "      <td>[]</td>\n",
              "      <td></td>\n",
              "      <td>et il est au dessus des lois je fais des reuni...</td>\n",
              "      <td>[dessus, lois, fais, reunions, travail, tous, ...</td>\n",
              "    </tr>\n",
              "  </tbody>\n",
              "</table>\n",
              "</div>"
            ],
            "text/plain": [
              "                                            Sentence  ...                                      finalSentence\n",
              "0                                       T pas Bo 😂😂🥃  ...                                               [bo]\n",
              "1                                 t’es vilain 😂😂😂😂😂😂  ...                                           [vilain]\n",
              "2  Je te propose un d'île je m'abonne à ta chaine...  ...  [propose, île, abonne, chaine, abonner, chaîne...\n",
              "3                                      T un kiko mdr  ...                                        [kiko, mdr]\n",
              "4                                 Moi mdr t trop nul  ...                                   [mdr, trop, nul]\n",
              "5                              Ta un mono sourcils 😂  ...                                   [mono, sourcils]\n",
              "6                                      Grosse merdes  ...                                   [grosse, merdes]\n",
              "7                                 espèce de gamin 😂😂  ...                                    [espèce, gamin]\n",
              "8  C'est quoi cette mode ou presque tout les YouT...  ...  [quoi, cette, mode, presque, tout, youtubeurs,...\n",
              "9  @VittoreMorgane @crdsar et ? il est au dessus ...  ...  [dessus, lois, fais, reunions, travail, tous, ...\n",
              "\n",
              "[10 rows x 12 columns]"
            ]
          },
          "metadata": {
            "tags": []
          },
          "execution_count": 40
        }
      ]
    },
    {
      "cell_type": "code",
      "metadata": {
        "colab": {
          "base_uri": "https://localhost:8080/",
          "height": 603
        },
        "id": "PNK4z3nxv5MW",
        "outputId": "7f57db10-d584-4a86-d825-6fbad5f3789e"
      },
      "source": [
        "dataset_wo_freq['finalSentence'] = dataset_wo_freq['cleanSentence'].apply(word_tokenize)\r\n",
        "dataset_wo_freq.head(10)"
      ],
      "execution_count": 41,
      "outputs": [
        {
          "output_type": "execute_result",
          "data": {
            "text/html": [
              "<div>\n",
              "<style scoped>\n",
              "    .dataframe tbody tr th:only-of-type {\n",
              "        vertical-align: middle;\n",
              "    }\n",
              "\n",
              "    .dataframe tbody tr th {\n",
              "        vertical-align: top;\n",
              "    }\n",
              "\n",
              "    .dataframe thead th {\n",
              "        text-align: right;\n",
              "    }\n",
              "</style>\n",
              "<table border=\"1\" class=\"dataframe\">\n",
              "  <thead>\n",
              "    <tr style=\"text-align: right;\">\n",
              "      <th></th>\n",
              "      <th>Sentence</th>\n",
              "      <th>Type</th>\n",
              "      <th>Level</th>\n",
              "      <th>Target</th>\n",
              "      <th>Class</th>\n",
              "      <th>Length</th>\n",
              "      <th>Count</th>\n",
              "      <th>cleanSentence</th>\n",
              "      <th>Emoji</th>\n",
              "      <th>EmojiToText</th>\n",
              "      <th>enhancedSentence</th>\n",
              "      <th>finalSentence</th>\n",
              "    </tr>\n",
              "  </thead>\n",
              "  <tbody>\n",
              "    <tr>\n",
              "      <th>0</th>\n",
              "      <td>T pas Bo 😂😂🥃</td>\n",
              "      <td>Mockery</td>\n",
              "      <td>LOW</td>\n",
              "      <td>USER</td>\n",
              "      <td>1</td>\n",
              "      <td>12</td>\n",
              "      <td>4</td>\n",
              "      <td>t pas bo</td>\n",
              "      <td>[😂, 😂, 🥃]</td>\n",
              "      <td>visage avec des larmes de joie visage avec des...</td>\n",
              "      <td>t pas bo visage avec des larmes de joie visage...</td>\n",
              "      <td>[t, pas, bo]</td>\n",
              "    </tr>\n",
              "    <tr>\n",
              "      <th>1</th>\n",
              "      <td>t’es vilain 😂😂😂😂😂😂</td>\n",
              "      <td>Mockery</td>\n",
              "      <td>LOW</td>\n",
              "      <td>USER</td>\n",
              "      <td>1</td>\n",
              "      <td>18</td>\n",
              "      <td>3</td>\n",
              "      <td>t es vilain</td>\n",
              "      <td>[😂, 😂, 😂, 😂, 😂, 😂]</td>\n",
              "      <td>visage avec des larmes de joie visage avec des...</td>\n",
              "      <td>t es vilain visage avec des larmes de joie vis...</td>\n",
              "      <td>[t, es, vilain]</td>\n",
              "    </tr>\n",
              "    <tr>\n",
              "      <th>2</th>\n",
              "      <td>Je te propose un d'île je m'abonne à ta chaine...</td>\n",
              "      <td>Hate</td>\n",
              "      <td>LOW</td>\n",
              "      <td>USER</td>\n",
              "      <td>1</td>\n",
              "      <td>189</td>\n",
              "      <td>37</td>\n",
              "      <td>je te propose île je m abonne ta chaine tu t a...</td>\n",
              "      <td>[]</td>\n",
              "      <td></td>\n",
              "      <td>je te propose un d île je m abonne à ta chaine...</td>\n",
              "      <td>[je, te, propose, île, je, m, abonne, ta, chai...</td>\n",
              "    </tr>\n",
              "    <tr>\n",
              "      <th>3</th>\n",
              "      <td>T un kiko mdr</td>\n",
              "      <td>Insult</td>\n",
              "      <td>LOW</td>\n",
              "      <td>USER</td>\n",
              "      <td>1</td>\n",
              "      <td>13</td>\n",
              "      <td>4</td>\n",
              "      <td>t kiko mdr</td>\n",
              "      <td>[]</td>\n",
              "      <td></td>\n",
              "      <td>t un kiko mdr</td>\n",
              "      <td>[t, kiko, mdr]</td>\n",
              "    </tr>\n",
              "    <tr>\n",
              "      <th>4</th>\n",
              "      <td>Moi mdr t trop nul</td>\n",
              "      <td>Hate</td>\n",
              "      <td>LOW</td>\n",
              "      <td>USER</td>\n",
              "      <td>1</td>\n",
              "      <td>18</td>\n",
              "      <td>5</td>\n",
              "      <td>moi mdr t trop nul</td>\n",
              "      <td>[]</td>\n",
              "      <td></td>\n",
              "      <td>moi mdr t trop nul</td>\n",
              "      <td>[moi, mdr, t, trop, nul]</td>\n",
              "    </tr>\n",
              "    <tr>\n",
              "      <th>5</th>\n",
              "      <td>Ta un mono sourcils 😂</td>\n",
              "      <td>Mockery</td>\n",
              "      <td>LOW</td>\n",
              "      <td>USER</td>\n",
              "      <td>1</td>\n",
              "      <td>21</td>\n",
              "      <td>5</td>\n",
              "      <td>ta mono sourcils</td>\n",
              "      <td>[😂]</td>\n",
              "      <td>visage avec des larmes de joie</td>\n",
              "      <td>ta un mono sourcils visage avec des larmes de ...</td>\n",
              "      <td>[ta, mono, sourcils]</td>\n",
              "    </tr>\n",
              "    <tr>\n",
              "      <th>6</th>\n",
              "      <td>Grosse merdes</td>\n",
              "      <td>Insult</td>\n",
              "      <td>LOW</td>\n",
              "      <td>USER</td>\n",
              "      <td>1</td>\n",
              "      <td>13</td>\n",
              "      <td>2</td>\n",
              "      <td>grosse merdes</td>\n",
              "      <td>[]</td>\n",
              "      <td></td>\n",
              "      <td>grosse merdes</td>\n",
              "      <td>[grosse, merdes]</td>\n",
              "    </tr>\n",
              "    <tr>\n",
              "      <th>7</th>\n",
              "      <td>espèce de gamin 😂😂</td>\n",
              "      <td>Insult</td>\n",
              "      <td>LOW</td>\n",
              "      <td>USER</td>\n",
              "      <td>1</td>\n",
              "      <td>18</td>\n",
              "      <td>4</td>\n",
              "      <td>espèce gamin</td>\n",
              "      <td>[😂, 😂]</td>\n",
              "      <td>visage avec des larmes de joie visage avec des...</td>\n",
              "      <td>espèce de gamin visage avec des larmes de joie...</td>\n",
              "      <td>[espèce, gamin]</td>\n",
              "    </tr>\n",
              "    <tr>\n",
              "      <th>8</th>\n",
              "      <td>C'est quoi cette mode ou presque tout les YouT...</td>\n",
              "      <td>Insult</td>\n",
              "      <td>LOW</td>\n",
              "      <td>USER</td>\n",
              "      <td>1</td>\n",
              "      <td>174</td>\n",
              "      <td>37</td>\n",
              "      <td>quoi cette mode ou presque youtubeurs joue jeu...</td>\n",
              "      <td>[]</td>\n",
              "      <td></td>\n",
              "      <td>c est quoi cette mode ou presque tout les yout...</td>\n",
              "      <td>[quoi, cette, mode, ou, presque, youtubeurs, j...</td>\n",
              "    </tr>\n",
              "    <tr>\n",
              "      <th>9</th>\n",
              "      <td>@VittoreMorgane @crdsar et ? il est au dessus ...</td>\n",
              "      <td>Insult</td>\n",
              "      <td>LOW</td>\n",
              "      <td>USER</td>\n",
              "      <td>1</td>\n",
              "      <td>226</td>\n",
              "      <td>42</td>\n",
              "      <td>il dessus lois je fais reunions travail tous j...</td>\n",
              "      <td>[]</td>\n",
              "      <td></td>\n",
              "      <td>et il est au dessus des lois je fais des reuni...</td>\n",
              "      <td>[il, dessus, lois, je, fais, reunions, travail...</td>\n",
              "    </tr>\n",
              "  </tbody>\n",
              "</table>\n",
              "</div>"
            ],
            "text/plain": [
              "                                            Sentence  ...                                      finalSentence\n",
              "0                                       T pas Bo 😂😂🥃  ...                                       [t, pas, bo]\n",
              "1                                 t’es vilain 😂😂😂😂😂😂  ...                                    [t, es, vilain]\n",
              "2  Je te propose un d'île je m'abonne à ta chaine...  ...  [je, te, propose, île, je, m, abonne, ta, chai...\n",
              "3                                      T un kiko mdr  ...                                     [t, kiko, mdr]\n",
              "4                                 Moi mdr t trop nul  ...                           [moi, mdr, t, trop, nul]\n",
              "5                              Ta un mono sourcils 😂  ...                               [ta, mono, sourcils]\n",
              "6                                      Grosse merdes  ...                                   [grosse, merdes]\n",
              "7                                 espèce de gamin 😂😂  ...                                    [espèce, gamin]\n",
              "8  C'est quoi cette mode ou presque tout les YouT...  ...  [quoi, cette, mode, ou, presque, youtubeurs, j...\n",
              "9  @VittoreMorgane @crdsar et ? il est au dessus ...  ...  [il, dessus, lois, je, fais, reunions, travail...\n",
              "\n",
              "[10 rows x 12 columns]"
            ]
          },
          "metadata": {
            "tags": []
          },
          "execution_count": 41
        }
      ]
    },
    {
      "cell_type": "code",
      "metadata": {
        "id": "yfCvA_riUjMV"
      },
      "source": [
        "dataset['Emoji_token'] = dataset['EmojiToText']\r\n",
        "dataset['Emoji_token'] = dataset['Emoji_token'].apply(remove_special)\r\n",
        "dataset['Emoji_token'] = dataset['Emoji_token'].apply(remove_punctuations)\r\n",
        "dataset['Emoji_token'] = dataset['Emoji_token'].apply(word_tokenize)\r\n",
        "dataset.head(10)"
      ],
      "execution_count": null,
      "outputs": []
    },
    {
      "cell_type": "code",
      "metadata": {
        "id": "xxhbDZNtXExc"
      },
      "source": [
        "#Alternative: Keeping only 60k neutral examples for a more balanced dataset\r\n",
        "\r\n",
        "remove_n = len(dataset[dataset.Class == 0]) - 60000\r\n",
        "neutralIndices = dataset[dataset.Class == 0].index\r\n",
        "drop_indices = np.random.choice(neutralIndices, remove_n)\r\n",
        "short_dataset = dataset.drop(index = drop_indices)\r\n",
        "short_dataset"
      ],
      "execution_count": null,
      "outputs": []
    },
    {
      "cell_type": "code",
      "metadata": {
        "id": "0y6xZqjPdU8B"
      },
      "source": [
        "plt.figure(figsize=(20,5))\r\n",
        "chart = sns.countplot(\"Level\", data=short_dataset)\r\n",
        "chart.set_xticklabels(chart.get_xticklabels(), rotation=45)\r\n",
        "plt.show()"
      ],
      "execution_count": null,
      "outputs": []
    },
    {
      "cell_type": "code",
      "metadata": {
        "id": "8RlOkx_BWgJ1"
      },
      "source": [
        "simpleDataset = short_dataset[['cleanSentence', 'Level']].copy()\r\n",
        "simpleDataset.head()"
      ],
      "execution_count": null,
      "outputs": []
    },
    {
      "cell_type": "code",
      "metadata": {
        "id": "9B6CLOJzevWb"
      },
      "source": [
        "simpleTrain, simpleTest = train_test_split(simpleDataset, test_size=0.2)\r\n",
        "print(simpleTrain.shape, simpleTest.shape)"
      ],
      "execution_count": null,
      "outputs": []
    },
    {
      "cell_type": "markdown",
      "metadata": {
        "id": "tQywilaumsaS"
      },
      "source": [
        "### Data augmentation (Google Translate)"
      ]
    },
    {
      "cell_type": "code",
      "metadata": {
        "id": "dUiKsGvaICR7"
      },
      "source": [
        "dataset_low = dataset[dataset[\"Level\"] == \"LOW\"]\r\n",
        "dataset_low.reset_index(inplace=True)\r\n",
        "        \r\n",
        "dataset_medium = dataset[dataset[\"Level\"] == \"MEDIUM\"]  \r\n",
        "dataset_medium.reset_index(inplace=True)\r\n",
        "\r\n",
        "dataset_high = dataset[dataset[\"Level\"] == \"HIGH\"]\r\n",
        "dataset_high.reset_index(inplace=True)\r\n",
        "\r\n",
        "dataset_veryhigh = dataset[dataset[\"Level\"] == \"VERY_HIGH\"]\r\n",
        "dataset_veryhigh.reset_index(inplace=True)"
      ],
      "execution_count": 47,
      "outputs": []
    },
    {
      "cell_type": "code",
      "metadata": {
        "colab": {
          "base_uri": "https://localhost:8080/",
          "height": 833
        },
        "id": "j6CRm_0TQzim",
        "outputId": "d905c222-6fe5-44de-f4c0-0857be49ad43"
      },
      "source": [
        "low = []\r\n",
        "with open('/content/drive/My Drive/CS224n_Project/Translated_low.txt') as f:\r\n",
        "    for line in f:\r\n",
        "        if line.strip() == \"\":\r\n",
        "          line = \" \" \r\n",
        "        low.append(line.strip())\r\n",
        "\r\n",
        "dataset_low[\"Retranscript\"] = low\r\n",
        "dataset_low"
      ],
      "execution_count": 48,
      "outputs": [
        {
          "output_type": "execute_result",
          "data": {
            "text/html": [
              "<div>\n",
              "<style scoped>\n",
              "    .dataframe tbody tr th:only-of-type {\n",
              "        vertical-align: middle;\n",
              "    }\n",
              "\n",
              "    .dataframe tbody tr th {\n",
              "        vertical-align: top;\n",
              "    }\n",
              "\n",
              "    .dataframe thead th {\n",
              "        text-align: right;\n",
              "    }\n",
              "</style>\n",
              "<table border=\"1\" class=\"dataframe\">\n",
              "  <thead>\n",
              "    <tr style=\"text-align: right;\">\n",
              "      <th></th>\n",
              "      <th>index</th>\n",
              "      <th>Sentence</th>\n",
              "      <th>Type</th>\n",
              "      <th>Level</th>\n",
              "      <th>Target</th>\n",
              "      <th>Class</th>\n",
              "      <th>Length</th>\n",
              "      <th>Count</th>\n",
              "      <th>cleanSentence</th>\n",
              "      <th>Emoji</th>\n",
              "      <th>EmojiToText</th>\n",
              "      <th>enhancedSentence</th>\n",
              "      <th>finalSentence</th>\n",
              "      <th>ultimateSentence</th>\n",
              "      <th>Emoji_token</th>\n",
              "      <th>Retranscript</th>\n",
              "    </tr>\n",
              "  </thead>\n",
              "  <tbody>\n",
              "    <tr>\n",
              "      <th>0</th>\n",
              "      <td>587</td>\n",
              "      <td>Mdr le pointeur 😂</td>\n",
              "      <td>Insult</td>\n",
              "      <td>MEDIUM</td>\n",
              "      <td>USER</td>\n",
              "      <td>1</td>\n",
              "      <td>17</td>\n",
              "      <td>4</td>\n",
              "      <td>mdr le pointeur</td>\n",
              "      <td>[😂]</td>\n",
              "      <td>visage avec des larmes de joie</td>\n",
              "      <td>mdr le pointeur visage avec des larmes de joie</td>\n",
              "      <td>[mdr, le, pointeur]</td>\n",
              "      <td>[mdr, le, pointeur, visage, avec, des, larmes,...</td>\n",
              "      <td>[visage, avec, des, larmes, de, joie]</td>\n",
              "      <td>mdr le pointeur</td>\n",
              "    </tr>\n",
              "    <tr>\n",
              "      <th>1</th>\n",
              "      <td>588</td>\n",
              "      <td>C'est toi qui a gagné pour moi celle de pixia ...</td>\n",
              "      <td>Hate</td>\n",
              "      <td>MEDIUM</td>\n",
              "      <td>USER</td>\n",
              "      <td>1</td>\n",
              "      <td>57</td>\n",
              "      <td>13</td>\n",
              "      <td>c est toi qui a gagné pour moi celle de pixia ...</td>\n",
              "      <td>[]</td>\n",
              "      <td></td>\n",
              "      <td>c est toi qui a gagné pour moi celle de pixia ...</td>\n",
              "      <td>[c, est, toi, qui, a, gagné, pour, moi, celle,...</td>\n",
              "      <td>[c, est, toi, qui, a, gagné, pour, moi, celle,...</td>\n",
              "      <td>[]</td>\n",
              "      <td>c&amp;#39;est toi qui as gagné pour moi celui de p...</td>\n",
              "    </tr>\n",
              "    <tr>\n",
              "      <th>2</th>\n",
              "      <td>589</td>\n",
              "      <td>Nuuulll</td>\n",
              "      <td>Hate</td>\n",
              "      <td>MEDIUM</td>\n",
              "      <td>USER</td>\n",
              "      <td>1</td>\n",
              "      <td>7</td>\n",
              "      <td>1</td>\n",
              "      <td>nuuulll</td>\n",
              "      <td>[]</td>\n",
              "      <td></td>\n",
              "      <td>nuuulll</td>\n",
              "      <td>[nuuulll]</td>\n",
              "      <td>[nuuulll]</td>\n",
              "      <td>[]</td>\n",
              "      <td>nuuulll</td>\n",
              "    </tr>\n",
              "    <tr>\n",
              "      <th>3</th>\n",
              "      <td>590</td>\n",
              "      <td>T est nulle depuis des années ta le même nombr...</td>\n",
              "      <td>Hate</td>\n",
              "      <td>MEDIUM</td>\n",
              "      <td>USER</td>\n",
              "      <td>1</td>\n",
              "      <td>59</td>\n",
              "      <td>13</td>\n",
              "      <td>t est nulle depuis des années ta le même nombr...</td>\n",
              "      <td>[]</td>\n",
              "      <td></td>\n",
              "      <td>t est nulle depuis des années ta le même nombr...</td>\n",
              "      <td>[t, est, nulle, depuis, des, années, ta, le, m...</td>\n",
              "      <td>[t, est, nulle, depuis, des, années, ta, le, m...</td>\n",
              "      <td>[]</td>\n",
              "      <td>t est nul depuis des années vous avez le même ...</td>\n",
              "    </tr>\n",
              "    <tr>\n",
              "      <th>4</th>\n",
              "      <td>591</td>\n",
              "      <td>ouais ouais tes nul slash kun</td>\n",
              "      <td>Hate</td>\n",
              "      <td>MEDIUM</td>\n",
              "      <td>USER</td>\n",
              "      <td>1</td>\n",
              "      <td>29</td>\n",
              "      <td>6</td>\n",
              "      <td>ouais ouais tes nul slash kun</td>\n",
              "      <td>[]</td>\n",
              "      <td></td>\n",
              "      <td>ouais ouais tes nul slash kun</td>\n",
              "      <td>[ouais, ouais, tes, nul, slash, kun]</td>\n",
              "      <td>[ouais, ouais, tes, nul, slash, kun]</td>\n",
              "      <td>[]</td>\n",
              "      <td>ouais ouais tu suce slash kun</td>\n",
              "    </tr>\n",
              "    <tr>\n",
              "      <th>...</th>\n",
              "      <td>...</td>\n",
              "      <td>...</td>\n",
              "      <td>...</td>\n",
              "      <td>...</td>\n",
              "      <td>...</td>\n",
              "      <td>...</td>\n",
              "      <td>...</td>\n",
              "      <td>...</td>\n",
              "      <td>...</td>\n",
              "      <td>...</td>\n",
              "      <td>...</td>\n",
              "      <td>...</td>\n",
              "      <td>...</td>\n",
              "      <td>...</td>\n",
              "      <td>...</td>\n",
              "      <td>...</td>\n",
              "    </tr>\n",
              "    <tr>\n",
              "      <th>46874</th>\n",
              "      <td>386272</td>\n",
              "      <td>@Le___Doc Pas un mot pour nos grosses tronches...</td>\n",
              "      <td>Neutral</td>\n",
              "      <td>MEDIUM</td>\n",
              "      <td>USER</td>\n",
              "      <td>0</td>\n",
              "      <td>164</td>\n",
              "      <td>29</td>\n",
              "      <td>doc pas un mot pour nos grosses tronches de bl...</td>\n",
              "      <td>[]</td>\n",
              "      <td></td>\n",
              "      <td>doc pas un mot pour nos grosses tronches de bl...</td>\n",
              "      <td>[doc, pas, un, mot, pour, nos, grosses, tronch...</td>\n",
              "      <td>[doc, pas, un, mot, pour, nos, grosses, tronch...</td>\n",
              "      <td>[]</td>\n",
              "      <td>doc pas un mot pour nos gros visages en blouse...</td>\n",
              "    </tr>\n",
              "    <tr>\n",
              "      <th>46875</th>\n",
              "      <td>387150</td>\n",
              "      <td>C'est ça la justice en France 🇫🇷 chacun y fait...</td>\n",
              "      <td>Neutral</td>\n",
              "      <td>MEDIUM</td>\n",
              "      <td>USER</td>\n",
              "      <td>0</td>\n",
              "      <td>150</td>\n",
              "      <td>30</td>\n",
              "      <td>c est ça la justice en france chacun y fait y ...</td>\n",
              "      <td>[]</td>\n",
              "      <td></td>\n",
              "      <td>c est ça la justice en france chacun y fait y ...</td>\n",
              "      <td>[c, est, ça, la, justice, en, france, chacun, ...</td>\n",
              "      <td>[c, est, ça, la, justice, en, france, chacun, ...</td>\n",
              "      <td>[]</td>\n",
              "      <td>c&amp;#39;est la justice en France tout le monde f...</td>\n",
              "    </tr>\n",
              "    <tr>\n",
              "      <th>46876</th>\n",
              "      <td>392577</td>\n",
              "      <td>@nadine__morano T'es qui pour décider ça ?</td>\n",
              "      <td>Neutral</td>\n",
              "      <td>MEDIUM</td>\n",
              "      <td>USER</td>\n",
              "      <td>0</td>\n",
              "      <td>42</td>\n",
              "      <td>7</td>\n",
              "      <td>morano t es qui pour décider ça</td>\n",
              "      <td>[]</td>\n",
              "      <td></td>\n",
              "      <td>morano t es qui pour décider ça</td>\n",
              "      <td>[morano, t, es, qui, pour, décider, ça]</td>\n",
              "      <td>[morano, t, es, qui, pour, décider, ça]</td>\n",
              "      <td>[]</td>\n",
              "      <td>qui es-tu pour en décider</td>\n",
              "    </tr>\n",
              "    <tr>\n",
              "      <th>46877</th>\n",
              "      <td>392988</td>\n",
              "      <td>On en est là... un eugénisme assumé, tant pis ...</td>\n",
              "      <td>Neutral</td>\n",
              "      <td>MEDIUM</td>\n",
              "      <td>USER</td>\n",
              "      <td>0</td>\n",
              "      <td>274</td>\n",
              "      <td>47</td>\n",
              "      <td>on en est là un eugénisme assumé tant pis pour...</td>\n",
              "      <td>[]</td>\n",
              "      <td></td>\n",
              "      <td>on en est là un eugénisme assumé tant pis pour...</td>\n",
              "      <td>[on, en, est, là, un, eugénisme, assumé, tant,...</td>\n",
              "      <td>[on, en, est, là, un, eugénisme, assumé, tant,...</td>\n",
              "      <td>[]</td>\n",
              "      <td>c&amp;#39;est le cas de l&amp;#39;eugénisme présumé ta...</td>\n",
              "    </tr>\n",
              "    <tr>\n",
              "      <th>46878</th>\n",
              "      <td>393511</td>\n",
              "      <td>se waw et tu pars dans roblox vers qelle heure...</td>\n",
              "      <td>Neutral</td>\n",
              "      <td>MEDIUM</td>\n",
              "      <td>USER</td>\n",
              "      <td>0</td>\n",
              "      <td>270</td>\n",
              "      <td>55</td>\n",
              "      <td>se waw et tu pars dans roblox vers qelle heure...</td>\n",
              "      <td>[😪, 😭, 😭, 😟, 😢, 😢, 😭]</td>\n",
              "      <td>visage endormi visage qui pleure bruyamment vi...</td>\n",
              "      <td>se waw et tu pars dans roblox vers qelle heure...</td>\n",
              "      <td>[se, waw, et, tu, pars, dans, roblox, vers, qe...</td>\n",
              "      <td>[se, waw, et, tu, pars, dans, roblox, vers, qe...</td>\n",
              "      <td>[visage, endormi, visage, qui, pleure, bruyamm...</td>\n",
              "      <td>waw et vous partez à roblox vers quelle heure ...</td>\n",
              "    </tr>\n",
              "  </tbody>\n",
              "</table>\n",
              "<p>46879 rows × 16 columns</p>\n",
              "</div>"
            ],
            "text/plain": [
              "        index  ...                                       Retranscript\n",
              "0         587  ...                                    mdr le pointeur\n",
              "1         588  ...  c&#39;est toi qui as gagné pour moi celui de p...\n",
              "2         589  ...                                            nuuulll\n",
              "3         590  ...  t est nul depuis des années vous avez le même ...\n",
              "4         591  ...                      ouais ouais tu suce slash kun\n",
              "...       ...  ...                                                ...\n",
              "46874  386272  ...  doc pas un mot pour nos gros visages en blouse...\n",
              "46875  387150  ...  c&#39;est la justice en France tout le monde f...\n",
              "46876  392577  ...                          qui es-tu pour en décider\n",
              "46877  392988  ...  c&#39;est le cas de l&#39;eugénisme présumé ta...\n",
              "46878  393511  ...  waw et vous partez à roblox vers quelle heure ...\n",
              "\n",
              "[46879 rows x 16 columns]"
            ]
          },
          "metadata": {
            "tags": []
          },
          "execution_count": 48
        }
      ]
    },
    {
      "cell_type": "code",
      "metadata": {
        "colab": {
          "base_uri": "https://localhost:8080/",
          "height": 833
        },
        "id": "pcy5pWL0anzX",
        "outputId": "fd601b93-403f-43a2-eee6-b1c4f3beaafb"
      },
      "source": [
        "dataset_low['Retranscript'] = dataset_low['Retranscript'].map(lambda x: re.sub(r'\\W\\W39\\;', ' ', x))\r\n",
        "dataset_low"
      ],
      "execution_count": 49,
      "outputs": [
        {
          "output_type": "execute_result",
          "data": {
            "text/html": [
              "<div>\n",
              "<style scoped>\n",
              "    .dataframe tbody tr th:only-of-type {\n",
              "        vertical-align: middle;\n",
              "    }\n",
              "\n",
              "    .dataframe tbody tr th {\n",
              "        vertical-align: top;\n",
              "    }\n",
              "\n",
              "    .dataframe thead th {\n",
              "        text-align: right;\n",
              "    }\n",
              "</style>\n",
              "<table border=\"1\" class=\"dataframe\">\n",
              "  <thead>\n",
              "    <tr style=\"text-align: right;\">\n",
              "      <th></th>\n",
              "      <th>index</th>\n",
              "      <th>Sentence</th>\n",
              "      <th>Type</th>\n",
              "      <th>Level</th>\n",
              "      <th>Target</th>\n",
              "      <th>Class</th>\n",
              "      <th>Length</th>\n",
              "      <th>Count</th>\n",
              "      <th>cleanSentence</th>\n",
              "      <th>Emoji</th>\n",
              "      <th>EmojiToText</th>\n",
              "      <th>enhancedSentence</th>\n",
              "      <th>finalSentence</th>\n",
              "      <th>ultimateSentence</th>\n",
              "      <th>Emoji_token</th>\n",
              "      <th>Retranscript</th>\n",
              "    </tr>\n",
              "  </thead>\n",
              "  <tbody>\n",
              "    <tr>\n",
              "      <th>0</th>\n",
              "      <td>587</td>\n",
              "      <td>Mdr le pointeur 😂</td>\n",
              "      <td>Insult</td>\n",
              "      <td>MEDIUM</td>\n",
              "      <td>USER</td>\n",
              "      <td>1</td>\n",
              "      <td>17</td>\n",
              "      <td>4</td>\n",
              "      <td>mdr le pointeur</td>\n",
              "      <td>[😂]</td>\n",
              "      <td>visage avec des larmes de joie</td>\n",
              "      <td>mdr le pointeur visage avec des larmes de joie</td>\n",
              "      <td>[mdr, le, pointeur]</td>\n",
              "      <td>[mdr, le, pointeur, visage, avec, des, larmes,...</td>\n",
              "      <td>[visage, avec, des, larmes, de, joie]</td>\n",
              "      <td>mdr le pointeur</td>\n",
              "    </tr>\n",
              "    <tr>\n",
              "      <th>1</th>\n",
              "      <td>588</td>\n",
              "      <td>C'est toi qui a gagné pour moi celle de pixia ...</td>\n",
              "      <td>Hate</td>\n",
              "      <td>MEDIUM</td>\n",
              "      <td>USER</td>\n",
              "      <td>1</td>\n",
              "      <td>57</td>\n",
              "      <td>13</td>\n",
              "      <td>c est toi qui a gagné pour moi celle de pixia ...</td>\n",
              "      <td>[]</td>\n",
              "      <td></td>\n",
              "      <td>c est toi qui a gagné pour moi celle de pixia ...</td>\n",
              "      <td>[c, est, toi, qui, a, gagné, pour, moi, celle,...</td>\n",
              "      <td>[c, est, toi, qui, a, gagné, pour, moi, celle,...</td>\n",
              "      <td>[]</td>\n",
              "      <td>c est toi qui as gagné pour moi celui de pixia...</td>\n",
              "    </tr>\n",
              "    <tr>\n",
              "      <th>2</th>\n",
              "      <td>589</td>\n",
              "      <td>Nuuulll</td>\n",
              "      <td>Hate</td>\n",
              "      <td>MEDIUM</td>\n",
              "      <td>USER</td>\n",
              "      <td>1</td>\n",
              "      <td>7</td>\n",
              "      <td>1</td>\n",
              "      <td>nuuulll</td>\n",
              "      <td>[]</td>\n",
              "      <td></td>\n",
              "      <td>nuuulll</td>\n",
              "      <td>[nuuulll]</td>\n",
              "      <td>[nuuulll]</td>\n",
              "      <td>[]</td>\n",
              "      <td>nuuulll</td>\n",
              "    </tr>\n",
              "    <tr>\n",
              "      <th>3</th>\n",
              "      <td>590</td>\n",
              "      <td>T est nulle depuis des années ta le même nombr...</td>\n",
              "      <td>Hate</td>\n",
              "      <td>MEDIUM</td>\n",
              "      <td>USER</td>\n",
              "      <td>1</td>\n",
              "      <td>59</td>\n",
              "      <td>13</td>\n",
              "      <td>t est nulle depuis des années ta le même nombr...</td>\n",
              "      <td>[]</td>\n",
              "      <td></td>\n",
              "      <td>t est nulle depuis des années ta le même nombr...</td>\n",
              "      <td>[t, est, nulle, depuis, des, années, ta, le, m...</td>\n",
              "      <td>[t, est, nulle, depuis, des, années, ta, le, m...</td>\n",
              "      <td>[]</td>\n",
              "      <td>t est nul depuis des années vous avez le même ...</td>\n",
              "    </tr>\n",
              "    <tr>\n",
              "      <th>4</th>\n",
              "      <td>591</td>\n",
              "      <td>ouais ouais tes nul slash kun</td>\n",
              "      <td>Hate</td>\n",
              "      <td>MEDIUM</td>\n",
              "      <td>USER</td>\n",
              "      <td>1</td>\n",
              "      <td>29</td>\n",
              "      <td>6</td>\n",
              "      <td>ouais ouais tes nul slash kun</td>\n",
              "      <td>[]</td>\n",
              "      <td></td>\n",
              "      <td>ouais ouais tes nul slash kun</td>\n",
              "      <td>[ouais, ouais, tes, nul, slash, kun]</td>\n",
              "      <td>[ouais, ouais, tes, nul, slash, kun]</td>\n",
              "      <td>[]</td>\n",
              "      <td>ouais ouais tu suce slash kun</td>\n",
              "    </tr>\n",
              "    <tr>\n",
              "      <th>...</th>\n",
              "      <td>...</td>\n",
              "      <td>...</td>\n",
              "      <td>...</td>\n",
              "      <td>...</td>\n",
              "      <td>...</td>\n",
              "      <td>...</td>\n",
              "      <td>...</td>\n",
              "      <td>...</td>\n",
              "      <td>...</td>\n",
              "      <td>...</td>\n",
              "      <td>...</td>\n",
              "      <td>...</td>\n",
              "      <td>...</td>\n",
              "      <td>...</td>\n",
              "      <td>...</td>\n",
              "      <td>...</td>\n",
              "    </tr>\n",
              "    <tr>\n",
              "      <th>46874</th>\n",
              "      <td>386272</td>\n",
              "      <td>@Le___Doc Pas un mot pour nos grosses tronches...</td>\n",
              "      <td>Neutral</td>\n",
              "      <td>MEDIUM</td>\n",
              "      <td>USER</td>\n",
              "      <td>0</td>\n",
              "      <td>164</td>\n",
              "      <td>29</td>\n",
              "      <td>doc pas un mot pour nos grosses tronches de bl...</td>\n",
              "      <td>[]</td>\n",
              "      <td></td>\n",
              "      <td>doc pas un mot pour nos grosses tronches de bl...</td>\n",
              "      <td>[doc, pas, un, mot, pour, nos, grosses, tronch...</td>\n",
              "      <td>[doc, pas, un, mot, pour, nos, grosses, tronch...</td>\n",
              "      <td>[]</td>\n",
              "      <td>doc pas un mot pour nos gros visages en blouse...</td>\n",
              "    </tr>\n",
              "    <tr>\n",
              "      <th>46875</th>\n",
              "      <td>387150</td>\n",
              "      <td>C'est ça la justice en France 🇫🇷 chacun y fait...</td>\n",
              "      <td>Neutral</td>\n",
              "      <td>MEDIUM</td>\n",
              "      <td>USER</td>\n",
              "      <td>0</td>\n",
              "      <td>150</td>\n",
              "      <td>30</td>\n",
              "      <td>c est ça la justice en france chacun y fait y ...</td>\n",
              "      <td>[]</td>\n",
              "      <td></td>\n",
              "      <td>c est ça la justice en france chacun y fait y ...</td>\n",
              "      <td>[c, est, ça, la, justice, en, france, chacun, ...</td>\n",
              "      <td>[c, est, ça, la, justice, en, france, chacun, ...</td>\n",
              "      <td>[]</td>\n",
              "      <td>c est la justice en France tout le monde fait ...</td>\n",
              "    </tr>\n",
              "    <tr>\n",
              "      <th>46876</th>\n",
              "      <td>392577</td>\n",
              "      <td>@nadine__morano T'es qui pour décider ça ?</td>\n",
              "      <td>Neutral</td>\n",
              "      <td>MEDIUM</td>\n",
              "      <td>USER</td>\n",
              "      <td>0</td>\n",
              "      <td>42</td>\n",
              "      <td>7</td>\n",
              "      <td>morano t es qui pour décider ça</td>\n",
              "      <td>[]</td>\n",
              "      <td></td>\n",
              "      <td>morano t es qui pour décider ça</td>\n",
              "      <td>[morano, t, es, qui, pour, décider, ça]</td>\n",
              "      <td>[morano, t, es, qui, pour, décider, ça]</td>\n",
              "      <td>[]</td>\n",
              "      <td>qui es-tu pour en décider</td>\n",
              "    </tr>\n",
              "    <tr>\n",
              "      <th>46877</th>\n",
              "      <td>392988</td>\n",
              "      <td>On en est là... un eugénisme assumé, tant pis ...</td>\n",
              "      <td>Neutral</td>\n",
              "      <td>MEDIUM</td>\n",
              "      <td>USER</td>\n",
              "      <td>0</td>\n",
              "      <td>274</td>\n",
              "      <td>47</td>\n",
              "      <td>on en est là un eugénisme assumé tant pis pour...</td>\n",
              "      <td>[]</td>\n",
              "      <td></td>\n",
              "      <td>on en est là un eugénisme assumé tant pis pour...</td>\n",
              "      <td>[on, en, est, là, un, eugénisme, assumé, tant,...</td>\n",
              "      <td>[on, en, est, là, un, eugénisme, assumé, tant,...</td>\n",
              "      <td>[]</td>\n",
              "      <td>c est le cas de l eugénisme présumé tant pis p...</td>\n",
              "    </tr>\n",
              "    <tr>\n",
              "      <th>46878</th>\n",
              "      <td>393511</td>\n",
              "      <td>se waw et tu pars dans roblox vers qelle heure...</td>\n",
              "      <td>Neutral</td>\n",
              "      <td>MEDIUM</td>\n",
              "      <td>USER</td>\n",
              "      <td>0</td>\n",
              "      <td>270</td>\n",
              "      <td>55</td>\n",
              "      <td>se waw et tu pars dans roblox vers qelle heure...</td>\n",
              "      <td>[😪, 😭, 😭, 😟, 😢, 😢, 😭]</td>\n",
              "      <td>visage endormi visage qui pleure bruyamment vi...</td>\n",
              "      <td>se waw et tu pars dans roblox vers qelle heure...</td>\n",
              "      <td>[se, waw, et, tu, pars, dans, roblox, vers, qe...</td>\n",
              "      <td>[se, waw, et, tu, pars, dans, roblox, vers, qe...</td>\n",
              "      <td>[visage, endormi, visage, qui, pleure, bruyamm...</td>\n",
              "      <td>waw et vous partez à roblox vers quelle heure ...</td>\n",
              "    </tr>\n",
              "  </tbody>\n",
              "</table>\n",
              "<p>46879 rows × 16 columns</p>\n",
              "</div>"
            ],
            "text/plain": [
              "        index  ...                                       Retranscript\n",
              "0         587  ...                                    mdr le pointeur\n",
              "1         588  ...  c est toi qui as gagné pour moi celui de pixia...\n",
              "2         589  ...                                            nuuulll\n",
              "3         590  ...  t est nul depuis des années vous avez le même ...\n",
              "4         591  ...                      ouais ouais tu suce slash kun\n",
              "...       ...  ...                                                ...\n",
              "46874  386272  ...  doc pas un mot pour nos gros visages en blouse...\n",
              "46875  387150  ...  c est la justice en France tout le monde fait ...\n",
              "46876  392577  ...                          qui es-tu pour en décider\n",
              "46877  392988  ...  c est le cas de l eugénisme présumé tant pis p...\n",
              "46878  393511  ...  waw et vous partez à roblox vers quelle heure ...\n",
              "\n",
              "[46879 rows x 16 columns]"
            ]
          },
          "metadata": {
            "tags": []
          },
          "execution_count": 49
        }
      ]
    },
    {
      "cell_type": "code",
      "metadata": {
        "colab": {
          "base_uri": "https://localhost:8080/",
          "height": 657
        },
        "id": "_CPeMGVjn7-d",
        "outputId": "7bc2d9ff-b277-41e1-bb9d-eb3264950074"
      },
      "source": [
        "dataset_low['Retranscript_tok'] = dataset_low['Retranscript'].apply(word_tokenize)\r\n",
        "dataset_low.head(10)"
      ],
      "execution_count": 50,
      "outputs": [
        {
          "output_type": "execute_result",
          "data": {
            "text/html": [
              "<div>\n",
              "<style scoped>\n",
              "    .dataframe tbody tr th:only-of-type {\n",
              "        vertical-align: middle;\n",
              "    }\n",
              "\n",
              "    .dataframe tbody tr th {\n",
              "        vertical-align: top;\n",
              "    }\n",
              "\n",
              "    .dataframe thead th {\n",
              "        text-align: right;\n",
              "    }\n",
              "</style>\n",
              "<table border=\"1\" class=\"dataframe\">\n",
              "  <thead>\n",
              "    <tr style=\"text-align: right;\">\n",
              "      <th></th>\n",
              "      <th>index</th>\n",
              "      <th>Sentence</th>\n",
              "      <th>Type</th>\n",
              "      <th>Level</th>\n",
              "      <th>Target</th>\n",
              "      <th>Class</th>\n",
              "      <th>Length</th>\n",
              "      <th>Count</th>\n",
              "      <th>cleanSentence</th>\n",
              "      <th>Emoji</th>\n",
              "      <th>EmojiToText</th>\n",
              "      <th>enhancedSentence</th>\n",
              "      <th>finalSentence</th>\n",
              "      <th>ultimateSentence</th>\n",
              "      <th>Emoji_token</th>\n",
              "      <th>Retranscript</th>\n",
              "      <th>Retranscript_tok</th>\n",
              "    </tr>\n",
              "  </thead>\n",
              "  <tbody>\n",
              "    <tr>\n",
              "      <th>0</th>\n",
              "      <td>587</td>\n",
              "      <td>Mdr le pointeur 😂</td>\n",
              "      <td>Insult</td>\n",
              "      <td>MEDIUM</td>\n",
              "      <td>USER</td>\n",
              "      <td>1</td>\n",
              "      <td>17</td>\n",
              "      <td>4</td>\n",
              "      <td>mdr le pointeur</td>\n",
              "      <td>[😂]</td>\n",
              "      <td>visage avec des larmes de joie</td>\n",
              "      <td>mdr le pointeur visage avec des larmes de joie</td>\n",
              "      <td>[mdr, le, pointeur]</td>\n",
              "      <td>[mdr, le, pointeur, visage, avec, des, larmes,...</td>\n",
              "      <td>[visage, avec, des, larmes, de, joie]</td>\n",
              "      <td>mdr le pointeur</td>\n",
              "      <td>[mdr, le, pointeur]</td>\n",
              "    </tr>\n",
              "    <tr>\n",
              "      <th>1</th>\n",
              "      <td>588</td>\n",
              "      <td>C'est toi qui a gagné pour moi celle de pixia ...</td>\n",
              "      <td>Hate</td>\n",
              "      <td>MEDIUM</td>\n",
              "      <td>USER</td>\n",
              "      <td>1</td>\n",
              "      <td>57</td>\n",
              "      <td>13</td>\n",
              "      <td>c est toi qui a gagné pour moi celle de pixia ...</td>\n",
              "      <td>[]</td>\n",
              "      <td></td>\n",
              "      <td>c est toi qui a gagné pour moi celle de pixia ...</td>\n",
              "      <td>[c, est, toi, qui, a, gagné, pour, moi, celle,...</td>\n",
              "      <td>[c, est, toi, qui, a, gagné, pour, moi, celle,...</td>\n",
              "      <td>[]</td>\n",
              "      <td>c est toi qui as gagné pour moi celui de pixia...</td>\n",
              "      <td>[c, est, toi, qui, as, gagné, pour, moi, celui...</td>\n",
              "    </tr>\n",
              "    <tr>\n",
              "      <th>2</th>\n",
              "      <td>589</td>\n",
              "      <td>Nuuulll</td>\n",
              "      <td>Hate</td>\n",
              "      <td>MEDIUM</td>\n",
              "      <td>USER</td>\n",
              "      <td>1</td>\n",
              "      <td>7</td>\n",
              "      <td>1</td>\n",
              "      <td>nuuulll</td>\n",
              "      <td>[]</td>\n",
              "      <td></td>\n",
              "      <td>nuuulll</td>\n",
              "      <td>[nuuulll]</td>\n",
              "      <td>[nuuulll]</td>\n",
              "      <td>[]</td>\n",
              "      <td>nuuulll</td>\n",
              "      <td>[nuuulll]</td>\n",
              "    </tr>\n",
              "    <tr>\n",
              "      <th>3</th>\n",
              "      <td>590</td>\n",
              "      <td>T est nulle depuis des années ta le même nombr...</td>\n",
              "      <td>Hate</td>\n",
              "      <td>MEDIUM</td>\n",
              "      <td>USER</td>\n",
              "      <td>1</td>\n",
              "      <td>59</td>\n",
              "      <td>13</td>\n",
              "      <td>t est nulle depuis des années ta le même nombr...</td>\n",
              "      <td>[]</td>\n",
              "      <td></td>\n",
              "      <td>t est nulle depuis des années ta le même nombr...</td>\n",
              "      <td>[t, est, nulle, depuis, des, années, ta, le, m...</td>\n",
              "      <td>[t, est, nulle, depuis, des, années, ta, le, m...</td>\n",
              "      <td>[]</td>\n",
              "      <td>t est nul depuis des années vous avez le même ...</td>\n",
              "      <td>[t, est, nul, depuis, des, années, vous, avez,...</td>\n",
              "    </tr>\n",
              "    <tr>\n",
              "      <th>4</th>\n",
              "      <td>591</td>\n",
              "      <td>ouais ouais tes nul slash kun</td>\n",
              "      <td>Hate</td>\n",
              "      <td>MEDIUM</td>\n",
              "      <td>USER</td>\n",
              "      <td>1</td>\n",
              "      <td>29</td>\n",
              "      <td>6</td>\n",
              "      <td>ouais ouais tes nul slash kun</td>\n",
              "      <td>[]</td>\n",
              "      <td></td>\n",
              "      <td>ouais ouais tes nul slash kun</td>\n",
              "      <td>[ouais, ouais, tes, nul, slash, kun]</td>\n",
              "      <td>[ouais, ouais, tes, nul, slash, kun]</td>\n",
              "      <td>[]</td>\n",
              "      <td>ouais ouais tu suce slash kun</td>\n",
              "      <td>[ouais, ouais, tu, suce, slash, kun]</td>\n",
              "    </tr>\n",
              "    <tr>\n",
              "      <th>5</th>\n",
              "      <td>592</td>\n",
              "      <td>Nul nul nul</td>\n",
              "      <td>Hate</td>\n",
              "      <td>MEDIUM</td>\n",
              "      <td>USER</td>\n",
              "      <td>1</td>\n",
              "      <td>11</td>\n",
              "      <td>3</td>\n",
              "      <td>nul nul nul</td>\n",
              "      <td>[]</td>\n",
              "      <td></td>\n",
              "      <td>nul nul nul</td>\n",
              "      <td>[nul, nul, nul]</td>\n",
              "      <td>[nul, nul, nul]</td>\n",
              "      <td>[]</td>\n",
              "      <td>non non Non Non</td>\n",
              "      <td>[non, non, Non, Non]</td>\n",
              "    </tr>\n",
              "    <tr>\n",
              "      <th>6</th>\n",
              "      <td>593</td>\n",
              "      <td>Nule</td>\n",
              "      <td>Hate</td>\n",
              "      <td>MEDIUM</td>\n",
              "      <td>USER</td>\n",
              "      <td>1</td>\n",
              "      <td>4</td>\n",
              "      <td>1</td>\n",
              "      <td>nule</td>\n",
              "      <td>[]</td>\n",
              "      <td></td>\n",
              "      <td>nule</td>\n",
              "      <td>[nule]</td>\n",
              "      <td>[nule]</td>\n",
              "      <td>[]</td>\n",
              "      <td>zéro</td>\n",
              "      <td>[zéro]</td>\n",
              "    </tr>\n",
              "    <tr>\n",
              "      <th>7</th>\n",
              "      <td>594</td>\n",
              "      <td>Nul</td>\n",
              "      <td>Hate</td>\n",
              "      <td>MEDIUM</td>\n",
              "      <td>USER</td>\n",
              "      <td>1</td>\n",
              "      <td>3</td>\n",
              "      <td>1</td>\n",
              "      <td>nul</td>\n",
              "      <td>[]</td>\n",
              "      <td></td>\n",
              "      <td>nul</td>\n",
              "      <td>[nul]</td>\n",
              "      <td>[nul]</td>\n",
              "      <td>[]</td>\n",
              "      <td>non</td>\n",
              "      <td>[non]</td>\n",
              "    </tr>\n",
              "    <tr>\n",
              "      <th>8</th>\n",
              "      <td>595</td>\n",
              "      <td>te  nule</td>\n",
              "      <td>Hate</td>\n",
              "      <td>MEDIUM</td>\n",
              "      <td>USER</td>\n",
              "      <td>1</td>\n",
              "      <td>8</td>\n",
              "      <td>2</td>\n",
              "      <td>te nule</td>\n",
              "      <td>[]</td>\n",
              "      <td></td>\n",
              "      <td>te nule</td>\n",
              "      <td>[te, nule]</td>\n",
              "      <td>[te, nule]</td>\n",
              "      <td>[]</td>\n",
              "      <td>nule toi</td>\n",
              "      <td>[nule, toi]</td>\n",
              "    </tr>\n",
              "    <tr>\n",
              "      <th>9</th>\n",
              "      <td>596</td>\n",
              "      <td>Wazz tu me déçois, tu commences toi aussi à pr...</td>\n",
              "      <td>Mockery</td>\n",
              "      <td>MEDIUM</td>\n",
              "      <td>USER</td>\n",
              "      <td>1</td>\n",
              "      <td>234</td>\n",
              "      <td>42</td>\n",
              "      <td>wazz tu me déçois tu commences toi aussi à pre...</td>\n",
              "      <td>[]</td>\n",
              "      <td></td>\n",
              "      <td>wazz tu me déçois tu commences toi aussi à pre...</td>\n",
              "      <td>[wazz, tu, me, déçois, tu, commences, toi, aus...</td>\n",
              "      <td>[wazz, tu, me, déçois, tu, commences, toi, aus...</td>\n",
              "      <td>[]</td>\n",
              "      <td>wazz tu me déçois tu commences aussi à prendre...</td>\n",
              "      <td>[wazz, tu, me, déçois, tu, commences, aussi, à...</td>\n",
              "    </tr>\n",
              "  </tbody>\n",
              "</table>\n",
              "</div>"
            ],
            "text/plain": [
              "   index  ...                                   Retranscript_tok\n",
              "0    587  ...                                [mdr, le, pointeur]\n",
              "1    588  ...  [c, est, toi, qui, as, gagné, pour, moi, celui...\n",
              "2    589  ...                                          [nuuulll]\n",
              "3    590  ...  [t, est, nul, depuis, des, années, vous, avez,...\n",
              "4    591  ...               [ouais, ouais, tu, suce, slash, kun]\n",
              "5    592  ...                               [non, non, Non, Non]\n",
              "6    593  ...                                             [zéro]\n",
              "7    594  ...                                              [non]\n",
              "8    595  ...                                        [nule, toi]\n",
              "9    596  ...  [wazz, tu, me, déçois, tu, commences, aussi, à...\n",
              "\n",
              "[10 rows x 17 columns]"
            ]
          },
          "metadata": {
            "tags": []
          },
          "execution_count": 50
        }
      ]
    },
    {
      "cell_type": "code",
      "metadata": {
        "id": "DSYx3xXrz3w7"
      },
      "source": [
        "from sentence_transformers import SentenceTransformer, util\r\n",
        "sent_model = SentenceTransformer('distiluse-base-multilingual-cased-v2')\r\n",
        "\r\n",
        "sentences = dataset_low['Retranscript'].tolist()\r\n",
        "sent_embeddings = sent_model.encode(sentences, convert_to_tensor=True)\r\n",
        "dataset_low['Embed_retrans'] = sent_embeddings\r\n",
        "\r\n",
        "dataset_low.head()"
      ],
      "execution_count": null,
      "outputs": []
    },
    {
      "cell_type": "code",
      "metadata": {
        "id": "bfijefbDz4vw"
      },
      "source": [
        "ref_sentences = dataset_low['cleanSentence'].tolist()\r\n",
        "clean_embeddings = sent_model.encode(ref_sentences, convert_to_tensor=True)\r\n",
        "dataset_low['Embed_clean'] = clean_embeddings\r\n",
        "\r\n",
        "dataset_low.head()"
      ],
      "execution_count": null,
      "outputs": []
    },
    {
      "cell_type": "code",
      "metadata": {
        "id": "QvTPeu-5z-6g"
      },
      "source": [
        "dataset_low['Similarity_score'] = dataset_low[[dataset_medium['Embed_retrans'], dataset_low['Embed_clean']]].apply(lambda x: util.pytorch_cos_sim(x)"
      ],
      "execution_count": null,
      "outputs": []
    },
    {
      "cell_type": "markdown",
      "metadata": {
        "id": "rrHkXM9KXCTh"
      },
      "source": [
        "### Creating final datasets"
      ]
    },
    {
      "cell_type": "code",
      "metadata": {
        "id": "EvB5JZg6wXJj"
      },
      "source": [
        "final_dataset = dataset_wo_freq.copy()"
      ],
      "execution_count": 51,
      "outputs": []
    },
    {
      "cell_type": "markdown",
      "metadata": {
        "id": "Gk1krgK0bKWL"
      },
      "source": [
        "#### Keras tokenization of Sentences"
      ]
    },
    {
      "cell_type": "code",
      "metadata": {
        "id": "ZTD8XfmAr315"
      },
      "source": [
        "#Tokenizing Text with Keras -> Representing each word by a number\r\n",
        "from tensorflow.keras.preprocessing.text import Tokenizer\r\n",
        "\r\n",
        "tokenizer = Tokenizer(lower=True)\r\n",
        "tokenizer.fit_on_texts(final_dataset[\"finalSentence\"])\r\n",
        "\r\n",
        "X_tok = tokenizer.texts_to_sequences(final_dataset[\"finalSentence\"])\r\n"
      ],
      "execution_count": 52,
      "outputs": []
    },
    {
      "cell_type": "code",
      "metadata": {
        "colab": {
          "base_uri": "https://localhost:8080/"
        },
        "id": "sKOba-1ZsD54",
        "outputId": "c267a04f-792f-4e4d-a32e-c69d83c178d8"
      },
      "source": [
        "X_tok[0][:10]"
      ],
      "execution_count": 53,
      "outputs": [
        {
          "output_type": "execute_result",
          "data": {
            "text/plain": [
              "[8, 1, 5492]"
            ]
          },
          "metadata": {
            "tags": []
          },
          "execution_count": 53
        }
      ]
    },
    {
      "cell_type": "code",
      "metadata": {
        "colab": {
          "base_uri": "https://localhost:8080/"
        },
        "id": "4KkN9haIsIyS",
        "outputId": "07cfdb86-9d48-4284-e6cc-4a3245fcbb9c"
      },
      "source": [
        "#Lets check few word to numerical representation\r\n",
        "#Mapping is preserved in dictionary -> word_index property of instance\r\n",
        "word_index = tokenizer.word_index\r\n",
        "for word, num in word_index.items():\r\n",
        "    print(\"{} -> {}\".format(word, num))\r\n",
        "    if num == 10:\r\n",
        "        break        "
      ],
      "execution_count": 54,
      "outputs": [
        {
          "output_type": "stream",
          "text": [
            "pas -> 1\n",
            "je -> 2\n",
            "il -> 3\n",
            "tu -> 4\n",
            "vous -> 5\n",
            "on -> 6\n",
            "j -> 7\n",
            "t -> 8\n",
            "ta -> 9\n",
            "n -> 10\n"
          ],
          "name": "stdout"
        }
      ]
    },
    {
      "cell_type": "code",
      "metadata": {
        "colab": {
          "base_uri": "https://localhost:8080/",
          "height": 265
        },
        "id": "hydnGNf8voK6",
        "outputId": "ac3c1bad-31cd-4fce-8f7b-13f4cd1707a4"
      },
      "source": [
        "# Making histogram for no of words in sentences shows that most news sentences are under 150 words.\r\n",
        "plt.hist([len(x) for x in X_tok], bins=500)\r\n",
        "plt.show()"
      ],
      "execution_count": 55,
      "outputs": [
        {
          "output_type": "display_data",
          "data": {
            "image/png": "[encoded data removed]",
            "text/plain": [
              "<Figure size 432x288 with 1 Axes>"
            ]
          },
          "metadata": {
            "tags": [],
            "needs_background": "light"
          }
        }
      ]
    },
    {
      "cell_type": "code",
      "metadata": {
        "id": "aE8C1Zy6vehv"
      },
      "source": [
        "#Lets keep all sentences to 150, add padding to news with less than 150 words and truncating long ones\r\n",
        "maxlen = 150 \r\n",
        "\r\n",
        "#Making all news of size maxlen defined above, padding with 0 when needed\r\n",
        "X_tok = pad_sequences(X_tok, maxlen=maxlen)"
      ],
      "execution_count": 56,
      "outputs": []
    },
    {
      "cell_type": "code",
      "metadata": {
        "id": "JM7s1fIevK9U"
      },
      "source": [
        "# Embedding Layer used in Keras creates one more vector for \"UNKNOWN\" words, or padded words (0s). This Vector is filled with zeros.\r\n",
        "# Thus our vocab size inceeases by 1\r\n",
        "vocab_size = len(tokenizer.word_index) + 1"
      ],
      "execution_count": 57,
      "outputs": []
    },
    {
      "cell_type": "markdown",
      "metadata": {
        "id": "CN3CAVcBbTjX"
      },
      "source": [
        "#### One-Hot vectors of Levels"
      ]
    },
    {
      "cell_type": "code",
      "metadata": {
        "colab": {
          "base_uri": "https://localhost:8080/"
        },
        "id": "5kw6-vlUxZEJ",
        "outputId": "8df62b6e-6aac-4a68-d591-54c021ac5256"
      },
      "source": [
        "#Encoding labels as one-hot vectors\r\n",
        "y = final_dataset[\"Level\"]\r\n",
        "\r\n",
        "# encode class values as integers\r\n",
        "encoder = LabelEncoder()\r\n",
        "encoder.fit(y)\r\n",
        "encoded_y = encoder.transform(y)\r\n",
        "print(y)"
      ],
      "execution_count": 58,
      "outputs": [
        {
          "output_type": "stream",
          "text": [
            "0          LOW\n",
            "1          LOW\n",
            "2          LOW\n",
            "3          LOW\n",
            "4          LOW\n",
            "          ... \n",
            "394588    NONE\n",
            "394589    NONE\n",
            "394590    NONE\n",
            "394591    NONE\n",
            "394592    NONE\n",
            "Name: Level, Length: 394592, dtype: object\n"
          ],
          "name": "stdout"
        }
      ]
    },
    {
      "cell_type": "code",
      "metadata": {
        "colab": {
          "base_uri": "https://localhost:8080/"
        },
        "id": "SODKAAZoY1qF",
        "outputId": "5a06c292-4700-416f-99f4-3f8b01b421f0"
      },
      "source": [
        "labels_mapping = dict(zip(encoder.classes_,encoder.transform(encoder.classes_)))\r\n",
        "labels_mapping"
      ],
      "execution_count": 59,
      "outputs": [
        {
          "output_type": "execute_result",
          "data": {
            "text/plain": [
              "{'HIGH': 0, 'LOW': 1, 'MEDIUM': 2, 'NONE': 3, 'VERY_HIGH': 4}"
            ]
          },
          "metadata": {
            "tags": []
          },
          "execution_count": 59
        }
      ]
    },
    {
      "cell_type": "code",
      "metadata": {
        "id": "Cqi0ddr1rGTb"
      },
      "source": [
        "# convert integers to dummy variables (i.e. one hot encoded)\r\n",
        "onehot_y = np_utils.to_categorical(encoded_y)"
      ],
      "execution_count": 60,
      "outputs": []
    },
    {
      "cell_type": "markdown",
      "metadata": {
        "id": "C3RYYSSXbYzc"
      },
      "source": [
        "#### One-Hot vectors of Targets"
      ]
    },
    {
      "cell_type": "code",
      "metadata": {
        "id": "9nI7XX-MTgWQ",
        "colab": {
          "base_uri": "https://localhost:8080/"
        },
        "outputId": "70a3ef1a-a376-4088-b83f-554fc77bad8d"
      },
      "source": [
        "#Encoding targets as one-hot vectors\r\n",
        "targets = final_dataset[\"Target\"]\r\n",
        "encoder = LabelEncoder()\r\n",
        "encoder.fit(targets)\r\n",
        "encoded_targets = encoder.transform(targets)\r\n",
        "print(targets)"
      ],
      "execution_count": 61,
      "outputs": [
        {
          "output_type": "stream",
          "text": [
            "0              USER\n",
            "1              USER\n",
            "2              USER\n",
            "3              USER\n",
            "4              USER\n",
            "            ...    \n",
            "394588    UNDEFINED\n",
            "394589    UNDEFINED\n",
            "394590    UNDEFINED\n",
            "394591    UNDEFINED\n",
            "394592    UNDEFINED\n",
            "Name: Target, Length: 394592, dtype: object\n"
          ],
          "name": "stdout"
        }
      ]
    },
    {
      "cell_type": "code",
      "metadata": {
        "colab": {
          "base_uri": "https://localhost:8080/"
        },
        "id": "T3j2VD1TW-Nn",
        "outputId": "52422eb3-499f-4a29-e51b-ae504efd4fdc"
      },
      "source": [
        "onehot_targets = np_utils.to_categorical(encoded_targets)\r\n",
        "onehot_targets"
      ],
      "execution_count": 62,
      "outputs": [
        {
          "output_type": "execute_result",
          "data": {
            "text/plain": [
              "array([[0., 0., 0., ..., 0., 1., 0.],\n",
              "       [0., 0., 0., ..., 0., 1., 0.],\n",
              "       [0., 0., 0., ..., 0., 1., 0.],\n",
              "       ...,\n",
              "       [0., 0., 0., ..., 1., 0., 0.],\n",
              "       [0., 0., 0., ..., 1., 0., 0.],\n",
              "       [0., 0., 0., ..., 1., 0., 0.]], dtype=float32)"
            ]
          },
          "metadata": {
            "tags": []
          },
          "execution_count": 62
        }
      ]
    },
    {
      "cell_type": "code",
      "metadata": {
        "colab": {
          "base_uri": "https://localhost:8080/"
        },
        "id": "ienX9JUnXN-w",
        "outputId": "1b33e66a-6558-445f-d090-47245ba38a35"
      },
      "source": [
        "targets_mapping = dict(zip(encoder.classes_,encoder.transform(encoder.classes_)))\r\n",
        "targets_mapping"
      ],
      "execution_count": 63,
      "outputs": [
        {
          "output_type": "execute_result",
          "data": {
            "text/plain": [
              "{'AUTHOR_OF_COMMENT': 0,\n",
              " 'EVERYONE': 1,\n",
              " 'GROUP': 2,\n",
              " 'SINGLE_PERSON': 3,\n",
              " 'UNDEFINED': 4,\n",
              " 'USER': 5,\n",
              " 'USER_FAMILY': 6}"
            ]
          },
          "metadata": {
            "tags": []
          },
          "execution_count": 63
        }
      ]
    },
    {
      "cell_type": "markdown",
      "metadata": {
        "id": "AN-n9syDbamP"
      },
      "source": [
        "#### Keras tokenization of Emojis"
      ]
    },
    {
      "cell_type": "code",
      "metadata": {
        "id": "WdUgIOvXZ0xv",
        "colab": {
          "base_uri": "https://localhost:8080/",
          "height": 611
        },
        "outputId": "60e1468c-2ed7-4cc2-cf6e-cc07b1321a2c"
      },
      "source": [
        "\"\"\"#Tokenizing EmojisToText with Keras -> Representing each word by a number\r\n",
        "from tensorflow.keras.preprocessing.text import Tokenizer\r\n",
        "\r\n",
        "tokenizer_emojis = Tokenizer(lower=True)\r\n",
        "tokenizer_emojis.fit_on_texts(final_dataset[\"Emoji_token\"])\r\n",
        "\r\n",
        "E_tok = tokenizer_emojis.texts_to_sequences(final_dataset[\"Emoji_token\"])\r\n"
      ],
      "execution_count": 65,
      "outputs": [
        {
          "output_type": "error",
          "ename": "KeyError",
          "evalue": "ignored",
          "traceback": [
            "\u001b[0;31m---------------------------------------------------------------------------\u001b[0m",
            "\u001b[0;31mKeyError\u001b[0m                                  Traceback (most recent call last)",
            "\u001b[0;32m/usr/local/lib/python3.7/dist-packages/pandas/core/indexes/base.py\u001b[0m in \u001b[0;36mget_loc\u001b[0;34m(self, key, method, tolerance)\u001b[0m\n\u001b[1;32m   2897\u001b[0m             \u001b[0;32mtry\u001b[0m\u001b[0;34m:\u001b[0m\u001b[0;34m\u001b[0m\u001b[0;34m\u001b[0m\u001b[0m\n\u001b[0;32m-> 2898\u001b[0;31m                 \u001b[0;32mreturn\u001b[0m \u001b[0mself\u001b[0m\u001b[0;34m.\u001b[0m\u001b[0m_engine\u001b[0m\u001b[0;34m.\u001b[0m\u001b[0mget_loc\u001b[0m\u001b[0;34m(\u001b[0m\u001b[0mcasted_key\u001b[0m\u001b[0;34m)\u001b[0m\u001b[0;34m\u001b[0m\u001b[0;34m\u001b[0m\u001b[0m\n\u001b[0m\u001b[1;32m   2899\u001b[0m             \u001b[0;32mexcept\u001b[0m \u001b[0mKeyError\u001b[0m \u001b[0;32mas\u001b[0m \u001b[0merr\u001b[0m\u001b[0;34m:\u001b[0m\u001b[0;34m\u001b[0m\u001b[0;34m\u001b[0m\u001b[0m\n",
            "\u001b[0;32mpandas/_libs/index.pyx\u001b[0m in \u001b[0;36mpandas._libs.index.IndexEngine.get_loc\u001b[0;34m()\u001b[0m\n",
            "\u001b[0;32mpandas/_libs/index.pyx\u001b[0m in \u001b[0;36mpandas._libs.index.IndexEngine.get_loc\u001b[0;34m()\u001b[0m\n",
            "\u001b[0;32mpandas/_libs/hashtable_class_helper.pxi\u001b[0m in \u001b[0;36mpandas._libs.hashtable.PyObjectHashTable.get_item\u001b[0;34m()\u001b[0m\n",
            "\u001b[0;32mpandas/_libs/hashtable_class_helper.pxi\u001b[0m in \u001b[0;36mpandas._libs.hashtable.PyObjectHashTable.get_item\u001b[0;34m()\u001b[0m\n",
            "\u001b[0;31mKeyError\u001b[0m: 'Emoji_token'",
            "\nThe above exception was the direct cause of the following exception:\n",
            "\u001b[0;31mKeyError\u001b[0m                                  Traceback (most recent call last)",
            "\u001b[0;32m<ipython-input-65-2b7422fd35af>\u001b[0m in \u001b[0;36m<module>\u001b[0;34m()\u001b[0m\n\u001b[1;32m      3\u001b[0m \u001b[0;34m\u001b[0m\u001b[0m\n\u001b[1;32m      4\u001b[0m \u001b[0mtokenizer_emojis\u001b[0m \u001b[0;34m=\u001b[0m \u001b[0mTokenizer\u001b[0m\u001b[0;34m(\u001b[0m\u001b[0mlower\u001b[0m\u001b[0;34m=\u001b[0m\u001b[0;32mTrue\u001b[0m\u001b[0;34m)\u001b[0m\u001b[0;34m\u001b[0m\u001b[0;34m\u001b[0m\u001b[0m\n\u001b[0;32m----> 5\u001b[0;31m \u001b[0mtokenizer_emojis\u001b[0m\u001b[0;34m.\u001b[0m\u001b[0mfit_on_texts\u001b[0m\u001b[0;34m(\u001b[0m\u001b[0mfinal_dataset\u001b[0m\u001b[0;34m[\u001b[0m\u001b[0;34m\"Emoji_token\"\u001b[0m\u001b[0;34m]\u001b[0m\u001b[0;34m)\u001b[0m\u001b[0;34m\u001b[0m\u001b[0;34m\u001b[0m\u001b[0m\n\u001b[0m\u001b[1;32m      6\u001b[0m \u001b[0;34m\u001b[0m\u001b[0m\n\u001b[1;32m      7\u001b[0m \u001b[0mE_tok\u001b[0m \u001b[0;34m=\u001b[0m \u001b[0mtokenizer_emojis\u001b[0m\u001b[0;34m.\u001b[0m\u001b[0mtexts_to_sequences\u001b[0m\u001b[0;34m(\u001b[0m\u001b[0mfinal_dataset\u001b[0m\u001b[0;34m[\u001b[0m\u001b[0;34m\"Emoji_token\"\u001b[0m\u001b[0;34m]\u001b[0m\u001b[0;34m)\u001b[0m\u001b[0;34m\u001b[0m\u001b[0;34m\u001b[0m\u001b[0m\n",
            "\u001b[0;32m/usr/local/lib/python3.7/dist-packages/pandas/core/frame.py\u001b[0m in \u001b[0;36m__getitem__\u001b[0;34m(self, key)\u001b[0m\n\u001b[1;32m   2904\u001b[0m             \u001b[0;32mif\u001b[0m \u001b[0mself\u001b[0m\u001b[0;34m.\u001b[0m\u001b[0mcolumns\u001b[0m\u001b[0;34m.\u001b[0m\u001b[0mnlevels\u001b[0m \u001b[0;34m>\u001b[0m \u001b[0;36m1\u001b[0m\u001b[0;34m:\u001b[0m\u001b[0;34m\u001b[0m\u001b[0;34m\u001b[0m\u001b[0m\n\u001b[1;32m   2905\u001b[0m                 \u001b[0;32mreturn\u001b[0m \u001b[0mself\u001b[0m\u001b[0;34m.\u001b[0m\u001b[0m_getitem_multilevel\u001b[0m\u001b[0;34m(\u001b[0m\u001b[0mkey\u001b[0m\u001b[0;34m)\u001b[0m\u001b[0;34m\u001b[0m\u001b[0;34m\u001b[0m\u001b[0m\n\u001b[0;32m-> 2906\u001b[0;31m             \u001b[0mindexer\u001b[0m \u001b[0;34m=\u001b[0m \u001b[0mself\u001b[0m\u001b[0;34m.\u001b[0m\u001b[0mcolumns\u001b[0m\u001b[0;34m.\u001b[0m\u001b[0mget_loc\u001b[0m\u001b[0;34m(\u001b[0m\u001b[0mkey\u001b[0m\u001b[0;34m)\u001b[0m\u001b[0;34m\u001b[0m\u001b[0;34m\u001b[0m\u001b[0m\n\u001b[0m\u001b[1;32m   2907\u001b[0m             \u001b[0;32mif\u001b[0m \u001b[0mis_integer\u001b[0m\u001b[0;34m(\u001b[0m\u001b[0mindexer\u001b[0m\u001b[0;34m)\u001b[0m\u001b[0;34m:\u001b[0m\u001b[0;34m\u001b[0m\u001b[0;34m\u001b[0m\u001b[0m\n\u001b[1;32m   2908\u001b[0m                 \u001b[0mindexer\u001b[0m \u001b[0;34m=\u001b[0m \u001b[0;34m[\u001b[0m\u001b[0mindexer\u001b[0m\u001b[0;34m]\u001b[0m\u001b[0;34m\u001b[0m\u001b[0;34m\u001b[0m\u001b[0m\n",
            "\u001b[0;32m/usr/local/lib/python3.7/dist-packages/pandas/core/indexes/base.py\u001b[0m in \u001b[0;36mget_loc\u001b[0;34m(self, key, method, tolerance)\u001b[0m\n\u001b[1;32m   2898\u001b[0m                 \u001b[0;32mreturn\u001b[0m \u001b[0mself\u001b[0m\u001b[0;34m.\u001b[0m\u001b[0m_engine\u001b[0m\u001b[0;34m.\u001b[0m\u001b[0mget_loc\u001b[0m\u001b[0;34m(\u001b[0m\u001b[0mcasted_key\u001b[0m\u001b[0;34m)\u001b[0m\u001b[0;34m\u001b[0m\u001b[0;34m\u001b[0m\u001b[0m\n\u001b[1;32m   2899\u001b[0m             \u001b[0;32mexcept\u001b[0m \u001b[0mKeyError\u001b[0m \u001b[0;32mas\u001b[0m \u001b[0merr\u001b[0m\u001b[0;34m:\u001b[0m\u001b[0;34m\u001b[0m\u001b[0;34m\u001b[0m\u001b[0m\n\u001b[0;32m-> 2900\u001b[0;31m                 \u001b[0;32mraise\u001b[0m \u001b[0mKeyError\u001b[0m\u001b[0;34m(\u001b[0m\u001b[0mkey\u001b[0m\u001b[0;34m)\u001b[0m \u001b[0;32mfrom\u001b[0m \u001b[0merr\u001b[0m\u001b[0;34m\u001b[0m\u001b[0;34m\u001b[0m\u001b[0m\n\u001b[0m\u001b[1;32m   2901\u001b[0m \u001b[0;34m\u001b[0m\u001b[0m\n\u001b[1;32m   2902\u001b[0m         \u001b[0;32mif\u001b[0m \u001b[0mtolerance\u001b[0m \u001b[0;32mis\u001b[0m \u001b[0;32mnot\u001b[0m \u001b[0;32mNone\u001b[0m\u001b[0;34m:\u001b[0m\u001b[0;34m\u001b[0m\u001b[0;34m\u001b[0m\u001b[0m\n",
            "\u001b[0;31mKeyError\u001b[0m: 'Emoji_token'"
          ]
        }
      ]
    },
    {
      "cell_type": "code",
      "metadata": {
        "id": "Q2V2lMR4aHUJ"
      },
      "source": [
        "\"\"\"#Lets check few word to numerical representation\r\n",
        "#Mapping is preserved in dictionary -> word_index property of instance\r\n",
        "emoji_index = tokenizer_emojis.word_index\r\n",
        "for word, num in emoji_index.items():\r\n",
        "    print(\"{} -> {}\".format(word, num))\r\n",
        "    if num == 10:\r\n",
        "        break        "
      ],
      "execution_count": null,
      "outputs": []
    },
    {
      "cell_type": "code",
      "metadata": {
        "id": "7RSDAW4ldKwS"
      },
      "source": [
        "\"\"\"print(np.average([len(x) for x in E_tok]))"
      ],
      "execution_count": null,
      "outputs": []
    },
    {
      "cell_type": "code",
      "metadata": {
        "id": "puh7u1_HbnuN"
      },
      "source": [
        "\"\"\"#Lets keep all emoji description to 50, add padding to short ones and truncating long ones\r\n",
        "maxlen_emoji = 50\r\n",
        "\r\n",
        "#Making all news of size maxlen defined above, padding with 0 when needed\r\n",
        "E_tok = pad_sequences(E_tok, maxlen=maxlen_emoji)"
      ],
      "execution_count": null,
      "outputs": []
    },
    {
      "cell_type": "code",
      "metadata": {
        "id": "1G6DJPSAbnuO"
      },
      "source": [
        "\"\"\"# Embedding Layer used in Keras creates one more vector for \"UNKNOWN\" words, or padded words (0s). This Vector is filled with zeros.\r\n",
        "# Thus our vocab size increases by 1\r\n",
        "emo_vocab_size = len(tokenizer_emojis.word_index) + 1"
      ],
      "execution_count": null,
      "outputs": []
    },
    {
      "cell_type": "markdown",
      "metadata": {
        "id": "C3-Rfm8BbhHp"
      },
      "source": [
        "#### Dataset split"
      ]
    },
    {
      "cell_type": "code",
      "metadata": {
        "id": "Kp6g2CJGwVPh"
      },
      "source": [
        "#Creating input and output sets\r\n",
        "#X_train_tok, X_test_tok, E_train_tok, E_test_tok, X_train_targets, X_test_targets, y_train_tok, y_test_tok = train_test_split(X_tok, E_tok, onehot_targets, onehot_y, test_size = 0.2) \r\n",
        "X_train_tok, X_test_tok, X_train_targets, X_test_targets, y_train_tok, y_test_tok = train_test_split(X_tok, onehot_targets, onehot_y, test_size = 0.2) "
      ],
      "execution_count": 66,
      "outputs": []
    },
    {
      "cell_type": "markdown",
      "metadata": {
        "id": "ozaKwx_Mg1QT"
      },
      "source": [
        "# Vectorization"
      ]
    },
    {
      "cell_type": "code",
      "metadata": {
        "id": "BKsA4Y1SIadq"
      },
      "source": [
        "EMBEDDING_DIM = 200"
      ],
      "execution_count": 67,
      "outputs": []
    },
    {
      "cell_type": "code",
      "metadata": {
        "id": "HmQ5fwfZrTm4"
      },
      "source": [
        "# Function to create weight matrix between word-index and vectors from gensim models\r\n",
        "def get_weight_matrix(model, vocab):\r\n",
        "    # total vocabulary size plus 0 for unknown words\r\n",
        "    vocab_size = len(vocab) + 1\r\n",
        "    # define weight matrix dimensions with all 0\r\n",
        "    weight_matrix = np.zeros((vocab_size, EMBEDDING_DIM))\r\n",
        "    # step vocab, store vectors using the Tokenizer's integer mapping\r\n",
        "    for word, i in vocab.items():\r\n",
        "        try: \r\n",
        "          weight_matrix[i] = model[word]\r\n",
        "        except:\r\n",
        "          pass\r\n",
        "    return weight_matrix"
      ],
      "execution_count": 68,
      "outputs": []
    },
    {
      "cell_type": "markdown",
      "metadata": {
        "id": "2Z4YMuBiptx8"
      },
      "source": [
        "### Via Word2Vec"
      ]
    },
    {
      "cell_type": "code",
      "metadata": {
        "id": "dY54k6TXpzW0"
      },
      "source": [
        "w2v_model = gensim.models.Word2Vec(sentences=final_dataset[\"finalSentence\"], size=EMBEDDING_DIM, window=5, min_count=5)"
      ],
      "execution_count": 69,
      "outputs": []
    },
    {
      "cell_type": "code",
      "metadata": {
        "colab": {
          "base_uri": "https://localhost:8080/"
        },
        "id": "DkCvkXjpqmVi",
        "outputId": "f13e380d-7488-4660-f306-3a6207748c2a"
      },
      "source": [
        "len(w2v_model.wv.vocab)"
      ],
      "execution_count": 70,
      "outputs": [
        {
          "output_type": "execute_result",
          "data": {
            "text/plain": [
              "36574"
            ]
          },
          "metadata": {
            "tags": []
          },
          "execution_count": 70
        }
      ]
    },
    {
      "cell_type": "code",
      "metadata": {
        "colab": {
          "base_uri": "https://localhost:8080/"
        },
        "id": "4xNMpfpQquyt",
        "outputId": "8fd8aac6-ea2a-466a-b74b-4446f81d0327"
      },
      "source": [
        "w2v_model[\"merde\"]"
      ],
      "execution_count": 71,
      "outputs": [
        {
          "output_type": "execute_result",
          "data": {
            "text/plain": [
              "array([ 6.4497715e-01, -1.2158766e+00,  2.1553895e+00, -2.4261369e-01,\n",
              "       -1.4798632e+00, -4.1722068e-01,  8.4625858e-01,  7.2809255e-01,\n",
              "       -4.4248697e-01,  1.3488305e+00,  5.8351118e-02,  1.2622955e+00,\n",
              "        1.8153417e+00, -3.4734151e-01, -2.4134135e-01, -1.3582945e+00,\n",
              "       -2.3167291e+00, -1.3445981e+00, -2.2881472e+00, -6.4201123e-01,\n",
              "        2.5381799e+00,  2.6599379e+00, -8.0338919e-01,  1.3942081e+00,\n",
              "       -1.7751904e+00,  1.9210457e+00,  1.0591844e+00,  8.3641922e-01,\n",
              "        7.2299761e-01, -6.2627935e-01,  1.5307586e+00,  5.1042873e-01,\n",
              "       -3.1510153e+00, -6.6613936e-01, -1.1674989e+00,  3.2886333e+00,\n",
              "        1.4491682e+00, -5.3227735e-01,  1.5745676e+00,  3.5831861e-03,\n",
              "        2.3716171e+00, -1.2939495e+00, -9.0214139e-01,  9.4052815e-01,\n",
              "        5.7748991e-01,  3.9382559e-01, -1.3100466e+00,  1.3476920e+00,\n",
              "        5.0458908e-01,  7.2275054e-01, -2.8800738e-01, -1.2537146e-01,\n",
              "       -9.7141922e-01, -5.9364766e-02,  8.7224662e-01, -8.1109077e-01,\n",
              "        8.1925589e-01,  1.0464439e+00,  1.2369106e+00,  1.0255032e+00,\n",
              "       -6.7906296e-01,  4.3725213e-01, -3.2263655e-02, -4.6671525e-01,\n",
              "       -9.1191554e-01, -3.0627394e-01,  1.1733088e-01, -2.2542904e-01,\n",
              "       -9.5649225e-01, -1.2918586e+00,  2.8639629e-01,  1.6049901e-01,\n",
              "        5.0850336e-02,  2.2247503e+00, -2.6240772e-01, -9.1549295e-01,\n",
              "        1.8533181e+00, -1.9476883e-01,  8.8911200e-01,  3.5762373e-01,\n",
              "       -1.3489832e+00,  1.5848707e+00,  1.5946738e+00, -9.2254966e-01,\n",
              "        2.2833877e+00,  2.6398903e-01, -2.1754861e+00, -2.1617315e+00,\n",
              "       -6.8626207e-01, -2.1214468e+00, -6.1383474e-01,  7.1851701e-01,\n",
              "       -1.1408151e+00, -2.1501300e-01,  3.1334823e-01,  1.3243135e+00,\n",
              "       -2.2679043e+00,  4.5482114e-01, -1.3834810e-01, -9.2845821e-01,\n",
              "       -1.6507441e+00, -1.9723486e+00, -1.2543700e+00, -8.6186194e-01,\n",
              "        5.8678818e-01, -3.5827672e-01,  3.8214684e-02,  1.3029508e-01,\n",
              "       -1.1702628e+00, -1.3879963e+00, -1.3652449e+00,  7.9809999e-01,\n",
              "       -2.0965582e-01, -6.2281424e-01,  2.9993169e+00,  3.5883665e-01,\n",
              "        4.7835138e-01, -2.2486851e+00,  1.0584188e-01,  1.7592843e-01,\n",
              "        2.0752375e+00, -3.6382893e-01,  1.4549047e+00, -2.6733210e+00,\n",
              "       -4.1870508e-01,  2.5556350e+00,  1.6679413e+00,  6.8358622e-02,\n",
              "        1.6574496e+00, -4.8705974e-01, -2.4907662e-01,  8.5466760e-01,\n",
              "        2.1820881e+00, -1.6732917e+00, -3.7946869e-03, -5.6195569e-01,\n",
              "        7.6433396e-01, -6.1390775e-01, -6.1788315e-01,  1.1312537e+00,\n",
              "        4.0187657e-02,  2.5640197e+00,  5.0879556e-01,  1.1976957e+00,\n",
              "       -3.1401980e-01, -4.6066344e-01, -1.2218089e+00, -2.0464423e+00,\n",
              "        2.9310358e-01, -2.5525608e+00,  3.1729019e-01, -2.3346104e-01,\n",
              "       -2.1044786e+00, -2.2696421e+00, -9.3571132e-01, -4.1090640e-01,\n",
              "       -1.1650017e+00, -1.6928159e-01, -2.0281109e-01, -1.5669595e+00,\n",
              "       -8.2802874e-01, -7.2314954e-01,  1.2231864e+00, -1.0895017e+00,\n",
              "       -2.0683938e-01, -1.9050349e+00, -1.0789381e+00,  2.3174353e-01,\n",
              "        9.9134542e-02,  4.7659454e-01,  1.1000975e+00,  6.1241990e-01,\n",
              "       -2.3924808e-01, -1.5775076e+00,  3.3152881e-01, -7.8540671e-01,\n",
              "        1.1084412e+00, -7.4345771e-05, -8.9062142e-01,  6.5748948e-01,\n",
              "       -2.1113856e+00,  9.3992519e-01,  1.2652065e+00, -3.2893884e+00,\n",
              "        1.9368061e-01, -2.3568792e+00,  5.2660793e-01,  7.7124387e-01,\n",
              "        1.5513721e+00, -7.8233117e-01, -1.9500823e+00,  6.5312582e-01,\n",
              "       -1.3423771e+00, -2.4224336e+00, -1.6401721e+00,  1.2082335e+00,\n",
              "        3.3493000e-01, -5.6516862e-01,  1.1679130e+00, -2.9511349e+00],\n",
              "      dtype=float32)"
            ]
          },
          "metadata": {
            "tags": []
          },
          "execution_count": 71
        }
      ]
    },
    {
      "cell_type": "code",
      "metadata": {
        "colab": {
          "base_uri": "https://localhost:8080/"
        },
        "id": "rDanO3mLahyh",
        "outputId": "d1cae2ea-b85f-4412-db35-bc89f0b5011f"
      },
      "source": [
        "print(w2v_model.wv.most_similar(\"merde\"))"
      ],
      "execution_count": 72,
      "outputs": [
        {
          "output_type": "stream",
          "text": [
            "[('merdes', 0.5594661831855774), ('conneries', 0.4630226790904999), ('mrd', 0.39821183681488037), ('salopards', 0.374895840883255), ('m3rde', 0.3706732392311096), ('arnaque', 0.3669450879096985), ('darronnes', 0.36570003628730774), ('daube', 0.3549192547798157), ('faute', 0.35332077741622925), ('abrutis', 0.35212138295173645)]\n"
          ],
          "name": "stdout"
        }
      ]
    },
    {
      "cell_type": "code",
      "metadata": {
        "id": "JzgJF6ZNrOeu"
      },
      "source": [
        "w2v_embedding_vectors = get_weight_matrix(w2v_model, word_index)"
      ],
      "execution_count": 73,
      "outputs": []
    },
    {
      "cell_type": "code",
      "metadata": {
        "id": "ipuR-Y_YZnBR"
      },
      "source": [
        "#w2v_emojis = gensim.models.Word2Vec(sentences=final_dataset[\"Emoji_token\"], size=EMBEDDING_DIM, window=5, min_count=5)"
      ],
      "execution_count": null,
      "outputs": []
    },
    {
      "cell_type": "code",
      "metadata": {
        "colab": {
          "base_uri": "https://localhost:8080/"
        },
        "id": "ieHQ0iRwecFj",
        "outputId": "f590684c-a4cc-40df-cb8b-6ea8bb1f5424"
      },
      "source": [
        "#len(w2v_emojis.wv.vocab)"
      ],
      "execution_count": null,
      "outputs": [
        {
          "output_type": "execute_result",
          "data": {
            "text/plain": [
              "834"
            ]
          },
          "metadata": {
            "tags": []
          },
          "execution_count": 75
        }
      ]
    },
    {
      "cell_type": "code",
      "metadata": {
        "id": "p2dVyNAQee69"
      },
      "source": [
        "#w2v_emoji_embedding_vectors = get_weight_matrix(w2v_emojis, emoji_index)"
      ],
      "execution_count": null,
      "outputs": []
    },
    {
      "cell_type": "markdown",
      "metadata": {
        "id": "piZ9OkN2H7bX"
      },
      "source": [
        "### Via FastText (Gensim)"
      ]
    },
    {
      "cell_type": "code",
      "metadata": {
        "id": "Ej1ryePRH6hc"
      },
      "source": [
        "fasttext_model = gensim.models.FastText(sentences=final_dataset[\"finalSentence\"], size=EMBEDDING_DIM, window=5, min_count=5)"
      ],
      "execution_count": null,
      "outputs": []
    },
    {
      "cell_type": "code",
      "metadata": {
        "colab": {
          "base_uri": "https://localhost:8080/"
        },
        "id": "GGCKRGZLI_8y",
        "outputId": "c4867d64-ba6f-4014-95cd-c189aae193ea"
      },
      "source": [
        "len(fasttext_model.wv.vocab)"
      ],
      "execution_count": null,
      "outputs": [
        {
          "output_type": "execute_result",
          "data": {
            "text/plain": [
              "36605"
            ]
          },
          "metadata": {
            "tags": []
          },
          "execution_count": 54
        }
      ]
    },
    {
      "cell_type": "code",
      "metadata": {
        "colab": {
          "base_uri": "https://localhost:8080/"
        },
        "id": "UFVfRDOpKjT7",
        "outputId": "ce36980d-9405-4408-fad0-c21f3cbdcaf9"
      },
      "source": [
        "fasttext_model.wv[\"merde\"]"
      ],
      "execution_count": null,
      "outputs": [
        {
          "output_type": "execute_result",
          "data": {
            "text/plain": [
              "array([ 1.1284579 ,  0.6026093 ,  0.55194414, -1.4858775 , -1.8394794 ,\n",
              "       -3.0810142 , -0.940217  , -1.6027595 , -1.5497886 , -0.85429865,\n",
              "       -0.6348115 , -1.8178934 ,  2.1839948 , -1.6538231 , -0.85423   ,\n",
              "       -1.5764794 ,  1.4149851 ,  1.0057323 , -0.36474034,  0.29080233,\n",
              "       -0.21080719, -0.17950217, -0.45694226,  1.8594996 , -2.1465688 ,\n",
              "        0.2735612 ,  0.3968396 , -0.62402505, -0.9700226 , -1.2724721 ,\n",
              "        1.8486054 ,  0.15272905,  0.54489774, -0.37184393,  0.6777381 ,\n",
              "        2.389091  , -0.8056522 ,  0.8209127 ,  0.25181684, -1.0788106 ,\n",
              "        0.50884855, -1.0748245 , -1.5625927 ,  2.1265693 ,  0.769541  ,\n",
              "        2.002416  ,  0.7465693 ,  0.2287906 ,  0.11381675,  0.21265097,\n",
              "       -1.9339    , -0.12194537, -0.7238728 , -2.128207  , -1.4337852 ,\n",
              "       -1.9397132 , -2.0834067 , -1.2747929 , -1.898521  ,  0.45629272,\n",
              "       -1.0381802 ,  1.0910054 , -2.6330535 ,  1.1270115 ,  2.9112854 ,\n",
              "       -0.17099997,  1.5804169 , -1.9675343 , -0.30740622, -3.9469461 ,\n",
              "        1.8320427 , -2.846405  ,  0.66749877,  0.6414539 , -1.5920634 ,\n",
              "        0.1933288 ,  1.693085  ,  0.871396  ,  0.5151297 ,  2.6988835 ,\n",
              "        1.5160756 , -1.3373349 , -0.994022  ,  1.3093051 ,  2.6754892 ,\n",
              "       -1.222581  ,  0.7236006 ,  0.2511951 ,  0.08793838,  2.253535  ,\n",
              "        1.7085046 , -3.0825906 , -0.5640991 ,  1.0897698 ,  4.236094  ,\n",
              "       -0.9549447 , -1.8628849 ,  3.489036  ,  0.29263046, -0.45586866,\n",
              "       -1.0085841 ,  2.1303613 , -0.96835095,  1.06196   , -2.1253734 ,\n",
              "       -0.8048417 ,  0.5508288 ,  1.9439946 , -2.035199  ,  1.2499338 ,\n",
              "        0.39856404, -0.9310709 ,  0.7589251 , -0.35314462, -0.67770886,\n",
              "       -0.13210833,  0.16502741, -2.8785434 ,  0.362937  ,  2.4585118 ,\n",
              "       -3.1734555 ,  0.72105986,  2.6460733 , -0.80496216,  2.0252328 ,\n",
              "       -0.11809396,  2.488435  ,  0.26036966,  4.461234  , -1.6578193 ,\n",
              "        2.2480364 ,  0.13173112,  1.329245  , -0.47827533,  2.31198   ,\n",
              "       -1.1691173 ,  0.89805055,  2.105921  , -2.4248064 , -0.08589764,\n",
              "        0.6520202 ,  0.07982782, -0.19201966, -0.63405836, -0.27411616,\n",
              "        2.0166383 ,  2.1024978 , -1.0536556 , -0.4101936 ,  0.35675007,\n",
              "        1.4448876 , -0.3421734 ,  0.7620745 ,  2.1236482 , -1.1501976 ,\n",
              "       -0.62548023, -1.2168171 , -1.9953284 , -0.90848327,  1.4541003 ,\n",
              "        1.62694   ,  0.9562122 ,  0.10513929,  1.0631807 ,  0.7266306 ,\n",
              "       -1.5446907 , -2.9609864 ,  0.94310606,  0.66552734,  0.23235293,\n",
              "       -0.6104289 ,  1.7677929 ,  0.61962277,  1.5615029 ,  2.8517573 ,\n",
              "       -0.99401325, -2.9234648 ,  1.4639516 , -0.07244381, -0.75191027,\n",
              "       -1.5630735 , -1.5566403 , -0.37653166, -1.7016124 , -0.42375055,\n",
              "       -1.6204827 ,  0.17889862, -1.6114802 , -0.9557336 ,  1.195308  ,\n",
              "       -0.7618269 ,  2.3008146 , -0.10178146,  1.611692  ,  1.1187599 ,\n",
              "        3.5563264 , -1.7887752 ,  3.748937  ,  0.52590406,  0.97113955],\n",
              "      dtype=float32)"
            ]
          },
          "metadata": {
            "tags": []
          },
          "execution_count": 55
        }
      ]
    },
    {
      "cell_type": "code",
      "metadata": {
        "id": "QMZ8oX-dYz2_",
        "colab": {
          "base_uri": "https://localhost:8080/"
        },
        "outputId": "8a5db176-4071-40b0-854a-312534c387cc"
      },
      "source": [
        "print(fasttext_model.wv.most_similar(\"merde\"))"
      ],
      "execution_count": null,
      "outputs": [
        {
          "output_type": "stream",
          "text": [
            "[('merdebfmmerde', 0.9710953235626221), ('dmerde', 0.9606221318244934), ('merdeee', 0.9603695273399353), ('bfmerde', 0.9471138715744019), ('merdeu', 0.9379007816314697), ('merdeeee', 0.9377528429031372), ('emerde', 0.9298129677772522), ('merddd', 0.9261928796768188), ('merd', 0.9223754405975342), ('démerde', 0.9182571172714233)]\n"
          ],
          "name": "stdout"
        }
      ]
    },
    {
      "cell_type": "code",
      "metadata": {
        "id": "wHwEi-UOOT32"
      },
      "source": [
        "ft_embedding_vectors = get_weight_matrix(fasttext_model, word_index)"
      ],
      "execution_count": null,
      "outputs": []
    },
    {
      "cell_type": "markdown",
      "metadata": {
        "id": "WW3thk7ZhJCN"
      },
      "source": [
        "### Via FastText Pretrained vectors"
      ]
    },
    {
      "cell_type": "code",
      "metadata": {
        "id": "3fMZr6WlIbcI",
        "colab": {
          "base_uri": "https://localhost:8080/"
        },
        "outputId": "82e5d2e0-48e5-47b9-8f09-8e8dcf515ba2"
      },
      "source": [
        "!pip install fasttext\r\n",
        "\r\n",
        "#Recommended alternative, since few modules are missing in the PyPi package:\r\n",
        "#!pip uninstall fasttext\r\n",
        "#!git clone https://github.com/facebookresearch/fastText.git\r\n",
        "#!cd fastText\r\n",
        "#!pip install ."
      ],
      "execution_count": null,
      "outputs": [
        {
          "output_type": "stream",
          "text": [
            "Collecting fasttext\n",
            "\u001b[?25l  Downloading https://files.pythonhosted.org/packages/f8/85/e2b368ab6d3528827b147fdb814f8189acc981a4bc2f99ab894650e05c40/fasttext-0.9.2.tar.gz (68kB)\n",
            "\r\u001b[K     |████▊                           | 10kB 14.9MB/s eta 0:00:01\r\u001b[K     |█████████▌                      | 20kB 13.5MB/s eta 0:00:01\r\u001b[K     |██████████████▎                 | 30kB 12.5MB/s eta 0:00:01\r\u001b[K     |███████████████████             | 40kB 11.9MB/s eta 0:00:01\r\u001b[K     |███████████████████████▉        | 51kB 7.8MB/s eta 0:00:01\r\u001b[K     |████████████████████████████▋   | 61kB 8.5MB/s eta 0:00:01\r\u001b[K     |████████████████████████████████| 71kB 5.0MB/s \n",
            "\u001b[?25hRequirement already satisfied: pybind11>=2.2 in /usr/local/lib/python3.7/dist-packages (from fasttext) (2.6.2)\n",
            "Requirement already satisfied: setuptools>=0.7.0 in /usr/local/lib/python3.7/dist-packages (from fasttext) (53.0.0)\n",
            "Requirement already satisfied: numpy in /usr/local/lib/python3.7/dist-packages (from fasttext) (1.19.5)\n",
            "Building wheels for collected packages: fasttext\n",
            "  Building wheel for fasttext (setup.py) ... \u001b[?25l\u001b[?25hdone\n",
            "  Created wheel for fasttext: filename=fasttext-0.9.2-cp37-cp37m-linux_x86_64.whl size=3094870 sha256=382d9c3c620812490e28612c61ebea8939f9cf1af438a67b542e516239f1ff21\n",
            "  Stored in directory: /root/.cache/pip/wheels/98/ba/7f/b154944a1cf5a8cee91c154b75231136cc3a3321ab0e30f592\n",
            "Successfully built fasttext\n",
            "Installing collected packages: fasttext\n",
            "Successfully installed fasttext-0.9.2\n"
          ],
          "name": "stdout"
        }
      ]
    },
    {
      "cell_type": "code",
      "metadata": {
        "id": "T4XWOOWkJFvt",
        "colab": {
          "base_uri": "https://localhost:8080/"
        },
        "outputId": "365c0be3-6582-4404-a29a-a9bb0c8d67bf"
      },
      "source": [
        "import fasttext.util\r\n",
        "fasttext.util.download_model('fr', if_exists='ignore')\r\n",
        "ft_pre_model = fasttext.load_model('cc.fr.300.bin')"
      ],
      "execution_count": null,
      "outputs": [
        {
          "output_type": "stream",
          "text": [
            "Downloading https://dl.fbaipublicfiles.com/fasttext/vectors-crawl/cc.fr.300.bin.gz\n"
          ],
          "name": "stdout"
        },
        {
          "output_type": "stream",
          "text": [
            "Warning : `load_model` does not return WordVectorModel or SupervisedModel any more, but a `FastText` object which is very similar.\n"
          ],
          "name": "stderr"
        }
      ]
    },
    {
      "cell_type": "code",
      "metadata": {
        "id": "iiFQEqChI7Fu",
        "colab": {
          "base_uri": "https://localhost:8080/"
        },
        "outputId": "f7a91a54-b544-4530-9d38-2f5e859c139c"
      },
      "source": [
        "ft_pre_model.get_dimension()"
      ],
      "execution_count": null,
      "outputs": [
        {
          "output_type": "execute_result",
          "data": {
            "text/plain": [
              "300"
            ]
          },
          "metadata": {
            "tags": []
          },
          "execution_count": 70
        }
      ]
    },
    {
      "cell_type": "code",
      "metadata": {
        "colab": {
          "base_uri": "https://localhost:8080/",
          "height": 175
        },
        "id": "D8wfJR2wcctE",
        "outputId": "ebc0777a-bbc3-41f9-9acb-c963d47f8f23"
      },
      "source": [
        "ft_pre_model.get_nearest_neighbors('merde')"
      ],
      "execution_count": null,
      "outputs": [
        {
          "output_type": "error",
          "ename": "NameError",
          "evalue": "ignored",
          "traceback": [
            "\u001b[0;31m---------------------------------------------------------------------------\u001b[0m",
            "\u001b[0;31mNameError\u001b[0m                                 Traceback (most recent call last)",
            "\u001b[0;32m<ipython-input-1-d2275df3e1af>\u001b[0m in \u001b[0;36m<module>\u001b[0;34m()\u001b[0m\n\u001b[0;32m----> 1\u001b[0;31m \u001b[0mft\u001b[0m\u001b[0;34m.\u001b[0m\u001b[0mget_nearest_neighbors\u001b[0m\u001b[0;34m(\u001b[0m\u001b[0;34m'merde'\u001b[0m\u001b[0;34m)\u001b[0m\u001b[0;34m\u001b[0m\u001b[0;34m\u001b[0m\u001b[0m\n\u001b[0m",
            "\u001b[0;31mNameError\u001b[0m: name 'ft' is not defined"
          ]
        }
      ]
    },
    {
      "cell_type": "code",
      "metadata": {
        "id": "_vmCmZfHI9lR"
      },
      "source": [
        "#Optional - reduce vectors dimensions\r\n",
        "fasttext.util.reduce_model(ft_pre_model, 200)\r\n",
        "ft_pre_model.get_dimension()"
      ],
      "execution_count": null,
      "outputs": []
    },
    {
      "cell_type": "code",
      "metadata": {
        "id": "xwveHK0ycwAY"
      },
      "source": [
        "ft_pre_embedding_vectors = get_weight_matrix(ft_pre_model, word_index)"
      ],
      "execution_count": null,
      "outputs": []
    },
    {
      "cell_type": "markdown",
      "metadata": {
        "id": "jEOaK143g2l8"
      },
      "source": [
        "# Modelization"
      ]
    },
    {
      "cell_type": "markdown",
      "metadata": {
        "id": "t3FH6JWZ94-o"
      },
      "source": [
        "## Baseline - Prediction based on sentence only"
      ]
    },
    {
      "cell_type": "markdown",
      "metadata": {
        "id": "g-s0m497-bSN"
      },
      "source": [
        "### Via Perspective API"
      ]
    },
    {
      "cell_type": "code",
      "metadata": {
        "id": "h3__uwyUJ2xW"
      },
      "source": [
        "\"\"\"\r\n",
        "from googleapiclient import discovery\r\n",
        "import json\r\n",
        "\r\n",
        "API_KEY=''\r\n",
        "\r\n",
        "service = discovery.build('commentanalyzer', 'v1alpha1', developerKey=API_KEY)\r\n",
        "\r\n",
        "\r\n",
        "Labels = []\r\n",
        "Predictions = []\r\n",
        "Language = []\r\n",
        "Fail = []\r\n",
        "\r\n",
        "file1 = open('dataset_clean.txt', 'r')\r\n",
        "Lines = file1.readlines()\r\n",
        "\r\n",
        "last_time = time.time()\r\n",
        "count = 0\r\n",
        "\r\n",
        "for line in Lines:\r\n",
        "  time.sleep(1)        \r\n",
        "\r\n",
        "  elements = line.split(\" \", 1)\r\n",
        "\r\n",
        "  analyze_request = {\r\n",
        "                'comment': { 'text': elements[1].strip() },\r\n",
        "                'requestedAttributes': {'TOXICITY': {}}\r\n",
        "              }\r\n",
        "\r\n",
        "  try:\r\n",
        "      response = service.comments().analyze(body=analyze_request).execute()\r\n",
        "  except Exception as e:\r\n",
        "      Fail.append(elements[1])\r\n",
        "      print(elements[1])\r\n",
        "      continue    \r\n",
        "\r\n",
        "  Labels.append(elements[0])\r\n",
        "  Language.append(json.dumps(response[\"languages\"][0], indent=2))\r\n",
        "  proba = json.dumps(response[\"attributeScores\"][\"TOXICITY\"][\"spanScores\"][0][\"score\"][\"value\"], indent=2)\r\n",
        "  if float(proba) <= 0.2:\r\n",
        "      Predictions.append(\"NONE\")\r\n",
        "  elif float(proba) <= 0.4:\r\n",
        "      Predictions.append(\"LOW\")\r\n",
        "  elif float(proba) <= 0.6:\r\n",
        "      Predictions.append(\"MEDIUM\")\r\n",
        "  elif float(proba) <= 0.8:\r\n",
        "      Predictions.append(\"HIGH\")\r\n",
        "  else:\r\n",
        "      Predictions.append(\"VERY_HIGH\")\r\n",
        "  count += 1\r\n",
        "\r\n",
        "\r\n",
        "with open('/content/drive/My Drive/CS224n_Project/Perspective_labels.txt'', 'w') as f:\r\n",
        "    for item in Labels:\r\n",
        "        f.write(\"%s,\" % item)\r\n",
        "\r\n",
        "with open('/content/drive/My Drive/CS224n_Project/Perspective_preds.txt'', 'w') as f:\r\n",
        "    for item in Predictions:\r\n",
        "        f.write(\"%s,\" % item)"
      ],
      "execution_count": null,
      "outputs": []
    },
    {
      "cell_type": "code",
      "metadata": {
        "colab": {
          "base_uri": "https://localhost:8080/",
          "height": 413
        },
        "id": "ictJycoH-c7i",
        "outputId": "d71ba2fc-c4f1-4ed6-a255-36c178f98b46"
      },
      "source": [
        "#Analysis of Toxicity scores obtained from Perspective API on part of the dataset\r\n",
        "\r\n",
        "perspective = pd.DataFrame()\r\n",
        "\r\n",
        "with open('/content/drive/My Drive/CS224n_Project/Perspective_labels.txt') as f:\r\n",
        "  label_values = f.readlines()\r\n",
        "  label_levels = label_values[0].split(\",\")\r\n",
        "\r\n",
        "with open('/content/drive/My Drive/CS224n_Project/Perspective_preds.txt') as f:\r\n",
        "  pred_values = f.readlines()\r\n",
        "  pred_levels = pred_values[0].split(\",\")\r\n",
        "\r\n",
        "perspective[\"Labels\"] = label_levels\r\n",
        "perspective[\"Predictions\"] = pred_levels\r\n",
        "\r\n",
        "perspective[\"Result\"] = (perspective['Labels']==perspective['Predictions']).astype(int)\r\n",
        "perspective['Sentences'] = pd.read_csv('/content/drive/My Drive/CS224n_Project/Perspective_sent.txt', sep=\"\\n\", header=None)\r\n",
        "\r\n",
        "perspective"
      ],
      "execution_count": 4,
      "outputs": [
        {
          "output_type": "execute_result",
          "data": {
            "text/html": [
              "<div>\n",
              "<style scoped>\n",
              "    .dataframe tbody tr th:only-of-type {\n",
              "        vertical-align: middle;\n",
              "    }\n",
              "\n",
              "    .dataframe tbody tr th {\n",
              "        vertical-align: top;\n",
              "    }\n",
              "\n",
              "    .dataframe thead th {\n",
              "        text-align: right;\n",
              "    }\n",
              "</style>\n",
              "<table border=\"1\" class=\"dataframe\">\n",
              "  <thead>\n",
              "    <tr style=\"text-align: right;\">\n",
              "      <th></th>\n",
              "      <th>Labels</th>\n",
              "      <th>Predictions</th>\n",
              "    </tr>\n",
              "  </thead>\n",
              "  <tbody>\n",
              "    <tr>\n",
              "      <th>0</th>\n",
              "      <td>LOW</td>\n",
              "      <td>NONE</td>\n",
              "    </tr>\n",
              "    <tr>\n",
              "      <th>1</th>\n",
              "      <td>LOW</td>\n",
              "      <td>LOW</td>\n",
              "    </tr>\n",
              "    <tr>\n",
              "      <th>2</th>\n",
              "      <td>LOW</td>\n",
              "      <td>NONE</td>\n",
              "    </tr>\n",
              "    <tr>\n",
              "      <th>3</th>\n",
              "      <td>LOW</td>\n",
              "      <td>NONE</td>\n",
              "    </tr>\n",
              "    <tr>\n",
              "      <th>4</th>\n",
              "      <td>LOW</td>\n",
              "      <td>MEDIUM</td>\n",
              "    </tr>\n",
              "    <tr>\n",
              "      <th>...</th>\n",
              "      <td>...</td>\n",
              "      <td>...</td>\n",
              "    </tr>\n",
              "    <tr>\n",
              "      <th>99995</th>\n",
              "      <td>MEDIUM</td>\n",
              "      <td>HIGH</td>\n",
              "    </tr>\n",
              "    <tr>\n",
              "      <th>99996</th>\n",
              "      <td>MEDIUM</td>\n",
              "      <td>MEDIUM</td>\n",
              "    </tr>\n",
              "    <tr>\n",
              "      <th>99997</th>\n",
              "      <td>MEDIUM</td>\n",
              "      <td>VERY_HIGH</td>\n",
              "    </tr>\n",
              "    <tr>\n",
              "      <th>99998</th>\n",
              "      <td>MEDIUM</td>\n",
              "      <td>HIGH</td>\n",
              "    </tr>\n",
              "    <tr>\n",
              "      <th>99999</th>\n",
              "      <td>MEDIUM</td>\n",
              "      <td>HIGH</td>\n",
              "    </tr>\n",
              "  </tbody>\n",
              "</table>\n",
              "<p>100000 rows × 2 columns</p>\n",
              "</div>"
            ],
            "text/plain": [
              "       Labels Predictions\n",
              "0         LOW        NONE\n",
              "1         LOW         LOW\n",
              "2         LOW        NONE\n",
              "3         LOW        NONE\n",
              "4         LOW      MEDIUM\n",
              "...       ...         ...\n",
              "99995  MEDIUM        HIGH\n",
              "99996  MEDIUM      MEDIUM\n",
              "99997  MEDIUM   VERY_HIGH\n",
              "99998  MEDIUM        HIGH\n",
              "99999  MEDIUM        HIGH\n",
              "\n",
              "[100000 rows x 2 columns]"
            ]
          },
          "metadata": {
            "tags": []
          },
          "execution_count": 4
        }
      ]
    },
    {
      "cell_type": "code",
      "metadata": {
        "colab": {
          "base_uri": "https://localhost:8080/",
          "height": 413
        },
        "id": "u2xNZO0h7aOO",
        "outputId": "d02e72d9-96da-4174-c398-0d4d74219594"
      },
      "source": [
        "z = perspective[\"Labels\"]\r\n",
        "encoder = LabelEncoder()\r\n",
        "encoder.fit(z)\r\n",
        "encoded_z = encoder.transform(z)\r\n",
        "perspective[\"Labels_num\"] = encoded_z\r\n",
        "perspective"
      ],
      "execution_count": 10,
      "outputs": [
        {
          "output_type": "execute_result",
          "data": {
            "text/html": [
              "<div>\n",
              "<style scoped>\n",
              "    .dataframe tbody tr th:only-of-type {\n",
              "        vertical-align: middle;\n",
              "    }\n",
              "\n",
              "    .dataframe tbody tr th {\n",
              "        vertical-align: top;\n",
              "    }\n",
              "\n",
              "    .dataframe thead th {\n",
              "        text-align: right;\n",
              "    }\n",
              "</style>\n",
              "<table border=\"1\" class=\"dataframe\">\n",
              "  <thead>\n",
              "    <tr style=\"text-align: right;\">\n",
              "      <th></th>\n",
              "      <th>Labels</th>\n",
              "      <th>Predictions</th>\n",
              "      <th>Sentences</th>\n",
              "      <th>Result</th>\n",
              "      <th>Labels_num</th>\n",
              "    </tr>\n",
              "  </thead>\n",
              "  <tbody>\n",
              "    <tr>\n",
              "      <th>0</th>\n",
              "      <td>LOW</td>\n",
              "      <td>NONE</td>\n",
              "      <td>t pas bo</td>\n",
              "      <td>0</td>\n",
              "      <td>1</td>\n",
              "    </tr>\n",
              "    <tr>\n",
              "      <th>1</th>\n",
              "      <td>LOW</td>\n",
              "      <td>LOW</td>\n",
              "      <td>t es vilain</td>\n",
              "      <td>1</td>\n",
              "      <td>1</td>\n",
              "    </tr>\n",
              "    <tr>\n",
              "      <th>2</th>\n",
              "      <td>LOW</td>\n",
              "      <td>NONE</td>\n",
              "      <td>je te propose un d île je m abonne à ta chaine...</td>\n",
              "      <td>0</td>\n",
              "      <td>1</td>\n",
              "    </tr>\n",
              "    <tr>\n",
              "      <th>3</th>\n",
              "      <td>LOW</td>\n",
              "      <td>NONE</td>\n",
              "      <td>t un kiko mdr</td>\n",
              "      <td>0</td>\n",
              "      <td>1</td>\n",
              "    </tr>\n",
              "    <tr>\n",
              "      <th>4</th>\n",
              "      <td>LOW</td>\n",
              "      <td>MEDIUM</td>\n",
              "      <td>moi mdr t trop nul</td>\n",
              "      <td>0</td>\n",
              "      <td>1</td>\n",
              "    </tr>\n",
              "    <tr>\n",
              "      <th>...</th>\n",
              "      <td>...</td>\n",
              "      <td>...</td>\n",
              "      <td>...</td>\n",
              "      <td>...</td>\n",
              "      <td>...</td>\n",
              "    </tr>\n",
              "    <tr>\n",
              "      <th>99995</th>\n",
              "      <td>MEDIUM</td>\n",
              "      <td>HIGH</td>\n",
              "      <td>et après on s étonne d en voir qui font les pu...</td>\n",
              "      <td>0</td>\n",
              "      <td>2</td>\n",
              "    </tr>\n",
              "    <tr>\n",
              "      <th>99996</th>\n",
              "      <td>MEDIUM</td>\n",
              "      <td>MEDIUM</td>\n",
              "      <td>on dirait une parodie de campagne de green was...</td>\n",
              "      <td>1</td>\n",
              "      <td>2</td>\n",
              "    </tr>\n",
              "    <tr>\n",
              "      <th>99997</th>\n",
              "      <td>MEDIUM</td>\n",
              "      <td>VERY_HIGH</td>\n",
              "      <td>damien renaud tous des salopes de a à z</td>\n",
              "      <td>0</td>\n",
              "      <td>2</td>\n",
              "    </tr>\n",
              "    <tr>\n",
              "      <th>99998</th>\n",
              "      <td>MEDIUM</td>\n",
              "      <td>HIGH</td>\n",
              "      <td>surtout une bande de c</td>\n",
              "      <td>0</td>\n",
              "      <td>2</td>\n",
              "    </tr>\n",
              "    <tr>\n",
              "      <th>99999</th>\n",
              "      <td>MEDIUM</td>\n",
              "      <td>HIGH</td>\n",
              "      <td>serait ce une nouvelle forme de publicité qui ...</td>\n",
              "      <td>0</td>\n",
              "      <td>2</td>\n",
              "    </tr>\n",
              "  </tbody>\n",
              "</table>\n",
              "<p>100000 rows × 5 columns</p>\n",
              "</div>"
            ],
            "text/plain": [
              "       Labels Predictions  ... Result  Labels_num\n",
              "0         LOW        NONE  ...      0           1\n",
              "1         LOW         LOW  ...      1           1\n",
              "2         LOW        NONE  ...      0           1\n",
              "3         LOW        NONE  ...      0           1\n",
              "4         LOW      MEDIUM  ...      0           1\n",
              "...       ...         ...  ...    ...         ...\n",
              "99995  MEDIUM        HIGH  ...      0           2\n",
              "99996  MEDIUM      MEDIUM  ...      1           2\n",
              "99997  MEDIUM   VERY_HIGH  ...      0           2\n",
              "99998  MEDIUM        HIGH  ...      0           2\n",
              "99999  MEDIUM        HIGH  ...      0           2\n",
              "\n",
              "[100000 rows x 5 columns]"
            ]
          },
          "metadata": {
            "tags": []
          },
          "execution_count": 10
        }
      ]
    },
    {
      "cell_type": "code",
      "metadata": {
        "colab": {
          "base_uri": "https://localhost:8080/"
        },
        "id": "ub3jk-vA9Ojd",
        "outputId": "fb73fda3-d0dd-4b9c-ab0a-a1f71d1457c7"
      },
      "source": [
        "labels_mapping = dict(zip(encoder.classes_,encoder.transform(encoder.classes_)))\r\n",
        "labels_mapping['NONE'] = 5\r\n",
        "labels_mapping"
      ],
      "execution_count": 11,
      "outputs": [
        {
          "output_type": "execute_result",
          "data": {
            "text/plain": [
              "{'HIGH': 0, 'LOW': 1, 'MEDIUM': 2, 'NONE': 5, 'VERY_HIGH': 3}"
            ]
          },
          "metadata": {
            "tags": []
          },
          "execution_count": 11
        }
      ]
    },
    {
      "cell_type": "code",
      "metadata": {
        "id": "eBsjcfSU9mPJ"
      },
      "source": [
        "perspective['Predictions_num'] = perspective['Predictions'].apply(lambda x: labels_mapping[x])"
      ],
      "execution_count": 12,
      "outputs": []
    },
    {
      "cell_type": "code",
      "metadata": {
        "colab": {
          "base_uri": "https://localhost:8080/"
        },
        "id": "iofVqLna7anr",
        "outputId": "56e8442a-f6db-4702-997c-3024bde5df82"
      },
      "source": [
        "print(classification_report(perspective[\"Labels_num\"], perspective[\"Predictions_num\"]))"
      ],
      "execution_count": 13,
      "outputs": [
        {
          "output_type": "stream",
          "text": [
            "              precision    recall  f1-score   support\n",
            "\n",
            "           0       0.26      0.18      0.22     27175\n",
            "           1       0.23      0.20      0.21     14816\n",
            "           2       0.26      0.14      0.18     24005\n",
            "           3       0.45      0.46      0.45     34004\n",
            "           5       0.00      0.00      0.00         0\n",
            "\n",
            "    accuracy                           0.27    100000\n",
            "   macro avg       0.24      0.20      0.21    100000\n",
            "weighted avg       0.32      0.27      0.29    100000\n",
            "\n"
          ],
          "name": "stdout"
        }
      ]
    },
    {
      "cell_type": "code",
      "metadata": {
        "colab": {
          "base_uri": "https://localhost:8080/"
        },
        "id": "Vb6D868E7ant",
        "outputId": "5ceb8839-e27a-4b8d-ea2b-904abfc07250"
      },
      "source": [
        "conf_matrix = confusion_matrix(perspective[\"Labels_num\"], perspective[\"Predictions_num\"])\r\n",
        "print(conf_matrix)"
      ],
      "execution_count": 14,
      "outputs": [
        {
          "output_type": "stream",
          "text": [
            "[[ 5025  3325  3073 10955  4797]\n",
            " [ 3239  2919  2984  2177  3497]\n",
            " [ 5301  3510  3325  6173  5696]\n",
            " [ 5934  2768  3372 15530  6400]\n",
            " [    0     0     0     0     0]]\n"
          ],
          "name": "stdout"
        }
      ]
    },
    {
      "cell_type": "code",
      "metadata": {
        "colab": {
          "base_uri": "https://localhost:8080/",
          "height": 284
        },
        "id": "Bgr5BdOI7ant",
        "outputId": "f3c84e1d-a7b0-4d22-bd92-482c6036bebc"
      },
      "source": [
        "sns.heatmap(conf_matrix/np.sum(conf_matrix), annot=True)"
      ],
      "execution_count": 15,
      "outputs": [
        {
          "output_type": "execute_result",
          "data": {
            "text/plain": [
              "<matplotlib.axes._subplots.AxesSubplot at 0x7fd9345d4bd0>"
            ]
          },
          "metadata": {
            "tags": []
          },
          "execution_count": 15
        },
        {
          "output_type": "display_data",
          "data": {
            "image/png": "[encoded data removed]",
            "text/plain": [
              "<Figure size 432x288 with 2 Axes>"
            ]
          },
          "metadata": {
            "tags": [],
            "needs_background": "light"
          }
        }
      ]
    },
    {
      "cell_type": "code",
      "metadata": {
        "colab": {
          "base_uri": "https://localhost:8080/",
          "height": 1000
        },
        "id": "d0Y4Z4YuLQM7",
        "outputId": "491359cd-32f9-4e70-bfa1-e22fbaa225a8"
      },
      "source": [
        "#Error analysis\r\n",
        "perspective[perspective[\"Result\"] == 0][:50]"
      ],
      "execution_count": 18,
      "outputs": [
        {
          "output_type": "execute_result",
          "data": {
            "text/html": [
              "<div>\n",
              "<style scoped>\n",
              "    .dataframe tbody tr th:only-of-type {\n",
              "        vertical-align: middle;\n",
              "    }\n",
              "\n",
              "    .dataframe tbody tr th {\n",
              "        vertical-align: top;\n",
              "    }\n",
              "\n",
              "    .dataframe thead th {\n",
              "        text-align: right;\n",
              "    }\n",
              "</style>\n",
              "<table border=\"1\" class=\"dataframe\">\n",
              "  <thead>\n",
              "    <tr style=\"text-align: right;\">\n",
              "      <th></th>\n",
              "      <th>Labels</th>\n",
              "      <th>Predictions</th>\n",
              "      <th>Sentences</th>\n",
              "      <th>Result</th>\n",
              "      <th>Labels_num</th>\n",
              "      <th>Predictions_num</th>\n",
              "    </tr>\n",
              "  </thead>\n",
              "  <tbody>\n",
              "    <tr>\n",
              "      <th>0</th>\n",
              "      <td>LOW</td>\n",
              "      <td>NONE</td>\n",
              "      <td>t pas bo</td>\n",
              "      <td>0</td>\n",
              "      <td>1</td>\n",
              "      <td>5</td>\n",
              "    </tr>\n",
              "    <tr>\n",
              "      <th>2</th>\n",
              "      <td>LOW</td>\n",
              "      <td>NONE</td>\n",
              "      <td>je te propose un d île je m abonne à ta chaine...</td>\n",
              "      <td>0</td>\n",
              "      <td>1</td>\n",
              "      <td>5</td>\n",
              "    </tr>\n",
              "    <tr>\n",
              "      <th>3</th>\n",
              "      <td>LOW</td>\n",
              "      <td>NONE</td>\n",
              "      <td>t un kiko mdr</td>\n",
              "      <td>0</td>\n",
              "      <td>1</td>\n",
              "      <td>5</td>\n",
              "    </tr>\n",
              "    <tr>\n",
              "      <th>4</th>\n",
              "      <td>LOW</td>\n",
              "      <td>MEDIUM</td>\n",
              "      <td>moi mdr t trop nul</td>\n",
              "      <td>0</td>\n",
              "      <td>1</td>\n",
              "      <td>2</td>\n",
              "    </tr>\n",
              "    <tr>\n",
              "      <th>6</th>\n",
              "      <td>LOW</td>\n",
              "      <td>VERY_HIGH</td>\n",
              "      <td>grosse merdes</td>\n",
              "      <td>0</td>\n",
              "      <td>1</td>\n",
              "      <td>3</td>\n",
              "    </tr>\n",
              "    <tr>\n",
              "      <th>7</th>\n",
              "      <td>LOW</td>\n",
              "      <td>MEDIUM</td>\n",
              "      <td>espèce de gamin</td>\n",
              "      <td>0</td>\n",
              "      <td>1</td>\n",
              "      <td>2</td>\n",
              "    </tr>\n",
              "    <tr>\n",
              "      <th>8</th>\n",
              "      <td>LOW</td>\n",
              "      <td>MEDIUM</td>\n",
              "      <td>c est quoi cette mode ou presque tout les yout...</td>\n",
              "      <td>0</td>\n",
              "      <td>1</td>\n",
              "      <td>2</td>\n",
              "    </tr>\n",
              "    <tr>\n",
              "      <th>9</th>\n",
              "      <td>LOW</td>\n",
              "      <td>HIGH</td>\n",
              "      <td>et il est au dessus des lois je fais des reuni...</td>\n",
              "      <td>0</td>\n",
              "      <td>1</td>\n",
              "      <td>0</td>\n",
              "    </tr>\n",
              "    <tr>\n",
              "      <th>10</th>\n",
              "      <td>LOW</td>\n",
              "      <td>NONE</td>\n",
              "      <td>vous êtes gênant</td>\n",
              "      <td>0</td>\n",
              "      <td>1</td>\n",
              "      <td>5</td>\n",
              "    </tr>\n",
              "    <tr>\n",
              "      <th>12</th>\n",
              "      <td>LOW</td>\n",
              "      <td>MEDIUM</td>\n",
              "      <td>frr c quoi sa car t radin je vais venir chez t...</td>\n",
              "      <td>0</td>\n",
              "      <td>1</td>\n",
              "      <td>2</td>\n",
              "    </tr>\n",
              "    <tr>\n",
              "      <th>14</th>\n",
              "      <td>LOW</td>\n",
              "      <td>NONE</td>\n",
              "      <td>calme ta joie</td>\n",
              "      <td>0</td>\n",
              "      <td>1</td>\n",
              "      <td>5</td>\n",
              "    </tr>\n",
              "    <tr>\n",
              "      <th>15</th>\n",
              "      <td>LOW</td>\n",
              "      <td>NONE</td>\n",
              "      <td>nul</td>\n",
              "      <td>0</td>\n",
              "      <td>1</td>\n",
              "      <td>5</td>\n",
              "    </tr>\n",
              "    <tr>\n",
              "      <th>16</th>\n",
              "      <td>LOW</td>\n",
              "      <td>NONE</td>\n",
              "      <td>t chelou toi</td>\n",
              "      <td>0</td>\n",
              "      <td>1</td>\n",
              "      <td>5</td>\n",
              "    </tr>\n",
              "    <tr>\n",
              "      <th>17</th>\n",
              "      <td>LOW</td>\n",
              "      <td>MEDIUM</td>\n",
              "      <td>soulverne oui c est bien gentil mais toi tu m ...</td>\n",
              "      <td>0</td>\n",
              "      <td>1</td>\n",
              "      <td>2</td>\n",
              "    </tr>\n",
              "    <tr>\n",
              "      <th>18</th>\n",
              "      <td>LOW</td>\n",
              "      <td>VERY_HIGH</td>\n",
              "      <td>on va vous envoyer en pologne via un train de ...</td>\n",
              "      <td>0</td>\n",
              "      <td>1</td>\n",
              "      <td>3</td>\n",
              "    </tr>\n",
              "    <tr>\n",
              "      <th>20</th>\n",
              "      <td>LOW</td>\n",
              "      <td>HIGH</td>\n",
              "      <td>ytb t as 7 ans ou quoi t as lu un mot dans un ...</td>\n",
              "      <td>0</td>\n",
              "      <td>1</td>\n",
              "      <td>0</td>\n",
              "    </tr>\n",
              "    <tr>\n",
              "      <th>22</th>\n",
              "      <td>LOW</td>\n",
              "      <td>HIGH</td>\n",
              "      <td>t vraiment nul</td>\n",
              "      <td>0</td>\n",
              "      <td>1</td>\n",
              "      <td>0</td>\n",
              "    </tr>\n",
              "    <tr>\n",
              "      <th>23</th>\n",
              "      <td>LOW</td>\n",
              "      <td>HIGH</td>\n",
              "      <td>julio de la vega quel discours de merde surtou...</td>\n",
              "      <td>0</td>\n",
              "      <td>1</td>\n",
              "      <td>0</td>\n",
              "    </tr>\n",
              "    <tr>\n",
              "      <th>24</th>\n",
              "      <td>LOW</td>\n",
              "      <td>HIGH</td>\n",
              "      <td>lycophile on dirait un nom de chewing gum ou d...</td>\n",
              "      <td>0</td>\n",
              "      <td>1</td>\n",
              "      <td>0</td>\n",
              "    </tr>\n",
              "    <tr>\n",
              "      <th>25</th>\n",
              "      <td>LOW</td>\n",
              "      <td>MEDIUM</td>\n",
              "      <td>jme demande si t con ou tu réfléchis avec tes ...</td>\n",
              "      <td>0</td>\n",
              "      <td>1</td>\n",
              "      <td>2</td>\n",
              "    </tr>\n",
              "    <tr>\n",
              "      <th>26</th>\n",
              "      <td>LOW</td>\n",
              "      <td>VERY_HIGH</td>\n",
              "      <td>vous êtes trop con vrm</td>\n",
              "      <td>0</td>\n",
              "      <td>1</td>\n",
              "      <td>3</td>\n",
              "    </tr>\n",
              "    <tr>\n",
              "      <th>27</th>\n",
              "      <td>LOW</td>\n",
              "      <td>MEDIUM</td>\n",
              "      <td>bas alors on me ban de discord parce que je di...</td>\n",
              "      <td>0</td>\n",
              "      <td>1</td>\n",
              "      <td>2</td>\n",
              "    </tr>\n",
              "    <tr>\n",
              "      <th>28</th>\n",
              "      <td>LOW</td>\n",
              "      <td>VERY_HIGH</td>\n",
              "      <td>c est pas faux tu es vraiment tres con</td>\n",
              "      <td>0</td>\n",
              "      <td>1</td>\n",
              "      <td>3</td>\n",
              "    </tr>\n",
              "    <tr>\n",
              "      <th>29</th>\n",
              "      <td>LOW</td>\n",
              "      <td>VERY_HIGH</td>\n",
              "      <td>les gars vous êtes trop con ou quoi à quel mom...</td>\n",
              "      <td>0</td>\n",
              "      <td>1</td>\n",
              "      <td>3</td>\n",
              "    </tr>\n",
              "    <tr>\n",
              "      <th>30</th>\n",
              "      <td>LOW</td>\n",
              "      <td>NONE</td>\n",
              "      <td>malaisant</td>\n",
              "      <td>0</td>\n",
              "      <td>1</td>\n",
              "      <td>5</td>\n",
              "    </tr>\n",
              "    <tr>\n",
              "      <th>31</th>\n",
              "      <td>LOW</td>\n",
              "      <td>VERY_HIGH</td>\n",
              "      <td>pauvre abruti</td>\n",
              "      <td>0</td>\n",
              "      <td>1</td>\n",
              "      <td>3</td>\n",
              "    </tr>\n",
              "    <tr>\n",
              "      <th>34</th>\n",
              "      <td>LOW</td>\n",
              "      <td>VERY_HIGH</td>\n",
              "      <td>gisèle dufour visiblement tu n y arrive pas to...</td>\n",
              "      <td>0</td>\n",
              "      <td>1</td>\n",
              "      <td>3</td>\n",
              "    </tr>\n",
              "    <tr>\n",
              "      <th>35</th>\n",
              "      <td>LOW</td>\n",
              "      <td>VERY_HIGH</td>\n",
              "      <td>branle merde que t es</td>\n",
              "      <td>0</td>\n",
              "      <td>1</td>\n",
              "      <td>3</td>\n",
              "    </tr>\n",
              "    <tr>\n",
              "      <th>36</th>\n",
              "      <td>LOW</td>\n",
              "      <td>HIGH</td>\n",
              "      <td>va te faire</td>\n",
              "      <td>0</td>\n",
              "      <td>1</td>\n",
              "      <td>0</td>\n",
              "    </tr>\n",
              "    <tr>\n",
              "      <th>37</th>\n",
              "      <td>LOW</td>\n",
              "      <td>VERY_HIGH</td>\n",
              "      <td>vous d abords vieux con</td>\n",
              "      <td>0</td>\n",
              "      <td>1</td>\n",
              "      <td>3</td>\n",
              "    </tr>\n",
              "    <tr>\n",
              "      <th>38</th>\n",
              "      <td>LOW</td>\n",
              "      <td>VERY_HIGH</td>\n",
              "      <td>au le pauvre petit tk il aime pas mais on en a...</td>\n",
              "      <td>0</td>\n",
              "      <td>1</td>\n",
              "      <td>3</td>\n",
              "    </tr>\n",
              "    <tr>\n",
              "      <th>39</th>\n",
              "      <td>LOW</td>\n",
              "      <td>VERY_HIGH</td>\n",
              "      <td>ferme la fumier</td>\n",
              "      <td>0</td>\n",
              "      <td>1</td>\n",
              "      <td>3</td>\n",
              "    </tr>\n",
              "    <tr>\n",
              "      <th>40</th>\n",
              "      <td>LOW</td>\n",
              "      <td>HIGH</td>\n",
              "      <td>ceci dit tu en fais un beau virus ducon</td>\n",
              "      <td>0</td>\n",
              "      <td>1</td>\n",
              "      <td>0</td>\n",
              "    </tr>\n",
              "    <tr>\n",
              "      <th>42</th>\n",
              "      <td>LOW</td>\n",
              "      <td>VERY_HIGH</td>\n",
              "      <td>tu sortirais avec un arabe toi mytho va</td>\n",
              "      <td>0</td>\n",
              "      <td>1</td>\n",
              "      <td>3</td>\n",
              "    </tr>\n",
              "    <tr>\n",
              "      <th>43</th>\n",
              "      <td>LOW</td>\n",
              "      <td>VERY_HIGH</td>\n",
              "      <td>va te faire imbéciles</td>\n",
              "      <td>0</td>\n",
              "      <td>1</td>\n",
              "      <td>3</td>\n",
              "    </tr>\n",
              "    <tr>\n",
              "      <th>44</th>\n",
              "      <td>LOW</td>\n",
              "      <td>NONE</td>\n",
              "      <td>calme ta joie prof hchouuuuma</td>\n",
              "      <td>0</td>\n",
              "      <td>1</td>\n",
              "      <td>5</td>\n",
              "    </tr>\n",
              "    <tr>\n",
              "      <th>45</th>\n",
              "      <td>LOW</td>\n",
              "      <td>VERY_HIGH</td>\n",
              "      <td>pauvre merde</td>\n",
              "      <td>0</td>\n",
              "      <td>1</td>\n",
              "      <td>3</td>\n",
              "    </tr>\n",
              "    <tr>\n",
              "      <th>46</th>\n",
              "      <td>LOW</td>\n",
              "      <td>NONE</td>\n",
              "      <td>abruti</td>\n",
              "      <td>0</td>\n",
              "      <td>1</td>\n",
              "      <td>5</td>\n",
              "    </tr>\n",
              "    <tr>\n",
              "      <th>47</th>\n",
              "      <td>LOW</td>\n",
              "      <td>VERY_HIGH</td>\n",
              "      <td>espèce d abruti de maquereau au bois de vincen...</td>\n",
              "      <td>0</td>\n",
              "      <td>1</td>\n",
              "      <td>3</td>\n",
              "    </tr>\n",
              "    <tr>\n",
              "      <th>48</th>\n",
              "      <td>LOW</td>\n",
              "      <td>VERY_HIGH</td>\n",
              "      <td>tu prends le monde pour aussi con que toi</td>\n",
              "      <td>0</td>\n",
              "      <td>1</td>\n",
              "      <td>3</td>\n",
              "    </tr>\n",
              "    <tr>\n",
              "      <th>49</th>\n",
              "      <td>LOW</td>\n",
              "      <td>NONE</td>\n",
              "      <td>tu peux pas t abonner à ma chaîne car sinon je...</td>\n",
              "      <td>0</td>\n",
              "      <td>1</td>\n",
              "      <td>5</td>\n",
              "    </tr>\n",
              "    <tr>\n",
              "      <th>50</th>\n",
              "      <td>LOW</td>\n",
              "      <td>VERY_HIGH</td>\n",
              "      <td>salle merde</td>\n",
              "      <td>0</td>\n",
              "      <td>1</td>\n",
              "      <td>3</td>\n",
              "    </tr>\n",
              "    <tr>\n",
              "      <th>51</th>\n",
              "      <td>LOW</td>\n",
              "      <td>VERY_HIGH</td>\n",
              "      <td>comment peut tu te regarder dans ton miroir le...</td>\n",
              "      <td>0</td>\n",
              "      <td>1</td>\n",
              "      <td>3</td>\n",
              "    </tr>\n",
              "    <tr>\n",
              "      <th>53</th>\n",
              "      <td>LOW</td>\n",
              "      <td>HIGH</td>\n",
              "      <td>calme toi pauvre guignols</td>\n",
              "      <td>0</td>\n",
              "      <td>1</td>\n",
              "      <td>0</td>\n",
              "    </tr>\n",
              "    <tr>\n",
              "      <th>54</th>\n",
              "      <td>LOW</td>\n",
              "      <td>HIGH</td>\n",
              "      <td>très bonne vidéo galaxe continue par contre t ...</td>\n",
              "      <td>0</td>\n",
              "      <td>1</td>\n",
              "      <td>0</td>\n",
              "    </tr>\n",
              "    <tr>\n",
              "      <th>55</th>\n",
              "      <td>LOW</td>\n",
              "      <td>HIGH</td>\n",
              "      <td>il y co ait rien le journaliste ferme la</td>\n",
              "      <td>0</td>\n",
              "      <td>1</td>\n",
              "      <td>0</td>\n",
              "    </tr>\n",
              "    <tr>\n",
              "      <th>56</th>\n",
              "      <td>LOW</td>\n",
              "      <td>VERY_HIGH</td>\n",
              "      <td>ferme la on t a vu donner tes ordres aux black...</td>\n",
              "      <td>0</td>\n",
              "      <td>1</td>\n",
              "      <td>3</td>\n",
              "    </tr>\n",
              "    <tr>\n",
              "      <th>57</th>\n",
              "      <td>LOW</td>\n",
              "      <td>HIGH</td>\n",
              "      <td>c est pour mettre de la haine d apprendre l ar...</td>\n",
              "      <td>0</td>\n",
              "      <td>1</td>\n",
              "      <td>0</td>\n",
              "    </tr>\n",
              "    <tr>\n",
              "      <th>58</th>\n",
              "      <td>LOW</td>\n",
              "      <td>NONE</td>\n",
              "      <td>honteux</td>\n",
              "      <td>0</td>\n",
              "      <td>1</td>\n",
              "      <td>5</td>\n",
              "    </tr>\n",
              "    <tr>\n",
              "      <th>59</th>\n",
              "      <td>LOW</td>\n",
              "      <td>VERY_HIGH</td>\n",
              "      <td>avec du recul vous êtes con stupid</td>\n",
              "      <td>0</td>\n",
              "      <td>1</td>\n",
              "      <td>3</td>\n",
              "    </tr>\n",
              "  </tbody>\n",
              "</table>\n",
              "</div>"
            ],
            "text/plain": [
              "   Labels Predictions  ... Labels_num  Predictions_num\n",
              "0     LOW        NONE  ...          1                5\n",
              "2     LOW        NONE  ...          1                5\n",
              "3     LOW        NONE  ...          1                5\n",
              "4     LOW      MEDIUM  ...          1                2\n",
              "6     LOW   VERY_HIGH  ...          1                3\n",
              "7     LOW      MEDIUM  ...          1                2\n",
              "8     LOW      MEDIUM  ...          1                2\n",
              "9     LOW        HIGH  ...          1                0\n",
              "10    LOW        NONE  ...          1                5\n",
              "12    LOW      MEDIUM  ...          1                2\n",
              "14    LOW        NONE  ...          1                5\n",
              "15    LOW        NONE  ...          1                5\n",
              "16    LOW        NONE  ...          1                5\n",
              "17    LOW      MEDIUM  ...          1                2\n",
              "18    LOW   VERY_HIGH  ...          1                3\n",
              "20    LOW        HIGH  ...          1                0\n",
              "22    LOW        HIGH  ...          1                0\n",
              "23    LOW        HIGH  ...          1                0\n",
              "24    LOW        HIGH  ...          1                0\n",
              "25    LOW      MEDIUM  ...          1                2\n",
              "26    LOW   VERY_HIGH  ...          1                3\n",
              "27    LOW      MEDIUM  ...          1                2\n",
              "28    LOW   VERY_HIGH  ...          1                3\n",
              "29    LOW   VERY_HIGH  ...          1                3\n",
              "30    LOW        NONE  ...          1                5\n",
              "31    LOW   VERY_HIGH  ...          1                3\n",
              "34    LOW   VERY_HIGH  ...          1                3\n",
              "35    LOW   VERY_HIGH  ...          1                3\n",
              "36    LOW        HIGH  ...          1                0\n",
              "37    LOW   VERY_HIGH  ...          1                3\n",
              "38    LOW   VERY_HIGH  ...          1                3\n",
              "39    LOW   VERY_HIGH  ...          1                3\n",
              "40    LOW        HIGH  ...          1                0\n",
              "42    LOW   VERY_HIGH  ...          1                3\n",
              "43    LOW   VERY_HIGH  ...          1                3\n",
              "44    LOW        NONE  ...          1                5\n",
              "45    LOW   VERY_HIGH  ...          1                3\n",
              "46    LOW        NONE  ...          1                5\n",
              "47    LOW   VERY_HIGH  ...          1                3\n",
              "48    LOW   VERY_HIGH  ...          1                3\n",
              "49    LOW        NONE  ...          1                5\n",
              "50    LOW   VERY_HIGH  ...          1                3\n",
              "51    LOW   VERY_HIGH  ...          1                3\n",
              "53    LOW        HIGH  ...          1                0\n",
              "54    LOW        HIGH  ...          1                0\n",
              "55    LOW        HIGH  ...          1                0\n",
              "56    LOW   VERY_HIGH  ...          1                3\n",
              "57    LOW        HIGH  ...          1                0\n",
              "58    LOW        NONE  ...          1                5\n",
              "59    LOW   VERY_HIGH  ...          1                3\n",
              "\n",
              "[50 rows x 6 columns]"
            ]
          },
          "metadata": {
            "tags": []
          },
          "execution_count": 18
        }
      ]
    },
    {
      "cell_type": "markdown",
      "metadata": {
        "id": "lg78VPsFFfEG"
      },
      "source": [
        "### Via FastText"
      ]
    },
    {
      "cell_type": "code",
      "metadata": {
        "id": "uT7XWKfHM7_C"
      },
      "source": [
        "import fasttext"
      ],
      "execution_count": null,
      "outputs": []
    },
    {
      "cell_type": "code",
      "metadata": {
        "id": "GEPUoOQnRYuN"
      },
      "source": [
        "#Data preparation for fasttext format\r\n",
        "\r\n",
        "X_train_ft, X_test_ft, y_train_fr, y_test_ft = train_test_split(dataset['cleanSentence'],  dataset['Level'], test_size = 0.2)\r\n",
        "\r\n",
        "label_mapping = {'NONE': '__label__0',\r\n",
        "                     'LOW': '__label__1',\r\n",
        "                     'MEDIUM': '__label__2',\r\n",
        "                     'HIGH': '__label__3',\r\n",
        "                     'VERY_HIGH': '__label__4'}\r\n",
        "\r\n",
        "with open('fasttext_train.txt', 'w') as f:\r\n",
        "    for each_text, each_label in zip(X_train_ft, y_train_fr):\r\n",
        "        each_label = label_mapping[each_label]\r\n",
        "        f.writelines(f'{each_label} {each_text}\\n')\r\n",
        "\r\n",
        "with open('fasttext_test.txt', 'w') as f:\r\n",
        "    for each_text, each_label in zip(X_test_ft, y_test_ft):\r\n",
        "        each_label = label_mapping[each_label]\r\n",
        "        f.writelines(f'{each_label} {each_text}\\n')"
      ],
      "execution_count": null,
      "outputs": []
    },
    {
      "cell_type": "code",
      "metadata": {
        "id": "kKbn1gYhhGhd"
      },
      "source": [
        "#Training\r\n",
        "ft_model2 = fasttext.train_supervised('fasttext_train.txt')\r\n",
        "\r\n",
        "#model = fasttext.train_supervised(input=train_fn,\r\n",
        "#                                  pretrainedVectors=pretrainedvec_fn,\r\n",
        "#                                  dim=200, \r\n",
        "#                                  wordNgrams=2, \r\n",
        "#                                  minCount=3, \r\n",
        "#                                  epoch=20, \r\n",
        "#                                  loss='ova')"
      ],
      "execution_count": null,
      "outputs": []
    },
    {
      "cell_type": "code",
      "metadata": {
        "id": "LBs0Rl8M4STb"
      },
      "source": [
        "#print(ft_model2.words)\r\n",
        "print(ft_model2.labels)"
      ],
      "execution_count": null,
      "outputs": []
    },
    {
      "cell_type": "code",
      "metadata": {
        "id": "65iBpGUQ4WJN"
      },
      "source": [
        "#Evaluation\r\n",
        "def print_results(N, p, r):\r\n",
        "    print(\"N\\t\" + str(N))\r\n",
        "    print(\"P@{}\\t{:.3f}\".format(1, p))\r\n",
        "    print(\"R@{}\\t{:.3f}\".format(1, r))\r\n",
        "\r\n",
        "print_results(*ft_model2.test('fasttext_test.txt'))"
      ],
      "execution_count": null,
      "outputs": []
    },
    {
      "cell_type": "markdown",
      "metadata": {
        "id": "ow16_dTjTQzA"
      },
      "source": [
        "### Via Bi-LSTM"
      ]
    },
    {
      "cell_type": "code",
      "metadata": {
        "id": "Fz_DxfoLTSZ5",
        "colab": {
          "base_uri": "https://localhost:8080/"
        },
        "outputId": "7831bd5e-3888-47b9-b58c-28997b3b9104"
      },
      "source": [
        "#Defining Neural Network\r\n",
        "lstm_model = Sequential()\r\n",
        "#Non-trainable embeddidng layer\r\n",
        "lstm_model.add(Embedding(vocab_size, output_dim=EMBEDDING_DIM, weights=[w2v_embedding_vectors], input_length=maxlen, trainable=False))\r\n",
        "#LSTM \r\n",
        "#lstm_model.add(LSTM(units=128, dropout=0.2, recurrent_dropout=0.2, return_sequences=False))\r\n",
        "#Bi-LSTM\r\n",
        "lstm_model.add(Bidirectional(LSTM(units=128, dropout=0.2, recurrent_dropout=0.2, return_sequences=False)))\r\n",
        "lstm_model.add(Dense(EMBEDDING_DIM, activation='relu'))\r\n",
        "lstm_model.add(Dense(5, activation='softmax'))\r\n",
        "lstm_model.compile(optimizer='adam', loss='categorical_crossentropy', metrics=['acc'])"
      ],
      "execution_count": null,
      "outputs": [
        {
          "output_type": "stream",
          "text": [
            "WARNING:tensorflow:Layer lstm_1 will not use cuDNN kernel since it doesn't meet the cuDNN kernel criteria. It will use generic GPU kernel as fallback when running on GPU\n",
            "WARNING:tensorflow:Layer lstm_1 will not use cuDNN kernel since it doesn't meet the cuDNN kernel criteria. It will use generic GPU kernel as fallback when running on GPU\n",
            "WARNING:tensorflow:Layer lstm_1 will not use cuDNN kernel since it doesn't meet the cuDNN kernel criteria. It will use generic GPU kernel as fallback when running on GPU\n"
          ],
          "name": "stdout"
        }
      ]
    },
    {
      "cell_type": "code",
      "metadata": {
        "colab": {
          "base_uri": "https://localhost:8080/"
        },
        "id": "WgiChQkZv8Sn",
        "outputId": "bad93110-2993-4ced-c117-efd2ac03f7bb"
      },
      "source": [
        "lstm_model.summary()"
      ],
      "execution_count": null,
      "outputs": [
        {
          "output_type": "stream",
          "text": [
            "Model: \"sequential_1\"\n",
            "_________________________________________________________________\n",
            "Layer (type)                 Output Shape              Param #   \n",
            "=================================================================\n",
            "embedding_1 (Embedding)      (None, 150, 200)          26505600  \n",
            "_________________________________________________________________\n",
            "bidirectional_1 (Bidirection (None, 256)               336896    \n",
            "_________________________________________________________________\n",
            "dense_2 (Dense)              (None, 200)               51400     \n",
            "_________________________________________________________________\n",
            "dense_3 (Dense)              (None, 5)                 1005      \n",
            "=================================================================\n",
            "Total params: 26,894,901\n",
            "Trainable params: 389,301\n",
            "Non-trainable params: 26,505,600\n",
            "_________________________________________________________________\n"
          ],
          "name": "stdout"
        }
      ]
    },
    {
      "cell_type": "code",
      "metadata": {
        "colab": {
          "base_uri": "https://localhost:8080/"
        },
        "id": "RCFq97Qtv8V2",
        "outputId": "c69f6286-3005-4b58-b2c9-cbf558e9db34"
      },
      "source": [
        "early_stopping_callback_loss = tf.keras.callbacks.EarlyStopping(monitor = 'loss', patience = 1)\r\n",
        "early_stopping_callback_val_loss = tf.keras.callbacks.EarlyStopping(monitor = 'val_loss', patience = 1)\r\n",
        "\r\n",
        "lstm_history = lstm_model.fit(X_train_tok, y_train_tok, validation_split=0.2, epochs=10, batch_size = 512, \\\r\n",
        "                         callbacks = [early_stopping_callback_loss, early_stopping_callback_val_loss], verbose=1)"
      ],
      "execution_count": null,
      "outputs": [
        {
          "output_type": "stream",
          "text": [
            "Epoch 1/10\n",
            "494/494 [==============================] - 542s 1s/step - loss: 0.8064 - acc: 0.7124 - val_loss: 0.6712 - val_acc: 0.7609\n",
            "Epoch 2/10\n",
            "494/494 [==============================] - 538s 1s/step - loss: 0.6329 - acc: 0.7770 - val_loss: 0.5791 - val_acc: 0.7979\n",
            "Epoch 3/10\n",
            "494/494 [==============================] - 547s 1s/step - loss: 0.5584 - acc: 0.8053 - val_loss: 0.5178 - val_acc: 0.8249\n",
            "Epoch 4/10\n",
            "494/494 [==============================] - 549s 1s/step - loss: 0.5098 - acc: 0.8238 - val_loss: 0.4765 - val_acc: 0.8397\n",
            "Epoch 5/10\n",
            "494/494 [==============================] - 549s 1s/step - loss: 0.4711 - acc: 0.8390 - val_loss: 0.4493 - val_acc: 0.8530\n",
            "Epoch 6/10\n",
            "494/494 [==============================] - 554s 1s/step - loss: 0.4425 - acc: 0.8495 - val_loss: 0.4279 - val_acc: 0.8623\n",
            "Epoch 7/10\n",
            "494/494 [==============================] - 556s 1s/step - loss: 0.4207 - acc: 0.8577 - val_loss: 0.4180 - val_acc: 0.8667\n",
            "Epoch 8/10\n",
            "494/494 [==============================] - 560s 1s/step - loss: 0.4024 - acc: 0.8643 - val_loss: 0.4047 - val_acc: 0.8725\n",
            "Epoch 9/10\n",
            "494/494 [==============================] - 555s 1s/step - loss: 0.3891 - acc: 0.8694 - val_loss: 0.3920 - val_acc: 0.8781\n",
            "Epoch 10/10\n",
            "494/494 [==============================] - 556s 1s/step - loss: 0.3764 - acc: 0.8737 - val_loss: 0.3870 - val_acc: 0.8793\n"
          ],
          "name": "stdout"
        }
      ]
    },
    {
      "cell_type": "code",
      "metadata": {
        "id": "hzfbNZB0v8YG",
        "colab": {
          "base_uri": "https://localhost:8080/",
          "height": 295
        },
        "outputId": "91ddaa67-67bc-4d58-ac41-908f401aec71"
      },
      "source": [
        "plt.plot(lstm_history.history['loss'])\r\n",
        "plt.plot(lstm_history.history['val_loss'])\r\n",
        "plt.title('model train vs validation loss')\r\n",
        "plt.ylabel('loss')\r\n",
        "plt.xlabel('epoch')\r\n",
        "plt.legend(['train', 'validation'], loc='upper right')\r\n",
        "plt.show()"
      ],
      "execution_count": null,
      "outputs": [
        {
          "output_type": "display_data",
          "data": {
            "image/png": "[encoded data removed]",
            "text/plain": [
              "<Figure size 432x288 with 1 Axes>"
            ]
          },
          "metadata": {
            "tags": [],
            "needs_background": "light"
          }
        }
      ]
    },
    {
      "cell_type": "code",
      "metadata": {
        "id": "mLfelR5B0cTr"
      },
      "source": [
        "lstm_pred = (lstm_model.predict(X_test_tok) >= 0.5).astype(\"int\")"
      ],
      "execution_count": null,
      "outputs": []
    },
    {
      "cell_type": "code",
      "metadata": {
        "id": "Y23-MEiB0kEw",
        "colab": {
          "base_uri": "https://localhost:8080/"
        },
        "outputId": "f48b5e4b-4291-4953-8ca0-d5f4a2624ed4"
      },
      "source": [
        "print(classification_report(y_test_tok, lstm_pred))"
      ],
      "execution_count": null,
      "outputs": [
        {
          "output_type": "stream",
          "text": [
            "              precision    recall  f1-score   support\n",
            "\n",
            "           0       0.82      0.75      0.78     10633\n",
            "           1       0.90      0.78      0.84      5600\n",
            "           2       0.84      0.69      0.75      9458\n",
            "           3       0.94      0.95      0.95     39873\n",
            "           4       0.86      0.83      0.85     13355\n",
            "\n",
            "   micro avg       0.90      0.86      0.88     78919\n",
            "   macro avg       0.87      0.80      0.83     78919\n",
            "weighted avg       0.90      0.86      0.88     78919\n",
            " samples avg       0.86      0.86      0.86     78919\n",
            "\n"
          ],
          "name": "stdout"
        }
      ]
    },
    {
      "cell_type": "code",
      "metadata": {
        "id": "Lv2Ly7jR0kOm",
        "colab": {
          "base_uri": "https://localhost:8080/"
        },
        "outputId": "6ae56e62-f15b-4156-bf3f-3c8b77b18158"
      },
      "source": [
        "conf_matrix = confusion_matrix(y_test_tok.argmax(axis=1), lstm_pred.argmax(axis=1))\r\n",
        "print(conf_matrix)"
      ],
      "execution_count": null,
      "outputs": [
        {
          "output_type": "stream",
          "text": [
            "[[ 8857    95   329   709   643]\n",
            " [  636  4352   310   173   129]\n",
            " [ 1401   118  6487   727   725]\n",
            " [ 1110   167   361 37965   270]\n",
            " [ 1168    83   247   758 11099]]\n"
          ],
          "name": "stdout"
        }
      ]
    },
    {
      "cell_type": "code",
      "metadata": {
        "colab": {
          "base_uri": "https://localhost:8080/",
          "height": 284
        },
        "id": "6FpCR_v-y1QC",
        "outputId": "510c1146-d4b1-431c-db04-74d20838081a"
      },
      "source": [
        "sns.heatmap(conf_matrix/np.sum(conf_matrix), annot=True)"
      ],
      "execution_count": null,
      "outputs": [
        {
          "output_type": "execute_result",
          "data": {
            "text/plain": [
              "<matplotlib.axes._subplots.AxesSubplot at 0x7f00165fe590>"
            ]
          },
          "metadata": {
            "tags": []
          },
          "execution_count": 93
        },
        {
          "output_type": "display_data",
          "data": {
            "image/png": "[encoded data removed]",
            "text/plain": [
              "<Figure size 432x288 with 2 Axes>"
            ]
          },
          "metadata": {
            "tags": [],
            "needs_background": "light"
          }
        }
      ]
    },
    {
      "cell_type": "code",
      "metadata": {
        "id": "WvQ7VyZPZ4CN"
      },
      "source": [
        "#lstm_model.save(\"BiLSTM\")"
      ],
      "execution_count": null,
      "outputs": []
    },
    {
      "cell_type": "code",
      "metadata": {
        "id": "g3lzS2dce1P7"
      },
      "source": [
        ""
      ],
      "execution_count": null,
      "outputs": []
    },
    {
      "cell_type": "markdown",
      "metadata": {
        "id": "OX7mSbUXe1eb"
      },
      "source": [
        "### Via 2 Bi-LSTM with Emojis"
      ]
    },
    {
      "cell_type": "code",
      "metadata": {
        "colab": {
          "base_uri": "https://localhost:8080/"
        },
        "id": "HuKALxS4e1ec",
        "outputId": "8ce3bd2f-21dc-48e7-97ad-d727f3306c10"
      },
      "source": [
        "input1 = Input(shape=(maxlen,))\r\n",
        "embed1 = Embedding(vocab_size, output_dim=EMBEDDING_DIM, weights=[w2v_embedding_vectors], input_length=maxlen, trainable=False)(input1)\r\n",
        "bdlstm1 = Bidirectional(LSTM(units=128, dropout=0.2, recurrent_dropout=0.2, return_sequences=False))(embed1)\r\n",
        "dense1 = Dense(EMBEDDING_DIM, activation='relu')(bdlstm1)\r\n",
        "\r\n",
        "input2 = Input(shape=(maxlen_emoji,))\r\n",
        "embed2 = Embedding(emo_vocab_size, output_dim=EMBEDDING_DIM, weights=[w2v_emoji_embedding_vectors], input_length=maxlen_emoji, trainable=False)(input2)\r\n",
        "bdlstm2 = Bidirectional(LSTM(units=128, dropout=0.2, recurrent_dropout=0.2, return_sequences=False))(embed2)\r\n",
        "dense2 = Dense(EMBEDDING_DIM, activation='relu')(bdlstm2)\r\n",
        "\r\n",
        "dense = Concatenate()([dense1, dense2])\r\n",
        "out = Dense(5, activation='softmax')(dense)\r\n",
        "bilstm_model = keras.Model(inputs = [input1, input2], outputs = out)\r\n",
        "bilstm_model.compile(optimizer='adam', loss='categorical_crossentropy', metrics=['acc'])"
      ],
      "execution_count": null,
      "outputs": [
        {
          "output_type": "stream",
          "text": [
            "WARNING:tensorflow:From /tensorflow-1.15.2/python3.7/tensorflow_core/python/keras/initializers.py:119: calling RandomUniform.__init__ (from tensorflow.python.ops.init_ops) with dtype is deprecated and will be removed in a future version.\n",
            "Instructions for updating:\n",
            "Call initializer instance with the dtype argument instead of passing it to the constructor\n",
            "WARNING:tensorflow:From /tensorflow-1.15.2/python3.7/tensorflow_core/python/ops/resource_variable_ops.py:1630: calling BaseResourceVariable.__init__ (from tensorflow.python.ops.resource_variable_ops) with constraint is deprecated and will be removed in a future version.\n",
            "Instructions for updating:\n",
            "If using Keras pass *_constraint arguments to layers.\n",
            "WARNING:tensorflow:From /tensorflow-1.15.2/python3.7/tensorflow_core/python/ops/init_ops.py:97: calling GlorotUniform.__init__ (from tensorflow.python.ops.init_ops) with dtype is deprecated and will be removed in a future version.\n",
            "Instructions for updating:\n",
            "Call initializer instance with the dtype argument instead of passing it to the constructor\n",
            "WARNING:tensorflow:From /tensorflow-1.15.2/python3.7/tensorflow_core/python/ops/init_ops.py:97: calling Orthogonal.__init__ (from tensorflow.python.ops.init_ops) with dtype is deprecated and will be removed in a future version.\n",
            "Instructions for updating:\n",
            "Call initializer instance with the dtype argument instead of passing it to the constructor\n",
            "WARNING:tensorflow:From /tensorflow-1.15.2/python3.7/tensorflow_core/python/ops/init_ops.py:97: calling Zeros.__init__ (from tensorflow.python.ops.init_ops) with dtype is deprecated and will be removed in a future version.\n",
            "Instructions for updating:\n",
            "Call initializer instance with the dtype argument instead of passing it to the constructor\n"
          ],
          "name": "stdout"
        }
      ]
    },
    {
      "cell_type": "code",
      "metadata": {
        "colab": {
          "base_uri": "https://localhost:8080/"
        },
        "id": "nE5G5emUe1ed",
        "outputId": "24aa2dfb-75bc-4dc4-f47d-6063744ace08"
      },
      "source": [
        "bilstm_model.summary()"
      ],
      "execution_count": null,
      "outputs": [
        {
          "output_type": "stream",
          "text": [
            "Model: \"model\"\n",
            "__________________________________________________________________________________________________\n",
            "Layer (type)                    Output Shape         Param #     Connected to                     \n",
            "==================================================================================================\n",
            "input_1 (InputLayer)            [(None, 150)]        0                                            \n",
            "__________________________________________________________________________________________________\n",
            "input_2 (InputLayer)            [(None, 50)]         0                                            \n",
            "__________________________________________________________________________________________________\n",
            "embedding (Embedding)           (None, 150, 200)     26521600    input_1[0][0]                    \n",
            "__________________________________________________________________________________________________\n",
            "embedding_1 (Embedding)         (None, 50, 200)      229600      input_2[0][0]                    \n",
            "__________________________________________________________________________________________________\n",
            "bidirectional (Bidirectional)   (None, 256)          336896      embedding[0][0]                  \n",
            "__________________________________________________________________________________________________\n",
            "bidirectional_1 (Bidirectional) (None, 256)          336896      embedding_1[0][0]                \n",
            "__________________________________________________________________________________________________\n",
            "dense (Dense)                   (None, 200)          51400       bidirectional[0][0]              \n",
            "__________________________________________________________________________________________________\n",
            "dense_1 (Dense)                 (None, 200)          51400       bidirectional_1[0][0]            \n",
            "__________________________________________________________________________________________________\n",
            "concatenate (Concatenate)       (None, 400)          0           dense[0][0]                      \n",
            "                                                                 dense_1[0][0]                    \n",
            "__________________________________________________________________________________________________\n",
            "dense_2 (Dense)                 (None, 5)            2005        concatenate[0][0]                \n",
            "==================================================================================================\n",
            "Total params: 27,529,797\n",
            "Trainable params: 778,597\n",
            "Non-trainable params: 26,751,200\n",
            "__________________________________________________________________________________________________\n"
          ],
          "name": "stdout"
        }
      ]
    },
    {
      "cell_type": "code",
      "metadata": {
        "colab": {
          "base_uri": "https://localhost:8080/"
        },
        "id": "P1sv4TTNg6MR",
        "outputId": "86142f13-171a-4943-e172-850ace28e91d"
      },
      "source": [
        "early_stopping_callback_loss = tf.keras.callbacks.EarlyStopping(monitor = 'loss', patience = 1)\r\n",
        "early_stopping_callback_val_loss = tf.keras.callbacks.EarlyStopping(monitor = 'val_loss', patience = 1)\r\n",
        "\r\n",
        "bilstm_history = bilstm_model.fit([X_train_tok, E_train_tok], y_train_tok, validation_split=0.2, epochs=6, batch_size = 512, \\\r\n",
        "                         callbacks = [early_stopping_callback_loss, early_stopping_callback_val_loss], verbose=1)"
      ],
      "execution_count": null,
      "outputs": [
        {
          "output_type": "stream",
          "text": [
            "WARNING:tensorflow:From /tensorflow-1.15.2/python3.7/tensorflow_core/python/ops/math_grad.py:1424: where (from tensorflow.python.ops.array_ops) is deprecated and will be removed in a future version.\n",
            "Instructions for updating:\n",
            "Use tf.where in 2.0, which has the same broadcast rule as np.where\n",
            "Train on 252538 samples, validate on 63135 samples\n",
            "Epoch 1/6\n",
            "252538/252538 [==============================] - 276s 1ms/sample - loss: 0.8221 - acc: 0.7039 - val_loss: 0.6587 - val_acc: 0.7647\n",
            "Epoch 2/6\n",
            "252538/252538 [==============================] - 271s 1ms/sample - loss: 0.6326 - acc: 0.7739 - val_loss: 0.5665 - val_acc: 0.8010\n",
            "Epoch 3/6\n",
            "252538/252538 [==============================] - 272s 1ms/sample - loss: 0.5594 - acc: 0.8011 - val_loss: 0.5107 - val_acc: 0.8222\n",
            "Epoch 4/6\n",
            "252538/252538 [==============================] - 271s 1ms/sample - loss: 0.5100 - acc: 0.8198 - val_loss: 0.4696 - val_acc: 0.8400\n",
            "Epoch 5/6\n",
            "252538/252538 [==============================] - 268s 1ms/sample - loss: 0.4725 - acc: 0.8342 - val_loss: 0.4429 - val_acc: 0.8504\n",
            "Epoch 6/6\n",
            "252538/252538 [==============================] - 269s 1ms/sample - loss: 0.4435 - acc: 0.8459 - val_loss: 0.4231 - val_acc: 0.8593\n"
          ],
          "name": "stdout"
        }
      ]
    },
    {
      "cell_type": "code",
      "metadata": {
        "colab": {
          "base_uri": "https://localhost:8080/",
          "height": 295
        },
        "id": "_zky9yKpg6MT",
        "outputId": "64b3f130-cc39-4c92-9e0e-c488d4c059d9"
      },
      "source": [
        "plt.plot(bilstm_history.history['loss'])\r\n",
        "plt.plot(bilstm_history.history['val_loss'])\r\n",
        "plt.title('model train vs validation loss')\r\n",
        "plt.ylabel('loss')\r\n",
        "plt.xlabel('epoch')\r\n",
        "plt.legend(['train', 'validation'], loc='upper right')\r\n",
        "plt.show()"
      ],
      "execution_count": null,
      "outputs": [
        {
          "output_type": "display_data",
          "data": {
            "image/png": "[encoded data removed]",
            "text/plain": [
              "<Figure size 432x288 with 1 Axes>"
            ]
          },
          "metadata": {
            "tags": [],
            "needs_background": "light"
          }
        }
      ]
    },
    {
      "cell_type": "code",
      "metadata": {
        "id": "TmIsWmldg6MU"
      },
      "source": [
        "bilstm_pred = (bilstm_model.predict([X_test_tok, E_test_tok]) >= 0.5).astype(\"int\")"
      ],
      "execution_count": null,
      "outputs": []
    },
    {
      "cell_type": "code",
      "metadata": {
        "id": "GeJ9UznRg6MU"
      },
      "source": [
        "print(classification_report(y_test_tok, bilstm_pred))"
      ],
      "execution_count": null,
      "outputs": []
    },
    {
      "cell_type": "code",
      "metadata": {
        "id": "JOvwObgZg6MV"
      },
      "source": [
        "conf_matrix = confusion_matrix(y_test_tok.argmax(axis=1), bilstm_pred.argmax(axis=1))\r\n",
        "print(conf_matrix)"
      ],
      "execution_count": null,
      "outputs": []
    },
    {
      "cell_type": "code",
      "metadata": {
        "colab": {
          "base_uri": "https://localhost:8080/",
          "height": 284
        },
        "id": "qJTquQ4Gg6MW",
        "outputId": "aae6b38b-468f-4e49-96c7-b3b80672f473"
      },
      "source": [
        "sns.heatmap(conf_matrix/np.sum(conf_matrix), annot=True)"
      ],
      "execution_count": null,
      "outputs": [
        {
          "output_type": "execute_result",
          "data": {
            "text/plain": [
              "<matplotlib.axes._subplots.AxesSubplot at 0x7fcb4f4993d0>"
            ]
          },
          "metadata": {
            "tags": []
          },
          "execution_count": 144
        },
        {
          "output_type": "display_data",
          "data": {
            "image/png": "[encoded data removed]",
            "text/plain": [
              "<Figure size 432x288 with 2 Axes>"
            ]
          },
          "metadata": {
            "tags": [],
            "needs_background": "light"
          }
        }
      ]
    },
    {
      "cell_type": "code",
      "metadata": {
        "id": "FNGaeDr3e1eg"
      },
      "source": [
        "#lstm_model.save(\"BiLSTM\")"
      ],
      "execution_count": null,
      "outputs": []
    },
    {
      "cell_type": "markdown",
      "metadata": {
        "id": "kSpLsMowniq3"
      },
      "source": [
        "### Via Transformer"
      ]
    },
    {
      "cell_type": "markdown",
      "metadata": {
        "id": "uSVeMAXznyuK"
      },
      "source": [
        "https://keras.io/examples/nlp/text_classification_with_transformer/"
      ]
    },
    {
      "cell_type": "code",
      "metadata": {
        "colab": {
          "base_uri": "https://localhost:8080/",
          "height": 1000
        },
        "id": "frgPsQu3nkX8",
        "outputId": "21bdf47d-0140-481f-beac-d56fd4302c84"
      },
      "source": [
        "#Implement a Transformer block as a layer\r\n",
        "\r\n",
        "!pip install tf-nightly\r\n",
        "\r\n",
        "class TransformerBlock(layers.Layer):\r\n",
        "    def __init__(self, embed_dim, num_heads, ff_dim, rate=0.1):\r\n",
        "        super(TransformerBlock, self).__init__()\r\n",
        "        self.att = layers.MultiHeadAttention(num_heads=num_heads, key_dim=embed_dim)\r\n",
        "        self.ffn = keras.Sequential(\r\n",
        "            [layers.Dense(ff_dim, activation=\"relu\"), layers.Dense(embed_dim),]\r\n",
        "        )\r\n",
        "        self.layernorm1 = layers.LayerNormalization(epsilon=1e-6)\r\n",
        "        self.layernorm2 = layers.LayerNormalization(epsilon=1e-6)\r\n",
        "        self.dropout1 = layers.Dropout(rate)\r\n",
        "        self.dropout2 = layers.Dropout(rate)\r\n",
        "\r\n",
        "    def call(self, inputs, training):\r\n",
        "        attn_output = self.att(inputs, inputs)\r\n",
        "        attn_output = self.dropout1(attn_output, training=training)\r\n",
        "        out1 = self.layernorm1(inputs + attn_output)\r\n",
        "        ffn_output = self.ffn(out1)\r\n",
        "        ffn_output = self.dropout2(ffn_output, training=training)\r\n",
        "        return self.layernorm2(out1 + ffn_output)"
      ],
      "execution_count": null,
      "outputs": [
        {
          "output_type": "stream",
          "text": [
            "Collecting tf-nightly\n",
            "\u001b[?25l  Downloading https://files.pythonhosted.org/packages/cb/db/a9e8b9a6e8be932d30064a50d6944c6dc4821690afc8b318a4adac5be7fd/tf_nightly-2.5.0.dev20210301-cp37-cp37m-manylinux2010_x86_64.whl (409.0MB)\n",
            "\u001b[K     |████████████████████████████████| 409.0MB 44kB/s \n",
            "\u001b[?25hCollecting gast==0.4.0\n",
            "  Downloading https://files.pythonhosted.org/packages/b6/48/583c032b79ae5b3daa02225a675aeb673e58d2cb698e78510feceb11958c/gast-0.4.0-py3-none-any.whl\n",
            "Requirement already satisfied: absl-py~=0.10 in /usr/local/lib/python3.7/dist-packages (from tf-nightly) (0.10.0)\n",
            "Requirement already satisfied: termcolor~=1.1.0 in /usr/local/lib/python3.7/dist-packages (from tf-nightly) (1.1.0)\n",
            "Requirement already satisfied: keras-preprocessing~=1.1.2 in /usr/local/lib/python3.7/dist-packages (from tf-nightly) (1.1.2)\n",
            "Requirement already satisfied: wheel~=0.35 in /usr/local/lib/python3.7/dist-packages (from tf-nightly) (0.36.2)\n",
            "Requirement already satisfied: astunparse~=1.6.3 in /usr/local/lib/python3.7/dist-packages (from tf-nightly) (1.6.3)\n",
            "Collecting h5py~=3.1.0\n",
            "\u001b[?25l  Downloading https://files.pythonhosted.org/packages/9d/74/9eae2bedd8201ab464308f42c601a12d79727a1c87f0c867fdefb212c6cf/h5py-3.1.0-cp37-cp37m-manylinux1_x86_64.whl (4.0MB)\n",
            "\u001b[K     |████████████████████████████████| 4.0MB 52.1MB/s \n",
            "\u001b[?25hRequirement already satisfied: protobuf>=3.9.2 in /usr/local/lib/python3.7/dist-packages (from tf-nightly) (3.12.4)\n",
            "Requirement already satisfied: six~=1.15.0 in /usr/local/lib/python3.7/dist-packages (from tf-nightly) (1.15.0)\n",
            "Collecting tb-nightly~=2.5.0.a\n",
            "\u001b[?25l  Downloading https://files.pythonhosted.org/packages/d9/5d/c4dcd14ee626f6dc4e688517a374ddf60e775c8b28151414bb10de5e0778/tb_nightly-2.5.0a20210301-py3-none-any.whl (5.9MB)\n",
            "\u001b[K     |████████████████████████████████| 5.9MB 25.0MB/s \n",
            "\u001b[?25hCollecting grpcio~=1.34.0\n",
            "\u001b[?25l  Downloading https://files.pythonhosted.org/packages/d5/d1/f38a91d8724706427fe973a7dfa11e938cee98aa7196b03d870a25a08bab/grpcio-1.34.1-cp37-cp37m-manylinux2014_x86_64.whl (4.0MB)\n",
            "\u001b[K     |████████████████████████████████| 4.0MB 43.7MB/s \n",
            "\u001b[?25hRequirement already satisfied: opt-einsum~=3.3.0 in /usr/local/lib/python3.7/dist-packages (from tf-nightly) (3.3.0)\n",
            "Requirement already satisfied: typing-extensions~=3.7.4 in /usr/local/lib/python3.7/dist-packages (from tf-nightly) (3.7.4.3)\n",
            "Requirement already satisfied: google-pasta~=0.2 in /usr/local/lib/python3.7/dist-packages (from tf-nightly) (0.2.0)\n",
            "Collecting tf-estimator-nightly~=2.5.0.dev\n",
            "\u001b[?25l  Downloading https://files.pythonhosted.org/packages/6b/0a/ad0233ca628c5c9af8219676406d4f71f3036b8f53a03a1300e50b91021c/tf_estimator_nightly-2.5.0.dev2021030101-py2.py3-none-any.whl (462kB)\n",
            "\u001b[K     |████████████████████████████████| 471kB 55.5MB/s \n",
            "\u001b[?25hRequirement already satisfied: numpy~=1.19.2 in /usr/local/lib/python3.7/dist-packages (from tf-nightly) (1.19.5)\n",
            "Requirement already satisfied: wrapt~=1.12.1 in /usr/local/lib/python3.7/dist-packages (from tf-nightly) (1.12.1)\n",
            "Requirement already satisfied: flatbuffers~=1.12.0 in /usr/local/lib/python3.7/dist-packages (from tf-nightly) (1.12)\n",
            "Collecting cached-property; python_version < \"3.8\"\n",
            "  Downloading https://files.pythonhosted.org/packages/48/19/f2090f7dad41e225c7f2326e4cfe6fff49e57dedb5b53636c9551f86b069/cached_property-1.5.2-py2.py3-none-any.whl\n",
            "Requirement already satisfied: setuptools in /usr/local/lib/python3.7/dist-packages (from protobuf>=3.9.2->tf-nightly) (53.0.0)\n",
            "Requirement already satisfied: tensorboard-plugin-wit>=1.6.0 in /usr/local/lib/python3.7/dist-packages (from tb-nightly~=2.5.0.a->tf-nightly) (1.8.0)\n",
            "Requirement already satisfied: requests<3,>=2.21.0 in /usr/local/lib/python3.7/dist-packages (from tb-nightly~=2.5.0.a->tf-nightly) (2.23.0)\n",
            "Collecting tensorboard-data-server<0.4.0,>=0.3.0\n",
            "\u001b[?25l  Downloading https://files.pythonhosted.org/packages/f2/6f/a1a04f6aece9cdabe80fba01241e76172380753801e34ad50d482fbde0c0/tensorboard_data_server-0.3.0-py3-none-manylinux2010_x86_64.whl (3.8MB)\n",
            "\u001b[K     |████████████████████████████████| 3.8MB 48.2MB/s \n",
            "\u001b[?25hRequirement already satisfied: werkzeug>=0.11.15 in /usr/local/lib/python3.7/dist-packages (from tb-nightly~=2.5.0.a->tf-nightly) (1.0.1)\n",
            "Requirement already satisfied: markdown>=2.6.8 in /usr/local/lib/python3.7/dist-packages (from tb-nightly~=2.5.0.a->tf-nightly) (3.3.4)\n",
            "Requirement already satisfied: google-auth<2,>=1.6.3 in /usr/local/lib/python3.7/dist-packages (from tb-nightly~=2.5.0.a->tf-nightly) (1.27.0)\n",
            "Requirement already satisfied: google-auth-oauthlib<0.5,>=0.4.1 in /usr/local/lib/python3.7/dist-packages (from tb-nightly~=2.5.0.a->tf-nightly) (0.4.2)\n",
            "Requirement already satisfied: idna<3,>=2.5 in /usr/local/lib/python3.7/dist-packages (from requests<3,>=2.21.0->tb-nightly~=2.5.0.a->tf-nightly) (2.10)\n",
            "Requirement already satisfied: certifi>=2017.4.17 in /usr/local/lib/python3.7/dist-packages (from requests<3,>=2.21.0->tb-nightly~=2.5.0.a->tf-nightly) (2020.12.5)\n",
            "Requirement already satisfied: chardet<4,>=3.0.2 in /usr/local/lib/python3.7/dist-packages (from requests<3,>=2.21.0->tb-nightly~=2.5.0.a->tf-nightly) (3.0.4)\n",
            "Requirement already satisfied: urllib3!=1.25.0,!=1.25.1,<1.26,>=1.21.1 in /usr/local/lib/python3.7/dist-packages (from requests<3,>=2.21.0->tb-nightly~=2.5.0.a->tf-nightly) (1.24.3)\n",
            "Requirement already satisfied: importlib-metadata; python_version < \"3.8\" in /usr/local/lib/python3.7/dist-packages (from markdown>=2.6.8->tb-nightly~=2.5.0.a->tf-nightly) (3.7.0)\n",
            "Requirement already satisfied: cachetools<5.0,>=2.0.0 in /usr/local/lib/python3.7/dist-packages (from google-auth<2,>=1.6.3->tb-nightly~=2.5.0.a->tf-nightly) (4.2.1)\n",
            "Requirement already satisfied: rsa<5,>=3.1.4; python_version >= \"3.6\" in /usr/local/lib/python3.7/dist-packages (from google-auth<2,>=1.6.3->tb-nightly~=2.5.0.a->tf-nightly) (4.7.2)\n",
            "Requirement already satisfied: pyasn1-modules>=0.2.1 in /usr/local/lib/python3.7/dist-packages (from google-auth<2,>=1.6.3->tb-nightly~=2.5.0.a->tf-nightly) (0.2.8)\n",
            "Requirement already satisfied: requests-oauthlib>=0.7.0 in /usr/local/lib/python3.7/dist-packages (from google-auth-oauthlib<0.5,>=0.4.1->tb-nightly~=2.5.0.a->tf-nightly) (1.3.0)\n",
            "Requirement already satisfied: zipp>=0.5 in /usr/local/lib/python3.7/dist-packages (from importlib-metadata; python_version < \"3.8\"->markdown>=2.6.8->tb-nightly~=2.5.0.a->tf-nightly) (3.4.0)\n",
            "Requirement already satisfied: pyasn1>=0.1.3 in /usr/local/lib/python3.7/dist-packages (from rsa<5,>=3.1.4; python_version >= \"3.6\"->google-auth<2,>=1.6.3->tb-nightly~=2.5.0.a->tf-nightly) (0.4.8)\n",
            "Requirement already satisfied: oauthlib>=3.0.0 in /usr/local/lib/python3.7/dist-packages (from requests-oauthlib>=0.7.0->google-auth-oauthlib<0.5,>=0.4.1->tb-nightly~=2.5.0.a->tf-nightly) (3.1.0)\n",
            "\u001b[31mERROR: tensorflow 2.4.1 has requirement gast==0.3.3, but you'll have gast 0.4.0 which is incompatible.\u001b[0m\n",
            "\u001b[31mERROR: tensorflow 2.4.1 has requirement grpcio~=1.32.0, but you'll have grpcio 1.34.1 which is incompatible.\u001b[0m\n",
            "\u001b[31mERROR: tensorflow 2.4.1 has requirement h5py~=2.10.0, but you'll have h5py 3.1.0 which is incompatible.\u001b[0m\n",
            "Installing collected packages: gast, cached-property, h5py, grpcio, tensorboard-data-server, tb-nightly, tf-estimator-nightly, tf-nightly\n",
            "  Found existing installation: gast 0.3.3\n",
            "    Uninstalling gast-0.3.3:\n",
            "      Successfully uninstalled gast-0.3.3\n",
            "  Found existing installation: h5py 2.10.0\n",
            "    Uninstalling h5py-2.10.0:\n",
            "      Successfully uninstalled h5py-2.10.0\n",
            "  Found existing installation: grpcio 1.32.0\n",
            "    Uninstalling grpcio-1.32.0:\n",
            "      Successfully uninstalled grpcio-1.32.0\n",
            "Successfully installed cached-property-1.5.2 gast-0.4.0 grpcio-1.34.1 h5py-3.1.0 tb-nightly-2.5.0a20210301 tensorboard-data-server-0.3.0 tf-estimator-nightly-2.5.0.dev2021030101 tf-nightly-2.5.0.dev20210301\n"
          ],
          "name": "stdout"
        },
        {
          "output_type": "display_data",
          "data": {
            "application/vnd.colab-display-data+json": {
              "pip_warning": {
                "packages": [
                  "gast",
                  "grpc",
                  "h5py",
                  "tensorboard",
                  "tensorflow",
                  "tensorflow_estimator"
                ]
              }
            }
          },
          "metadata": {
            "tags": []
          }
        }
      ]
    },
    {
      "cell_type": "code",
      "metadata": {
        "id": "IwWC98Vwn3IP"
      },
      "source": [
        "#Implement embedding layer\r\n",
        "#Two seperate embedding layers, one for tokens, one for token index (positions).\r\n",
        "\r\n",
        "class TokenAndPositionEmbedding(layers.Layer):\r\n",
        "    def __init__(self, maxlen, vocab_size, embed_dim):\r\n",
        "        super(TokenAndPositionEmbedding, self).__init__()\r\n",
        "        self.token_emb = layers.Embedding(input_dim=vocab_size, output_dim=embed_dim)\r\n",
        "        self.pos_emb = layers.Embedding(input_dim=maxlen, output_dim=embed_dim)\r\n",
        "\r\n",
        "    def call(self, x):\r\n",
        "        maxlen = tf.shape(x)[-1]\r\n",
        "        positions = tf.range(start=0, limit=maxlen, delta=1)\r\n",
        "        positions = self.pos_emb(positions)\r\n",
        "        x = self.token_emb(x)\r\n",
        "        return x + positions"
      ],
      "execution_count": null,
      "outputs": []
    },
    {
      "cell_type": "code",
      "metadata": {
        "id": "dJ_inM1moGyf"
      },
      "source": [
        "#Create classifier model using transformer layer\r\n",
        "\r\n",
        "embed_dim = 32  # Embedding size for each token (vs 32 ?)\r\n",
        "num_heads = 2  # Number of attention heads \r\n",
        "ff_dim = 32  # Hidden layer size in feed forward network inside transformer\r\n",
        "\r\n",
        "inputs = layers.Input(shape=(maxlen,))\r\n",
        "embedding_layer = TokenAndPositionEmbedding(maxlen, vocab_size, embed_dim)\r\n",
        "x = embedding_layer(inputs)\r\n",
        "transformer_block = TransformerBlock(embed_dim, num_heads, ff_dim)\r\n",
        "x = transformer_block(x)\r\n",
        "x = layers.GlobalAveragePooling1D()(x)\r\n",
        "x = layers.Dropout(0.1)(x)\r\n",
        "x = layers.Dense(embed_dim, activation=\"relu\")(x)\r\n",
        "x = layers.Dropout(0.1)(x)\r\n",
        "outputs = layers.Dense(5, activation=\"softmax\")(x)\r\n",
        "\r\n",
        "transfo_model = keras.Model(inputs=inputs, outputs=outputs)"
      ],
      "execution_count": null,
      "outputs": []
    },
    {
      "cell_type": "code",
      "metadata": {
        "colab": {
          "base_uri": "https://localhost:8080/"
        },
        "id": "u5LcTtkrqBE_",
        "outputId": "5d794eda-42b9-4cc7-9cce-b8811bc1c0cd"
      },
      "source": [
        "#Train and Evaluate\r\n",
        "early_stopping_callback_loss = tf.keras.callbacks.EarlyStopping(monitor = 'loss', patience = 1)\r\n",
        "early_stopping_callback_val_loss = tf.keras.callbacks.EarlyStopping(monitor = 'val_loss', patience = 1)\r\n",
        "\r\n",
        "transfo_model.compile(\"adam\", \"categorical_crossentropy\", metrics=[\"accuracy\"])\r\n",
        "transfo_history = transfo_model.fit(\r\n",
        "    X_train_tok, y_train_tok, validation_split=0.2, batch_size=512, epochs=4 , \\\r\n",
        "                         callbacks = [early_stopping_callback_loss, early_stopping_callback_val_loss], verbose=1)"
      ],
      "execution_count": null,
      "outputs": [
        {
          "output_type": "stream",
          "text": [
            "Epoch 1/4\n",
            "WARNING:tensorflow:AutoGraph could not transform <function Model.make_train_function.<locals>.train_function at 0x7ff6827e6320> and will run it as-is.\n",
            "Please report this to the TensorFlow team. When filing the bug, set the verbosity to 10 (on Linux, `export AUTOGRAPH_VERBOSITY=10`) and attach the full output.\n",
            "Cause: closure mismatch, requested ('self', 'step_function'), but source function had ()\n",
            "To silence this warning, decorate the function with @tf.autograph.experimental.do_not_convert\n",
            "WARNING: AutoGraph could not transform <function Model.make_train_function.<locals>.train_function at 0x7ff6827e6320> and will run it as-is.\n",
            "Please report this to the TensorFlow team. When filing the bug, set the verbosity to 10 (on Linux, `export AUTOGRAPH_VERBOSITY=10`) and attach the full output.\n",
            "Cause: closure mismatch, requested ('self', 'step_function'), but source function had ()\n",
            "To silence this warning, decorate the function with @tf.autograph.experimental.do_not_convert\n",
            "493/494 [============================>.] - ETA: 0s - loss: 1.2310 - accuracy: 0.5442WARNING:tensorflow:AutoGraph could not transform <function Model.make_test_function.<locals>.test_function at 0x7ff686aa7950> and will run it as-is.\n",
            "Please report this to the TensorFlow team. When filing the bug, set the verbosity to 10 (on Linux, `export AUTOGRAPH_VERBOSITY=10`) and attach the full output.\n",
            "Cause: closure mismatch, requested ('self', 'step_function'), but source function had ()\n",
            "To silence this warning, decorate the function with @tf.autograph.experimental.do_not_convert\n",
            "WARNING: AutoGraph could not transform <function Model.make_test_function.<locals>.test_function at 0x7ff686aa7950> and will run it as-is.\n",
            "Please report this to the TensorFlow team. When filing the bug, set the verbosity to 10 (on Linux, `export AUTOGRAPH_VERBOSITY=10`) and attach the full output.\n",
            "Cause: closure mismatch, requested ('self', 'step_function'), but source function had ()\n",
            "To silence this warning, decorate the function with @tf.autograph.experimental.do_not_convert\n",
            "494/494 [==============================] - 42s 78ms/step - loss: 1.2301 - accuracy: 0.5446 - val_loss: 0.6364 - val_accuracy: 0.7764\n",
            "Epoch 2/4\n",
            "494/494 [==============================] - 38s 77ms/step - loss: 0.5555 - accuracy: 0.8080 - val_loss: 0.4813 - val_accuracy: 0.8443\n",
            "Epoch 3/4\n",
            "494/494 [==============================] - 38s 77ms/step - loss: 0.3876 - accuracy: 0.8735 - val_loss: 0.4408 - val_accuracy: 0.8610\n",
            "Epoch 4/4\n",
            "494/494 [==============================] - 38s 77ms/step - loss: 0.3081 - accuracy: 0.9014 - val_loss: 0.4463 - val_accuracy: 0.8639\n"
          ],
          "name": "stdout"
        }
      ]
    },
    {
      "cell_type": "code",
      "metadata": {
        "colab": {
          "base_uri": "https://localhost:8080/",
          "height": 295
        },
        "id": "STnZkBCAwUpb",
        "outputId": "4fccbe97-ffb8-4b46-9460-3b216517d88e"
      },
      "source": [
        "plt.plot(transfo_history.history['loss'])\r\n",
        "plt.plot(transfo_history.history['val_loss'])\r\n",
        "plt.title('model train vs validation loss')\r\n",
        "plt.ylabel('loss')\r\n",
        "plt.xlabel('epoch')\r\n",
        "plt.legend(['train', 'validation'], loc='upper right')\r\n",
        "plt.show()"
      ],
      "execution_count": null,
      "outputs": [
        {
          "output_type": "display_data",
          "data": {
            "image/png": "[encoded data removed]",
            "text/plain": [
              "<Figure size 432x288 with 1 Axes>"
            ]
          },
          "metadata": {
            "tags": [],
            "needs_background": "light"
          }
        }
      ]
    },
    {
      "cell_type": "code",
      "metadata": {
        "colab": {
          "base_uri": "https://localhost:8080/"
        },
        "id": "ZBv5TfJJwUp7",
        "outputId": "b921e93e-9567-48bf-ccc0-5e561271ffde"
      },
      "source": [
        "transfo_pred = (transfo_model.predict(X_test_tok) >= 0.5).astype(\"int\")"
      ],
      "execution_count": null,
      "outputs": [
        {
          "output_type": "stream",
          "text": [
            "WARNING:tensorflow:AutoGraph could not transform <function Model.make_predict_function.<locals>.predict_function at 0x7ff686988200> and will run it as-is.\n",
            "Please report this to the TensorFlow team. When filing the bug, set the verbosity to 10 (on Linux, `export AUTOGRAPH_VERBOSITY=10`) and attach the full output.\n",
            "Cause: closure mismatch, requested ('self', 'step_function'), but source function had ()\n",
            "To silence this warning, decorate the function with @tf.autograph.experimental.do_not_convert\n",
            "WARNING: AutoGraph could not transform <function Model.make_predict_function.<locals>.predict_function at 0x7ff686988200> and will run it as-is.\n",
            "Please report this to the TensorFlow team. When filing the bug, set the verbosity to 10 (on Linux, `export AUTOGRAPH_VERBOSITY=10`) and attach the full output.\n",
            "Cause: closure mismatch, requested ('self', 'step_function'), but source function had ()\n",
            "To silence this warning, decorate the function with @tf.autograph.experimental.do_not_convert\n"
          ],
          "name": "stdout"
        }
      ]
    },
    {
      "cell_type": "code",
      "metadata": {
        "colab": {
          "base_uri": "https://localhost:8080/"
        },
        "id": "UmMDosS0wUp8",
        "outputId": "9892fe1d-5b68-4b5c-b06e-cad955293701"
      },
      "source": [
        "print(classification_report(y_test_tok, transfo_pred))"
      ],
      "execution_count": null,
      "outputs": [
        {
          "output_type": "stream",
          "text": [
            "              precision    recall  f1-score   support\n",
            "\n",
            "           0       0.81      0.72      0.76     10683\n",
            "           1       0.79      0.83      0.81      5481\n",
            "           2       0.81      0.69      0.75      9460\n",
            "           3       0.96      0.93      0.94     39885\n",
            "           4       0.83      0.81      0.82     13410\n",
            "\n",
            "   micro avg       0.89      0.84      0.87     78919\n",
            "   macro avg       0.84      0.79      0.81     78919\n",
            "weighted avg       0.89      0.84      0.86     78919\n",
            " samples avg       0.84      0.84      0.84     78919\n",
            "\n"
          ],
          "name": "stdout"
        }
      ]
    },
    {
      "cell_type": "code",
      "metadata": {
        "colab": {
          "base_uri": "https://localhost:8080/"
        },
        "id": "W6DkINn1wUp9",
        "outputId": "a470573e-b63f-405f-dff0-4b38a17e49ef"
      },
      "source": [
        "conf_matrix = confusion_matrix(y_test_tok.argmax(axis=1), transfo_pred.argmax(axis=1))\r\n",
        "print(conf_matrix)"
      ],
      "execution_count": null,
      "outputs": [
        {
          "output_type": "stream",
          "text": [
            "[[ 9098    90   215   433   781]\n",
            " [  870  4024   364   109   125]\n",
            " [ 2096   117  6185   502   650]\n",
            " [ 1393   177   388 37149   637]\n",
            " [ 1797    61   162   606 10890]]\n"
          ],
          "name": "stdout"
        }
      ]
    },
    {
      "cell_type": "code",
      "metadata": {
        "colab": {
          "base_uri": "https://localhost:8080/",
          "height": 284
        },
        "id": "obbqte0IwUp-",
        "outputId": "f1b69e61-e4b6-4029-899b-14029f876486"
      },
      "source": [
        "sns.heatmap(conf_matrix/np.sum(conf_matrix), annot=True)"
      ],
      "execution_count": null,
      "outputs": [
        {
          "output_type": "execute_result",
          "data": {
            "text/plain": [
              "<matplotlib.axes._subplots.AxesSubplot at 0x7f92fadbbf10>"
            ]
          },
          "metadata": {
            "tags": []
          },
          "execution_count": 96
        },
        {
          "output_type": "display_data",
          "data": {
            "image/png": "[encoded data removed]",
            "text/plain": [
              "<Figure size 432x288 with 2 Axes>"
            ]
          },
          "metadata": {
            "tags": [],
            "needs_background": "light"
          }
        }
      ]
    },
    {
      "cell_type": "markdown",
      "metadata": {
        "id": "GM0W372-g6Ps"
      },
      "source": [
        "### Via CamemBERT"
      ]
    },
    {
      "cell_type": "markdown",
      "metadata": {
        "id": "ULAfGlizkeap"
      },
      "source": [
        "==> https://colab.sandbox.google.com/drive/1KgWs_sYNEL_ZnnZ_p7eTSevVb5xXx1Hu?usp=sharing#scrollTo=ELf3ehrNxY3k"
      ]
    },
    {
      "cell_type": "code",
      "metadata": {
        "id": "n-xa5hZTEcHW",
        "colab": {
          "base_uri": "https://localhost:8080/",
          "height": 1000
        },
        "outputId": "bbdaf167-fb80-4d56-b4c0-a7ce66ea49ee"
      },
      "source": [
        "!pip install transformers==3.5.1\r\n",
        "!pip install sentencepiece\r\n",
        "import torch\r\n",
        "from torch.utils.data import TensorDataset, random_split, \\\r\n",
        "                            DataLoader, RandomSampler, SequentialSampler\r\n",
        "from transformers import CamembertForSequenceClassification, CamembertTokenizer, \\\r\n",
        "                         AdamW, get_linear_schedule_with_warmup\r\n",
        "\r\n",
        "MAX_LEN = 128\r\n",
        "epochs = 6\r\n",
        "batch_size = 64\r\n",
        "device = torch.device('cuda' if torch.cuda.is_available() else 'cpu')\r\n",
        "\r\n",
        "text = dataset['cleanSentence'].to_list()\r\n",
        "labels = list(encoded_y)\r\n",
        "\r\n",
        "cam_tokenizer = CamembertTokenizer.from_pretrained(\r\n",
        "    'camembert-base', do_lower_case=True)"
      ],
      "execution_count": 74,
      "outputs": [
        {
          "output_type": "stream",
          "text": [
            "Collecting transformers==3.5.1\n",
            "\u001b[?25l  Downloading https://files.pythonhosted.org/packages/3a/83/e74092e7f24a08d751aa59b37a9fc572b2e4af3918cb66f7766c3affb1b4/transformers-3.5.1-py3-none-any.whl (1.3MB)\n",
            "\u001b[K     |████████████████████████████████| 1.3MB 6.3MB/s \n",
            "\u001b[?25hCollecting sacremoses\n",
            "\u001b[?25l  Downloading https://files.pythonhosted.org/packages/7d/34/09d19aff26edcc8eb2a01bed8e98f13a1537005d31e95233fd48216eed10/sacremoses-0.0.43.tar.gz (883kB)\n",
            "\u001b[K     |████████████████████████████████| 890kB 16.9MB/s \n",
            "\u001b[?25hRequirement already satisfied: numpy in /usr/local/lib/python3.7/dist-packages (from transformers==3.5.1) (1.19.5)\n",
            "Requirement already satisfied: regex!=2019.12.17 in /usr/local/lib/python3.7/dist-packages (from transformers==3.5.1) (2019.12.20)\n",
            "Requirement already satisfied: tqdm>=4.27 in /usr/local/lib/python3.7/dist-packages (from transformers==3.5.1) (4.41.1)\n",
            "Requirement already satisfied: filelock in /usr/local/lib/python3.7/dist-packages (from transformers==3.5.1) (3.0.12)\n",
            "Requirement already satisfied: packaging in /usr/local/lib/python3.7/dist-packages (from transformers==3.5.1) (20.9)\n",
            "Requirement already satisfied: protobuf in /usr/local/lib/python3.7/dist-packages (from transformers==3.5.1) (3.12.4)\n",
            "Requirement already satisfied: requests in /usr/local/lib/python3.7/dist-packages (from transformers==3.5.1) (2.23.0)\n",
            "Collecting tokenizers==0.9.3\n",
            "\u001b[?25l  Downloading https://files.pythonhosted.org/packages/7b/ac/f5ba028f0f097d855e1541301e946d4672eb0f30b6e25cb2369075f916d2/tokenizers-0.9.3-cp37-cp37m-manylinux1_x86_64.whl (2.9MB)\n",
            "\u001b[K     |████████████████████████████████| 2.9MB 27.1MB/s \n",
            "\u001b[?25hCollecting sentencepiece==0.1.91\n",
            "\u001b[?25l  Downloading https://files.pythonhosted.org/packages/f2/e2/813dff3d72df2f49554204e7e5f73a3dc0f0eb1e3958a4cad3ef3fb278b7/sentencepiece-0.1.91-cp37-cp37m-manylinux1_x86_64.whl (1.1MB)\n",
            "\u001b[K     |████████████████████████████████| 1.1MB 35.6MB/s \n",
            "\u001b[?25hRequirement already satisfied: six in /usr/local/lib/python3.7/dist-packages (from sacremoses->transformers==3.5.1) (1.15.0)\n",
            "Requirement already satisfied: click in /usr/local/lib/python3.7/dist-packages (from sacremoses->transformers==3.5.1) (7.1.2)\n",
            "Requirement already satisfied: joblib in /usr/local/lib/python3.7/dist-packages (from sacremoses->transformers==3.5.1) (1.0.1)\n",
            "Requirement already satisfied: pyparsing>=2.0.2 in /usr/local/lib/python3.7/dist-packages (from packaging->transformers==3.5.1) (2.4.7)\n",
            "Requirement already satisfied: setuptools in /usr/local/lib/python3.7/dist-packages (from protobuf->transformers==3.5.1) (54.0.0)\n",
            "Requirement already satisfied: idna<3,>=2.5 in /usr/local/lib/python3.7/dist-packages (from requests->transformers==3.5.1) (2.10)\n",
            "Requirement already satisfied: urllib3!=1.25.0,!=1.25.1,<1.26,>=1.21.1 in /usr/local/lib/python3.7/dist-packages (from requests->transformers==3.5.1) (1.24.3)\n",
            "Requirement already satisfied: chardet<4,>=3.0.2 in /usr/local/lib/python3.7/dist-packages (from requests->transformers==3.5.1) (3.0.4)\n",
            "Requirement already satisfied: certifi>=2017.4.17 in /usr/local/lib/python3.7/dist-packages (from requests->transformers==3.5.1) (2020.12.5)\n",
            "Building wheels for collected packages: sacremoses\n",
            "  Building wheel for sacremoses (setup.py) ... \u001b[?25l\u001b[?25hdone\n",
            "  Created wheel for sacremoses: filename=sacremoses-0.0.43-cp37-none-any.whl size=893262 sha256=aeb2530dd28b18194070acc056e8d9a30cd7c8a88ff70590739bf25521531ddb\n",
            "  Stored in directory: /root/.cache/pip/wheels/29/3c/fd/7ce5c3f0666dab31a50123635e6fb5e19ceb42ce38d4e58f45\n",
            "Successfully built sacremoses\n",
            "Installing collected packages: sacremoses, tokenizers, sentencepiece, transformers\n",
            "Successfully installed sacremoses-0.0.43 sentencepiece-0.1.91 tokenizers-0.9.3 transformers-3.5.1\n",
            "Requirement already satisfied: sentencepiece in /usr/local/lib/python3.7/dist-packages (0.1.91)\n"
          ],
          "name": "stdout"
        },
        {
          "output_type": "error",
          "ename": "ImportError",
          "evalue": "ignored",
          "traceback": [
            "\u001b[0;31m---------------------------------------------------------------------------\u001b[0m",
            "\u001b[0;31mImportError\u001b[0m                               Traceback (most recent call last)",
            "\u001b[0;32m<ipython-input-74-6c4d6ad82e38>\u001b[0m in \u001b[0;36m<module>\u001b[0;34m()\u001b[0m\n\u001b[1;32m      3\u001b[0m \u001b[0;32mimport\u001b[0m \u001b[0mtorch\u001b[0m\u001b[0;34m\u001b[0m\u001b[0;34m\u001b[0m\u001b[0m\n\u001b[1;32m      4\u001b[0m \u001b[0;32mfrom\u001b[0m \u001b[0mtorch\u001b[0m\u001b[0;34m.\u001b[0m\u001b[0mutils\u001b[0m\u001b[0;34m.\u001b[0m\u001b[0mdata\u001b[0m \u001b[0;32mimport\u001b[0m \u001b[0mTensorDataset\u001b[0m\u001b[0;34m,\u001b[0m \u001b[0mrandom_split\u001b[0m\u001b[0;34m,\u001b[0m                             \u001b[0mDataLoader\u001b[0m\u001b[0;34m,\u001b[0m \u001b[0mRandomSampler\u001b[0m\u001b[0;34m,\u001b[0m \u001b[0mSequentialSampler\u001b[0m\u001b[0;34m\u001b[0m\u001b[0;34m\u001b[0m\u001b[0m\n\u001b[0;32m----> 5\u001b[0;31m \u001b[0;32mfrom\u001b[0m \u001b[0mtransformers\u001b[0m \u001b[0;32mimport\u001b[0m \u001b[0mCamembertForSequenceClassification\u001b[0m\u001b[0;34m,\u001b[0m \u001b[0mCamembertTokenizer\u001b[0m\u001b[0;34m,\u001b[0m                          \u001b[0mAdamW\u001b[0m\u001b[0;34m,\u001b[0m \u001b[0mget_linear_schedule_with_warmup\u001b[0m\u001b[0;34m\u001b[0m\u001b[0;34m\u001b[0m\u001b[0m\n\u001b[0m\u001b[1;32m      6\u001b[0m \u001b[0;34m\u001b[0m\u001b[0m\n\u001b[1;32m      7\u001b[0m \u001b[0mMAX_LEN\u001b[0m \u001b[0;34m=\u001b[0m \u001b[0;36m128\u001b[0m\u001b[0;34m\u001b[0m\u001b[0;34m\u001b[0m\u001b[0m\n",
            "\u001b[0;32m/usr/local/lib/python3.7/dist-packages/transformers/__init__.py\u001b[0m in \u001b[0;36m<module>\u001b[0;34m()\u001b[0m\n\u001b[1;32m    624\u001b[0m \u001b[0;34m\u001b[0m\u001b[0m\n\u001b[1;32m    625\u001b[0m     \u001b[0;31m# Trainer\u001b[0m\u001b[0;34m\u001b[0m\u001b[0;34m\u001b[0m\u001b[0;34m\u001b[0m\u001b[0m\n\u001b[0;32m--> 626\u001b[0;31m     \u001b[0;32mfrom\u001b[0m \u001b[0;34m.\u001b[0m\u001b[0mtrainer\u001b[0m \u001b[0;32mimport\u001b[0m \u001b[0mTrainer\u001b[0m\u001b[0;34m\u001b[0m\u001b[0;34m\u001b[0m\u001b[0m\n\u001b[0m\u001b[1;32m    627\u001b[0m     \u001b[0;32mfrom\u001b[0m \u001b[0;34m.\u001b[0m\u001b[0mtrainer_pt_utils\u001b[0m \u001b[0;32mimport\u001b[0m \u001b[0mtorch_distributed_zero_first\u001b[0m\u001b[0;34m\u001b[0m\u001b[0;34m\u001b[0m\u001b[0m\n\u001b[1;32m    628\u001b[0m \u001b[0;32melse\u001b[0m\u001b[0;34m:\u001b[0m\u001b[0;34m\u001b[0m\u001b[0;34m\u001b[0m\u001b[0m\n",
            "\u001b[0;32m/usr/local/lib/python3.7/dist-packages/transformers/trainer.py\u001b[0m in \u001b[0;36m<module>\u001b[0;34m()\u001b[0m\n\u001b[1;32m     67\u001b[0m     \u001b[0mTrainerState\u001b[0m\u001b[0;34m,\u001b[0m\u001b[0;34m\u001b[0m\u001b[0;34m\u001b[0m\u001b[0m\n\u001b[1;32m     68\u001b[0m )\n\u001b[0;32m---> 69\u001b[0;31m from .trainer_pt_utils import (\n\u001b[0m\u001b[1;32m     70\u001b[0m     \u001b[0mDistributedTensorGatherer\u001b[0m\u001b[0;34m,\u001b[0m\u001b[0;34m\u001b[0m\u001b[0;34m\u001b[0m\u001b[0m\n\u001b[1;32m     71\u001b[0m     \u001b[0mSequentialDistributedSampler\u001b[0m\u001b[0;34m,\u001b[0m\u001b[0;34m\u001b[0m\u001b[0;34m\u001b[0m\u001b[0m\n",
            "\u001b[0;32m/usr/local/lib/python3.7/dist-packages/transformers/trainer_pt_utils.py\u001b[0m in \u001b[0;36m<module>\u001b[0;34m()\u001b[0m\n\u001b[1;32m     38\u001b[0m     \u001b[0mSAVE_STATE_WARNING\u001b[0m \u001b[0;34m=\u001b[0m \u001b[0;34m\"\"\u001b[0m\u001b[0;34m\u001b[0m\u001b[0;34m\u001b[0m\u001b[0m\n\u001b[1;32m     39\u001b[0m \u001b[0;32melse\u001b[0m\u001b[0;34m:\u001b[0m\u001b[0;34m\u001b[0m\u001b[0;34m\u001b[0m\u001b[0m\n\u001b[0;32m---> 40\u001b[0;31m     \u001b[0;32mfrom\u001b[0m \u001b[0mtorch\u001b[0m\u001b[0;34m.\u001b[0m\u001b[0moptim\u001b[0m\u001b[0;34m.\u001b[0m\u001b[0mlr_scheduler\u001b[0m \u001b[0;32mimport\u001b[0m \u001b[0mSAVE_STATE_WARNING\u001b[0m\u001b[0;34m\u001b[0m\u001b[0;34m\u001b[0m\u001b[0m\n\u001b[0m\u001b[1;32m     41\u001b[0m \u001b[0;34m\u001b[0m\u001b[0m\n\u001b[1;32m     42\u001b[0m \u001b[0mlogger\u001b[0m \u001b[0;34m=\u001b[0m \u001b[0mlogging\u001b[0m\u001b[0;34m.\u001b[0m\u001b[0mget_logger\u001b[0m\u001b[0;34m(\u001b[0m\u001b[0m__name__\u001b[0m\u001b[0;34m)\u001b[0m\u001b[0;34m\u001b[0m\u001b[0;34m\u001b[0m\u001b[0m\n",
            "\u001b[0;31mImportError\u001b[0m: cannot import name 'SAVE_STATE_WARNING' from 'torch.optim.lr_scheduler' (/usr/local/lib/python3.7/dist-packages/torch/optim/lr_scheduler.py)",
            "",
            "\u001b[0;31m---------------------------------------------------------------------------\u001b[0;32m\nNOTE: If your import is failing due to a missing package, you can\nmanually install dependencies using either !pip or !apt.\n\nTo view examples of installing some common dependencies, click the\n\"Open Examples\" button below.\n\u001b[0;31m---------------------------------------------------------------------------\u001b[0m\n"
          ]
        }
      ]
    },
    {
      "cell_type": "code",
      "metadata": {
        "id": "_gHjb6NemS5r"
      },
      "source": [
        "def preprocess(raw_text, labels=None):\r\n",
        "    encoded_batch = cam_tokenizer.batch_encode_plus(raw_text,\r\n",
        "                                                truncation=True,\r\n",
        "                                                add_special_tokens=True,\r\n",
        "                                                pad_to_max_length=True,\r\n",
        "                                                max_length=MAX_LEN,\r\n",
        "                                                return_attention_mask=True,\r\n",
        "                                                return_tensors = 'pt')\r\n",
        "    if labels:\r\n",
        "        labels = torch.tensor(labels)\r\n",
        "        return encoded_batch['input_ids'], encoded_batch['attention_mask'], labels\r\n",
        "    return encoded_batch['input_ids'], encoded_batch['attention_mask']\r\n",
        "\r\n",
        "def format_time(elapsed):\r\n",
        "    # Round to the nearest second.\r\n",
        "    elapsed_rounded = int(round((elapsed)))\r\n",
        "    \r\n",
        "    return str(datetime.timedelta(seconds=elapsed_rounded))\r\n",
        "\r\n",
        "# Function to calculate the accuracy of our predictions vs labels\r\n",
        "def flat_accuracy(preds, labels):\r\n",
        "    pred_flat = np.argmax(preds, axis=1).flatten()\r\n",
        "    labels_flat = labels.flatten()\r\n",
        "    return np.sum(pred_flat == labels_flat) / len(labels_flat)\r\n",
        "\r\n",
        "\r\n",
        "# Split train-validation\r\n",
        "train_inputs, validation_inputs, train_labels, validation_labels = train_test_split(text, labels,\r\n",
        "                                                            random_state=42, test_size=0.2)"
      ],
      "execution_count": null,
      "outputs": []
    },
    {
      "cell_type": "code",
      "metadata": {
        "id": "ZguphheM04PA"
      },
      "source": [
        "train_input_ids, train_attention_mask, train_labels = preprocess(train_inputs, train_labels)\r\n",
        "# Combine the training inputs into a TensorDataset\r\n",
        "train_dataset = TensorDataset(\r\n",
        "    train_input_ids,\r\n",
        "    train_attention_mask,\r\n",
        "    train_labels)\r\n",
        "\r\n",
        "val_input_ids, val_attention_mask, validation_labels = preprocess(validation_inputs, validation_labels)\r\n",
        "# Combine the validation inputs into a TensorDataset\r\n",
        "validation_dataset = TensorDataset(\r\n",
        "    val_input_ids,\r\n",
        "    val_attention_mask,\r\n",
        "    validation_labels)"
      ],
      "execution_count": null,
      "outputs": []
    },
    {
      "cell_type": "code",
      "metadata": {
        "id": "0sCMhv4O5Px9"
      },
      "source": [
        "# Create the DataLoaders\r\n",
        "train_dataloader = DataLoader(\r\n",
        "            train_dataset,\r\n",
        "            sampler = RandomSampler(train_dataset),\r\n",
        "            batch_size = batch_size)\r\n",
        "\r\n",
        "validation_dataloader = DataLoader(\r\n",
        "            validation_dataset,\r\n",
        "            sampler = SequentialSampler(validation_dataset),\r\n",
        "            batch_size = batch_size)"
      ],
      "execution_count": null,
      "outputs": []
    },
    {
      "cell_type": "code",
      "metadata": {
        "colab": {
          "base_uri": "https://localhost:8080/"
        },
        "id": "UxBjW2Ol2G3L",
        "outputId": "83114510-2caa-4c86-f4e6-6c5f5d17b943"
      },
      "source": [
        "try:\r\n",
        "    state_dict = torch.load(\"Bert.pt\")\r\n",
        "    print(\"Loading trained model...\")\r\n",
        "    model = CamembertForSequenceClassification.from_pretrained(\r\n",
        "    'camembert-base',\r\n",
        "    state_dict=state_dict)\r\n",
        "    print(\"Trained model loaded!\")\r\n",
        "except Exception as e:\r\n",
        "    print(\"Unable to load trained model.\")\r\n",
        "    print(e)\r\n",
        "    model = CamembertForSequenceClassification.from_pretrained(\r\n",
        "        'camembert-base',\r\n",
        "        num_labels = 5)\r\n",
        "\r\n",
        "model.to(device) "
      ],
      "execution_count": null,
      "outputs": [
        {
          "output_type": "stream",
          "text": [
            "Unable to load trained model.\n",
            "[Errno 2] No such file or directory: 'Bert.pt'\n"
          ],
          "name": "stdout"
        },
        {
          "output_type": "stream",
          "text": [
            "Some weights of the model checkpoint at camembert-base were not used when initializing CamembertForSequenceClassification: ['lm_head.bias', 'lm_head.dense.weight', 'lm_head.dense.bias', 'lm_head.layer_norm.weight', 'lm_head.layer_norm.bias', 'lm_head.decoder.weight', 'roberta.pooler.dense.weight', 'roberta.pooler.dense.bias']\n",
            "- This IS expected if you are initializing CamembertForSequenceClassification from the checkpoint of a model trained on another task or with another architecture (e.g. initializing a BertForSequenceClassification model from a BertForPreTraining model).\n",
            "- This IS NOT expected if you are initializing CamembertForSequenceClassification from the checkpoint of a model that you expect to be exactly identical (initializing a BertForSequenceClassification model from a BertForSequenceClassification model).\n",
            "Some weights of CamembertForSequenceClassification were not initialized from the model checkpoint at camembert-base and are newly initialized: ['classifier.dense.weight', 'classifier.dense.bias', 'classifier.out_proj.weight', 'classifier.out_proj.bias']\n",
            "You should probably TRAIN this model on a down-stream task to be able to use it for predictions and inference.\n"
          ],
          "name": "stderr"
        },
        {
          "output_type": "execute_result",
          "data": {
            "text/plain": [
              "CamembertForSequenceClassification(\n",
              "  (roberta): RobertaModel(\n",
              "    (embeddings): RobertaEmbeddings(\n",
              "      (word_embeddings): Embedding(32005, 768, padding_idx=1)\n",
              "      (position_embeddings): Embedding(514, 768, padding_idx=1)\n",
              "      (token_type_embeddings): Embedding(1, 768)\n",
              "      (LayerNorm): LayerNorm((768,), eps=1e-05, elementwise_affine=True)\n",
              "      (dropout): Dropout(p=0.1, inplace=False)\n",
              "    )\n",
              "    (encoder): RobertaEncoder(\n",
              "      (layer): ModuleList(\n",
              "        (0): RobertaLayer(\n",
              "          (attention): RobertaAttention(\n",
              "            (self): RobertaSelfAttention(\n",
              "              (query): Linear(in_features=768, out_features=768, bias=True)\n",
              "              (key): Linear(in_features=768, out_features=768, bias=True)\n",
              "              (value): Linear(in_features=768, out_features=768, bias=True)\n",
              "              (dropout): Dropout(p=0.1, inplace=False)\n",
              "            )\n",
              "            (output): RobertaSelfOutput(\n",
              "              (dense): Linear(in_features=768, out_features=768, bias=True)\n",
              "              (LayerNorm): LayerNorm((768,), eps=1e-05, elementwise_affine=True)\n",
              "              (dropout): Dropout(p=0.1, inplace=False)\n",
              "            )\n",
              "          )\n",
              "          (intermediate): RobertaIntermediate(\n",
              "            (dense): Linear(in_features=768, out_features=3072, bias=True)\n",
              "          )\n",
              "          (output): RobertaOutput(\n",
              "            (dense): Linear(in_features=3072, out_features=768, bias=True)\n",
              "            (LayerNorm): LayerNorm((768,), eps=1e-05, elementwise_affine=True)\n",
              "            (dropout): Dropout(p=0.1, inplace=False)\n",
              "          )\n",
              "        )\n",
              "        (1): RobertaLayer(\n",
              "          (attention): RobertaAttention(\n",
              "            (self): RobertaSelfAttention(\n",
              "              (query): Linear(in_features=768, out_features=768, bias=True)\n",
              "              (key): Linear(in_features=768, out_features=768, bias=True)\n",
              "              (value): Linear(in_features=768, out_features=768, bias=True)\n",
              "              (dropout): Dropout(p=0.1, inplace=False)\n",
              "            )\n",
              "            (output): RobertaSelfOutput(\n",
              "              (dense): Linear(in_features=768, out_features=768, bias=True)\n",
              "              (LayerNorm): LayerNorm((768,), eps=1e-05, elementwise_affine=True)\n",
              "              (dropout): Dropout(p=0.1, inplace=False)\n",
              "            )\n",
              "          )\n",
              "          (intermediate): RobertaIntermediate(\n",
              "            (dense): Linear(in_features=768, out_features=3072, bias=True)\n",
              "          )\n",
              "          (output): RobertaOutput(\n",
              "            (dense): Linear(in_features=3072, out_features=768, bias=True)\n",
              "            (LayerNorm): LayerNorm((768,), eps=1e-05, elementwise_affine=True)\n",
              "            (dropout): Dropout(p=0.1, inplace=False)\n",
              "          )\n",
              "        )\n",
              "        (2): RobertaLayer(\n",
              "          (attention): RobertaAttention(\n",
              "            (self): RobertaSelfAttention(\n",
              "              (query): Linear(in_features=768, out_features=768, bias=True)\n",
              "              (key): Linear(in_features=768, out_features=768, bias=True)\n",
              "              (value): Linear(in_features=768, out_features=768, bias=True)\n",
              "              (dropout): Dropout(p=0.1, inplace=False)\n",
              "            )\n",
              "            (output): RobertaSelfOutput(\n",
              "              (dense): Linear(in_features=768, out_features=768, bias=True)\n",
              "              (LayerNorm): LayerNorm((768,), eps=1e-05, elementwise_affine=True)\n",
              "              (dropout): Dropout(p=0.1, inplace=False)\n",
              "            )\n",
              "          )\n",
              "          (intermediate): RobertaIntermediate(\n",
              "            (dense): Linear(in_features=768, out_features=3072, bias=True)\n",
              "          )\n",
              "          (output): RobertaOutput(\n",
              "            (dense): Linear(in_features=3072, out_features=768, bias=True)\n",
              "            (LayerNorm): LayerNorm((768,), eps=1e-05, elementwise_affine=True)\n",
              "            (dropout): Dropout(p=0.1, inplace=False)\n",
              "          )\n",
              "        )\n",
              "        (3): RobertaLayer(\n",
              "          (attention): RobertaAttention(\n",
              "            (self): RobertaSelfAttention(\n",
              "              (query): Linear(in_features=768, out_features=768, bias=True)\n",
              "              (key): Linear(in_features=768, out_features=768, bias=True)\n",
              "              (value): Linear(in_features=768, out_features=768, bias=True)\n",
              "              (dropout): Dropout(p=0.1, inplace=False)\n",
              "            )\n",
              "            (output): RobertaSelfOutput(\n",
              "              (dense): Linear(in_features=768, out_features=768, bias=True)\n",
              "              (LayerNorm): LayerNorm((768,), eps=1e-05, elementwise_affine=True)\n",
              "              (dropout): Dropout(p=0.1, inplace=False)\n",
              "            )\n",
              "          )\n",
              "          (intermediate): RobertaIntermediate(\n",
              "            (dense): Linear(in_features=768, out_features=3072, bias=True)\n",
              "          )\n",
              "          (output): RobertaOutput(\n",
              "            (dense): Linear(in_features=3072, out_features=768, bias=True)\n",
              "            (LayerNorm): LayerNorm((768,), eps=1e-05, elementwise_affine=True)\n",
              "            (dropout): Dropout(p=0.1, inplace=False)\n",
              "          )\n",
              "        )\n",
              "        (4): RobertaLayer(\n",
              "          (attention): RobertaAttention(\n",
              "            (self): RobertaSelfAttention(\n",
              "              (query): Linear(in_features=768, out_features=768, bias=True)\n",
              "              (key): Linear(in_features=768, out_features=768, bias=True)\n",
              "              (value): Linear(in_features=768, out_features=768, bias=True)\n",
              "              (dropout): Dropout(p=0.1, inplace=False)\n",
              "            )\n",
              "            (output): RobertaSelfOutput(\n",
              "              (dense): Linear(in_features=768, out_features=768, bias=True)\n",
              "              (LayerNorm): LayerNorm((768,), eps=1e-05, elementwise_affine=True)\n",
              "              (dropout): Dropout(p=0.1, inplace=False)\n",
              "            )\n",
              "          )\n",
              "          (intermediate): RobertaIntermediate(\n",
              "            (dense): Linear(in_features=768, out_features=3072, bias=True)\n",
              "          )\n",
              "          (output): RobertaOutput(\n",
              "            (dense): Linear(in_features=3072, out_features=768, bias=True)\n",
              "            (LayerNorm): LayerNorm((768,), eps=1e-05, elementwise_affine=True)\n",
              "            (dropout): Dropout(p=0.1, inplace=False)\n",
              "          )\n",
              "        )\n",
              "        (5): RobertaLayer(\n",
              "          (attention): RobertaAttention(\n",
              "            (self): RobertaSelfAttention(\n",
              "              (query): Linear(in_features=768, out_features=768, bias=True)\n",
              "              (key): Linear(in_features=768, out_features=768, bias=True)\n",
              "              (value): Linear(in_features=768, out_features=768, bias=True)\n",
              "              (dropout): Dropout(p=0.1, inplace=False)\n",
              "            )\n",
              "            (output): RobertaSelfOutput(\n",
              "              (dense): Linear(in_features=768, out_features=768, bias=True)\n",
              "              (LayerNorm): LayerNorm((768,), eps=1e-05, elementwise_affine=True)\n",
              "              (dropout): Dropout(p=0.1, inplace=False)\n",
              "            )\n",
              "          )\n",
              "          (intermediate): RobertaIntermediate(\n",
              "            (dense): Linear(in_features=768, out_features=3072, bias=True)\n",
              "          )\n",
              "          (output): RobertaOutput(\n",
              "            (dense): Linear(in_features=3072, out_features=768, bias=True)\n",
              "            (LayerNorm): LayerNorm((768,), eps=1e-05, elementwise_affine=True)\n",
              "            (dropout): Dropout(p=0.1, inplace=False)\n",
              "          )\n",
              "        )\n",
              "        (6): RobertaLayer(\n",
              "          (attention): RobertaAttention(\n",
              "            (self): RobertaSelfAttention(\n",
              "              (query): Linear(in_features=768, out_features=768, bias=True)\n",
              "              (key): Linear(in_features=768, out_features=768, bias=True)\n",
              "              (value): Linear(in_features=768, out_features=768, bias=True)\n",
              "              (dropout): Dropout(p=0.1, inplace=False)\n",
              "            )\n",
              "            (output): RobertaSelfOutput(\n",
              "              (dense): Linear(in_features=768, out_features=768, bias=True)\n",
              "              (LayerNorm): LayerNorm((768,), eps=1e-05, elementwise_affine=True)\n",
              "              (dropout): Dropout(p=0.1, inplace=False)\n",
              "            )\n",
              "          )\n",
              "          (intermediate): RobertaIntermediate(\n",
              "            (dense): Linear(in_features=768, out_features=3072, bias=True)\n",
              "          )\n",
              "          (output): RobertaOutput(\n",
              "            (dense): Linear(in_features=3072, out_features=768, bias=True)\n",
              "            (LayerNorm): LayerNorm((768,), eps=1e-05, elementwise_affine=True)\n",
              "            (dropout): Dropout(p=0.1, inplace=False)\n",
              "          )\n",
              "        )\n",
              "        (7): RobertaLayer(\n",
              "          (attention): RobertaAttention(\n",
              "            (self): RobertaSelfAttention(\n",
              "              (query): Linear(in_features=768, out_features=768, bias=True)\n",
              "              (key): Linear(in_features=768, out_features=768, bias=True)\n",
              "              (value): Linear(in_features=768, out_features=768, bias=True)\n",
              "              (dropout): Dropout(p=0.1, inplace=False)\n",
              "            )\n",
              "            (output): RobertaSelfOutput(\n",
              "              (dense): Linear(in_features=768, out_features=768, bias=True)\n",
              "              (LayerNorm): LayerNorm((768,), eps=1e-05, elementwise_affine=True)\n",
              "              (dropout): Dropout(p=0.1, inplace=False)\n",
              "            )\n",
              "          )\n",
              "          (intermediate): RobertaIntermediate(\n",
              "            (dense): Linear(in_features=768, out_features=3072, bias=True)\n",
              "          )\n",
              "          (output): RobertaOutput(\n",
              "            (dense): Linear(in_features=3072, out_features=768, bias=True)\n",
              "            (LayerNorm): LayerNorm((768,), eps=1e-05, elementwise_affine=True)\n",
              "            (dropout): Dropout(p=0.1, inplace=False)\n",
              "          )\n",
              "        )\n",
              "        (8): RobertaLayer(\n",
              "          (attention): RobertaAttention(\n",
              "            (self): RobertaSelfAttention(\n",
              "              (query): Linear(in_features=768, out_features=768, bias=True)\n",
              "              (key): Linear(in_features=768, out_features=768, bias=True)\n",
              "              (value): Linear(in_features=768, out_features=768, bias=True)\n",
              "              (dropout): Dropout(p=0.1, inplace=False)\n",
              "            )\n",
              "            (output): RobertaSelfOutput(\n",
              "              (dense): Linear(in_features=768, out_features=768, bias=True)\n",
              "              (LayerNorm): LayerNorm((768,), eps=1e-05, elementwise_affine=True)\n",
              "              (dropout): Dropout(p=0.1, inplace=False)\n",
              "            )\n",
              "          )\n",
              "          (intermediate): RobertaIntermediate(\n",
              "            (dense): Linear(in_features=768, out_features=3072, bias=True)\n",
              "          )\n",
              "          (output): RobertaOutput(\n",
              "            (dense): Linear(in_features=3072, out_features=768, bias=True)\n",
              "            (LayerNorm): LayerNorm((768,), eps=1e-05, elementwise_affine=True)\n",
              "            (dropout): Dropout(p=0.1, inplace=False)\n",
              "          )\n",
              "        )\n",
              "        (9): RobertaLayer(\n",
              "          (attention): RobertaAttention(\n",
              "            (self): RobertaSelfAttention(\n",
              "              (query): Linear(in_features=768, out_features=768, bias=True)\n",
              "              (key): Linear(in_features=768, out_features=768, bias=True)\n",
              "              (value): Linear(in_features=768, out_features=768, bias=True)\n",
              "              (dropout): Dropout(p=0.1, inplace=False)\n",
              "            )\n",
              "            (output): RobertaSelfOutput(\n",
              "              (dense): Linear(in_features=768, out_features=768, bias=True)\n",
              "              (LayerNorm): LayerNorm((768,), eps=1e-05, elementwise_affine=True)\n",
              "              (dropout): Dropout(p=0.1, inplace=False)\n",
              "            )\n",
              "          )\n",
              "          (intermediate): RobertaIntermediate(\n",
              "            (dense): Linear(in_features=768, out_features=3072, bias=True)\n",
              "          )\n",
              "          (output): RobertaOutput(\n",
              "            (dense): Linear(in_features=3072, out_features=768, bias=True)\n",
              "            (LayerNorm): LayerNorm((768,), eps=1e-05, elementwise_affine=True)\n",
              "            (dropout): Dropout(p=0.1, inplace=False)\n",
              "          )\n",
              "        )\n",
              "        (10): RobertaLayer(\n",
              "          (attention): RobertaAttention(\n",
              "            (self): RobertaSelfAttention(\n",
              "              (query): Linear(in_features=768, out_features=768, bias=True)\n",
              "              (key): Linear(in_features=768, out_features=768, bias=True)\n",
              "              (value): Linear(in_features=768, out_features=768, bias=True)\n",
              "              (dropout): Dropout(p=0.1, inplace=False)\n",
              "            )\n",
              "            (output): RobertaSelfOutput(\n",
              "              (dense): Linear(in_features=768, out_features=768, bias=True)\n",
              "              (LayerNorm): LayerNorm((768,), eps=1e-05, elementwise_affine=True)\n",
              "              (dropout): Dropout(p=0.1, inplace=False)\n",
              "            )\n",
              "          )\n",
              "          (intermediate): RobertaIntermediate(\n",
              "            (dense): Linear(in_features=768, out_features=3072, bias=True)\n",
              "          )\n",
              "          (output): RobertaOutput(\n",
              "            (dense): Linear(in_features=3072, out_features=768, bias=True)\n",
              "            (LayerNorm): LayerNorm((768,), eps=1e-05, elementwise_affine=True)\n",
              "            (dropout): Dropout(p=0.1, inplace=False)\n",
              "          )\n",
              "        )\n",
              "        (11): RobertaLayer(\n",
              "          (attention): RobertaAttention(\n",
              "            (self): RobertaSelfAttention(\n",
              "              (query): Linear(in_features=768, out_features=768, bias=True)\n",
              "              (key): Linear(in_features=768, out_features=768, bias=True)\n",
              "              (value): Linear(in_features=768, out_features=768, bias=True)\n",
              "              (dropout): Dropout(p=0.1, inplace=False)\n",
              "            )\n",
              "            (output): RobertaSelfOutput(\n",
              "              (dense): Linear(in_features=768, out_features=768, bias=True)\n",
              "              (LayerNorm): LayerNorm((768,), eps=1e-05, elementwise_affine=True)\n",
              "              (dropout): Dropout(p=0.1, inplace=False)\n",
              "            )\n",
              "          )\n",
              "          (intermediate): RobertaIntermediate(\n",
              "            (dense): Linear(in_features=768, out_features=3072, bias=True)\n",
              "          )\n",
              "          (output): RobertaOutput(\n",
              "            (dense): Linear(in_features=3072, out_features=768, bias=True)\n",
              "            (LayerNorm): LayerNorm((768,), eps=1e-05, elementwise_affine=True)\n",
              "            (dropout): Dropout(p=0.1, inplace=False)\n",
              "          )\n",
              "        )\n",
              "      )\n",
              "    )\n",
              "  )\n",
              "  (classifier): RobertaClassificationHead(\n",
              "    (dense): Linear(in_features=768, out_features=768, bias=True)\n",
              "    (dropout): Dropout(p=0.1, inplace=False)\n",
              "    (out_proj): Linear(in_features=768, out_features=5, bias=True)\n",
              "  )\n",
              ")"
            ]
          },
          "metadata": {
            "tags": []
          },
          "execution_count": 98
        }
      ]
    },
    {
      "cell_type": "code",
      "metadata": {
        "id": "5IDXz8fW2sJ0"
      },
      "source": [
        "#Training parameters\r\n",
        "optimizer = AdamW(model.parameters(),\r\n",
        "                  lr = 2e-5, # Learning Rate - Default is 5e-5\r\n",
        "                  eps = 1e-8 # Adam Epsilon  - Default is 1e-8.\r\n",
        "                )\r\n",
        "\r\n",
        "\r\n",
        "# Training loop\r\n",
        "training_stats = []\r\n",
        "validation_stats = []\r\n",
        "\r\n",
        "# Measure the total training time for the whole run.\r\n",
        "total_t0 = time.time()\r\n",
        "\r\n",
        "# Total number of training steps is [number of batches] x [number of epochs]\r\n",
        "# (Note that this is not the same as the number of training samples)\r\n",
        "total_steps = len(train_dataloader) * epochs\r\n",
        "\r\n",
        "# Create the learning rate scheduler\r\n",
        "scheduler = get_linear_schedule_with_warmup(optimizer, \r\n",
        "                                            num_warmup_steps = 0, # Default value in run_glue.py\r\n",
        "                                            num_training_steps = total_steps)\r\n",
        "\r\n",
        "# This variable will evaluate the convergence on the training\r\n",
        "consecutive_epochs_with_no_improve = 0"
      ],
      "execution_count": null,
      "outputs": []
    },
    {
      "cell_type": "code",
      "metadata": {
        "colab": {
          "base_uri": "https://localhost:8080/",
          "height": 306
        },
        "id": "ftMfjMFH8VYQ",
        "outputId": "a00fb2be-17f5-4a13-91a6-a46e977bfa96"
      },
      "source": [
        "# Training & Validation\r\n",
        "for epoch in range(0, epochs):\r\n",
        "  print(\"\")\r\n",
        "  print(f'########## Epoch {epoch+1} / {epochs} ##########')\r\n",
        "  print('Training...')\r\n",
        "\r\n",
        "  # Measure how long the training epoch takes.\r\n",
        "  t0 = time.time()\r\n",
        "\r\n",
        "  # Reset the total loss for this epoch.\r\n",
        "  total_train_loss = 0\r\n",
        "\r\n",
        "  # Put the model into training mode\r\n",
        "  model.train()\r\n",
        "\r\n",
        "  # For each batch of training data\r\n",
        "  for step, batch in enumerate(train_dataloader):\r\n",
        "    # Progress update every 40 batches.\r\n",
        "    if step % 40 == 0 and not step == 0:\r\n",
        "        # Calculate elapsed time in minutes.\r\n",
        "        elapsed = time.time() - t0\r\n",
        "\r\n",
        "        # Report progress\r\n",
        "        print(f'  Batch {step}  of  {len(train_dataloader)}    Elapsed: {format_time(elapsed)}.')\r\n",
        "\r\n",
        "    # Unpack this training batch from our dataloader. \r\n",
        "    #\r\n",
        "    # As we unpack the batch, we'll also copy each tensor to the 'device' using the 'to' method\r\n",
        "    #\r\n",
        "    # 'batch' contains three pytorch tensors:\r\n",
        "    #   [0]: input ids \r\n",
        "    #   [1]: attention masks\r\n",
        "    #   [2]: skills \r\n",
        "    input_id = batch[0].to(device)\r\n",
        "    attention_mask = batch[1].to(device)\r\n",
        "    label = batch[2].to(device)\r\n",
        "\r\n",
        "    # Clear any previously calculated gradients before performing a backward pass\r\n",
        "    model.zero_grad()        \r\n",
        "\r\n",
        "    # Perform a forward pass (evaluate the model on this training batch)\r\n",
        "    # the loss (because we provided skills) and the \"logits\"--the model\r\n",
        "    # outputs prior to activation\r\n",
        "    loss, logits = model(input_id, \r\n",
        "                          token_type_ids=None, \r\n",
        "                          attention_mask=attention_mask, \r\n",
        "                          labels=label)\r\n",
        "\r\n",
        "    # Accumulate the training loss over all of the batches so that we can\r\n",
        "    # calculate the average loss at the end. 'loss' is a Tensor containing a\r\n",
        "    # single value; the '.item()' function just returns the Python value \r\n",
        "    # from the tensor\r\n",
        "    total_train_loss += loss.item()\r\n",
        "\r\n",
        "    # Perform a backward pass to calculate the gradients\r\n",
        "    loss.backward()\r\n",
        "\r\n",
        "    # Clip the norm of the gradients to 1.0\r\n",
        "    # This is to help prevent the \"exploding gradients\" problem.\r\n",
        "    torch.nn.utils.clip_grad_norm_(model.parameters(), 1.0)\r\n",
        "\r\n",
        "    # Update parameters and take a step using the computed gradient\r\n",
        "    # The optimizer dictates the \"update rule\"--how the parameters are\r\n",
        "    # modified based on their gradients, the learning rate, etc.\r\n",
        "    optimizer.step()\r\n",
        "\r\n",
        "    # Update the learning rate.\r\n",
        "    scheduler.step()\r\n",
        "\r\n",
        "  # Calculate the average loss over all of the batches\r\n",
        "  avg_train_loss = total_train_loss / len(train_dataloader)   \r\n",
        "\r\n",
        "  if epoch > 0:\r\n",
        "      if min([stat['Training Loss'] for stat in training_stats]) <= avg_train_loss:\r\n",
        "          # i.e. If there is not improvement\r\n",
        "          consecutive_epochs_with_no_improve += 1\r\n",
        "      else:\r\n",
        "          # If there is improvement\r\n",
        "          consecutive_epochs_with_no_improve = 0\r\n",
        "          print(\"Model saved!\")\r\n",
        "          torch.save(model.state_dict(), \"Bert.pt\")\r\n",
        "\r\n",
        "  # Measure how long this epoch took\r\n",
        "  training_time = time.time() - t0\r\n",
        "\r\n",
        "  print(\"\")\r\n",
        "  print(\"  Average training loss: {0:.2f}\".format(avg_train_loss))\r\n",
        "  print(\"  Training epoch took: {:}\".format(training_time))\r\n",
        "\r\n",
        "  # Record all statistics from this epoch.\r\n",
        "  training_stats.append(\r\n",
        "      {\r\n",
        "          'epoch': epoch + 1,\r\n",
        "          'Training Loss': avg_train_loss,\r\n",
        "          'Training Time': training_time,\r\n",
        "      }\r\n",
        "  )\r\n",
        "\r\n",
        "  print(\"epoch: {} \\n\".format(epoch + 1), file=outfile)\r\n",
        "  print(\"Training Loss: {} \\n\".format(avg_train_loss), file=outfile)\r\n",
        "  print(\"Training Time: {} \\n\".format(training_time), file=outfile)\r\n",
        "\r\n",
        "  if consecutive_epochs_with_no_improve == 2:\r\n",
        "      print(\"Stop training : The loss has not changed since 2 epochs!\")\r\n",
        "      break\r\n",
        "\r\n",
        "\r\n",
        "  # Tracking variables for validation\r\n",
        "  eval_loss, eval_accuracy = 0, 0\r\n",
        "  batch_count = 0\r\n",
        "\r\n",
        "  t1 = time.time()\r\n",
        "  # Validation of the model\r\n",
        "  model.eval()\r\n",
        "\r\n",
        "  # Evaluate data for one epoch\r\n",
        "  for batch in validation_dataloader:\r\n",
        "      elapsed = time.time() - t1\r\n",
        "      print(f'  Batch {batch_count}  of  {len(validation_dataloader)}    Elapsed: {format_time(elapsed)}.')\r\n",
        "\r\n",
        "      # Unpack this training batch from our dataloader. \r\n",
        "      #\r\n",
        "      # As we unpack the batch, we'll also copy each tensor to the 'device' using the 'to' method\r\n",
        "      #\r\n",
        "      # 'batch' contains three pytorch tensors:\r\n",
        "      #   [0]: input ids \r\n",
        "      #   [1]: attention masks\r\n",
        "      #   [2]: skills \r\n",
        "      input_id = batch[0].to(device)\r\n",
        "      attention_mask = batch[1].to(device)\r\n",
        "      label = batch[2].to(device)\r\n",
        "\r\n",
        "      with torch.no_grad():\r\n",
        "      # Forward pass, calculate logit predictions\r\n",
        "          outputs =  model(input_id, token_type_ids=None, \r\n",
        "                            attention_mask=attention_mask,\r\n",
        "                            labels=label)\r\n",
        "          loss, logits = outputs[:2]\r\n",
        "\r\n",
        "      # Accumulate the training loss over all of the batches so that we can\r\n",
        "      # calculate the average loss at the end. 'loss' is a Tensor containing a\r\n",
        "      # single value; the '.item()' function just returns the Python value \r\n",
        "      # from the tensor\r\n",
        "      eval_loss += loss.item()\r\n",
        "\r\n",
        "      # Move logits and labels to CPU if GPU is used\r\n",
        "      logits = logits.detach().cpu().numpy()\r\n",
        "      label_ids = label.to('cpu').numpy()\r\n",
        "      predictions = np.argmax(logits, axis=1).flatten()\r\n",
        "\r\n",
        "      tmp_eval_accuracy = flat_accuracy(logits, label_ids)\r\n",
        "\r\n",
        "      eval_accuracy += tmp_eval_accuracy\r\n",
        "      if batch_count == 0:\r\n",
        "          global_predictions = predictions\r\n",
        "      else:\r\n",
        "          global_predictions = np.append(global_predictions,predictions)\r\n",
        "      batch_count += 1\r\n",
        "\r\n",
        "\r\n",
        "  avg_validation_loss = eval_loss / len(validation_dataloader)   \r\n",
        "\r\n",
        "\r\n",
        "  # Measure how long this epoch took\r\n",
        "  validation_time = time.time() - t1\r\n",
        "\r\n",
        "  print(\"\")\r\n",
        "  print(\"  Average validation loss: {0:.2f}\".format(avg_validation_loss))\r\n",
        "  print(\"  Validation took: {:}\".format(validation_time))\r\n",
        "  print(\"  Validation Accuracy: {}\".format(eval_accuracy/batch_count))\r\n",
        "  # Calculate the average loss over all of the batches\r\n",
        "\r\n",
        "  # Record all statistics from this epoch.\r\n",
        "  validation_stats.append(\r\n",
        "      {\r\n",
        "          'Training Loss': avg_validation_loss,\r\n",
        "          'Training Time': validation_time,\r\n",
        "      }\r\n",
        "  )\r\n",
        "\r\n",
        "  print(\"Validation Loss: {} \\n\".format(avg_validation_loss), file=outfile)\r\n",
        "  print(\"Validation Time: {} \\n\".format(validation_time), file=outfile)\r\n",
        "        \r\n",
        "        \r\n",
        "#with open('Bert_Metrics.json', 'w+') as outfile:\r\n",
        "#    json.dump(training_stats, outfile)\r\n",
        "\r\n",
        "#torch.save(model.state_dict(), \"Bert.pt\")\r\n",
        "#print(\"Final Model saved!\")"
      ],
      "execution_count": null,
      "outputs": [
        {
          "output_type": "stream",
          "text": [
            "\n",
            "########## Epoch 1 / 6 ##########\n",
            "Training...\n"
          ],
          "name": "stdout"
        },
        {
          "output_type": "error",
          "ename": "AttributeError",
          "evalue": "ignored",
          "traceback": [
            "\u001b[0;31m---------------------------------------------------------------------------\u001b[0m",
            "\u001b[0;31mAttributeError\u001b[0m                            Traceback (most recent call last)",
            "\u001b[0;32m<ipython-input-100-17b0712a14fe>\u001b[0m in \u001b[0;36m<module>\u001b[0;34m()\u001b[0m\n\u001b[1;32m     51\u001b[0m     \u001b[0;31m# single value; the '.item()' function just returns the Python value\u001b[0m\u001b[0;34m\u001b[0m\u001b[0;34m\u001b[0m\u001b[0;34m\u001b[0m\u001b[0m\n\u001b[1;32m     52\u001b[0m     \u001b[0;31m# from the tensor\u001b[0m\u001b[0;34m\u001b[0m\u001b[0;34m\u001b[0m\u001b[0;34m\u001b[0m\u001b[0m\n\u001b[0;32m---> 53\u001b[0;31m     \u001b[0mtotal_train_loss\u001b[0m \u001b[0;34m+=\u001b[0m \u001b[0mloss\u001b[0m\u001b[0;34m.\u001b[0m\u001b[0mitem\u001b[0m\u001b[0;34m(\u001b[0m\u001b[0;34m)\u001b[0m\u001b[0;34m\u001b[0m\u001b[0;34m\u001b[0m\u001b[0m\n\u001b[0m\u001b[1;32m     54\u001b[0m \u001b[0;34m\u001b[0m\u001b[0m\n\u001b[1;32m     55\u001b[0m     \u001b[0;31m# Perform a backward pass to calculate the gradients\u001b[0m\u001b[0;34m\u001b[0m\u001b[0;34m\u001b[0m\u001b[0;34m\u001b[0m\u001b[0m\n",
            "\u001b[0;31mAttributeError\u001b[0m: 'str' object has no attribute 'item'"
          ]
        }
      ]
    },
    {
      "cell_type": "code",
      "metadata": {
        "id": "5RMJkngn4h4S"
      },
      "source": [
        "global_preds = torch.from_numpy(global_predictions)\r\n",
        "\r\n",
        "report = metrics.classification_report(validation_labels, global_preds, zero_division=0)\r\n",
        "print(\"Report: {} \\n\".format(report))\r\n",
        "\r\n",
        "confusion_matrix = metrics.confusion_matrix(validation_labels, global_preds)\r\n",
        "\r\n",
        "print(\"Confusion Matrix: {} \\n\".format(confusion_matrix))\r\n",
        "\r\n",
        "sns.heatmap(confusion_matrix, annot=True)\r\n"
      ],
      "execution_count": null,
      "outputs": []
    },
    {
      "cell_type": "markdown",
      "metadata": {
        "id": "xg9BPpNP-SNf"
      },
      "source": [
        "## Next stage - Prediction based on sentence + target"
      ]
    },
    {
      "cell_type": "markdown",
      "metadata": {
        "id": "MmRBo2g-TewA"
      },
      "source": [
        "### Via Bi-LSTM"
      ]
    },
    {
      "cell_type": "code",
      "metadata": {
        "id": "UQ-cx43kXmMk"
      },
      "source": [
        "input1 = Input(shape=(maxlen,))\r\n",
        "embed1 = Embedding(vocab_size, output_dim=EMBEDDING_DIM, weights=[w2v_embedding_vectors], input_length=maxlen, trainable=False)(input1)\r\n",
        "bdlstm1 = Bidirectional(LSTM(units=128, dropout=0.2, recurrent_dropout=0.2, return_sequences=False))(embed1)\r\n",
        "dense1 = Dense(EMBEDDING_DIM, activation='relu')(bdlstm1)\r\n",
        "\r\n",
        "input2 = Input(shape=(7,))\r\n",
        "dense2 = Dense(EMBEDDING_DIM, activation='relu')(input2)\r\n",
        "\r\n",
        "dense = Concatenate()([dense1, dense2])\r\n",
        "out = Dense(5, activation='softmax')(dense)\r\n",
        "bilstm_model = keras.Model(inputs = [input1, input2], outputs = out)\r\n",
        "bilstm_model.compile(optimizer='adam', loss='categorical_crossentropy', metrics=['acc'])"
      ],
      "execution_count": null,
      "outputs": []
    },
    {
      "cell_type": "code",
      "metadata": {
        "colab": {
          "base_uri": "https://localhost:8080/"
        },
        "id": "F5cFwZJhkq5f",
        "outputId": "4dc6c89b-b049-4669-cfcf-e8cff02b8338"
      },
      "source": [
        "bilstm_model.summary()"
      ],
      "execution_count": null,
      "outputs": [
        {
          "output_type": "stream",
          "text": [
            "Model: \"model_1\"\n",
            "__________________________________________________________________________________________________\n",
            "Layer (type)                    Output Shape         Param #     Connected to                     \n",
            "==================================================================================================\n",
            "input_3 (InputLayer)            [(None, 150)]        0                                            \n",
            "__________________________________________________________________________________________________\n",
            "embedding_3 (Embedding)         (None, 150, 200)     26521600    input_3[0][0]                    \n",
            "__________________________________________________________________________________________________\n",
            "bidirectional_3 (Bidirectional) (None, 256)          336896      embedding_3[0][0]                \n",
            "__________________________________________________________________________________________________\n",
            "input_4 (InputLayer)            [(None, 7)]          0                                            \n",
            "__________________________________________________________________________________________________\n",
            "dense_5 (Dense)                 (None, 200)          51400       bidirectional_3[0][0]            \n",
            "__________________________________________________________________________________________________\n",
            "dense_6 (Dense)                 (None, 200)          1600        input_4[0][0]                    \n",
            "__________________________________________________________________________________________________\n",
            "concatenate_1 (Concatenate)     (None, 400)          0           dense_5[0][0]                    \n",
            "                                                                 dense_6[0][0]                    \n",
            "__________________________________________________________________________________________________\n",
            "dense_7 (Dense)                 (None, 5)            2005        concatenate_1[0][0]              \n",
            "==================================================================================================\n",
            "Total params: 26,913,501\n",
            "Trainable params: 391,901\n",
            "Non-trainable params: 26,521,600\n",
            "__________________________________________________________________________________________________\n"
          ],
          "name": "stdout"
        }
      ]
    },
    {
      "cell_type": "code",
      "metadata": {
        "colab": {
          "base_uri": "https://localhost:8080/"
        },
        "id": "_en6LkHgrM1w",
        "outputId": "c731dae4-5ec3-4a7b-cb5e-2a47f572d536"
      },
      "source": [
        "early_stopping_callback_loss = tf.keras.callbacks.EarlyStopping(monitor = 'loss', patience = 1)\r\n",
        "early_stopping_callback_val_loss = tf.keras.callbacks.EarlyStopping(monitor = 'val_loss', patience = 1)\r\n",
        "\r\n",
        "bilstm_history = bilstm_model.fit([X_train_tok, X_train_targets], y_train_tok, validation_split=0.2, epochs=6, batch_size = 512, \\\r\n",
        "                         callbacks = [early_stopping_callback_loss, early_stopping_callback_val_loss], verbose=1)"
      ],
      "execution_count": null,
      "outputs": [
        {
          "output_type": "stream",
          "text": [
            "Train on 252538 samples, validate on 63135 samples\n",
            "Epoch 1/6\n",
            "252538/252538 [==============================] - 228s 904us/sample - loss: 0.5586 - acc: 0.7743 - val_loss: 0.4240 - val_acc: 0.8254\n",
            "Epoch 2/6\n",
            "252538/252538 [==============================] - 227s 897us/sample - loss: 0.3927 - acc: 0.8397 - val_loss: 0.3475 - val_acc: 0.8637\n",
            "Epoch 3/6\n",
            "252538/252538 [==============================] - 225s 891us/sample - loss: 0.3382 - acc: 0.8647 - val_loss: 0.3071 - val_acc: 0.8826\n",
            "Epoch 4/6\n",
            "252538/252538 [==============================] - 222s 880us/sample - loss: 0.3012 - acc: 0.8809 - val_loss: 0.2740 - val_acc: 0.8986\n",
            "Epoch 5/6\n",
            "252538/252538 [==============================] - 224s 887us/sample - loss: 0.2745 - acc: 0.8921 - val_loss: 0.2596 - val_acc: 0.9036\n",
            "Epoch 6/6\n",
            "252538/252538 [==============================] - 218s 864us/sample - loss: 0.2556 - acc: 0.9003 - val_loss: 0.2484 - val_acc: 0.9091\n"
          ],
          "name": "stdout"
        }
      ]
    },
    {
      "cell_type": "code",
      "metadata": {
        "colab": {
          "base_uri": "https://localhost:8080/",
          "height": 295
        },
        "id": "jUKCspVUrPpE",
        "outputId": "a7557e7a-4c6f-45de-dcb5-f8bb41b7b056"
      },
      "source": [
        "plt.plot(bilstm_history.history['loss'])\r\n",
        "plt.plot(bilstm_history.history['val_loss'])\r\n",
        "plt.title('model train vs validation loss')\r\n",
        "plt.ylabel('loss')\r\n",
        "plt.xlabel('epoch')\r\n",
        "plt.legend(['train', 'validation'], loc='upper right')\r\n",
        "plt.show()"
      ],
      "execution_count": null,
      "outputs": [
        {
          "output_type": "display_data",
          "data": {
            "image/png": "[encoded data removed]",
            "text/plain": [
              "<Figure size 432x288 with 1 Axes>"
            ]
          },
          "metadata": {
            "tags": [],
            "needs_background": "light"
          }
        }
      ]
    },
    {
      "cell_type": "code",
      "metadata": {
        "id": "XGJshZkSrPpF"
      },
      "source": [
        "bilstm_pred = (bilstm_model.predict([X_test_tok, X_test_targets]) >= 0.5).astype(\"int\")"
      ],
      "execution_count": null,
      "outputs": []
    },
    {
      "cell_type": "code",
      "metadata": {
        "colab": {
          "base_uri": "https://localhost:8080/"
        },
        "id": "a_tPzNdorPpF",
        "outputId": "b3814421-00fb-4220-a94f-55f5a042eadf"
      },
      "source": [
        "print(classification_report(y_test_tok, bilstm_pred))"
      ],
      "execution_count": null,
      "outputs": [
        {
          "output_type": "stream",
          "text": [
            "              precision    recall  f1-score   support\n",
            "\n",
            "           0       0.83      0.75      0.79     10828\n",
            "           1       0.94      0.81      0.87      5610\n",
            "           2       0.82      0.73      0.77      9296\n",
            "           3       1.00      1.00      1.00     39709\n",
            "           4       0.86      0.84      0.85     13476\n",
            "\n",
            "   micro avg       0.93      0.89      0.91     78919\n",
            "   macro avg       0.89      0.83      0.86     78919\n",
            "weighted avg       0.93      0.89      0.91     78919\n",
            " samples avg       0.89      0.89      0.89     78919\n",
            "\n"
          ],
          "name": "stdout"
        }
      ]
    },
    {
      "cell_type": "code",
      "metadata": {
        "colab": {
          "base_uri": "https://localhost:8080/"
        },
        "id": "LJmiUvAHrPpG",
        "outputId": "77506b8a-e13b-4ff4-a50d-e11e3c652423"
      },
      "source": [
        "conf_matrix = confusion_matrix(y_test_tok.argmax(axis=1), bilstm_pred.argmax(axis=1))\r\n",
        "print(conf_matrix)"
      ],
      "execution_count": null,
      "outputs": [
        {
          "output_type": "stream",
          "text": [
            "[[ 9230    98   620     0   880]\n",
            " [  568  4535   333     0   174]\n",
            " [ 1592   123  6756     2   823]\n",
            " [    3     0     1 39705     0]\n",
            " [ 1438    83   573     0 11382]]\n"
          ],
          "name": "stdout"
        }
      ]
    },
    {
      "cell_type": "code",
      "metadata": {
        "colab": {
          "base_uri": "https://localhost:8080/",
          "height": 287
        },
        "id": "x84eImlnrPpG",
        "outputId": "ca3ccc56-7ab6-4836-8505-61a7b1100409"
      },
      "source": [
        "sns.heatmap(conf_matrix/np.sum(conf_matrix), annot=True)"
      ],
      "execution_count": null,
      "outputs": [
        {
          "output_type": "execute_result",
          "data": {
            "text/plain": [
              "<matplotlib.axes._subplots.AxesSubplot at 0x7f92a6e2a250>"
            ]
          },
          "metadata": {
            "tags": []
          },
          "execution_count": 273
        },
        {
          "output_type": "display_data",
          "data": {
            "image/png": "[encoded data removed]",
            "text/plain": [
              "<Figure size 432x288 with 2 Axes>"
            ]
          },
          "metadata": {
            "tags": [],
            "needs_background": "light"
          }
        }
      ]
    },
    {
      "cell_type": "code",
      "metadata": {
        "id": "ZVQ6Dc6WrPpH"
      },
      "source": [
        "#lstm_model.save(\"BiLSTM\")"
      ],
      "execution_count": null,
      "outputs": []
    },
    {
      "cell_type": "markdown",
      "metadata": {
        "id": "4uWiVAusxf9W"
      },
      "source": [
        "### Via Transformer"
      ]
    },
    {
      "cell_type": "code",
      "metadata": {
        "id": "hVgdhwyJxh2m"
      },
      "source": [
        "#Implement a Transformer block as a layer\r\n",
        "\r\n",
        "!pip install tf-nightly\r\n",
        "\r\n",
        "class TransformerBlock(layers.Layer):\r\n",
        "    def __init__(self, embed_dim, num_heads, ff_dim, rate=0.1):\r\n",
        "        super(TransformerBlock, self).__init__()\r\n",
        "        self.att = layers.MultiHeadAttention(num_heads=num_heads, key_dim=embed_dim)\r\n",
        "        self.ffn = keras.Sequential(\r\n",
        "            [layers.Dense(ff_dim, activation=\"relu\"), layers.Dense(embed_dim),]\r\n",
        "        )\r\n",
        "        self.layernorm1 = layers.LayerNormalization(epsilon=1e-6)\r\n",
        "        self.layernorm2 = layers.LayerNormalization(epsilon=1e-6)\r\n",
        "        self.dropout1 = layers.Dropout(rate)\r\n",
        "        self.dropout2 = layers.Dropout(rate)\r\n",
        "\r\n",
        "    def call(self, inputs, training):\r\n",
        "        attn_output = self.att(inputs, inputs)\r\n",
        "        attn_output = self.dropout1(attn_output, training=training)\r\n",
        "        out1 = self.layernorm1(inputs + attn_output)\r\n",
        "        ffn_output = self.ffn(out1)\r\n",
        "        ffn_output = self.dropout2(ffn_output, training=training)\r\n",
        "        return self.layernorm2(out1 + ffn_output)"
      ],
      "execution_count": null,
      "outputs": []
    },
    {
      "cell_type": "code",
      "metadata": {
        "id": "CJxt1frOxpi9"
      },
      "source": [
        "#Implement embedding layer\r\n",
        "#Two seperate embedding layers, one for tokens, one for token index (positions).\r\n",
        "\r\n",
        "class TokenAndPositionEmbedding(layers.Layer):\r\n",
        "    def __init__(self, maxlen, vocab_size, embed_dim):\r\n",
        "        super(TokenAndPositionEmbedding, self).__init__()\r\n",
        "        self.token_emb = layers.Embedding(input_dim=vocab_size, output_dim=embed_dim)\r\n",
        "        self.pos_emb = layers.Embedding(input_dim=maxlen, output_dim=embed_dim)\r\n",
        "\r\n",
        "    def call(self, x):\r\n",
        "        maxlen = tf.shape(x)[-1]\r\n",
        "        positions = tf.range(start=0, limit=maxlen, delta=1)\r\n",
        "        positions = self.pos_emb(positions)\r\n",
        "        x = self.token_emb(x)\r\n",
        "        return x + positions"
      ],
      "execution_count": null,
      "outputs": []
    },
    {
      "cell_type": "code",
      "metadata": {
        "id": "stYHflsXxiFA"
      },
      "source": [
        "#Create classifier model using transformer layer\r\n",
        "\r\n",
        "embed_dim = 32  # Embedding size for each token\r\n",
        "num_heads = 2  # Number of attention heads\r\n",
        "ff_dim = 32  # Hidden layer size in feed forward network inside transformer\r\n",
        "\r\n",
        "input1 = layers.Input(shape=(maxlen,))\r\n",
        "embedding_layer = TokenAndPositionEmbedding(maxlen, vocab_size, embed_dim)\r\n",
        "x = embedding_layer(input1)\r\n",
        "transformer_block = TransformerBlock(embed_dim, num_heads, ff_dim)\r\n",
        "x = transformer_block(x)\r\n",
        "x = layers.GlobalAveragePooling1D()(x)\r\n",
        "x = layers.Dropout(0.1)(x)\r\n",
        "x = layers.Dense(EMBEDDING_DIM, activation=\"relu\")(x)\r\n",
        "dense1 = layers.Dropout(0.1)(x)\r\n",
        "\r\n",
        "input2 = Input(shape=(7,))\r\n",
        "dense2 = Dense(EMBEDDING_DIM, activation='relu')(input2)\r\n",
        "\r\n",
        "dense = Concatenate()([dense1, dense2])\r\n",
        "out = Dense(5, activation='softmax')(dense)\r\n",
        "targ_transfo_model = keras.Model(inputs = [input1, input2], outputs = out)\r\n",
        "targ_transfo_model.compile(optimizer='adam', loss='categorical_crossentropy', metrics=['acc'])"
      ],
      "execution_count": null,
      "outputs": []
    },
    {
      "cell_type": "code",
      "metadata": {
        "colab": {
          "base_uri": "https://localhost:8080/"
        },
        "id": "u93bB7FdxiFA",
        "outputId": "4dc6c89b-b049-4669-cfcf-e8cff02b8338"
      },
      "source": [
        "targ_transfo_model.summary()"
      ],
      "execution_count": null,
      "outputs": [
        {
          "output_type": "stream",
          "text": [
            "Model: \"model_1\"\n",
            "__________________________________________________________________________________________________\n",
            "Layer (type)                    Output Shape         Param #     Connected to                     \n",
            "==================================================================================================\n",
            "input_3 (InputLayer)            [(None, 150)]        0                                            \n",
            "__________________________________________________________________________________________________\n",
            "embedding_3 (Embedding)         (None, 150, 200)     26521600    input_3[0][0]                    \n",
            "__________________________________________________________________________________________________\n",
            "bidirectional_3 (Bidirectional) (None, 256)          336896      embedding_3[0][0]                \n",
            "__________________________________________________________________________________________________\n",
            "input_4 (InputLayer)            [(None, 7)]          0                                            \n",
            "__________________________________________________________________________________________________\n",
            "dense_5 (Dense)                 (None, 200)          51400       bidirectional_3[0][0]            \n",
            "__________________________________________________________________________________________________\n",
            "dense_6 (Dense)                 (None, 200)          1600        input_4[0][0]                    \n",
            "__________________________________________________________________________________________________\n",
            "concatenate_1 (Concatenate)     (None, 400)          0           dense_5[0][0]                    \n",
            "                                                                 dense_6[0][0]                    \n",
            "__________________________________________________________________________________________________\n",
            "dense_7 (Dense)                 (None, 5)            2005        concatenate_1[0][0]              \n",
            "==================================================================================================\n",
            "Total params: 26,913,501\n",
            "Trainable params: 391,901\n",
            "Non-trainable params: 26,521,600\n",
            "__________________________________________________________________________________________________\n"
          ],
          "name": "stdout"
        }
      ]
    },
    {
      "cell_type": "code",
      "metadata": {
        "colab": {
          "base_uri": "https://localhost:8080/"
        },
        "id": "JrWgMkhfxiFC",
        "outputId": "c731dae4-5ec3-4a7b-cb5e-2a47f572d536"
      },
      "source": [
        "early_stopping_callback_loss = tf.keras.callbacks.EarlyStopping(monitor = 'loss', patience = 1)\r\n",
        "early_stopping_callback_val_loss = tf.keras.callbacks.EarlyStopping(monitor = 'val_loss', patience = 1)\r\n",
        "\r\n",
        "targ_transfo_history = targ_transfo_model.fit([X_train_tok, X_train_targets], y_train_tok, validation_split=0.2, epochs=6, batch_size = 512, \\\r\n",
        "                         callbacks = [early_stopping_callback_loss, early_stopping_callback_val_loss], verbose=1)"
      ],
      "execution_count": null,
      "outputs": [
        {
          "output_type": "stream",
          "text": [
            "Train on 252538 samples, validate on 63135 samples\n",
            "Epoch 1/6\n",
            "252538/252538 [==============================] - 228s 904us/sample - loss: 0.5586 - acc: 0.7743 - val_loss: 0.4240 - val_acc: 0.8254\n",
            "Epoch 2/6\n",
            "252538/252538 [==============================] - 227s 897us/sample - loss: 0.3927 - acc: 0.8397 - val_loss: 0.3475 - val_acc: 0.8637\n",
            "Epoch 3/6\n",
            "252538/252538 [==============================] - 225s 891us/sample - loss: 0.3382 - acc: 0.8647 - val_loss: 0.3071 - val_acc: 0.8826\n",
            "Epoch 4/6\n",
            "252538/252538 [==============================] - 222s 880us/sample - loss: 0.3012 - acc: 0.8809 - val_loss: 0.2740 - val_acc: 0.8986\n",
            "Epoch 5/6\n",
            "252538/252538 [==============================] - 224s 887us/sample - loss: 0.2745 - acc: 0.8921 - val_loss: 0.2596 - val_acc: 0.9036\n",
            "Epoch 6/6\n",
            "252538/252538 [==============================] - 218s 864us/sample - loss: 0.2556 - acc: 0.9003 - val_loss: 0.2484 - val_acc: 0.9091\n"
          ],
          "name": "stdout"
        }
      ]
    },
    {
      "cell_type": "code",
      "metadata": {
        "colab": {
          "base_uri": "https://localhost:8080/",
          "height": 295
        },
        "id": "JPM6AzWmxiFC",
        "outputId": "a7557e7a-4c6f-45de-dcb5-f8bb41b7b056"
      },
      "source": [
        "plt.plot(targ_transfo_history.history['loss'])\r\n",
        "plt.plot(targ_transfo_history.history['val_loss'])\r\n",
        "plt.title('model train vs validation loss')\r\n",
        "plt.ylabel('loss')\r\n",
        "plt.xlabel('epoch')\r\n",
        "plt.legend(['train', 'validation'], loc='upper right')\r\n",
        "plt.show()"
      ],
      "execution_count": null,
      "outputs": [
        {
          "output_type": "display_data",
          "data": {
            "image/png": "[encoded data removed]",
            "text/plain": [
              "<Figure size 432x288 with 1 Axes>"
            ]
          },
          "metadata": {
            "tags": [],
            "needs_background": "light"
          }
        }
      ]
    },
    {
      "cell_type": "code",
      "metadata": {
        "id": "yayajrKKxiFD"
      },
      "source": [
        "targ_transfo_pred = (targ_transfo_model.predict([X_test_tok, X_test_targets]) >= 0.5).astype(\"int\")"
      ],
      "execution_count": null,
      "outputs": []
    },
    {
      "cell_type": "code",
      "metadata": {
        "colab": {
          "base_uri": "https://localhost:8080/"
        },
        "id": "JNmlS5oKxiFE",
        "outputId": "b3814421-00fb-4220-a94f-55f5a042eadf"
      },
      "source": [
        "print(classification_report(y_test_tok, targ_transfo_pred))"
      ],
      "execution_count": null,
      "outputs": [
        {
          "output_type": "stream",
          "text": [
            "              precision    recall  f1-score   support\n",
            "\n",
            "           0       0.83      0.75      0.79     10828\n",
            "           1       0.94      0.81      0.87      5610\n",
            "           2       0.82      0.73      0.77      9296\n",
            "           3       1.00      1.00      1.00     39709\n",
            "           4       0.86      0.84      0.85     13476\n",
            "\n",
            "   micro avg       0.93      0.89      0.91     78919\n",
            "   macro avg       0.89      0.83      0.86     78919\n",
            "weighted avg       0.93      0.89      0.91     78919\n",
            " samples avg       0.89      0.89      0.89     78919\n",
            "\n"
          ],
          "name": "stdout"
        }
      ]
    },
    {
      "cell_type": "code",
      "metadata": {
        "colab": {
          "base_uri": "https://localhost:8080/"
        },
        "id": "mhL-7sK-xiFE",
        "outputId": "77506b8a-e13b-4ff4-a50d-e11e3c652423"
      },
      "source": [
        "conf_matrix = confusion_matrix(y_test_tok.argmax(axis=1), targ_transfo_pred.argmax(axis=1))\r\n",
        "print(conf_matrix)"
      ],
      "execution_count": null,
      "outputs": [
        {
          "output_type": "stream",
          "text": [
            "[[ 9230    98   620     0   880]\n",
            " [  568  4535   333     0   174]\n",
            " [ 1592   123  6756     2   823]\n",
            " [    3     0     1 39705     0]\n",
            " [ 1438    83   573     0 11382]]\n"
          ],
          "name": "stdout"
        }
      ]
    },
    {
      "cell_type": "code",
      "metadata": {
        "colab": {
          "base_uri": "https://localhost:8080/",
          "height": 287
        },
        "id": "dJ4aoqxExiFF",
        "outputId": "ca3ccc56-7ab6-4836-8505-61a7b1100409"
      },
      "source": [
        "sns.heatmap(conf_matrix/np.sum(conf_matrix), annot=True)"
      ],
      "execution_count": null,
      "outputs": [
        {
          "output_type": "execute_result",
          "data": {
            "text/plain": [
              "<matplotlib.axes._subplots.AxesSubplot at 0x7f92a6e2a250>"
            ]
          },
          "metadata": {
            "tags": []
          },
          "execution_count": 273
        },
        {
          "output_type": "display_data",
          "data": {
            "image/png": "[encoded data removed]",
            "text/plain": [
              "<Figure size 432x288 with 2 Axes>"
            ]
          },
          "metadata": {
            "tags": [],
            "needs_background": "light"
          }
        }
      ]
    },
    {
      "cell_type": "markdown",
      "metadata": {
        "id": "xNKcn5xX-rlr"
      },
      "source": [
        "### Via CamemBERT"
      ]
    },
    {
      "cell_type": "code",
      "metadata": {
        "colab": {
          "base_uri": "https://localhost:8080/"
        },
        "id": "6E-xTEj1eEhI",
        "outputId": "68d9a754-18f4-428a-ec24-2fa8d6c735b8"
      },
      "source": [
        "!pip install transformers==3.5.1\r\n",
        "!pip install sentencepiece\r\n",
        "from transformers import TFCamembertModel, CamembertTokenizer, \\\r\n",
        "                         AdamW, get_linear_schedule_with_warmup\r\n",
        "\r\n",
        "MAX_LEN = 128\r\n",
        "epochs = 6\r\n",
        "batch_size = 64\r\n",
        "\r\n",
        "text = dataset['cleanSentence'].to_list()\r\n",
        "labels = onehot_y\r\n",
        "targets = onehot_targets\r\n",
        "\r\n",
        "cam_tokenizer = CamembertTokenizer.from_pretrained(\r\n",
        "    'camembert-base', do_lower_case=True)"
      ],
      "execution_count": 219,
      "outputs": [
        {
          "output_type": "stream",
          "text": [
            "Requirement already satisfied: transformers==3.5.1 in /usr/local/lib/python3.7/dist-packages (3.5.1)\n",
            "Requirement already satisfied: numpy in /usr/local/lib/python3.7/dist-packages (from transformers==3.5.1) (1.19.5)\n",
            "Requirement already satisfied: protobuf in /usr/local/lib/python3.7/dist-packages (from transformers==3.5.1) (3.12.4)\n",
            "Requirement already satisfied: sentencepiece==0.1.91 in /usr/local/lib/python3.7/dist-packages (from transformers==3.5.1) (0.1.91)\n",
            "Requirement already satisfied: sacremoses in /usr/local/lib/python3.7/dist-packages (from transformers==3.5.1) (0.0.43)\n",
            "Requirement already satisfied: regex!=2019.12.17 in /usr/local/lib/python3.7/dist-packages (from transformers==3.5.1) (2019.12.20)\n",
            "Requirement already satisfied: tqdm>=4.27 in /usr/local/lib/python3.7/dist-packages (from transformers==3.5.1) (4.41.1)\n",
            "Requirement already satisfied: tokenizers==0.9.3 in /usr/local/lib/python3.7/dist-packages (from transformers==3.5.1) (0.9.3)\n",
            "Requirement already satisfied: requests in /usr/local/lib/python3.7/dist-packages (from transformers==3.5.1) (2.23.0)\n",
            "Requirement already satisfied: packaging in /usr/local/lib/python3.7/dist-packages (from transformers==3.5.1) (20.9)\n",
            "Requirement already satisfied: filelock in /usr/local/lib/python3.7/dist-packages (from transformers==3.5.1) (3.0.12)\n",
            "Requirement already satisfied: six>=1.9 in /usr/local/lib/python3.7/dist-packages (from protobuf->transformers==3.5.1) (1.15.0)\n",
            "Requirement already satisfied: setuptools in /usr/local/lib/python3.7/dist-packages (from protobuf->transformers==3.5.1) (54.0.0)\n",
            "Requirement already satisfied: click in /usr/local/lib/python3.7/dist-packages (from sacremoses->transformers==3.5.1) (7.1.2)\n",
            "Requirement already satisfied: joblib in /usr/local/lib/python3.7/dist-packages (from sacremoses->transformers==3.5.1) (1.0.1)\n",
            "Requirement already satisfied: urllib3!=1.25.0,!=1.25.1,<1.26,>=1.21.1 in /usr/local/lib/python3.7/dist-packages (from requests->transformers==3.5.1) (1.24.3)\n",
            "Requirement already satisfied: certifi>=2017.4.17 in /usr/local/lib/python3.7/dist-packages (from requests->transformers==3.5.1) (2020.12.5)\n",
            "Requirement already satisfied: chardet<4,>=3.0.2 in /usr/local/lib/python3.7/dist-packages (from requests->transformers==3.5.1) (3.0.4)\n",
            "Requirement already satisfied: idna<3,>=2.5 in /usr/local/lib/python3.7/dist-packages (from requests->transformers==3.5.1) (2.10)\n",
            "Requirement already satisfied: pyparsing>=2.0.2 in /usr/local/lib/python3.7/dist-packages (from packaging->transformers==3.5.1) (2.4.7)\n",
            "Requirement already satisfied: sentencepiece in /usr/local/lib/python3.7/dist-packages (0.1.91)\n"
          ],
          "name": "stdout"
        }
      ]
    },
    {
      "cell_type": "code",
      "metadata": {
        "id": "8zWseeQeeEk0"
      },
      "source": [
        "def bert_encode(data,maximum_length) :\r\n",
        "  input_ids = []\r\n",
        "  attention_masks = []\r\n",
        "  \r\n",
        "  for i in range(len(data)):\r\n",
        "      encoded = cam_tokenizer.encode_plus(\r\n",
        "        \r\n",
        "        data[i],\r\n",
        "        add_special_tokens=True,\r\n",
        "        max_length=maximum_length,\r\n",
        "        pad_to_max_length=True,\r\n",
        "        \r\n",
        "        return_attention_mask=True,\r\n",
        "        \r\n",
        "      )\r\n",
        "      \r\n",
        "      input_ids.append(encoded['input_ids'])\r\n",
        "      attention_masks.append(encoded['attention_mask'])\r\n",
        "  return np.array(input_ids), np.array(attention_masks)"
      ],
      "execution_count": 212,
      "outputs": []
    },
    {
      "cell_type": "code",
      "metadata": {
        "colab": {
          "base_uri": "https://localhost:8080/"
        },
        "id": "YKLYi-vS1CP_",
        "outputId": "4fdefbad-8572-48f6-8018-c21b62e19231"
      },
      "source": [
        "onehot_targets"
      ],
      "execution_count": 220,
      "outputs": [
        {
          "output_type": "execute_result",
          "data": {
            "text/plain": [
              "array([[0., 0., 0., ..., 0., 1., 0.],\n",
              "       [0., 0., 0., ..., 0., 1., 0.],\n",
              "       [0., 0., 0., ..., 0., 1., 0.],\n",
              "       ...,\n",
              "       [0., 0., 0., ..., 1., 0., 0.],\n",
              "       [0., 0., 0., ..., 1., 0., 0.],\n",
              "       [0., 0., 0., ..., 1., 0., 0.]], dtype=float32)"
            ]
          },
          "metadata": {
            "tags": []
          },
          "execution_count": 220
        }
      ]
    },
    {
      "cell_type": "code",
      "metadata": {
        "id": "SzbsPleMevZD"
      },
      "source": [
        "# Split train-validation\r\n",
        "train_inputs, validation_inputs, train_targets, validation_targets, train_labels, validation_labels = train_test_split(text, targets, labels,\r\n",
        "                                                            random_state=42, test_size=0.2)"
      ],
      "execution_count": 221,
      "outputs": []
    },
    {
      "cell_type": "code",
      "metadata": {
        "id": "u5fbWoDEeIGc"
      },
      "source": [
        "train_input_ids,train_attention_masks = bert_encode(train_inputs,MAX_LEN)\r\n",
        "\r\n",
        "test_input_ids,test_attention_masks = bert_encode(validation_inputs,MAX_LEN)\r\n"
      ],
      "execution_count": null,
      "outputs": []
    },
    {
      "cell_type": "code",
      "metadata": {
        "id": "NkWNVJnoLT8l",
        "colab": {
          "base_uri": "https://localhost:8080/"
        },
        "outputId": "ce31a330-5b71-45aa-eda1-a44cc6928762"
      },
      "source": [
        "camembert_model = TFCamembertModel.from_pretrained(\r\n",
        "        \"jplu/tf-camembert-base\")\r\n",
        "#camembert_model = CamembertForSequenceClassification.from_pretrained(\r\n",
        "#        'camembert-base',\r\n",
        "#        num_labels = 5)"
      ],
      "execution_count": null,
      "outputs": [
        {
          "output_type": "stream",
          "text": [
            "Some layers from the model checkpoint at jplu/tf-camembert-base were not used when initializing TFCamembertModel: ['lm_head']\n",
            "- This IS expected if you are initializing TFCamembertModel from the checkpoint of a model trained on another task or with another architecture (e.g. initializing a BertForSequenceClassification model from a BertForPreTraining model).\n",
            "- This IS NOT expected if you are initializing TFCamembertModel from the checkpoint of a model that you expect to be exactly identical (initializing a BertForSequenceClassification model from a BertForSequenceClassification model).\n",
            "All the layers of TFCamembertModel were initialized from the model checkpoint at jplu/tf-camembert-base.\n",
            "If your task is similar to the task the model of the checkpoint was trained on, you can already use TFCamembertModel for predictions without further training.\n"
          ],
          "name": "stderr"
        }
      ]
    },
    {
      "cell_type": "code",
      "metadata": {
        "id": "pKmEYM4RdEAd"
      },
      "source": [
        "input_ids = tf.keras.Input(shape=(MAX_LEN,),dtype='int32')\r\n",
        "attention_masks = tf.keras.Input(shape=(MAX_LEN,),dtype='int32')\r\n",
        "\r\n",
        "input1 = camembert_model([input_ids, attention_masks])\r\n",
        "input1 = input1[1]\r\n",
        "input1 = tf.keras.layers.Dense(EMBEDDING_DIM,activation='relu')(input1)\r\n",
        "dense1 = tf.keras.layers.Dropout(0.2)(input1)\r\n",
        "\r\n",
        "input2 = Input(shape=(7,))\r\n",
        "dense2 = Dense(EMBEDDING_DIM, activation='relu')(input2)\r\n",
        "\r\n",
        "dense = Concatenate()([dense1, dense2])\r\n",
        "out = Dense(5, activation='softmax')(dense)\r\n",
        "targ_bert_model = keras.Model(inputs = [[input_ids, attention_masks], input2], outputs = out)\r\n",
        "targ_bert_model.compile(optimizer='adam', loss='categorical_crossentropy', metrics=['acc'])"
      ],
      "execution_count": 206,
      "outputs": []
    },
    {
      "cell_type": "code",
      "metadata": {
        "colab": {
          "base_uri": "https://localhost:8080/"
        },
        "id": "8B8WC-JpdR4u",
        "outputId": "12fb4f2a-4f8a-4cb9-a77e-ddcc88101c52"
      },
      "source": [
        "targ_bert_model.summary()"
      ],
      "execution_count": 207,
      "outputs": [
        {
          "output_type": "stream",
          "text": [
            "Model: \"model_21\"\n",
            "__________________________________________________________________________________________________\n",
            "Layer (type)                    Output Shape         Param #     Connected to                     \n",
            "==================================================================================================\n",
            "input_87 (InputLayer)           [(None, 128)]        0                                            \n",
            "__________________________________________________________________________________________________\n",
            "input_88 (InputLayer)           [(None, 128)]        0                                            \n",
            "__________________________________________________________________________________________________\n",
            "tf_camembert_model_4 (TFCamembe ((None, 128, 768), ( 110621952   input_87[0][0]                   \n",
            "                                                                 input_88[0][0]                   \n",
            "__________________________________________________________________________________________________\n",
            "dense_63 (Dense)                (None, 200)          153800      tf_camembert_model_4[1][1]       \n",
            "__________________________________________________________________________________________________\n",
            "input_89 (InputLayer)           [(None, 7)]          0                                            \n",
            "__________________________________________________________________________________________________\n",
            "dropout_279 (Dropout)           (None, 200)          0           dense_63[0][0]                   \n",
            "__________________________________________________________________________________________________\n",
            "dense_64 (Dense)                (None, 200)          1600        input_89[0][0]                   \n",
            "__________________________________________________________________________________________________\n",
            "concatenate_21 (Concatenate)    (None, 400)          0           dropout_279[0][0]                \n",
            "                                                                 dense_64[0][0]                   \n",
            "__________________________________________________________________________________________________\n",
            "dense_65 (Dense)                (None, 5)            2005        concatenate_21[0][0]             \n",
            "==================================================================================================\n",
            "Total params: 110,779,357\n",
            "Trainable params: 110,779,357\n",
            "Non-trainable params: 0\n",
            "__________________________________________________________________________________________________\n"
          ],
          "name": "stdout"
        }
      ]
    },
    {
      "cell_type": "code",
      "metadata": {
        "colab": {
          "base_uri": "https://localhost:8080/",
          "height": 423
        },
        "id": "CUzuIL6Rsp5u",
        "outputId": "bb0d1080-7514-49b4-831c-983ba8f5ed16"
      },
      "source": [
        "early_stopping_callback_loss = tf.keras.callbacks.EarlyStopping(monitor = 'loss', patience = 1)\r\n",
        "early_stopping_callback_val_loss = tf.keras.callbacks.EarlyStopping(monitor = 'val_loss', patience = 1)\r\n",
        "\r\n",
        "targ_bert_history = targ_bert_model.fit([[train_input_ids,train_attention_masks], np.array(train_targets)], np.array(train_labels), validation_split=0.2, epochs=6, batch_size = 64, \\\r\n",
        "                         callbacks = [early_stopping_callback_loss, early_stopping_callback_val_loss], verbose=1)"
      ],
      "execution_count": 225,
      "outputs": [
        {
          "output_type": "stream",
          "text": [
            "Epoch 1/6\n"
          ],
          "name": "stdout"
        },
        {
          "output_type": "error",
          "ename": "TypeError",
          "evalue": "ignored",
          "traceback": [
            "\u001b[0;31m---------------------------------------------------------------------------\u001b[0m",
            "\u001b[0;31mTypeError\u001b[0m                                 Traceback (most recent call last)",
            "\u001b[0;32m<ipython-input-225-1404ccfefc6a>\u001b[0m in \u001b[0;36m<module>\u001b[0;34m()\u001b[0m\n\u001b[1;32m      2\u001b[0m \u001b[0mearly_stopping_callback_val_loss\u001b[0m \u001b[0;34m=\u001b[0m \u001b[0mtf\u001b[0m\u001b[0;34m.\u001b[0m\u001b[0mkeras\u001b[0m\u001b[0;34m.\u001b[0m\u001b[0mcallbacks\u001b[0m\u001b[0;34m.\u001b[0m\u001b[0mEarlyStopping\u001b[0m\u001b[0;34m(\u001b[0m\u001b[0mmonitor\u001b[0m \u001b[0;34m=\u001b[0m \u001b[0;34m'val_loss'\u001b[0m\u001b[0;34m,\u001b[0m \u001b[0mpatience\u001b[0m \u001b[0;34m=\u001b[0m \u001b[0;36m1\u001b[0m\u001b[0;34m)\u001b[0m\u001b[0;34m\u001b[0m\u001b[0;34m\u001b[0m\u001b[0m\n\u001b[1;32m      3\u001b[0m \u001b[0;34m\u001b[0m\u001b[0m\n\u001b[0;32m----> 4\u001b[0;31m \u001b[0mtarg_bert_history\u001b[0m \u001b[0;34m=\u001b[0m \u001b[0mtarg_bert_model\u001b[0m\u001b[0;34m.\u001b[0m\u001b[0mfit\u001b[0m\u001b[0;34m(\u001b[0m\u001b[0;34m[\u001b[0m\u001b[0;34m[\u001b[0m\u001b[0mtrain_input_ids\u001b[0m\u001b[0;34m,\u001b[0m\u001b[0mtrain_attention_masks\u001b[0m\u001b[0;34m]\u001b[0m\u001b[0;34m,\u001b[0m \u001b[0mnp\u001b[0m\u001b[0;34m.\u001b[0m\u001b[0marray\u001b[0m\u001b[0;34m(\u001b[0m\u001b[0mtrain_targets\u001b[0m\u001b[0;34m)\u001b[0m\u001b[0;34m]\u001b[0m\u001b[0;34m,\u001b[0m \u001b[0mnp\u001b[0m\u001b[0;34m.\u001b[0m\u001b[0marray\u001b[0m\u001b[0;34m(\u001b[0m\u001b[0mtrain_labels\u001b[0m\u001b[0;34m)\u001b[0m\u001b[0;34m,\u001b[0m \u001b[0mvalidation_split\u001b[0m\u001b[0;34m=\u001b[0m\u001b[0;36m0.2\u001b[0m\u001b[0;34m,\u001b[0m \u001b[0mepochs\u001b[0m\u001b[0;34m=\u001b[0m\u001b[0;36m6\u001b[0m\u001b[0;34m,\u001b[0m \u001b[0mbatch_size\u001b[0m \u001b[0;34m=\u001b[0m \u001b[0;36m64\u001b[0m\u001b[0;34m,\u001b[0m                          \u001b[0mcallbacks\u001b[0m \u001b[0;34m=\u001b[0m \u001b[0;34m[\u001b[0m\u001b[0mearly_stopping_callback_loss\u001b[0m\u001b[0;34m,\u001b[0m \u001b[0mearly_stopping_callback_val_loss\u001b[0m\u001b[0;34m]\u001b[0m\u001b[0;34m,\u001b[0m \u001b[0mverbose\u001b[0m\u001b[0;34m=\u001b[0m\u001b[0;36m1\u001b[0m\u001b[0;34m)\u001b[0m\u001b[0;34m\u001b[0m\u001b[0;34m\u001b[0m\u001b[0m\n\u001b[0m",
            "\u001b[0;32m/usr/local/lib/python3.7/dist-packages/tensorflow/python/keras/engine/training.py\u001b[0m in \u001b[0;36mfit\u001b[0;34m(self, x, y, batch_size, epochs, verbose, callbacks, validation_split, validation_data, shuffle, class_weight, sample_weight, initial_epoch, steps_per_epoch, validation_steps, validation_batch_size, validation_freq, max_queue_size, workers, use_multiprocessing)\u001b[0m\n\u001b[1;32m   1098\u001b[0m                 _r=1):\n\u001b[1;32m   1099\u001b[0m               \u001b[0mcallbacks\u001b[0m\u001b[0;34m.\u001b[0m\u001b[0mon_train_batch_begin\u001b[0m\u001b[0;34m(\u001b[0m\u001b[0mstep\u001b[0m\u001b[0;34m)\u001b[0m\u001b[0;34m\u001b[0m\u001b[0;34m\u001b[0m\u001b[0m\n\u001b[0;32m-> 1100\u001b[0;31m               \u001b[0mtmp_logs\u001b[0m \u001b[0;34m=\u001b[0m \u001b[0mself\u001b[0m\u001b[0;34m.\u001b[0m\u001b[0mtrain_function\u001b[0m\u001b[0;34m(\u001b[0m\u001b[0miterator\u001b[0m\u001b[0;34m)\u001b[0m\u001b[0;34m\u001b[0m\u001b[0;34m\u001b[0m\u001b[0m\n\u001b[0m\u001b[1;32m   1101\u001b[0m               \u001b[0;32mif\u001b[0m \u001b[0mdata_handler\u001b[0m\u001b[0;34m.\u001b[0m\u001b[0mshould_sync\u001b[0m\u001b[0;34m:\u001b[0m\u001b[0;34m\u001b[0m\u001b[0;34m\u001b[0m\u001b[0m\n\u001b[1;32m   1102\u001b[0m                 \u001b[0mcontext\u001b[0m\u001b[0;34m.\u001b[0m\u001b[0masync_wait\u001b[0m\u001b[0;34m(\u001b[0m\u001b[0;34m)\u001b[0m\u001b[0;34m\u001b[0m\u001b[0;34m\u001b[0m\u001b[0m\n",
            "\u001b[0;32m/usr/local/lib/python3.7/dist-packages/tensorflow/python/eager/def_function.py\u001b[0m in \u001b[0;36m__call__\u001b[0;34m(self, *args, **kwds)\u001b[0m\n\u001b[1;32m    826\u001b[0m     \u001b[0mtracing_count\u001b[0m \u001b[0;34m=\u001b[0m \u001b[0mself\u001b[0m\u001b[0;34m.\u001b[0m\u001b[0mexperimental_get_tracing_count\u001b[0m\u001b[0;34m(\u001b[0m\u001b[0;34m)\u001b[0m\u001b[0;34m\u001b[0m\u001b[0;34m\u001b[0m\u001b[0m\n\u001b[1;32m    827\u001b[0m     \u001b[0;32mwith\u001b[0m \u001b[0mtrace\u001b[0m\u001b[0;34m.\u001b[0m\u001b[0mTrace\u001b[0m\u001b[0;34m(\u001b[0m\u001b[0mself\u001b[0m\u001b[0;34m.\u001b[0m\u001b[0m_name\u001b[0m\u001b[0;34m)\u001b[0m \u001b[0;32mas\u001b[0m \u001b[0mtm\u001b[0m\u001b[0;34m:\u001b[0m\u001b[0;34m\u001b[0m\u001b[0;34m\u001b[0m\u001b[0m\n\u001b[0;32m--> 828\u001b[0;31m       \u001b[0mresult\u001b[0m \u001b[0;34m=\u001b[0m \u001b[0mself\u001b[0m\u001b[0;34m.\u001b[0m\u001b[0m_call\u001b[0m\u001b[0;34m(\u001b[0m\u001b[0;34m*\u001b[0m\u001b[0margs\u001b[0m\u001b[0;34m,\u001b[0m \u001b[0;34m**\u001b[0m\u001b[0mkwds\u001b[0m\u001b[0;34m)\u001b[0m\u001b[0;34m\u001b[0m\u001b[0;34m\u001b[0m\u001b[0m\n\u001b[0m\u001b[1;32m    829\u001b[0m       \u001b[0mcompiler\u001b[0m \u001b[0;34m=\u001b[0m \u001b[0;34m\"xla\"\u001b[0m \u001b[0;32mif\u001b[0m \u001b[0mself\u001b[0m\u001b[0;34m.\u001b[0m\u001b[0m_experimental_compile\u001b[0m \u001b[0;32melse\u001b[0m \u001b[0;34m\"nonXla\"\u001b[0m\u001b[0;34m\u001b[0m\u001b[0;34m\u001b[0m\u001b[0m\n\u001b[1;32m    830\u001b[0m       \u001b[0mnew_tracing_count\u001b[0m \u001b[0;34m=\u001b[0m \u001b[0mself\u001b[0m\u001b[0;34m.\u001b[0m\u001b[0mexperimental_get_tracing_count\u001b[0m\u001b[0;34m(\u001b[0m\u001b[0;34m)\u001b[0m\u001b[0;34m\u001b[0m\u001b[0;34m\u001b[0m\u001b[0m\n",
            "\u001b[0;32m/usr/local/lib/python3.7/dist-packages/tensorflow/python/eager/def_function.py\u001b[0m in \u001b[0;36m_call\u001b[0;34m(self, *args, **kwds)\u001b[0m\n\u001b[1;32m    853\u001b[0m       \u001b[0;31m# In this case we have created variables on the first call, so we run the\u001b[0m\u001b[0;34m\u001b[0m\u001b[0;34m\u001b[0m\u001b[0;34m\u001b[0m\u001b[0m\n\u001b[1;32m    854\u001b[0m       \u001b[0;31m# defunned version which is guaranteed to never create variables.\u001b[0m\u001b[0;34m\u001b[0m\u001b[0;34m\u001b[0m\u001b[0;34m\u001b[0m\u001b[0m\n\u001b[0;32m--> 855\u001b[0;31m       \u001b[0;32mreturn\u001b[0m \u001b[0mself\u001b[0m\u001b[0;34m.\u001b[0m\u001b[0m_stateless_fn\u001b[0m\u001b[0;34m(\u001b[0m\u001b[0;34m*\u001b[0m\u001b[0margs\u001b[0m\u001b[0;34m,\u001b[0m \u001b[0;34m**\u001b[0m\u001b[0mkwds\u001b[0m\u001b[0;34m)\u001b[0m  \u001b[0;31m# pylint: disable=not-callable\u001b[0m\u001b[0;34m\u001b[0m\u001b[0;34m\u001b[0m\u001b[0m\n\u001b[0m\u001b[1;32m    856\u001b[0m     \u001b[0;32melif\u001b[0m \u001b[0mself\u001b[0m\u001b[0;34m.\u001b[0m\u001b[0m_stateful_fn\u001b[0m \u001b[0;32mis\u001b[0m \u001b[0;32mnot\u001b[0m \u001b[0;32mNone\u001b[0m\u001b[0;34m:\u001b[0m\u001b[0;34m\u001b[0m\u001b[0;34m\u001b[0m\u001b[0m\n\u001b[1;32m    857\u001b[0m       \u001b[0;31m# Release the lock early so that multiple threads can perform the call\u001b[0m\u001b[0;34m\u001b[0m\u001b[0;34m\u001b[0m\u001b[0;34m\u001b[0m\u001b[0m\n",
            "\u001b[0;31mTypeError\u001b[0m: 'NoneType' object is not callable"
          ]
        }
      ]
    },
    {
      "cell_type": "code",
      "metadata": {
        "colab": {
          "base_uri": "https://localhost:8080/",
          "height": 295
        },
        "id": "cEllgO7Csp56",
        "outputId": "a7557e7a-4c6f-45de-dcb5-f8bb41b7b056"
      },
      "source": [
        "plt.plot(targ_bert_history.history['loss'])\r\n",
        "plt.plot(targ_bert_history.history['val_loss'])\r\n",
        "plt.title('model train vs validation loss')\r\n",
        "plt.ylabel('loss')\r\n",
        "plt.xlabel('epoch')\r\n",
        "plt.legend(['train', 'validation'], loc='upper right')\r\n",
        "plt.show()"
      ],
      "execution_count": null,
      "outputs": [
        {
          "output_type": "display_data",
          "data": {
            "image/png": "[encoded data removed]",
            "text/plain": [
              "<Figure size 432x288 with 1 Axes>"
            ]
          },
          "metadata": {
            "tags": [],
            "needs_background": "light"
          }
        }
      ]
    },
    {
      "cell_type": "code",
      "metadata": {
        "id": "D85j0z3tsp57"
      },
      "source": [
        "targ_bert_pred = (targ_bert_model.predict([test_input_ids, validation_targets]) >= 0.5).astype(\"int\")"
      ],
      "execution_count": null,
      "outputs": []
    },
    {
      "cell_type": "code",
      "metadata": {
        "colab": {
          "base_uri": "https://localhost:8080/"
        },
        "id": "egmc84phsp57",
        "outputId": "b3814421-00fb-4220-a94f-55f5a042eadf"
      },
      "source": [
        "print(classification_report(validation_targets, targ_bert_pred))"
      ],
      "execution_count": null,
      "outputs": [
        {
          "output_type": "stream",
          "text": [
            "              precision    recall  f1-score   support\n",
            "\n",
            "           0       0.83      0.75      0.79     10828\n",
            "           1       0.94      0.81      0.87      5610\n",
            "           2       0.82      0.73      0.77      9296\n",
            "           3       1.00      1.00      1.00     39709\n",
            "           4       0.86      0.84      0.85     13476\n",
            "\n",
            "   micro avg       0.93      0.89      0.91     78919\n",
            "   macro avg       0.89      0.83      0.86     78919\n",
            "weighted avg       0.93      0.89      0.91     78919\n",
            " samples avg       0.89      0.89      0.89     78919\n",
            "\n"
          ],
          "name": "stdout"
        }
      ]
    },
    {
      "cell_type": "code",
      "metadata": {
        "colab": {
          "base_uri": "https://localhost:8080/"
        },
        "id": "wZdjpFvmsp58",
        "outputId": "77506b8a-e13b-4ff4-a50d-e11e3c652423"
      },
      "source": [
        "conf_matrix = confusion_matrix(validation_labels.argmax(axis=1), targ_bert_pred.argmax(axis=1))\r\n",
        "print(conf_matrix)"
      ],
      "execution_count": null,
      "outputs": [
        {
          "output_type": "stream",
          "text": [
            "[[ 9230    98   620     0   880]\n",
            " [  568  4535   333     0   174]\n",
            " [ 1592   123  6756     2   823]\n",
            " [    3     0     1 39705     0]\n",
            " [ 1438    83   573     0 11382]]\n"
          ],
          "name": "stdout"
        }
      ]
    },
    {
      "cell_type": "code",
      "metadata": {
        "colab": {
          "base_uri": "https://localhost:8080/",
          "height": 287
        },
        "id": "LJxQWRvPsp58",
        "outputId": "ca3ccc56-7ab6-4836-8505-61a7b1100409"
      },
      "source": [
        "sns.heatmap(conf_matrix/np.sum(conf_matrix), annot=True)"
      ],
      "execution_count": null,
      "outputs": [
        {
          "output_type": "execute_result",
          "data": {
            "text/plain": [
              "<matplotlib.axes._subplots.AxesSubplot at 0x7f92a6e2a250>"
            ]
          },
          "metadata": {
            "tags": []
          },
          "execution_count": 273
        },
        {
          "output_type": "display_data",
          "data": {
            "image/png": "[encoded data removed]",
            "text/plain": [
              "<Figure size 432x288 with 2 Axes>"
            ]
          },
          "metadata": {
            "tags": [],
            "needs_background": "light"
          }
        }
      ]
    },
    {
      "cell_type": "markdown",
      "metadata": {
        "id": "37GrdUuV9sbJ"
      },
      "source": [
        "# Target prediction"
      ]
    },
    {
      "cell_type": "markdown",
      "metadata": {
        "id": "zH90z4b2LOWI"
      },
      "source": [
        "### By training a classifier based on current \"Target\" label"
      ]
    },
    {
      "cell_type": "markdown",
      "metadata": {
        "id": "0EDqzlvdH73O"
      },
      "source": [
        "#### Via Bi-LSTM"
      ]
    },
    {
      "cell_type": "code",
      "metadata": {
        "colab": {
          "base_uri": "https://localhost:8080/"
        },
        "id": "2YOA4AbfH73n",
        "outputId": "62570ffe-4467-4229-9650-fbf569a30e5e"
      },
      "source": [
        "#Defining Neural Network\r\n",
        "lstm_model = Sequential()\r\n",
        "#Non-trainable embeddidng layer\r\n",
        "lstm_model.add(Embedding(vocab_size, output_dim=EMBEDDING_DIM, weights=[w2v_embedding_vectors], input_length=maxlen, trainable=False))\r\n",
        "#LSTM \r\n",
        "#lstm_model.add(LSTM(units=128, dropout=0.2, recurrent_dropout=0.2, return_sequences=False))\r\n",
        "#Bi-LSTM\r\n",
        "lstm_model.add(Bidirectional(LSTM(units=128, dropout=0.2, recurrent_dropout=0.2, return_sequences=False)))\r\n",
        "lstm_model.add(Dense(EMBEDDING_DIM, activation='relu'))\r\n",
        "lstm_model.add(Dense(7, activation='softmax'))\r\n",
        "lstm_model.compile(optimizer='adam', loss='categorical_crossentropy', metrics=['acc'])"
      ],
      "execution_count": 75,
      "outputs": [
        {
          "output_type": "stream",
          "text": [
            "WARNING:tensorflow:Layer lstm will not use cuDNN kernel since it doesn't meet the cuDNN kernel criteria. It will use generic GPU kernel as fallback when running on GPU\n",
            "WARNING:tensorflow:Layer lstm will not use cuDNN kernel since it doesn't meet the cuDNN kernel criteria. It will use generic GPU kernel as fallback when running on GPU\n",
            "WARNING:tensorflow:Layer lstm will not use cuDNN kernel since it doesn't meet the cuDNN kernel criteria. It will use generic GPU kernel as fallback when running on GPU\n"
          ],
          "name": "stdout"
        }
      ]
    },
    {
      "cell_type": "code",
      "metadata": {
        "colab": {
          "base_uri": "https://localhost:8080/"
        },
        "id": "iN1CmIp-H73o",
        "outputId": "44102779-6c8f-4091-f651-fcbfb5a25b74"
      },
      "source": [
        "lstm_model.summary()"
      ],
      "execution_count": 76,
      "outputs": [
        {
          "output_type": "stream",
          "text": [
            "Model: \"sequential\"\n",
            "_________________________________________________________________\n",
            "Layer (type)                 Output Shape              Param #   \n",
            "=================================================================\n",
            "embedding (Embedding)        (None, 150, 200)          26499400  \n",
            "_________________________________________________________________\n",
            "bidirectional (Bidirectional (None, 256)               336896    \n",
            "_________________________________________________________________\n",
            "dense (Dense)                (None, 200)               51400     \n",
            "_________________________________________________________________\n",
            "dense_1 (Dense)              (None, 7)                 1407      \n",
            "=================================================================\n",
            "Total params: 26,889,103\n",
            "Trainable params: 389,703\n",
            "Non-trainable params: 26,499,400\n",
            "_________________________________________________________________\n"
          ],
          "name": "stdout"
        }
      ]
    },
    {
      "cell_type": "code",
      "metadata": {
        "colab": {
          "base_uri": "https://localhost:8080/"
        },
        "id": "5YxMLI4MH73p",
        "outputId": "f4721252-95f6-4322-d8d4-08920fa8e761"
      },
      "source": [
        "early_stopping_callback_loss = tf.keras.callbacks.EarlyStopping(monitor = 'loss', patience = 1)\r\n",
        "early_stopping_callback_val_loss = tf.keras.callbacks.EarlyStopping(monitor = 'val_loss', patience = 1)\r\n",
        "\r\n",
        "lstm_history = lstm_model.fit(X_train_tok, X_train_targets, validation_split=0.2, epochs=6, batch_size =512, \\\r\n",
        "                         callbacks = [early_stopping_callback_loss, early_stopping_callback_val_loss], verbose=1)"
      ],
      "execution_count": 78,
      "outputs": [
        {
          "output_type": "stream",
          "text": [
            "Epoch 1/6\n",
            "494/494 [==============================] - 436s 872ms/step - loss: 0.6879 - acc: 0.7679 - val_loss: 0.5266 - val_acc: 0.8180\n",
            "Epoch 2/6\n",
            "494/494 [==============================] - 429s 868ms/step - loss: 0.4955 - acc: 0.8280 - val_loss: 0.4237 - val_acc: 0.8527\n",
            "Epoch 3/6\n",
            "494/494 [==============================] - 428s 867ms/step - loss: 0.4167 - acc: 0.8541 - val_loss: 0.3644 - val_acc: 0.8740\n",
            "Epoch 4/6\n",
            "494/494 [==============================] - 426s 863ms/step - loss: 0.3628 - acc: 0.8737 - val_loss: 0.3207 - val_acc: 0.8918\n",
            "Epoch 5/6\n",
            "494/494 [==============================] - 425s 860ms/step - loss: 0.3253 - acc: 0.8862 - val_loss: 0.2913 - val_acc: 0.9024\n",
            "Epoch 6/6\n",
            "494/494 [==============================] - 427s 864ms/step - loss: 0.2976 - acc: 0.8962 - val_loss: 0.2718 - val_acc: 0.9106\n"
          ],
          "name": "stdout"
        }
      ]
    },
    {
      "cell_type": "code",
      "metadata": {
        "colab": {
          "base_uri": "https://localhost:8080/",
          "height": 295
        },
        "id": "XJ3j3xC3H73p",
        "outputId": "1b8e91d9-aec3-42d6-c029-05d2b6725fe0"
      },
      "source": [
        "plt.plot(lstm_history.history['loss'])\r\n",
        "plt.plot(lstm_history.history['val_loss'])\r\n",
        "plt.title('model train vs validation loss')\r\n",
        "plt.ylabel('loss')\r\n",
        "plt.xlabel('epoch')\r\n",
        "plt.legend(['train', 'validation'], loc='upper right')\r\n",
        "plt.show()"
      ],
      "execution_count": 79,
      "outputs": [
        {
          "output_type": "display_data",
          "data": {
            "image/png": "[encoded data removed]",
            "text/plain": [
              "<Figure size 432x288 with 1 Axes>"
            ]
          },
          "metadata": {
            "tags": [],
            "needs_background": "light"
          }
        }
      ]
    },
    {
      "cell_type": "code",
      "metadata": {
        "id": "4I9bcILtH73p"
      },
      "source": [
        "lstm_pred = (lstm_model.predict(X_test_tok) >= 0.5).astype(\"int\")"
      ],
      "execution_count": 80,
      "outputs": []
    },
    {
      "cell_type": "code",
      "metadata": {
        "colab": {
          "base_uri": "https://localhost:8080/"
        },
        "id": "JpO99AchH73q",
        "outputId": "042f1100-5fdb-4b53-fa15-cb5d1488868c"
      },
      "source": [
        "print(classification_report(X_test_targets, lstm_pred))"
      ],
      "execution_count": 81,
      "outputs": [
        {
          "output_type": "stream",
          "text": [
            "              precision    recall  f1-score   support\n",
            "\n",
            "           0       0.92      0.94      0.93       505\n",
            "           1       0.96      0.98      0.97      3336\n",
            "           2       0.93      0.89      0.91      7171\n",
            "           3       0.87      0.91      0.89      7293\n",
            "           4       0.93      0.95      0.94     39807\n",
            "           5       0.91      0.78      0.84     19514\n",
            "           6       0.90      0.99      0.94      1293\n",
            "\n",
            "   micro avg       0.92      0.90      0.91     78919\n",
            "   macro avg       0.92      0.92      0.92     78919\n",
            "weighted avg       0.92      0.90      0.91     78919\n",
            " samples avg       0.90      0.90      0.90     78919\n",
            "\n"
          ],
          "name": "stdout"
        }
      ]
    },
    {
      "cell_type": "code",
      "metadata": {
        "colab": {
          "base_uri": "https://localhost:8080/"
        },
        "id": "No8lLQ4PH73q",
        "outputId": "2747c062-2414-43ea-f182-18e002c9d5c3"
      },
      "source": [
        "conf_matrix = confusion_matrix(X_test_targets.argmax(axis=1), lstm_pred.argmax(axis=1))\r\n",
        "print(conf_matrix)"
      ],
      "execution_count": 82,
      "outputs": [
        {
          "output_type": "stream",
          "text": [
            "[[  482     0     0     0    23     0     0]\n",
            " [   12  3285     0     2    14    23     0]\n",
            " [  299     9  6356    83   162   262     0]\n",
            " [  165     4    36  6667   170   251     0]\n",
            " [  370    49   138   333 37845  1036    36]\n",
            " [  584    83   290   605  2579 15273   100]\n",
            " [    9     0     0     0     2     7  1275]]\n"
          ],
          "name": "stdout"
        }
      ]
    },
    {
      "cell_type": "code",
      "metadata": {
        "colab": {
          "base_uri": "https://localhost:8080/",
          "height": 284
        },
        "id": "kfeslAMRH73q",
        "outputId": "482e8cba-e041-49c0-ebb0-fc7cd8dc082f"
      },
      "source": [
        "sns.heatmap(conf_matrix/np.sum(conf_matrix), annot=True)"
      ],
      "execution_count": 83,
      "outputs": [
        {
          "output_type": "execute_result",
          "data": {
            "text/plain": [
              "<matplotlib.axes._subplots.AxesSubplot at 0x7f092647b910>"
            ]
          },
          "metadata": {
            "tags": []
          },
          "execution_count": 83
        },
        {
          "output_type": "display_data",
          "data": {
            "image/png": "[encoded data removed]",
            "text/plain": [
              "<Figure size 432x288 with 2 Axes>"
            ]
          },
          "metadata": {
            "tags": [],
            "needs_background": "light"
          }
        }
      ]
    },
    {
      "cell_type": "code",
      "metadata": {
        "id": "arFVFsWpH73r"
      },
      "source": [
        "#lstm_model.save(\"BiLSTM\")"
      ],
      "execution_count": null,
      "outputs": []
    },
    {
      "cell_type": "markdown",
      "metadata": {
        "id": "S4Gn9J282iP1"
      },
      "source": [
        "#### Via Transformer"
      ]
    },
    {
      "cell_type": "code",
      "metadata": {
        "colab": {
          "base_uri": "https://localhost:8080/",
          "height": 1000
        },
        "id": "jaIFaoZf2ojm",
        "outputId": "21bdf47d-0140-481f-beac-d56fd4302c84"
      },
      "source": [
        "#Implement a Transformer block as a layer\r\n",
        "\r\n",
        "!pip install tf-nightly\r\n",
        "\r\n",
        "class TransformerBlock(layers.Layer):\r\n",
        "    def __init__(self, embed_dim, num_heads, ff_dim, rate=0.1):\r\n",
        "        super(TransformerBlock, self).__init__()\r\n",
        "        self.att = layers.MultiHeadAttention(num_heads=num_heads, key_dim=embed_dim)\r\n",
        "        self.ffn = keras.Sequential(\r\n",
        "            [layers.Dense(ff_dim, activation=\"relu\"), layers.Dense(embed_dim),]\r\n",
        "        )\r\n",
        "        self.layernorm1 = layers.LayerNormalization(epsilon=1e-6)\r\n",
        "        self.layernorm2 = layers.LayerNormalization(epsilon=1e-6)\r\n",
        "        self.dropout1 = layers.Dropout(rate)\r\n",
        "        self.dropout2 = layers.Dropout(rate)\r\n",
        "\r\n",
        "    def call(self, inputs, training):\r\n",
        "        attn_output = self.att(inputs, inputs)\r\n",
        "        attn_output = self.dropout1(attn_output, training=training)\r\n",
        "        out1 = self.layernorm1(inputs + attn_output)\r\n",
        "        ffn_output = self.ffn(out1)\r\n",
        "        ffn_output = self.dropout2(ffn_output, training=training)\r\n",
        "        return self.layernorm2(out1 + ffn_output)"
      ],
      "execution_count": null,
      "outputs": [
        {
          "output_type": "stream",
          "text": [
            "Collecting tf-nightly\n",
            "\u001b[?25l  Downloading https://files.pythonhosted.org/packages/cb/db/a9e8b9a6e8be932d30064a50d6944c6dc4821690afc8b318a4adac5be7fd/tf_nightly-2.5.0.dev20210301-cp37-cp37m-manylinux2010_x86_64.whl (409.0MB)\n",
            "\u001b[K     |████████████████████████████████| 409.0MB 44kB/s \n",
            "\u001b[?25hCollecting gast==0.4.0\n",
            "  Downloading https://files.pythonhosted.org/packages/b6/48/583c032b79ae5b3daa02225a675aeb673e58d2cb698e78510feceb11958c/gast-0.4.0-py3-none-any.whl\n",
            "Requirement already satisfied: absl-py~=0.10 in /usr/local/lib/python3.7/dist-packages (from tf-nightly) (0.10.0)\n",
            "Requirement already satisfied: termcolor~=1.1.0 in /usr/local/lib/python3.7/dist-packages (from tf-nightly) (1.1.0)\n",
            "Requirement already satisfied: keras-preprocessing~=1.1.2 in /usr/local/lib/python3.7/dist-packages (from tf-nightly) (1.1.2)\n",
            "Requirement already satisfied: wheel~=0.35 in /usr/local/lib/python3.7/dist-packages (from tf-nightly) (0.36.2)\n",
            "Requirement already satisfied: astunparse~=1.6.3 in /usr/local/lib/python3.7/dist-packages (from tf-nightly) (1.6.3)\n",
            "Collecting h5py~=3.1.0\n",
            "\u001b[?25l  Downloading https://files.pythonhosted.org/packages/9d/74/9eae2bedd8201ab464308f42c601a12d79727a1c87f0c867fdefb212c6cf/h5py-3.1.0-cp37-cp37m-manylinux1_x86_64.whl (4.0MB)\n",
            "\u001b[K     |████████████████████████████████| 4.0MB 52.1MB/s \n",
            "\u001b[?25hRequirement already satisfied: protobuf>=3.9.2 in /usr/local/lib/python3.7/dist-packages (from tf-nightly) (3.12.4)\n",
            "Requirement already satisfied: six~=1.15.0 in /usr/local/lib/python3.7/dist-packages (from tf-nightly) (1.15.0)\n",
            "Collecting tb-nightly~=2.5.0.a\n",
            "\u001b[?25l  Downloading https://files.pythonhosted.org/packages/d9/5d/c4dcd14ee626f6dc4e688517a374ddf60e775c8b28151414bb10de5e0778/tb_nightly-2.5.0a20210301-py3-none-any.whl (5.9MB)\n",
            "\u001b[K     |████████████████████████████████| 5.9MB 25.0MB/s \n",
            "\u001b[?25hCollecting grpcio~=1.34.0\n",
            "\u001b[?25l  Downloading https://files.pythonhosted.org/packages/d5/d1/f38a91d8724706427fe973a7dfa11e938cee98aa7196b03d870a25a08bab/grpcio-1.34.1-cp37-cp37m-manylinux2014_x86_64.whl (4.0MB)\n",
            "\u001b[K     |████████████████████████████████| 4.0MB 43.7MB/s \n",
            "\u001b[?25hRequirement already satisfied: opt-einsum~=3.3.0 in /usr/local/lib/python3.7/dist-packages (from tf-nightly) (3.3.0)\n",
            "Requirement already satisfied: typing-extensions~=3.7.4 in /usr/local/lib/python3.7/dist-packages (from tf-nightly) (3.7.4.3)\n",
            "Requirement already satisfied: google-pasta~=0.2 in /usr/local/lib/python3.7/dist-packages (from tf-nightly) (0.2.0)\n",
            "Collecting tf-estimator-nightly~=2.5.0.dev\n",
            "\u001b[?25l  Downloading https://files.pythonhosted.org/packages/6b/0a/ad0233ca628c5c9af8219676406d4f71f3036b8f53a03a1300e50b91021c/tf_estimator_nightly-2.5.0.dev2021030101-py2.py3-none-any.whl (462kB)\n",
            "\u001b[K     |████████████████████████████████| 471kB 55.5MB/s \n",
            "\u001b[?25hRequirement already satisfied: numpy~=1.19.2 in /usr/local/lib/python3.7/dist-packages (from tf-nightly) (1.19.5)\n",
            "Requirement already satisfied: wrapt~=1.12.1 in /usr/local/lib/python3.7/dist-packages (from tf-nightly) (1.12.1)\n",
            "Requirement already satisfied: flatbuffers~=1.12.0 in /usr/local/lib/python3.7/dist-packages (from tf-nightly) (1.12)\n",
            "Collecting cached-property; python_version < \"3.8\"\n",
            "  Downloading https://files.pythonhosted.org/packages/48/19/f2090f7dad41e225c7f2326e4cfe6fff49e57dedb5b53636c9551f86b069/cached_property-1.5.2-py2.py3-none-any.whl\n",
            "Requirement already satisfied: setuptools in /usr/local/lib/python3.7/dist-packages (from protobuf>=3.9.2->tf-nightly) (53.0.0)\n",
            "Requirement already satisfied: tensorboard-plugin-wit>=1.6.0 in /usr/local/lib/python3.7/dist-packages (from tb-nightly~=2.5.0.a->tf-nightly) (1.8.0)\n",
            "Requirement already satisfied: requests<3,>=2.21.0 in /usr/local/lib/python3.7/dist-packages (from tb-nightly~=2.5.0.a->tf-nightly) (2.23.0)\n",
            "Collecting tensorboard-data-server<0.4.0,>=0.3.0\n",
            "\u001b[?25l  Downloading https://files.pythonhosted.org/packages/f2/6f/a1a04f6aece9cdabe80fba01241e76172380753801e34ad50d482fbde0c0/tensorboard_data_server-0.3.0-py3-none-manylinux2010_x86_64.whl (3.8MB)\n",
            "\u001b[K     |████████████████████████████████| 3.8MB 48.2MB/s \n",
            "\u001b[?25hRequirement already satisfied: werkzeug>=0.11.15 in /usr/local/lib/python3.7/dist-packages (from tb-nightly~=2.5.0.a->tf-nightly) (1.0.1)\n",
            "Requirement already satisfied: markdown>=2.6.8 in /usr/local/lib/python3.7/dist-packages (from tb-nightly~=2.5.0.a->tf-nightly) (3.3.4)\n",
            "Requirement already satisfied: google-auth<2,>=1.6.3 in /usr/local/lib/python3.7/dist-packages (from tb-nightly~=2.5.0.a->tf-nightly) (1.27.0)\n",
            "Requirement already satisfied: google-auth-oauthlib<0.5,>=0.4.1 in /usr/local/lib/python3.7/dist-packages (from tb-nightly~=2.5.0.a->tf-nightly) (0.4.2)\n",
            "Requirement already satisfied: idna<3,>=2.5 in /usr/local/lib/python3.7/dist-packages (from requests<3,>=2.21.0->tb-nightly~=2.5.0.a->tf-nightly) (2.10)\n",
            "Requirement already satisfied: certifi>=2017.4.17 in /usr/local/lib/python3.7/dist-packages (from requests<3,>=2.21.0->tb-nightly~=2.5.0.a->tf-nightly) (2020.12.5)\n",
            "Requirement already satisfied: chardet<4,>=3.0.2 in /usr/local/lib/python3.7/dist-packages (from requests<3,>=2.21.0->tb-nightly~=2.5.0.a->tf-nightly) (3.0.4)\n",
            "Requirement already satisfied: urllib3!=1.25.0,!=1.25.1,<1.26,>=1.21.1 in /usr/local/lib/python3.7/dist-packages (from requests<3,>=2.21.0->tb-nightly~=2.5.0.a->tf-nightly) (1.24.3)\n",
            "Requirement already satisfied: importlib-metadata; python_version < \"3.8\" in /usr/local/lib/python3.7/dist-packages (from markdown>=2.6.8->tb-nightly~=2.5.0.a->tf-nightly) (3.7.0)\n",
            "Requirement already satisfied: cachetools<5.0,>=2.0.0 in /usr/local/lib/python3.7/dist-packages (from google-auth<2,>=1.6.3->tb-nightly~=2.5.0.a->tf-nightly) (4.2.1)\n",
            "Requirement already satisfied: rsa<5,>=3.1.4; python_version >= \"3.6\" in /usr/local/lib/python3.7/dist-packages (from google-auth<2,>=1.6.3->tb-nightly~=2.5.0.a->tf-nightly) (4.7.2)\n",
            "Requirement already satisfied: pyasn1-modules>=0.2.1 in /usr/local/lib/python3.7/dist-packages (from google-auth<2,>=1.6.3->tb-nightly~=2.5.0.a->tf-nightly) (0.2.8)\n",
            "Requirement already satisfied: requests-oauthlib>=0.7.0 in /usr/local/lib/python3.7/dist-packages (from google-auth-oauthlib<0.5,>=0.4.1->tb-nightly~=2.5.0.a->tf-nightly) (1.3.0)\n",
            "Requirement already satisfied: zipp>=0.5 in /usr/local/lib/python3.7/dist-packages (from importlib-metadata; python_version < \"3.8\"->markdown>=2.6.8->tb-nightly~=2.5.0.a->tf-nightly) (3.4.0)\n",
            "Requirement already satisfied: pyasn1>=0.1.3 in /usr/local/lib/python3.7/dist-packages (from rsa<5,>=3.1.4; python_version >= \"3.6\"->google-auth<2,>=1.6.3->tb-nightly~=2.5.0.a->tf-nightly) (0.4.8)\n",
            "Requirement already satisfied: oauthlib>=3.0.0 in /usr/local/lib/python3.7/dist-packages (from requests-oauthlib>=0.7.0->google-auth-oauthlib<0.5,>=0.4.1->tb-nightly~=2.5.0.a->tf-nightly) (3.1.0)\n",
            "\u001b[31mERROR: tensorflow 2.4.1 has requirement gast==0.3.3, but you'll have gast 0.4.0 which is incompatible.\u001b[0m\n",
            "\u001b[31mERROR: tensorflow 2.4.1 has requirement grpcio~=1.32.0, but you'll have grpcio 1.34.1 which is incompatible.\u001b[0m\n",
            "\u001b[31mERROR: tensorflow 2.4.1 has requirement h5py~=2.10.0, but you'll have h5py 3.1.0 which is incompatible.\u001b[0m\n",
            "Installing collected packages: gast, cached-property, h5py, grpcio, tensorboard-data-server, tb-nightly, tf-estimator-nightly, tf-nightly\n",
            "  Found existing installation: gast 0.3.3\n",
            "    Uninstalling gast-0.3.3:\n",
            "      Successfully uninstalled gast-0.3.3\n",
            "  Found existing installation: h5py 2.10.0\n",
            "    Uninstalling h5py-2.10.0:\n",
            "      Successfully uninstalled h5py-2.10.0\n",
            "  Found existing installation: grpcio 1.32.0\n",
            "    Uninstalling grpcio-1.32.0:\n",
            "      Successfully uninstalled grpcio-1.32.0\n",
            "Successfully installed cached-property-1.5.2 gast-0.4.0 grpcio-1.34.1 h5py-3.1.0 tb-nightly-2.5.0a20210301 tensorboard-data-server-0.3.0 tf-estimator-nightly-2.5.0.dev2021030101 tf-nightly-2.5.0.dev20210301\n"
          ],
          "name": "stdout"
        },
        {
          "output_type": "display_data",
          "data": {
            "application/vnd.colab-display-data+json": {
              "pip_warning": {
                "packages": [
                  "gast",
                  "grpc",
                  "h5py",
                  "tensorboard",
                  "tensorflow",
                  "tensorflow_estimator"
                ]
              }
            }
          },
          "metadata": {
            "tags": []
          }
        }
      ]
    },
    {
      "cell_type": "code",
      "metadata": {
        "id": "Jh3K1INM2ojx"
      },
      "source": [
        "#Implement embedding layer\r\n",
        "#Two seperate embedding layers, one for tokens, one for token index (positions).\r\n",
        "\r\n",
        "class TokenAndPositionEmbedding(layers.Layer):\r\n",
        "    def __init__(self, maxlen, vocab_size, embed_dim):\r\n",
        "        super(TokenAndPositionEmbedding, self).__init__()\r\n",
        "        self.token_emb = layers.Embedding(input_dim=vocab_size, output_dim=embed_dim)\r\n",
        "        self.pos_emb = layers.Embedding(input_dim=maxlen, output_dim=embed_dim)\r\n",
        "\r\n",
        "    def call(self, x):\r\n",
        "        maxlen = tf.shape(x)[-1]\r\n",
        "        positions = tf.range(start=0, limit=maxlen, delta=1)\r\n",
        "        positions = self.pos_emb(positions)\r\n",
        "        x = self.token_emb(x)\r\n",
        "        return x + positions"
      ],
      "execution_count": null,
      "outputs": []
    },
    {
      "cell_type": "code",
      "metadata": {
        "id": "RGcyQWuy2ojy"
      },
      "source": [
        "#Create classifier model using transformer layer\r\n",
        "\r\n",
        "embed_dim = 32  # Embedding size for each token (vs 32 ?)\r\n",
        "num_heads = 2  # Number of attention heads \r\n",
        "ff_dim = 32  # Hidden layer size in feed forward network inside transformer\r\n",
        "\r\n",
        "inputs = layers.Input(shape=(maxlen,))\r\n",
        "embedding_layer = TokenAndPositionEmbedding(maxlen, vocab_size, embed_dim)\r\n",
        "x = embedding_layer(inputs)\r\n",
        "transformer_block = TransformerBlock(embed_dim, num_heads, ff_dim)\r\n",
        "x = transformer_block(x)\r\n",
        "x = layers.GlobalAveragePooling1D()(x)\r\n",
        "x = layers.Dropout(0.1)(x)\r\n",
        "x = layers.Dense(embed_dim, activation=\"relu\")(x)\r\n",
        "x = layers.Dropout(0.1)(x)\r\n",
        "outputs = layers.Dense(7, activation=\"softmax\")(x)\r\n",
        "\r\n",
        "transfo_model = keras.Model(inputs=inputs, outputs=outputs)"
      ],
      "execution_count": null,
      "outputs": []
    },
    {
      "cell_type": "code",
      "metadata": {
        "colab": {
          "base_uri": "https://localhost:8080/"
        },
        "id": "Bfk-uiBr2ojy",
        "outputId": "5d794eda-42b9-4cc7-9cce-b8811bc1c0cd"
      },
      "source": [
        "#Train and Evaluate\r\n",
        "early_stopping_callback_loss = tf.keras.callbacks.EarlyStopping(monitor = 'loss', patience = 1)\r\n",
        "early_stopping_callback_val_loss = tf.keras.callbacks.EarlyStopping(monitor = 'val_loss', patience = 1)\r\n",
        "\r\n",
        "transfo_model.compile(\"adam\", \"categorical_crossentropy\", metrics=[\"accuracy\"])\r\n",
        "transfo_history = transfo_model.fit(\r\n",
        "    X_train_tok, X_train_targets, validation_split=0.2, batch_size=512, epochs=4 , \\\r\n",
        "                         callbacks = [early_stopping_callback_loss, early_stopping_callback_val_loss], verbose=1)"
      ],
      "execution_count": null,
      "outputs": [
        {
          "output_type": "stream",
          "text": [
            "Epoch 1/4\n",
            "WARNING:tensorflow:AutoGraph could not transform <function Model.make_train_function.<locals>.train_function at 0x7ff6827e6320> and will run it as-is.\n",
            "Please report this to the TensorFlow team. When filing the bug, set the verbosity to 10 (on Linux, `export AUTOGRAPH_VERBOSITY=10`) and attach the full output.\n",
            "Cause: closure mismatch, requested ('self', 'step_function'), but source function had ()\n",
            "To silence this warning, decorate the function with @tf.autograph.experimental.do_not_convert\n",
            "WARNING: AutoGraph could not transform <function Model.make_train_function.<locals>.train_function at 0x7ff6827e6320> and will run it as-is.\n",
            "Please report this to the TensorFlow team. When filing the bug, set the verbosity to 10 (on Linux, `export AUTOGRAPH_VERBOSITY=10`) and attach the full output.\n",
            "Cause: closure mismatch, requested ('self', 'step_function'), but source function had ()\n",
            "To silence this warning, decorate the function with @tf.autograph.experimental.do_not_convert\n",
            "493/494 [============================>.] - ETA: 0s - loss: 1.2310 - accuracy: 0.5442WARNING:tensorflow:AutoGraph could not transform <function Model.make_test_function.<locals>.test_function at 0x7ff686aa7950> and will run it as-is.\n",
            "Please report this to the TensorFlow team. When filing the bug, set the verbosity to 10 (on Linux, `export AUTOGRAPH_VERBOSITY=10`) and attach the full output.\n",
            "Cause: closure mismatch, requested ('self', 'step_function'), but source function had ()\n",
            "To silence this warning, decorate the function with @tf.autograph.experimental.do_not_convert\n",
            "WARNING: AutoGraph could not transform <function Model.make_test_function.<locals>.test_function at 0x7ff686aa7950> and will run it as-is.\n",
            "Please report this to the TensorFlow team. When filing the bug, set the verbosity to 10 (on Linux, `export AUTOGRAPH_VERBOSITY=10`) and attach the full output.\n",
            "Cause: closure mismatch, requested ('self', 'step_function'), but source function had ()\n",
            "To silence this warning, decorate the function with @tf.autograph.experimental.do_not_convert\n",
            "494/494 [==============================] - 42s 78ms/step - loss: 1.2301 - accuracy: 0.5446 - val_loss: 0.6364 - val_accuracy: 0.7764\n",
            "Epoch 2/4\n",
            "494/494 [==============================] - 38s 77ms/step - loss: 0.5555 - accuracy: 0.8080 - val_loss: 0.4813 - val_accuracy: 0.8443\n",
            "Epoch 3/4\n",
            "494/494 [==============================] - 38s 77ms/step - loss: 0.3876 - accuracy: 0.8735 - val_loss: 0.4408 - val_accuracy: 0.8610\n",
            "Epoch 4/4\n",
            "494/494 [==============================] - 38s 77ms/step - loss: 0.3081 - accuracy: 0.9014 - val_loss: 0.4463 - val_accuracy: 0.8639\n"
          ],
          "name": "stdout"
        }
      ]
    },
    {
      "cell_type": "code",
      "metadata": {
        "colab": {
          "base_uri": "https://localhost:8080/",
          "height": 295
        },
        "id": "yF0AqMxD2ojz",
        "outputId": "4fccbe97-ffb8-4b46-9460-3b216517d88e"
      },
      "source": [
        "plt.plot(transfo_history.history['loss'])\r\n",
        "plt.plot(transfo_history.history['val_loss'])\r\n",
        "plt.title('model train vs validation loss')\r\n",
        "plt.ylabel('loss')\r\n",
        "plt.xlabel('epoch')\r\n",
        "plt.legend(['train', 'validation'], loc='upper right')\r\n",
        "plt.show()"
      ],
      "execution_count": null,
      "outputs": [
        {
          "output_type": "display_data",
          "data": {
            "image/png": "[encoded data removed]",
            "text/plain": [
              "<Figure size 432x288 with 1 Axes>"
            ]
          },
          "metadata": {
            "tags": [],
            "needs_background": "light"
          }
        }
      ]
    },
    {
      "cell_type": "code",
      "metadata": {
        "colab": {
          "base_uri": "https://localhost:8080/"
        },
        "id": "R5gPNfR-2ojz",
        "outputId": "b921e93e-9567-48bf-ccc0-5e561271ffde"
      },
      "source": [
        "transfo_pred = (transfo_model.predict(X_test_tok) >= 0.5).astype(\"int\")"
      ],
      "execution_count": null,
      "outputs": [
        {
          "output_type": "stream",
          "text": [
            "WARNING:tensorflow:AutoGraph could not transform <function Model.make_predict_function.<locals>.predict_function at 0x7ff686988200> and will run it as-is.\n",
            "Please report this to the TensorFlow team. When filing the bug, set the verbosity to 10 (on Linux, `export AUTOGRAPH_VERBOSITY=10`) and attach the full output.\n",
            "Cause: closure mismatch, requested ('self', 'step_function'), but source function had ()\n",
            "To silence this warning, decorate the function with @tf.autograph.experimental.do_not_convert\n",
            "WARNING: AutoGraph could not transform <function Model.make_predict_function.<locals>.predict_function at 0x7ff686988200> and will run it as-is.\n",
            "Please report this to the TensorFlow team. When filing the bug, set the verbosity to 10 (on Linux, `export AUTOGRAPH_VERBOSITY=10`) and attach the full output.\n",
            "Cause: closure mismatch, requested ('self', 'step_function'), but source function had ()\n",
            "To silence this warning, decorate the function with @tf.autograph.experimental.do_not_convert\n"
          ],
          "name": "stdout"
        }
      ]
    },
    {
      "cell_type": "code",
      "metadata": {
        "colab": {
          "base_uri": "https://localhost:8080/"
        },
        "id": "y3oj_4ne2ojz",
        "outputId": "9892fe1d-5b68-4b5c-b06e-cad955293701"
      },
      "source": [
        "print(classification_report(X_test_targets, transfo_pred))"
      ],
      "execution_count": null,
      "outputs": [
        {
          "output_type": "stream",
          "text": [
            "              precision    recall  f1-score   support\n",
            "\n",
            "           0       0.81      0.72      0.76     10683\n",
            "           1       0.79      0.83      0.81      5481\n",
            "           2       0.81      0.69      0.75      9460\n",
            "           3       0.96      0.93      0.94     39885\n",
            "           4       0.83      0.81      0.82     13410\n",
            "\n",
            "   micro avg       0.89      0.84      0.87     78919\n",
            "   macro avg       0.84      0.79      0.81     78919\n",
            "weighted avg       0.89      0.84      0.86     78919\n",
            " samples avg       0.84      0.84      0.84     78919\n",
            "\n"
          ],
          "name": "stdout"
        }
      ]
    },
    {
      "cell_type": "code",
      "metadata": {
        "colab": {
          "base_uri": "https://localhost:8080/"
        },
        "id": "Zxd4eqBW2oj0",
        "outputId": "a470573e-b63f-405f-dff0-4b38a17e49ef"
      },
      "source": [
        "conf_matrix = confusion_matrix(X_test_targets.argmax(axis=1), transfo_pred.argmax(axis=1))\r\n",
        "print(conf_matrix)"
      ],
      "execution_count": null,
      "outputs": [
        {
          "output_type": "stream",
          "text": [
            "[[ 9098    90   215   433   781]\n",
            " [  870  4024   364   109   125]\n",
            " [ 2096   117  6185   502   650]\n",
            " [ 1393   177   388 37149   637]\n",
            " [ 1797    61   162   606 10890]]\n"
          ],
          "name": "stdout"
        }
      ]
    },
    {
      "cell_type": "code",
      "metadata": {
        "colab": {
          "base_uri": "https://localhost:8080/",
          "height": 284
        },
        "id": "QDWjUPCF2oj0",
        "outputId": "f1b69e61-e4b6-4029-899b-14029f876486"
      },
      "source": [
        "sns.heatmap(conf_matrix/np.sum(conf_matrix), annot=True)"
      ],
      "execution_count": null,
      "outputs": [
        {
          "output_type": "execute_result",
          "data": {
            "text/plain": [
              "<matplotlib.axes._subplots.AxesSubplot at 0x7f92fadbbf10>"
            ]
          },
          "metadata": {
            "tags": []
          },
          "execution_count": 96
        },
        {
          "output_type": "display_data",
          "data": {
            "image/png": "[encoded data removed]",
            "text/plain": [
              "<Figure size 432x288 with 2 Axes>"
            ]
          },
          "metadata": {
            "tags": [],
            "needs_background": "light"
          }
        }
      ]
    },
    {
      "cell_type": "markdown",
      "metadata": {
        "id": "D2o-ZiqvL9Xz"
      },
      "source": [
        "### Via lexical features analysis"
      ]
    },
    {
      "cell_type": "code",
      "metadata": {
        "id": "KRhlmH4DMBCk"
      },
      "source": [
        ""
      ],
      "execution_count": null,
      "outputs": []
    },
    {
      "cell_type": "markdown",
      "metadata": {
        "id": "qTamIv6bjuOV"
      },
      "source": [
        "# Feature analysis"
      ]
    },
    {
      "cell_type": "markdown",
      "metadata": {
        "id": "oDHsf0pljx0K"
      },
      "source": [
        "### Sentiment analysis"
      ]
    },
    {
      "cell_type": "code",
      "metadata": {
        "colab": {
          "base_uri": "https://localhost:8080/"
        },
        "id": "vLcREzxvjwRL",
        "outputId": "c6bc14a6-8766-4765-8bcf-c2b31cd69c1d"
      },
      "source": [
        "!pip install vaderSentiment_fr\r\n",
        "from vaderSentiment_fr.vaderSentiment import SentimentIntensityAnalyzer\r\n",
        "nltk.download('vader_lexicon')\r\n",
        "vader = SentimentIntensityAnalyzer()"
      ],
      "execution_count": null,
      "outputs": [
        {
          "output_type": "stream",
          "text": [
            "Collecting vaderSentiment_fr\n",
            "\u001b[?25l  Downloading https://files.pythonhosted.org/packages/d6/f0/eca010539a8b0ac61a7c7c3e10054bd8657ed625dfa52b5d629aaf321212/vaderSentiment_fr-1.2.tar.gz (228kB)\n",
            "\u001b[K     |████████████████████████████████| 235kB 5.8MB/s \n",
            "\u001b[?25hCollecting unidecode\n",
            "\u001b[?25l  Downloading https://files.pythonhosted.org/packages/9e/25/723487ca2a52ebcee88a34d7d1f5a4b80b793f179ee0f62d5371938dfa01/Unidecode-1.2.0-py2.py3-none-any.whl (241kB)\n",
            "\u001b[K     |████████████████████████████████| 245kB 49.0MB/s \n",
            "\u001b[?25hCollecting fuzzywuzzy\n",
            "  Downloading https://files.pythonhosted.org/packages/43/ff/74f23998ad2f93b945c0309f825be92e04e0348e062026998b5eefef4c33/fuzzywuzzy-0.18.0-py2.py3-none-any.whl\n",
            "Building wheels for collected packages: vaderSentiment-fr\n",
            "  Building wheel for vaderSentiment-fr (setup.py) ... \u001b[?25l\u001b[?25hdone\n",
            "  Created wheel for vaderSentiment-fr: filename=vaderSentiment_fr-1.2-cp37-none-any.whl size=232216 sha256=c232af99699787ebdf86243077aace094bfc6417e1ed82a6e4285f39d98d134d\n",
            "  Stored in directory: /root/.cache/pip/wheels/a1/3f/c5/0aca890f5c576a804800875e10035a2a0f8bd808952cd82bdf\n",
            "Successfully built vaderSentiment-fr\n",
            "Installing collected packages: unidecode, fuzzywuzzy, vaderSentiment-fr\n",
            "Successfully installed fuzzywuzzy-0.18.0 unidecode-1.2.0 vaderSentiment-fr-1.2\n",
            "[nltk_data] Downloading package vader_lexicon to /root/nltk_data...\n"
          ],
          "name": "stdout"
        }
      ]
    },
    {
      "cell_type": "code",
      "metadata": {
        "colab": {
          "base_uri": "https://localhost:8080/"
        },
        "id": "zKOdO-BvkILD",
        "outputId": "6f0b85b2-6ca7-4157-8170-3d5075c8fcbe"
      },
      "source": [
        "vader.polarity_scores('Moi mdr t trop nul')"
      ],
      "execution_count": null,
      "outputs": [
        {
          "output_type": "execute_result",
          "data": {
            "text/plain": [
              "{'compound': 0.4779, 'neg': 0.206, 'neu': 0.345, 'pos': 0.449}"
            ]
          },
          "metadata": {
            "tags": []
          },
          "execution_count": 102
        }
      ]
    },
    {
      "cell_type": "code",
      "metadata": {
        "colab": {
          "base_uri": "https://localhost:8080/"
        },
        "id": "iJAHTNUUlRlv",
        "outputId": "2b8a9d67-b8b1-4dd8-95f2-8d1da480f226"
      },
      "source": [
        "vader.polarity_scores_max('visage avec des larmes de joie')"
      ],
      "execution_count": null,
      "outputs": [
        {
          "output_type": "stream",
          "text": [
            "visage --> sage\n",
            "Fuzzy Ratio : 80\n",
            "Pas pris en compte car < 85\n",
            "avec --> avare\n",
            "Fuzzy Ratio : 67\n",
            "Pas pris en compte car < 85\n",
            "Processing time : 0.36016273498535156\n"
          ],
          "name": "stdout"
        },
        {
          "output_type": "execute_result",
          "data": {
            "text/plain": [
              "{'compound': -0.1531, 'neg': 0.264, 'neu': 0.556, 'pos': 0.181}"
            ]
          },
          "metadata": {
            "tags": []
          },
          "execution_count": 103
        }
      ]
    },
    {
      "cell_type": "code",
      "metadata": {
        "id": "ndWGQXvGlTu-"
      },
      "source": [
        "def get_vader_sent(val):\r\n",
        "  if val >= 0.05:\r\n",
        "    return \"pos\"\r\n",
        "  elif val <= -0.05:\r\n",
        "    return \"neg\"\r\n",
        "  else:\r\n",
        "    return \"neu\""
      ],
      "execution_count": null,
      "outputs": []
    },
    {
      "cell_type": "code",
      "metadata": {
        "colab": {
          "base_uri": "https://localhost:8080/"
        },
        "id": "boQdcoxnlXC6",
        "outputId": "5c0dc33b-3567-477f-f3ce-5fdf72dfdb80"
      },
      "source": [
        "# Checking with non tokenized toxic data\r\n",
        "vader_toxic = []\r\n",
        "sentiments_toxic = dataset.loc[dataset['Class'] == 1][\"cleanSentence\"].tolist()\r\n",
        "\r\n",
        "for i in range(len(sentiments_toxic)):\r\n",
        "  vader_toxic.append(vader.polarity_scores(str(sentiments_toxic[i])))\r\n",
        "\r\n",
        "comp = []\r\n",
        "pos = []\r\n",
        "neg = []\r\n",
        "neu = []\r\n",
        "for j in range(len(vader_toxic)):\r\n",
        "  comp.append(vader_toxic[j]['compound'])\r\n",
        "  pos.append(vader_toxic[j]['pos'])\r\n",
        "  neg.append(vader_toxic[j]['neg'])\r\n",
        "  neu.append(vader_toxic[j]['neu'])\r\n",
        "\r\n",
        "print(\"Compound: \",sum(comp)/len(comp), \"Positive: \",sum(pos)/len(pos),\"Neutral: \", sum(neu)/len(neu),\"Negative :\", sum(neg)/len(neg))"
      ],
      "execution_count": null,
      "outputs": [
        {
          "output_type": "stream",
          "text": [
            "Compound:  -0.13845125929507032 Positive:  0.06868095460782297 Neutral:  0.7195407851258535 Negative : 0.21178063445240752\n"
          ],
          "name": "stdout"
        }
      ]
    },
    {
      "cell_type": "code",
      "metadata": {
        "colab": {
          "base_uri": "https://localhost:8080/"
        },
        "id": "GblYYtFjmAfY",
        "outputId": "1f30d3c5-04a6-4ada-b439-61913bc79cdb"
      },
      "source": [
        "# Checking with non tokenized clean data\r\n",
        "vader_clean = []\r\n",
        "sentiments_clean = dataset.loc[dataset['Class'] == 0][\"cleanSentence\"].tolist()\r\n",
        "\r\n",
        "for i in range(len(sentiments_clean)):\r\n",
        "  vader_clean.append(vader.polarity_scores(str(sentiments_clean[i])))\r\n",
        "\r\n",
        "comp = []\r\n",
        "pos = []\r\n",
        "neg = []\r\n",
        "neu = []\r\n",
        "for j in range(len(vader_clean)):\r\n",
        "  comp.append(vader_clean[j]['compound'])\r\n",
        "  pos.append(vader_clean[j]['pos'])\r\n",
        "  neg.append(vader_clean[j]['neg'])\r\n",
        "  neu.append(vader_clean[j]['neu'])\r\n",
        "\r\n",
        "print(\"Compound: \",sum(comp)/len(comp), \"Positive: \",sum(pos)/len(pos),\"Neutral: \", sum(neu)/len(neu),\"Negative :\", sum(neg)/len(neg))"
      ],
      "execution_count": null,
      "outputs": [
        {
          "output_type": "stream",
          "text": [
            "Compound:  0.1103306954999951 Positive:  0.1261536849999933 Neutral:  0.8205530599999965 Negative : 0.053292799999998926\n"
          ],
          "name": "stdout"
        }
      ]
    },
    {
      "cell_type": "code",
      "metadata": {
        "colab": {
          "base_uri": "https://localhost:8080/"
        },
        "id": "w-iEJ0e-mQRG",
        "outputId": "d2cac464-a018-4e7d-df5c-2b0cd7dae4e3"
      },
      "source": [
        "# Checking with non tokenized VERY toxic data\r\n",
        "vader_toxic = []\r\n",
        "sentiments_toxic = dataset.loc[dataset['Level'] == \"HIGH\"][\"cleanSentence\"].tolist()\r\n",
        "\r\n",
        "for i in range(len(sentiments_toxic)):\r\n",
        "  vader_toxic.append(vader.polarity_scores(str(sentiments_toxic[i])))\r\n",
        "\r\n",
        "comp = []\r\n",
        "pos = []\r\n",
        "neg = []\r\n",
        "neu = []\r\n",
        "for j in range(len(vader_toxic)):\r\n",
        "  comp.append(vader_toxic[j]['compound'])\r\n",
        "  pos.append(vader_toxic[j]['pos'])\r\n",
        "  neg.append(vader_toxic[j]['neg'])\r\n",
        "  neu.append(vader_toxic[j]['neu'])\r\n",
        "\r\n",
        "print(\"Compound: \",sum(comp)/len(comp), \"Positive: \",sum(pos)/len(pos),\"Neutral: \", sum(neu)/len(neu),\"Negative :\", sum(neg)/len(neg))"
      ],
      "execution_count": null,
      "outputs": [
        {
          "output_type": "stream",
          "text": [
            "Compound:  -0.1677027025000968 Positive:  0.06561415345402831 Neutral:  0.7009890175793817 Negative : 0.23339883428913538\n"
          ],
          "name": "stdout"
        }
      ]
    },
    {
      "cell_type": "code",
      "metadata": {
        "id": "FBDGBeM7ex02"
      },
      "source": [
        ""
      ],
      "execution_count": null,
      "outputs": []
    },
    {
      "cell_type": "markdown",
      "metadata": {
        "id": "zK4PgE3eoTo8"
      },
      "source": [
        "# Error Analysis"
      ]
    },
    {
      "cell_type": "markdown",
      "metadata": {
        "id": "lYPQKmJYoXsh"
      },
      "source": [
        "### Further dataset inspection"
      ]
    },
    {
      "cell_type": "code",
      "metadata": {
        "colab": {
          "base_uri": "https://localhost:8080/"
        },
        "id": "d_Sf2yl9oWvD",
        "outputId": "7f25c10b-c055-4fe4-a261-2e75376701ba"
      },
      "source": [
        "print(\"\\\"Nul\\\" in Low sentences: \", dataset_low[\"cleanSentence\"].str.count(\"nul\").sum())\r\n",
        "print(\"\\\"Nul\\\" in Medium sentences: \", dataset_medium[\"cleanSentence\"].str.count(\"nul\").sum())\r\n",
        "print(\"\\\"Nul\\\" in High sentences: \", dataset_high[\"cleanSentence\"].str.count(\"nul\").sum())\r\n",
        "print(\"\\\"Nul\\\" in Very_High sentences: \", dataset_veryhigh[\"cleanSentence\"].str.count(\"nul\").sum())\r\n",
        "print(\"\\\"Nul\\\" in Neutral sentences: \", neutral[\"Sentence\"].str.count(\"nul\").sum())"
      ],
      "execution_count": 88,
      "outputs": [
        {
          "output_type": "stream",
          "text": [
            "\"Nul\" in Low sentences:  4786\n",
            "\"Nul\" in Medium sentences:  5633\n",
            "\"Nul\" in High sentences:  1018\n",
            "\"Nul\" in Very_High sentences:  1783\n",
            "\"Nul\" in Neutral sentences:  185\n"
          ],
          "name": "stdout"
        }
      ]
    },
    {
      "cell_type": "code",
      "metadata": {
        "colab": {
          "base_uri": "https://localhost:8080/"
        },
        "id": "bmdxsv_6pd4Z",
        "outputId": "c72a9831-ae6b-4a65-e62b-7d3f7697b18a"
      },
      "source": [
        "print(\"\\\"Conne\\\" in Low sentences: \", dataset_low[\"cleanSentence\"].str.count(\"conne\").sum())\r\n",
        "print(\"\\\"Conne\\\" in Medium sentences: \", dataset_medium[\"cleanSentence\"].str.count(\"conne\").sum())\r\n",
        "print(\"\\\"Conne\\\" in High sentences: \", dataset_high[\"cleanSentence\"].str.count(\"conne\").sum())\r\n",
        "print(\"\\\"Conne\\\" in Very_High sentences: \", dataset_veryhigh[\"cleanSentence\"].str.count(\"conne\").sum())\r\n",
        "print(\"\\\"Conne\\\" in Neutral sentences: \", neutral[\"Sentence\"].str.count(\"conne\").sum())"
      ],
      "execution_count": 87,
      "outputs": [
        {
          "output_type": "stream",
          "text": [
            "\"Conne\" in Low sentences:  738\n",
            "\"Conne\" in Medium sentences:  639\n",
            "\"Conne\" in High sentences:  926\n",
            "\"Conne\" in Very_High sentences:  1170\n",
            "\"Conne\" in Neutral sentences:  754\n"
          ],
          "name": "stdout"
        }
      ]
    },
    {
      "cell_type": "code",
      "metadata": {
        "colab": {
          "base_uri": "https://localhost:8080/"
        },
        "id": "1CRdLONqqPjp",
        "outputId": "90fc7e76-8f8c-488e-a8e8-b8aebe80a768"
      },
      "source": [
        "print(\"\\\"Gay\\\" in Low sentences: \", dataset_low[\"cleanSentence\"].str.count(\"gay\").sum())\r\n",
        "print(\"\\\"Gay\\\" in Medium sentences: \", dataset_medium[\"cleanSentence\"].str.count(\"gay\").sum())\r\n",
        "print(\"\\\"Gay\\\" in High sentences: \", dataset_high[\"cleanSentence\"].str.count(\"gay\").sum())\r\n",
        "print(\"\\\"Gay\\\" in Very_High sentences: \", dataset_veryhigh[\"cleanSentence\"].str.count(\"gay\").sum())\r\n",
        "print(\"\\\"Gay\\\" in Neutral sentences: \", neutral[\"Sentence\"].str.count(\"gay\").sum())"
      ],
      "execution_count": 86,
      "outputs": [
        {
          "output_type": "stream",
          "text": [
            "\"Gay\" in Low sentences:  290\n",
            "\"Gay\" in Medium sentences:  869\n",
            "\"Gay\" in High sentences:  2189\n",
            "\"Gay\" in Very_High sentences:  1001\n",
            "\"Gay\" in Neutral sentences:  97\n"
          ],
          "name": "stdout"
        }
      ]
    },
    {
      "cell_type": "code",
      "metadata": {
        "colab": {
          "base_uri": "https://localhost:8080/"
        },
        "id": "pUSYzCTFqwDd",
        "outputId": "3775f99b-476e-435d-ef5d-34c812160b30"
      },
      "source": [
        "print(\"\\\"Connard\\\" in Low sentences: \", dataset_low[\"cleanSentence\"].str.count(\"connard\").sum())\r\n",
        "print(\"\\\"Connard\\\" in Medium sentences: \", dataset_medium[\"cleanSentence\"].str.count(\"connard\").sum())\r\n",
        "print(\"\\\"Connard\\\" in High sentences: \", dataset_high[\"cleanSentence\"].str.count(\"connard\").sum())\r\n",
        "print(\"\\\"Connard\\\" in Very_High sentences: \", dataset_veryhigh[\"cleanSentence\"].str.count(\"connard\").sum())\r\n",
        "print(\"\\\"Connard\\\" in Neutral sentences: \", neutral[\"Sentence\"].str.count(\"connard\").sum())"
      ],
      "execution_count": 89,
      "outputs": [
        {
          "output_type": "stream",
          "text": [
            "\"Connard\" in Low sentences:  51\n",
            "\"Connard\" in Medium sentences:  2714\n",
            "\"Connard\" in High sentences:  1603\n",
            "\"Connard\" in Very_High sentences:  2379\n",
            "\"Connard\" in Neutral sentences:  31\n"
          ],
          "name": "stdout"
        }
      ]
    },
    {
      "cell_type": "code",
      "metadata": {
        "id": "GlHivJJesrxt"
      },
      "source": [
        "#Removing frequent words\r\n",
        "#FREQWORDS = set([w for (w, wc) in cnt.most_common(10)])\r\n",
        "FREQWORDS = ['être', 'ses', 'rien', 'son', 'm', 'juste', 'ont', 'as', 'lui', 'peut', 'aussi', 'dire', 'alors', 'mec', 'car', 'pas', 'ils', 'vraiment', 'même', 'es', 'toi', 'quand', 'ton', 'nous', 'tes', 'ces', 'trop', 'te', 'quoi', 'par', 'n', 'fait', 'vidéo', 'sont', 'ou', 'mon', 'y', 'suis', 'ta', 'ma', 'sa', 'me', 's', 'meme', 'moi', 'vraiment' 'pas', 'je', 'il', 'tu', 'j', 'vous', 'on', 't', 'plus', 'ai', 'se', 'elle', 'faire', 'cette', 'bien', 'de', 'est', 'la', 'et', 'le','les','c','que','des','a','un','en','à', 'pour','qui', 'l', 'd', 'une', 'ce', 'mais', 'qu', 'ne', 'ça', 'dans','du', 'sur', 'avec', 'tout', 'au', 'si', 'comme']\r\n",
        "\r\n",
        "dataset_low_wo_freq = dataset_low.copy()\r\n",
        "dataset_medium_wo_freq = dataset_medium.copy()\r\n",
        "dataset_high_wo_freq = dataset_high.copy()\r\n",
        "dataset_veryhigh_wo_freq = dataset_veryhigh.copy()\r\n",
        "neutral_wo_freq = neutral.copy()\r\n",
        "\r\n",
        "neutral_wo_freq['Sentence'] = neutral_wo_freq['Sentence'].apply(lambda x: x.lower())\r\n",
        "neutral_wo_freq['Sentence'] = neutral_wo_freq['Sentence'].apply(remove_punctuations)\r\n",
        "neutral_wo_freq['Sentence'] = neutral_wo_freq['Sentence'].apply(remove_URL)\r\n",
        "neutral_wo_freq['Sentence'] = neutral_wo_freq['Sentence'].apply(remove_html)\r\n",
        "neutral_wo_freq['Sentence'] = neutral_wo_freq['Sentence'].apply(remove_special)\r\n",
        "\r\n",
        "def remove_freqwords(text):\r\n",
        "    return \" \".join([word for word in str(text).split() if word not in FREQWORDS])\r\n",
        "\r\n",
        "dataset_low_wo_freq['cleanSentence'] = dataset_low_wo_freq['cleanSentence'].apply(remove_freqwords)\r\n",
        "dataset_medium_wo_freq['cleanSentence'] = dataset_medium_wo_freq['cleanSentence'].apply(remove_freqwords)\r\n",
        "dataset_high_wo_freq['cleanSentence'] = dataset_high_wo_freq['cleanSentence'].apply(remove_freqwords)\r\n",
        "dataset_veryhigh_wo_freq['cleanSentence'] = dataset_veryhigh_wo_freq['cleanSentence'].apply(remove_freqwords)\r\n",
        "neutral_wo_freq['Sentence'] = neutral_wo_freq['Sentence'].apply(remove_freqwords)"
      ],
      "execution_count": 130,
      "outputs": []
    },
    {
      "cell_type": "code",
      "metadata": {
        "colab": {
          "base_uri": "https://localhost:8080/"
        },
        "id": "Qd6RPw7wq7kL",
        "outputId": "df59bb94-6669-4634-9a40-015843bef614"
      },
      "source": [
        "#Checking frequent words\r\n",
        "cnt_low = Counter()\r\n",
        "for text in dataset_low_wo_freq[\"cleanSentence\"].values:\r\n",
        "    for word in text.split():\r\n",
        "        cnt_low[word] += 1\r\n",
        "        \r\n",
        "cnt_low.most_common(20)"
      ],
      "execution_count": 122,
      "outputs": [
        {
          "output_type": "execute_result",
          "data": {
            "text/plain": [
              "[('nul', 4196),\n",
              " ('merde', 3629),\n",
              " ('con', 3115),\n",
              " ('gens', 1483),\n",
              " ('cons', 1384),\n",
              " ('merci', 954),\n",
              " ('va', 949),\n",
              " ('horrible', 946),\n",
              " ('sans', 935),\n",
              " ('donc', 935),\n",
              " ('bande', 924),\n",
              " ('tous', 889),\n",
              " ('faut', 859),\n",
              " ('dit', 855),\n",
              " ('très', 845),\n",
              " ('êtes', 838),\n",
              " ('peu', 827),\n",
              " ('bon', 814),\n",
              " ('non', 798),\n",
              " ('était', 795)]"
            ]
          },
          "metadata": {
            "tags": []
          },
          "execution_count": 122
        }
      ]
    },
    {
      "cell_type": "code",
      "metadata": {
        "colab": {
          "base_uri": "https://localhost:8080/"
        },
        "id": "CfpugPeMsU3P",
        "outputId": "65774dbf-b9c0-42a1-fb20-fe70598556db"
      },
      "source": [
        "#Checking frequent words\r\n",
        "cnt_med = Counter()\r\n",
        "for text in dataset_medium_wo_freq[\"cleanSentence\"].values:\r\n",
        "    for word in text.split():\r\n",
        "        cnt_med[word] += 1\r\n",
        "        \r\n",
        "cnt_med.most_common(20)"
      ],
      "execution_count": 123,
      "outputs": [
        {
          "output_type": "execute_result",
          "data": {
            "text/plain": [
              "[('nul', 4969),\n",
              " ('merde', 2875),\n",
              " ('fake', 2298),\n",
              " ('va', 2197),\n",
              " ('tous', 1990),\n",
              " ('gros', 1907),\n",
              " ('bande', 1754),\n",
              " ('con', 1711),\n",
              " ('gens', 1635),\n",
              " ('pauvre', 1604),\n",
              " ('connard', 1597),\n",
              " ('faut', 1442),\n",
              " ('leur', 1351),\n",
              " ('france', 1303),\n",
              " ('non', 1294),\n",
              " ('encore', 1272),\n",
              " ('sans', 1213),\n",
              " ('votre', 1139),\n",
              " ('dit', 1130),\n",
              " ('êtes', 1129)]"
            ]
          },
          "metadata": {
            "tags": []
          },
          "execution_count": 123
        }
      ]
    },
    {
      "cell_type": "code",
      "metadata": {
        "colab": {
          "base_uri": "https://localhost:8080/"
        },
        "id": "ufbeYgh6sXCQ",
        "outputId": "c3c8a324-7f5c-4194-a4d7-72b3e62b88d6"
      },
      "source": [
        "#Checking frequent words\r\n",
        "cnt_high = Counter()\r\n",
        "for text in dataset_high_wo_freq[\"cleanSentence\"].values:\r\n",
        "    for word in text.split():\r\n",
        "        cnt_high[word] += 1\r\n",
        "        \r\n",
        "cnt_high.most_common(20)"
      ],
      "execution_count": 124,
      "outputs": [
        {
          "output_type": "execute_result",
          "data": {
            "text/plain": [
              "[('merde', 4569),\n",
              " ('vos', 4239),\n",
              " ('con', 3487),\n",
              " ('pd', 3346),\n",
              " ('gros', 2678),\n",
              " ('bande', 2354),\n",
              " ('va', 2135),\n",
              " ('tous', 2109),\n",
              " ('gay', 1718),\n",
              " ('fermer', 1714),\n",
              " ('gueule', 1685),\n",
              " ('fermez', 1511),\n",
              " ('pute', 1501),\n",
              " ('leur', 1460),\n",
              " ('êtes', 1454),\n",
              " ('gens', 1419),\n",
              " ('fais', 1339),\n",
              " ('gueules', 1314),\n",
              " ('faut', 1300),\n",
              " ('grosse', 1271)]"
            ]
          },
          "metadata": {
            "tags": []
          },
          "execution_count": 124
        }
      ]
    },
    {
      "cell_type": "code",
      "metadata": {
        "colab": {
          "base_uri": "https://localhost:8080/"
        },
        "id": "Rn0uuJM6sgnN",
        "outputId": "53e61ecf-c0cc-4598-f255-53bc73881640"
      },
      "source": [
        "#Checking frequent words\r\n",
        "cnt_veryhigh = Counter()\r\n",
        "for text in dataset_veryhigh_wo_freq[\"cleanSentence\"].values:\r\n",
        "    for word in text.split():\r\n",
        "        cnt_veryhigh[word] += 1\r\n",
        "        \r\n",
        "cnt_veryhigh.most_common(20)"
      ],
      "execution_count": 125,
      "outputs": [
        {
          "output_type": "execute_result",
          "data": {
            "text/plain": [
              "[('merde', 11168),\n",
              " ('gueule', 6500),\n",
              " ('vos', 5620),\n",
              " ('tous', 4282),\n",
              " ('tg', 4228),\n",
              " ('ferme', 3960),\n",
              " ('va', 3958),\n",
              " ('bande', 3891),\n",
              " ('gens', 3582),\n",
              " ('gros', 3483),\n",
              " ('allez', 3336),\n",
              " ('con', 2942),\n",
              " ('fdp', 2815),\n",
              " ('mère', 2638),\n",
              " ('vie', 2568),\n",
              " ('pute', 2557),\n",
              " ('leur', 2520),\n",
              " ('grosse', 2501),\n",
              " ('foutre', 2385),\n",
              " ('faut', 2385)]"
            ]
          },
          "metadata": {
            "tags": []
          },
          "execution_count": 125
        }
      ]
    },
    {
      "cell_type": "code",
      "metadata": {
        "colab": {
          "base_uri": "https://localhost:8080/"
        },
        "id": "_BJ57xQRtKRa",
        "outputId": "9444858f-0f97-42c4-b7c3-9e7d44f789af"
      },
      "source": [
        "#Checking frequent words\r\n",
        "cnt_neutral = Counter()\r\n",
        "for text in neutral_wo_freq[\"Sentence\"].values:\r\n",
        "    for word in text.split():\r\n",
        "        cnt_neutral[word] += 1\r\n",
        "        \r\n",
        "cnt_neutral.most_common(20)"
      ],
      "execution_count": 131,
      "outputs": [
        {
          "output_type": "execute_result",
          "data": {
            "text/plain": [
              "[('https', 12176),\n",
              " ('co', 10555),\n",
              " ('va', 4956),\n",
              " ('non', 4729),\n",
              " ('merci', 4666),\n",
              " ('très', 4209),\n",
              " ('oui', 4131),\n",
              " ('tous', 3972),\n",
              " ('faut', 3884),\n",
              " ('1', 3829),\n",
              " ('bon', 3795),\n",
              " ('2', 3671),\n",
              " ('avoir', 3602),\n",
              " ('dit', 3350),\n",
              " ('sans', 3315),\n",
              " ('était', 3255),\n",
              " ('gens', 3211),\n",
              " ('là', 3185),\n",
              " ('bonne', 3174),\n",
              " ('donc', 3060)]"
            ]
          },
          "metadata": {
            "tags": []
          },
          "execution_count": 131
        }
      ]
    },
    {
      "cell_type": "code",
      "metadata": {
        "id": "CrHonQmzug-n"
      },
      "source": [
        ""
      ],
      "execution_count": null,
      "outputs": []
    }
  ]
}