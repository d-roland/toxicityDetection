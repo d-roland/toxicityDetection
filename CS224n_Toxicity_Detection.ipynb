{
  "nbformat": 4,
  "nbformat_minor": 0,
  "metadata": {
    "colab": {
      "name": "CS224n - Toxicity Detection.ipynb",
      "provenance": [],
      "collapsed_sections": [],
      "toc_visible": true,
      "include_colab_link": true
    },
    "kernelspec": {
      "name": "python3",
      "display_name": "Python 3"
    },
    "accelerator": "GPU"
  },
  "cells": [
    {
      "cell_type": "markdown",
      "metadata": {
        "id": "view-in-github",
        "colab_type": "text"
      },
      "source": [
        "<a href=\"https://colab.research.google.com/github/d-roland/toxicityDetection/blob/main/CS224n_Toxicity_Detection.ipynb\" target=\"_parent\"><img src=\"https://colab.research.google.com/assets/colab-badge.svg\" alt=\"Open In Colab\"/></a>"
      ]
    },
    {
      "cell_type": "code",
      "metadata": {
        "id": "ZOQTeOTVz-3H"
      },
      "source": [
        "%tensorflow_version 2.x"
      ],
      "execution_count": 1,
      "outputs": []
    },
    {
      "cell_type": "code",
      "metadata": {
        "colab": {
          "base_uri": "https://localhost:8080/"
        },
        "id": "BjomWJOn0Fss",
        "outputId": "3ddec9d7-f17c-4607-8ed7-f28aeb74615f"
      },
      "source": [
        "import warnings\r\n",
        "warnings.filterwarnings('ignore')\r\n",
        "import pandas as pd\r\n",
        "import matplotlib.pyplot as plt\r\n",
        "import numpy as np\r\n",
        "import seaborn as sns\r\n",
        "import re\r\n",
        "import csv\r\n",
        "from tqdm import tqdm, trange\r\n",
        "from collections import Counter, defaultdict\r\n",
        "from wordcloud import WordCloud\r\n",
        "import string\r\n",
        "import nltk\r\n",
        "from nltk import sent_tokenize\r\n",
        "from nltk import word_tokenize\r\n",
        "nltk.download(\"stopwords\")\r\n",
        "nltk.download('wordnet')\r\n",
        "nltk.download('punkt')\r\n",
        "import gensim\r\n",
        "import tensorflow as tf\r\n",
        "import tensorflow_hub as hub\r\n",
        "from tensorflow import keras\r\n",
        "from tensorflow.keras.preprocessing.text import Tokenizer\r\n",
        "from tensorflow.keras.preprocessing.sequence import pad_sequences\r\n",
        "from tensorflow.keras.models import Sequential\r\n",
        "from tensorflow.keras import layers\r\n",
        "from tensorflow.keras.layers import Input, Dense, Embedding, LSTM, Bidirectional, Concatenate, concatenate\r\n",
        "from sklearn.model_selection import train_test_split\r\n",
        "from sklearn.metrics import classification_report, accuracy_score, confusion_matrix, plot_confusion_matrix\r\n",
        "from sklearn import metrics\r\n",
        "from sklearn.cluster import KMeans, MiniBatchKMeans\r\n",
        "from sklearn.preprocessing import LabelEncoder\r\n",
        "from keras.utils import np_utils\r\n",
        "from datetime import datetime\r\n",
        "from statistics import mean\r\n",
        "import random\r\n",
        "import datetime\r\n",
        "import time"
      ],
      "execution_count": 2,
      "outputs": [
        {
          "output_type": "stream",
          "text": [
            "[nltk_data] Downloading package stopwords to /root/nltk_data...\n",
            "[nltk_data]   Unzipping corpora/stopwords.zip.\n",
            "[nltk_data] Downloading package wordnet to /root/nltk_data...\n",
            "[nltk_data]   Unzipping corpora/wordnet.zip.\n",
            "[nltk_data] Downloading package punkt to /root/nltk_data...\n",
            "[nltk_data]   Unzipping tokenizers/punkt.zip.\n"
          ],
          "name": "stdout"
        }
      ]
    },
    {
      "cell_type": "code",
      "metadata": {
        "colab": {
          "base_uri": "https://localhost:8080/"
        },
        "id": "MudTLuET0Ind",
        "outputId": "db92d173-ad9f-49b9-db26-052a90912523"
      },
      "source": [
        "\r\n",
        "from google.colab import auth\r\n",
        "from oauth2client.client import GoogleCredentials\r\n",
        "from google.colab import drive\r\n",
        "drive.mount('/content/drive')"
      ],
      "execution_count": 3,
      "outputs": [
        {
          "output_type": "stream",
          "text": [
            "Mounted at /content/drive\n"
          ],
          "name": "stdout"
        }
      ]
    },
    {
      "cell_type": "markdown",
      "metadata": {
        "id": "tRJsw0iKwn1k"
      },
      "source": [
        "# Data Preparation"
      ]
    },
    {
      "cell_type": "markdown",
      "metadata": {
        "id": "lyhTQGRYcN9A"
      },
      "source": [
        "### Loading and merging datasets"
      ]
    },
    {
      "cell_type": "code",
      "metadata": {
        "colab": {
          "base_uri": "https://localhost:8080/"
        },
        "id": "CgkfEV9j0LlI",
        "outputId": "de62cb08-5a9e-4988-b1f3-4df08f9b1f18"
      },
      "source": [
        "colnames=['Sentence', 'Type', 'Level', 'Target'] \r\n",
        "hateful = pd.read_csv('/content/drive/My Drive/CS224n_Project/Hatefuls.csv', names=colnames, header=None)\r\n",
        "hateful.shape"
      ],
      "execution_count": 4,
      "outputs": [
        {
          "output_type": "execute_result",
          "data": {
            "text/plain": [
              "(194593, 4)"
            ]
          },
          "metadata": {
            "tags": []
          },
          "execution_count": 4
        }
      ]
    },
    {
      "cell_type": "code",
      "metadata": {
        "colab": {
          "base_uri": "https://localhost:8080/",
          "height": 170
        },
        "id": "Z09cJAHG04NG",
        "outputId": "f45515bb-5b55-48f2-c3da-9624bc99d044"
      },
      "source": [
        "hateful.describe()"
      ],
      "execution_count": 5,
      "outputs": [
        {
          "output_type": "execute_result",
          "data": {
            "text/html": [
              "<div>\n",
              "<style scoped>\n",
              "    .dataframe tbody tr th:only-of-type {\n",
              "        vertical-align: middle;\n",
              "    }\n",
              "\n",
              "    .dataframe tbody tr th {\n",
              "        vertical-align: top;\n",
              "    }\n",
              "\n",
              "    .dataframe thead th {\n",
              "        text-align: right;\n",
              "    }\n",
              "</style>\n",
              "<table border=\"1\" class=\"dataframe\">\n",
              "  <thead>\n",
              "    <tr style=\"text-align: right;\">\n",
              "      <th></th>\n",
              "      <th>Sentence</th>\n",
              "      <th>Type</th>\n",
              "      <th>Level</th>\n",
              "      <th>Target</th>\n",
              "    </tr>\n",
              "  </thead>\n",
              "  <tbody>\n",
              "    <tr>\n",
              "      <th>count</th>\n",
              "      <td>194572</td>\n",
              "      <td>194593</td>\n",
              "      <td>194593</td>\n",
              "      <td>194593</td>\n",
              "    </tr>\n",
              "    <tr>\n",
              "      <th>unique</th>\n",
              "      <td>63324</td>\n",
              "      <td>14</td>\n",
              "      <td>4</td>\n",
              "      <td>6</td>\n",
              "    </tr>\n",
              "    <tr>\n",
              "      <th>top</th>\n",
              "      <td>tg</td>\n",
              "      <td>Insult</td>\n",
              "      <td>VERY_HIGH</td>\n",
              "      <td>USER</td>\n",
              "    </tr>\n",
              "    <tr>\n",
              "      <th>freq</th>\n",
              "      <td>1364</td>\n",
              "      <td>116947</td>\n",
              "      <td>66901</td>\n",
              "      <td>96997</td>\n",
              "    </tr>\n",
              "  </tbody>\n",
              "</table>\n",
              "</div>"
            ],
            "text/plain": [
              "       Sentence    Type      Level  Target\n",
              "count    194572  194593     194593  194593\n",
              "unique    63324      14          4       6\n",
              "top          tg  Insult  VERY_HIGH    USER\n",
              "freq       1364  116947      66901   96997"
            ]
          },
          "metadata": {
            "tags": []
          },
          "execution_count": 5
        }
      ]
    },
    {
      "cell_type": "code",
      "metadata": {
        "colab": {
          "base_uri": "https://localhost:8080/",
          "height": 201
        },
        "id": "5Hxz8aSScuKh",
        "outputId": "b602949b-5a34-4380-c2f7-788fdf765958"
      },
      "source": [
        "#Adding a class column prior to merging with neutral data\r\n",
        "hateful[\"Class\"] = 1\r\n",
        "hateful.head()"
      ],
      "execution_count": 6,
      "outputs": [
        {
          "output_type": "execute_result",
          "data": {
            "text/html": [
              "<div>\n",
              "<style scoped>\n",
              "    .dataframe tbody tr th:only-of-type {\n",
              "        vertical-align: middle;\n",
              "    }\n",
              "\n",
              "    .dataframe tbody tr th {\n",
              "        vertical-align: top;\n",
              "    }\n",
              "\n",
              "    .dataframe thead th {\n",
              "        text-align: right;\n",
              "    }\n",
              "</style>\n",
              "<table border=\"1\" class=\"dataframe\">\n",
              "  <thead>\n",
              "    <tr style=\"text-align: right;\">\n",
              "      <th></th>\n",
              "      <th>Sentence</th>\n",
              "      <th>Type</th>\n",
              "      <th>Level</th>\n",
              "      <th>Target</th>\n",
              "      <th>Class</th>\n",
              "    </tr>\n",
              "  </thead>\n",
              "  <tbody>\n",
              "    <tr>\n",
              "      <th>0</th>\n",
              "      <td>T pas Bo 😂😂🥃</td>\n",
              "      <td>Mockery</td>\n",
              "      <td>LOW</td>\n",
              "      <td>USER</td>\n",
              "      <td>1</td>\n",
              "    </tr>\n",
              "    <tr>\n",
              "      <th>1</th>\n",
              "      <td>t’es vilain 😂😂😂😂😂😂</td>\n",
              "      <td>Mockery</td>\n",
              "      <td>LOW</td>\n",
              "      <td>USER</td>\n",
              "      <td>1</td>\n",
              "    </tr>\n",
              "    <tr>\n",
              "      <th>2</th>\n",
              "      <td>Je te propose un d'île je m'abonne à ta chaine...</td>\n",
              "      <td>Hate</td>\n",
              "      <td>LOW</td>\n",
              "      <td>USER</td>\n",
              "      <td>1</td>\n",
              "    </tr>\n",
              "    <tr>\n",
              "      <th>3</th>\n",
              "      <td>T un kiko mdr</td>\n",
              "      <td>Insult</td>\n",
              "      <td>LOW</td>\n",
              "      <td>USER</td>\n",
              "      <td>1</td>\n",
              "    </tr>\n",
              "    <tr>\n",
              "      <th>4</th>\n",
              "      <td>Moi mdr t trop nul</td>\n",
              "      <td>Hate</td>\n",
              "      <td>LOW</td>\n",
              "      <td>USER</td>\n",
              "      <td>1</td>\n",
              "    </tr>\n",
              "  </tbody>\n",
              "</table>\n",
              "</div>"
            ],
            "text/plain": [
              "                                            Sentence     Type  ... Target Class\n",
              "0                                       T pas Bo 😂😂🥃  Mockery  ...   USER     1\n",
              "1                                 t’es vilain 😂😂😂😂😂😂  Mockery  ...   USER     1\n",
              "2  Je te propose un d'île je m'abonne à ta chaine...     Hate  ...   USER     1\n",
              "3                                      T un kiko mdr   Insult  ...   USER     1\n",
              "4                                 Moi mdr t trop nul     Hate  ...   USER     1\n",
              "\n",
              "[5 rows x 5 columns]"
            ]
          },
          "metadata": {
            "tags": []
          },
          "execution_count": 6
        }
      ]
    },
    {
      "cell_type": "code",
      "metadata": {
        "id": "ZB7e4GoFyesA"
      },
      "source": [
        "hateful.Sentence = hateful.Sentence.astype(str)"
      ],
      "execution_count": 7,
      "outputs": []
    },
    {
      "cell_type": "code",
      "metadata": {
        "colab": {
          "base_uri": "https://localhost:8080/"
        },
        "id": "j74gCVR11Bsq",
        "outputId": "f91ec65a-3209-4100-ab06-29d7b164e87c"
      },
      "source": [
        "neutral = pd.read_csv('/content/drive/My Drive/CS224n_Project/Neutrals_200k.csv', names=colnames, header=None)\r\n",
        "neutral.shape"
      ],
      "execution_count": 8,
      "outputs": [
        {
          "output_type": "execute_result",
          "data": {
            "text/plain": [
              "(200000, 4)"
            ]
          },
          "metadata": {
            "tags": []
          },
          "execution_count": 8
        }
      ]
    },
    {
      "cell_type": "code",
      "metadata": {
        "id": "FzED-qIe79Ji"
      },
      "source": [
        "neutral.Sentence = neutral.Sentence.astype(str)"
      ],
      "execution_count": 9,
      "outputs": []
    },
    {
      "cell_type": "code",
      "metadata": {
        "colab": {
          "base_uri": "https://localhost:8080/",
          "height": 201
        },
        "id": "bVCpFE4vc2Oj",
        "outputId": "e3c9df5b-b7a8-4af7-8b2c-c9b7f50e0712"
      },
      "source": [
        "#Adding a class column prior to merging with toxic data\r\n",
        "neutral[\"Class\"] = 0\r\n",
        "neutral.head()"
      ],
      "execution_count": 10,
      "outputs": [
        {
          "output_type": "execute_result",
          "data": {
            "text/html": [
              "<div>\n",
              "<style scoped>\n",
              "    .dataframe tbody tr th:only-of-type {\n",
              "        vertical-align: middle;\n",
              "    }\n",
              "\n",
              "    .dataframe tbody tr th {\n",
              "        vertical-align: top;\n",
              "    }\n",
              "\n",
              "    .dataframe thead th {\n",
              "        text-align: right;\n",
              "    }\n",
              "</style>\n",
              "<table border=\"1\" class=\"dataframe\">\n",
              "  <thead>\n",
              "    <tr style=\"text-align: right;\">\n",
              "      <th></th>\n",
              "      <th>Sentence</th>\n",
              "      <th>Type</th>\n",
              "      <th>Level</th>\n",
              "      <th>Target</th>\n",
              "      <th>Class</th>\n",
              "    </tr>\n",
              "  </thead>\n",
              "  <tbody>\n",
              "    <tr>\n",
              "      <th>0</th>\n",
              "      <td>Chui désolé, mais quand un film de science-fic...</td>\n",
              "      <td>Neutral</td>\n",
              "      <td>NONE</td>\n",
              "      <td>UNDEFINED</td>\n",
              "      <td>0</td>\n",
              "    </tr>\n",
              "    <tr>\n",
              "      <th>1</th>\n",
              "      <td>Mdrrr junior bvndo</td>\n",
              "      <td>Neutral</td>\n",
              "      <td>NONE</td>\n",
              "      <td>UNDEFINED</td>\n",
              "      <td>0</td>\n",
              "    </tr>\n",
              "    <tr>\n",
              "      <th>2</th>\n",
              "      <td>baham je taimz</td>\n",
              "      <td>Neutral</td>\n",
              "      <td>NONE</td>\n",
              "      <td>UNDEFINED</td>\n",
              "      <td>0</td>\n",
              "    </tr>\n",
              "    <tr>\n",
              "      <th>3</th>\n",
              "      <td>Meilleurs rappeurs de tout les temps 😂😂😂 je ri...</td>\n",
              "      <td>Neutral</td>\n",
              "      <td>NONE</td>\n",
              "      <td>UNDEFINED</td>\n",
              "      <td>0</td>\n",
              "    </tr>\n",
              "    <tr>\n",
              "      <th>4</th>\n",
              "      <td>7up❤️</td>\n",
              "      <td>Neutral</td>\n",
              "      <td>NONE</td>\n",
              "      <td>UNDEFINED</td>\n",
              "      <td>0</td>\n",
              "    </tr>\n",
              "  </tbody>\n",
              "</table>\n",
              "</div>"
            ],
            "text/plain": [
              "                                            Sentence     Type  ...     Target Class\n",
              "0  Chui désolé, mais quand un film de science-fic...  Neutral  ...  UNDEFINED     0\n",
              "1                                 Mdrrr junior bvndo  Neutral  ...  UNDEFINED     0\n",
              "2                                     baham je taimz  Neutral  ...  UNDEFINED     0\n",
              "3  Meilleurs rappeurs de tout les temps 😂😂😂 je ri...  Neutral  ...  UNDEFINED     0\n",
              "4                                              7up❤️  Neutral  ...  UNDEFINED     0\n",
              "\n",
              "[5 rows x 5 columns]"
            ]
          },
          "metadata": {
            "tags": []
          },
          "execution_count": 10
        }
      ]
    },
    {
      "cell_type": "code",
      "metadata": {
        "colab": {
          "base_uri": "https://localhost:8080/"
        },
        "id": "3MMEuN-rdhos",
        "outputId": "46d48b88-4cba-4150-9dfa-5b4d611e22a1"
      },
      "source": [
        "dataset = hateful.append([neutral], ignore_index=True)\r\n",
        "dataset.shape"
      ],
      "execution_count": 11,
      "outputs": [
        {
          "output_type": "execute_result",
          "data": {
            "text/plain": [
              "(394593, 5)"
            ]
          },
          "metadata": {
            "tags": []
          },
          "execution_count": 11
        }
      ]
    },
    {
      "cell_type": "code",
      "metadata": {
        "colab": {
          "base_uri": "https://localhost:8080/",
          "height": 201
        },
        "id": "KCdAX6lod9PE",
        "outputId": "c57c7ba9-fc05-4c58-c54a-29d5c8c3d05d"
      },
      "source": [
        "dataset.head()"
      ],
      "execution_count": 12,
      "outputs": [
        {
          "output_type": "execute_result",
          "data": {
            "text/html": [
              "<div>\n",
              "<style scoped>\n",
              "    .dataframe tbody tr th:only-of-type {\n",
              "        vertical-align: middle;\n",
              "    }\n",
              "\n",
              "    .dataframe tbody tr th {\n",
              "        vertical-align: top;\n",
              "    }\n",
              "\n",
              "    .dataframe thead th {\n",
              "        text-align: right;\n",
              "    }\n",
              "</style>\n",
              "<table border=\"1\" class=\"dataframe\">\n",
              "  <thead>\n",
              "    <tr style=\"text-align: right;\">\n",
              "      <th></th>\n",
              "      <th>Sentence</th>\n",
              "      <th>Type</th>\n",
              "      <th>Level</th>\n",
              "      <th>Target</th>\n",
              "      <th>Class</th>\n",
              "    </tr>\n",
              "  </thead>\n",
              "  <tbody>\n",
              "    <tr>\n",
              "      <th>0</th>\n",
              "      <td>T pas Bo 😂😂🥃</td>\n",
              "      <td>Mockery</td>\n",
              "      <td>LOW</td>\n",
              "      <td>USER</td>\n",
              "      <td>1</td>\n",
              "    </tr>\n",
              "    <tr>\n",
              "      <th>1</th>\n",
              "      <td>t’es vilain 😂😂😂😂😂😂</td>\n",
              "      <td>Mockery</td>\n",
              "      <td>LOW</td>\n",
              "      <td>USER</td>\n",
              "      <td>1</td>\n",
              "    </tr>\n",
              "    <tr>\n",
              "      <th>2</th>\n",
              "      <td>Je te propose un d'île je m'abonne à ta chaine...</td>\n",
              "      <td>Hate</td>\n",
              "      <td>LOW</td>\n",
              "      <td>USER</td>\n",
              "      <td>1</td>\n",
              "    </tr>\n",
              "    <tr>\n",
              "      <th>3</th>\n",
              "      <td>T un kiko mdr</td>\n",
              "      <td>Insult</td>\n",
              "      <td>LOW</td>\n",
              "      <td>USER</td>\n",
              "      <td>1</td>\n",
              "    </tr>\n",
              "    <tr>\n",
              "      <th>4</th>\n",
              "      <td>Moi mdr t trop nul</td>\n",
              "      <td>Hate</td>\n",
              "      <td>LOW</td>\n",
              "      <td>USER</td>\n",
              "      <td>1</td>\n",
              "    </tr>\n",
              "  </tbody>\n",
              "</table>\n",
              "</div>"
            ],
            "text/plain": [
              "                                            Sentence     Type  ... Target Class\n",
              "0                                       T pas Bo 😂😂🥃  Mockery  ...   USER     1\n",
              "1                                 t’es vilain 😂😂😂😂😂😂  Mockery  ...   USER     1\n",
              "2  Je te propose un d'île je m'abonne à ta chaine...     Hate  ...   USER     1\n",
              "3                                      T un kiko mdr   Insult  ...   USER     1\n",
              "4                                 Moi mdr t trop nul     Hate  ...   USER     1\n",
              "\n",
              "[5 rows x 5 columns]"
            ]
          },
          "metadata": {
            "tags": []
          },
          "execution_count": 12
        }
      ]
    },
    {
      "cell_type": "code",
      "metadata": {
        "colab": {
          "base_uri": "https://localhost:8080/",
          "height": 201
        },
        "id": "lJzbasK-d_3w",
        "outputId": "3b49a21c-e02d-4a29-e9e9-2c67948c1f4d"
      },
      "source": [
        "dataset.tail()"
      ],
      "execution_count": 13,
      "outputs": [
        {
          "output_type": "execute_result",
          "data": {
            "text/html": [
              "<div>\n",
              "<style scoped>\n",
              "    .dataframe tbody tr th:only-of-type {\n",
              "        vertical-align: middle;\n",
              "    }\n",
              "\n",
              "    .dataframe tbody tr th {\n",
              "        vertical-align: top;\n",
              "    }\n",
              "\n",
              "    .dataframe thead th {\n",
              "        text-align: right;\n",
              "    }\n",
              "</style>\n",
              "<table border=\"1\" class=\"dataframe\">\n",
              "  <thead>\n",
              "    <tr style=\"text-align: right;\">\n",
              "      <th></th>\n",
              "      <th>Sentence</th>\n",
              "      <th>Type</th>\n",
              "      <th>Level</th>\n",
              "      <th>Target</th>\n",
              "      <th>Class</th>\n",
              "    </tr>\n",
              "  </thead>\n",
              "  <tbody>\n",
              "    <tr>\n",
              "      <th>394588</th>\n",
              "      <td>@studiosushi @Chitori_Bocchi evangelionnnnnnnn...</td>\n",
              "      <td>Neutral</td>\n",
              "      <td>NONE</td>\n",
              "      <td>UNDEFINED</td>\n",
              "      <td>0</td>\n",
              "    </tr>\n",
              "    <tr>\n",
              "      <th>394589</th>\n",
              "      <td>J'ai kiffer les 2 Baby sitter c drôle et horri...</td>\n",
              "      <td>Neutral</td>\n",
              "      <td>NONE</td>\n",
              "      <td>UNDEFINED</td>\n",
              "      <td>0</td>\n",
              "    </tr>\n",
              "    <tr>\n",
              "      <th>394590</th>\n",
              "      <td>Moi aussi je t'ai demandé si tu étais la premi...</td>\n",
              "      <td>Neutral</td>\n",
              "      <td>NONE</td>\n",
              "      <td>UNDEFINED</td>\n",
              "      <td>0</td>\n",
              "    </tr>\n",
              "    <tr>\n",
              "      <th>394591</th>\n",
              "      <td>venez on fait l' aphalbet</td>\n",
              "      <td>Neutral</td>\n",
              "      <td>NONE</td>\n",
              "      <td>UNDEFINED</td>\n",
              "      <td>0</td>\n",
              "    </tr>\n",
              "    <tr>\n",
              "      <th>394592</th>\n",
              "      <td>Bah oui 80% de la police france est pro RN ...</td>\n",
              "      <td>Neutral</td>\n",
              "      <td>NONE</td>\n",
              "      <td>UNDEFINED</td>\n",
              "      <td>0</td>\n",
              "    </tr>\n",
              "  </tbody>\n",
              "</table>\n",
              "</div>"
            ],
            "text/plain": [
              "                                                 Sentence  ... Class\n",
              "394588  @studiosushi @Chitori_Bocchi evangelionnnnnnnn...  ...     0\n",
              "394589  J'ai kiffer les 2 Baby sitter c drôle et horri...  ...     0\n",
              "394590  Moi aussi je t'ai demandé si tu étais la premi...  ...     0\n",
              "394591                          venez on fait l' aphalbet  ...     0\n",
              "394592     Bah oui 80% de la police france est pro RN ...  ...     0\n",
              "\n",
              "[5 rows x 5 columns]"
            ]
          },
          "metadata": {
            "tags": []
          },
          "execution_count": 13
        }
      ]
    },
    {
      "cell_type": "markdown",
      "metadata": {
        "id": "VR__5j4bwhqB"
      },
      "source": [
        "### Analyzing dataset"
      ]
    },
    {
      "cell_type": "code",
      "metadata": {
        "colab": {
          "base_uri": "https://localhost:8080/",
          "height": 323
        },
        "id": "_Kiwi0Zx2XCn",
        "outputId": "cee6c770-5eab-4e44-d21f-189c9c360726"
      },
      "source": [
        "dataset.groupby(['Target']).count()"
      ],
      "execution_count": 14,
      "outputs": [
        {
          "output_type": "execute_result",
          "data": {
            "text/html": [
              "<div>\n",
              "<style scoped>\n",
              "    .dataframe tbody tr th:only-of-type {\n",
              "        vertical-align: middle;\n",
              "    }\n",
              "\n",
              "    .dataframe tbody tr th {\n",
              "        vertical-align: top;\n",
              "    }\n",
              "\n",
              "    .dataframe thead th {\n",
              "        text-align: right;\n",
              "    }\n",
              "</style>\n",
              "<table border=\"1\" class=\"dataframe\">\n",
              "  <thead>\n",
              "    <tr style=\"text-align: right;\">\n",
              "      <th></th>\n",
              "      <th>Sentence</th>\n",
              "      <th>Type</th>\n",
              "      <th>Level</th>\n",
              "      <th>Class</th>\n",
              "    </tr>\n",
              "    <tr>\n",
              "      <th>Target</th>\n",
              "      <th></th>\n",
              "      <th></th>\n",
              "      <th></th>\n",
              "      <th></th>\n",
              "    </tr>\n",
              "  </thead>\n",
              "  <tbody>\n",
              "    <tr>\n",
              "      <th>AUTHOR_OF_COMMENT</th>\n",
              "      <td>2547</td>\n",
              "      <td>2547</td>\n",
              "      <td>2547</td>\n",
              "      <td>2547</td>\n",
              "    </tr>\n",
              "    <tr>\n",
              "      <th>EVERYONE</th>\n",
              "      <td>16603</td>\n",
              "      <td>16603</td>\n",
              "      <td>16603</td>\n",
              "      <td>16603</td>\n",
              "    </tr>\n",
              "    <tr>\n",
              "      <th>GROUP</th>\n",
              "      <td>36083</td>\n",
              "      <td>36083</td>\n",
              "      <td>36083</td>\n",
              "      <td>36083</td>\n",
              "    </tr>\n",
              "    <tr>\n",
              "      <th>NO_ONE</th>\n",
              "      <td>1</td>\n",
              "      <td>1</td>\n",
              "      <td>1</td>\n",
              "      <td>1</td>\n",
              "    </tr>\n",
              "    <tr>\n",
              "      <th>SINGLE_PERSON</th>\n",
              "      <td>36128</td>\n",
              "      <td>36128</td>\n",
              "      <td>36128</td>\n",
              "      <td>36128</td>\n",
              "    </tr>\n",
              "    <tr>\n",
              "      <th>UNDEFINED</th>\n",
              "      <td>199191</td>\n",
              "      <td>199191</td>\n",
              "      <td>199191</td>\n",
              "      <td>199191</td>\n",
              "    </tr>\n",
              "    <tr>\n",
              "      <th>USER</th>\n",
              "      <td>97574</td>\n",
              "      <td>97574</td>\n",
              "      <td>97574</td>\n",
              "      <td>97574</td>\n",
              "    </tr>\n",
              "    <tr>\n",
              "      <th>USER_FAMILY</th>\n",
              "      <td>6466</td>\n",
              "      <td>6466</td>\n",
              "      <td>6466</td>\n",
              "      <td>6466</td>\n",
              "    </tr>\n",
              "  </tbody>\n",
              "</table>\n",
              "</div>"
            ],
            "text/plain": [
              "                   Sentence    Type   Level   Class\n",
              "Target                                             \n",
              "AUTHOR_OF_COMMENT      2547    2547    2547    2547\n",
              "EVERYONE              16603   16603   16603   16603\n",
              "GROUP                 36083   36083   36083   36083\n",
              "NO_ONE                    1       1       1       1\n",
              "SINGLE_PERSON         36128   36128   36128   36128\n",
              "UNDEFINED            199191  199191  199191  199191\n",
              "USER                  97574   97574   97574   97574\n",
              "USER_FAMILY            6466    6466    6466    6466"
            ]
          },
          "metadata": {
            "tags": []
          },
          "execution_count": 14
        }
      ]
    },
    {
      "cell_type": "code",
      "metadata": {
        "colab": {
          "base_uri": "https://localhost:8080/",
          "height": 414
        },
        "id": "JkR8u92JwRgF",
        "outputId": "d259eda2-e6eb-4738-f5d5-96e2037c67b6"
      },
      "source": [
        "plt.figure(figsize=(20,5))\r\n",
        "chart = sns.countplot(\"Target\", data=dataset)\r\n",
        "chart.set_xticklabels(chart.get_xticklabels(), rotation=45)\r\n",
        "plt.show()"
      ],
      "execution_count": 15,
      "outputs": [
        {
          "output_type": "display_data",
          "data": {
            "image/png": "[encoded data removed]",
            "text/plain": [
              "<Figure size 1440x360 with 1 Axes>"
            ]
          },
          "metadata": {
            "tags": [],
            "needs_background": "light"
          }
        }
      ]
    },
    {
      "cell_type": "code",
      "metadata": {
        "colab": {
          "base_uri": "https://localhost:8080/",
          "height": 506
        },
        "id": "OmuPXJBsmyyU",
        "outputId": "21cb6378-21f9-43ff-ad87-2f88d85269b3"
      },
      "source": [
        "dataset.groupby(['Type']).count()"
      ],
      "execution_count": 16,
      "outputs": [
        {
          "output_type": "execute_result",
          "data": {
            "text/html": [
              "<div>\n",
              "<style scoped>\n",
              "    .dataframe tbody tr th:only-of-type {\n",
              "        vertical-align: middle;\n",
              "    }\n",
              "\n",
              "    .dataframe tbody tr th {\n",
              "        vertical-align: top;\n",
              "    }\n",
              "\n",
              "    .dataframe thead th {\n",
              "        text-align: right;\n",
              "    }\n",
              "</style>\n",
              "<table border=\"1\" class=\"dataframe\">\n",
              "  <thead>\n",
              "    <tr style=\"text-align: right;\">\n",
              "      <th></th>\n",
              "      <th>Sentence</th>\n",
              "      <th>Level</th>\n",
              "      <th>Target</th>\n",
              "      <th>Class</th>\n",
              "    </tr>\n",
              "    <tr>\n",
              "      <th>Type</th>\n",
              "      <th></th>\n",
              "      <th></th>\n",
              "      <th></th>\n",
              "      <th></th>\n",
              "    </tr>\n",
              "  </thead>\n",
              "  <tbody>\n",
              "    <tr>\n",
              "      <th>Ads</th>\n",
              "      <td>27</td>\n",
              "      <td>27</td>\n",
              "      <td>27</td>\n",
              "      <td>27</td>\n",
              "    </tr>\n",
              "    <tr>\n",
              "      <th>Critics</th>\n",
              "      <td>15</td>\n",
              "      <td>15</td>\n",
              "      <td>15</td>\n",
              "      <td>15</td>\n",
              "    </tr>\n",
              "    <tr>\n",
              "      <th>Hate</th>\n",
              "      <td>37293</td>\n",
              "      <td>37293</td>\n",
              "      <td>37293</td>\n",
              "      <td>37293</td>\n",
              "    </tr>\n",
              "    <tr>\n",
              "      <th>Homophobia</th>\n",
              "      <td>12256</td>\n",
              "      <td>12256</td>\n",
              "      <td>12256</td>\n",
              "      <td>12256</td>\n",
              "    </tr>\n",
              "    <tr>\n",
              "      <th>Insult</th>\n",
              "      <td>116947</td>\n",
              "      <td>116947</td>\n",
              "      <td>116947</td>\n",
              "      <td>116947</td>\n",
              "    </tr>\n",
              "    <tr>\n",
              "      <th>Misogyny</th>\n",
              "      <td>6</td>\n",
              "      <td>6</td>\n",
              "      <td>6</td>\n",
              "      <td>6</td>\n",
              "    </tr>\n",
              "    <tr>\n",
              "      <th>Mockery</th>\n",
              "      <td>13950</td>\n",
              "      <td>13950</td>\n",
              "      <td>13950</td>\n",
              "      <td>13950</td>\n",
              "    </tr>\n",
              "    <tr>\n",
              "      <th>Moral Harassment</th>\n",
              "      <td>1583</td>\n",
              "      <td>1583</td>\n",
              "      <td>1583</td>\n",
              "      <td>1583</td>\n",
              "    </tr>\n",
              "    <tr>\n",
              "      <th>Neutral</th>\n",
              "      <td>200009</td>\n",
              "      <td>200009</td>\n",
              "      <td>200009</td>\n",
              "      <td>200009</td>\n",
              "    </tr>\n",
              "    <tr>\n",
              "      <th>Racism</th>\n",
              "      <td>2143</td>\n",
              "      <td>2143</td>\n",
              "      <td>2143</td>\n",
              "      <td>2143</td>\n",
              "    </tr>\n",
              "    <tr>\n",
              "      <th>Sexual Harassment</th>\n",
              "      <td>4603</td>\n",
              "      <td>4603</td>\n",
              "      <td>4603</td>\n",
              "      <td>4603</td>\n",
              "    </tr>\n",
              "    <tr>\n",
              "      <th>Threat</th>\n",
              "      <td>2282</td>\n",
              "      <td>2282</td>\n",
              "      <td>2282</td>\n",
              "      <td>2282</td>\n",
              "    </tr>\n",
              "    <tr>\n",
              "      <th>Troll</th>\n",
              "      <td>3461</td>\n",
              "      <td>3461</td>\n",
              "      <td>3461</td>\n",
              "      <td>3461</td>\n",
              "    </tr>\n",
              "    <tr>\n",
              "      <th>Useless</th>\n",
              "      <td>18</td>\n",
              "      <td>18</td>\n",
              "      <td>18</td>\n",
              "      <td>18</td>\n",
              "    </tr>\n",
              "  </tbody>\n",
              "</table>\n",
              "</div>"
            ],
            "text/plain": [
              "                   Sentence   Level  Target   Class\n",
              "Type                                               \n",
              "Ads                      27      27      27      27\n",
              "Critics                  15      15      15      15\n",
              "Hate                  37293   37293   37293   37293\n",
              "Homophobia            12256   12256   12256   12256\n",
              "Insult               116947  116947  116947  116947\n",
              "Misogyny                  6       6       6       6\n",
              "Mockery               13950   13950   13950   13950\n",
              "Moral Harassment       1583    1583    1583    1583\n",
              "Neutral              200009  200009  200009  200009\n",
              "Racism                 2143    2143    2143    2143\n",
              "Sexual Harassment      4603    4603    4603    4603\n",
              "Threat                 2282    2282    2282    2282\n",
              "Troll                  3461    3461    3461    3461\n",
              "Useless                  18      18      18      18"
            ]
          },
          "metadata": {
            "tags": []
          },
          "execution_count": 16
        }
      ]
    },
    {
      "cell_type": "code",
      "metadata": {
        "colab": {
          "base_uri": "https://localhost:8080/",
          "height": 231
        },
        "id": "BgdNEV-t24Td",
        "outputId": "aad7f995-96bd-48f4-cd83-7d17ca73d73f"
      },
      "source": [
        "dataset.groupby(['Level']).count()"
      ],
      "execution_count": 17,
      "outputs": [
        {
          "output_type": "execute_result",
          "data": {
            "text/html": [
              "<div>\n",
              "<style scoped>\n",
              "    .dataframe tbody tr th:only-of-type {\n",
              "        vertical-align: middle;\n",
              "    }\n",
              "\n",
              "    .dataframe tbody tr th {\n",
              "        vertical-align: top;\n",
              "    }\n",
              "\n",
              "    .dataframe thead th {\n",
              "        text-align: right;\n",
              "    }\n",
              "</style>\n",
              "<table border=\"1\" class=\"dataframe\">\n",
              "  <thead>\n",
              "    <tr style=\"text-align: right;\">\n",
              "      <th></th>\n",
              "      <th>Sentence</th>\n",
              "      <th>Type</th>\n",
              "      <th>Target</th>\n",
              "      <th>Class</th>\n",
              "    </tr>\n",
              "    <tr>\n",
              "      <th>Level</th>\n",
              "      <th></th>\n",
              "      <th></th>\n",
              "      <th></th>\n",
              "      <th></th>\n",
              "    </tr>\n",
              "  </thead>\n",
              "  <tbody>\n",
              "    <tr>\n",
              "      <th>HIGH</th>\n",
              "      <td>53358</td>\n",
              "      <td>53358</td>\n",
              "      <td>53358</td>\n",
              "      <td>53358</td>\n",
              "    </tr>\n",
              "    <tr>\n",
              "      <th>LOW</th>\n",
              "      <td>28016</td>\n",
              "      <td>28016</td>\n",
              "      <td>28016</td>\n",
              "      <td>28016</td>\n",
              "    </tr>\n",
              "    <tr>\n",
              "      <th>MEDIUM</th>\n",
              "      <td>46880</td>\n",
              "      <td>46880</td>\n",
              "      <td>46880</td>\n",
              "      <td>46880</td>\n",
              "    </tr>\n",
              "    <tr>\n",
              "      <th>NONE</th>\n",
              "      <td>199189</td>\n",
              "      <td>199189</td>\n",
              "      <td>199189</td>\n",
              "      <td>199189</td>\n",
              "    </tr>\n",
              "    <tr>\n",
              "      <th>VERY_HIGH</th>\n",
              "      <td>67150</td>\n",
              "      <td>67150</td>\n",
              "      <td>67150</td>\n",
              "      <td>67150</td>\n",
              "    </tr>\n",
              "  </tbody>\n",
              "</table>\n",
              "</div>"
            ],
            "text/plain": [
              "           Sentence    Type  Target   Class\n",
              "Level                                      \n",
              "HIGH          53358   53358   53358   53358\n",
              "LOW           28016   28016   28016   28016\n",
              "MEDIUM        46880   46880   46880   46880\n",
              "NONE         199189  199189  199189  199189\n",
              "VERY_HIGH     67150   67150   67150   67150"
            ]
          },
          "metadata": {
            "tags": []
          },
          "execution_count": 17
        }
      ]
    },
    {
      "cell_type": "code",
      "metadata": {
        "colab": {
          "base_uri": "https://localhost:8080/",
          "height": 262
        },
        "id": "UdD0_lqo3UpV",
        "outputId": "6ac95865-ccc9-4146-91d5-589c08cd1834"
      },
      "source": [
        "dataset_stats = dataset.groupby(['Target', 'Level']).size().reset_index(name='count')\r\n",
        "pd.pivot_table(dataset_stats, index=['Level'], columns = ['Target'],values=['count'], fill_value=0)"
      ],
      "execution_count": 18,
      "outputs": [
        {
          "output_type": "execute_result",
          "data": {
            "text/html": [
              "<div>\n",
              "<style scoped>\n",
              "    .dataframe tbody tr th:only-of-type {\n",
              "        vertical-align: middle;\n",
              "    }\n",
              "\n",
              "    .dataframe tbody tr th {\n",
              "        vertical-align: top;\n",
              "    }\n",
              "\n",
              "    .dataframe thead tr th {\n",
              "        text-align: left;\n",
              "    }\n",
              "\n",
              "    .dataframe thead tr:last-of-type th {\n",
              "        text-align: right;\n",
              "    }\n",
              "</style>\n",
              "<table border=\"1\" class=\"dataframe\">\n",
              "  <thead>\n",
              "    <tr>\n",
              "      <th></th>\n",
              "      <th colspan=\"8\" halign=\"left\">count</th>\n",
              "    </tr>\n",
              "    <tr>\n",
              "      <th>Target</th>\n",
              "      <th>AUTHOR_OF_COMMENT</th>\n",
              "      <th>EVERYONE</th>\n",
              "      <th>GROUP</th>\n",
              "      <th>NO_ONE</th>\n",
              "      <th>SINGLE_PERSON</th>\n",
              "      <th>UNDEFINED</th>\n",
              "      <th>USER</th>\n",
              "      <th>USER_FAMILY</th>\n",
              "    </tr>\n",
              "    <tr>\n",
              "      <th>Level</th>\n",
              "      <th></th>\n",
              "      <th></th>\n",
              "      <th></th>\n",
              "      <th></th>\n",
              "      <th></th>\n",
              "      <th></th>\n",
              "      <th></th>\n",
              "      <th></th>\n",
              "    </tr>\n",
              "  </thead>\n",
              "  <tbody>\n",
              "    <tr>\n",
              "      <th>HIGH</th>\n",
              "      <td>189</td>\n",
              "      <td>3952</td>\n",
              "      <td>9004</td>\n",
              "      <td>0</td>\n",
              "      <td>9008</td>\n",
              "      <td>4</td>\n",
              "      <td>27624</td>\n",
              "      <td>3577</td>\n",
              "    </tr>\n",
              "    <tr>\n",
              "      <th>LOW</th>\n",
              "      <td>1350</td>\n",
              "      <td>2743</td>\n",
              "      <td>9031</td>\n",
              "      <td>0</td>\n",
              "      <td>9032</td>\n",
              "      <td>1</td>\n",
              "      <td>5481</td>\n",
              "      <td>378</td>\n",
              "    </tr>\n",
              "    <tr>\n",
              "      <th>MEDIUM</th>\n",
              "      <td>837</td>\n",
              "      <td>2125</td>\n",
              "      <td>9036</td>\n",
              "      <td>1</td>\n",
              "      <td>9032</td>\n",
              "      <td>14</td>\n",
              "      <td>24422</td>\n",
              "      <td>1413</td>\n",
              "    </tr>\n",
              "    <tr>\n",
              "      <th>NONE</th>\n",
              "      <td>0</td>\n",
              "      <td>4</td>\n",
              "      <td>0</td>\n",
              "      <td>0</td>\n",
              "      <td>1</td>\n",
              "      <td>199171</td>\n",
              "      <td>13</td>\n",
              "      <td>0</td>\n",
              "    </tr>\n",
              "    <tr>\n",
              "      <th>VERY_HIGH</th>\n",
              "      <td>171</td>\n",
              "      <td>7779</td>\n",
              "      <td>9012</td>\n",
              "      <td>0</td>\n",
              "      <td>9055</td>\n",
              "      <td>1</td>\n",
              "      <td>40034</td>\n",
              "      <td>1098</td>\n",
              "    </tr>\n",
              "  </tbody>\n",
              "</table>\n",
              "</div>"
            ],
            "text/plain": [
              "                      count                 ...                             \n",
              "Target    AUTHOR_OF_COMMENT EVERYONE GROUP  ... UNDEFINED   USER USER_FAMILY\n",
              "Level                                       ...                             \n",
              "HIGH                    189     3952  9004  ...         4  27624        3577\n",
              "LOW                    1350     2743  9031  ...         1   5481         378\n",
              "MEDIUM                  837     2125  9036  ...        14  24422        1413\n",
              "NONE                      0        4     0  ...    199171     13           0\n",
              "VERY_HIGH               171     7779  9012  ...         1  40034        1098\n",
              "\n",
              "[5 rows x 8 columns]"
            ]
          },
          "metadata": {
            "tags": []
          },
          "execution_count": 18
        }
      ]
    },
    {
      "cell_type": "code",
      "metadata": {
        "colab": {
          "base_uri": "https://localhost:8080/",
          "height": 67
        },
        "id": "GRdPi_wew2us",
        "outputId": "1737c3d1-fb03-47f3-d074-a44af193a1cb"
      },
      "source": [
        "#Checking if empty Sentences exist\r\n",
        "empty_index = [index for index,text in enumerate(dataset.Sentence.values) if str(text).strip() == '']\r\n",
        "print(\"No of empty rows: {}\".format(len(empty_index)))\r\n",
        "hateful.iloc[empty_index].tail()"
      ],
      "execution_count": 19,
      "outputs": [
        {
          "output_type": "stream",
          "text": [
            "No of empty rows: 0\n"
          ],
          "name": "stdout"
        },
        {
          "output_type": "execute_result",
          "data": {
            "text/html": [
              "<div>\n",
              "<style scoped>\n",
              "    .dataframe tbody tr th:only-of-type {\n",
              "        vertical-align: middle;\n",
              "    }\n",
              "\n",
              "    .dataframe tbody tr th {\n",
              "        vertical-align: top;\n",
              "    }\n",
              "\n",
              "    .dataframe thead th {\n",
              "        text-align: right;\n",
              "    }\n",
              "</style>\n",
              "<table border=\"1\" class=\"dataframe\">\n",
              "  <thead>\n",
              "    <tr style=\"text-align: right;\">\n",
              "      <th></th>\n",
              "      <th>Sentence</th>\n",
              "      <th>Type</th>\n",
              "      <th>Level</th>\n",
              "      <th>Target</th>\n",
              "      <th>Class</th>\n",
              "    </tr>\n",
              "  </thead>\n",
              "  <tbody>\n",
              "  </tbody>\n",
              "</table>\n",
              "</div>"
            ],
            "text/plain": [
              "Empty DataFrame\n",
              "Columns: [Sentence, Type, Level, Target, Class]\n",
              "Index: []"
            ]
          },
          "metadata": {
            "tags": []
          },
          "execution_count": 19
        }
      ]
    },
    {
      "cell_type": "code",
      "metadata": {
        "id": "j_QjKMnxN6KZ"
      },
      "source": [
        "#Removing row with \"NO_ONE\" target\r\n",
        "dataset[dataset['Target']==\"NO_ONE\"]\r\n",
        "dataset = dataset.drop(dataset[dataset['Target']==\"NO_ONE\"].index)"
      ],
      "execution_count": 20,
      "outputs": []
    },
    {
      "cell_type": "code",
      "metadata": {
        "colab": {
          "base_uri": "https://localhost:8080/"
        },
        "id": "-NKwLTdG7t89",
        "outputId": "478d5e8b-a93b-4ef9-ba4a-e27997ca60c3"
      },
      "source": [
        "#Checking frequent words\r\n",
        "cnt = Counter()\r\n",
        "for text in dataset[\"Sentence\"].values:\r\n",
        "    for word in text.split():\r\n",
        "        cnt[word] += 1\r\n",
        "        \r\n",
        "cnt.most_common(20)"
      ],
      "execution_count": 21,
      "outputs": [
        {
          "output_type": "execute_result",
          "data": {
            "text/plain": [
              "[('de', 212725),\n",
              " ('la', 117592),\n",
              " ('et', 104727),\n",
              " ('le', 99444),\n",
              " ('les', 94956),\n",
              " ('pas', 85171),\n",
              " ('que', 81618),\n",
              " ('des', 72993),\n",
              " ('à', 66654),\n",
              " ('un', 63619),\n",
              " ('a', 58883),\n",
              " ('je', 58172),\n",
              " ('pour', 57210),\n",
              " ('en', 56610),\n",
              " ('qui', 55488),\n",
              " ('est', 54054),\n",
              " ('tu', 51424),\n",
              " ('vous', 42380),\n",
              " ('une', 41758),\n",
              " ('il', 39910)]"
            ]
          },
          "metadata": {
            "tags": []
          },
          "execution_count": 21
        }
      ]
    },
    {
      "cell_type": "code",
      "metadata": {
        "id": "aNmoYMfW9Jhi"
      },
      "source": [
        "#Checking average sentence length vs toxicity level\r\n",
        "dataset['Length'] = dataset['Sentence'].apply(len)\r\n",
        "#fig,(ax1, ax2) = plt.subplots(1,2)\r\n",
        "#sns.barplot('Level','Length',data = dataset,palette='PRGn',ax=ax1).set_title('Avg Sentence Length vs Level')\r\n",
        "#sns.barplot('Target','Length',data = dataset,palette='PRGn',ax=ax2).set_title('Avg Sentence Length vs Target')\r\n",
        "#plt.setp(ax1.xaxis.get_majorticklabels(), rotation=45)\r\n",
        "#plt.setp(ax2.xaxis.get_majorticklabels(), rotation=45)\r\n",
        "#fig.tight_layout()"
      ],
      "execution_count": 22,
      "outputs": []
    },
    {
      "cell_type": "code",
      "metadata": {
        "id": "09K4iY87DrNI"
      },
      "source": [
        "#Checking average word number vs toxicity level\r\n",
        "dataset['Count'] = dataset['Sentence'].str.split().str.len()\r\n",
        "#fig,(ax1, ax2) = plt.subplots(1,2)\r\n",
        "#sns.barplot('Level','Count',data = dataset,palette='PRGn',ax=ax1).set_title('Average Word Count vs Level')\r\n",
        "#sns.barplot('Target','Count',data = dataset,palette='PRGn',ax=ax2).set_title('Average Word Count vs Target')\r\n",
        "#plt.setp(ax1.xaxis.get_majorticklabels(), rotation=45)\r\n",
        "#plt.setp(ax2.xaxis.get_majorticklabels(), rotation=45)\r\n",
        "#fig.tight_layout()"
      ],
      "execution_count": 23,
      "outputs": []
    },
    {
      "cell_type": "markdown",
      "metadata": {
        "id": "Vm9P9tecc_hC"
      },
      "source": [
        "### Cleaning dataset"
      ]
    },
    {
      "cell_type": "code",
      "metadata": {
        "colab": {
          "base_uri": "https://localhost:8080/",
          "height": 201
        },
        "id": "8ehbFxoK4wkG",
        "outputId": "8fcf8cc9-525b-4863-d27c-ad0dbb1302a4"
      },
      "source": [
        "#Lowering all sentences\r\n",
        "\r\n",
        "dataset['cleanSentence'] = dataset['Sentence'].apply(lambda x: x.lower())\r\n",
        "dataset.head()"
      ],
      "execution_count": 24,
      "outputs": [
        {
          "output_type": "execute_result",
          "data": {
            "text/html": [
              "<div>\n",
              "<style scoped>\n",
              "    .dataframe tbody tr th:only-of-type {\n",
              "        vertical-align: middle;\n",
              "    }\n",
              "\n",
              "    .dataframe tbody tr th {\n",
              "        vertical-align: top;\n",
              "    }\n",
              "\n",
              "    .dataframe thead th {\n",
              "        text-align: right;\n",
              "    }\n",
              "</style>\n",
              "<table border=\"1\" class=\"dataframe\">\n",
              "  <thead>\n",
              "    <tr style=\"text-align: right;\">\n",
              "      <th></th>\n",
              "      <th>Sentence</th>\n",
              "      <th>Type</th>\n",
              "      <th>Level</th>\n",
              "      <th>Target</th>\n",
              "      <th>Class</th>\n",
              "      <th>Length</th>\n",
              "      <th>Count</th>\n",
              "      <th>cleanSentence</th>\n",
              "    </tr>\n",
              "  </thead>\n",
              "  <tbody>\n",
              "    <tr>\n",
              "      <th>0</th>\n",
              "      <td>T pas Bo 😂😂🥃</td>\n",
              "      <td>Mockery</td>\n",
              "      <td>LOW</td>\n",
              "      <td>USER</td>\n",
              "      <td>1</td>\n",
              "      <td>12</td>\n",
              "      <td>4</td>\n",
              "      <td>t pas bo 😂😂🥃</td>\n",
              "    </tr>\n",
              "    <tr>\n",
              "      <th>1</th>\n",
              "      <td>t’es vilain 😂😂😂😂😂😂</td>\n",
              "      <td>Mockery</td>\n",
              "      <td>LOW</td>\n",
              "      <td>USER</td>\n",
              "      <td>1</td>\n",
              "      <td>18</td>\n",
              "      <td>3</td>\n",
              "      <td>t’es vilain 😂😂😂😂😂😂</td>\n",
              "    </tr>\n",
              "    <tr>\n",
              "      <th>2</th>\n",
              "      <td>Je te propose un d'île je m'abonne à ta chaine...</td>\n",
              "      <td>Hate</td>\n",
              "      <td>LOW</td>\n",
              "      <td>USER</td>\n",
              "      <td>1</td>\n",
              "      <td>189</td>\n",
              "      <td>37</td>\n",
              "      <td>je te propose un d'île je m'abonne à ta chaine...</td>\n",
              "    </tr>\n",
              "    <tr>\n",
              "      <th>3</th>\n",
              "      <td>T un kiko mdr</td>\n",
              "      <td>Insult</td>\n",
              "      <td>LOW</td>\n",
              "      <td>USER</td>\n",
              "      <td>1</td>\n",
              "      <td>13</td>\n",
              "      <td>4</td>\n",
              "      <td>t un kiko mdr</td>\n",
              "    </tr>\n",
              "    <tr>\n",
              "      <th>4</th>\n",
              "      <td>Moi mdr t trop nul</td>\n",
              "      <td>Hate</td>\n",
              "      <td>LOW</td>\n",
              "      <td>USER</td>\n",
              "      <td>1</td>\n",
              "      <td>18</td>\n",
              "      <td>5</td>\n",
              "      <td>moi mdr t trop nul</td>\n",
              "    </tr>\n",
              "  </tbody>\n",
              "</table>\n",
              "</div>"
            ],
            "text/plain": [
              "                                            Sentence  ...                                      cleanSentence\n",
              "0                                       T pas Bo 😂😂🥃  ...                                       t pas bo 😂😂🥃\n",
              "1                                 t’es vilain 😂😂😂😂😂😂  ...                                 t’es vilain 😂😂😂😂😂😂\n",
              "2  Je te propose un d'île je m'abonne à ta chaine...  ...  je te propose un d'île je m'abonne à ta chaine...\n",
              "3                                      T un kiko mdr  ...                                      t un kiko mdr\n",
              "4                                 Moi mdr t trop nul  ...                                 moi mdr t trop nul\n",
              "\n",
              "[5 rows x 8 columns]"
            ]
          },
          "metadata": {
            "tags": []
          },
          "execution_count": 24
        }
      ]
    },
    {
      "cell_type": "code",
      "metadata": {
        "colab": {
          "base_uri": "https://localhost:8080/",
          "height": 467
        },
        "id": "qbYGDPOL4WBL",
        "outputId": "0c3e9f66-d6f9-4f6f-d15c-9b8bb574776d"
      },
      "source": [
        "#Dealing with emojis\r\n",
        "!pip install emoji\r\n",
        "import emoji\r\n",
        "\r\n",
        "#does the text contain an emoji?\r\n",
        "def text_has_emoji(text):\r\n",
        "    for character in text:\r\n",
        "        if character in emoji.UNICODE_EMOJI[\"en\"]:\r\n",
        "            return True\r\n",
        "    return False\r\n",
        "\r\n",
        "#extract emojis for possible future use\r\n",
        "def extract_emoji(text):\r\n",
        "    emoji_list = []\r\n",
        "    data = re.findall(r'[^\\w\\s,]', text)\r\n",
        "    for word in data:\r\n",
        "        if any(char in emoji.UNICODE_EMOJI[\"en\"] for char in word):\r\n",
        "            emoji_list.append(word)\r\n",
        "    return emoji_list\r\n",
        "\r\n",
        "#remove the emoji\r\n",
        "def remove_emoji(text):\r\n",
        "  data = re.findall(r'[^\\w\\s,]', text)\r\n",
        "  for word in data:\r\n",
        "      if any(char in emoji.UNICODE_EMOJI[\"en\"] for char in word):\r\n",
        "          text = text.replace(word, '')\r\n",
        "  return text\r\n",
        "\r\n",
        "# Checking if emoji in source Sentence\r\n",
        "dataset['Emoji'] = dataset['Sentence'].apply(extract_emoji)\r\n",
        "\r\n",
        "# Removing Emojis from Sentence\r\n",
        "dataset['cleanSentence'] = dataset['cleanSentence'].apply(remove_emoji)\r\n",
        "dataset.head(10)"
      ],
      "execution_count": 25,
      "outputs": [
        {
          "output_type": "stream",
          "text": [
            "Collecting emoji\n",
            "\u001b[?25l  Downloading https://files.pythonhosted.org/packages/24/fa/b3368f41b95a286f8d300e323449ab4e86b85334c2e0b477e94422b8ed0f/emoji-1.2.0-py3-none-any.whl (131kB)\n",
            "\r\u001b[K     |██▌                             | 10kB 19.2MB/s eta 0:00:01\r\u001b[K     |█████                           | 20kB 26.6MB/s eta 0:00:01\r\u001b[K     |███████▌                        | 30kB 22.3MB/s eta 0:00:01\r\u001b[K     |██████████                      | 40kB 25.9MB/s eta 0:00:01\r\u001b[K     |████████████▌                   | 51kB 24.7MB/s eta 0:00:01\r\u001b[K     |███████████████                 | 61kB 27.0MB/s eta 0:00:01\r\u001b[K     |█████████████████▌              | 71kB 18.0MB/s eta 0:00:01\r\u001b[K     |████████████████████            | 81kB 18.7MB/s eta 0:00:01\r\u001b[K     |██████████████████████▌         | 92kB 18.1MB/s eta 0:00:01\r\u001b[K     |█████████████████████████       | 102kB 18.0MB/s eta 0:00:01\r\u001b[K     |███████████████████████████▌    | 112kB 18.0MB/s eta 0:00:01\r\u001b[K     |██████████████████████████████  | 122kB 18.0MB/s eta 0:00:01\r\u001b[K     |████████████████████████████████| 133kB 18.0MB/s \n",
            "\u001b[?25hInstalling collected packages: emoji\n",
            "Successfully installed emoji-1.2.0\n"
          ],
          "name": "stdout"
        },
        {
          "output_type": "execute_result",
          "data": {
            "text/html": [
              "<div>\n",
              "<style scoped>\n",
              "    .dataframe tbody tr th:only-of-type {\n",
              "        vertical-align: middle;\n",
              "    }\n",
              "\n",
              "    .dataframe tbody tr th {\n",
              "        vertical-align: top;\n",
              "    }\n",
              "\n",
              "    .dataframe thead th {\n",
              "        text-align: right;\n",
              "    }\n",
              "</style>\n",
              "<table border=\"1\" class=\"dataframe\">\n",
              "  <thead>\n",
              "    <tr style=\"text-align: right;\">\n",
              "      <th></th>\n",
              "      <th>Sentence</th>\n",
              "      <th>Type</th>\n",
              "      <th>Level</th>\n",
              "      <th>Target</th>\n",
              "      <th>Class</th>\n",
              "      <th>Length</th>\n",
              "      <th>Count</th>\n",
              "      <th>cleanSentence</th>\n",
              "      <th>Emoji</th>\n",
              "    </tr>\n",
              "  </thead>\n",
              "  <tbody>\n",
              "    <tr>\n",
              "      <th>0</th>\n",
              "      <td>T pas Bo 😂😂🥃</td>\n",
              "      <td>Mockery</td>\n",
              "      <td>LOW</td>\n",
              "      <td>USER</td>\n",
              "      <td>1</td>\n",
              "      <td>12</td>\n",
              "      <td>4</td>\n",
              "      <td>t pas bo</td>\n",
              "      <td>[😂, 😂, 🥃]</td>\n",
              "    </tr>\n",
              "    <tr>\n",
              "      <th>1</th>\n",
              "      <td>t’es vilain 😂😂😂😂😂😂</td>\n",
              "      <td>Mockery</td>\n",
              "      <td>LOW</td>\n",
              "      <td>USER</td>\n",
              "      <td>1</td>\n",
              "      <td>18</td>\n",
              "      <td>3</td>\n",
              "      <td>t’es vilain</td>\n",
              "      <td>[😂, 😂, 😂, 😂, 😂, 😂]</td>\n",
              "    </tr>\n",
              "    <tr>\n",
              "      <th>2</th>\n",
              "      <td>Je te propose un d'île je m'abonne à ta chaine...</td>\n",
              "      <td>Hate</td>\n",
              "      <td>LOW</td>\n",
              "      <td>USER</td>\n",
              "      <td>1</td>\n",
              "      <td>189</td>\n",
              "      <td>37</td>\n",
              "      <td>je te propose un d'île je m'abonne à ta chaine...</td>\n",
              "      <td>[]</td>\n",
              "    </tr>\n",
              "    <tr>\n",
              "      <th>3</th>\n",
              "      <td>T un kiko mdr</td>\n",
              "      <td>Insult</td>\n",
              "      <td>LOW</td>\n",
              "      <td>USER</td>\n",
              "      <td>1</td>\n",
              "      <td>13</td>\n",
              "      <td>4</td>\n",
              "      <td>t un kiko mdr</td>\n",
              "      <td>[]</td>\n",
              "    </tr>\n",
              "    <tr>\n",
              "      <th>4</th>\n",
              "      <td>Moi mdr t trop nul</td>\n",
              "      <td>Hate</td>\n",
              "      <td>LOW</td>\n",
              "      <td>USER</td>\n",
              "      <td>1</td>\n",
              "      <td>18</td>\n",
              "      <td>5</td>\n",
              "      <td>moi mdr t trop nul</td>\n",
              "      <td>[]</td>\n",
              "    </tr>\n",
              "    <tr>\n",
              "      <th>5</th>\n",
              "      <td>Ta un mono sourcils 😂</td>\n",
              "      <td>Mockery</td>\n",
              "      <td>LOW</td>\n",
              "      <td>USER</td>\n",
              "      <td>1</td>\n",
              "      <td>21</td>\n",
              "      <td>5</td>\n",
              "      <td>ta un mono sourcils</td>\n",
              "      <td>[😂]</td>\n",
              "    </tr>\n",
              "    <tr>\n",
              "      <th>6</th>\n",
              "      <td>Grosse merdes</td>\n",
              "      <td>Insult</td>\n",
              "      <td>LOW</td>\n",
              "      <td>USER</td>\n",
              "      <td>1</td>\n",
              "      <td>13</td>\n",
              "      <td>2</td>\n",
              "      <td>grosse merdes</td>\n",
              "      <td>[]</td>\n",
              "    </tr>\n",
              "    <tr>\n",
              "      <th>7</th>\n",
              "      <td>espèce de gamin 😂😂</td>\n",
              "      <td>Insult</td>\n",
              "      <td>LOW</td>\n",
              "      <td>USER</td>\n",
              "      <td>1</td>\n",
              "      <td>18</td>\n",
              "      <td>4</td>\n",
              "      <td>espèce de gamin</td>\n",
              "      <td>[😂, 😂]</td>\n",
              "    </tr>\n",
              "    <tr>\n",
              "      <th>8</th>\n",
              "      <td>C'est quoi cette mode ou presque tout les YouT...</td>\n",
              "      <td>Insult</td>\n",
              "      <td>LOW</td>\n",
              "      <td>USER</td>\n",
              "      <td>1</td>\n",
              "      <td>174</td>\n",
              "      <td>37</td>\n",
              "      <td>c'est quoi cette mode ou presque tout les yout...</td>\n",
              "      <td>[]</td>\n",
              "    </tr>\n",
              "    <tr>\n",
              "      <th>9</th>\n",
              "      <td>@VittoreMorgane @crdsar et ? il est au dessus ...</td>\n",
              "      <td>Insult</td>\n",
              "      <td>LOW</td>\n",
              "      <td>USER</td>\n",
              "      <td>1</td>\n",
              "      <td>226</td>\n",
              "      <td>42</td>\n",
              "      <td>@vittoremorgane @crdsar et ? il est au dessus ...</td>\n",
              "      <td>[]</td>\n",
              "    </tr>\n",
              "  </tbody>\n",
              "</table>\n",
              "</div>"
            ],
            "text/plain": [
              "                                            Sentence  ...               Emoji\n",
              "0                                       T pas Bo 😂😂🥃  ...           [😂, 😂, 🥃]\n",
              "1                                 t’es vilain 😂😂😂😂😂😂  ...  [😂, 😂, 😂, 😂, 😂, 😂]\n",
              "2  Je te propose un d'île je m'abonne à ta chaine...  ...                  []\n",
              "3                                      T un kiko mdr  ...                  []\n",
              "4                                 Moi mdr t trop nul  ...                  []\n",
              "5                              Ta un mono sourcils 😂  ...                 [😂]\n",
              "6                                      Grosse merdes  ...                  []\n",
              "7                                 espèce de gamin 😂😂  ...              [😂, 😂]\n",
              "8  C'est quoi cette mode ou presque tout les YouT...  ...                  []\n",
              "9  @VittoreMorgane @crdsar et ? il est au dessus ...  ...                  []\n",
              "\n",
              "[10 rows x 9 columns]"
            ]
          },
          "metadata": {
            "tags": []
          },
          "execution_count": 25
        }
      ]
    },
    {
      "cell_type": "code",
      "metadata": {
        "colab": {
          "base_uri": "https://localhost:8080/"
        },
        "id": "lh0OZbD7NqaG",
        "outputId": "1bacd33a-d17d-45b8-b22c-eeff5309d080"
      },
      "source": [
        "#Extracting list of unique emojis\r\n",
        "import itertools\r\n",
        "emoji_list = np.unique([*itertools.chain.from_iterable(dataset.Emoji)])\r\n",
        "print(emoji_list[:30])"
      ],
      "execution_count": 26,
      "outputs": [
        {
          "output_type": "stream",
          "text": [
            "['©' '®' '‼' '⁉' '™' '↔' '↖' '↗' '↘' '↙' '↩' '↪' '⌛' '⌨' '⏩' '⏫' '⏬' '⏭'\n",
            " '⏰' '⏱' '⏳' '⏸' 'Ⓜ' '▪' '▶' '◀' '◼' '◽' '☀' '☁']\n"
          ],
          "name": "stdout"
        }
      ]
    },
    {
      "cell_type": "code",
      "metadata": {
        "colab": {
          "base_uri": "https://localhost:8080/"
        },
        "id": "QbQp-bFOjZ-H",
        "outputId": "d8a73ca8-4b68-44a7-90b5-f221ed3a074e"
      },
      "source": [
        "emoji_fr_dict = pd.read_csv('/content/drive/My Drive/CS224n_Project/emoji_fr_dict_int.csv', index_col=0, squeeze=True).to_dict()\r\n",
        "list(emoji_fr_dict.items())[:10]"
      ],
      "execution_count": 27,
      "outputs": [
        {
          "output_type": "execute_result",
          "data": {
            "text/plain": [
              "[(128512, 'visage souriant'),\n",
              " (128515, 'visage souriant avec de grands yeux'),\n",
              " (128516, 'visage souriant avec des yeux souriants'),\n",
              " (128513, 'visage rayonnant aux yeux souriants'),\n",
              " (128518, 'visage souriant plissant les yeux'),\n",
              " (128517, 'visage souriant de sueur'),\n",
              " (129315, 'roulant sur le sol en riant'),\n",
              " (128514, 'visage avec des larmes de joie'),\n",
              " (128578, 'visage légèrement souriant'),\n",
              " (128579, 'visage à l&#39;envers')]"
            ]
          },
          "metadata": {
            "tags": []
          },
          "execution_count": 27
        }
      ]
    },
    {
      "cell_type": "code",
      "metadata": {
        "id": "PAxkhi9T_XWJ",
        "colab": {
          "base_uri": "https://localhost:8080/",
          "height": 251
        },
        "outputId": "ddabbb44-b018-4808-f228-bdc22b279301"
      },
      "source": [
        "#Convert emojis to corresponding text (to keep their spirit)\r\n",
        "def convert_emojis(text):\r\n",
        "    for emot in text:\r\n",
        "      for subcode in emoji_fr_dict.keys():\r\n",
        "        if emot == chr(subcode):\r\n",
        "          text = [e.replace(emot, emoji_fr_dict[subcode]) for e in text]\r\n",
        "    return text\r\n",
        "\r\n",
        "dataset['EmojiToText'] = dataset['Emoji'].apply(convert_emojis)\r\n",
        "dataset.head()"
      ],
      "execution_count": 28,
      "outputs": [
        {
          "output_type": "execute_result",
          "data": {
            "text/html": [
              "<div>\n",
              "<style scoped>\n",
              "    .dataframe tbody tr th:only-of-type {\n",
              "        vertical-align: middle;\n",
              "    }\n",
              "\n",
              "    .dataframe tbody tr th {\n",
              "        vertical-align: top;\n",
              "    }\n",
              "\n",
              "    .dataframe thead th {\n",
              "        text-align: right;\n",
              "    }\n",
              "</style>\n",
              "<table border=\"1\" class=\"dataframe\">\n",
              "  <thead>\n",
              "    <tr style=\"text-align: right;\">\n",
              "      <th></th>\n",
              "      <th>Sentence</th>\n",
              "      <th>Type</th>\n",
              "      <th>Level</th>\n",
              "      <th>Target</th>\n",
              "      <th>Class</th>\n",
              "      <th>Length</th>\n",
              "      <th>Count</th>\n",
              "      <th>cleanSentence</th>\n",
              "      <th>Emoji</th>\n",
              "      <th>EmojiToText</th>\n",
              "    </tr>\n",
              "  </thead>\n",
              "  <tbody>\n",
              "    <tr>\n",
              "      <th>0</th>\n",
              "      <td>T pas Bo 😂😂🥃</td>\n",
              "      <td>Mockery</td>\n",
              "      <td>LOW</td>\n",
              "      <td>USER</td>\n",
              "      <td>1</td>\n",
              "      <td>12</td>\n",
              "      <td>4</td>\n",
              "      <td>t pas bo</td>\n",
              "      <td>[😂, 😂, 🥃]</td>\n",
              "      <td>[visage avec des larmes de joie, visage avec d...</td>\n",
              "    </tr>\n",
              "    <tr>\n",
              "      <th>1</th>\n",
              "      <td>t’es vilain 😂😂😂😂😂😂</td>\n",
              "      <td>Mockery</td>\n",
              "      <td>LOW</td>\n",
              "      <td>USER</td>\n",
              "      <td>1</td>\n",
              "      <td>18</td>\n",
              "      <td>3</td>\n",
              "      <td>t’es vilain</td>\n",
              "      <td>[😂, 😂, 😂, 😂, 😂, 😂]</td>\n",
              "      <td>[visage avec des larmes de joie, visage avec d...</td>\n",
              "    </tr>\n",
              "    <tr>\n",
              "      <th>2</th>\n",
              "      <td>Je te propose un d'île je m'abonne à ta chaine...</td>\n",
              "      <td>Hate</td>\n",
              "      <td>LOW</td>\n",
              "      <td>USER</td>\n",
              "      <td>1</td>\n",
              "      <td>189</td>\n",
              "      <td>37</td>\n",
              "      <td>je te propose un d'île je m'abonne à ta chaine...</td>\n",
              "      <td>[]</td>\n",
              "      <td>[]</td>\n",
              "    </tr>\n",
              "    <tr>\n",
              "      <th>3</th>\n",
              "      <td>T un kiko mdr</td>\n",
              "      <td>Insult</td>\n",
              "      <td>LOW</td>\n",
              "      <td>USER</td>\n",
              "      <td>1</td>\n",
              "      <td>13</td>\n",
              "      <td>4</td>\n",
              "      <td>t un kiko mdr</td>\n",
              "      <td>[]</td>\n",
              "      <td>[]</td>\n",
              "    </tr>\n",
              "    <tr>\n",
              "      <th>4</th>\n",
              "      <td>Moi mdr t trop nul</td>\n",
              "      <td>Hate</td>\n",
              "      <td>LOW</td>\n",
              "      <td>USER</td>\n",
              "      <td>1</td>\n",
              "      <td>18</td>\n",
              "      <td>5</td>\n",
              "      <td>moi mdr t trop nul</td>\n",
              "      <td>[]</td>\n",
              "      <td>[]</td>\n",
              "    </tr>\n",
              "  </tbody>\n",
              "</table>\n",
              "</div>"
            ],
            "text/plain": [
              "                                            Sentence  ...                                        EmojiToText\n",
              "0                                       T pas Bo 😂😂🥃  ...  [visage avec des larmes de joie, visage avec d...\n",
              "1                                 t’es vilain 😂😂😂😂😂😂  ...  [visage avec des larmes de joie, visage avec d...\n",
              "2  Je te propose un d'île je m'abonne à ta chaine...  ...                                                 []\n",
              "3                                      T un kiko mdr  ...                                                 []\n",
              "4                                 Moi mdr t trop nul  ...                                                 []\n",
              "\n",
              "[5 rows x 10 columns]"
            ]
          },
          "metadata": {
            "tags": []
          },
          "execution_count": 28
        }
      ]
    },
    {
      "cell_type": "code",
      "metadata": {
        "colab": {
          "base_uri": "https://localhost:8080/"
        },
        "id": "ch4CUTmrT1UP",
        "outputId": "7914d700-63ac-46db-b538-f0bca74c0027"
      },
      "source": [
        "dataset.EmojiToText[0]"
      ],
      "execution_count": 29,
      "outputs": [
        {
          "output_type": "execute_result",
          "data": {
            "text/plain": [
              "['visage avec des larmes de joie',\n",
              " 'visage avec des larmes de joie',\n",
              " 'verre de verre']"
            ]
          },
          "metadata": {
            "tags": []
          },
          "execution_count": 29
        }
      ]
    },
    {
      "cell_type": "code",
      "metadata": {
        "colab": {
          "base_uri": "https://localhost:8080/",
          "height": 453
        },
        "id": "mkP00pgPz7Ml",
        "outputId": "b394679b-a48a-4b4c-c81c-733fe1648bdf"
      },
      "source": [
        "#Special characters cleaning\r\n",
        "\"\"\"\r\n",
        "A utility function to remove numerical characters from the text.\r\n",
        "\r\n",
        "\"\"\"\r\n",
        "\r\n",
        "def remove_nums(text):\r\n",
        "    text = ''.join([i for i in text if not i.isdigit()])         \r\n",
        "    return text\r\n",
        "\r\n",
        "\r\n",
        "\"\"\"\r\n",
        "A utility function to remove URL links from the text.\r\n",
        "\r\n",
        "\"\"\"\r\n",
        "\r\n",
        "def remove_URL(text):\r\n",
        "    url = re.compile(r'https?://\\S+|www\\.\\S+')\r\n",
        "    return url.sub(r'',text)\r\n",
        "\r\n",
        "\r\n",
        "\"\"\"\r\n",
        "A utility function to remove HTML tags from the text.\r\n",
        "\r\n",
        "\"\"\"\r\n",
        "\r\n",
        "def remove_html(text):\r\n",
        "    html=re.compile(r'<.*?>')\r\n",
        "    return html.sub(r'',text)\r\n",
        "\r\n",
        "\r\n",
        "\"\"\"\r\n",
        "A utility function to remove @\r\n",
        "\r\n",
        "\"\"\"\r\n",
        "\r\n",
        "def remove_special(text):\r\n",
        "    return \" \".join(re.sub(\"(@[A-Za-z0-9]+)|([^ \\nA-Za-z0-9À-ÖØ-öø-ÿ/ \\t])\", \" \",text).split())\r\n",
        "#    return \" \".join(re.sub(\"(@[^\\s]+)\", \" \",text).split())\r\n",
        "\r\n",
        "\r\n",
        "#dataset['cleanSentence'] = dataset['cleanSentence'].apply(remove_nums)\r\n",
        "dataset['cleanSentence'] = dataset['cleanSentence'].apply(remove_URL)\r\n",
        "dataset['cleanSentence'] = dataset['cleanSentence'].apply(remove_html)\r\n",
        "dataset['cleanSentence'] = dataset['cleanSentence'].apply(remove_special)\r\n",
        "\r\n",
        "dataset['EmojiToText'] = dataset['EmojiToText'].apply(', '.join)\r\n",
        "dataset['EmojiToText'] = dataset['EmojiToText'].apply(remove_special)\r\n",
        "\r\n",
        "dataset.head(10)"
      ],
      "execution_count": 30,
      "outputs": [
        {
          "output_type": "execute_result",
          "data": {
            "text/html": [
              "<div>\n",
              "<style scoped>\n",
              "    .dataframe tbody tr th:only-of-type {\n",
              "        vertical-align: middle;\n",
              "    }\n",
              "\n",
              "    .dataframe tbody tr th {\n",
              "        vertical-align: top;\n",
              "    }\n",
              "\n",
              "    .dataframe thead th {\n",
              "        text-align: right;\n",
              "    }\n",
              "</style>\n",
              "<table border=\"1\" class=\"dataframe\">\n",
              "  <thead>\n",
              "    <tr style=\"text-align: right;\">\n",
              "      <th></th>\n",
              "      <th>Sentence</th>\n",
              "      <th>Type</th>\n",
              "      <th>Level</th>\n",
              "      <th>Target</th>\n",
              "      <th>Class</th>\n",
              "      <th>Length</th>\n",
              "      <th>Count</th>\n",
              "      <th>cleanSentence</th>\n",
              "      <th>Emoji</th>\n",
              "      <th>EmojiToText</th>\n",
              "    </tr>\n",
              "  </thead>\n",
              "  <tbody>\n",
              "    <tr>\n",
              "      <th>0</th>\n",
              "      <td>T pas Bo 😂😂🥃</td>\n",
              "      <td>Mockery</td>\n",
              "      <td>LOW</td>\n",
              "      <td>USER</td>\n",
              "      <td>1</td>\n",
              "      <td>12</td>\n",
              "      <td>4</td>\n",
              "      <td>t pas bo</td>\n",
              "      <td>[😂, 😂, 🥃]</td>\n",
              "      <td>visage avec des larmes de joie visage avec des...</td>\n",
              "    </tr>\n",
              "    <tr>\n",
              "      <th>1</th>\n",
              "      <td>t’es vilain 😂😂😂😂😂😂</td>\n",
              "      <td>Mockery</td>\n",
              "      <td>LOW</td>\n",
              "      <td>USER</td>\n",
              "      <td>1</td>\n",
              "      <td>18</td>\n",
              "      <td>3</td>\n",
              "      <td>t es vilain</td>\n",
              "      <td>[😂, 😂, 😂, 😂, 😂, 😂]</td>\n",
              "      <td>visage avec des larmes de joie visage avec des...</td>\n",
              "    </tr>\n",
              "    <tr>\n",
              "      <th>2</th>\n",
              "      <td>Je te propose un d'île je m'abonne à ta chaine...</td>\n",
              "      <td>Hate</td>\n",
              "      <td>LOW</td>\n",
              "      <td>USER</td>\n",
              "      <td>1</td>\n",
              "      <td>189</td>\n",
              "      <td>37</td>\n",
              "      <td>je te propose un d île je m abonne à ta chaine...</td>\n",
              "      <td>[]</td>\n",
              "      <td></td>\n",
              "    </tr>\n",
              "    <tr>\n",
              "      <th>3</th>\n",
              "      <td>T un kiko mdr</td>\n",
              "      <td>Insult</td>\n",
              "      <td>LOW</td>\n",
              "      <td>USER</td>\n",
              "      <td>1</td>\n",
              "      <td>13</td>\n",
              "      <td>4</td>\n",
              "      <td>t un kiko mdr</td>\n",
              "      <td>[]</td>\n",
              "      <td></td>\n",
              "    </tr>\n",
              "    <tr>\n",
              "      <th>4</th>\n",
              "      <td>Moi mdr t trop nul</td>\n",
              "      <td>Hate</td>\n",
              "      <td>LOW</td>\n",
              "      <td>USER</td>\n",
              "      <td>1</td>\n",
              "      <td>18</td>\n",
              "      <td>5</td>\n",
              "      <td>moi mdr t trop nul</td>\n",
              "      <td>[]</td>\n",
              "      <td></td>\n",
              "    </tr>\n",
              "    <tr>\n",
              "      <th>5</th>\n",
              "      <td>Ta un mono sourcils 😂</td>\n",
              "      <td>Mockery</td>\n",
              "      <td>LOW</td>\n",
              "      <td>USER</td>\n",
              "      <td>1</td>\n",
              "      <td>21</td>\n",
              "      <td>5</td>\n",
              "      <td>ta un mono sourcils</td>\n",
              "      <td>[😂]</td>\n",
              "      <td>visage avec des larmes de joie</td>\n",
              "    </tr>\n",
              "    <tr>\n",
              "      <th>6</th>\n",
              "      <td>Grosse merdes</td>\n",
              "      <td>Insult</td>\n",
              "      <td>LOW</td>\n",
              "      <td>USER</td>\n",
              "      <td>1</td>\n",
              "      <td>13</td>\n",
              "      <td>2</td>\n",
              "      <td>grosse merdes</td>\n",
              "      <td>[]</td>\n",
              "      <td></td>\n",
              "    </tr>\n",
              "    <tr>\n",
              "      <th>7</th>\n",
              "      <td>espèce de gamin 😂😂</td>\n",
              "      <td>Insult</td>\n",
              "      <td>LOW</td>\n",
              "      <td>USER</td>\n",
              "      <td>1</td>\n",
              "      <td>18</td>\n",
              "      <td>4</td>\n",
              "      <td>espèce de gamin</td>\n",
              "      <td>[😂, 😂]</td>\n",
              "      <td>visage avec des larmes de joie visage avec des...</td>\n",
              "    </tr>\n",
              "    <tr>\n",
              "      <th>8</th>\n",
              "      <td>C'est quoi cette mode ou presque tout les YouT...</td>\n",
              "      <td>Insult</td>\n",
              "      <td>LOW</td>\n",
              "      <td>USER</td>\n",
              "      <td>1</td>\n",
              "      <td>174</td>\n",
              "      <td>37</td>\n",
              "      <td>c est quoi cette mode ou presque tout les yout...</td>\n",
              "      <td>[]</td>\n",
              "      <td></td>\n",
              "    </tr>\n",
              "    <tr>\n",
              "      <th>9</th>\n",
              "      <td>@VittoreMorgane @crdsar et ? il est au dessus ...</td>\n",
              "      <td>Insult</td>\n",
              "      <td>LOW</td>\n",
              "      <td>USER</td>\n",
              "      <td>1</td>\n",
              "      <td>226</td>\n",
              "      <td>42</td>\n",
              "      <td>et il est au dessus des lois je fais des reuni...</td>\n",
              "      <td>[]</td>\n",
              "      <td></td>\n",
              "    </tr>\n",
              "  </tbody>\n",
              "</table>\n",
              "</div>"
            ],
            "text/plain": [
              "                                            Sentence  ...                                        EmojiToText\n",
              "0                                       T pas Bo 😂😂🥃  ...  visage avec des larmes de joie visage avec des...\n",
              "1                                 t’es vilain 😂😂😂😂😂😂  ...  visage avec des larmes de joie visage avec des...\n",
              "2  Je te propose un d'île je m'abonne à ta chaine...  ...                                                   \n",
              "3                                      T un kiko mdr  ...                                                   \n",
              "4                                 Moi mdr t trop nul  ...                                                   \n",
              "5                              Ta un mono sourcils 😂  ...                     visage avec des larmes de joie\n",
              "6                                      Grosse merdes  ...                                                   \n",
              "7                                 espèce de gamin 😂😂  ...  visage avec des larmes de joie visage avec des...\n",
              "8  C'est quoi cette mode ou presque tout les YouT...  ...                                                   \n",
              "9  @VittoreMorgane @crdsar et ? il est au dessus ...  ...                                                   \n",
              "\n",
              "[10 rows x 10 columns]"
            ]
          },
          "metadata": {
            "tags": []
          },
          "execution_count": 30
        }
      ]
    },
    {
      "cell_type": "code",
      "metadata": {
        "colab": {
          "base_uri": "https://localhost:8080/",
          "height": 453
        },
        "id": "YXlELDUC4mNM",
        "outputId": "e935991a-5dfe-4546-f43c-827a7ee482c6"
      },
      "source": [
        "#Removing punctuation\r\n",
        "punct =[]\r\n",
        "punct += list(string.punctuation)\r\n",
        "punct += '’'\r\n",
        "punct.remove(\"'\")\r\n",
        "\r\n",
        "def remove_punctuations(text):\r\n",
        "    for punctuation in punct:\r\n",
        "        text = text.replace(punctuation, ' ')\r\n",
        "    return text\r\n",
        "\r\n",
        "dataset['cleanSentence'] = dataset['cleanSentence'].apply(remove_punctuations)\r\n",
        "dataset['EmojiToText'] = dataset['EmojiToText'].apply(remove_punctuations)\r\n",
        "dataset.head(10)"
      ],
      "execution_count": 31,
      "outputs": [
        {
          "output_type": "execute_result",
          "data": {
            "text/html": [
              "<div>\n",
              "<style scoped>\n",
              "    .dataframe tbody tr th:only-of-type {\n",
              "        vertical-align: middle;\n",
              "    }\n",
              "\n",
              "    .dataframe tbody tr th {\n",
              "        vertical-align: top;\n",
              "    }\n",
              "\n",
              "    .dataframe thead th {\n",
              "        text-align: right;\n",
              "    }\n",
              "</style>\n",
              "<table border=\"1\" class=\"dataframe\">\n",
              "  <thead>\n",
              "    <tr style=\"text-align: right;\">\n",
              "      <th></th>\n",
              "      <th>Sentence</th>\n",
              "      <th>Type</th>\n",
              "      <th>Level</th>\n",
              "      <th>Target</th>\n",
              "      <th>Class</th>\n",
              "      <th>Length</th>\n",
              "      <th>Count</th>\n",
              "      <th>cleanSentence</th>\n",
              "      <th>Emoji</th>\n",
              "      <th>EmojiToText</th>\n",
              "    </tr>\n",
              "  </thead>\n",
              "  <tbody>\n",
              "    <tr>\n",
              "      <th>0</th>\n",
              "      <td>T pas Bo 😂😂🥃</td>\n",
              "      <td>Mockery</td>\n",
              "      <td>LOW</td>\n",
              "      <td>USER</td>\n",
              "      <td>1</td>\n",
              "      <td>12</td>\n",
              "      <td>4</td>\n",
              "      <td>t pas bo</td>\n",
              "      <td>[😂, 😂, 🥃]</td>\n",
              "      <td>visage avec des larmes de joie visage avec des...</td>\n",
              "    </tr>\n",
              "    <tr>\n",
              "      <th>1</th>\n",
              "      <td>t’es vilain 😂😂😂😂😂😂</td>\n",
              "      <td>Mockery</td>\n",
              "      <td>LOW</td>\n",
              "      <td>USER</td>\n",
              "      <td>1</td>\n",
              "      <td>18</td>\n",
              "      <td>3</td>\n",
              "      <td>t es vilain</td>\n",
              "      <td>[😂, 😂, 😂, 😂, 😂, 😂]</td>\n",
              "      <td>visage avec des larmes de joie visage avec des...</td>\n",
              "    </tr>\n",
              "    <tr>\n",
              "      <th>2</th>\n",
              "      <td>Je te propose un d'île je m'abonne à ta chaine...</td>\n",
              "      <td>Hate</td>\n",
              "      <td>LOW</td>\n",
              "      <td>USER</td>\n",
              "      <td>1</td>\n",
              "      <td>189</td>\n",
              "      <td>37</td>\n",
              "      <td>je te propose un d île je m abonne à ta chaine...</td>\n",
              "      <td>[]</td>\n",
              "      <td></td>\n",
              "    </tr>\n",
              "    <tr>\n",
              "      <th>3</th>\n",
              "      <td>T un kiko mdr</td>\n",
              "      <td>Insult</td>\n",
              "      <td>LOW</td>\n",
              "      <td>USER</td>\n",
              "      <td>1</td>\n",
              "      <td>13</td>\n",
              "      <td>4</td>\n",
              "      <td>t un kiko mdr</td>\n",
              "      <td>[]</td>\n",
              "      <td></td>\n",
              "    </tr>\n",
              "    <tr>\n",
              "      <th>4</th>\n",
              "      <td>Moi mdr t trop nul</td>\n",
              "      <td>Hate</td>\n",
              "      <td>LOW</td>\n",
              "      <td>USER</td>\n",
              "      <td>1</td>\n",
              "      <td>18</td>\n",
              "      <td>5</td>\n",
              "      <td>moi mdr t trop nul</td>\n",
              "      <td>[]</td>\n",
              "      <td></td>\n",
              "    </tr>\n",
              "    <tr>\n",
              "      <th>5</th>\n",
              "      <td>Ta un mono sourcils 😂</td>\n",
              "      <td>Mockery</td>\n",
              "      <td>LOW</td>\n",
              "      <td>USER</td>\n",
              "      <td>1</td>\n",
              "      <td>21</td>\n",
              "      <td>5</td>\n",
              "      <td>ta un mono sourcils</td>\n",
              "      <td>[😂]</td>\n",
              "      <td>visage avec des larmes de joie</td>\n",
              "    </tr>\n",
              "    <tr>\n",
              "      <th>6</th>\n",
              "      <td>Grosse merdes</td>\n",
              "      <td>Insult</td>\n",
              "      <td>LOW</td>\n",
              "      <td>USER</td>\n",
              "      <td>1</td>\n",
              "      <td>13</td>\n",
              "      <td>2</td>\n",
              "      <td>grosse merdes</td>\n",
              "      <td>[]</td>\n",
              "      <td></td>\n",
              "    </tr>\n",
              "    <tr>\n",
              "      <th>7</th>\n",
              "      <td>espèce de gamin 😂😂</td>\n",
              "      <td>Insult</td>\n",
              "      <td>LOW</td>\n",
              "      <td>USER</td>\n",
              "      <td>1</td>\n",
              "      <td>18</td>\n",
              "      <td>4</td>\n",
              "      <td>espèce de gamin</td>\n",
              "      <td>[😂, 😂]</td>\n",
              "      <td>visage avec des larmes de joie visage avec des...</td>\n",
              "    </tr>\n",
              "    <tr>\n",
              "      <th>8</th>\n",
              "      <td>C'est quoi cette mode ou presque tout les YouT...</td>\n",
              "      <td>Insult</td>\n",
              "      <td>LOW</td>\n",
              "      <td>USER</td>\n",
              "      <td>1</td>\n",
              "      <td>174</td>\n",
              "      <td>37</td>\n",
              "      <td>c est quoi cette mode ou presque tout les yout...</td>\n",
              "      <td>[]</td>\n",
              "      <td></td>\n",
              "    </tr>\n",
              "    <tr>\n",
              "      <th>9</th>\n",
              "      <td>@VittoreMorgane @crdsar et ? il est au dessus ...</td>\n",
              "      <td>Insult</td>\n",
              "      <td>LOW</td>\n",
              "      <td>USER</td>\n",
              "      <td>1</td>\n",
              "      <td>226</td>\n",
              "      <td>42</td>\n",
              "      <td>et il est au dessus des lois je fais des reuni...</td>\n",
              "      <td>[]</td>\n",
              "      <td></td>\n",
              "    </tr>\n",
              "  </tbody>\n",
              "</table>\n",
              "</div>"
            ],
            "text/plain": [
              "                                            Sentence  ...                                        EmojiToText\n",
              "0                                       T pas Bo 😂😂🥃  ...  visage avec des larmes de joie visage avec des...\n",
              "1                                 t’es vilain 😂😂😂😂😂😂  ...  visage avec des larmes de joie visage avec des...\n",
              "2  Je te propose un d'île je m'abonne à ta chaine...  ...                                                   \n",
              "3                                      T un kiko mdr  ...                                                   \n",
              "4                                 Moi mdr t trop nul  ...                                                   \n",
              "5                              Ta un mono sourcils 😂  ...                     visage avec des larmes de joie\n",
              "6                                      Grosse merdes  ...                                                   \n",
              "7                                 espèce de gamin 😂😂  ...  visage avec des larmes de joie visage avec des...\n",
              "8  C'est quoi cette mode ou presque tout les YouT...  ...                                                   \n",
              "9  @VittoreMorgane @crdsar et ? il est au dessus ...  ...                                                   \n",
              "\n",
              "[10 rows x 10 columns]"
            ]
          },
          "metadata": {
            "tags": []
          },
          "execution_count": 31
        }
      ]
    },
    {
      "cell_type": "code",
      "metadata": {
        "colab": {
          "base_uri": "https://localhost:8080/"
        },
        "id": "fzKXO9qk_DKr",
        "outputId": "a3c2c6e6-6b93-4713-aebe-106552163b2d"
      },
      "source": [
        "#Checking frequent words\r\n",
        "cnt = Counter()\r\n",
        "for text in dataset[\"cleanSentence\"].values:\r\n",
        "    for word in text.split():\r\n",
        "        cnt[word] += 1\r\n",
        "        \r\n",
        "cnt.most_common(20)"
      ],
      "execution_count": 32,
      "outputs": [
        {
          "output_type": "execute_result",
          "data": {
            "text/plain": [
              "[('de', 219669),\n",
              " ('est', 133579),\n",
              " ('la', 130991),\n",
              " ('et', 120552),\n",
              " ('le', 113016),\n",
              " ('les', 106419),\n",
              " ('c', 95209),\n",
              " ('pas', 92356),\n",
              " ('que', 84686),\n",
              " ('je', 80306),\n",
              " ('des', 77273),\n",
              " ('a', 76027),\n",
              " ('un', 75793),\n",
              " ('en', 73365),\n",
              " ('à', 70458),\n",
              " ('il', 67932),\n",
              " ('tu', 65680),\n",
              " ('pour', 61827),\n",
              " ('qui', 58492),\n",
              " ('l', 55957)]"
            ]
          },
          "metadata": {
            "tags": []
          },
          "execution_count": 32
        }
      ]
    },
    {
      "cell_type": "code",
      "metadata": {
        "colab": {
          "base_uri": "https://localhost:8080/",
          "height": 251
        },
        "id": "igNN2pfvnH5m",
        "outputId": "15dfcd88-3b1a-47e3-f830-224a2bb5d2da"
      },
      "source": [
        "dataset['enhancedSentence'] = dataset['cleanSentence'] + \" \" + dataset['EmojiToText']\r\n",
        "dataset.head()"
      ],
      "execution_count": 33,
      "outputs": [
        {
          "output_type": "execute_result",
          "data": {
            "text/html": [
              "<div>\n",
              "<style scoped>\n",
              "    .dataframe tbody tr th:only-of-type {\n",
              "        vertical-align: middle;\n",
              "    }\n",
              "\n",
              "    .dataframe tbody tr th {\n",
              "        vertical-align: top;\n",
              "    }\n",
              "\n",
              "    .dataframe thead th {\n",
              "        text-align: right;\n",
              "    }\n",
              "</style>\n",
              "<table border=\"1\" class=\"dataframe\">\n",
              "  <thead>\n",
              "    <tr style=\"text-align: right;\">\n",
              "      <th></th>\n",
              "      <th>Sentence</th>\n",
              "      <th>Type</th>\n",
              "      <th>Level</th>\n",
              "      <th>Target</th>\n",
              "      <th>Class</th>\n",
              "      <th>Length</th>\n",
              "      <th>Count</th>\n",
              "      <th>cleanSentence</th>\n",
              "      <th>Emoji</th>\n",
              "      <th>EmojiToText</th>\n",
              "      <th>enhancedSentence</th>\n",
              "    </tr>\n",
              "  </thead>\n",
              "  <tbody>\n",
              "    <tr>\n",
              "      <th>0</th>\n",
              "      <td>T pas Bo 😂😂🥃</td>\n",
              "      <td>Mockery</td>\n",
              "      <td>LOW</td>\n",
              "      <td>USER</td>\n",
              "      <td>1</td>\n",
              "      <td>12</td>\n",
              "      <td>4</td>\n",
              "      <td>t pas bo</td>\n",
              "      <td>[😂, 😂, 🥃]</td>\n",
              "      <td>visage avec des larmes de joie visage avec des...</td>\n",
              "      <td>t pas bo visage avec des larmes de joie visage...</td>\n",
              "    </tr>\n",
              "    <tr>\n",
              "      <th>1</th>\n",
              "      <td>t’es vilain 😂😂😂😂😂😂</td>\n",
              "      <td>Mockery</td>\n",
              "      <td>LOW</td>\n",
              "      <td>USER</td>\n",
              "      <td>1</td>\n",
              "      <td>18</td>\n",
              "      <td>3</td>\n",
              "      <td>t es vilain</td>\n",
              "      <td>[😂, 😂, 😂, 😂, 😂, 😂]</td>\n",
              "      <td>visage avec des larmes de joie visage avec des...</td>\n",
              "      <td>t es vilain visage avec des larmes de joie vis...</td>\n",
              "    </tr>\n",
              "    <tr>\n",
              "      <th>2</th>\n",
              "      <td>Je te propose un d'île je m'abonne à ta chaine...</td>\n",
              "      <td>Hate</td>\n",
              "      <td>LOW</td>\n",
              "      <td>USER</td>\n",
              "      <td>1</td>\n",
              "      <td>189</td>\n",
              "      <td>37</td>\n",
              "      <td>je te propose un d île je m abonne à ta chaine...</td>\n",
              "      <td>[]</td>\n",
              "      <td></td>\n",
              "      <td>je te propose un d île je m abonne à ta chaine...</td>\n",
              "    </tr>\n",
              "    <tr>\n",
              "      <th>3</th>\n",
              "      <td>T un kiko mdr</td>\n",
              "      <td>Insult</td>\n",
              "      <td>LOW</td>\n",
              "      <td>USER</td>\n",
              "      <td>1</td>\n",
              "      <td>13</td>\n",
              "      <td>4</td>\n",
              "      <td>t un kiko mdr</td>\n",
              "      <td>[]</td>\n",
              "      <td></td>\n",
              "      <td>t un kiko mdr</td>\n",
              "    </tr>\n",
              "    <tr>\n",
              "      <th>4</th>\n",
              "      <td>Moi mdr t trop nul</td>\n",
              "      <td>Hate</td>\n",
              "      <td>LOW</td>\n",
              "      <td>USER</td>\n",
              "      <td>1</td>\n",
              "      <td>18</td>\n",
              "      <td>5</td>\n",
              "      <td>moi mdr t trop nul</td>\n",
              "      <td>[]</td>\n",
              "      <td></td>\n",
              "      <td>moi mdr t trop nul</td>\n",
              "    </tr>\n",
              "  </tbody>\n",
              "</table>\n",
              "</div>"
            ],
            "text/plain": [
              "                                            Sentence  ...                                   enhancedSentence\n",
              "0                                       T pas Bo 😂😂🥃  ...  t pas bo visage avec des larmes de joie visage...\n",
              "1                                 t’es vilain 😂😂😂😂😂😂  ...  t es vilain visage avec des larmes de joie vis...\n",
              "2  Je te propose un d'île je m'abonne à ta chaine...  ...  je te propose un d île je m abonne à ta chaine...\n",
              "3                                      T un kiko mdr  ...                                     t un kiko mdr \n",
              "4                                 Moi mdr t trop nul  ...                                moi mdr t trop nul \n",
              "\n",
              "[5 rows x 11 columns]"
            ]
          },
          "metadata": {
            "tags": []
          },
          "execution_count": 33
        }
      ]
    },
    {
      "cell_type": "code",
      "metadata": {
        "colab": {
          "base_uri": "https://localhost:8080/",
          "height": 470
        },
        "id": "RG4L5SiL5JNg",
        "outputId": "7e8b9182-694e-4e1c-dfd8-f1f3f0abb5f8"
      },
      "source": [
        "#Removing stopwords\r\n",
        "STOPWORDS = nltk.corpus.stopwords.words('french')\r\n",
        "#STOPWORDS = set(nltk.corpus.stopwords.words('english')) | set(nltk.corpus.stopwords.words('french'))\r\n",
        "\r\n",
        "dataset_wo_stop = dataset.copy()\r\n",
        "\r\n",
        "def remove_stopwords(text):\r\n",
        "    return \" \".join([word for word in str(text).split() if word not in STOPWORDS])\r\n",
        "\r\n",
        "dataset_wo_stop['cleanSentence'] = dataset_wo_stop['cleanSentence'].apply(remove_stopwords)\r\n",
        "dataset_wo_stop.head(10)"
      ],
      "execution_count": 34,
      "outputs": [
        {
          "output_type": "execute_result",
          "data": {
            "text/html": [
              "<div>\n",
              "<style scoped>\n",
              "    .dataframe tbody tr th:only-of-type {\n",
              "        vertical-align: middle;\n",
              "    }\n",
              "\n",
              "    .dataframe tbody tr th {\n",
              "        vertical-align: top;\n",
              "    }\n",
              "\n",
              "    .dataframe thead th {\n",
              "        text-align: right;\n",
              "    }\n",
              "</style>\n",
              "<table border=\"1\" class=\"dataframe\">\n",
              "  <thead>\n",
              "    <tr style=\"text-align: right;\">\n",
              "      <th></th>\n",
              "      <th>Sentence</th>\n",
              "      <th>Type</th>\n",
              "      <th>Level</th>\n",
              "      <th>Target</th>\n",
              "      <th>Class</th>\n",
              "      <th>Length</th>\n",
              "      <th>Count</th>\n",
              "      <th>cleanSentence</th>\n",
              "      <th>Emoji</th>\n",
              "      <th>EmojiToText</th>\n",
              "      <th>enhancedSentence</th>\n",
              "    </tr>\n",
              "  </thead>\n",
              "  <tbody>\n",
              "    <tr>\n",
              "      <th>0</th>\n",
              "      <td>T pas Bo 😂😂🥃</td>\n",
              "      <td>Mockery</td>\n",
              "      <td>LOW</td>\n",
              "      <td>USER</td>\n",
              "      <td>1</td>\n",
              "      <td>12</td>\n",
              "      <td>4</td>\n",
              "      <td>bo</td>\n",
              "      <td>[😂, 😂, 🥃]</td>\n",
              "      <td>visage avec des larmes de joie visage avec des...</td>\n",
              "      <td>t pas bo visage avec des larmes de joie visage...</td>\n",
              "    </tr>\n",
              "    <tr>\n",
              "      <th>1</th>\n",
              "      <td>t’es vilain 😂😂😂😂😂😂</td>\n",
              "      <td>Mockery</td>\n",
              "      <td>LOW</td>\n",
              "      <td>USER</td>\n",
              "      <td>1</td>\n",
              "      <td>18</td>\n",
              "      <td>3</td>\n",
              "      <td>vilain</td>\n",
              "      <td>[😂, 😂, 😂, 😂, 😂, 😂]</td>\n",
              "      <td>visage avec des larmes de joie visage avec des...</td>\n",
              "      <td>t es vilain visage avec des larmes de joie vis...</td>\n",
              "    </tr>\n",
              "    <tr>\n",
              "      <th>2</th>\n",
              "      <td>Je te propose un d'île je m'abonne à ta chaine...</td>\n",
              "      <td>Hate</td>\n",
              "      <td>LOW</td>\n",
              "      <td>USER</td>\n",
              "      <td>1</td>\n",
              "      <td>189</td>\n",
              "      <td>37</td>\n",
              "      <td>propose île abonne chaine abonner chaîne youtu...</td>\n",
              "      <td>[]</td>\n",
              "      <td></td>\n",
              "      <td>je te propose un d île je m abonne à ta chaine...</td>\n",
              "    </tr>\n",
              "    <tr>\n",
              "      <th>3</th>\n",
              "      <td>T un kiko mdr</td>\n",
              "      <td>Insult</td>\n",
              "      <td>LOW</td>\n",
              "      <td>USER</td>\n",
              "      <td>1</td>\n",
              "      <td>13</td>\n",
              "      <td>4</td>\n",
              "      <td>kiko mdr</td>\n",
              "      <td>[]</td>\n",
              "      <td></td>\n",
              "      <td>t un kiko mdr</td>\n",
              "    </tr>\n",
              "    <tr>\n",
              "      <th>4</th>\n",
              "      <td>Moi mdr t trop nul</td>\n",
              "      <td>Hate</td>\n",
              "      <td>LOW</td>\n",
              "      <td>USER</td>\n",
              "      <td>1</td>\n",
              "      <td>18</td>\n",
              "      <td>5</td>\n",
              "      <td>mdr trop nul</td>\n",
              "      <td>[]</td>\n",
              "      <td></td>\n",
              "      <td>moi mdr t trop nul</td>\n",
              "    </tr>\n",
              "    <tr>\n",
              "      <th>5</th>\n",
              "      <td>Ta un mono sourcils 😂</td>\n",
              "      <td>Mockery</td>\n",
              "      <td>LOW</td>\n",
              "      <td>USER</td>\n",
              "      <td>1</td>\n",
              "      <td>21</td>\n",
              "      <td>5</td>\n",
              "      <td>mono sourcils</td>\n",
              "      <td>[😂]</td>\n",
              "      <td>visage avec des larmes de joie</td>\n",
              "      <td>ta un mono sourcils visage avec des larmes de ...</td>\n",
              "    </tr>\n",
              "    <tr>\n",
              "      <th>6</th>\n",
              "      <td>Grosse merdes</td>\n",
              "      <td>Insult</td>\n",
              "      <td>LOW</td>\n",
              "      <td>USER</td>\n",
              "      <td>1</td>\n",
              "      <td>13</td>\n",
              "      <td>2</td>\n",
              "      <td>grosse merdes</td>\n",
              "      <td>[]</td>\n",
              "      <td></td>\n",
              "      <td>grosse merdes</td>\n",
              "    </tr>\n",
              "    <tr>\n",
              "      <th>7</th>\n",
              "      <td>espèce de gamin 😂😂</td>\n",
              "      <td>Insult</td>\n",
              "      <td>LOW</td>\n",
              "      <td>USER</td>\n",
              "      <td>1</td>\n",
              "      <td>18</td>\n",
              "      <td>4</td>\n",
              "      <td>espèce gamin</td>\n",
              "      <td>[😂, 😂]</td>\n",
              "      <td>visage avec des larmes de joie visage avec des...</td>\n",
              "      <td>espèce de gamin visage avec des larmes de joie...</td>\n",
              "    </tr>\n",
              "    <tr>\n",
              "      <th>8</th>\n",
              "      <td>C'est quoi cette mode ou presque tout les YouT...</td>\n",
              "      <td>Insult</td>\n",
              "      <td>LOW</td>\n",
              "      <td>USER</td>\n",
              "      <td>1</td>\n",
              "      <td>174</td>\n",
              "      <td>37</td>\n",
              "      <td>quoi cette mode presque tout youtubeurs joue j...</td>\n",
              "      <td>[]</td>\n",
              "      <td></td>\n",
              "      <td>c est quoi cette mode ou presque tout les yout...</td>\n",
              "    </tr>\n",
              "    <tr>\n",
              "      <th>9</th>\n",
              "      <td>@VittoreMorgane @crdsar et ? il est au dessus ...</td>\n",
              "      <td>Insult</td>\n",
              "      <td>LOW</td>\n",
              "      <td>USER</td>\n",
              "      <td>1</td>\n",
              "      <td>226</td>\n",
              "      <td>42</td>\n",
              "      <td>dessus lois fais reunions travail tous jours v...</td>\n",
              "      <td>[]</td>\n",
              "      <td></td>\n",
              "      <td>et il est au dessus des lois je fais des reuni...</td>\n",
              "    </tr>\n",
              "  </tbody>\n",
              "</table>\n",
              "</div>"
            ],
            "text/plain": [
              "                                            Sentence  ...                                   enhancedSentence\n",
              "0                                       T pas Bo 😂😂🥃  ...  t pas bo visage avec des larmes de joie visage...\n",
              "1                                 t’es vilain 😂😂😂😂😂😂  ...  t es vilain visage avec des larmes de joie vis...\n",
              "2  Je te propose un d'île je m'abonne à ta chaine...  ...  je te propose un d île je m abonne à ta chaine...\n",
              "3                                      T un kiko mdr  ...                                     t un kiko mdr \n",
              "4                                 Moi mdr t trop nul  ...                                moi mdr t trop nul \n",
              "5                              Ta un mono sourcils 😂  ...  ta un mono sourcils visage avec des larmes de ...\n",
              "6                                      Grosse merdes  ...                                     grosse merdes \n",
              "7                                 espèce de gamin 😂😂  ...  espèce de gamin visage avec des larmes de joie...\n",
              "8  C'est quoi cette mode ou presque tout les YouT...  ...  c est quoi cette mode ou presque tout les yout...\n",
              "9  @VittoreMorgane @crdsar et ? il est au dessus ...  ...  et il est au dessus des lois je fais des reuni...\n",
              "\n",
              "[10 rows x 11 columns]"
            ]
          },
          "metadata": {
            "tags": []
          },
          "execution_count": 34
        }
      ]
    },
    {
      "cell_type": "code",
      "metadata": {
        "colab": {
          "base_uri": "https://localhost:8080/",
          "height": 93
        },
        "id": "4adX22hBwB8y",
        "outputId": "cf36bbc6-adf6-4def-b724-c40f28d145a2"
      },
      "source": [
        "#Word Cloud on toxic posts by toxicity level\r\n",
        "\"\"\"\r\n",
        "text = ''\r\n",
        "dataset_vh = pd.DataFrame()\r\n",
        "dataset_vh = dataset_wo_stop[dataset_wo_stop['Level']=='VERY_HIGH']\r\n",
        "for news in dataset_vh.cleanSentence.values:\r\n",
        "    text += news\r\n",
        "wordcloud = WordCloud(\r\n",
        "    width = 3000,\r\n",
        "    height = 2000,\r\n",
        "    background_color = 'white',\r\n",
        "    stopwords = set(nltk.corpus.stopwords.words(\"english\"))).generate(text)\r\n",
        "fig = plt.figure(\r\n",
        "    figsize = (40, 30),\r\n",
        "    facecolor = 'k',\r\n",
        "    edgecolor = 'k')\r\n",
        "plt.imshow(wordcloud, interpolation = 'bilinear')\r\n",
        "plt.axis('off')\r\n",
        "plt.show()\r\n",
        "del dataset_vh, text\r\n",
        "\"\"\""
      ],
      "execution_count": 35,
      "outputs": [
        {
          "output_type": "execute_result",
          "data": {
            "application/vnd.google.colaboratory.intrinsic+json": {
              "type": "string"
            },
            "text/plain": [
              "'\\ntext = \\'\\'\\ndataset_vh = pd.DataFrame()\\ndataset_vh = dataset_wo_stop[dataset_wo_stop[\\'Level\\']==\\'VERY_HIGH\\']\\nfor news in dataset_vh.cleanSentence.values:\\n    text += news\\nwordcloud = WordCloud(\\n    width = 3000,\\n    height = 2000,\\n    background_color = \\'white\\',\\n    stopwords = set(nltk.corpus.stopwords.words(\"english\"))).generate(text)\\nfig = plt.figure(\\n    figsize = (40, 30),\\n    facecolor = \\'k\\',\\n    edgecolor = \\'k\\')\\nplt.imshow(wordcloud, interpolation = \\'bilinear\\')\\nplt.axis(\\'off\\')\\nplt.show()\\ndel dataset_vh, text\\n'"
            ]
          },
          "metadata": {
            "tags": []
          },
          "execution_count": 35
        }
      ]
    },
    {
      "cell_type": "code",
      "metadata": {
        "colab": {
          "base_uri": "https://localhost:8080/",
          "height": 487
        },
        "id": "O405aDJEtx4q",
        "outputId": "ba5514dc-8f5a-4289-d605-102f65aedf65"
      },
      "source": [
        "#Removing frequent words\r\n",
        "#FREQWORDS = set([w for (w, wc) in cnt.most_common(10)])\r\n",
        "FREQWORDS = ['de', 'est', 'la', 'et', 'le','les','c','que','des','a','un','en','à', 'pour','qui', 'l', 'd', 'une', 'ce', 'mais', 'qu', 'ne', 'ça', 'dans','du', 'sur', 'avec', 'tout', 'au', 'si', 'comme']\r\n",
        "\r\n",
        "dataset_wo_freq = dataset.copy()\r\n",
        "\r\n",
        "def remove_freqwords(text):\r\n",
        "    return \" \".join([word for word in str(text).split() if word not in FREQWORDS])\r\n",
        "\r\n",
        "dataset_wo_freq['cleanSentence'] = dataset_wo_freq['cleanSentence'].apply(remove_freqwords)\r\n",
        "dataset_wo_freq.head(10)"
      ],
      "execution_count": 36,
      "outputs": [
        {
          "output_type": "execute_result",
          "data": {
            "text/html": [
              "<div>\n",
              "<style scoped>\n",
              "    .dataframe tbody tr th:only-of-type {\n",
              "        vertical-align: middle;\n",
              "    }\n",
              "\n",
              "    .dataframe tbody tr th {\n",
              "        vertical-align: top;\n",
              "    }\n",
              "\n",
              "    .dataframe thead th {\n",
              "        text-align: right;\n",
              "    }\n",
              "</style>\n",
              "<table border=\"1\" class=\"dataframe\">\n",
              "  <thead>\n",
              "    <tr style=\"text-align: right;\">\n",
              "      <th></th>\n",
              "      <th>Sentence</th>\n",
              "      <th>Type</th>\n",
              "      <th>Level</th>\n",
              "      <th>Target</th>\n",
              "      <th>Class</th>\n",
              "      <th>Length</th>\n",
              "      <th>Count</th>\n",
              "      <th>cleanSentence</th>\n",
              "      <th>Emoji</th>\n",
              "      <th>EmojiToText</th>\n",
              "      <th>enhancedSentence</th>\n",
              "    </tr>\n",
              "  </thead>\n",
              "  <tbody>\n",
              "    <tr>\n",
              "      <th>0</th>\n",
              "      <td>T pas Bo 😂😂🥃</td>\n",
              "      <td>Mockery</td>\n",
              "      <td>LOW</td>\n",
              "      <td>USER</td>\n",
              "      <td>1</td>\n",
              "      <td>12</td>\n",
              "      <td>4</td>\n",
              "      <td>t pas bo</td>\n",
              "      <td>[😂, 😂, 🥃]</td>\n",
              "      <td>visage avec des larmes de joie visage avec des...</td>\n",
              "      <td>t pas bo visage avec des larmes de joie visage...</td>\n",
              "    </tr>\n",
              "    <tr>\n",
              "      <th>1</th>\n",
              "      <td>t’es vilain 😂😂😂😂😂😂</td>\n",
              "      <td>Mockery</td>\n",
              "      <td>LOW</td>\n",
              "      <td>USER</td>\n",
              "      <td>1</td>\n",
              "      <td>18</td>\n",
              "      <td>3</td>\n",
              "      <td>t es vilain</td>\n",
              "      <td>[😂, 😂, 😂, 😂, 😂, 😂]</td>\n",
              "      <td>visage avec des larmes de joie visage avec des...</td>\n",
              "      <td>t es vilain visage avec des larmes de joie vis...</td>\n",
              "    </tr>\n",
              "    <tr>\n",
              "      <th>2</th>\n",
              "      <td>Je te propose un d'île je m'abonne à ta chaine...</td>\n",
              "      <td>Hate</td>\n",
              "      <td>LOW</td>\n",
              "      <td>USER</td>\n",
              "      <td>1</td>\n",
              "      <td>189</td>\n",
              "      <td>37</td>\n",
              "      <td>je te propose île je m abonne ta chaine tu t a...</td>\n",
              "      <td>[]</td>\n",
              "      <td></td>\n",
              "      <td>je te propose un d île je m abonne à ta chaine...</td>\n",
              "    </tr>\n",
              "    <tr>\n",
              "      <th>3</th>\n",
              "      <td>T un kiko mdr</td>\n",
              "      <td>Insult</td>\n",
              "      <td>LOW</td>\n",
              "      <td>USER</td>\n",
              "      <td>1</td>\n",
              "      <td>13</td>\n",
              "      <td>4</td>\n",
              "      <td>t kiko mdr</td>\n",
              "      <td>[]</td>\n",
              "      <td></td>\n",
              "      <td>t un kiko mdr</td>\n",
              "    </tr>\n",
              "    <tr>\n",
              "      <th>4</th>\n",
              "      <td>Moi mdr t trop nul</td>\n",
              "      <td>Hate</td>\n",
              "      <td>LOW</td>\n",
              "      <td>USER</td>\n",
              "      <td>1</td>\n",
              "      <td>18</td>\n",
              "      <td>5</td>\n",
              "      <td>moi mdr t trop nul</td>\n",
              "      <td>[]</td>\n",
              "      <td></td>\n",
              "      <td>moi mdr t trop nul</td>\n",
              "    </tr>\n",
              "    <tr>\n",
              "      <th>5</th>\n",
              "      <td>Ta un mono sourcils 😂</td>\n",
              "      <td>Mockery</td>\n",
              "      <td>LOW</td>\n",
              "      <td>USER</td>\n",
              "      <td>1</td>\n",
              "      <td>21</td>\n",
              "      <td>5</td>\n",
              "      <td>ta mono sourcils</td>\n",
              "      <td>[😂]</td>\n",
              "      <td>visage avec des larmes de joie</td>\n",
              "      <td>ta un mono sourcils visage avec des larmes de ...</td>\n",
              "    </tr>\n",
              "    <tr>\n",
              "      <th>6</th>\n",
              "      <td>Grosse merdes</td>\n",
              "      <td>Insult</td>\n",
              "      <td>LOW</td>\n",
              "      <td>USER</td>\n",
              "      <td>1</td>\n",
              "      <td>13</td>\n",
              "      <td>2</td>\n",
              "      <td>grosse merdes</td>\n",
              "      <td>[]</td>\n",
              "      <td></td>\n",
              "      <td>grosse merdes</td>\n",
              "    </tr>\n",
              "    <tr>\n",
              "      <th>7</th>\n",
              "      <td>espèce de gamin 😂😂</td>\n",
              "      <td>Insult</td>\n",
              "      <td>LOW</td>\n",
              "      <td>USER</td>\n",
              "      <td>1</td>\n",
              "      <td>18</td>\n",
              "      <td>4</td>\n",
              "      <td>espèce gamin</td>\n",
              "      <td>[😂, 😂]</td>\n",
              "      <td>visage avec des larmes de joie visage avec des...</td>\n",
              "      <td>espèce de gamin visage avec des larmes de joie...</td>\n",
              "    </tr>\n",
              "    <tr>\n",
              "      <th>8</th>\n",
              "      <td>C'est quoi cette mode ou presque tout les YouT...</td>\n",
              "      <td>Insult</td>\n",
              "      <td>LOW</td>\n",
              "      <td>USER</td>\n",
              "      <td>1</td>\n",
              "      <td>174</td>\n",
              "      <td>37</td>\n",
              "      <td>quoi cette mode ou presque youtubeurs joue jeu...</td>\n",
              "      <td>[]</td>\n",
              "      <td></td>\n",
              "      <td>c est quoi cette mode ou presque tout les yout...</td>\n",
              "    </tr>\n",
              "    <tr>\n",
              "      <th>9</th>\n",
              "      <td>@VittoreMorgane @crdsar et ? il est au dessus ...</td>\n",
              "      <td>Insult</td>\n",
              "      <td>LOW</td>\n",
              "      <td>USER</td>\n",
              "      <td>1</td>\n",
              "      <td>226</td>\n",
              "      <td>42</td>\n",
              "      <td>il dessus lois je fais reunions travail tous j...</td>\n",
              "      <td>[]</td>\n",
              "      <td></td>\n",
              "      <td>et il est au dessus des lois je fais des reuni...</td>\n",
              "    </tr>\n",
              "  </tbody>\n",
              "</table>\n",
              "</div>"
            ],
            "text/plain": [
              "                                            Sentence  ...                                   enhancedSentence\n",
              "0                                       T pas Bo 😂😂🥃  ...  t pas bo visage avec des larmes de joie visage...\n",
              "1                                 t’es vilain 😂😂😂😂😂😂  ...  t es vilain visage avec des larmes de joie vis...\n",
              "2  Je te propose un d'île je m'abonne à ta chaine...  ...  je te propose un d île je m abonne à ta chaine...\n",
              "3                                      T un kiko mdr  ...                                     t un kiko mdr \n",
              "4                                 Moi mdr t trop nul  ...                                moi mdr t trop nul \n",
              "5                              Ta un mono sourcils 😂  ...  ta un mono sourcils visage avec des larmes de ...\n",
              "6                                      Grosse merdes  ...                                     grosse merdes \n",
              "7                                 espèce de gamin 😂😂  ...  espèce de gamin visage avec des larmes de joie...\n",
              "8  C'est quoi cette mode ou presque tout les YouT...  ...  c est quoi cette mode ou presque tout les yout...\n",
              "9  @VittoreMorgane @crdsar et ? il est au dessus ...  ...  et il est au dessus des lois je fais des reuni...\n",
              "\n",
              "[10 rows x 11 columns]"
            ]
          },
          "metadata": {
            "tags": []
          },
          "execution_count": 36
        }
      ]
    },
    {
      "cell_type": "code",
      "metadata": {
        "colab": {
          "base_uri": "https://localhost:8080/"
        },
        "id": "DkIe8gx6u-hM",
        "outputId": "eb0577de-ff7f-4b91-b47d-1d3cfa3adcd9"
      },
      "source": [
        "#Checking frequent words\r\n",
        "cnt_frq = Counter()\r\n",
        "for text in dataset_wo_freq[\"cleanSentence\"].values:\r\n",
        "    for word in text.split():\r\n",
        "        cnt_frq[word] += 1\r\n",
        "        \r\n",
        "cnt_frq.most_common(20)"
      ],
      "execution_count": 37,
      "outputs": [
        {
          "output_type": "execute_result",
          "data": {
            "text/plain": [
              "[('pas', 92356),\n",
              " ('je', 80306),\n",
              " ('il', 67932),\n",
              " ('tu', 65680),\n",
              " ('vous', 53252),\n",
              " ('on', 44948),\n",
              " ('j', 42214),\n",
              " ('t', 33397),\n",
              " ('ta', 29548),\n",
              " ('n', 28819),\n",
              " ('plus', 28111),\n",
              " ('fait', 26564),\n",
              " ('faire', 26072),\n",
              " ('ai', 24814),\n",
              " ('se', 24618),\n",
              " ('merde', 22899),\n",
              " ('ou', 21633),\n",
              " ('bien', 21143),\n",
              " ('y', 20733),\n",
              " ('sont', 20577)]"
            ]
          },
          "metadata": {
            "tags": []
          },
          "execution_count": 37
        }
      ]
    },
    {
      "cell_type": "markdown",
      "metadata": {
        "id": "nCCW0iiCgzHh"
      },
      "source": [
        "### Tokenizing"
      ]
    },
    {
      "cell_type": "code",
      "metadata": {
        "colab": {
          "base_uri": "https://localhost:8080/",
          "height": 603
        },
        "id": "jrIhczHgf7QX",
        "outputId": "d29a8133-0204-4297-980c-04b1431222d8"
      },
      "source": [
        "dataset['finalSentence'] = dataset['cleanSentence'].apply(word_tokenize)\r\n",
        "#dataset['finalSentence'] = dataset['enhancedSentence'].apply(word_tokenize)\r\n",
        "dataset.head(10)"
      ],
      "execution_count": 38,
      "outputs": [
        {
          "output_type": "execute_result",
          "data": {
            "text/html": [
              "<div>\n",
              "<style scoped>\n",
              "    .dataframe tbody tr th:only-of-type {\n",
              "        vertical-align: middle;\n",
              "    }\n",
              "\n",
              "    .dataframe tbody tr th {\n",
              "        vertical-align: top;\n",
              "    }\n",
              "\n",
              "    .dataframe thead th {\n",
              "        text-align: right;\n",
              "    }\n",
              "</style>\n",
              "<table border=\"1\" class=\"dataframe\">\n",
              "  <thead>\n",
              "    <tr style=\"text-align: right;\">\n",
              "      <th></th>\n",
              "      <th>Sentence</th>\n",
              "      <th>Type</th>\n",
              "      <th>Level</th>\n",
              "      <th>Target</th>\n",
              "      <th>Class</th>\n",
              "      <th>Length</th>\n",
              "      <th>Count</th>\n",
              "      <th>cleanSentence</th>\n",
              "      <th>Emoji</th>\n",
              "      <th>EmojiToText</th>\n",
              "      <th>enhancedSentence</th>\n",
              "      <th>finalSentence</th>\n",
              "    </tr>\n",
              "  </thead>\n",
              "  <tbody>\n",
              "    <tr>\n",
              "      <th>0</th>\n",
              "      <td>T pas Bo 😂😂🥃</td>\n",
              "      <td>Mockery</td>\n",
              "      <td>LOW</td>\n",
              "      <td>USER</td>\n",
              "      <td>1</td>\n",
              "      <td>12</td>\n",
              "      <td>4</td>\n",
              "      <td>t pas bo</td>\n",
              "      <td>[😂, 😂, 🥃]</td>\n",
              "      <td>visage avec des larmes de joie visage avec des...</td>\n",
              "      <td>t pas bo visage avec des larmes de joie visage...</td>\n",
              "      <td>[t, pas, bo]</td>\n",
              "    </tr>\n",
              "    <tr>\n",
              "      <th>1</th>\n",
              "      <td>t’es vilain 😂😂😂😂😂😂</td>\n",
              "      <td>Mockery</td>\n",
              "      <td>LOW</td>\n",
              "      <td>USER</td>\n",
              "      <td>1</td>\n",
              "      <td>18</td>\n",
              "      <td>3</td>\n",
              "      <td>t es vilain</td>\n",
              "      <td>[😂, 😂, 😂, 😂, 😂, 😂]</td>\n",
              "      <td>visage avec des larmes de joie visage avec des...</td>\n",
              "      <td>t es vilain visage avec des larmes de joie vis...</td>\n",
              "      <td>[t, es, vilain]</td>\n",
              "    </tr>\n",
              "    <tr>\n",
              "      <th>2</th>\n",
              "      <td>Je te propose un d'île je m'abonne à ta chaine...</td>\n",
              "      <td>Hate</td>\n",
              "      <td>LOW</td>\n",
              "      <td>USER</td>\n",
              "      <td>1</td>\n",
              "      <td>189</td>\n",
              "      <td>37</td>\n",
              "      <td>je te propose un d île je m abonne à ta chaine...</td>\n",
              "      <td>[]</td>\n",
              "      <td></td>\n",
              "      <td>je te propose un d île je m abonne à ta chaine...</td>\n",
              "      <td>[je, te, propose, un, d, île, je, m, abonne, à...</td>\n",
              "    </tr>\n",
              "    <tr>\n",
              "      <th>3</th>\n",
              "      <td>T un kiko mdr</td>\n",
              "      <td>Insult</td>\n",
              "      <td>LOW</td>\n",
              "      <td>USER</td>\n",
              "      <td>1</td>\n",
              "      <td>13</td>\n",
              "      <td>4</td>\n",
              "      <td>t un kiko mdr</td>\n",
              "      <td>[]</td>\n",
              "      <td></td>\n",
              "      <td>t un kiko mdr</td>\n",
              "      <td>[t, un, kiko, mdr]</td>\n",
              "    </tr>\n",
              "    <tr>\n",
              "      <th>4</th>\n",
              "      <td>Moi mdr t trop nul</td>\n",
              "      <td>Hate</td>\n",
              "      <td>LOW</td>\n",
              "      <td>USER</td>\n",
              "      <td>1</td>\n",
              "      <td>18</td>\n",
              "      <td>5</td>\n",
              "      <td>moi mdr t trop nul</td>\n",
              "      <td>[]</td>\n",
              "      <td></td>\n",
              "      <td>moi mdr t trop nul</td>\n",
              "      <td>[moi, mdr, t, trop, nul]</td>\n",
              "    </tr>\n",
              "    <tr>\n",
              "      <th>5</th>\n",
              "      <td>Ta un mono sourcils 😂</td>\n",
              "      <td>Mockery</td>\n",
              "      <td>LOW</td>\n",
              "      <td>USER</td>\n",
              "      <td>1</td>\n",
              "      <td>21</td>\n",
              "      <td>5</td>\n",
              "      <td>ta un mono sourcils</td>\n",
              "      <td>[😂]</td>\n",
              "      <td>visage avec des larmes de joie</td>\n",
              "      <td>ta un mono sourcils visage avec des larmes de ...</td>\n",
              "      <td>[ta, un, mono, sourcils]</td>\n",
              "    </tr>\n",
              "    <tr>\n",
              "      <th>6</th>\n",
              "      <td>Grosse merdes</td>\n",
              "      <td>Insult</td>\n",
              "      <td>LOW</td>\n",
              "      <td>USER</td>\n",
              "      <td>1</td>\n",
              "      <td>13</td>\n",
              "      <td>2</td>\n",
              "      <td>grosse merdes</td>\n",
              "      <td>[]</td>\n",
              "      <td></td>\n",
              "      <td>grosse merdes</td>\n",
              "      <td>[grosse, merdes]</td>\n",
              "    </tr>\n",
              "    <tr>\n",
              "      <th>7</th>\n",
              "      <td>espèce de gamin 😂😂</td>\n",
              "      <td>Insult</td>\n",
              "      <td>LOW</td>\n",
              "      <td>USER</td>\n",
              "      <td>1</td>\n",
              "      <td>18</td>\n",
              "      <td>4</td>\n",
              "      <td>espèce de gamin</td>\n",
              "      <td>[😂, 😂]</td>\n",
              "      <td>visage avec des larmes de joie visage avec des...</td>\n",
              "      <td>espèce de gamin visage avec des larmes de joie...</td>\n",
              "      <td>[espèce, de, gamin]</td>\n",
              "    </tr>\n",
              "    <tr>\n",
              "      <th>8</th>\n",
              "      <td>C'est quoi cette mode ou presque tout les YouT...</td>\n",
              "      <td>Insult</td>\n",
              "      <td>LOW</td>\n",
              "      <td>USER</td>\n",
              "      <td>1</td>\n",
              "      <td>174</td>\n",
              "      <td>37</td>\n",
              "      <td>c est quoi cette mode ou presque tout les yout...</td>\n",
              "      <td>[]</td>\n",
              "      <td></td>\n",
              "      <td>c est quoi cette mode ou presque tout les yout...</td>\n",
              "      <td>[c, est, quoi, cette, mode, ou, presque, tout,...</td>\n",
              "    </tr>\n",
              "    <tr>\n",
              "      <th>9</th>\n",
              "      <td>@VittoreMorgane @crdsar et ? il est au dessus ...</td>\n",
              "      <td>Insult</td>\n",
              "      <td>LOW</td>\n",
              "      <td>USER</td>\n",
              "      <td>1</td>\n",
              "      <td>226</td>\n",
              "      <td>42</td>\n",
              "      <td>et il est au dessus des lois je fais des reuni...</td>\n",
              "      <td>[]</td>\n",
              "      <td></td>\n",
              "      <td>et il est au dessus des lois je fais des reuni...</td>\n",
              "      <td>[et, il, est, au, dessus, des, lois, je, fais,...</td>\n",
              "    </tr>\n",
              "  </tbody>\n",
              "</table>\n",
              "</div>"
            ],
            "text/plain": [
              "                                            Sentence  ...                                      finalSentence\n",
              "0                                       T pas Bo 😂😂🥃  ...                                       [t, pas, bo]\n",
              "1                                 t’es vilain 😂😂😂😂😂😂  ...                                    [t, es, vilain]\n",
              "2  Je te propose un d'île je m'abonne à ta chaine...  ...  [je, te, propose, un, d, île, je, m, abonne, à...\n",
              "3                                      T un kiko mdr  ...                                 [t, un, kiko, mdr]\n",
              "4                                 Moi mdr t trop nul  ...                           [moi, mdr, t, trop, nul]\n",
              "5                              Ta un mono sourcils 😂  ...                           [ta, un, mono, sourcils]\n",
              "6                                      Grosse merdes  ...                                   [grosse, merdes]\n",
              "7                                 espèce de gamin 😂😂  ...                                [espèce, de, gamin]\n",
              "8  C'est quoi cette mode ou presque tout les YouT...  ...  [c, est, quoi, cette, mode, ou, presque, tout,...\n",
              "9  @VittoreMorgane @crdsar et ? il est au dessus ...  ...  [et, il, est, au, dessus, des, lois, je, fais,...\n",
              "\n",
              "[10 rows x 12 columns]"
            ]
          },
          "metadata": {
            "tags": []
          },
          "execution_count": 38
        }
      ]
    },
    {
      "cell_type": "code",
      "metadata": {
        "colab": {
          "base_uri": "https://localhost:8080/",
          "height": 653
        },
        "id": "2V8myZwnn9Oq",
        "outputId": "1dd4b364-ec81-4194-c01d-3065bb659534"
      },
      "source": [
        "dataset['ultimateSentence'] = dataset['enhancedSentence'].apply(word_tokenize)\r\n",
        "dataset.head(10)"
      ],
      "execution_count": 39,
      "outputs": [
        {
          "output_type": "execute_result",
          "data": {
            "text/html": [
              "<div>\n",
              "<style scoped>\n",
              "    .dataframe tbody tr th:only-of-type {\n",
              "        vertical-align: middle;\n",
              "    }\n",
              "\n",
              "    .dataframe tbody tr th {\n",
              "        vertical-align: top;\n",
              "    }\n",
              "\n",
              "    .dataframe thead th {\n",
              "        text-align: right;\n",
              "    }\n",
              "</style>\n",
              "<table border=\"1\" class=\"dataframe\">\n",
              "  <thead>\n",
              "    <tr style=\"text-align: right;\">\n",
              "      <th></th>\n",
              "      <th>Sentence</th>\n",
              "      <th>Type</th>\n",
              "      <th>Level</th>\n",
              "      <th>Target</th>\n",
              "      <th>Class</th>\n",
              "      <th>Length</th>\n",
              "      <th>Count</th>\n",
              "      <th>cleanSentence</th>\n",
              "      <th>Emoji</th>\n",
              "      <th>EmojiToText</th>\n",
              "      <th>enhancedSentence</th>\n",
              "      <th>finalSentence</th>\n",
              "      <th>ultimateSentence</th>\n",
              "    </tr>\n",
              "  </thead>\n",
              "  <tbody>\n",
              "    <tr>\n",
              "      <th>0</th>\n",
              "      <td>T pas Bo 😂😂🥃</td>\n",
              "      <td>Mockery</td>\n",
              "      <td>LOW</td>\n",
              "      <td>USER</td>\n",
              "      <td>1</td>\n",
              "      <td>12</td>\n",
              "      <td>4</td>\n",
              "      <td>t pas bo</td>\n",
              "      <td>[😂, 😂, 🥃]</td>\n",
              "      <td>visage avec des larmes de joie visage avec des...</td>\n",
              "      <td>t pas bo visage avec des larmes de joie visage...</td>\n",
              "      <td>[t, pas, bo]</td>\n",
              "      <td>[t, pas, bo, visage, avec, des, larmes, de, jo...</td>\n",
              "    </tr>\n",
              "    <tr>\n",
              "      <th>1</th>\n",
              "      <td>t’es vilain 😂😂😂😂😂😂</td>\n",
              "      <td>Mockery</td>\n",
              "      <td>LOW</td>\n",
              "      <td>USER</td>\n",
              "      <td>1</td>\n",
              "      <td>18</td>\n",
              "      <td>3</td>\n",
              "      <td>t es vilain</td>\n",
              "      <td>[😂, 😂, 😂, 😂, 😂, 😂]</td>\n",
              "      <td>visage avec des larmes de joie visage avec des...</td>\n",
              "      <td>t es vilain visage avec des larmes de joie vis...</td>\n",
              "      <td>[t, es, vilain]</td>\n",
              "      <td>[t, es, vilain, visage, avec, des, larmes, de,...</td>\n",
              "    </tr>\n",
              "    <tr>\n",
              "      <th>2</th>\n",
              "      <td>Je te propose un d'île je m'abonne à ta chaine...</td>\n",
              "      <td>Hate</td>\n",
              "      <td>LOW</td>\n",
              "      <td>USER</td>\n",
              "      <td>1</td>\n",
              "      <td>189</td>\n",
              "      <td>37</td>\n",
              "      <td>je te propose un d île je m abonne à ta chaine...</td>\n",
              "      <td>[]</td>\n",
              "      <td></td>\n",
              "      <td>je te propose un d île je m abonne à ta chaine...</td>\n",
              "      <td>[je, te, propose, un, d, île, je, m, abonne, à...</td>\n",
              "      <td>[je, te, propose, un, d, île, je, m, abonne, à...</td>\n",
              "    </tr>\n",
              "    <tr>\n",
              "      <th>3</th>\n",
              "      <td>T un kiko mdr</td>\n",
              "      <td>Insult</td>\n",
              "      <td>LOW</td>\n",
              "      <td>USER</td>\n",
              "      <td>1</td>\n",
              "      <td>13</td>\n",
              "      <td>4</td>\n",
              "      <td>t un kiko mdr</td>\n",
              "      <td>[]</td>\n",
              "      <td></td>\n",
              "      <td>t un kiko mdr</td>\n",
              "      <td>[t, un, kiko, mdr]</td>\n",
              "      <td>[t, un, kiko, mdr]</td>\n",
              "    </tr>\n",
              "    <tr>\n",
              "      <th>4</th>\n",
              "      <td>Moi mdr t trop nul</td>\n",
              "      <td>Hate</td>\n",
              "      <td>LOW</td>\n",
              "      <td>USER</td>\n",
              "      <td>1</td>\n",
              "      <td>18</td>\n",
              "      <td>5</td>\n",
              "      <td>moi mdr t trop nul</td>\n",
              "      <td>[]</td>\n",
              "      <td></td>\n",
              "      <td>moi mdr t trop nul</td>\n",
              "      <td>[moi, mdr, t, trop, nul]</td>\n",
              "      <td>[moi, mdr, t, trop, nul]</td>\n",
              "    </tr>\n",
              "    <tr>\n",
              "      <th>5</th>\n",
              "      <td>Ta un mono sourcils 😂</td>\n",
              "      <td>Mockery</td>\n",
              "      <td>LOW</td>\n",
              "      <td>USER</td>\n",
              "      <td>1</td>\n",
              "      <td>21</td>\n",
              "      <td>5</td>\n",
              "      <td>ta un mono sourcils</td>\n",
              "      <td>[😂]</td>\n",
              "      <td>visage avec des larmes de joie</td>\n",
              "      <td>ta un mono sourcils visage avec des larmes de ...</td>\n",
              "      <td>[ta, un, mono, sourcils]</td>\n",
              "      <td>[ta, un, mono, sourcils, visage, avec, des, la...</td>\n",
              "    </tr>\n",
              "    <tr>\n",
              "      <th>6</th>\n",
              "      <td>Grosse merdes</td>\n",
              "      <td>Insult</td>\n",
              "      <td>LOW</td>\n",
              "      <td>USER</td>\n",
              "      <td>1</td>\n",
              "      <td>13</td>\n",
              "      <td>2</td>\n",
              "      <td>grosse merdes</td>\n",
              "      <td>[]</td>\n",
              "      <td></td>\n",
              "      <td>grosse merdes</td>\n",
              "      <td>[grosse, merdes]</td>\n",
              "      <td>[grosse, merdes]</td>\n",
              "    </tr>\n",
              "    <tr>\n",
              "      <th>7</th>\n",
              "      <td>espèce de gamin 😂😂</td>\n",
              "      <td>Insult</td>\n",
              "      <td>LOW</td>\n",
              "      <td>USER</td>\n",
              "      <td>1</td>\n",
              "      <td>18</td>\n",
              "      <td>4</td>\n",
              "      <td>espèce de gamin</td>\n",
              "      <td>[😂, 😂]</td>\n",
              "      <td>visage avec des larmes de joie visage avec des...</td>\n",
              "      <td>espèce de gamin visage avec des larmes de joie...</td>\n",
              "      <td>[espèce, de, gamin]</td>\n",
              "      <td>[espèce, de, gamin, visage, avec, des, larmes,...</td>\n",
              "    </tr>\n",
              "    <tr>\n",
              "      <th>8</th>\n",
              "      <td>C'est quoi cette mode ou presque tout les YouT...</td>\n",
              "      <td>Insult</td>\n",
              "      <td>LOW</td>\n",
              "      <td>USER</td>\n",
              "      <td>1</td>\n",
              "      <td>174</td>\n",
              "      <td>37</td>\n",
              "      <td>c est quoi cette mode ou presque tout les yout...</td>\n",
              "      <td>[]</td>\n",
              "      <td></td>\n",
              "      <td>c est quoi cette mode ou presque tout les yout...</td>\n",
              "      <td>[c, est, quoi, cette, mode, ou, presque, tout,...</td>\n",
              "      <td>[c, est, quoi, cette, mode, ou, presque, tout,...</td>\n",
              "    </tr>\n",
              "    <tr>\n",
              "      <th>9</th>\n",
              "      <td>@VittoreMorgane @crdsar et ? il est au dessus ...</td>\n",
              "      <td>Insult</td>\n",
              "      <td>LOW</td>\n",
              "      <td>USER</td>\n",
              "      <td>1</td>\n",
              "      <td>226</td>\n",
              "      <td>42</td>\n",
              "      <td>et il est au dessus des lois je fais des reuni...</td>\n",
              "      <td>[]</td>\n",
              "      <td></td>\n",
              "      <td>et il est au dessus des lois je fais des reuni...</td>\n",
              "      <td>[et, il, est, au, dessus, des, lois, je, fais,...</td>\n",
              "      <td>[et, il, est, au, dessus, des, lois, je, fais,...</td>\n",
              "    </tr>\n",
              "  </tbody>\n",
              "</table>\n",
              "</div>"
            ],
            "text/plain": [
              "                                            Sentence  ...                                   ultimateSentence\n",
              "0                                       T pas Bo 😂😂🥃  ...  [t, pas, bo, visage, avec, des, larmes, de, jo...\n",
              "1                                 t’es vilain 😂😂😂😂😂😂  ...  [t, es, vilain, visage, avec, des, larmes, de,...\n",
              "2  Je te propose un d'île je m'abonne à ta chaine...  ...  [je, te, propose, un, d, île, je, m, abonne, à...\n",
              "3                                      T un kiko mdr  ...                                 [t, un, kiko, mdr]\n",
              "4                                 Moi mdr t trop nul  ...                           [moi, mdr, t, trop, nul]\n",
              "5                              Ta un mono sourcils 😂  ...  [ta, un, mono, sourcils, visage, avec, des, la...\n",
              "6                                      Grosse merdes  ...                                   [grosse, merdes]\n",
              "7                                 espèce de gamin 😂😂  ...  [espèce, de, gamin, visage, avec, des, larmes,...\n",
              "8  C'est quoi cette mode ou presque tout les YouT...  ...  [c, est, quoi, cette, mode, ou, presque, tout,...\n",
              "9  @VittoreMorgane @crdsar et ? il est au dessus ...  ...  [et, il, est, au, dessus, des, lois, je, fais,...\n",
              "\n",
              "[10 rows x 13 columns]"
            ]
          },
          "metadata": {
            "tags": []
          },
          "execution_count": 39
        }
      ]
    },
    {
      "cell_type": "code",
      "metadata": {
        "colab": {
          "base_uri": "https://localhost:8080/",
          "height": 587
        },
        "id": "GNGKX2uZiAWj",
        "outputId": "a7e19059-212d-49fb-8f90-68051eb36683"
      },
      "source": [
        "dataset_wo_stop['finalSentence'] = dataset_wo_stop['cleanSentence'].apply(word_tokenize)\r\n",
        "dataset_wo_stop.head(10)"
      ],
      "execution_count": 40,
      "outputs": [
        {
          "output_type": "execute_result",
          "data": {
            "text/html": [
              "<div>\n",
              "<style scoped>\n",
              "    .dataframe tbody tr th:only-of-type {\n",
              "        vertical-align: middle;\n",
              "    }\n",
              "\n",
              "    .dataframe tbody tr th {\n",
              "        vertical-align: top;\n",
              "    }\n",
              "\n",
              "    .dataframe thead th {\n",
              "        text-align: right;\n",
              "    }\n",
              "</style>\n",
              "<table border=\"1\" class=\"dataframe\">\n",
              "  <thead>\n",
              "    <tr style=\"text-align: right;\">\n",
              "      <th></th>\n",
              "      <th>Sentence</th>\n",
              "      <th>Type</th>\n",
              "      <th>Level</th>\n",
              "      <th>Target</th>\n",
              "      <th>Class</th>\n",
              "      <th>Length</th>\n",
              "      <th>Count</th>\n",
              "      <th>cleanSentence</th>\n",
              "      <th>Emoji</th>\n",
              "      <th>EmojiToText</th>\n",
              "      <th>enhancedSentence</th>\n",
              "      <th>finalSentence</th>\n",
              "    </tr>\n",
              "  </thead>\n",
              "  <tbody>\n",
              "    <tr>\n",
              "      <th>0</th>\n",
              "      <td>T pas Bo 😂😂🥃</td>\n",
              "      <td>Mockery</td>\n",
              "      <td>LOW</td>\n",
              "      <td>USER</td>\n",
              "      <td>1</td>\n",
              "      <td>12</td>\n",
              "      <td>4</td>\n",
              "      <td>bo</td>\n",
              "      <td>[😂, 😂, 🥃]</td>\n",
              "      <td>visage avec des larmes de joie visage avec des...</td>\n",
              "      <td>t pas bo visage avec des larmes de joie visage...</td>\n",
              "      <td>[bo]</td>\n",
              "    </tr>\n",
              "    <tr>\n",
              "      <th>1</th>\n",
              "      <td>t’es vilain 😂😂😂😂😂😂</td>\n",
              "      <td>Mockery</td>\n",
              "      <td>LOW</td>\n",
              "      <td>USER</td>\n",
              "      <td>1</td>\n",
              "      <td>18</td>\n",
              "      <td>3</td>\n",
              "      <td>vilain</td>\n",
              "      <td>[😂, 😂, 😂, 😂, 😂, 😂]</td>\n",
              "      <td>visage avec des larmes de joie visage avec des...</td>\n",
              "      <td>t es vilain visage avec des larmes de joie vis...</td>\n",
              "      <td>[vilain]</td>\n",
              "    </tr>\n",
              "    <tr>\n",
              "      <th>2</th>\n",
              "      <td>Je te propose un d'île je m'abonne à ta chaine...</td>\n",
              "      <td>Hate</td>\n",
              "      <td>LOW</td>\n",
              "      <td>USER</td>\n",
              "      <td>1</td>\n",
              "      <td>189</td>\n",
              "      <td>37</td>\n",
              "      <td>propose île abonne chaine abonner chaîne youtu...</td>\n",
              "      <td>[]</td>\n",
              "      <td></td>\n",
              "      <td>je te propose un d île je m abonne à ta chaine...</td>\n",
              "      <td>[propose, île, abonne, chaine, abonner, chaîne...</td>\n",
              "    </tr>\n",
              "    <tr>\n",
              "      <th>3</th>\n",
              "      <td>T un kiko mdr</td>\n",
              "      <td>Insult</td>\n",
              "      <td>LOW</td>\n",
              "      <td>USER</td>\n",
              "      <td>1</td>\n",
              "      <td>13</td>\n",
              "      <td>4</td>\n",
              "      <td>kiko mdr</td>\n",
              "      <td>[]</td>\n",
              "      <td></td>\n",
              "      <td>t un kiko mdr</td>\n",
              "      <td>[kiko, mdr]</td>\n",
              "    </tr>\n",
              "    <tr>\n",
              "      <th>4</th>\n",
              "      <td>Moi mdr t trop nul</td>\n",
              "      <td>Hate</td>\n",
              "      <td>LOW</td>\n",
              "      <td>USER</td>\n",
              "      <td>1</td>\n",
              "      <td>18</td>\n",
              "      <td>5</td>\n",
              "      <td>mdr trop nul</td>\n",
              "      <td>[]</td>\n",
              "      <td></td>\n",
              "      <td>moi mdr t trop nul</td>\n",
              "      <td>[mdr, trop, nul]</td>\n",
              "    </tr>\n",
              "    <tr>\n",
              "      <th>5</th>\n",
              "      <td>Ta un mono sourcils 😂</td>\n",
              "      <td>Mockery</td>\n",
              "      <td>LOW</td>\n",
              "      <td>USER</td>\n",
              "      <td>1</td>\n",
              "      <td>21</td>\n",
              "      <td>5</td>\n",
              "      <td>mono sourcils</td>\n",
              "      <td>[😂]</td>\n",
              "      <td>visage avec des larmes de joie</td>\n",
              "      <td>ta un mono sourcils visage avec des larmes de ...</td>\n",
              "      <td>[mono, sourcils]</td>\n",
              "    </tr>\n",
              "    <tr>\n",
              "      <th>6</th>\n",
              "      <td>Grosse merdes</td>\n",
              "      <td>Insult</td>\n",
              "      <td>LOW</td>\n",
              "      <td>USER</td>\n",
              "      <td>1</td>\n",
              "      <td>13</td>\n",
              "      <td>2</td>\n",
              "      <td>grosse merdes</td>\n",
              "      <td>[]</td>\n",
              "      <td></td>\n",
              "      <td>grosse merdes</td>\n",
              "      <td>[grosse, merdes]</td>\n",
              "    </tr>\n",
              "    <tr>\n",
              "      <th>7</th>\n",
              "      <td>espèce de gamin 😂😂</td>\n",
              "      <td>Insult</td>\n",
              "      <td>LOW</td>\n",
              "      <td>USER</td>\n",
              "      <td>1</td>\n",
              "      <td>18</td>\n",
              "      <td>4</td>\n",
              "      <td>espèce gamin</td>\n",
              "      <td>[😂, 😂]</td>\n",
              "      <td>visage avec des larmes de joie visage avec des...</td>\n",
              "      <td>espèce de gamin visage avec des larmes de joie...</td>\n",
              "      <td>[espèce, gamin]</td>\n",
              "    </tr>\n",
              "    <tr>\n",
              "      <th>8</th>\n",
              "      <td>C'est quoi cette mode ou presque tout les YouT...</td>\n",
              "      <td>Insult</td>\n",
              "      <td>LOW</td>\n",
              "      <td>USER</td>\n",
              "      <td>1</td>\n",
              "      <td>174</td>\n",
              "      <td>37</td>\n",
              "      <td>quoi cette mode presque tout youtubeurs joue j...</td>\n",
              "      <td>[]</td>\n",
              "      <td></td>\n",
              "      <td>c est quoi cette mode ou presque tout les yout...</td>\n",
              "      <td>[quoi, cette, mode, presque, tout, youtubeurs,...</td>\n",
              "    </tr>\n",
              "    <tr>\n",
              "      <th>9</th>\n",
              "      <td>@VittoreMorgane @crdsar et ? il est au dessus ...</td>\n",
              "      <td>Insult</td>\n",
              "      <td>LOW</td>\n",
              "      <td>USER</td>\n",
              "      <td>1</td>\n",
              "      <td>226</td>\n",
              "      <td>42</td>\n",
              "      <td>dessus lois fais reunions travail tous jours v...</td>\n",
              "      <td>[]</td>\n",
              "      <td></td>\n",
              "      <td>et il est au dessus des lois je fais des reuni...</td>\n",
              "      <td>[dessus, lois, fais, reunions, travail, tous, ...</td>\n",
              "    </tr>\n",
              "  </tbody>\n",
              "</table>\n",
              "</div>"
            ],
            "text/plain": [
              "                                            Sentence  ...                                      finalSentence\n",
              "0                                       T pas Bo 😂😂🥃  ...                                               [bo]\n",
              "1                                 t’es vilain 😂😂😂😂😂😂  ...                                           [vilain]\n",
              "2  Je te propose un d'île je m'abonne à ta chaine...  ...  [propose, île, abonne, chaine, abonner, chaîne...\n",
              "3                                      T un kiko mdr  ...                                        [kiko, mdr]\n",
              "4                                 Moi mdr t trop nul  ...                                   [mdr, trop, nul]\n",
              "5                              Ta un mono sourcils 😂  ...                                   [mono, sourcils]\n",
              "6                                      Grosse merdes  ...                                   [grosse, merdes]\n",
              "7                                 espèce de gamin 😂😂  ...                                    [espèce, gamin]\n",
              "8  C'est quoi cette mode ou presque tout les YouT...  ...  [quoi, cette, mode, presque, tout, youtubeurs,...\n",
              "9  @VittoreMorgane @crdsar et ? il est au dessus ...  ...  [dessus, lois, fais, reunions, travail, tous, ...\n",
              "\n",
              "[10 rows x 12 columns]"
            ]
          },
          "metadata": {
            "tags": []
          },
          "execution_count": 40
        }
      ]
    },
    {
      "cell_type": "code",
      "metadata": {
        "colab": {
          "base_uri": "https://localhost:8080/",
          "height": 603
        },
        "id": "PNK4z3nxv5MW",
        "outputId": "5ed496b8-038a-496a-f63f-c9e5f9a1a855"
      },
      "source": [
        "dataset_wo_freq['finalSentence'] = dataset_wo_freq['cleanSentence'].apply(word_tokenize)\r\n",
        "dataset_wo_freq.head(10)"
      ],
      "execution_count": 41,
      "outputs": [
        {
          "output_type": "execute_result",
          "data": {
            "text/html": [
              "<div>\n",
              "<style scoped>\n",
              "    .dataframe tbody tr th:only-of-type {\n",
              "        vertical-align: middle;\n",
              "    }\n",
              "\n",
              "    .dataframe tbody tr th {\n",
              "        vertical-align: top;\n",
              "    }\n",
              "\n",
              "    .dataframe thead th {\n",
              "        text-align: right;\n",
              "    }\n",
              "</style>\n",
              "<table border=\"1\" class=\"dataframe\">\n",
              "  <thead>\n",
              "    <tr style=\"text-align: right;\">\n",
              "      <th></th>\n",
              "      <th>Sentence</th>\n",
              "      <th>Type</th>\n",
              "      <th>Level</th>\n",
              "      <th>Target</th>\n",
              "      <th>Class</th>\n",
              "      <th>Length</th>\n",
              "      <th>Count</th>\n",
              "      <th>cleanSentence</th>\n",
              "      <th>Emoji</th>\n",
              "      <th>EmojiToText</th>\n",
              "      <th>enhancedSentence</th>\n",
              "      <th>finalSentence</th>\n",
              "    </tr>\n",
              "  </thead>\n",
              "  <tbody>\n",
              "    <tr>\n",
              "      <th>0</th>\n",
              "      <td>T pas Bo 😂😂🥃</td>\n",
              "      <td>Mockery</td>\n",
              "      <td>LOW</td>\n",
              "      <td>USER</td>\n",
              "      <td>1</td>\n",
              "      <td>12</td>\n",
              "      <td>4</td>\n",
              "      <td>t pas bo</td>\n",
              "      <td>[😂, 😂, 🥃]</td>\n",
              "      <td>visage avec des larmes de joie visage avec des...</td>\n",
              "      <td>t pas bo visage avec des larmes de joie visage...</td>\n",
              "      <td>[t, pas, bo]</td>\n",
              "    </tr>\n",
              "    <tr>\n",
              "      <th>1</th>\n",
              "      <td>t’es vilain 😂😂😂😂😂😂</td>\n",
              "      <td>Mockery</td>\n",
              "      <td>LOW</td>\n",
              "      <td>USER</td>\n",
              "      <td>1</td>\n",
              "      <td>18</td>\n",
              "      <td>3</td>\n",
              "      <td>t es vilain</td>\n",
              "      <td>[😂, 😂, 😂, 😂, 😂, 😂]</td>\n",
              "      <td>visage avec des larmes de joie visage avec des...</td>\n",
              "      <td>t es vilain visage avec des larmes de joie vis...</td>\n",
              "      <td>[t, es, vilain]</td>\n",
              "    </tr>\n",
              "    <tr>\n",
              "      <th>2</th>\n",
              "      <td>Je te propose un d'île je m'abonne à ta chaine...</td>\n",
              "      <td>Hate</td>\n",
              "      <td>LOW</td>\n",
              "      <td>USER</td>\n",
              "      <td>1</td>\n",
              "      <td>189</td>\n",
              "      <td>37</td>\n",
              "      <td>je te propose île je m abonne ta chaine tu t a...</td>\n",
              "      <td>[]</td>\n",
              "      <td></td>\n",
              "      <td>je te propose un d île je m abonne à ta chaine...</td>\n",
              "      <td>[je, te, propose, île, je, m, abonne, ta, chai...</td>\n",
              "    </tr>\n",
              "    <tr>\n",
              "      <th>3</th>\n",
              "      <td>T un kiko mdr</td>\n",
              "      <td>Insult</td>\n",
              "      <td>LOW</td>\n",
              "      <td>USER</td>\n",
              "      <td>1</td>\n",
              "      <td>13</td>\n",
              "      <td>4</td>\n",
              "      <td>t kiko mdr</td>\n",
              "      <td>[]</td>\n",
              "      <td></td>\n",
              "      <td>t un kiko mdr</td>\n",
              "      <td>[t, kiko, mdr]</td>\n",
              "    </tr>\n",
              "    <tr>\n",
              "      <th>4</th>\n",
              "      <td>Moi mdr t trop nul</td>\n",
              "      <td>Hate</td>\n",
              "      <td>LOW</td>\n",
              "      <td>USER</td>\n",
              "      <td>1</td>\n",
              "      <td>18</td>\n",
              "      <td>5</td>\n",
              "      <td>moi mdr t trop nul</td>\n",
              "      <td>[]</td>\n",
              "      <td></td>\n",
              "      <td>moi mdr t trop nul</td>\n",
              "      <td>[moi, mdr, t, trop, nul]</td>\n",
              "    </tr>\n",
              "    <tr>\n",
              "      <th>5</th>\n",
              "      <td>Ta un mono sourcils 😂</td>\n",
              "      <td>Mockery</td>\n",
              "      <td>LOW</td>\n",
              "      <td>USER</td>\n",
              "      <td>1</td>\n",
              "      <td>21</td>\n",
              "      <td>5</td>\n",
              "      <td>ta mono sourcils</td>\n",
              "      <td>[😂]</td>\n",
              "      <td>visage avec des larmes de joie</td>\n",
              "      <td>ta un mono sourcils visage avec des larmes de ...</td>\n",
              "      <td>[ta, mono, sourcils]</td>\n",
              "    </tr>\n",
              "    <tr>\n",
              "      <th>6</th>\n",
              "      <td>Grosse merdes</td>\n",
              "      <td>Insult</td>\n",
              "      <td>LOW</td>\n",
              "      <td>USER</td>\n",
              "      <td>1</td>\n",
              "      <td>13</td>\n",
              "      <td>2</td>\n",
              "      <td>grosse merdes</td>\n",
              "      <td>[]</td>\n",
              "      <td></td>\n",
              "      <td>grosse merdes</td>\n",
              "      <td>[grosse, merdes]</td>\n",
              "    </tr>\n",
              "    <tr>\n",
              "      <th>7</th>\n",
              "      <td>espèce de gamin 😂😂</td>\n",
              "      <td>Insult</td>\n",
              "      <td>LOW</td>\n",
              "      <td>USER</td>\n",
              "      <td>1</td>\n",
              "      <td>18</td>\n",
              "      <td>4</td>\n",
              "      <td>espèce gamin</td>\n",
              "      <td>[😂, 😂]</td>\n",
              "      <td>visage avec des larmes de joie visage avec des...</td>\n",
              "      <td>espèce de gamin visage avec des larmes de joie...</td>\n",
              "      <td>[espèce, gamin]</td>\n",
              "    </tr>\n",
              "    <tr>\n",
              "      <th>8</th>\n",
              "      <td>C'est quoi cette mode ou presque tout les YouT...</td>\n",
              "      <td>Insult</td>\n",
              "      <td>LOW</td>\n",
              "      <td>USER</td>\n",
              "      <td>1</td>\n",
              "      <td>174</td>\n",
              "      <td>37</td>\n",
              "      <td>quoi cette mode ou presque youtubeurs joue jeu...</td>\n",
              "      <td>[]</td>\n",
              "      <td></td>\n",
              "      <td>c est quoi cette mode ou presque tout les yout...</td>\n",
              "      <td>[quoi, cette, mode, ou, presque, youtubeurs, j...</td>\n",
              "    </tr>\n",
              "    <tr>\n",
              "      <th>9</th>\n",
              "      <td>@VittoreMorgane @crdsar et ? il est au dessus ...</td>\n",
              "      <td>Insult</td>\n",
              "      <td>LOW</td>\n",
              "      <td>USER</td>\n",
              "      <td>1</td>\n",
              "      <td>226</td>\n",
              "      <td>42</td>\n",
              "      <td>il dessus lois je fais reunions travail tous j...</td>\n",
              "      <td>[]</td>\n",
              "      <td></td>\n",
              "      <td>et il est au dessus des lois je fais des reuni...</td>\n",
              "      <td>[il, dessus, lois, je, fais, reunions, travail...</td>\n",
              "    </tr>\n",
              "  </tbody>\n",
              "</table>\n",
              "</div>"
            ],
            "text/plain": [
              "                                            Sentence  ...                                      finalSentence\n",
              "0                                       T pas Bo 😂😂🥃  ...                                       [t, pas, bo]\n",
              "1                                 t’es vilain 😂😂😂😂😂😂  ...                                    [t, es, vilain]\n",
              "2  Je te propose un d'île je m'abonne à ta chaine...  ...  [je, te, propose, île, je, m, abonne, ta, chai...\n",
              "3                                      T un kiko mdr  ...                                     [t, kiko, mdr]\n",
              "4                                 Moi mdr t trop nul  ...                           [moi, mdr, t, trop, nul]\n",
              "5                              Ta un mono sourcils 😂  ...                               [ta, mono, sourcils]\n",
              "6                                      Grosse merdes  ...                                   [grosse, merdes]\n",
              "7                                 espèce de gamin 😂😂  ...                                    [espèce, gamin]\n",
              "8  C'est quoi cette mode ou presque tout les YouT...  ...  [quoi, cette, mode, ou, presque, youtubeurs, j...\n",
              "9  @VittoreMorgane @crdsar et ? il est au dessus ...  ...  [il, dessus, lois, je, fais, reunions, travail...\n",
              "\n",
              "[10 rows x 12 columns]"
            ]
          },
          "metadata": {
            "tags": []
          },
          "execution_count": 41
        }
      ]
    },
    {
      "cell_type": "code",
      "metadata": {
        "colab": {
          "base_uri": "https://localhost:8080/",
          "height": 707
        },
        "id": "yfCvA_riUjMV",
        "outputId": "2972f713-832a-4778-d1dd-76eb215b1237"
      },
      "source": [
        "dataset['Emoji_token'] = dataset['EmojiToText']\r\n",
        "dataset['Emoji_token'] = dataset['Emoji_token'].apply(remove_special)\r\n",
        "dataset['Emoji_token'] = dataset['Emoji_token'].apply(remove_punctuations)\r\n",
        "dataset['Emoji_token'] = dataset['Emoji_token'].apply(word_tokenize)\r\n",
        "dataset.head(10)"
      ],
      "execution_count": 42,
      "outputs": [
        {
          "output_type": "execute_result",
          "data": {
            "text/html": [
              "<div>\n",
              "<style scoped>\n",
              "    .dataframe tbody tr th:only-of-type {\n",
              "        vertical-align: middle;\n",
              "    }\n",
              "\n",
              "    .dataframe tbody tr th {\n",
              "        vertical-align: top;\n",
              "    }\n",
              "\n",
              "    .dataframe thead th {\n",
              "        text-align: right;\n",
              "    }\n",
              "</style>\n",
              "<table border=\"1\" class=\"dataframe\">\n",
              "  <thead>\n",
              "    <tr style=\"text-align: right;\">\n",
              "      <th></th>\n",
              "      <th>Sentence</th>\n",
              "      <th>Type</th>\n",
              "      <th>Level</th>\n",
              "      <th>Target</th>\n",
              "      <th>Class</th>\n",
              "      <th>Length</th>\n",
              "      <th>Count</th>\n",
              "      <th>cleanSentence</th>\n",
              "      <th>Emoji</th>\n",
              "      <th>EmojiToText</th>\n",
              "      <th>enhancedSentence</th>\n",
              "      <th>finalSentence</th>\n",
              "      <th>ultimateSentence</th>\n",
              "      <th>Emoji_token</th>\n",
              "    </tr>\n",
              "  </thead>\n",
              "  <tbody>\n",
              "    <tr>\n",
              "      <th>0</th>\n",
              "      <td>T pas Bo 😂😂🥃</td>\n",
              "      <td>Mockery</td>\n",
              "      <td>LOW</td>\n",
              "      <td>USER</td>\n",
              "      <td>1</td>\n",
              "      <td>12</td>\n",
              "      <td>4</td>\n",
              "      <td>t pas bo</td>\n",
              "      <td>[😂, 😂, 🥃]</td>\n",
              "      <td>visage avec des larmes de joie visage avec des...</td>\n",
              "      <td>t pas bo visage avec des larmes de joie visage...</td>\n",
              "      <td>[t, pas, bo]</td>\n",
              "      <td>[t, pas, bo, visage, avec, des, larmes, de, jo...</td>\n",
              "      <td>[visage, avec, des, larmes, de, joie, visage, ...</td>\n",
              "    </tr>\n",
              "    <tr>\n",
              "      <th>1</th>\n",
              "      <td>t’es vilain 😂😂😂😂😂😂</td>\n",
              "      <td>Mockery</td>\n",
              "      <td>LOW</td>\n",
              "      <td>USER</td>\n",
              "      <td>1</td>\n",
              "      <td>18</td>\n",
              "      <td>3</td>\n",
              "      <td>t es vilain</td>\n",
              "      <td>[😂, 😂, 😂, 😂, 😂, 😂]</td>\n",
              "      <td>visage avec des larmes de joie visage avec des...</td>\n",
              "      <td>t es vilain visage avec des larmes de joie vis...</td>\n",
              "      <td>[t, es, vilain]</td>\n",
              "      <td>[t, es, vilain, visage, avec, des, larmes, de,...</td>\n",
              "      <td>[visage, avec, des, larmes, de, joie, visage, ...</td>\n",
              "    </tr>\n",
              "    <tr>\n",
              "      <th>2</th>\n",
              "      <td>Je te propose un d'île je m'abonne à ta chaine...</td>\n",
              "      <td>Hate</td>\n",
              "      <td>LOW</td>\n",
              "      <td>USER</td>\n",
              "      <td>1</td>\n",
              "      <td>189</td>\n",
              "      <td>37</td>\n",
              "      <td>je te propose un d île je m abonne à ta chaine...</td>\n",
              "      <td>[]</td>\n",
              "      <td></td>\n",
              "      <td>je te propose un d île je m abonne à ta chaine...</td>\n",
              "      <td>[je, te, propose, un, d, île, je, m, abonne, à...</td>\n",
              "      <td>[je, te, propose, un, d, île, je, m, abonne, à...</td>\n",
              "      <td>[]</td>\n",
              "    </tr>\n",
              "    <tr>\n",
              "      <th>3</th>\n",
              "      <td>T un kiko mdr</td>\n",
              "      <td>Insult</td>\n",
              "      <td>LOW</td>\n",
              "      <td>USER</td>\n",
              "      <td>1</td>\n",
              "      <td>13</td>\n",
              "      <td>4</td>\n",
              "      <td>t un kiko mdr</td>\n",
              "      <td>[]</td>\n",
              "      <td></td>\n",
              "      <td>t un kiko mdr</td>\n",
              "      <td>[t, un, kiko, mdr]</td>\n",
              "      <td>[t, un, kiko, mdr]</td>\n",
              "      <td>[]</td>\n",
              "    </tr>\n",
              "    <tr>\n",
              "      <th>4</th>\n",
              "      <td>Moi mdr t trop nul</td>\n",
              "      <td>Hate</td>\n",
              "      <td>LOW</td>\n",
              "      <td>USER</td>\n",
              "      <td>1</td>\n",
              "      <td>18</td>\n",
              "      <td>5</td>\n",
              "      <td>moi mdr t trop nul</td>\n",
              "      <td>[]</td>\n",
              "      <td></td>\n",
              "      <td>moi mdr t trop nul</td>\n",
              "      <td>[moi, mdr, t, trop, nul]</td>\n",
              "      <td>[moi, mdr, t, trop, nul]</td>\n",
              "      <td>[]</td>\n",
              "    </tr>\n",
              "    <tr>\n",
              "      <th>5</th>\n",
              "      <td>Ta un mono sourcils 😂</td>\n",
              "      <td>Mockery</td>\n",
              "      <td>LOW</td>\n",
              "      <td>USER</td>\n",
              "      <td>1</td>\n",
              "      <td>21</td>\n",
              "      <td>5</td>\n",
              "      <td>ta un mono sourcils</td>\n",
              "      <td>[😂]</td>\n",
              "      <td>visage avec des larmes de joie</td>\n",
              "      <td>ta un mono sourcils visage avec des larmes de ...</td>\n",
              "      <td>[ta, un, mono, sourcils]</td>\n",
              "      <td>[ta, un, mono, sourcils, visage, avec, des, la...</td>\n",
              "      <td>[visage, avec, des, larmes, de, joie]</td>\n",
              "    </tr>\n",
              "    <tr>\n",
              "      <th>6</th>\n",
              "      <td>Grosse merdes</td>\n",
              "      <td>Insult</td>\n",
              "      <td>LOW</td>\n",
              "      <td>USER</td>\n",
              "      <td>1</td>\n",
              "      <td>13</td>\n",
              "      <td>2</td>\n",
              "      <td>grosse merdes</td>\n",
              "      <td>[]</td>\n",
              "      <td></td>\n",
              "      <td>grosse merdes</td>\n",
              "      <td>[grosse, merdes]</td>\n",
              "      <td>[grosse, merdes]</td>\n",
              "      <td>[]</td>\n",
              "    </tr>\n",
              "    <tr>\n",
              "      <th>7</th>\n",
              "      <td>espèce de gamin 😂😂</td>\n",
              "      <td>Insult</td>\n",
              "      <td>LOW</td>\n",
              "      <td>USER</td>\n",
              "      <td>1</td>\n",
              "      <td>18</td>\n",
              "      <td>4</td>\n",
              "      <td>espèce de gamin</td>\n",
              "      <td>[😂, 😂]</td>\n",
              "      <td>visage avec des larmes de joie visage avec des...</td>\n",
              "      <td>espèce de gamin visage avec des larmes de joie...</td>\n",
              "      <td>[espèce, de, gamin]</td>\n",
              "      <td>[espèce, de, gamin, visage, avec, des, larmes,...</td>\n",
              "      <td>[visage, avec, des, larmes, de, joie, visage, ...</td>\n",
              "    </tr>\n",
              "    <tr>\n",
              "      <th>8</th>\n",
              "      <td>C'est quoi cette mode ou presque tout les YouT...</td>\n",
              "      <td>Insult</td>\n",
              "      <td>LOW</td>\n",
              "      <td>USER</td>\n",
              "      <td>1</td>\n",
              "      <td>174</td>\n",
              "      <td>37</td>\n",
              "      <td>c est quoi cette mode ou presque tout les yout...</td>\n",
              "      <td>[]</td>\n",
              "      <td></td>\n",
              "      <td>c est quoi cette mode ou presque tout les yout...</td>\n",
              "      <td>[c, est, quoi, cette, mode, ou, presque, tout,...</td>\n",
              "      <td>[c, est, quoi, cette, mode, ou, presque, tout,...</td>\n",
              "      <td>[]</td>\n",
              "    </tr>\n",
              "    <tr>\n",
              "      <th>9</th>\n",
              "      <td>@VittoreMorgane @crdsar et ? il est au dessus ...</td>\n",
              "      <td>Insult</td>\n",
              "      <td>LOW</td>\n",
              "      <td>USER</td>\n",
              "      <td>1</td>\n",
              "      <td>226</td>\n",
              "      <td>42</td>\n",
              "      <td>et il est au dessus des lois je fais des reuni...</td>\n",
              "      <td>[]</td>\n",
              "      <td></td>\n",
              "      <td>et il est au dessus des lois je fais des reuni...</td>\n",
              "      <td>[et, il, est, au, dessus, des, lois, je, fais,...</td>\n",
              "      <td>[et, il, est, au, dessus, des, lois, je, fais,...</td>\n",
              "      <td>[]</td>\n",
              "    </tr>\n",
              "  </tbody>\n",
              "</table>\n",
              "</div>"
            ],
            "text/plain": [
              "                                            Sentence  ...                                        Emoji_token\n",
              "0                                       T pas Bo 😂😂🥃  ...  [visage, avec, des, larmes, de, joie, visage, ...\n",
              "1                                 t’es vilain 😂😂😂😂😂😂  ...  [visage, avec, des, larmes, de, joie, visage, ...\n",
              "2  Je te propose un d'île je m'abonne à ta chaine...  ...                                                 []\n",
              "3                                      T un kiko mdr  ...                                                 []\n",
              "4                                 Moi mdr t trop nul  ...                                                 []\n",
              "5                              Ta un mono sourcils 😂  ...              [visage, avec, des, larmes, de, joie]\n",
              "6                                      Grosse merdes  ...                                                 []\n",
              "7                                 espèce de gamin 😂😂  ...  [visage, avec, des, larmes, de, joie, visage, ...\n",
              "8  C'est quoi cette mode ou presque tout les YouT...  ...                                                 []\n",
              "9  @VittoreMorgane @crdsar et ? il est au dessus ...  ...                                                 []\n",
              "\n",
              "[10 rows x 14 columns]"
            ]
          },
          "metadata": {
            "tags": []
          },
          "execution_count": 42
        }
      ]
    },
    {
      "cell_type": "code",
      "metadata": {
        "colab": {
          "base_uri": "https://localhost:8080/",
          "height": 750
        },
        "id": "xxhbDZNtXExc",
        "outputId": "ddc5c6c9-a9c7-4923-a198-3b830a0a9399"
      },
      "source": [
        "#Alternative: Keeping only 60k neutral examples for a more balanced dataset\r\n",
        "\r\n",
        "remove_n = len(dataset[dataset.Class == 0]) - 60000\r\n",
        "neutralIndices = dataset[dataset.Class == 0].index\r\n",
        "drop_indices = np.random.choice(neutralIndices, remove_n)\r\n",
        "short_dataset = dataset.drop(index = drop_indices)\r\n",
        "short_dataset"
      ],
      "execution_count": 43,
      "outputs": [
        {
          "output_type": "execute_result",
          "data": {
            "text/html": [
              "<div>\n",
              "<style scoped>\n",
              "    .dataframe tbody tr th:only-of-type {\n",
              "        vertical-align: middle;\n",
              "    }\n",
              "\n",
              "    .dataframe tbody tr th {\n",
              "        vertical-align: top;\n",
              "    }\n",
              "\n",
              "    .dataframe thead th {\n",
              "        text-align: right;\n",
              "    }\n",
              "</style>\n",
              "<table border=\"1\" class=\"dataframe\">\n",
              "  <thead>\n",
              "    <tr style=\"text-align: right;\">\n",
              "      <th></th>\n",
              "      <th>Sentence</th>\n",
              "      <th>Type</th>\n",
              "      <th>Level</th>\n",
              "      <th>Target</th>\n",
              "      <th>Class</th>\n",
              "      <th>Length</th>\n",
              "      <th>Count</th>\n",
              "      <th>cleanSentence</th>\n",
              "      <th>Emoji</th>\n",
              "      <th>EmojiToText</th>\n",
              "      <th>enhancedSentence</th>\n",
              "      <th>finalSentence</th>\n",
              "      <th>ultimateSentence</th>\n",
              "      <th>Emoji_token</th>\n",
              "    </tr>\n",
              "  </thead>\n",
              "  <tbody>\n",
              "    <tr>\n",
              "      <th>0</th>\n",
              "      <td>T pas Bo 😂😂🥃</td>\n",
              "      <td>Mockery</td>\n",
              "      <td>LOW</td>\n",
              "      <td>USER</td>\n",
              "      <td>1</td>\n",
              "      <td>12</td>\n",
              "      <td>4</td>\n",
              "      <td>t pas bo</td>\n",
              "      <td>[😂, 😂, 🥃]</td>\n",
              "      <td>visage avec des larmes de joie visage avec des...</td>\n",
              "      <td>t pas bo visage avec des larmes de joie visage...</td>\n",
              "      <td>[t, pas, bo]</td>\n",
              "      <td>[t, pas, bo, visage, avec, des, larmes, de, jo...</td>\n",
              "      <td>[visage, avec, des, larmes, de, joie, visage, ...</td>\n",
              "    </tr>\n",
              "    <tr>\n",
              "      <th>1</th>\n",
              "      <td>t’es vilain 😂😂😂😂😂😂</td>\n",
              "      <td>Mockery</td>\n",
              "      <td>LOW</td>\n",
              "      <td>USER</td>\n",
              "      <td>1</td>\n",
              "      <td>18</td>\n",
              "      <td>3</td>\n",
              "      <td>t es vilain</td>\n",
              "      <td>[😂, 😂, 😂, 😂, 😂, 😂]</td>\n",
              "      <td>visage avec des larmes de joie visage avec des...</td>\n",
              "      <td>t es vilain visage avec des larmes de joie vis...</td>\n",
              "      <td>[t, es, vilain]</td>\n",
              "      <td>[t, es, vilain, visage, avec, des, larmes, de,...</td>\n",
              "      <td>[visage, avec, des, larmes, de, joie, visage, ...</td>\n",
              "    </tr>\n",
              "    <tr>\n",
              "      <th>2</th>\n",
              "      <td>Je te propose un d'île je m'abonne à ta chaine...</td>\n",
              "      <td>Hate</td>\n",
              "      <td>LOW</td>\n",
              "      <td>USER</td>\n",
              "      <td>1</td>\n",
              "      <td>189</td>\n",
              "      <td>37</td>\n",
              "      <td>je te propose un d île je m abonne à ta chaine...</td>\n",
              "      <td>[]</td>\n",
              "      <td></td>\n",
              "      <td>je te propose un d île je m abonne à ta chaine...</td>\n",
              "      <td>[je, te, propose, un, d, île, je, m, abonne, à...</td>\n",
              "      <td>[je, te, propose, un, d, île, je, m, abonne, à...</td>\n",
              "      <td>[]</td>\n",
              "    </tr>\n",
              "    <tr>\n",
              "      <th>3</th>\n",
              "      <td>T un kiko mdr</td>\n",
              "      <td>Insult</td>\n",
              "      <td>LOW</td>\n",
              "      <td>USER</td>\n",
              "      <td>1</td>\n",
              "      <td>13</td>\n",
              "      <td>4</td>\n",
              "      <td>t un kiko mdr</td>\n",
              "      <td>[]</td>\n",
              "      <td></td>\n",
              "      <td>t un kiko mdr</td>\n",
              "      <td>[t, un, kiko, mdr]</td>\n",
              "      <td>[t, un, kiko, mdr]</td>\n",
              "      <td>[]</td>\n",
              "    </tr>\n",
              "    <tr>\n",
              "      <th>4</th>\n",
              "      <td>Moi mdr t trop nul</td>\n",
              "      <td>Hate</td>\n",
              "      <td>LOW</td>\n",
              "      <td>USER</td>\n",
              "      <td>1</td>\n",
              "      <td>18</td>\n",
              "      <td>5</td>\n",
              "      <td>moi mdr t trop nul</td>\n",
              "      <td>[]</td>\n",
              "      <td></td>\n",
              "      <td>moi mdr t trop nul</td>\n",
              "      <td>[moi, mdr, t, trop, nul]</td>\n",
              "      <td>[moi, mdr, t, trop, nul]</td>\n",
              "      <td>[]</td>\n",
              "    </tr>\n",
              "    <tr>\n",
              "      <th>...</th>\n",
              "      <td>...</td>\n",
              "      <td>...</td>\n",
              "      <td>...</td>\n",
              "      <td>...</td>\n",
              "      <td>...</td>\n",
              "      <td>...</td>\n",
              "      <td>...</td>\n",
              "      <td>...</td>\n",
              "      <td>...</td>\n",
              "      <td>...</td>\n",
              "      <td>...</td>\n",
              "      <td>...</td>\n",
              "      <td>...</td>\n",
              "      <td>...</td>\n",
              "    </tr>\n",
              "    <tr>\n",
              "      <th>394580</th>\n",
              "      <td>Jonathan Voisin j adhère à 200%. Il est peut-ê...</td>\n",
              "      <td>Neutral</td>\n",
              "      <td>NONE</td>\n",
              "      <td>UNDEFINED</td>\n",
              "      <td>0</td>\n",
              "      <td>184</td>\n",
              "      <td>29</td>\n",
              "      <td>jonathan voisin j adhère à 200 il est peut êtr...</td>\n",
              "      <td>[]</td>\n",
              "      <td></td>\n",
              "      <td>jonathan voisin j adhère à 200 il est peut êtr...</td>\n",
              "      <td>[jonathan, voisin, j, adhère, à, 200, il, est,...</td>\n",
              "      <td>[jonathan, voisin, j, adhère, à, 200, il, est,...</td>\n",
              "      <td>[]</td>\n",
              "    </tr>\n",
              "    <tr>\n",
              "      <th>394582</th>\n",
              "      <td>@joubin.e @couroch @charvine.monjazi</td>\n",
              "      <td>Neutral</td>\n",
              "      <td>NONE</td>\n",
              "      <td>UNDEFINED</td>\n",
              "      <td>0</td>\n",
              "      <td>36</td>\n",
              "      <td>3</td>\n",
              "      <td>e monjazi</td>\n",
              "      <td>[]</td>\n",
              "      <td></td>\n",
              "      <td>e monjazi</td>\n",
              "      <td>[e, monjazi]</td>\n",
              "      <td>[e, monjazi]</td>\n",
              "      <td>[]</td>\n",
              "    </tr>\n",
              "    <tr>\n",
              "      <th>394588</th>\n",
              "      <td>@studiosushi @Chitori_Bocchi evangelionnnnnnnn...</td>\n",
              "      <td>Neutral</td>\n",
              "      <td>NONE</td>\n",
              "      <td>UNDEFINED</td>\n",
              "      <td>0</td>\n",
              "      <td>67</td>\n",
              "      <td>3</td>\n",
              "      <td>bocchi evangelionnnnnnnnnnnnnnnnnnnnnnnnnnnnn</td>\n",
              "      <td>[]</td>\n",
              "      <td></td>\n",
              "      <td>bocchi evangelionnnnnnnnnnnnnnnnnnnnnnnnnnnnn</td>\n",
              "      <td>[bocchi, evangelionnnnnnnnnnnnnnnnnnnnnnnnnnnnn]</td>\n",
              "      <td>[bocchi, evangelionnnnnnnnnnnnnnnnnnnnnnnnnnnnn]</td>\n",
              "      <td>[]</td>\n",
              "    </tr>\n",
              "    <tr>\n",
              "      <th>394589</th>\n",
              "      <td>J'ai kiffer les 2 Baby sitter c drôle et horri...</td>\n",
              "      <td>Neutral</td>\n",
              "      <td>NONE</td>\n",
              "      <td>UNDEFINED</td>\n",
              "      <td>0</td>\n",
              "      <td>144</td>\n",
              "      <td>28</td>\n",
              "      <td>j ai kiffer les 2 baby sitter c drôle et horri...</td>\n",
              "      <td>[]</td>\n",
              "      <td></td>\n",
              "      <td>j ai kiffer les 2 baby sitter c drôle et horri...</td>\n",
              "      <td>[j, ai, kiffer, les, 2, baby, sitter, c, drôle...</td>\n",
              "      <td>[j, ai, kiffer, les, 2, baby, sitter, c, drôle...</td>\n",
              "      <td>[]</td>\n",
              "    </tr>\n",
              "    <tr>\n",
              "      <th>394592</th>\n",
              "      <td>Bah oui 80% de la police france est pro RN ...</td>\n",
              "      <td>Neutral</td>\n",
              "      <td>NONE</td>\n",
              "      <td>UNDEFINED</td>\n",
              "      <td>0</td>\n",
              "      <td>46</td>\n",
              "      <td>11</td>\n",
              "      <td>bah oui 80 de la police france est pro rn</td>\n",
              "      <td>[]</td>\n",
              "      <td></td>\n",
              "      <td>bah oui 80 de la police france est pro rn</td>\n",
              "      <td>[bah, oui, 80, de, la, police, france, est, pr...</td>\n",
              "      <td>[bah, oui, 80, de, la, police, france, est, pr...</td>\n",
              "      <td>[]</td>\n",
              "    </tr>\n",
              "  </tbody>\n",
              "</table>\n",
              "<p>293983 rows × 14 columns</p>\n",
              "</div>"
            ],
            "text/plain": [
              "                                                 Sentence  ...                                        Emoji_token\n",
              "0                                            T pas Bo 😂😂🥃  ...  [visage, avec, des, larmes, de, joie, visage, ...\n",
              "1                                      t’es vilain 😂😂😂😂😂😂  ...  [visage, avec, des, larmes, de, joie, visage, ...\n",
              "2       Je te propose un d'île je m'abonne à ta chaine...  ...                                                 []\n",
              "3                                           T un kiko mdr  ...                                                 []\n",
              "4                                      Moi mdr t trop nul  ...                                                 []\n",
              "...                                                   ...  ...                                                ...\n",
              "394580  Jonathan Voisin j adhère à 200%. Il est peut-ê...  ...                                                 []\n",
              "394582               @joubin.e @couroch @charvine.monjazi  ...                                                 []\n",
              "394588  @studiosushi @Chitori_Bocchi evangelionnnnnnnn...  ...                                                 []\n",
              "394589  J'ai kiffer les 2 Baby sitter c drôle et horri...  ...                                                 []\n",
              "394592     Bah oui 80% de la police france est pro RN ...  ...                                                 []\n",
              "\n",
              "[293983 rows x 14 columns]"
            ]
          },
          "metadata": {
            "tags": []
          },
          "execution_count": 43
        }
      ]
    },
    {
      "cell_type": "code",
      "metadata": {
        "colab": {
          "base_uri": "https://localhost:8080/",
          "height": 371
        },
        "id": "0y6xZqjPdU8B",
        "outputId": "1c90a996-5ce9-427f-89d9-2723c6fd950c"
      },
      "source": [
        "plt.figure(figsize=(20,5))\r\n",
        "chart = sns.countplot(\"Level\", data=short_dataset)\r\n",
        "chart.set_xticklabels(chart.get_xticklabels(), rotation=45)\r\n",
        "plt.show()"
      ],
      "execution_count": 44,
      "outputs": [
        {
          "output_type": "display_data",
          "data": {
            "image/png": "[encoded data removed]",
            "text/plain": [
              "<Figure size 1440x360 with 1 Axes>"
            ]
          },
          "metadata": {
            "tags": [],
            "needs_background": "light"
          }
        }
      ]
    },
    {
      "cell_type": "code",
      "metadata": {
        "colab": {
          "base_uri": "https://localhost:8080/",
          "height": 201
        },
        "id": "8RlOkx_BWgJ1",
        "outputId": "18bbb7cc-2c18-4855-b25e-211ff724778c"
      },
      "source": [
        "simpleDataset = short_dataset[['cleanSentence', 'Level']].copy()\r\n",
        "simpleDataset.head()"
      ],
      "execution_count": 45,
      "outputs": [
        {
          "output_type": "execute_result",
          "data": {
            "text/html": [
              "<div>\n",
              "<style scoped>\n",
              "    .dataframe tbody tr th:only-of-type {\n",
              "        vertical-align: middle;\n",
              "    }\n",
              "\n",
              "    .dataframe tbody tr th {\n",
              "        vertical-align: top;\n",
              "    }\n",
              "\n",
              "    .dataframe thead th {\n",
              "        text-align: right;\n",
              "    }\n",
              "</style>\n",
              "<table border=\"1\" class=\"dataframe\">\n",
              "  <thead>\n",
              "    <tr style=\"text-align: right;\">\n",
              "      <th></th>\n",
              "      <th>cleanSentence</th>\n",
              "      <th>Level</th>\n",
              "    </tr>\n",
              "  </thead>\n",
              "  <tbody>\n",
              "    <tr>\n",
              "      <th>0</th>\n",
              "      <td>t pas bo</td>\n",
              "      <td>LOW</td>\n",
              "    </tr>\n",
              "    <tr>\n",
              "      <th>1</th>\n",
              "      <td>t es vilain</td>\n",
              "      <td>LOW</td>\n",
              "    </tr>\n",
              "    <tr>\n",
              "      <th>2</th>\n",
              "      <td>je te propose un d île je m abonne à ta chaine...</td>\n",
              "      <td>LOW</td>\n",
              "    </tr>\n",
              "    <tr>\n",
              "      <th>3</th>\n",
              "      <td>t un kiko mdr</td>\n",
              "      <td>LOW</td>\n",
              "    </tr>\n",
              "    <tr>\n",
              "      <th>4</th>\n",
              "      <td>moi mdr t trop nul</td>\n",
              "      <td>LOW</td>\n",
              "    </tr>\n",
              "  </tbody>\n",
              "</table>\n",
              "</div>"
            ],
            "text/plain": [
              "                                       cleanSentence Level\n",
              "0                                           t pas bo   LOW\n",
              "1                                        t es vilain   LOW\n",
              "2  je te propose un d île je m abonne à ta chaine...   LOW\n",
              "3                                      t un kiko mdr   LOW\n",
              "4                                 moi mdr t trop nul   LOW"
            ]
          },
          "metadata": {
            "tags": []
          },
          "execution_count": 45
        }
      ]
    },
    {
      "cell_type": "code",
      "metadata": {
        "colab": {
          "base_uri": "https://localhost:8080/"
        },
        "id": "9B6CLOJzevWb",
        "outputId": "a3bae2ad-a6fd-4650-dcc8-b7a755c13f29"
      },
      "source": [
        "simpleTrain, simpleTest = train_test_split(simpleDataset, test_size=0.2)\r\n",
        "print(simpleTrain.shape, simpleTest.shape)"
      ],
      "execution_count": 46,
      "outputs": [
        {
          "output_type": "stream",
          "text": [
            "(235186, 2) (58797, 2)\n"
          ],
          "name": "stdout"
        }
      ]
    },
    {
      "cell_type": "markdown",
      "metadata": {
        "id": "rrHkXM9KXCTh"
      },
      "source": [
        "### Creating final datasets"
      ]
    },
    {
      "cell_type": "code",
      "metadata": {
        "id": "EvB5JZg6wXJj"
      },
      "source": [
        "final_dataset = dataset.copy()"
      ],
      "execution_count": 47,
      "outputs": []
    },
    {
      "cell_type": "markdown",
      "metadata": {
        "id": "Gk1krgK0bKWL"
      },
      "source": [
        "#### Keras tokenization of Sentences"
      ]
    },
    {
      "cell_type": "code",
      "metadata": {
        "id": "ZTD8XfmAr315"
      },
      "source": [
        "#Tokenizing Text with Keras -> Representing each word by a number\r\n",
        "from tensorflow.keras.preprocessing.text import Tokenizer\r\n",
        "\r\n",
        "tokenizer = Tokenizer(lower=True)\r\n",
        "tokenizer.fit_on_texts(final_dataset[\"finalSentence\"])\r\n",
        "\r\n",
        "X_tok = tokenizer.texts_to_sequences(final_dataset[\"finalSentence\"])\r\n"
      ],
      "execution_count": 48,
      "outputs": []
    },
    {
      "cell_type": "code",
      "metadata": {
        "colab": {
          "base_uri": "https://localhost:8080/"
        },
        "id": "sKOba-1ZsD54",
        "outputId": "c0642007-9939-45d8-df4b-84b45dd75c9c"
      },
      "source": [
        "X_tok[0][:10]"
      ],
      "execution_count": 49,
      "outputs": [
        {
          "output_type": "execute_result",
          "data": {
            "text/plain": [
              "[29, 8, 5523]"
            ]
          },
          "metadata": {
            "tags": []
          },
          "execution_count": 49
        }
      ]
    },
    {
      "cell_type": "code",
      "metadata": {
        "colab": {
          "base_uri": "https://localhost:8080/"
        },
        "id": "4KkN9haIsIyS",
        "outputId": "a677e54c-4033-49ec-faa1-4b14c8bb0458"
      },
      "source": [
        "#Lets check few word to numerical representation\r\n",
        "#Mapping is preserved in dictionary -> word_index property of instance\r\n",
        "word_index = tokenizer.word_index\r\n",
        "for word, num in word_index.items():\r\n",
        "    print(\"{} -> {}\".format(word, num))\r\n",
        "    if num == 10:\r\n",
        "        break        "
      ],
      "execution_count": 50,
      "outputs": [
        {
          "output_type": "stream",
          "text": [
            "de -> 1\n",
            "est -> 2\n",
            "la -> 3\n",
            "et -> 4\n",
            "le -> 5\n",
            "les -> 6\n",
            "c -> 7\n",
            "pas -> 8\n",
            "que -> 9\n",
            "je -> 10\n"
          ],
          "name": "stdout"
        }
      ]
    },
    {
      "cell_type": "code",
      "metadata": {
        "colab": {
          "base_uri": "https://localhost:8080/",
          "height": 265
        },
        "id": "hydnGNf8voK6",
        "outputId": "37257c70-5b52-424d-bc6c-283106d4339b"
      },
      "source": [
        "# Making histogram for no of words in sentences shows that most news sentences are under 150 words.\r\n",
        "plt.hist([len(x) for x in X_tok], bins=500)\r\n",
        "plt.show()"
      ],
      "execution_count": 51,
      "outputs": [
        {
          "output_type": "display_data",
          "data": {
            "image/png": "[encoded data removed]",
            "text/plain": [
              "<Figure size 432x288 with 1 Axes>"
            ]
          },
          "metadata": {
            "tags": [],
            "needs_background": "light"
          }
        }
      ]
    },
    {
      "cell_type": "code",
      "metadata": {
        "id": "aE8C1Zy6vehv"
      },
      "source": [
        "#Lets keep all sentences to 150, add padding to news with less than 150 words and truncating long ones\r\n",
        "maxlen = 150 \r\n",
        "\r\n",
        "#Making all news of size maxlen defined above, padding with 0 when needed\r\n",
        "X_tok = pad_sequences(X_tok, maxlen=maxlen)"
      ],
      "execution_count": 52,
      "outputs": []
    },
    {
      "cell_type": "code",
      "metadata": {
        "id": "JM7s1fIevK9U"
      },
      "source": [
        "# Embedding Layer used in Keras creates one more vector for \"UNKNOWN\" words, or padded words (0s). This Vector is filled with zeros.\r\n",
        "# Thus our vocab size inceeases by 1\r\n",
        "vocab_size = len(tokenizer.word_index) + 1"
      ],
      "execution_count": 53,
      "outputs": []
    },
    {
      "cell_type": "markdown",
      "metadata": {
        "id": "CN3CAVcBbTjX"
      },
      "source": [
        "#### One-Hot vectors of Levels"
      ]
    },
    {
      "cell_type": "code",
      "metadata": {
        "colab": {
          "base_uri": "https://localhost:8080/"
        },
        "id": "5kw6-vlUxZEJ",
        "outputId": "ecc53905-e1fa-46ef-edf5-023ccf6f3934"
      },
      "source": [
        "#Encoding labels as one-hot vectors\r\n",
        "y = final_dataset[\"Level\"]\r\n",
        "\r\n",
        "# encode class values as integers\r\n",
        "encoder = LabelEncoder()\r\n",
        "encoder.fit(y)\r\n",
        "encoded_y = encoder.transform(y)\r\n",
        "print(y)"
      ],
      "execution_count": 54,
      "outputs": [
        {
          "output_type": "stream",
          "text": [
            "0          LOW\n",
            "1          LOW\n",
            "2          LOW\n",
            "3          LOW\n",
            "4          LOW\n",
            "          ... \n",
            "394588    NONE\n",
            "394589    NONE\n",
            "394590    NONE\n",
            "394591    NONE\n",
            "394592    NONE\n",
            "Name: Level, Length: 394592, dtype: object\n"
          ],
          "name": "stdout"
        }
      ]
    },
    {
      "cell_type": "code",
      "metadata": {
        "colab": {
          "base_uri": "https://localhost:8080/"
        },
        "id": "SODKAAZoY1qF",
        "outputId": "4006e966-e153-4dfa-c53b-df35d3f94928"
      },
      "source": [
        "labels_mapping = dict(zip(encoder.classes_,encoder.transform(encoder.classes_)))\r\n",
        "labels_mapping"
      ],
      "execution_count": 55,
      "outputs": [
        {
          "output_type": "execute_result",
          "data": {
            "text/plain": [
              "{'HIGH': 0, 'LOW': 1, 'MEDIUM': 2, 'NONE': 3, 'VERY_HIGH': 4}"
            ]
          },
          "metadata": {
            "tags": []
          },
          "execution_count": 55
        }
      ]
    },
    {
      "cell_type": "code",
      "metadata": {
        "id": "Cqi0ddr1rGTb"
      },
      "source": [
        "# convert integers to dummy variables (i.e. one hot encoded)\r\n",
        "onehot_y = np_utils.to_categorical(encoded_y)"
      ],
      "execution_count": 56,
      "outputs": []
    },
    {
      "cell_type": "markdown",
      "metadata": {
        "id": "C3RYYSSXbYzc"
      },
      "source": [
        "#### One-Hot vectors of Targets"
      ]
    },
    {
      "cell_type": "code",
      "metadata": {
        "id": "9nI7XX-MTgWQ",
        "colab": {
          "base_uri": "https://localhost:8080/"
        },
        "outputId": "f58c04f8-0ae8-48ee-c107-f0dde594968f"
      },
      "source": [
        "#Encoding targets as one-hot vectors\r\n",
        "targets = final_dataset[\"Target\"]\r\n",
        "encoder = LabelEncoder()\r\n",
        "encoder.fit(targets)\r\n",
        "encoded_targets = encoder.transform(targets)\r\n",
        "print(targets)"
      ],
      "execution_count": 57,
      "outputs": [
        {
          "output_type": "stream",
          "text": [
            "0              USER\n",
            "1              USER\n",
            "2              USER\n",
            "3              USER\n",
            "4              USER\n",
            "            ...    \n",
            "394588    UNDEFINED\n",
            "394589    UNDEFINED\n",
            "394590    UNDEFINED\n",
            "394591    UNDEFINED\n",
            "394592    UNDEFINED\n",
            "Name: Target, Length: 394592, dtype: object\n"
          ],
          "name": "stdout"
        }
      ]
    },
    {
      "cell_type": "code",
      "metadata": {
        "colab": {
          "base_uri": "https://localhost:8080/"
        },
        "id": "T3j2VD1TW-Nn",
        "outputId": "60f1f369-e958-4fb9-f9ca-dff42274837e"
      },
      "source": [
        "onehot_targets = np_utils.to_categorical(encoded_targets)\r\n",
        "onehot_targets"
      ],
      "execution_count": 58,
      "outputs": [
        {
          "output_type": "execute_result",
          "data": {
            "text/plain": [
              "array([[0., 0., 0., ..., 0., 1., 0.],\n",
              "       [0., 0., 0., ..., 0., 1., 0.],\n",
              "       [0., 0., 0., ..., 0., 1., 0.],\n",
              "       ...,\n",
              "       [0., 0., 0., ..., 1., 0., 0.],\n",
              "       [0., 0., 0., ..., 1., 0., 0.],\n",
              "       [0., 0., 0., ..., 1., 0., 0.]], dtype=float32)"
            ]
          },
          "metadata": {
            "tags": []
          },
          "execution_count": 58
        }
      ]
    },
    {
      "cell_type": "code",
      "metadata": {
        "colab": {
          "base_uri": "https://localhost:8080/"
        },
        "id": "ienX9JUnXN-w",
        "outputId": "e5ce3c4d-b667-4dc8-f313-7b1d900175a5"
      },
      "source": [
        "targets_mapping = dict(zip(encoder.classes_,encoder.transform(encoder.classes_)))\r\n",
        "targets_mapping"
      ],
      "execution_count": 59,
      "outputs": [
        {
          "output_type": "execute_result",
          "data": {
            "text/plain": [
              "{'AUTHOR_OF_COMMENT': 0,\n",
              " 'EVERYONE': 1,\n",
              " 'GROUP': 2,\n",
              " 'SINGLE_PERSON': 3,\n",
              " 'UNDEFINED': 4,\n",
              " 'USER': 5,\n",
              " 'USER_FAMILY': 6}"
            ]
          },
          "metadata": {
            "tags": []
          },
          "execution_count": 59
        }
      ]
    },
    {
      "cell_type": "markdown",
      "metadata": {
        "id": "AN-n9syDbamP"
      },
      "source": [
        "#### Keras tokenization of Emojis"
      ]
    },
    {
      "cell_type": "code",
      "metadata": {
        "id": "WdUgIOvXZ0xv"
      },
      "source": [
        "#Tokenizing EmojisToText with Keras -> Representing each word by a number\r\n",
        "from tensorflow.keras.preprocessing.text import Tokenizer\r\n",
        "\r\n",
        "tokenizer_emojis = Tokenizer(lower=True)\r\n",
        "tokenizer_emojis.fit_on_texts(final_dataset[\"Emoji_token\"])\r\n",
        "\r\n",
        "E_tok = tokenizer_emojis.texts_to_sequences(final_dataset[\"Emoji_token\"])\r\n"
      ],
      "execution_count": 60,
      "outputs": []
    },
    {
      "cell_type": "code",
      "metadata": {
        "colab": {
          "base_uri": "https://localhost:8080/"
        },
        "id": "Q2V2lMR4aHUJ",
        "outputId": "f6dcbd0c-5690-4c97-e2cc-f80656580465"
      },
      "source": [
        "#Lets check few word to numerical representation\r\n",
        "#Mapping is preserved in dictionary -> word_index property of instance\r\n",
        "emoji_index = tokenizer_emojis.word_index\r\n",
        "for word, num in emoji_index.items():\r\n",
        "    print(\"{} -> {}\".format(word, num))\r\n",
        "    if num == 10:\r\n",
        "        break        "
      ],
      "execution_count": 61,
      "outputs": [
        {
          "output_type": "stream",
          "text": [
            "visage -> 1\n",
            "de -> 2\n",
            "peau -> 3\n",
            "avec -> 4\n",
            "foncée -> 5\n",
            "des -> 6\n",
            "larmes -> 7\n",
            "joie -> 8\n",
            "en -> 9\n",
            "majeur -> 10\n"
          ],
          "name": "stdout"
        }
      ]
    },
    {
      "cell_type": "code",
      "metadata": {
        "colab": {
          "base_uri": "https://localhost:8080/"
        },
        "id": "7RSDAW4ldKwS",
        "outputId": "487af417-cf6b-4026-8f32-c41ca0fc5c45"
      },
      "source": [
        "print(np.average([len(x) for x in E_tok]))"
      ],
      "execution_count": 62,
      "outputs": [
        {
          "output_type": "stream",
          "text": [
            "2.2027841415943556\n"
          ],
          "name": "stdout"
        }
      ]
    },
    {
      "cell_type": "code",
      "metadata": {
        "id": "puh7u1_HbnuN"
      },
      "source": [
        "#Lets keep all emoji description to 50, add padding to short ones and truncating long ones\r\n",
        "maxlen_emoji = 50\r\n",
        "\r\n",
        "#Making all news of size maxlen defined above, padding with 0 when needed\r\n",
        "E_tok = pad_sequences(E_tok, maxlen=maxlen_emoji)"
      ],
      "execution_count": 63,
      "outputs": []
    },
    {
      "cell_type": "code",
      "metadata": {
        "id": "1G6DJPSAbnuO"
      },
      "source": [
        "# Embedding Layer used in Keras creates one more vector for \"UNKNOWN\" words, or padded words (0s). This Vector is filled with zeros.\r\n",
        "# Thus our vocab size increases by 1\r\n",
        "emo_vocab_size = len(tokenizer_emojis.word_index) + 1"
      ],
      "execution_count": 64,
      "outputs": []
    },
    {
      "cell_type": "markdown",
      "metadata": {
        "id": "C3-Rfm8BbhHp"
      },
      "source": [
        "#### Dataset split"
      ]
    },
    {
      "cell_type": "code",
      "metadata": {
        "id": "Kp6g2CJGwVPh"
      },
      "source": [
        "#Creating input and output sets\r\n",
        "X_train_tok, X_test_tok, E_train_tok, E_test_tok, X_train_targets, X_test_targets, y_train_tok, y_test_tok = train_test_split(X_tok, E_tok, onehot_targets, onehot_y, test_size = 0.2) "
      ],
      "execution_count": 65,
      "outputs": []
    },
    {
      "cell_type": "markdown",
      "metadata": {
        "id": "ozaKwx_Mg1QT"
      },
      "source": [
        "# Vectorization"
      ]
    },
    {
      "cell_type": "code",
      "metadata": {
        "id": "BKsA4Y1SIadq"
      },
      "source": [
        "EMBEDDING_DIM = 200"
      ],
      "execution_count": 67,
      "outputs": []
    },
    {
      "cell_type": "code",
      "metadata": {
        "id": "HmQ5fwfZrTm4"
      },
      "source": [
        "# Function to create weight matrix between word-index and vectors from gensim models\r\n",
        "def get_weight_matrix(model, vocab):\r\n",
        "    # total vocabulary size plus 0 for unknown words\r\n",
        "    vocab_size = len(vocab) + 1\r\n",
        "    # define weight matrix dimensions with all 0\r\n",
        "    weight_matrix = np.zeros((vocab_size, EMBEDDING_DIM))\r\n",
        "    # step vocab, store vectors using the Tokenizer's integer mapping\r\n",
        "    for word, i in vocab.items():\r\n",
        "        try: \r\n",
        "          weight_matrix[i] = model[word]\r\n",
        "        except:\r\n",
        "          pass\r\n",
        "    return weight_matrix"
      ],
      "execution_count": 68,
      "outputs": []
    },
    {
      "cell_type": "markdown",
      "metadata": {
        "id": "2Z4YMuBiptx8"
      },
      "source": [
        "### Via Word2Vec"
      ]
    },
    {
      "cell_type": "code",
      "metadata": {
        "id": "dY54k6TXpzW0"
      },
      "source": [
        "w2v_model = gensim.models.Word2Vec(sentences=final_dataset[\"finalSentence\"], size=EMBEDDING_DIM, window=5, min_count=5)"
      ],
      "execution_count": 69,
      "outputs": []
    },
    {
      "cell_type": "code",
      "metadata": {
        "colab": {
          "base_uri": "https://localhost:8080/"
        },
        "id": "DkCvkXjpqmVi",
        "outputId": "ef9ded4e-bb18-4aa1-881a-316044e32b96"
      },
      "source": [
        "len(w2v_model.wv.vocab)"
      ],
      "execution_count": 70,
      "outputs": [
        {
          "output_type": "execute_result",
          "data": {
            "text/plain": [
              "36605"
            ]
          },
          "metadata": {
            "tags": []
          },
          "execution_count": 70
        }
      ]
    },
    {
      "cell_type": "code",
      "metadata": {
        "colab": {
          "base_uri": "https://localhost:8080/"
        },
        "id": "4xNMpfpQquyt",
        "outputId": "97341f02-083d-4376-c2ab-6f1bdbf05bd2"
      },
      "source": [
        "w2v_model[\"merde\"]"
      ],
      "execution_count": 71,
      "outputs": [
        {
          "output_type": "execute_result",
          "data": {
            "text/plain": [
              "array([ 4.54314351e-01, -6.55495107e-01, -2.14616680e+00, -8.63883942e-02,\n",
              "       -5.14222860e-01,  5.43109179e-01, -1.32509100e+00,  1.43407285e+00,\n",
              "        2.76250243e+00, -1.41179919e+00, -1.71418118e+00, -1.87964725e+00,\n",
              "       -4.60953534e-01,  1.62372172e+00, -2.13082886e+00, -2.28883362e+00,\n",
              "       -7.08908617e-01, -4.88426954e-01, -1.46807849e-01, -1.69804978e+00,\n",
              "       -2.60996890e+00,  2.49873948e+00,  5.58276415e-01, -4.81116891e-01,\n",
              "       -7.36172020e-01,  3.66644055e-01,  1.96690047e+00,  9.40125525e-01,\n",
              "       -5.74106038e-01,  7.45881557e-01,  1.35631108e+00,  1.29836440e+00,\n",
              "       -2.23633671e+00, -1.54502237e+00, -1.07298410e+00, -8.80668163e-01,\n",
              "        5.67192435e-01, -1.01818192e+00,  3.81127685e-01,  1.35338172e-01,\n",
              "        2.22252631e+00,  1.20949650e+00,  2.86580920e+00, -5.06678045e-01,\n",
              "       -4.96286482e-01,  1.41466117e+00, -1.91332340e+00,  2.53070641e+00,\n",
              "        1.12520326e-02, -9.26337123e-01, -1.27559459e+00, -1.23583138e-01,\n",
              "       -8.16648081e-03,  8.86781991e-01,  8.84486020e-01, -1.54571676e+00,\n",
              "       -2.61203926e-02, -3.49668574e+00, -6.21277869e-01,  3.24630308e+00,\n",
              "       -1.07609892e+00,  2.65056461e-01, -5.44498742e-01, -1.57169387e-01,\n",
              "        2.38839912e+00,  1.40140986e+00,  1.39280605e+00,  3.34506941e+00,\n",
              "       -2.19633555e+00,  5.95081449e-01,  1.57265079e+00,  1.12651065e-02,\n",
              "        7.36215055e-01, -2.04512432e-01,  1.79516041e+00,  3.21815699e-01,\n",
              "       -4.89744604e-01,  2.97624260e-01, -1.20866656e+00, -8.67142975e-01,\n",
              "       -1.52683151e+00, -6.98526919e-01,  1.03443933e+00, -2.08784246e+00,\n",
              "        2.99920559e-01,  6.27009690e-01, -4.49826151e-01,  3.11323673e-01,\n",
              "        8.71751189e-01,  1.22166491e+00,  8.61682653e-01, -1.69046354e+00,\n",
              "       -4.90764809e+00, -8.26262593e-01,  2.13431311e+00,  9.86063421e-01,\n",
              "       -2.48793617e-01,  8.75539705e-02, -3.40631045e-02,  8.04321527e-01,\n",
              "       -1.53053641e+00,  1.05362952e+00, -2.58440542e+00, -1.08642924e+00,\n",
              "       -1.79084408e+00,  8.20708036e-01, -4.48530316e-01,  1.98100460e+00,\n",
              "       -7.29830444e-01,  8.26848984e-01, -1.80105937e+00, -3.87925446e-01,\n",
              "        1.59498721e-01, -3.15615624e-01,  2.02422366e-01,  7.86381841e-01,\n",
              "       -1.38398027e+00,  6.08407497e-01,  1.45906961e+00,  2.28287101e+00,\n",
              "       -7.26252422e-02,  1.60304284e+00, -9.26134512e-02,  4.71206456e-01,\n",
              "       -1.15636683e+00, -2.60714078e+00,  1.35614602e-02,  1.61141872e+00,\n",
              "       -1.12020254e+00,  3.83533835e-01,  7.52116978e-01,  1.48571765e+00,\n",
              "        3.90748382e-01, -3.04347783e-01, -5.60945630e-01, -6.32602990e-01,\n",
              "       -1.49122667e+00, -5.81862807e-01,  1.65740108e+00, -3.01091760e-01,\n",
              "        9.26079631e-01, -9.18562412e-02, -4.33823727e-02, -4.66664410e+00,\n",
              "       -2.95164776e+00,  1.38083160e-01, -1.05488254e-03,  1.63991249e+00,\n",
              "        3.79195899e-01,  2.13046122e+00, -9.37184572e-01,  1.63409972e+00,\n",
              "       -6.79253697e-01, -1.33801281e+00,  5.77184439e-01,  4.60915148e-01,\n",
              "       -3.31580925e+00, -8.98620486e-01, -2.05187440e+00,  1.92973793e-01,\n",
              "       -7.90612996e-01, -4.10773993e+00, -1.72706842e+00,  1.68991953e-01,\n",
              "       -1.47204220e+00,  1.20178151e+00,  1.97706783e+00,  3.10638094e+00,\n",
              "       -3.66259962e-01,  1.11465561e+00,  1.10699439e+00, -1.13245022e+00,\n",
              "       -2.01467180e+00, -6.21606767e-01,  1.04139388e+00,  2.07238436e-01,\n",
              "        8.13932180e-01, -2.28511167e+00,  2.87433839e+00,  7.87640035e-01,\n",
              "       -2.80627942e+00,  1.34179366e+00,  2.64285898e+00,  3.47184181e+00,\n",
              "       -2.61094356e+00, -9.30902004e-01, -6.70795262e-01, -8.90539348e-01,\n",
              "       -9.03025568e-01,  9.97231901e-01,  6.74885511e-02,  1.80455893e-01,\n",
              "        2.80585498e-01,  2.11802840e+00,  2.29556584e+00, -9.42050278e-01,\n",
              "        3.63039494e-01,  9.94265616e-01, -1.89043069e+00, -2.41191760e-01],\n",
              "      dtype=float32)"
            ]
          },
          "metadata": {
            "tags": []
          },
          "execution_count": 71
        }
      ]
    },
    {
      "cell_type": "code",
      "metadata": {
        "colab": {
          "base_uri": "https://localhost:8080/"
        },
        "id": "rDanO3mLahyh",
        "outputId": "016bf01d-5f86-4208-c73a-4e0503b87ca0"
      },
      "source": [
        "print(w2v_model.wv.most_similar(\"merde\"))"
      ],
      "execution_count": 72,
      "outputs": [
        {
          "output_type": "stream",
          "text": [
            "[('merdes', 0.5297344326972961), ('mrd', 0.5233646631240845), ('daube', 0.5139273405075073), ('merd', 0.47689980268478394), ('vermine', 0.46822088956832886), ('m3rde', 0.4483484625816345), ('racaille', 0.4362613558769226), ('marde', 0.4312554895877838), ('bouse', 0.43121570348739624), ('faute', 0.41152966022491455)]\n"
          ],
          "name": "stdout"
        }
      ]
    },
    {
      "cell_type": "code",
      "metadata": {
        "id": "JzgJF6ZNrOeu"
      },
      "source": [
        "w2v_embedding_vectors = get_weight_matrix(w2v_model, word_index)"
      ],
      "execution_count": 73,
      "outputs": []
    },
    {
      "cell_type": "code",
      "metadata": {
        "id": "ipuR-Y_YZnBR"
      },
      "source": [
        "w2v_emojis = gensim.models.Word2Vec(sentences=final_dataset[\"Emoji_token\"], size=EMBEDDING_DIM, window=5, min_count=5)"
      ],
      "execution_count": 74,
      "outputs": []
    },
    {
      "cell_type": "code",
      "metadata": {
        "colab": {
          "base_uri": "https://localhost:8080/"
        },
        "id": "ieHQ0iRwecFj",
        "outputId": "f590684c-a4cc-40df-cb8b-6ea8bb1f5424"
      },
      "source": [
        "len(w2v_emojis.wv.vocab)"
      ],
      "execution_count": 75,
      "outputs": [
        {
          "output_type": "execute_result",
          "data": {
            "text/plain": [
              "834"
            ]
          },
          "metadata": {
            "tags": []
          },
          "execution_count": 75
        }
      ]
    },
    {
      "cell_type": "code",
      "metadata": {
        "id": "p2dVyNAQee69"
      },
      "source": [
        "w2v_emoji_embedding_vectors = get_weight_matrix(w2v_emojis, emoji_index)"
      ],
      "execution_count": 76,
      "outputs": []
    },
    {
      "cell_type": "markdown",
      "metadata": {
        "id": "piZ9OkN2H7bX"
      },
      "source": [
        "### Via FastText (Gensim)"
      ]
    },
    {
      "cell_type": "code",
      "metadata": {
        "id": "Ej1ryePRH6hc"
      },
      "source": [
        "fasttext_model = gensim.models.FastText(sentences=final_dataset[\"finalSentence\"], size=EMBEDDING_DIM, window=5, min_count=5)"
      ],
      "execution_count": 53,
      "outputs": []
    },
    {
      "cell_type": "code",
      "metadata": {
        "colab": {
          "base_uri": "https://localhost:8080/"
        },
        "id": "GGCKRGZLI_8y",
        "outputId": "c4867d64-ba6f-4014-95cd-c189aae193ea"
      },
      "source": [
        "len(fasttext_model.wv.vocab)"
      ],
      "execution_count": 54,
      "outputs": [
        {
          "output_type": "execute_result",
          "data": {
            "text/plain": [
              "36605"
            ]
          },
          "metadata": {
            "tags": []
          },
          "execution_count": 54
        }
      ]
    },
    {
      "cell_type": "code",
      "metadata": {
        "colab": {
          "base_uri": "https://localhost:8080/"
        },
        "id": "UFVfRDOpKjT7",
        "outputId": "ce36980d-9405-4408-fad0-c21f3cbdcaf9"
      },
      "source": [
        "fasttext_model.wv[\"merde\"]"
      ],
      "execution_count": 55,
      "outputs": [
        {
          "output_type": "execute_result",
          "data": {
            "text/plain": [
              "array([ 1.1284579 ,  0.6026093 ,  0.55194414, -1.4858775 , -1.8394794 ,\n",
              "       -3.0810142 , -0.940217  , -1.6027595 , -1.5497886 , -0.85429865,\n",
              "       -0.6348115 , -1.8178934 ,  2.1839948 , -1.6538231 , -0.85423   ,\n",
              "       -1.5764794 ,  1.4149851 ,  1.0057323 , -0.36474034,  0.29080233,\n",
              "       -0.21080719, -0.17950217, -0.45694226,  1.8594996 , -2.1465688 ,\n",
              "        0.2735612 ,  0.3968396 , -0.62402505, -0.9700226 , -1.2724721 ,\n",
              "        1.8486054 ,  0.15272905,  0.54489774, -0.37184393,  0.6777381 ,\n",
              "        2.389091  , -0.8056522 ,  0.8209127 ,  0.25181684, -1.0788106 ,\n",
              "        0.50884855, -1.0748245 , -1.5625927 ,  2.1265693 ,  0.769541  ,\n",
              "        2.002416  ,  0.7465693 ,  0.2287906 ,  0.11381675,  0.21265097,\n",
              "       -1.9339    , -0.12194537, -0.7238728 , -2.128207  , -1.4337852 ,\n",
              "       -1.9397132 , -2.0834067 , -1.2747929 , -1.898521  ,  0.45629272,\n",
              "       -1.0381802 ,  1.0910054 , -2.6330535 ,  1.1270115 ,  2.9112854 ,\n",
              "       -0.17099997,  1.5804169 , -1.9675343 , -0.30740622, -3.9469461 ,\n",
              "        1.8320427 , -2.846405  ,  0.66749877,  0.6414539 , -1.5920634 ,\n",
              "        0.1933288 ,  1.693085  ,  0.871396  ,  0.5151297 ,  2.6988835 ,\n",
              "        1.5160756 , -1.3373349 , -0.994022  ,  1.3093051 ,  2.6754892 ,\n",
              "       -1.222581  ,  0.7236006 ,  0.2511951 ,  0.08793838,  2.253535  ,\n",
              "        1.7085046 , -3.0825906 , -0.5640991 ,  1.0897698 ,  4.236094  ,\n",
              "       -0.9549447 , -1.8628849 ,  3.489036  ,  0.29263046, -0.45586866,\n",
              "       -1.0085841 ,  2.1303613 , -0.96835095,  1.06196   , -2.1253734 ,\n",
              "       -0.8048417 ,  0.5508288 ,  1.9439946 , -2.035199  ,  1.2499338 ,\n",
              "        0.39856404, -0.9310709 ,  0.7589251 , -0.35314462, -0.67770886,\n",
              "       -0.13210833,  0.16502741, -2.8785434 ,  0.362937  ,  2.4585118 ,\n",
              "       -3.1734555 ,  0.72105986,  2.6460733 , -0.80496216,  2.0252328 ,\n",
              "       -0.11809396,  2.488435  ,  0.26036966,  4.461234  , -1.6578193 ,\n",
              "        2.2480364 ,  0.13173112,  1.329245  , -0.47827533,  2.31198   ,\n",
              "       -1.1691173 ,  0.89805055,  2.105921  , -2.4248064 , -0.08589764,\n",
              "        0.6520202 ,  0.07982782, -0.19201966, -0.63405836, -0.27411616,\n",
              "        2.0166383 ,  2.1024978 , -1.0536556 , -0.4101936 ,  0.35675007,\n",
              "        1.4448876 , -0.3421734 ,  0.7620745 ,  2.1236482 , -1.1501976 ,\n",
              "       -0.62548023, -1.2168171 , -1.9953284 , -0.90848327,  1.4541003 ,\n",
              "        1.62694   ,  0.9562122 ,  0.10513929,  1.0631807 ,  0.7266306 ,\n",
              "       -1.5446907 , -2.9609864 ,  0.94310606,  0.66552734,  0.23235293,\n",
              "       -0.6104289 ,  1.7677929 ,  0.61962277,  1.5615029 ,  2.8517573 ,\n",
              "       -0.99401325, -2.9234648 ,  1.4639516 , -0.07244381, -0.75191027,\n",
              "       -1.5630735 , -1.5566403 , -0.37653166, -1.7016124 , -0.42375055,\n",
              "       -1.6204827 ,  0.17889862, -1.6114802 , -0.9557336 ,  1.195308  ,\n",
              "       -0.7618269 ,  2.3008146 , -0.10178146,  1.611692  ,  1.1187599 ,\n",
              "        3.5563264 , -1.7887752 ,  3.748937  ,  0.52590406,  0.97113955],\n",
              "      dtype=float32)"
            ]
          },
          "metadata": {
            "tags": []
          },
          "execution_count": 55
        }
      ]
    },
    {
      "cell_type": "code",
      "metadata": {
        "id": "QMZ8oX-dYz2_",
        "colab": {
          "base_uri": "https://localhost:8080/"
        },
        "outputId": "8a5db176-4071-40b0-854a-312534c387cc"
      },
      "source": [
        "print(fasttext_model.wv.most_similar(\"merde\"))"
      ],
      "execution_count": 56,
      "outputs": [
        {
          "output_type": "stream",
          "text": [
            "[('merdebfmmerde', 0.9710953235626221), ('dmerde', 0.9606221318244934), ('merdeee', 0.9603695273399353), ('bfmerde', 0.9471138715744019), ('merdeu', 0.9379007816314697), ('merdeeee', 0.9377528429031372), ('emerde', 0.9298129677772522), ('merddd', 0.9261928796768188), ('merd', 0.9223754405975342), ('démerde', 0.9182571172714233)]\n"
          ],
          "name": "stdout"
        }
      ]
    },
    {
      "cell_type": "code",
      "metadata": {
        "id": "wHwEi-UOOT32"
      },
      "source": [
        "ft_embedding_vectors = get_weight_matrix(fasttext_model, word_index)"
      ],
      "execution_count": 57,
      "outputs": []
    },
    {
      "cell_type": "markdown",
      "metadata": {
        "id": "WW3thk7ZhJCN"
      },
      "source": [
        "### Via FastText Pretrained vectors"
      ]
    },
    {
      "cell_type": "code",
      "metadata": {
        "id": "3fMZr6WlIbcI",
        "colab": {
          "base_uri": "https://localhost:8080/"
        },
        "outputId": "82e5d2e0-48e5-47b9-8f09-8e8dcf515ba2"
      },
      "source": [
        "!pip install fasttext\r\n",
        "\r\n",
        "#Recommended alternative, since few modules are missing in the PyPi package:\r\n",
        "#!pip uninstall fasttext\r\n",
        "#!git clone https://github.com/facebookresearch/fastText.git\r\n",
        "#!cd fastText\r\n",
        "#!pip install ."
      ],
      "execution_count": 68,
      "outputs": [
        {
          "output_type": "stream",
          "text": [
            "Collecting fasttext\n",
            "\u001b[?25l  Downloading https://files.pythonhosted.org/packages/f8/85/e2b368ab6d3528827b147fdb814f8189acc981a4bc2f99ab894650e05c40/fasttext-0.9.2.tar.gz (68kB)\n",
            "\r\u001b[K     |████▊                           | 10kB 14.9MB/s eta 0:00:01\r\u001b[K     |█████████▌                      | 20kB 13.5MB/s eta 0:00:01\r\u001b[K     |██████████████▎                 | 30kB 12.5MB/s eta 0:00:01\r\u001b[K     |███████████████████             | 40kB 11.9MB/s eta 0:00:01\r\u001b[K     |███████████████████████▉        | 51kB 7.8MB/s eta 0:00:01\r\u001b[K     |████████████████████████████▋   | 61kB 8.5MB/s eta 0:00:01\r\u001b[K     |████████████████████████████████| 71kB 5.0MB/s \n",
            "\u001b[?25hRequirement already satisfied: pybind11>=2.2 in /usr/local/lib/python3.7/dist-packages (from fasttext) (2.6.2)\n",
            "Requirement already satisfied: setuptools>=0.7.0 in /usr/local/lib/python3.7/dist-packages (from fasttext) (53.0.0)\n",
            "Requirement already satisfied: numpy in /usr/local/lib/python3.7/dist-packages (from fasttext) (1.19.5)\n",
            "Building wheels for collected packages: fasttext\n",
            "  Building wheel for fasttext (setup.py) ... \u001b[?25l\u001b[?25hdone\n",
            "  Created wheel for fasttext: filename=fasttext-0.9.2-cp37-cp37m-linux_x86_64.whl size=3094870 sha256=382d9c3c620812490e28612c61ebea8939f9cf1af438a67b542e516239f1ff21\n",
            "  Stored in directory: /root/.cache/pip/wheels/98/ba/7f/b154944a1cf5a8cee91c154b75231136cc3a3321ab0e30f592\n",
            "Successfully built fasttext\n",
            "Installing collected packages: fasttext\n",
            "Successfully installed fasttext-0.9.2\n"
          ],
          "name": "stdout"
        }
      ]
    },
    {
      "cell_type": "code",
      "metadata": {
        "id": "T4XWOOWkJFvt",
        "colab": {
          "base_uri": "https://localhost:8080/"
        },
        "outputId": "365c0be3-6582-4404-a29a-a9bb0c8d67bf"
      },
      "source": [
        "import fasttext.util\r\n",
        "fasttext.util.download_model('fr', if_exists='ignore')\r\n",
        "ft_pre_model = fasttext.load_model('cc.fr.300.bin')"
      ],
      "execution_count": 69,
      "outputs": [
        {
          "output_type": "stream",
          "text": [
            "Downloading https://dl.fbaipublicfiles.com/fasttext/vectors-crawl/cc.fr.300.bin.gz\n"
          ],
          "name": "stdout"
        },
        {
          "output_type": "stream",
          "text": [
            "Warning : `load_model` does not return WordVectorModel or SupervisedModel any more, but a `FastText` object which is very similar.\n"
          ],
          "name": "stderr"
        }
      ]
    },
    {
      "cell_type": "code",
      "metadata": {
        "id": "iiFQEqChI7Fu",
        "colab": {
          "base_uri": "https://localhost:8080/"
        },
        "outputId": "f7a91a54-b544-4530-9d38-2f5e859c139c"
      },
      "source": [
        "ft_pre_model.get_dimension()"
      ],
      "execution_count": 70,
      "outputs": [
        {
          "output_type": "execute_result",
          "data": {
            "text/plain": [
              "300"
            ]
          },
          "metadata": {
            "tags": []
          },
          "execution_count": 70
        }
      ]
    },
    {
      "cell_type": "code",
      "metadata": {
        "colab": {
          "base_uri": "https://localhost:8080/",
          "height": 175
        },
        "id": "D8wfJR2wcctE",
        "outputId": "ebc0777a-bbc3-41f9-9acb-c963d47f8f23"
      },
      "source": [
        "ft_pre_model.get_nearest_neighbors('merde')"
      ],
      "execution_count": 1,
      "outputs": [
        {
          "output_type": "error",
          "ename": "NameError",
          "evalue": "ignored",
          "traceback": [
            "\u001b[0;31m---------------------------------------------------------------------------\u001b[0m",
            "\u001b[0;31mNameError\u001b[0m                                 Traceback (most recent call last)",
            "\u001b[0;32m<ipython-input-1-d2275df3e1af>\u001b[0m in \u001b[0;36m<module>\u001b[0;34m()\u001b[0m\n\u001b[0;32m----> 1\u001b[0;31m \u001b[0mft\u001b[0m\u001b[0;34m.\u001b[0m\u001b[0mget_nearest_neighbors\u001b[0m\u001b[0;34m(\u001b[0m\u001b[0;34m'merde'\u001b[0m\u001b[0;34m)\u001b[0m\u001b[0;34m\u001b[0m\u001b[0;34m\u001b[0m\u001b[0m\n\u001b[0m",
            "\u001b[0;31mNameError\u001b[0m: name 'ft' is not defined"
          ]
        }
      ]
    },
    {
      "cell_type": "code",
      "metadata": {
        "id": "_vmCmZfHI9lR"
      },
      "source": [
        "#Optional - reduce vectors dimensions\r\n",
        "fasttext.util.reduce_model(ft_pre_model, 200)\r\n",
        "ft_pre_model.get_dimension()"
      ],
      "execution_count": null,
      "outputs": []
    },
    {
      "cell_type": "code",
      "metadata": {
        "id": "xwveHK0ycwAY"
      },
      "source": [
        "ft_pre_embedding_vectors = get_weight_matrix(ft_pre_model, word_index)"
      ],
      "execution_count": null,
      "outputs": []
    },
    {
      "cell_type": "markdown",
      "metadata": {
        "id": "jEOaK143g2l8"
      },
      "source": [
        "# Modelization"
      ]
    },
    {
      "cell_type": "markdown",
      "metadata": {
        "id": "t3FH6JWZ94-o"
      },
      "source": [
        "## Baseline - Prediction based on sentence only"
      ]
    },
    {
      "cell_type": "markdown",
      "metadata": {
        "id": "lg78VPsFFfEG"
      },
      "source": [
        "### Via FastText"
      ]
    },
    {
      "cell_type": "code",
      "metadata": {
        "id": "uT7XWKfHM7_C"
      },
      "source": [
        "import fasttext"
      ],
      "execution_count": null,
      "outputs": []
    },
    {
      "cell_type": "code",
      "metadata": {
        "id": "GEPUoOQnRYuN"
      },
      "source": [
        "#Data preparation for fasttext format\r\n",
        "\r\n",
        "X_train_ft, X_test_ft, y_train_fr, y_test_ft = train_test_split(dataset['cleanSentence'],  dataset['Level'], test_size = 0.2)\r\n",
        "\r\n",
        "label_mapping = {'NONE': '__label__0',\r\n",
        "                     'LOW': '__label__1',\r\n",
        "                     'MEDIUM': '__label__2',\r\n",
        "                     'HIGH': '__label__3',\r\n",
        "                     'VERY_HIGH': '__label__4'}\r\n",
        "\r\n",
        "with open('fasttext_train.txt', 'w') as f:\r\n",
        "    for each_text, each_label in zip(X_train_ft, y_train_fr):\r\n",
        "        each_label = label_mapping[each_label]\r\n",
        "        f.writelines(f'{each_label} {each_text}\\n')\r\n",
        "\r\n",
        "with open('fasttext_test.txt', 'w') as f:\r\n",
        "    for each_text, each_label in zip(X_test_ft, y_test_ft):\r\n",
        "        each_label = label_mapping[each_label]\r\n",
        "        f.writelines(f'{each_label} {each_text}\\n')"
      ],
      "execution_count": null,
      "outputs": []
    },
    {
      "cell_type": "code",
      "metadata": {
        "id": "kKbn1gYhhGhd"
      },
      "source": [
        "#Training\r\n",
        "ft_model2 = fasttext.train_supervised('fasttext_train.txt')\r\n",
        "\r\n",
        "#model = fasttext.train_supervised(input=train_fn,\r\n",
        "#                                  pretrainedVectors=pretrainedvec_fn,\r\n",
        "#                                  dim=200, \r\n",
        "#                                  wordNgrams=2, \r\n",
        "#                                  minCount=3, \r\n",
        "#                                  epoch=20, \r\n",
        "#                                  loss='ova')"
      ],
      "execution_count": null,
      "outputs": []
    },
    {
      "cell_type": "code",
      "metadata": {
        "id": "LBs0Rl8M4STb"
      },
      "source": [
        "#print(ft_model2.words)\r\n",
        "print(ft_model2.labels)"
      ],
      "execution_count": null,
      "outputs": []
    },
    {
      "cell_type": "code",
      "metadata": {
        "id": "65iBpGUQ4WJN"
      },
      "source": [
        "#Evaluation\r\n",
        "def print_results(N, p, r):\r\n",
        "    print(\"N\\t\" + str(N))\r\n",
        "    print(\"P@{}\\t{:.3f}\".format(1, p))\r\n",
        "    print(\"R@{}\\t{:.3f}\".format(1, r))\r\n",
        "\r\n",
        "print_results(*ft_model2.test('fasttext_test.txt'))"
      ],
      "execution_count": null,
      "outputs": []
    },
    {
      "cell_type": "markdown",
      "metadata": {
        "id": "ow16_dTjTQzA"
      },
      "source": [
        "### Via Bi-LSTM"
      ]
    },
    {
      "cell_type": "code",
      "metadata": {
        "id": "Fz_DxfoLTSZ5",
        "colab": {
          "base_uri": "https://localhost:8080/"
        },
        "outputId": "7831bd5e-3888-47b9-b58c-28997b3b9104"
      },
      "source": [
        "#Defining Neural Network\r\n",
        "lstm_model = Sequential()\r\n",
        "#Non-trainable embeddidng layer\r\n",
        "lstm_model.add(Embedding(vocab_size, output_dim=EMBEDDING_DIM, weights=[w2v_embedding_vectors], input_length=maxlen, trainable=False))\r\n",
        "#LSTM \r\n",
        "#lstm_model.add(LSTM(units=128, dropout=0.2, recurrent_dropout=0.2, return_sequences=False))\r\n",
        "#Bi-LSTM\r\n",
        "lstm_model.add(Bidirectional(LSTM(units=128, dropout=0.2, recurrent_dropout=0.2, return_sequences=False)))\r\n",
        "lstm_model.add(Dense(EMBEDDING_DIM, activation='relu'))\r\n",
        "lstm_model.add(Dense(5, activation='softmax'))\r\n",
        "lstm_model.compile(optimizer='adam', loss='categorical_crossentropy', metrics=['acc'])"
      ],
      "execution_count": 85,
      "outputs": [
        {
          "output_type": "stream",
          "text": [
            "WARNING:tensorflow:Layer lstm_1 will not use cuDNN kernel since it doesn't meet the cuDNN kernel criteria. It will use generic GPU kernel as fallback when running on GPU\n",
            "WARNING:tensorflow:Layer lstm_1 will not use cuDNN kernel since it doesn't meet the cuDNN kernel criteria. It will use generic GPU kernel as fallback when running on GPU\n",
            "WARNING:tensorflow:Layer lstm_1 will not use cuDNN kernel since it doesn't meet the cuDNN kernel criteria. It will use generic GPU kernel as fallback when running on GPU\n"
          ],
          "name": "stdout"
        }
      ]
    },
    {
      "cell_type": "code",
      "metadata": {
        "colab": {
          "base_uri": "https://localhost:8080/"
        },
        "id": "WgiChQkZv8Sn",
        "outputId": "bad93110-2993-4ced-c117-efd2ac03f7bb"
      },
      "source": [
        "lstm_model.summary()"
      ],
      "execution_count": 86,
      "outputs": [
        {
          "output_type": "stream",
          "text": [
            "Model: \"sequential_1\"\n",
            "_________________________________________________________________\n",
            "Layer (type)                 Output Shape              Param #   \n",
            "=================================================================\n",
            "embedding_1 (Embedding)      (None, 150, 200)          26505600  \n",
            "_________________________________________________________________\n",
            "bidirectional_1 (Bidirection (None, 256)               336896    \n",
            "_________________________________________________________________\n",
            "dense_2 (Dense)              (None, 200)               51400     \n",
            "_________________________________________________________________\n",
            "dense_3 (Dense)              (None, 5)                 1005      \n",
            "=================================================================\n",
            "Total params: 26,894,901\n",
            "Trainable params: 389,301\n",
            "Non-trainable params: 26,505,600\n",
            "_________________________________________________________________\n"
          ],
          "name": "stdout"
        }
      ]
    },
    {
      "cell_type": "code",
      "metadata": {
        "colab": {
          "base_uri": "https://localhost:8080/"
        },
        "id": "RCFq97Qtv8V2",
        "outputId": "c69f6286-3005-4b58-b2c9-cbf558e9db34"
      },
      "source": [
        "early_stopping_callback_loss = tf.keras.callbacks.EarlyStopping(monitor = 'loss', patience = 1)\r\n",
        "early_stopping_callback_val_loss = tf.keras.callbacks.EarlyStopping(monitor = 'val_loss', patience = 1)\r\n",
        "\r\n",
        "lstm_history = lstm_model.fit(X_train_tok, y_train_tok, validation_split=0.2, epochs=10, batch_size = 512, \\\r\n",
        "                         callbacks = [early_stopping_callback_loss, early_stopping_callback_val_loss], verbose=1)"
      ],
      "execution_count": 88,
      "outputs": [
        {
          "output_type": "stream",
          "text": [
            "Epoch 1/10\n",
            "494/494 [==============================] - 542s 1s/step - loss: 0.8064 - acc: 0.7124 - val_loss: 0.6712 - val_acc: 0.7609\n",
            "Epoch 2/10\n",
            "494/494 [==============================] - 538s 1s/step - loss: 0.6329 - acc: 0.7770 - val_loss: 0.5791 - val_acc: 0.7979\n",
            "Epoch 3/10\n",
            "494/494 [==============================] - 547s 1s/step - loss: 0.5584 - acc: 0.8053 - val_loss: 0.5178 - val_acc: 0.8249\n",
            "Epoch 4/10\n",
            "494/494 [==============================] - 549s 1s/step - loss: 0.5098 - acc: 0.8238 - val_loss: 0.4765 - val_acc: 0.8397\n",
            "Epoch 5/10\n",
            "494/494 [==============================] - 549s 1s/step - loss: 0.4711 - acc: 0.8390 - val_loss: 0.4493 - val_acc: 0.8530\n",
            "Epoch 6/10\n",
            "494/494 [==============================] - 554s 1s/step - loss: 0.4425 - acc: 0.8495 - val_loss: 0.4279 - val_acc: 0.8623\n",
            "Epoch 7/10\n",
            "494/494 [==============================] - 556s 1s/step - loss: 0.4207 - acc: 0.8577 - val_loss: 0.4180 - val_acc: 0.8667\n",
            "Epoch 8/10\n",
            "494/494 [==============================] - 560s 1s/step - loss: 0.4024 - acc: 0.8643 - val_loss: 0.4047 - val_acc: 0.8725\n",
            "Epoch 9/10\n",
            "494/494 [==============================] - 555s 1s/step - loss: 0.3891 - acc: 0.8694 - val_loss: 0.3920 - val_acc: 0.8781\n",
            "Epoch 10/10\n",
            "494/494 [==============================] - 556s 1s/step - loss: 0.3764 - acc: 0.8737 - val_loss: 0.3870 - val_acc: 0.8793\n"
          ],
          "name": "stdout"
        }
      ]
    },
    {
      "cell_type": "code",
      "metadata": {
        "id": "hzfbNZB0v8YG",
        "colab": {
          "base_uri": "https://localhost:8080/",
          "height": 295
        },
        "outputId": "91ddaa67-67bc-4d58-ac41-908f401aec71"
      },
      "source": [
        "plt.plot(lstm_history.history['loss'])\r\n",
        "plt.plot(lstm_history.history['val_loss'])\r\n",
        "plt.title('model train vs validation loss')\r\n",
        "plt.ylabel('loss')\r\n",
        "plt.xlabel('epoch')\r\n",
        "plt.legend(['train', 'validation'], loc='upper right')\r\n",
        "plt.show()"
      ],
      "execution_count": 89,
      "outputs": [
        {
          "output_type": "display_data",
          "data": {
            "image/png": "[encoded data removed]",
            "text/plain": [
              "<Figure size 432x288 with 1 Axes>"
            ]
          },
          "metadata": {
            "tags": [],
            "needs_background": "light"
          }
        }
      ]
    },
    {
      "cell_type": "code",
      "metadata": {
        "id": "mLfelR5B0cTr"
      },
      "source": [
        "lstm_pred = (lstm_model.predict(X_test_tok) >= 0.5).astype(\"int\")"
      ],
      "execution_count": 90,
      "outputs": []
    },
    {
      "cell_type": "code",
      "metadata": {
        "id": "Y23-MEiB0kEw",
        "colab": {
          "base_uri": "https://localhost:8080/"
        },
        "outputId": "f48b5e4b-4291-4953-8ca0-d5f4a2624ed4"
      },
      "source": [
        "print(classification_report(y_test_tok, lstm_pred))"
      ],
      "execution_count": 91,
      "outputs": [
        {
          "output_type": "stream",
          "text": [
            "              precision    recall  f1-score   support\n",
            "\n",
            "           0       0.82      0.75      0.78     10633\n",
            "           1       0.90      0.78      0.84      5600\n",
            "           2       0.84      0.69      0.75      9458\n",
            "           3       0.94      0.95      0.95     39873\n",
            "           4       0.86      0.83      0.85     13355\n",
            "\n",
            "   micro avg       0.90      0.86      0.88     78919\n",
            "   macro avg       0.87      0.80      0.83     78919\n",
            "weighted avg       0.90      0.86      0.88     78919\n",
            " samples avg       0.86      0.86      0.86     78919\n",
            "\n"
          ],
          "name": "stdout"
        }
      ]
    },
    {
      "cell_type": "code",
      "metadata": {
        "id": "Lv2Ly7jR0kOm",
        "colab": {
          "base_uri": "https://localhost:8080/"
        },
        "outputId": "6ae56e62-f15b-4156-bf3f-3c8b77b18158"
      },
      "source": [
        "conf_matrix = confusion_matrix(y_test_tok.argmax(axis=1), lstm_pred.argmax(axis=1))\r\n",
        "print(conf_matrix)"
      ],
      "execution_count": 92,
      "outputs": [
        {
          "output_type": "stream",
          "text": [
            "[[ 8857    95   329   709   643]\n",
            " [  636  4352   310   173   129]\n",
            " [ 1401   118  6487   727   725]\n",
            " [ 1110   167   361 37965   270]\n",
            " [ 1168    83   247   758 11099]]\n"
          ],
          "name": "stdout"
        }
      ]
    },
    {
      "cell_type": "code",
      "metadata": {
        "colab": {
          "base_uri": "https://localhost:8080/",
          "height": 284
        },
        "id": "6FpCR_v-y1QC",
        "outputId": "510c1146-d4b1-431c-db04-74d20838081a"
      },
      "source": [
        "sns.heatmap(conf_matrix/np.sum(conf_matrix), annot=True)"
      ],
      "execution_count": 93,
      "outputs": [
        {
          "output_type": "execute_result",
          "data": {
            "text/plain": [
              "<matplotlib.axes._subplots.AxesSubplot at 0x7f00165fe590>"
            ]
          },
          "metadata": {
            "tags": []
          },
          "execution_count": 93
        },
        {
          "output_type": "display_data",
          "data": {
            "image/png": "[encoded data removed]",
            "text/plain": [
              "<Figure size 432x288 with 2 Axes>"
            ]
          },
          "metadata": {
            "tags": [],
            "needs_background": "light"
          }
        }
      ]
    },
    {
      "cell_type": "code",
      "metadata": {
        "id": "WvQ7VyZPZ4CN"
      },
      "source": [
        "#lstm_model.save(\"BiLSTM\")"
      ],
      "execution_count": null,
      "outputs": []
    },
    {
      "cell_type": "code",
      "metadata": {
        "id": "g3lzS2dce1P7"
      },
      "source": [
        ""
      ],
      "execution_count": null,
      "outputs": []
    },
    {
      "cell_type": "markdown",
      "metadata": {
        "id": "OX7mSbUXe1eb"
      },
      "source": [
        "### Via 2 Bi-LSTM with Emojis"
      ]
    },
    {
      "cell_type": "code",
      "metadata": {
        "colab": {
          "base_uri": "https://localhost:8080/"
        },
        "id": "HuKALxS4e1ec",
        "outputId": "8ce3bd2f-21dc-48e7-97ad-d727f3306c10"
      },
      "source": [
        "input1 = Input(shape=(maxlen,))\r\n",
        "embed1 = Embedding(vocab_size, output_dim=EMBEDDING_DIM, weights=[w2v_embedding_vectors], input_length=maxlen, trainable=False)(input1)\r\n",
        "bdlstm1 = Bidirectional(LSTM(units=128, dropout=0.2, recurrent_dropout=0.2, return_sequences=False))(embed1)\r\n",
        "dense1 = Dense(EMBEDDING_DIM, activation='relu')(bdlstm1)\r\n",
        "\r\n",
        "input2 = Input(shape=(maxlen_emoji,))\r\n",
        "embed2 = Embedding(emo_vocab_size, output_dim=EMBEDDING_DIM, weights=[w2v_emoji_embedding_vectors], input_length=maxlen_emoji, trainable=False)(input2)\r\n",
        "bdlstm2 = Bidirectional(LSTM(units=128, dropout=0.2, recurrent_dropout=0.2, return_sequences=False))(embed2)\r\n",
        "dense2 = Dense(EMBEDDING_DIM, activation='relu')(bdlstm2)\r\n",
        "\r\n",
        "dense = Concatenate()([dense1, dense2])\r\n",
        "out = Dense(5, activation='softmax')(dense)\r\n",
        "bilstm_model = keras.Model(inputs = [input1, input2], outputs = out)\r\n",
        "bilstm_model.compile(optimizer='adam', loss='categorical_crossentropy', metrics=['acc'])"
      ],
      "execution_count": 136,
      "outputs": [
        {
          "output_type": "stream",
          "text": [
            "WARNING:tensorflow:From /tensorflow-1.15.2/python3.7/tensorflow_core/python/keras/initializers.py:119: calling RandomUniform.__init__ (from tensorflow.python.ops.init_ops) with dtype is deprecated and will be removed in a future version.\n",
            "Instructions for updating:\n",
            "Call initializer instance with the dtype argument instead of passing it to the constructor\n",
            "WARNING:tensorflow:From /tensorflow-1.15.2/python3.7/tensorflow_core/python/ops/resource_variable_ops.py:1630: calling BaseResourceVariable.__init__ (from tensorflow.python.ops.resource_variable_ops) with constraint is deprecated and will be removed in a future version.\n",
            "Instructions for updating:\n",
            "If using Keras pass *_constraint arguments to layers.\n",
            "WARNING:tensorflow:From /tensorflow-1.15.2/python3.7/tensorflow_core/python/ops/init_ops.py:97: calling GlorotUniform.__init__ (from tensorflow.python.ops.init_ops) with dtype is deprecated and will be removed in a future version.\n",
            "Instructions for updating:\n",
            "Call initializer instance with the dtype argument instead of passing it to the constructor\n",
            "WARNING:tensorflow:From /tensorflow-1.15.2/python3.7/tensorflow_core/python/ops/init_ops.py:97: calling Orthogonal.__init__ (from tensorflow.python.ops.init_ops) with dtype is deprecated and will be removed in a future version.\n",
            "Instructions for updating:\n",
            "Call initializer instance with the dtype argument instead of passing it to the constructor\n",
            "WARNING:tensorflow:From /tensorflow-1.15.2/python3.7/tensorflow_core/python/ops/init_ops.py:97: calling Zeros.__init__ (from tensorflow.python.ops.init_ops) with dtype is deprecated and will be removed in a future version.\n",
            "Instructions for updating:\n",
            "Call initializer instance with the dtype argument instead of passing it to the constructor\n"
          ],
          "name": "stdout"
        }
      ]
    },
    {
      "cell_type": "code",
      "metadata": {
        "colab": {
          "base_uri": "https://localhost:8080/"
        },
        "id": "nE5G5emUe1ed",
        "outputId": "24aa2dfb-75bc-4dc4-f47d-6063744ace08"
      },
      "source": [
        "bilstm_model.summary()"
      ],
      "execution_count": 137,
      "outputs": [
        {
          "output_type": "stream",
          "text": [
            "Model: \"model\"\n",
            "__________________________________________________________________________________________________\n",
            "Layer (type)                    Output Shape         Param #     Connected to                     \n",
            "==================================================================================================\n",
            "input_1 (InputLayer)            [(None, 150)]        0                                            \n",
            "__________________________________________________________________________________________________\n",
            "input_2 (InputLayer)            [(None, 50)]         0                                            \n",
            "__________________________________________________________________________________________________\n",
            "embedding (Embedding)           (None, 150, 200)     26521600    input_1[0][0]                    \n",
            "__________________________________________________________________________________________________\n",
            "embedding_1 (Embedding)         (None, 50, 200)      229600      input_2[0][0]                    \n",
            "__________________________________________________________________________________________________\n",
            "bidirectional (Bidirectional)   (None, 256)          336896      embedding[0][0]                  \n",
            "__________________________________________________________________________________________________\n",
            "bidirectional_1 (Bidirectional) (None, 256)          336896      embedding_1[0][0]                \n",
            "__________________________________________________________________________________________________\n",
            "dense (Dense)                   (None, 200)          51400       bidirectional[0][0]              \n",
            "__________________________________________________________________________________________________\n",
            "dense_1 (Dense)                 (None, 200)          51400       bidirectional_1[0][0]            \n",
            "__________________________________________________________________________________________________\n",
            "concatenate (Concatenate)       (None, 400)          0           dense[0][0]                      \n",
            "                                                                 dense_1[0][0]                    \n",
            "__________________________________________________________________________________________________\n",
            "dense_2 (Dense)                 (None, 5)            2005        concatenate[0][0]                \n",
            "==================================================================================================\n",
            "Total params: 27,529,797\n",
            "Trainable params: 778,597\n",
            "Non-trainable params: 26,751,200\n",
            "__________________________________________________________________________________________________\n"
          ],
          "name": "stdout"
        }
      ]
    },
    {
      "cell_type": "code",
      "metadata": {
        "colab": {
          "base_uri": "https://localhost:8080/"
        },
        "id": "P1sv4TTNg6MR",
        "outputId": "86142f13-171a-4943-e172-850ace28e91d"
      },
      "source": [
        "early_stopping_callback_loss = tf.keras.callbacks.EarlyStopping(monitor = 'loss', patience = 1)\r\n",
        "early_stopping_callback_val_loss = tf.keras.callbacks.EarlyStopping(monitor = 'val_loss', patience = 1)\r\n",
        "\r\n",
        "bilstm_history = bilstm_model.fit([X_train_tok, E_train_tok], y_train_tok, validation_split=0.2, epochs=6, batch_size = 512, \\\r\n",
        "                         callbacks = [early_stopping_callback_loss, early_stopping_callback_val_loss], verbose=1)"
      ],
      "execution_count": 138,
      "outputs": [
        {
          "output_type": "stream",
          "text": [
            "WARNING:tensorflow:From /tensorflow-1.15.2/python3.7/tensorflow_core/python/ops/math_grad.py:1424: where (from tensorflow.python.ops.array_ops) is deprecated and will be removed in a future version.\n",
            "Instructions for updating:\n",
            "Use tf.where in 2.0, which has the same broadcast rule as np.where\n",
            "Train on 252538 samples, validate on 63135 samples\n",
            "Epoch 1/6\n",
            "252538/252538 [==============================] - 276s 1ms/sample - loss: 0.8221 - acc: 0.7039 - val_loss: 0.6587 - val_acc: 0.7647\n",
            "Epoch 2/6\n",
            "252538/252538 [==============================] - 271s 1ms/sample - loss: 0.6326 - acc: 0.7739 - val_loss: 0.5665 - val_acc: 0.8010\n",
            "Epoch 3/6\n",
            "252538/252538 [==============================] - 272s 1ms/sample - loss: 0.5594 - acc: 0.8011 - val_loss: 0.5107 - val_acc: 0.8222\n",
            "Epoch 4/6\n",
            "252538/252538 [==============================] - 271s 1ms/sample - loss: 0.5100 - acc: 0.8198 - val_loss: 0.4696 - val_acc: 0.8400\n",
            "Epoch 5/6\n",
            "252538/252538 [==============================] - 268s 1ms/sample - loss: 0.4725 - acc: 0.8342 - val_loss: 0.4429 - val_acc: 0.8504\n",
            "Epoch 6/6\n",
            "252538/252538 [==============================] - 269s 1ms/sample - loss: 0.4435 - acc: 0.8459 - val_loss: 0.4231 - val_acc: 0.8593\n"
          ],
          "name": "stdout"
        }
      ]
    },
    {
      "cell_type": "code",
      "metadata": {
        "colab": {
          "base_uri": "https://localhost:8080/",
          "height": 295
        },
        "id": "_zky9yKpg6MT",
        "outputId": "64b3f130-cc39-4c92-9e0e-c488d4c059d9"
      },
      "source": [
        "plt.plot(bilstm_history.history['loss'])\r\n",
        "plt.plot(bilstm_history.history['val_loss'])\r\n",
        "plt.title('model train vs validation loss')\r\n",
        "plt.ylabel('loss')\r\n",
        "plt.xlabel('epoch')\r\n",
        "plt.legend(['train', 'validation'], loc='upper right')\r\n",
        "plt.show()"
      ],
      "execution_count": 139,
      "outputs": [
        {
          "output_type": "display_data",
          "data": {
            "image/png": "[encoded data removed]",
            "text/plain": [
              "<Figure size 432x288 with 1 Axes>"
            ]
          },
          "metadata": {
            "tags": [],
            "needs_background": "light"
          }
        }
      ]
    },
    {
      "cell_type": "code",
      "metadata": {
        "id": "TmIsWmldg6MU"
      },
      "source": [
        "bilstm_pred = (bilstm_model.predict([X_test_tok, E_test_tok]) >= 0.5).astype(\"int\")"
      ],
      "execution_count": 140,
      "outputs": []
    },
    {
      "cell_type": "code",
      "metadata": {
        "id": "GeJ9UznRg6MU"
      },
      "source": [
        "print(classification_report(y_test_tok, bilstm_pred))"
      ],
      "execution_count": null,
      "outputs": []
    },
    {
      "cell_type": "code",
      "metadata": {
        "id": "JOvwObgZg6MV"
      },
      "source": [
        "conf_matrix = confusion_matrix(y_test_tok.argmax(axis=1), bilstm_pred.argmax(axis=1))\r\n",
        "print(conf_matrix)"
      ],
      "execution_count": null,
      "outputs": []
    },
    {
      "cell_type": "code",
      "metadata": {
        "colab": {
          "base_uri": "https://localhost:8080/",
          "height": 284
        },
        "id": "qJTquQ4Gg6MW",
        "outputId": "aae6b38b-468f-4e49-96c7-b3b80672f473"
      },
      "source": [
        "sns.heatmap(conf_matrix/np.sum(conf_matrix), annot=True)"
      ],
      "execution_count": 144,
      "outputs": [
        {
          "output_type": "execute_result",
          "data": {
            "text/plain": [
              "<matplotlib.axes._subplots.AxesSubplot at 0x7fcb4f4993d0>"
            ]
          },
          "metadata": {
            "tags": []
          },
          "execution_count": 144
        },
        {
          "output_type": "display_data",
          "data": {
            "image/png": "[encoded data removed]",
            "text/plain": [
              "<Figure size 432x288 with 2 Axes>"
            ]
          },
          "metadata": {
            "tags": [],
            "needs_background": "light"
          }
        }
      ]
    },
    {
      "cell_type": "code",
      "metadata": {
        "id": "FNGaeDr3e1eg"
      },
      "source": [
        "#lstm_model.save(\"BiLSTM\")"
      ],
      "execution_count": null,
      "outputs": []
    },
    {
      "cell_type": "markdown",
      "metadata": {
        "id": "kSpLsMowniq3"
      },
      "source": [
        "### Via Transformer"
      ]
    },
    {
      "cell_type": "markdown",
      "metadata": {
        "id": "uSVeMAXznyuK"
      },
      "source": [
        "https://keras.io/examples/nlp/text_classification_with_transformer/"
      ]
    },
    {
      "cell_type": "code",
      "metadata": {
        "colab": {
          "base_uri": "https://localhost:8080/",
          "height": 1000
        },
        "id": "frgPsQu3nkX8",
        "outputId": "21bdf47d-0140-481f-beac-d56fd4302c84"
      },
      "source": [
        "#Implement a Transformer block as a layer\r\n",
        "\r\n",
        "!pip install tf-nightly\r\n",
        "\r\n",
        "class TransformerBlock(layers.Layer):\r\n",
        "    def __init__(self, embed_dim, num_heads, ff_dim, rate=0.1):\r\n",
        "        super(TransformerBlock, self).__init__()\r\n",
        "        self.att = layers.MultiHeadAttention(num_heads=num_heads, key_dim=embed_dim)\r\n",
        "        self.ffn = keras.Sequential(\r\n",
        "            [layers.Dense(ff_dim, activation=\"relu\"), layers.Dense(embed_dim),]\r\n",
        "        )\r\n",
        "        self.layernorm1 = layers.LayerNormalization(epsilon=1e-6)\r\n",
        "        self.layernorm2 = layers.LayerNormalization(epsilon=1e-6)\r\n",
        "        self.dropout1 = layers.Dropout(rate)\r\n",
        "        self.dropout2 = layers.Dropout(rate)\r\n",
        "\r\n",
        "    def call(self, inputs, training):\r\n",
        "        attn_output = self.att(inputs, inputs)\r\n",
        "        attn_output = self.dropout1(attn_output, training=training)\r\n",
        "        out1 = self.layernorm1(inputs + attn_output)\r\n",
        "        ffn_output = self.ffn(out1)\r\n",
        "        ffn_output = self.dropout2(ffn_output, training=training)\r\n",
        "        return self.layernorm2(out1 + ffn_output)"
      ],
      "execution_count": 68,
      "outputs": [
        {
          "output_type": "stream",
          "text": [
            "Collecting tf-nightly\n",
            "\u001b[?25l  Downloading https://files.pythonhosted.org/packages/cb/db/a9e8b9a6e8be932d30064a50d6944c6dc4821690afc8b318a4adac5be7fd/tf_nightly-2.5.0.dev20210301-cp37-cp37m-manylinux2010_x86_64.whl (409.0MB)\n",
            "\u001b[K     |████████████████████████████████| 409.0MB 44kB/s \n",
            "\u001b[?25hCollecting gast==0.4.0\n",
            "  Downloading https://files.pythonhosted.org/packages/b6/48/583c032b79ae5b3daa02225a675aeb673e58d2cb698e78510feceb11958c/gast-0.4.0-py3-none-any.whl\n",
            "Requirement already satisfied: absl-py~=0.10 in /usr/local/lib/python3.7/dist-packages (from tf-nightly) (0.10.0)\n",
            "Requirement already satisfied: termcolor~=1.1.0 in /usr/local/lib/python3.7/dist-packages (from tf-nightly) (1.1.0)\n",
            "Requirement already satisfied: keras-preprocessing~=1.1.2 in /usr/local/lib/python3.7/dist-packages (from tf-nightly) (1.1.2)\n",
            "Requirement already satisfied: wheel~=0.35 in /usr/local/lib/python3.7/dist-packages (from tf-nightly) (0.36.2)\n",
            "Requirement already satisfied: astunparse~=1.6.3 in /usr/local/lib/python3.7/dist-packages (from tf-nightly) (1.6.3)\n",
            "Collecting h5py~=3.1.0\n",
            "\u001b[?25l  Downloading https://files.pythonhosted.org/packages/9d/74/9eae2bedd8201ab464308f42c601a12d79727a1c87f0c867fdefb212c6cf/h5py-3.1.0-cp37-cp37m-manylinux1_x86_64.whl (4.0MB)\n",
            "\u001b[K     |████████████████████████████████| 4.0MB 52.1MB/s \n",
            "\u001b[?25hRequirement already satisfied: protobuf>=3.9.2 in /usr/local/lib/python3.7/dist-packages (from tf-nightly) (3.12.4)\n",
            "Requirement already satisfied: six~=1.15.0 in /usr/local/lib/python3.7/dist-packages (from tf-nightly) (1.15.0)\n",
            "Collecting tb-nightly~=2.5.0.a\n",
            "\u001b[?25l  Downloading https://files.pythonhosted.org/packages/d9/5d/c4dcd14ee626f6dc4e688517a374ddf60e775c8b28151414bb10de5e0778/tb_nightly-2.5.0a20210301-py3-none-any.whl (5.9MB)\n",
            "\u001b[K     |████████████████████████████████| 5.9MB 25.0MB/s \n",
            "\u001b[?25hCollecting grpcio~=1.34.0\n",
            "\u001b[?25l  Downloading https://files.pythonhosted.org/packages/d5/d1/f38a91d8724706427fe973a7dfa11e938cee98aa7196b03d870a25a08bab/grpcio-1.34.1-cp37-cp37m-manylinux2014_x86_64.whl (4.0MB)\n",
            "\u001b[K     |████████████████████████████████| 4.0MB 43.7MB/s \n",
            "\u001b[?25hRequirement already satisfied: opt-einsum~=3.3.0 in /usr/local/lib/python3.7/dist-packages (from tf-nightly) (3.3.0)\n",
            "Requirement already satisfied: typing-extensions~=3.7.4 in /usr/local/lib/python3.7/dist-packages (from tf-nightly) (3.7.4.3)\n",
            "Requirement already satisfied: google-pasta~=0.2 in /usr/local/lib/python3.7/dist-packages (from tf-nightly) (0.2.0)\n",
            "Collecting tf-estimator-nightly~=2.5.0.dev\n",
            "\u001b[?25l  Downloading https://files.pythonhosted.org/packages/6b/0a/ad0233ca628c5c9af8219676406d4f71f3036b8f53a03a1300e50b91021c/tf_estimator_nightly-2.5.0.dev2021030101-py2.py3-none-any.whl (462kB)\n",
            "\u001b[K     |████████████████████████████████| 471kB 55.5MB/s \n",
            "\u001b[?25hRequirement already satisfied: numpy~=1.19.2 in /usr/local/lib/python3.7/dist-packages (from tf-nightly) (1.19.5)\n",
            "Requirement already satisfied: wrapt~=1.12.1 in /usr/local/lib/python3.7/dist-packages (from tf-nightly) (1.12.1)\n",
            "Requirement already satisfied: flatbuffers~=1.12.0 in /usr/local/lib/python3.7/dist-packages (from tf-nightly) (1.12)\n",
            "Collecting cached-property; python_version < \"3.8\"\n",
            "  Downloading https://files.pythonhosted.org/packages/48/19/f2090f7dad41e225c7f2326e4cfe6fff49e57dedb5b53636c9551f86b069/cached_property-1.5.2-py2.py3-none-any.whl\n",
            "Requirement already satisfied: setuptools in /usr/local/lib/python3.7/dist-packages (from protobuf>=3.9.2->tf-nightly) (53.0.0)\n",
            "Requirement already satisfied: tensorboard-plugin-wit>=1.6.0 in /usr/local/lib/python3.7/dist-packages (from tb-nightly~=2.5.0.a->tf-nightly) (1.8.0)\n",
            "Requirement already satisfied: requests<3,>=2.21.0 in /usr/local/lib/python3.7/dist-packages (from tb-nightly~=2.5.0.a->tf-nightly) (2.23.0)\n",
            "Collecting tensorboard-data-server<0.4.0,>=0.3.0\n",
            "\u001b[?25l  Downloading https://files.pythonhosted.org/packages/f2/6f/a1a04f6aece9cdabe80fba01241e76172380753801e34ad50d482fbde0c0/tensorboard_data_server-0.3.0-py3-none-manylinux2010_x86_64.whl (3.8MB)\n",
            "\u001b[K     |████████████████████████████████| 3.8MB 48.2MB/s \n",
            "\u001b[?25hRequirement already satisfied: werkzeug>=0.11.15 in /usr/local/lib/python3.7/dist-packages (from tb-nightly~=2.5.0.a->tf-nightly) (1.0.1)\n",
            "Requirement already satisfied: markdown>=2.6.8 in /usr/local/lib/python3.7/dist-packages (from tb-nightly~=2.5.0.a->tf-nightly) (3.3.4)\n",
            "Requirement already satisfied: google-auth<2,>=1.6.3 in /usr/local/lib/python3.7/dist-packages (from tb-nightly~=2.5.0.a->tf-nightly) (1.27.0)\n",
            "Requirement already satisfied: google-auth-oauthlib<0.5,>=0.4.1 in /usr/local/lib/python3.7/dist-packages (from tb-nightly~=2.5.0.a->tf-nightly) (0.4.2)\n",
            "Requirement already satisfied: idna<3,>=2.5 in /usr/local/lib/python3.7/dist-packages (from requests<3,>=2.21.0->tb-nightly~=2.5.0.a->tf-nightly) (2.10)\n",
            "Requirement already satisfied: certifi>=2017.4.17 in /usr/local/lib/python3.7/dist-packages (from requests<3,>=2.21.0->tb-nightly~=2.5.0.a->tf-nightly) (2020.12.5)\n",
            "Requirement already satisfied: chardet<4,>=3.0.2 in /usr/local/lib/python3.7/dist-packages (from requests<3,>=2.21.0->tb-nightly~=2.5.0.a->tf-nightly) (3.0.4)\n",
            "Requirement already satisfied: urllib3!=1.25.0,!=1.25.1,<1.26,>=1.21.1 in /usr/local/lib/python3.7/dist-packages (from requests<3,>=2.21.0->tb-nightly~=2.5.0.a->tf-nightly) (1.24.3)\n",
            "Requirement already satisfied: importlib-metadata; python_version < \"3.8\" in /usr/local/lib/python3.7/dist-packages (from markdown>=2.6.8->tb-nightly~=2.5.0.a->tf-nightly) (3.7.0)\n",
            "Requirement already satisfied: cachetools<5.0,>=2.0.0 in /usr/local/lib/python3.7/dist-packages (from google-auth<2,>=1.6.3->tb-nightly~=2.5.0.a->tf-nightly) (4.2.1)\n",
            "Requirement already satisfied: rsa<5,>=3.1.4; python_version >= \"3.6\" in /usr/local/lib/python3.7/dist-packages (from google-auth<2,>=1.6.3->tb-nightly~=2.5.0.a->tf-nightly) (4.7.2)\n",
            "Requirement already satisfied: pyasn1-modules>=0.2.1 in /usr/local/lib/python3.7/dist-packages (from google-auth<2,>=1.6.3->tb-nightly~=2.5.0.a->tf-nightly) (0.2.8)\n",
            "Requirement already satisfied: requests-oauthlib>=0.7.0 in /usr/local/lib/python3.7/dist-packages (from google-auth-oauthlib<0.5,>=0.4.1->tb-nightly~=2.5.0.a->tf-nightly) (1.3.0)\n",
            "Requirement already satisfied: zipp>=0.5 in /usr/local/lib/python3.7/dist-packages (from importlib-metadata; python_version < \"3.8\"->markdown>=2.6.8->tb-nightly~=2.5.0.a->tf-nightly) (3.4.0)\n",
            "Requirement already satisfied: pyasn1>=0.1.3 in /usr/local/lib/python3.7/dist-packages (from rsa<5,>=3.1.4; python_version >= \"3.6\"->google-auth<2,>=1.6.3->tb-nightly~=2.5.0.a->tf-nightly) (0.4.8)\n",
            "Requirement already satisfied: oauthlib>=3.0.0 in /usr/local/lib/python3.7/dist-packages (from requests-oauthlib>=0.7.0->google-auth-oauthlib<0.5,>=0.4.1->tb-nightly~=2.5.0.a->tf-nightly) (3.1.0)\n",
            "\u001b[31mERROR: tensorflow 2.4.1 has requirement gast==0.3.3, but you'll have gast 0.4.0 which is incompatible.\u001b[0m\n",
            "\u001b[31mERROR: tensorflow 2.4.1 has requirement grpcio~=1.32.0, but you'll have grpcio 1.34.1 which is incompatible.\u001b[0m\n",
            "\u001b[31mERROR: tensorflow 2.4.1 has requirement h5py~=2.10.0, but you'll have h5py 3.1.0 which is incompatible.\u001b[0m\n",
            "Installing collected packages: gast, cached-property, h5py, grpcio, tensorboard-data-server, tb-nightly, tf-estimator-nightly, tf-nightly\n",
            "  Found existing installation: gast 0.3.3\n",
            "    Uninstalling gast-0.3.3:\n",
            "      Successfully uninstalled gast-0.3.3\n",
            "  Found existing installation: h5py 2.10.0\n",
            "    Uninstalling h5py-2.10.0:\n",
            "      Successfully uninstalled h5py-2.10.0\n",
            "  Found existing installation: grpcio 1.32.0\n",
            "    Uninstalling grpcio-1.32.0:\n",
            "      Successfully uninstalled grpcio-1.32.0\n",
            "Successfully installed cached-property-1.5.2 gast-0.4.0 grpcio-1.34.1 h5py-3.1.0 tb-nightly-2.5.0a20210301 tensorboard-data-server-0.3.0 tf-estimator-nightly-2.5.0.dev2021030101 tf-nightly-2.5.0.dev20210301\n"
          ],
          "name": "stdout"
        },
        {
          "output_type": "display_data",
          "data": {
            "application/vnd.colab-display-data+json": {
              "pip_warning": {
                "packages": [
                  "gast",
                  "grpc",
                  "h5py",
                  "tensorboard",
                  "tensorflow",
                  "tensorflow_estimator"
                ]
              }
            }
          },
          "metadata": {
            "tags": []
          }
        }
      ]
    },
    {
      "cell_type": "code",
      "metadata": {
        "id": "IwWC98Vwn3IP"
      },
      "source": [
        "#Implement embedding layer\r\n",
        "#Two seperate embedding layers, one for tokens, one for token index (positions).\r\n",
        "\r\n",
        "class TokenAndPositionEmbedding(layers.Layer):\r\n",
        "    def __init__(self, maxlen, vocab_size, embed_dim):\r\n",
        "        super(TokenAndPositionEmbedding, self).__init__()\r\n",
        "        self.token_emb = layers.Embedding(input_dim=vocab_size, output_dim=embed_dim)\r\n",
        "        self.pos_emb = layers.Embedding(input_dim=maxlen, output_dim=embed_dim)\r\n",
        "\r\n",
        "    def call(self, x):\r\n",
        "        maxlen = tf.shape(x)[-1]\r\n",
        "        positions = tf.range(start=0, limit=maxlen, delta=1)\r\n",
        "        positions = self.pos_emb(positions)\r\n",
        "        x = self.token_emb(x)\r\n",
        "        return x + positions"
      ],
      "execution_count": 69,
      "outputs": []
    },
    {
      "cell_type": "code",
      "metadata": {
        "id": "dJ_inM1moGyf"
      },
      "source": [
        "#Create classifier model using transformer layer\r\n",
        "\r\n",
        "embed_dim = 32  # Embedding size for each token (vs 32 ?)\r\n",
        "num_heads = 2  # Number of attention heads \r\n",
        "ff_dim = 32  # Hidden layer size in feed forward network inside transformer\r\n",
        "\r\n",
        "inputs = layers.Input(shape=(maxlen,))\r\n",
        "embedding_layer = TokenAndPositionEmbedding(maxlen, vocab_size, embed_dim)\r\n",
        "x = embedding_layer(inputs)\r\n",
        "transformer_block = TransformerBlock(embed_dim, num_heads, ff_dim)\r\n",
        "x = transformer_block(x)\r\n",
        "x = layers.GlobalAveragePooling1D()(x)\r\n",
        "x = layers.Dropout(0.1)(x)\r\n",
        "x = layers.Dense(embed_dim, activation=\"relu\")(x)\r\n",
        "x = layers.Dropout(0.1)(x)\r\n",
        "outputs = layers.Dense(5, activation=\"softmax\")(x)\r\n",
        "\r\n",
        "transfo_model = keras.Model(inputs=inputs, outputs=outputs)"
      ],
      "execution_count": 70,
      "outputs": []
    },
    {
      "cell_type": "code",
      "metadata": {
        "colab": {
          "base_uri": "https://localhost:8080/"
        },
        "id": "u5LcTtkrqBE_",
        "outputId": "5d794eda-42b9-4cc7-9cce-b8811bc1c0cd"
      },
      "source": [
        "#Train and Evaluate\r\n",
        "early_stopping_callback_loss = tf.keras.callbacks.EarlyStopping(monitor = 'loss', patience = 1)\r\n",
        "early_stopping_callback_val_loss = tf.keras.callbacks.EarlyStopping(monitor = 'val_loss', patience = 1)\r\n",
        "\r\n",
        "transfo_model.compile(\"adam\", \"categorical_crossentropy\", metrics=[\"accuracy\"])\r\n",
        "transfo_history = transfo_model.fit(\r\n",
        "    X_train_tok, y_train_tok, validation_split=0.2, batch_size=512, epochs=4 , \\\r\n",
        "                         callbacks = [early_stopping_callback_loss, early_stopping_callback_val_loss], verbose=1)"
      ],
      "execution_count": 71,
      "outputs": [
        {
          "output_type": "stream",
          "text": [
            "Epoch 1/4\n",
            "WARNING:tensorflow:AutoGraph could not transform <function Model.make_train_function.<locals>.train_function at 0x7ff6827e6320> and will run it as-is.\n",
            "Please report this to the TensorFlow team. When filing the bug, set the verbosity to 10 (on Linux, `export AUTOGRAPH_VERBOSITY=10`) and attach the full output.\n",
            "Cause: closure mismatch, requested ('self', 'step_function'), but source function had ()\n",
            "To silence this warning, decorate the function with @tf.autograph.experimental.do_not_convert\n",
            "WARNING: AutoGraph could not transform <function Model.make_train_function.<locals>.train_function at 0x7ff6827e6320> and will run it as-is.\n",
            "Please report this to the TensorFlow team. When filing the bug, set the verbosity to 10 (on Linux, `export AUTOGRAPH_VERBOSITY=10`) and attach the full output.\n",
            "Cause: closure mismatch, requested ('self', 'step_function'), but source function had ()\n",
            "To silence this warning, decorate the function with @tf.autograph.experimental.do_not_convert\n",
            "493/494 [============================>.] - ETA: 0s - loss: 1.2310 - accuracy: 0.5442WARNING:tensorflow:AutoGraph could not transform <function Model.make_test_function.<locals>.test_function at 0x7ff686aa7950> and will run it as-is.\n",
            "Please report this to the TensorFlow team. When filing the bug, set the verbosity to 10 (on Linux, `export AUTOGRAPH_VERBOSITY=10`) and attach the full output.\n",
            "Cause: closure mismatch, requested ('self', 'step_function'), but source function had ()\n",
            "To silence this warning, decorate the function with @tf.autograph.experimental.do_not_convert\n",
            "WARNING: AutoGraph could not transform <function Model.make_test_function.<locals>.test_function at 0x7ff686aa7950> and will run it as-is.\n",
            "Please report this to the TensorFlow team. When filing the bug, set the verbosity to 10 (on Linux, `export AUTOGRAPH_VERBOSITY=10`) and attach the full output.\n",
            "Cause: closure mismatch, requested ('self', 'step_function'), but source function had ()\n",
            "To silence this warning, decorate the function with @tf.autograph.experimental.do_not_convert\n",
            "494/494 [==============================] - 42s 78ms/step - loss: 1.2301 - accuracy: 0.5446 - val_loss: 0.6364 - val_accuracy: 0.7764\n",
            "Epoch 2/4\n",
            "494/494 [==============================] - 38s 77ms/step - loss: 0.5555 - accuracy: 0.8080 - val_loss: 0.4813 - val_accuracy: 0.8443\n",
            "Epoch 3/4\n",
            "494/494 [==============================] - 38s 77ms/step - loss: 0.3876 - accuracy: 0.8735 - val_loss: 0.4408 - val_accuracy: 0.8610\n",
            "Epoch 4/4\n",
            "494/494 [==============================] - 38s 77ms/step - loss: 0.3081 - accuracy: 0.9014 - val_loss: 0.4463 - val_accuracy: 0.8639\n"
          ],
          "name": "stdout"
        }
      ]
    },
    {
      "cell_type": "code",
      "metadata": {
        "colab": {
          "base_uri": "https://localhost:8080/",
          "height": 295
        },
        "id": "STnZkBCAwUpb",
        "outputId": "4fccbe97-ffb8-4b46-9460-3b216517d88e"
      },
      "source": [
        "plt.plot(transfo_history.history['loss'])\r\n",
        "plt.plot(transfo_history.history['val_loss'])\r\n",
        "plt.title('model train vs validation loss')\r\n",
        "plt.ylabel('loss')\r\n",
        "plt.xlabel('epoch')\r\n",
        "plt.legend(['train', 'validation'], loc='upper right')\r\n",
        "plt.show()"
      ],
      "execution_count": 72,
      "outputs": [
        {
          "output_type": "display_data",
          "data": {
            "image/png": "[encoded data removed]",
            "text/plain": [
              "<Figure size 432x288 with 1 Axes>"
            ]
          },
          "metadata": {
            "tags": [],
            "needs_background": "light"
          }
        }
      ]
    },
    {
      "cell_type": "code",
      "metadata": {
        "colab": {
          "base_uri": "https://localhost:8080/"
        },
        "id": "ZBv5TfJJwUp7",
        "outputId": "b921e93e-9567-48bf-ccc0-5e561271ffde"
      },
      "source": [
        "transfo_pred = (transfo_model.predict(X_test_tok) >= 0.5).astype(\"int\")"
      ],
      "execution_count": 73,
      "outputs": [
        {
          "output_type": "stream",
          "text": [
            "WARNING:tensorflow:AutoGraph could not transform <function Model.make_predict_function.<locals>.predict_function at 0x7ff686988200> and will run it as-is.\n",
            "Please report this to the TensorFlow team. When filing the bug, set the verbosity to 10 (on Linux, `export AUTOGRAPH_VERBOSITY=10`) and attach the full output.\n",
            "Cause: closure mismatch, requested ('self', 'step_function'), but source function had ()\n",
            "To silence this warning, decorate the function with @tf.autograph.experimental.do_not_convert\n",
            "WARNING: AutoGraph could not transform <function Model.make_predict_function.<locals>.predict_function at 0x7ff686988200> and will run it as-is.\n",
            "Please report this to the TensorFlow team. When filing the bug, set the verbosity to 10 (on Linux, `export AUTOGRAPH_VERBOSITY=10`) and attach the full output.\n",
            "Cause: closure mismatch, requested ('self', 'step_function'), but source function had ()\n",
            "To silence this warning, decorate the function with @tf.autograph.experimental.do_not_convert\n"
          ],
          "name": "stdout"
        }
      ]
    },
    {
      "cell_type": "code",
      "metadata": {
        "colab": {
          "base_uri": "https://localhost:8080/"
        },
        "id": "UmMDosS0wUp8",
        "outputId": "9892fe1d-5b68-4b5c-b06e-cad955293701"
      },
      "source": [
        "print(classification_report(y_test_tok, transfo_pred))"
      ],
      "execution_count": 74,
      "outputs": [
        {
          "output_type": "stream",
          "text": [
            "              precision    recall  f1-score   support\n",
            "\n",
            "           0       0.81      0.72      0.76     10683\n",
            "           1       0.79      0.83      0.81      5481\n",
            "           2       0.81      0.69      0.75      9460\n",
            "           3       0.96      0.93      0.94     39885\n",
            "           4       0.83      0.81      0.82     13410\n",
            "\n",
            "   micro avg       0.89      0.84      0.87     78919\n",
            "   macro avg       0.84      0.79      0.81     78919\n",
            "weighted avg       0.89      0.84      0.86     78919\n",
            " samples avg       0.84      0.84      0.84     78919\n",
            "\n"
          ],
          "name": "stdout"
        }
      ]
    },
    {
      "cell_type": "code",
      "metadata": {
        "colab": {
          "base_uri": "https://localhost:8080/"
        },
        "id": "W6DkINn1wUp9",
        "outputId": "a470573e-b63f-405f-dff0-4b38a17e49ef"
      },
      "source": [
        "conf_matrix = confusion_matrix(y_test_tok.argmax(axis=1), transfo_pred.argmax(axis=1))\r\n",
        "print(conf_matrix)"
      ],
      "execution_count": 95,
      "outputs": [
        {
          "output_type": "stream",
          "text": [
            "[[ 9098    90   215   433   781]\n",
            " [  870  4024   364   109   125]\n",
            " [ 2096   117  6185   502   650]\n",
            " [ 1393   177   388 37149   637]\n",
            " [ 1797    61   162   606 10890]]\n"
          ],
          "name": "stdout"
        }
      ]
    },
    {
      "cell_type": "code",
      "metadata": {
        "colab": {
          "base_uri": "https://localhost:8080/",
          "height": 284
        },
        "id": "obbqte0IwUp-",
        "outputId": "f1b69e61-e4b6-4029-899b-14029f876486"
      },
      "source": [
        "sns.heatmap(conf_matrix/np.sum(conf_matrix), annot=True)"
      ],
      "execution_count": 96,
      "outputs": [
        {
          "output_type": "execute_result",
          "data": {
            "text/plain": [
              "<matplotlib.axes._subplots.AxesSubplot at 0x7f92fadbbf10>"
            ]
          },
          "metadata": {
            "tags": []
          },
          "execution_count": 96
        },
        {
          "output_type": "display_data",
          "data": {
            "image/png": "[encoded data removed]",
            "text/plain": [
              "<Figure size 432x288 with 2 Axes>"
            ]
          },
          "metadata": {
            "tags": [],
            "needs_background": "light"
          }
        }
      ]
    },
    {
      "cell_type": "markdown",
      "metadata": {
        "id": "GM0W372-g6Ps"
      },
      "source": [
        "### Via CamemBERT"
      ]
    },
    {
      "cell_type": "markdown",
      "metadata": {
        "id": "ULAfGlizkeap"
      },
      "source": [
        "==> https://colab.sandbox.google.com/drive/1KgWs_sYNEL_ZnnZ_p7eTSevVb5xXx1Hu?usp=sharing#scrollTo=ELf3ehrNxY3k"
      ]
    },
    {
      "cell_type": "code",
      "metadata": {
        "id": "n-xa5hZTEcHW",
        "colab": {
          "base_uri": "https://localhost:8080/"
        },
        "outputId": "c3c3488c-af59-43a1-f2a5-637d564e191f"
      },
      "source": [
        "!pip install transformers==3.5.1\r\n",
        "!pip install sentencepiece\r\n",
        "import torch\r\n",
        "from torch.utils.data import TensorDataset, random_split, \\\r\n",
        "                            DataLoader, RandomSampler, SequentialSampler\r\n",
        "from transformers import CamembertForSequenceClassification, CamembertTokenizer, \\\r\n",
        "                         AdamW, get_linear_schedule_with_warmup\r\n",
        "\r\n",
        "MAX_LEN = 128\r\n",
        "epochs = 6\r\n",
        "batch_size = 64\r\n",
        "device = torch.device('cuda' if torch.cuda.is_available() else 'cpu')\r\n",
        "\r\n",
        "text = dataset['cleanSentence'].to_list()\r\n",
        "labels = list(encoded_y)\r\n",
        "\r\n",
        "cam_tokenizer = CamembertTokenizer.from_pretrained(\r\n",
        "    'camembert-base', do_lower_case=True)"
      ],
      "execution_count": 94,
      "outputs": [
        {
          "output_type": "stream",
          "text": [
            "Requirement already satisfied: transformers==3.5.1 in /usr/local/lib/python3.7/dist-packages (3.5.1)\n",
            "Requirement already satisfied: numpy in /usr/local/lib/python3.7/dist-packages (from transformers==3.5.1) (1.19.5)\n",
            "Requirement already satisfied: requests in /usr/local/lib/python3.7/dist-packages (from transformers==3.5.1) (2.23.0)\n",
            "Requirement already satisfied: sacremoses in /usr/local/lib/python3.7/dist-packages (from transformers==3.5.1) (0.0.43)\n",
            "Requirement already satisfied: packaging in /usr/local/lib/python3.7/dist-packages (from transformers==3.5.1) (20.9)\n",
            "Requirement already satisfied: tqdm>=4.27 in /usr/local/lib/python3.7/dist-packages (from transformers==3.5.1) (4.41.1)\n",
            "Requirement already satisfied: filelock in /usr/local/lib/python3.7/dist-packages (from transformers==3.5.1) (3.0.12)\n",
            "Requirement already satisfied: tokenizers==0.9.3 in /usr/local/lib/python3.7/dist-packages (from transformers==3.5.1) (0.9.3)\n",
            "Requirement already satisfied: protobuf in /usr/local/lib/python3.7/dist-packages (from transformers==3.5.1) (3.12.4)\n",
            "Requirement already satisfied: regex!=2019.12.17 in /usr/local/lib/python3.7/dist-packages (from transformers==3.5.1) (2019.12.20)\n",
            "Requirement already satisfied: sentencepiece==0.1.91 in /usr/local/lib/python3.7/dist-packages (from transformers==3.5.1) (0.1.91)\n",
            "Requirement already satisfied: chardet<4,>=3.0.2 in /usr/local/lib/python3.7/dist-packages (from requests->transformers==3.5.1) (3.0.4)\n",
            "Requirement already satisfied: certifi>=2017.4.17 in /usr/local/lib/python3.7/dist-packages (from requests->transformers==3.5.1) (2020.12.5)\n",
            "Requirement already satisfied: urllib3!=1.25.0,!=1.25.1,<1.26,>=1.21.1 in /usr/local/lib/python3.7/dist-packages (from requests->transformers==3.5.1) (1.24.3)\n",
            "Requirement already satisfied: idna<3,>=2.5 in /usr/local/lib/python3.7/dist-packages (from requests->transformers==3.5.1) (2.10)\n",
            "Requirement already satisfied: click in /usr/local/lib/python3.7/dist-packages (from sacremoses->transformers==3.5.1) (7.1.2)\n",
            "Requirement already satisfied: joblib in /usr/local/lib/python3.7/dist-packages (from sacremoses->transformers==3.5.1) (1.0.1)\n",
            "Requirement already satisfied: six in /usr/local/lib/python3.7/dist-packages (from sacremoses->transformers==3.5.1) (1.15.0)\n",
            "Requirement already satisfied: pyparsing>=2.0.2 in /usr/local/lib/python3.7/dist-packages (from packaging->transformers==3.5.1) (2.4.7)\n",
            "Requirement already satisfied: setuptools in /usr/local/lib/python3.7/dist-packages (from protobuf->transformers==3.5.1) (53.0.0)\n",
            "Requirement already satisfied: sentencepiece in /usr/local/lib/python3.7/dist-packages (0.1.91)\n"
          ],
          "name": "stdout"
        }
      ]
    },
    {
      "cell_type": "code",
      "metadata": {
        "id": "_gHjb6NemS5r"
      },
      "source": [
        "def preprocess(raw_text, labels=None):\r\n",
        "    encoded_batch = cam_tokenizer.batch_encode_plus(raw_text,\r\n",
        "                                                truncation=True,\r\n",
        "                                                add_special_tokens=True,\r\n",
        "                                                pad_to_max_length=True,\r\n",
        "                                                max_length=MAX_LEN,\r\n",
        "                                                return_attention_mask=True,\r\n",
        "                                                return_tensors = 'pt')\r\n",
        "    if labels:\r\n",
        "        labels = torch.tensor(labels)\r\n",
        "        return encoded_batch['input_ids'], encoded_batch['attention_mask'], labels\r\n",
        "    return encoded_batch['input_ids'], encoded_batch['attention_mask']\r\n",
        "\r\n",
        "def format_time(elapsed):\r\n",
        "    # Round to the nearest second.\r\n",
        "    elapsed_rounded = int(round((elapsed)))\r\n",
        "    \r\n",
        "    return str(datetime.timedelta(seconds=elapsed_rounded))\r\n",
        "\r\n",
        "# Function to calculate the accuracy of our predictions vs labels\r\n",
        "def flat_accuracy(preds, labels):\r\n",
        "    pred_flat = np.argmax(preds, axis=1).flatten()\r\n",
        "    labels_flat = labels.flatten()\r\n",
        "    return np.sum(pred_flat == labels_flat) / len(labels_flat)\r\n",
        "\r\n",
        "\r\n",
        "# Split train-validation\r\n",
        "train_inputs, validation_inputs, train_labels, validation_labels = train_test_split(text, labels,\r\n",
        "                                                            random_state=42, test_size=0.2)"
      ],
      "execution_count": 95,
      "outputs": []
    },
    {
      "cell_type": "code",
      "metadata": {
        "id": "ZguphheM04PA"
      },
      "source": [
        "train_input_ids, train_attention_mask, train_labels = preprocess(train_inputs, train_labels)\r\n",
        "# Combine the training inputs into a TensorDataset\r\n",
        "train_dataset = TensorDataset(\r\n",
        "    train_input_ids,\r\n",
        "    train_attention_mask,\r\n",
        "    train_labels)\r\n",
        "\r\n",
        "val_input_ids, val_attention_mask, validation_labels = preprocess(validation_inputs, validation_labels)\r\n",
        "# Combine the validation inputs into a TensorDataset\r\n",
        "validation_dataset = TensorDataset(\r\n",
        "    val_input_ids,\r\n",
        "    val_attention_mask,\r\n",
        "    validation_labels)"
      ],
      "execution_count": 96,
      "outputs": []
    },
    {
      "cell_type": "code",
      "metadata": {
        "id": "0sCMhv4O5Px9"
      },
      "source": [
        "# Create the DataLoaders\r\n",
        "train_dataloader = DataLoader(\r\n",
        "            train_dataset,\r\n",
        "            sampler = RandomSampler(train_dataset),\r\n",
        "            batch_size = batch_size)\r\n",
        "\r\n",
        "validation_dataloader = DataLoader(\r\n",
        "            validation_dataset,\r\n",
        "            sampler = SequentialSampler(validation_dataset),\r\n",
        "            batch_size = batch_size)"
      ],
      "execution_count": 97,
      "outputs": []
    },
    {
      "cell_type": "code",
      "metadata": {
        "colab": {
          "base_uri": "https://localhost:8080/"
        },
        "id": "UxBjW2Ol2G3L",
        "outputId": "83114510-2caa-4c86-f4e6-6c5f5d17b943"
      },
      "source": [
        "try:\r\n",
        "    state_dict = torch.load(\"Bert.pt\")\r\n",
        "    print(\"Loading trained model...\")\r\n",
        "    model = CamembertForSequenceClassification.from_pretrained(\r\n",
        "    'camembert-base',\r\n",
        "    state_dict=state_dict)\r\n",
        "    print(\"Trained model loaded!\")\r\n",
        "except Exception as e:\r\n",
        "    print(\"Unable to load trained model.\")\r\n",
        "    print(e)\r\n",
        "    model = CamembertForSequenceClassification.from_pretrained(\r\n",
        "        'camembert-base',\r\n",
        "        num_labels = 5)\r\n",
        "\r\n",
        "model.to(device) "
      ],
      "execution_count": 98,
      "outputs": [
        {
          "output_type": "stream",
          "text": [
            "Unable to load trained model.\n",
            "[Errno 2] No such file or directory: 'Bert.pt'\n"
          ],
          "name": "stdout"
        },
        {
          "output_type": "stream",
          "text": [
            "Some weights of the model checkpoint at camembert-base were not used when initializing CamembertForSequenceClassification: ['lm_head.bias', 'lm_head.dense.weight', 'lm_head.dense.bias', 'lm_head.layer_norm.weight', 'lm_head.layer_norm.bias', 'lm_head.decoder.weight', 'roberta.pooler.dense.weight', 'roberta.pooler.dense.bias']\n",
            "- This IS expected if you are initializing CamembertForSequenceClassification from the checkpoint of a model trained on another task or with another architecture (e.g. initializing a BertForSequenceClassification model from a BertForPreTraining model).\n",
            "- This IS NOT expected if you are initializing CamembertForSequenceClassification from the checkpoint of a model that you expect to be exactly identical (initializing a BertForSequenceClassification model from a BertForSequenceClassification model).\n",
            "Some weights of CamembertForSequenceClassification were not initialized from the model checkpoint at camembert-base and are newly initialized: ['classifier.dense.weight', 'classifier.dense.bias', 'classifier.out_proj.weight', 'classifier.out_proj.bias']\n",
            "You should probably TRAIN this model on a down-stream task to be able to use it for predictions and inference.\n"
          ],
          "name": "stderr"
        },
        {
          "output_type": "execute_result",
          "data": {
            "text/plain": [
              "CamembertForSequenceClassification(\n",
              "  (roberta): RobertaModel(\n",
              "    (embeddings): RobertaEmbeddings(\n",
              "      (word_embeddings): Embedding(32005, 768, padding_idx=1)\n",
              "      (position_embeddings): Embedding(514, 768, padding_idx=1)\n",
              "      (token_type_embeddings): Embedding(1, 768)\n",
              "      (LayerNorm): LayerNorm((768,), eps=1e-05, elementwise_affine=True)\n",
              "      (dropout): Dropout(p=0.1, inplace=False)\n",
              "    )\n",
              "    (encoder): RobertaEncoder(\n",
              "      (layer): ModuleList(\n",
              "        (0): RobertaLayer(\n",
              "          (attention): RobertaAttention(\n",
              "            (self): RobertaSelfAttention(\n",
              "              (query): Linear(in_features=768, out_features=768, bias=True)\n",
              "              (key): Linear(in_features=768, out_features=768, bias=True)\n",
              "              (value): Linear(in_features=768, out_features=768, bias=True)\n",
              "              (dropout): Dropout(p=0.1, inplace=False)\n",
              "            )\n",
              "            (output): RobertaSelfOutput(\n",
              "              (dense): Linear(in_features=768, out_features=768, bias=True)\n",
              "              (LayerNorm): LayerNorm((768,), eps=1e-05, elementwise_affine=True)\n",
              "              (dropout): Dropout(p=0.1, inplace=False)\n",
              "            )\n",
              "          )\n",
              "          (intermediate): RobertaIntermediate(\n",
              "            (dense): Linear(in_features=768, out_features=3072, bias=True)\n",
              "          )\n",
              "          (output): RobertaOutput(\n",
              "            (dense): Linear(in_features=3072, out_features=768, bias=True)\n",
              "            (LayerNorm): LayerNorm((768,), eps=1e-05, elementwise_affine=True)\n",
              "            (dropout): Dropout(p=0.1, inplace=False)\n",
              "          )\n",
              "        )\n",
              "        (1): RobertaLayer(\n",
              "          (attention): RobertaAttention(\n",
              "            (self): RobertaSelfAttention(\n",
              "              (query): Linear(in_features=768, out_features=768, bias=True)\n",
              "              (key): Linear(in_features=768, out_features=768, bias=True)\n",
              "              (value): Linear(in_features=768, out_features=768, bias=True)\n",
              "              (dropout): Dropout(p=0.1, inplace=False)\n",
              "            )\n",
              "            (output): RobertaSelfOutput(\n",
              "              (dense): Linear(in_features=768, out_features=768, bias=True)\n",
              "              (LayerNorm): LayerNorm((768,), eps=1e-05, elementwise_affine=True)\n",
              "              (dropout): Dropout(p=0.1, inplace=False)\n",
              "            )\n",
              "          )\n",
              "          (intermediate): RobertaIntermediate(\n",
              "            (dense): Linear(in_features=768, out_features=3072, bias=True)\n",
              "          )\n",
              "          (output): RobertaOutput(\n",
              "            (dense): Linear(in_features=3072, out_features=768, bias=True)\n",
              "            (LayerNorm): LayerNorm((768,), eps=1e-05, elementwise_affine=True)\n",
              "            (dropout): Dropout(p=0.1, inplace=False)\n",
              "          )\n",
              "        )\n",
              "        (2): RobertaLayer(\n",
              "          (attention): RobertaAttention(\n",
              "            (self): RobertaSelfAttention(\n",
              "              (query): Linear(in_features=768, out_features=768, bias=True)\n",
              "              (key): Linear(in_features=768, out_features=768, bias=True)\n",
              "              (value): Linear(in_features=768, out_features=768, bias=True)\n",
              "              (dropout): Dropout(p=0.1, inplace=False)\n",
              "            )\n",
              "            (output): RobertaSelfOutput(\n",
              "              (dense): Linear(in_features=768, out_features=768, bias=True)\n",
              "              (LayerNorm): LayerNorm((768,), eps=1e-05, elementwise_affine=True)\n",
              "              (dropout): Dropout(p=0.1, inplace=False)\n",
              "            )\n",
              "          )\n",
              "          (intermediate): RobertaIntermediate(\n",
              "            (dense): Linear(in_features=768, out_features=3072, bias=True)\n",
              "          )\n",
              "          (output): RobertaOutput(\n",
              "            (dense): Linear(in_features=3072, out_features=768, bias=True)\n",
              "            (LayerNorm): LayerNorm((768,), eps=1e-05, elementwise_affine=True)\n",
              "            (dropout): Dropout(p=0.1, inplace=False)\n",
              "          )\n",
              "        )\n",
              "        (3): RobertaLayer(\n",
              "          (attention): RobertaAttention(\n",
              "            (self): RobertaSelfAttention(\n",
              "              (query): Linear(in_features=768, out_features=768, bias=True)\n",
              "              (key): Linear(in_features=768, out_features=768, bias=True)\n",
              "              (value): Linear(in_features=768, out_features=768, bias=True)\n",
              "              (dropout): Dropout(p=0.1, inplace=False)\n",
              "            )\n",
              "            (output): RobertaSelfOutput(\n",
              "              (dense): Linear(in_features=768, out_features=768, bias=True)\n",
              "              (LayerNorm): LayerNorm((768,), eps=1e-05, elementwise_affine=True)\n",
              "              (dropout): Dropout(p=0.1, inplace=False)\n",
              "            )\n",
              "          )\n",
              "          (intermediate): RobertaIntermediate(\n",
              "            (dense): Linear(in_features=768, out_features=3072, bias=True)\n",
              "          )\n",
              "          (output): RobertaOutput(\n",
              "            (dense): Linear(in_features=3072, out_features=768, bias=True)\n",
              "            (LayerNorm): LayerNorm((768,), eps=1e-05, elementwise_affine=True)\n",
              "            (dropout): Dropout(p=0.1, inplace=False)\n",
              "          )\n",
              "        )\n",
              "        (4): RobertaLayer(\n",
              "          (attention): RobertaAttention(\n",
              "            (self): RobertaSelfAttention(\n",
              "              (query): Linear(in_features=768, out_features=768, bias=True)\n",
              "              (key): Linear(in_features=768, out_features=768, bias=True)\n",
              "              (value): Linear(in_features=768, out_features=768, bias=True)\n",
              "              (dropout): Dropout(p=0.1, inplace=False)\n",
              "            )\n",
              "            (output): RobertaSelfOutput(\n",
              "              (dense): Linear(in_features=768, out_features=768, bias=True)\n",
              "              (LayerNorm): LayerNorm((768,), eps=1e-05, elementwise_affine=True)\n",
              "              (dropout): Dropout(p=0.1, inplace=False)\n",
              "            )\n",
              "          )\n",
              "          (intermediate): RobertaIntermediate(\n",
              "            (dense): Linear(in_features=768, out_features=3072, bias=True)\n",
              "          )\n",
              "          (output): RobertaOutput(\n",
              "            (dense): Linear(in_features=3072, out_features=768, bias=True)\n",
              "            (LayerNorm): LayerNorm((768,), eps=1e-05, elementwise_affine=True)\n",
              "            (dropout): Dropout(p=0.1, inplace=False)\n",
              "          )\n",
              "        )\n",
              "        (5): RobertaLayer(\n",
              "          (attention): RobertaAttention(\n",
              "            (self): RobertaSelfAttention(\n",
              "              (query): Linear(in_features=768, out_features=768, bias=True)\n",
              "              (key): Linear(in_features=768, out_features=768, bias=True)\n",
              "              (value): Linear(in_features=768, out_features=768, bias=True)\n",
              "              (dropout): Dropout(p=0.1, inplace=False)\n",
              "            )\n",
              "            (output): RobertaSelfOutput(\n",
              "              (dense): Linear(in_features=768, out_features=768, bias=True)\n",
              "              (LayerNorm): LayerNorm((768,), eps=1e-05, elementwise_affine=True)\n",
              "              (dropout): Dropout(p=0.1, inplace=False)\n",
              "            )\n",
              "          )\n",
              "          (intermediate): RobertaIntermediate(\n",
              "            (dense): Linear(in_features=768, out_features=3072, bias=True)\n",
              "          )\n",
              "          (output): RobertaOutput(\n",
              "            (dense): Linear(in_features=3072, out_features=768, bias=True)\n",
              "            (LayerNorm): LayerNorm((768,), eps=1e-05, elementwise_affine=True)\n",
              "            (dropout): Dropout(p=0.1, inplace=False)\n",
              "          )\n",
              "        )\n",
              "        (6): RobertaLayer(\n",
              "          (attention): RobertaAttention(\n",
              "            (self): RobertaSelfAttention(\n",
              "              (query): Linear(in_features=768, out_features=768, bias=True)\n",
              "              (key): Linear(in_features=768, out_features=768, bias=True)\n",
              "              (value): Linear(in_features=768, out_features=768, bias=True)\n",
              "              (dropout): Dropout(p=0.1, inplace=False)\n",
              "            )\n",
              "            (output): RobertaSelfOutput(\n",
              "              (dense): Linear(in_features=768, out_features=768, bias=True)\n",
              "              (LayerNorm): LayerNorm((768,), eps=1e-05, elementwise_affine=True)\n",
              "              (dropout): Dropout(p=0.1, inplace=False)\n",
              "            )\n",
              "          )\n",
              "          (intermediate): RobertaIntermediate(\n",
              "            (dense): Linear(in_features=768, out_features=3072, bias=True)\n",
              "          )\n",
              "          (output): RobertaOutput(\n",
              "            (dense): Linear(in_features=3072, out_features=768, bias=True)\n",
              "            (LayerNorm): LayerNorm((768,), eps=1e-05, elementwise_affine=True)\n",
              "            (dropout): Dropout(p=0.1, inplace=False)\n",
              "          )\n",
              "        )\n",
              "        (7): RobertaLayer(\n",
              "          (attention): RobertaAttention(\n",
              "            (self): RobertaSelfAttention(\n",
              "              (query): Linear(in_features=768, out_features=768, bias=True)\n",
              "              (key): Linear(in_features=768, out_features=768, bias=True)\n",
              "              (value): Linear(in_features=768, out_features=768, bias=True)\n",
              "              (dropout): Dropout(p=0.1, inplace=False)\n",
              "            )\n",
              "            (output): RobertaSelfOutput(\n",
              "              (dense): Linear(in_features=768, out_features=768, bias=True)\n",
              "              (LayerNorm): LayerNorm((768,), eps=1e-05, elementwise_affine=True)\n",
              "              (dropout): Dropout(p=0.1, inplace=False)\n",
              "            )\n",
              "          )\n",
              "          (intermediate): RobertaIntermediate(\n",
              "            (dense): Linear(in_features=768, out_features=3072, bias=True)\n",
              "          )\n",
              "          (output): RobertaOutput(\n",
              "            (dense): Linear(in_features=3072, out_features=768, bias=True)\n",
              "            (LayerNorm): LayerNorm((768,), eps=1e-05, elementwise_affine=True)\n",
              "            (dropout): Dropout(p=0.1, inplace=False)\n",
              "          )\n",
              "        )\n",
              "        (8): RobertaLayer(\n",
              "          (attention): RobertaAttention(\n",
              "            (self): RobertaSelfAttention(\n",
              "              (query): Linear(in_features=768, out_features=768, bias=True)\n",
              "              (key): Linear(in_features=768, out_features=768, bias=True)\n",
              "              (value): Linear(in_features=768, out_features=768, bias=True)\n",
              "              (dropout): Dropout(p=0.1, inplace=False)\n",
              "            )\n",
              "            (output): RobertaSelfOutput(\n",
              "              (dense): Linear(in_features=768, out_features=768, bias=True)\n",
              "              (LayerNorm): LayerNorm((768,), eps=1e-05, elementwise_affine=True)\n",
              "              (dropout): Dropout(p=0.1, inplace=False)\n",
              "            )\n",
              "          )\n",
              "          (intermediate): RobertaIntermediate(\n",
              "            (dense): Linear(in_features=768, out_features=3072, bias=True)\n",
              "          )\n",
              "          (output): RobertaOutput(\n",
              "            (dense): Linear(in_features=3072, out_features=768, bias=True)\n",
              "            (LayerNorm): LayerNorm((768,), eps=1e-05, elementwise_affine=True)\n",
              "            (dropout): Dropout(p=0.1, inplace=False)\n",
              "          )\n",
              "        )\n",
              "        (9): RobertaLayer(\n",
              "          (attention): RobertaAttention(\n",
              "            (self): RobertaSelfAttention(\n",
              "              (query): Linear(in_features=768, out_features=768, bias=True)\n",
              "              (key): Linear(in_features=768, out_features=768, bias=True)\n",
              "              (value): Linear(in_features=768, out_features=768, bias=True)\n",
              "              (dropout): Dropout(p=0.1, inplace=False)\n",
              "            )\n",
              "            (output): RobertaSelfOutput(\n",
              "              (dense): Linear(in_features=768, out_features=768, bias=True)\n",
              "              (LayerNorm): LayerNorm((768,), eps=1e-05, elementwise_affine=True)\n",
              "              (dropout): Dropout(p=0.1, inplace=False)\n",
              "            )\n",
              "          )\n",
              "          (intermediate): RobertaIntermediate(\n",
              "            (dense): Linear(in_features=768, out_features=3072, bias=True)\n",
              "          )\n",
              "          (output): RobertaOutput(\n",
              "            (dense): Linear(in_features=3072, out_features=768, bias=True)\n",
              "            (LayerNorm): LayerNorm((768,), eps=1e-05, elementwise_affine=True)\n",
              "            (dropout): Dropout(p=0.1, inplace=False)\n",
              "          )\n",
              "        )\n",
              "        (10): RobertaLayer(\n",
              "          (attention): RobertaAttention(\n",
              "            (self): RobertaSelfAttention(\n",
              "              (query): Linear(in_features=768, out_features=768, bias=True)\n",
              "              (key): Linear(in_features=768, out_features=768, bias=True)\n",
              "              (value): Linear(in_features=768, out_features=768, bias=True)\n",
              "              (dropout): Dropout(p=0.1, inplace=False)\n",
              "            )\n",
              "            (output): RobertaSelfOutput(\n",
              "              (dense): Linear(in_features=768, out_features=768, bias=True)\n",
              "              (LayerNorm): LayerNorm((768,), eps=1e-05, elementwise_affine=True)\n",
              "              (dropout): Dropout(p=0.1, inplace=False)\n",
              "            )\n",
              "          )\n",
              "          (intermediate): RobertaIntermediate(\n",
              "            (dense): Linear(in_features=768, out_features=3072, bias=True)\n",
              "          )\n",
              "          (output): RobertaOutput(\n",
              "            (dense): Linear(in_features=3072, out_features=768, bias=True)\n",
              "            (LayerNorm): LayerNorm((768,), eps=1e-05, elementwise_affine=True)\n",
              "            (dropout): Dropout(p=0.1, inplace=False)\n",
              "          )\n",
              "        )\n",
              "        (11): RobertaLayer(\n",
              "          (attention): RobertaAttention(\n",
              "            (self): RobertaSelfAttention(\n",
              "              (query): Linear(in_features=768, out_features=768, bias=True)\n",
              "              (key): Linear(in_features=768, out_features=768, bias=True)\n",
              "              (value): Linear(in_features=768, out_features=768, bias=True)\n",
              "              (dropout): Dropout(p=0.1, inplace=False)\n",
              "            )\n",
              "            (output): RobertaSelfOutput(\n",
              "              (dense): Linear(in_features=768, out_features=768, bias=True)\n",
              "              (LayerNorm): LayerNorm((768,), eps=1e-05, elementwise_affine=True)\n",
              "              (dropout): Dropout(p=0.1, inplace=False)\n",
              "            )\n",
              "          )\n",
              "          (intermediate): RobertaIntermediate(\n",
              "            (dense): Linear(in_features=768, out_features=3072, bias=True)\n",
              "          )\n",
              "          (output): RobertaOutput(\n",
              "            (dense): Linear(in_features=3072, out_features=768, bias=True)\n",
              "            (LayerNorm): LayerNorm((768,), eps=1e-05, elementwise_affine=True)\n",
              "            (dropout): Dropout(p=0.1, inplace=False)\n",
              "          )\n",
              "        )\n",
              "      )\n",
              "    )\n",
              "  )\n",
              "  (classifier): RobertaClassificationHead(\n",
              "    (dense): Linear(in_features=768, out_features=768, bias=True)\n",
              "    (dropout): Dropout(p=0.1, inplace=False)\n",
              "    (out_proj): Linear(in_features=768, out_features=5, bias=True)\n",
              "  )\n",
              ")"
            ]
          },
          "metadata": {
            "tags": []
          },
          "execution_count": 98
        }
      ]
    },
    {
      "cell_type": "code",
      "metadata": {
        "id": "5IDXz8fW2sJ0"
      },
      "source": [
        "#Training parameters\r\n",
        "optimizer = AdamW(model.parameters(),\r\n",
        "                  lr = 2e-5, # Learning Rate - Default is 5e-5\r\n",
        "                  eps = 1e-8 # Adam Epsilon  - Default is 1e-8.\r\n",
        "                )\r\n",
        "\r\n",
        "\r\n",
        "# Training loop\r\n",
        "training_stats = []\r\n",
        "validation_stats = []\r\n",
        "\r\n",
        "# Measure the total training time for the whole run.\r\n",
        "total_t0 = time.time()\r\n",
        "\r\n",
        "# Total number of training steps is [number of batches] x [number of epochs]\r\n",
        "# (Note that this is not the same as the number of training samples)\r\n",
        "total_steps = len(train_dataloader) * epochs\r\n",
        "\r\n",
        "# Create the learning rate scheduler\r\n",
        "scheduler = get_linear_schedule_with_warmup(optimizer, \r\n",
        "                                            num_warmup_steps = 0, # Default value in run_glue.py\r\n",
        "                                            num_training_steps = total_steps)\r\n",
        "\r\n",
        "# This variable will evaluate the convergence on the training\r\n",
        "consecutive_epochs_with_no_improve = 0"
      ],
      "execution_count": 99,
      "outputs": []
    },
    {
      "cell_type": "code",
      "metadata": {
        "colab": {
          "base_uri": "https://localhost:8080/",
          "height": 306
        },
        "id": "ftMfjMFH8VYQ",
        "outputId": "a00fb2be-17f5-4a13-91a6-a46e977bfa96"
      },
      "source": [
        "# Training & Validation\r\n",
        "for epoch in range(0, epochs):\r\n",
        "  print(\"\")\r\n",
        "  print(f'########## Epoch {epoch+1} / {epochs} ##########')\r\n",
        "  print('Training...')\r\n",
        "\r\n",
        "  # Measure how long the training epoch takes.\r\n",
        "  t0 = time.time()\r\n",
        "\r\n",
        "  # Reset the total loss for this epoch.\r\n",
        "  total_train_loss = 0\r\n",
        "\r\n",
        "  # Put the model into training mode\r\n",
        "  model.train()\r\n",
        "\r\n",
        "  # For each batch of training data\r\n",
        "  for step, batch in enumerate(train_dataloader):\r\n",
        "    # Progress update every 40 batches.\r\n",
        "    if step % 40 == 0 and not step == 0:\r\n",
        "        # Calculate elapsed time in minutes.\r\n",
        "        elapsed = time.time() - t0\r\n",
        "\r\n",
        "        # Report progress\r\n",
        "        print(f'  Batch {step}  of  {len(train_dataloader)}    Elapsed: {format_time(elapsed)}.')\r\n",
        "\r\n",
        "    # Unpack this training batch from our dataloader. \r\n",
        "    #\r\n",
        "    # As we unpack the batch, we'll also copy each tensor to the 'device' using the 'to' method\r\n",
        "    #\r\n",
        "    # 'batch' contains three pytorch tensors:\r\n",
        "    #   [0]: input ids \r\n",
        "    #   [1]: attention masks\r\n",
        "    #   [2]: skills \r\n",
        "    input_id = batch[0].to(device)\r\n",
        "    attention_mask = batch[1].to(device)\r\n",
        "    label = batch[2].to(device)\r\n",
        "\r\n",
        "    # Clear any previously calculated gradients before performing a backward pass\r\n",
        "    model.zero_grad()        \r\n",
        "\r\n",
        "    # Perform a forward pass (evaluate the model on this training batch)\r\n",
        "    # the loss (because we provided skills) and the \"logits\"--the model\r\n",
        "    # outputs prior to activation\r\n",
        "    loss, logits = model(input_id, \r\n",
        "                          token_type_ids=None, \r\n",
        "                          attention_mask=attention_mask, \r\n",
        "                          labels=label)\r\n",
        "\r\n",
        "    # Accumulate the training loss over all of the batches so that we can\r\n",
        "    # calculate the average loss at the end. 'loss' is a Tensor containing a\r\n",
        "    # single value; the '.item()' function just returns the Python value \r\n",
        "    # from the tensor\r\n",
        "    total_train_loss += loss.item()\r\n",
        "\r\n",
        "    # Perform a backward pass to calculate the gradients\r\n",
        "    loss.backward()\r\n",
        "\r\n",
        "    # Clip the norm of the gradients to 1.0\r\n",
        "    # This is to help prevent the \"exploding gradients\" problem.\r\n",
        "    torch.nn.utils.clip_grad_norm_(model.parameters(), 1.0)\r\n",
        "\r\n",
        "    # Update parameters and take a step using the computed gradient\r\n",
        "    # The optimizer dictates the \"update rule\"--how the parameters are\r\n",
        "    # modified based on their gradients, the learning rate, etc.\r\n",
        "    optimizer.step()\r\n",
        "\r\n",
        "    # Update the learning rate.\r\n",
        "    scheduler.step()\r\n",
        "\r\n",
        "  # Calculate the average loss over all of the batches\r\n",
        "  avg_train_loss = total_train_loss / len(train_dataloader)   \r\n",
        "\r\n",
        "  if epoch > 0:\r\n",
        "      if min([stat['Training Loss'] for stat in training_stats]) <= avg_train_loss:\r\n",
        "          # i.e. If there is not improvement\r\n",
        "          consecutive_epochs_with_no_improve += 1\r\n",
        "      else:\r\n",
        "          # If there is improvement\r\n",
        "          consecutive_epochs_with_no_improve = 0\r\n",
        "          print(\"Model saved!\")\r\n",
        "          torch.save(model.state_dict(), \"Bert.pt\")\r\n",
        "\r\n",
        "  # Measure how long this epoch took\r\n",
        "  training_time = time.time() - t0\r\n",
        "\r\n",
        "  print(\"\")\r\n",
        "  print(\"  Average training loss: {0:.2f}\".format(avg_train_loss))\r\n",
        "  print(\"  Training epoch took: {:}\".format(training_time))\r\n",
        "\r\n",
        "  # Record all statistics from this epoch.\r\n",
        "  training_stats.append(\r\n",
        "      {\r\n",
        "          'epoch': epoch + 1,\r\n",
        "          'Training Loss': avg_train_loss,\r\n",
        "          'Training Time': training_time,\r\n",
        "      }\r\n",
        "  )\r\n",
        "\r\n",
        "  print(\"epoch: {} \\n\".format(epoch + 1), file=outfile)\r\n",
        "  print(\"Training Loss: {} \\n\".format(avg_train_loss), file=outfile)\r\n",
        "  print(\"Training Time: {} \\n\".format(training_time), file=outfile)\r\n",
        "\r\n",
        "  if consecutive_epochs_with_no_improve == 2:\r\n",
        "      print(\"Stop training : The loss has not changed since 2 epochs!\")\r\n",
        "      break\r\n",
        "\r\n",
        "\r\n",
        "  # Tracking variables for validation\r\n",
        "  eval_loss, eval_accuracy = 0, 0\r\n",
        "  batch_count = 0\r\n",
        "\r\n",
        "  t1 = time.time()\r\n",
        "  # Validation of the model\r\n",
        "  model.eval()\r\n",
        "\r\n",
        "  # Evaluate data for one epoch\r\n",
        "  for batch in validation_dataloader:\r\n",
        "      elapsed = time.time() - t1\r\n",
        "      print(f'  Batch {batch_count}  of  {len(validation_dataloader)}    Elapsed: {format_time(elapsed)}.')\r\n",
        "\r\n",
        "      # Unpack this training batch from our dataloader. \r\n",
        "      #\r\n",
        "      # As we unpack the batch, we'll also copy each tensor to the 'device' using the 'to' method\r\n",
        "      #\r\n",
        "      # 'batch' contains three pytorch tensors:\r\n",
        "      #   [0]: input ids \r\n",
        "      #   [1]: attention masks\r\n",
        "      #   [2]: skills \r\n",
        "      input_id = batch[0].to(device)\r\n",
        "      attention_mask = batch[1].to(device)\r\n",
        "      label = batch[2].to(device)\r\n",
        "\r\n",
        "      with torch.no_grad():\r\n",
        "      # Forward pass, calculate logit predictions\r\n",
        "          outputs =  model(input_id, token_type_ids=None, \r\n",
        "                            attention_mask=attention_mask,\r\n",
        "                            labels=label)\r\n",
        "          loss, logits = outputs[:2]\r\n",
        "\r\n",
        "      # Accumulate the training loss over all of the batches so that we can\r\n",
        "      # calculate the average loss at the end. 'loss' is a Tensor containing a\r\n",
        "      # single value; the '.item()' function just returns the Python value \r\n",
        "      # from the tensor\r\n",
        "      eval_loss += loss.item()\r\n",
        "\r\n",
        "      # Move logits and labels to CPU if GPU is used\r\n",
        "      logits = logits.detach().cpu().numpy()\r\n",
        "      label_ids = label.to('cpu').numpy()\r\n",
        "      predictions = np.argmax(logits, axis=1).flatten()\r\n",
        "\r\n",
        "      tmp_eval_accuracy = flat_accuracy(logits, label_ids)\r\n",
        "\r\n",
        "      eval_accuracy += tmp_eval_accuracy\r\n",
        "      if batch_count == 0:\r\n",
        "          global_predictions = predictions\r\n",
        "      else:\r\n",
        "          global_predictions = np.append(global_predictions,predictions)\r\n",
        "      batch_count += 1\r\n",
        "\r\n",
        "\r\n",
        "  avg_validation_loss = eval_loss / len(validation_dataloader)   \r\n",
        "\r\n",
        "\r\n",
        "  # Measure how long this epoch took\r\n",
        "  validation_time = time.time() - t1\r\n",
        "\r\n",
        "  print(\"\")\r\n",
        "  print(\"  Average validation loss: {0:.2f}\".format(avg_validation_loss))\r\n",
        "  print(\"  Validation took: {:}\".format(validation_time))\r\n",
        "  print(\"  Validation Accuracy: {}\".format(eval_accuracy/batch_count))\r\n",
        "  # Calculate the average loss over all of the batches\r\n",
        "\r\n",
        "  # Record all statistics from this epoch.\r\n",
        "  validation_stats.append(\r\n",
        "      {\r\n",
        "          'Training Loss': avg_validation_loss,\r\n",
        "          'Training Time': validation_time,\r\n",
        "      }\r\n",
        "  )\r\n",
        "\r\n",
        "  print(\"Validation Loss: {} \\n\".format(avg_validation_loss), file=outfile)\r\n",
        "  print(\"Validation Time: {} \\n\".format(validation_time), file=outfile)\r\n",
        "        \r\n",
        "        \r\n",
        "#with open('Bert_Metrics.json', 'w+') as outfile:\r\n",
        "#    json.dump(training_stats, outfile)\r\n",
        "\r\n",
        "#torch.save(model.state_dict(), \"Bert.pt\")\r\n",
        "#print(\"Final Model saved!\")"
      ],
      "execution_count": 100,
      "outputs": [
        {
          "output_type": "stream",
          "text": [
            "\n",
            "########## Epoch 1 / 6 ##########\n",
            "Training...\n"
          ],
          "name": "stdout"
        },
        {
          "output_type": "error",
          "ename": "AttributeError",
          "evalue": "ignored",
          "traceback": [
            "\u001b[0;31m---------------------------------------------------------------------------\u001b[0m",
            "\u001b[0;31mAttributeError\u001b[0m                            Traceback (most recent call last)",
            "\u001b[0;32m<ipython-input-100-17b0712a14fe>\u001b[0m in \u001b[0;36m<module>\u001b[0;34m()\u001b[0m\n\u001b[1;32m     51\u001b[0m     \u001b[0;31m# single value; the '.item()' function just returns the Python value\u001b[0m\u001b[0;34m\u001b[0m\u001b[0;34m\u001b[0m\u001b[0;34m\u001b[0m\u001b[0m\n\u001b[1;32m     52\u001b[0m     \u001b[0;31m# from the tensor\u001b[0m\u001b[0;34m\u001b[0m\u001b[0;34m\u001b[0m\u001b[0;34m\u001b[0m\u001b[0m\n\u001b[0;32m---> 53\u001b[0;31m     \u001b[0mtotal_train_loss\u001b[0m \u001b[0;34m+=\u001b[0m \u001b[0mloss\u001b[0m\u001b[0;34m.\u001b[0m\u001b[0mitem\u001b[0m\u001b[0;34m(\u001b[0m\u001b[0;34m)\u001b[0m\u001b[0;34m\u001b[0m\u001b[0;34m\u001b[0m\u001b[0m\n\u001b[0m\u001b[1;32m     54\u001b[0m \u001b[0;34m\u001b[0m\u001b[0m\n\u001b[1;32m     55\u001b[0m     \u001b[0;31m# Perform a backward pass to calculate the gradients\u001b[0m\u001b[0;34m\u001b[0m\u001b[0;34m\u001b[0m\u001b[0;34m\u001b[0m\u001b[0m\n",
            "\u001b[0;31mAttributeError\u001b[0m: 'str' object has no attribute 'item'"
          ]
        }
      ]
    },
    {
      "cell_type": "code",
      "metadata": {
        "id": "5RMJkngn4h4S"
      },
      "source": [
        "global_preds = torch.from_numpy(global_predictions)\r\n",
        "\r\n",
        "report = metrics.classification_report(validation_labels, global_preds, zero_division=0)\r\n",
        "print(\"Report: {} \\n\".format(report))\r\n",
        "\r\n",
        "confusion_matrix = metrics.confusion_matrix(validation_labels, global_preds)\r\n",
        "\r\n",
        "print(\"Confusion Matrix: {} \\n\".format(confusion_matrix))\r\n",
        "\r\n",
        "sns.heatmap(confusion_matrix, annot=True)\r\n"
      ],
      "execution_count": null,
      "outputs": []
    },
    {
      "cell_type": "markdown",
      "metadata": {
        "id": "xg9BPpNP-SNf"
      },
      "source": [
        "## Next stage - Prediction based on sentence + target"
      ]
    },
    {
      "cell_type": "markdown",
      "metadata": {
        "id": "g6gK0vzf-nxC"
      },
      "source": [
        "### Via FastText"
      ]
    },
    {
      "cell_type": "code",
      "metadata": {
        "id": "_egkFgr_-uji"
      },
      "source": [
        ""
      ],
      "execution_count": null,
      "outputs": []
    },
    {
      "cell_type": "markdown",
      "metadata": {
        "id": "MmRBo2g-TewA"
      },
      "source": [
        "### Via Bi-LSTM"
      ]
    },
    {
      "cell_type": "code",
      "metadata": {
        "id": "UQ-cx43kXmMk"
      },
      "source": [
        "input1 = Input(shape=(maxlen,))\r\n",
        "embed1 = Embedding(vocab_size, output_dim=EMBEDDING_DIM, weights=[w2v_embedding_vectors], input_length=maxlen, trainable=False)(input1)\r\n",
        "bdlstm1 = Bidirectional(LSTM(units=128, dropout=0.2, recurrent_dropout=0.2, return_sequences=False))(embed1)\r\n",
        "dense1 = Dense(EMBEDDING_DIM, activation='relu')(bdlstm1)\r\n",
        "\r\n",
        "input2 = Input(shape=(7,))\r\n",
        "dense2 = Dense(EMBEDDING_DIM, activation='relu')(input2)\r\n",
        "\r\n",
        "dense = Concatenate()([dense1, dense2])\r\n",
        "out = Dense(5, activation='softmax')(dense)\r\n",
        "bilstm_model = keras.Model(inputs = [input1, input2], outputs = out)\r\n",
        "bilstm_model.compile(optimizer='adam', loss='categorical_crossentropy', metrics=['acc'])"
      ],
      "execution_count": 266,
      "outputs": []
    },
    {
      "cell_type": "code",
      "metadata": {
        "colab": {
          "base_uri": "https://localhost:8080/"
        },
        "id": "F5cFwZJhkq5f",
        "outputId": "4dc6c89b-b049-4669-cfcf-e8cff02b8338"
      },
      "source": [
        "bilstm_model.summary()"
      ],
      "execution_count": 267,
      "outputs": [
        {
          "output_type": "stream",
          "text": [
            "Model: \"model_1\"\n",
            "__________________________________________________________________________________________________\n",
            "Layer (type)                    Output Shape         Param #     Connected to                     \n",
            "==================================================================================================\n",
            "input_3 (InputLayer)            [(None, 150)]        0                                            \n",
            "__________________________________________________________________________________________________\n",
            "embedding_3 (Embedding)         (None, 150, 200)     26521600    input_3[0][0]                    \n",
            "__________________________________________________________________________________________________\n",
            "bidirectional_3 (Bidirectional) (None, 256)          336896      embedding_3[0][0]                \n",
            "__________________________________________________________________________________________________\n",
            "input_4 (InputLayer)            [(None, 7)]          0                                            \n",
            "__________________________________________________________________________________________________\n",
            "dense_5 (Dense)                 (None, 200)          51400       bidirectional_3[0][0]            \n",
            "__________________________________________________________________________________________________\n",
            "dense_6 (Dense)                 (None, 200)          1600        input_4[0][0]                    \n",
            "__________________________________________________________________________________________________\n",
            "concatenate_1 (Concatenate)     (None, 400)          0           dense_5[0][0]                    \n",
            "                                                                 dense_6[0][0]                    \n",
            "__________________________________________________________________________________________________\n",
            "dense_7 (Dense)                 (None, 5)            2005        concatenate_1[0][0]              \n",
            "==================================================================================================\n",
            "Total params: 26,913,501\n",
            "Trainable params: 391,901\n",
            "Non-trainable params: 26,521,600\n",
            "__________________________________________________________________________________________________\n"
          ],
          "name": "stdout"
        }
      ]
    },
    {
      "cell_type": "code",
      "metadata": {
        "colab": {
          "base_uri": "https://localhost:8080/"
        },
        "id": "_en6LkHgrM1w",
        "outputId": "c731dae4-5ec3-4a7b-cb5e-2a47f572d536"
      },
      "source": [
        "early_stopping_callback_loss = tf.keras.callbacks.EarlyStopping(monitor = 'loss', patience = 1)\r\n",
        "early_stopping_callback_val_loss = tf.keras.callbacks.EarlyStopping(monitor = 'val_loss', patience = 1)\r\n",
        "\r\n",
        "bilstm_history = bilstm_model.fit([X_train_tok, X_train_targets], y_train_tok, validation_split=0.2, epochs=6, batch_size = 512, \\\r\n",
        "                         callbacks = [early_stopping_callback_loss, early_stopping_callback_val_loss], verbose=1)"
      ],
      "execution_count": 268,
      "outputs": [
        {
          "output_type": "stream",
          "text": [
            "Train on 252538 samples, validate on 63135 samples\n",
            "Epoch 1/6\n",
            "252538/252538 [==============================] - 228s 904us/sample - loss: 0.5586 - acc: 0.7743 - val_loss: 0.4240 - val_acc: 0.8254\n",
            "Epoch 2/6\n",
            "252538/252538 [==============================] - 227s 897us/sample - loss: 0.3927 - acc: 0.8397 - val_loss: 0.3475 - val_acc: 0.8637\n",
            "Epoch 3/6\n",
            "252538/252538 [==============================] - 225s 891us/sample - loss: 0.3382 - acc: 0.8647 - val_loss: 0.3071 - val_acc: 0.8826\n",
            "Epoch 4/6\n",
            "252538/252538 [==============================] - 222s 880us/sample - loss: 0.3012 - acc: 0.8809 - val_loss: 0.2740 - val_acc: 0.8986\n",
            "Epoch 5/6\n",
            "252538/252538 [==============================] - 224s 887us/sample - loss: 0.2745 - acc: 0.8921 - val_loss: 0.2596 - val_acc: 0.9036\n",
            "Epoch 6/6\n",
            "252538/252538 [==============================] - 218s 864us/sample - loss: 0.2556 - acc: 0.9003 - val_loss: 0.2484 - val_acc: 0.9091\n"
          ],
          "name": "stdout"
        }
      ]
    },
    {
      "cell_type": "code",
      "metadata": {
        "colab": {
          "base_uri": "https://localhost:8080/",
          "height": 295
        },
        "id": "jUKCspVUrPpE",
        "outputId": "a7557e7a-4c6f-45de-dcb5-f8bb41b7b056"
      },
      "source": [
        "plt.plot(bilstm_history.history['loss'])\r\n",
        "plt.plot(bilstm_history.history['val_loss'])\r\n",
        "plt.title('model train vs validation loss')\r\n",
        "plt.ylabel('loss')\r\n",
        "plt.xlabel('epoch')\r\n",
        "plt.legend(['train', 'validation'], loc='upper right')\r\n",
        "plt.show()"
      ],
      "execution_count": 269,
      "outputs": [
        {
          "output_type": "display_data",
          "data": {
            "image/png": "[encoded data removed]",
            "text/plain": [
              "<Figure size 432x288 with 1 Axes>"
            ]
          },
          "metadata": {
            "tags": [],
            "needs_background": "light"
          }
        }
      ]
    },
    {
      "cell_type": "code",
      "metadata": {
        "id": "XGJshZkSrPpF"
      },
      "source": [
        "bilstm_pred = (bilstm_model.predict([X_test_tok, X_test_targets]) >= 0.5).astype(\"int\")"
      ],
      "execution_count": 270,
      "outputs": []
    },
    {
      "cell_type": "code",
      "metadata": {
        "colab": {
          "base_uri": "https://localhost:8080/"
        },
        "id": "a_tPzNdorPpF",
        "outputId": "b3814421-00fb-4220-a94f-55f5a042eadf"
      },
      "source": [
        "print(classification_report(y_test_tok, bilstm_pred))"
      ],
      "execution_count": 271,
      "outputs": [
        {
          "output_type": "stream",
          "text": [
            "              precision    recall  f1-score   support\n",
            "\n",
            "           0       0.83      0.75      0.79     10828\n",
            "           1       0.94      0.81      0.87      5610\n",
            "           2       0.82      0.73      0.77      9296\n",
            "           3       1.00      1.00      1.00     39709\n",
            "           4       0.86      0.84      0.85     13476\n",
            "\n",
            "   micro avg       0.93      0.89      0.91     78919\n",
            "   macro avg       0.89      0.83      0.86     78919\n",
            "weighted avg       0.93      0.89      0.91     78919\n",
            " samples avg       0.89      0.89      0.89     78919\n",
            "\n"
          ],
          "name": "stdout"
        }
      ]
    },
    {
      "cell_type": "code",
      "metadata": {
        "colab": {
          "base_uri": "https://localhost:8080/"
        },
        "id": "LJmiUvAHrPpG",
        "outputId": "77506b8a-e13b-4ff4-a50d-e11e3c652423"
      },
      "source": [
        "conf_matrix = confusion_matrix(y_test_tok.argmax(axis=1), bilstm_pred.argmax(axis=1))\r\n",
        "print(conf_matrix)"
      ],
      "execution_count": 272,
      "outputs": [
        {
          "output_type": "stream",
          "text": [
            "[[ 9230    98   620     0   880]\n",
            " [  568  4535   333     0   174]\n",
            " [ 1592   123  6756     2   823]\n",
            " [    3     0     1 39705     0]\n",
            " [ 1438    83   573     0 11382]]\n"
          ],
          "name": "stdout"
        }
      ]
    },
    {
      "cell_type": "code",
      "metadata": {
        "colab": {
          "base_uri": "https://localhost:8080/",
          "height": 287
        },
        "id": "x84eImlnrPpG",
        "outputId": "ca3ccc56-7ab6-4836-8505-61a7b1100409"
      },
      "source": [
        "sns.heatmap(conf_matrix/np.sum(conf_matrix), annot=True)"
      ],
      "execution_count": 273,
      "outputs": [
        {
          "output_type": "execute_result",
          "data": {
            "text/plain": [
              "<matplotlib.axes._subplots.AxesSubplot at 0x7f92a6e2a250>"
            ]
          },
          "metadata": {
            "tags": []
          },
          "execution_count": 273
        },
        {
          "output_type": "display_data",
          "data": {
            "image/png": "[encoded data removed]",
            "text/plain": [
              "<Figure size 432x288 with 2 Axes>"
            ]
          },
          "metadata": {
            "tags": [],
            "needs_background": "light"
          }
        }
      ]
    },
    {
      "cell_type": "code",
      "metadata": {
        "id": "ZVQ6Dc6WrPpH"
      },
      "source": [
        "#lstm_model.save(\"BiLSTM\")"
      ],
      "execution_count": 70,
      "outputs": []
    },
    {
      "cell_type": "markdown",
      "metadata": {
        "id": "4uWiVAusxf9W"
      },
      "source": [
        "### Via Transformer"
      ]
    },
    {
      "cell_type": "code",
      "metadata": {
        "id": "hVgdhwyJxh2m"
      },
      "source": [
        "#Implement a Transformer block as a layer\r\n",
        "\r\n",
        "!pip install tf-nightly\r\n",
        "\r\n",
        "class TransformerBlock(layers.Layer):\r\n",
        "    def __init__(self, embed_dim, num_heads, ff_dim, rate=0.1):\r\n",
        "        super(TransformerBlock, self).__init__()\r\n",
        "        self.att = layers.MultiHeadAttention(num_heads=num_heads, key_dim=embed_dim)\r\n",
        "        self.ffn = keras.Sequential(\r\n",
        "            [layers.Dense(ff_dim, activation=\"relu\"), layers.Dense(embed_dim),]\r\n",
        "        )\r\n",
        "        self.layernorm1 = layers.LayerNormalization(epsilon=1e-6)\r\n",
        "        self.layernorm2 = layers.LayerNormalization(epsilon=1e-6)\r\n",
        "        self.dropout1 = layers.Dropout(rate)\r\n",
        "        self.dropout2 = layers.Dropout(rate)\r\n",
        "\r\n",
        "    def call(self, inputs, training):\r\n",
        "        attn_output = self.att(inputs, inputs)\r\n",
        "        attn_output = self.dropout1(attn_output, training=training)\r\n",
        "        out1 = self.layernorm1(inputs + attn_output)\r\n",
        "        ffn_output = self.ffn(out1)\r\n",
        "        ffn_output = self.dropout2(ffn_output, training=training)\r\n",
        "        return self.layernorm2(out1 + ffn_output)"
      ],
      "execution_count": null,
      "outputs": []
    },
    {
      "cell_type": "code",
      "metadata": {
        "id": "CJxt1frOxpi9"
      },
      "source": [
        "#Implement embedding layer\r\n",
        "#Two seperate embedding layers, one for tokens, one for token index (positions).\r\n",
        "\r\n",
        "class TokenAndPositionEmbedding(layers.Layer):\r\n",
        "    def __init__(self, maxlen, vocab_size, embed_dim):\r\n",
        "        super(TokenAndPositionEmbedding, self).__init__()\r\n",
        "        self.token_emb = layers.Embedding(input_dim=vocab_size, output_dim=embed_dim)\r\n",
        "        self.pos_emb = layers.Embedding(input_dim=maxlen, output_dim=embed_dim)\r\n",
        "\r\n",
        "    def call(self, x):\r\n",
        "        maxlen = tf.shape(x)[-1]\r\n",
        "        positions = tf.range(start=0, limit=maxlen, delta=1)\r\n",
        "        positions = self.pos_emb(positions)\r\n",
        "        x = self.token_emb(x)\r\n",
        "        return x + positions"
      ],
      "execution_count": null,
      "outputs": []
    },
    {
      "cell_type": "code",
      "metadata": {
        "id": "stYHflsXxiFA"
      },
      "source": [
        "#Create classifier model using transformer layer\r\n",
        "\r\n",
        "embed_dim = 32  # Embedding size for each token\r\n",
        "num_heads = 2  # Number of attention heads\r\n",
        "ff_dim = 32  # Hidden layer size in feed forward network inside transformer\r\n",
        "\r\n",
        "input1 = layers.Input(shape=(maxlen,))\r\n",
        "embedding_layer = TokenAndPositionEmbedding(maxlen, vocab_size, embed_dim)\r\n",
        "x = embedding_layer(input1)\r\n",
        "transformer_block = TransformerBlock(embed_dim, num_heads, ff_dim)\r\n",
        "x = transformer_block(x)\r\n",
        "x = layers.GlobalAveragePooling1D()(x)\r\n",
        "x = layers.Dropout(0.1)(x)\r\n",
        "x = layers.Dense(EMBEDDING_DIM, activation=\"relu\")(x)\r\n",
        "dense1 = layers.Dropout(0.1)(x)\r\n",
        "\r\n",
        "input2 = Input(shape=(7,))\r\n",
        "dense2 = Dense(EMBEDDING_DIM, activation='relu')(input2)\r\n",
        "\r\n",
        "dense = Concatenate()([dense1, dense2])\r\n",
        "out = Dense(5, activation='softmax')(dense)\r\n",
        "targ_transfo_model = keras.Model(inputs = [input1, input2], outputs = out)\r\n",
        "targ_transfo_model.compile(optimizer='adam', loss='categorical_crossentropy', metrics=['acc'])"
      ],
      "execution_count": null,
      "outputs": []
    },
    {
      "cell_type": "code",
      "metadata": {
        "colab": {
          "base_uri": "https://localhost:8080/"
        },
        "id": "u93bB7FdxiFA",
        "outputId": "4dc6c89b-b049-4669-cfcf-e8cff02b8338"
      },
      "source": [
        "targ_transfo_model.summary()"
      ],
      "execution_count": null,
      "outputs": [
        {
          "output_type": "stream",
          "text": [
            "Model: \"model_1\"\n",
            "__________________________________________________________________________________________________\n",
            "Layer (type)                    Output Shape         Param #     Connected to                     \n",
            "==================================================================================================\n",
            "input_3 (InputLayer)            [(None, 150)]        0                                            \n",
            "__________________________________________________________________________________________________\n",
            "embedding_3 (Embedding)         (None, 150, 200)     26521600    input_3[0][0]                    \n",
            "__________________________________________________________________________________________________\n",
            "bidirectional_3 (Bidirectional) (None, 256)          336896      embedding_3[0][0]                \n",
            "__________________________________________________________________________________________________\n",
            "input_4 (InputLayer)            [(None, 7)]          0                                            \n",
            "__________________________________________________________________________________________________\n",
            "dense_5 (Dense)                 (None, 200)          51400       bidirectional_3[0][0]            \n",
            "__________________________________________________________________________________________________\n",
            "dense_6 (Dense)                 (None, 200)          1600        input_4[0][0]                    \n",
            "__________________________________________________________________________________________________\n",
            "concatenate_1 (Concatenate)     (None, 400)          0           dense_5[0][0]                    \n",
            "                                                                 dense_6[0][0]                    \n",
            "__________________________________________________________________________________________________\n",
            "dense_7 (Dense)                 (None, 5)            2005        concatenate_1[0][0]              \n",
            "==================================================================================================\n",
            "Total params: 26,913,501\n",
            "Trainable params: 391,901\n",
            "Non-trainable params: 26,521,600\n",
            "__________________________________________________________________________________________________\n"
          ],
          "name": "stdout"
        }
      ]
    },
    {
      "cell_type": "code",
      "metadata": {
        "colab": {
          "base_uri": "https://localhost:8080/"
        },
        "id": "JrWgMkhfxiFC",
        "outputId": "c731dae4-5ec3-4a7b-cb5e-2a47f572d536"
      },
      "source": [
        "early_stopping_callback_loss = tf.keras.callbacks.EarlyStopping(monitor = 'loss', patience = 1)\r\n",
        "early_stopping_callback_val_loss = tf.keras.callbacks.EarlyStopping(monitor = 'val_loss', patience = 1)\r\n",
        "\r\n",
        "targ_transfo_history = targ_transfo_model.fit([X_train_tok, X_train_targets], y_train_tok, validation_split=0.2, epochs=6, batch_size = 512, \\\r\n",
        "                         callbacks = [early_stopping_callback_loss, early_stopping_callback_val_loss], verbose=1)"
      ],
      "execution_count": null,
      "outputs": [
        {
          "output_type": "stream",
          "text": [
            "Train on 252538 samples, validate on 63135 samples\n",
            "Epoch 1/6\n",
            "252538/252538 [==============================] - 228s 904us/sample - loss: 0.5586 - acc: 0.7743 - val_loss: 0.4240 - val_acc: 0.8254\n",
            "Epoch 2/6\n",
            "252538/252538 [==============================] - 227s 897us/sample - loss: 0.3927 - acc: 0.8397 - val_loss: 0.3475 - val_acc: 0.8637\n",
            "Epoch 3/6\n",
            "252538/252538 [==============================] - 225s 891us/sample - loss: 0.3382 - acc: 0.8647 - val_loss: 0.3071 - val_acc: 0.8826\n",
            "Epoch 4/6\n",
            "252538/252538 [==============================] - 222s 880us/sample - loss: 0.3012 - acc: 0.8809 - val_loss: 0.2740 - val_acc: 0.8986\n",
            "Epoch 5/6\n",
            "252538/252538 [==============================] - 224s 887us/sample - loss: 0.2745 - acc: 0.8921 - val_loss: 0.2596 - val_acc: 0.9036\n",
            "Epoch 6/6\n",
            "252538/252538 [==============================] - 218s 864us/sample - loss: 0.2556 - acc: 0.9003 - val_loss: 0.2484 - val_acc: 0.9091\n"
          ],
          "name": "stdout"
        }
      ]
    },
    {
      "cell_type": "code",
      "metadata": {
        "colab": {
          "base_uri": "https://localhost:8080/",
          "height": 295
        },
        "id": "JPM6AzWmxiFC",
        "outputId": "a7557e7a-4c6f-45de-dcb5-f8bb41b7b056"
      },
      "source": [
        "plt.plot(targ_transfo_history.history['loss'])\r\n",
        "plt.plot(targ_transfo_history.history['val_loss'])\r\n",
        "plt.title('model train vs validation loss')\r\n",
        "plt.ylabel('loss')\r\n",
        "plt.xlabel('epoch')\r\n",
        "plt.legend(['train', 'validation'], loc='upper right')\r\n",
        "plt.show()"
      ],
      "execution_count": null,
      "outputs": [
        {
          "output_type": "display_data",
          "data": {
            "image/png": "[encoded data removed]",
            "text/plain": [
              "<Figure size 432x288 with 1 Axes>"
            ]
          },
          "metadata": {
            "tags": [],
            "needs_background": "light"
          }
        }
      ]
    },
    {
      "cell_type": "code",
      "metadata": {
        "id": "yayajrKKxiFD"
      },
      "source": [
        "targ_transfo_pred = (targ_transfo_model.predict([X_test_tok, X_test_targets]) >= 0.5).astype(\"int\")"
      ],
      "execution_count": null,
      "outputs": []
    },
    {
      "cell_type": "code",
      "metadata": {
        "colab": {
          "base_uri": "https://localhost:8080/"
        },
        "id": "JNmlS5oKxiFE",
        "outputId": "b3814421-00fb-4220-a94f-55f5a042eadf"
      },
      "source": [
        "print(classification_report(y_test_tok, targ_transfo_pred))"
      ],
      "execution_count": null,
      "outputs": [
        {
          "output_type": "stream",
          "text": [
            "              precision    recall  f1-score   support\n",
            "\n",
            "           0       0.83      0.75      0.79     10828\n",
            "           1       0.94      0.81      0.87      5610\n",
            "           2       0.82      0.73      0.77      9296\n",
            "           3       1.00      1.00      1.00     39709\n",
            "           4       0.86      0.84      0.85     13476\n",
            "\n",
            "   micro avg       0.93      0.89      0.91     78919\n",
            "   macro avg       0.89      0.83      0.86     78919\n",
            "weighted avg       0.93      0.89      0.91     78919\n",
            " samples avg       0.89      0.89      0.89     78919\n",
            "\n"
          ],
          "name": "stdout"
        }
      ]
    },
    {
      "cell_type": "code",
      "metadata": {
        "colab": {
          "base_uri": "https://localhost:8080/"
        },
        "id": "mhL-7sK-xiFE",
        "outputId": "77506b8a-e13b-4ff4-a50d-e11e3c652423"
      },
      "source": [
        "conf_matrix = confusion_matrix(y_test_tok.argmax(axis=1), targ_transfo_pred.argmax(axis=1))\r\n",
        "print(conf_matrix)"
      ],
      "execution_count": null,
      "outputs": [
        {
          "output_type": "stream",
          "text": [
            "[[ 9230    98   620     0   880]\n",
            " [  568  4535   333     0   174]\n",
            " [ 1592   123  6756     2   823]\n",
            " [    3     0     1 39705     0]\n",
            " [ 1438    83   573     0 11382]]\n"
          ],
          "name": "stdout"
        }
      ]
    },
    {
      "cell_type": "code",
      "metadata": {
        "colab": {
          "base_uri": "https://localhost:8080/",
          "height": 287
        },
        "id": "dJ4aoqxExiFF",
        "outputId": "ca3ccc56-7ab6-4836-8505-61a7b1100409"
      },
      "source": [
        "sns.heatmap(conf_matrix/np.sum(conf_matrix), annot=True)"
      ],
      "execution_count": null,
      "outputs": [
        {
          "output_type": "execute_result",
          "data": {
            "text/plain": [
              "<matplotlib.axes._subplots.AxesSubplot at 0x7f92a6e2a250>"
            ]
          },
          "metadata": {
            "tags": []
          },
          "execution_count": 273
        },
        {
          "output_type": "display_data",
          "data": {
            "image/png": "[encoded data removed]",
            "text/plain": [
              "<Figure size 432x288 with 2 Axes>"
            ]
          },
          "metadata": {
            "tags": [],
            "needs_background": "light"
          }
        }
      ]
    },
    {
      "cell_type": "markdown",
      "metadata": {
        "id": "xNKcn5xX-rlr"
      },
      "source": [
        "### Via CamemBERT"
      ]
    },
    {
      "cell_type": "code",
      "metadata": {
        "id": "FQneD41q-t1d"
      },
      "source": [
        ""
      ],
      "execution_count": null,
      "outputs": []
    },
    {
      "cell_type": "markdown",
      "metadata": {
        "id": "37GrdUuV9sbJ"
      },
      "source": [
        "# Target prediction"
      ]
    },
    {
      "cell_type": "markdown",
      "metadata": {
        "id": "zH90z4b2LOWI"
      },
      "source": [
        "### By training a classifier based on current \"Target\" label"
      ]
    },
    {
      "cell_type": "code",
      "metadata": {
        "id": "NkWNVJnoLT8l"
      },
      "source": [
        ""
      ],
      "execution_count": null,
      "outputs": []
    },
    {
      "cell_type": "markdown",
      "metadata": {
        "id": "0EDqzlvdH73O"
      },
      "source": [
        "#### Via Bi-LSTM"
      ]
    },
    {
      "cell_type": "code",
      "metadata": {
        "colab": {
          "base_uri": "https://localhost:8080/"
        },
        "id": "2YOA4AbfH73n",
        "outputId": "a915cd71-7a85-4ff7-ccaa-e8201754292c"
      },
      "source": [
        "#Defining Neural Network\r\n",
        "lstm_model = Sequential()\r\n",
        "#Non-trainable embeddidng layer\r\n",
        "lstm_model.add(Embedding(vocab_size, output_dim=EMBEDDING_DIM, weights=[w2v_embedding_vectors], input_length=maxlen, trainable=False))\r\n",
        "#LSTM \r\n",
        "#lstm_model.add(LSTM(units=128, dropout=0.2, recurrent_dropout=0.2, return_sequences=False))\r\n",
        "#Bi-LSTM\r\n",
        "lstm_model.add(Bidirectional(LSTM(units=128, dropout=0.2, recurrent_dropout=0.2, return_sequences=False)))\r\n",
        "lstm_model.add(Dense(EMBEDDING_DIM, activation='relu'))\r\n",
        "lstm_model.add(Dense(7, activation='softmax'))\r\n",
        "lstm_model.compile(optimizer='adam', loss='categorical_crossentropy', metrics=['acc'])"
      ],
      "execution_count": 77,
      "outputs": [
        {
          "output_type": "stream",
          "text": [
            "WARNING:tensorflow:Layer lstm will not use cuDNN kernel since it doesn't meet the cuDNN kernel criteria. It will use generic GPU kernel as fallback when running on GPU\n",
            "WARNING:tensorflow:Layer lstm will not use cuDNN kernel since it doesn't meet the cuDNN kernel criteria. It will use generic GPU kernel as fallback when running on GPU\n",
            "WARNING:tensorflow:Layer lstm will not use cuDNN kernel since it doesn't meet the cuDNN kernel criteria. It will use generic GPU kernel as fallback when running on GPU\n"
          ],
          "name": "stdout"
        }
      ]
    },
    {
      "cell_type": "code",
      "metadata": {
        "colab": {
          "base_uri": "https://localhost:8080/"
        },
        "id": "iN1CmIp-H73o",
        "outputId": "c7c9175b-255f-4d84-dce1-f4ea83419438"
      },
      "source": [
        "lstm_model.summary()"
      ],
      "execution_count": 78,
      "outputs": [
        {
          "output_type": "stream",
          "text": [
            "Model: \"sequential\"\n",
            "_________________________________________________________________\n",
            "Layer (type)                 Output Shape              Param #   \n",
            "=================================================================\n",
            "embedding (Embedding)        (None, 150, 200)          26505600  \n",
            "_________________________________________________________________\n",
            "bidirectional (Bidirectional (None, 256)               336896    \n",
            "_________________________________________________________________\n",
            "dense (Dense)                (None, 200)               51400     \n",
            "_________________________________________________________________\n",
            "dense_1 (Dense)              (None, 7)                 1407      \n",
            "=================================================================\n",
            "Total params: 26,895,303\n",
            "Trainable params: 389,703\n",
            "Non-trainable params: 26,505,600\n",
            "_________________________________________________________________\n"
          ],
          "name": "stdout"
        }
      ]
    },
    {
      "cell_type": "code",
      "metadata": {
        "colab": {
          "base_uri": "https://localhost:8080/"
        },
        "id": "5YxMLI4MH73p",
        "outputId": "1e40a4a9-645a-4f65-8b3c-b3967c294699"
      },
      "source": [
        "early_stopping_callback_loss = tf.keras.callbacks.EarlyStopping(monitor = 'loss', patience = 1)\r\n",
        "early_stopping_callback_val_loss = tf.keras.callbacks.EarlyStopping(monitor = 'val_loss', patience = 1)\r\n",
        "\r\n",
        "lstm_history = lstm_model.fit(X_train_tok, X_train_targets, validation_split=0.2, epochs=10, batch_size =512, \\\r\n",
        "                         callbacks = [early_stopping_callback_loss, early_stopping_callback_val_loss], verbose=1)"
      ],
      "execution_count": 79,
      "outputs": [
        {
          "output_type": "stream",
          "text": [
            "Epoch 1/10\n",
            "494/494 [==============================] - 532s 1s/step - loss: 0.8233 - acc: 0.7218 - val_loss: 0.4641 - val_acc: 0.8410\n",
            "Epoch 2/10\n",
            "494/494 [==============================] - 535s 1s/step - loss: 0.4469 - acc: 0.8466 - val_loss: 0.3654 - val_acc: 0.8747\n",
            "Epoch 3/10\n",
            "494/494 [==============================] - 522s 1s/step - loss: 0.3598 - acc: 0.8753 - val_loss: 0.3026 - val_acc: 0.8972\n",
            "Epoch 4/10\n",
            "494/494 [==============================] - 521s 1s/step - loss: 0.3019 - acc: 0.8951 - val_loss: 0.2621 - val_acc: 0.9133\n",
            "Epoch 5/10\n",
            "494/494 [==============================] - 529s 1s/step - loss: 0.2660 - acc: 0.9069 - val_loss: 0.2365 - val_acc: 0.9216\n",
            "Epoch 6/10\n",
            "494/494 [==============================] - 535s 1s/step - loss: 0.2406 - acc: 0.9167 - val_loss: 0.2271 - val_acc: 0.9243\n",
            "Epoch 7/10\n",
            "494/494 [==============================] - 549s 1s/step - loss: 0.2218 - acc: 0.9234 - val_loss: 0.2149 - val_acc: 0.9285\n",
            "Epoch 8/10\n",
            "494/494 [==============================] - 528s 1s/step - loss: 0.2095 - acc: 0.9276 - val_loss: 0.1972 - val_acc: 0.9358\n",
            "Epoch 9/10\n",
            "494/494 [==============================] - 537s 1s/step - loss: 0.1992 - acc: 0.9303 - val_loss: 0.2026 - val_acc: 0.9343\n"
          ],
          "name": "stdout"
        }
      ]
    },
    {
      "cell_type": "code",
      "metadata": {
        "colab": {
          "base_uri": "https://localhost:8080/",
          "height": 295
        },
        "id": "XJ3j3xC3H73p",
        "outputId": "6ad4773c-e8f5-4533-d492-1448e1fcfdee"
      },
      "source": [
        "plt.plot(lstm_history.history['loss'])\r\n",
        "plt.plot(lstm_history.history['val_loss'])\r\n",
        "plt.title('model train vs validation loss')\r\n",
        "plt.ylabel('loss')\r\n",
        "plt.xlabel('epoch')\r\n",
        "plt.legend(['train', 'validation'], loc='upper right')\r\n",
        "plt.show()"
      ],
      "execution_count": 80,
      "outputs": [
        {
          "output_type": "display_data",
          "data": {
            "image/png": "[encoded data removed]",
            "text/plain": [
              "<Figure size 432x288 with 1 Axes>"
            ]
          },
          "metadata": {
            "tags": [],
            "needs_background": "light"
          }
        }
      ]
    },
    {
      "cell_type": "code",
      "metadata": {
        "id": "4I9bcILtH73p"
      },
      "source": [
        "lstm_pred = (lstm_model.predict(X_test_tok) >= 0.5).astype(\"int\")"
      ],
      "execution_count": 81,
      "outputs": []
    },
    {
      "cell_type": "code",
      "metadata": {
        "colab": {
          "base_uri": "https://localhost:8080/"
        },
        "id": "JpO99AchH73q",
        "outputId": "faa116fd-4f11-42a2-a852-56f4c74291d3"
      },
      "source": [
        "print(classification_report(X_test_targets, lstm_pred))"
      ],
      "execution_count": 82,
      "outputs": [
        {
          "output_type": "stream",
          "text": [
            "              precision    recall  f1-score   support\n",
            "\n",
            "           0       0.94      0.97      0.96       545\n",
            "           1       0.96      0.99      0.98      3358\n",
            "           2       0.93      0.99      0.96      7162\n",
            "           3       0.91      0.98      0.94      7154\n",
            "           4       0.94      0.95      0.95     39872\n",
            "           5       0.93      0.84      0.88     19579\n",
            "           6       0.93      0.99      0.96      1249\n",
            "\n",
            "   micro avg       0.94      0.93      0.93     78919\n",
            "   macro avg       0.94      0.96      0.95     78919\n",
            "weighted avg       0.94      0.93      0.93     78919\n",
            " samples avg       0.93      0.93      0.93     78919\n",
            "\n"
          ],
          "name": "stdout"
        }
      ]
    },
    {
      "cell_type": "code",
      "metadata": {
        "colab": {
          "base_uri": "https://localhost:8080/"
        },
        "id": "No8lLQ4PH73q",
        "outputId": "3a34218c-9b76-48c5-c0ce-e0509a893f15"
      },
      "source": [
        "conf_matrix = confusion_matrix(X_test_targets.argmax(axis=1), lstm_pred.argmax(axis=1))\r\n",
        "print(conf_matrix)"
      ],
      "execution_count": 83,
      "outputs": [
        {
          "output_type": "stream",
          "text": [
            "[[  530     0     0     0     5    10     0]\n",
            " [    0  3332     0     1     5    20     0]\n",
            " [   14     1  7062    51    18    16     0]\n",
            " [   21     0    13  7025    59    36     0]\n",
            " [  222    59   246   238 37956  1117    34]\n",
            " [  194    61   279   442  2159 16389    55]\n",
            " [    7     0     0     0     2     5  1235]]\n"
          ],
          "name": "stdout"
        }
      ]
    },
    {
      "cell_type": "code",
      "metadata": {
        "colab": {
          "base_uri": "https://localhost:8080/",
          "height": 284
        },
        "id": "kfeslAMRH73q",
        "outputId": "592f475e-d75d-4026-c0f0-aba731ccec8a"
      },
      "source": [
        "sns.heatmap(conf_matrix/np.sum(conf_matrix), annot=True)"
      ],
      "execution_count": 84,
      "outputs": [
        {
          "output_type": "execute_result",
          "data": {
            "text/plain": [
              "<matplotlib.axes._subplots.AxesSubplot at 0x7f0138333710>"
            ]
          },
          "metadata": {
            "tags": []
          },
          "execution_count": 84
        },
        {
          "output_type": "display_data",
          "data": {
            "image/png": "[encoded data removed]",
            "text/plain": [
              "<Figure size 432x288 with 2 Axes>"
            ]
          },
          "metadata": {
            "tags": [],
            "needs_background": "light"
          }
        }
      ]
    },
    {
      "cell_type": "code",
      "metadata": {
        "id": "arFVFsWpH73r"
      },
      "source": [
        "#lstm_model.save(\"BiLSTM\")"
      ],
      "execution_count": null,
      "outputs": []
    },
    {
      "cell_type": "markdown",
      "metadata": {
        "id": "S4Gn9J282iP1"
      },
      "source": [
        "#### Via Transformer"
      ]
    },
    {
      "cell_type": "code",
      "metadata": {
        "colab": {
          "base_uri": "https://localhost:8080/",
          "height": 1000
        },
        "id": "jaIFaoZf2ojm",
        "outputId": "21bdf47d-0140-481f-beac-d56fd4302c84"
      },
      "source": [
        "#Implement a Transformer block as a layer\r\n",
        "\r\n",
        "!pip install tf-nightly\r\n",
        "\r\n",
        "class TransformerBlock(layers.Layer):\r\n",
        "    def __init__(self, embed_dim, num_heads, ff_dim, rate=0.1):\r\n",
        "        super(TransformerBlock, self).__init__()\r\n",
        "        self.att = layers.MultiHeadAttention(num_heads=num_heads, key_dim=embed_dim)\r\n",
        "        self.ffn = keras.Sequential(\r\n",
        "            [layers.Dense(ff_dim, activation=\"relu\"), layers.Dense(embed_dim),]\r\n",
        "        )\r\n",
        "        self.layernorm1 = layers.LayerNormalization(epsilon=1e-6)\r\n",
        "        self.layernorm2 = layers.LayerNormalization(epsilon=1e-6)\r\n",
        "        self.dropout1 = layers.Dropout(rate)\r\n",
        "        self.dropout2 = layers.Dropout(rate)\r\n",
        "\r\n",
        "    def call(self, inputs, training):\r\n",
        "        attn_output = self.att(inputs, inputs)\r\n",
        "        attn_output = self.dropout1(attn_output, training=training)\r\n",
        "        out1 = self.layernorm1(inputs + attn_output)\r\n",
        "        ffn_output = self.ffn(out1)\r\n",
        "        ffn_output = self.dropout2(ffn_output, training=training)\r\n",
        "        return self.layernorm2(out1 + ffn_output)"
      ],
      "execution_count": null,
      "outputs": [
        {
          "output_type": "stream",
          "text": [
            "Collecting tf-nightly\n",
            "\u001b[?25l  Downloading https://files.pythonhosted.org/packages/cb/db/a9e8b9a6e8be932d30064a50d6944c6dc4821690afc8b318a4adac5be7fd/tf_nightly-2.5.0.dev20210301-cp37-cp37m-manylinux2010_x86_64.whl (409.0MB)\n",
            "\u001b[K     |████████████████████████████████| 409.0MB 44kB/s \n",
            "\u001b[?25hCollecting gast==0.4.0\n",
            "  Downloading https://files.pythonhosted.org/packages/b6/48/583c032b79ae5b3daa02225a675aeb673e58d2cb698e78510feceb11958c/gast-0.4.0-py3-none-any.whl\n",
            "Requirement already satisfied: absl-py~=0.10 in /usr/local/lib/python3.7/dist-packages (from tf-nightly) (0.10.0)\n",
            "Requirement already satisfied: termcolor~=1.1.0 in /usr/local/lib/python3.7/dist-packages (from tf-nightly) (1.1.0)\n",
            "Requirement already satisfied: keras-preprocessing~=1.1.2 in /usr/local/lib/python3.7/dist-packages (from tf-nightly) (1.1.2)\n",
            "Requirement already satisfied: wheel~=0.35 in /usr/local/lib/python3.7/dist-packages (from tf-nightly) (0.36.2)\n",
            "Requirement already satisfied: astunparse~=1.6.3 in /usr/local/lib/python3.7/dist-packages (from tf-nightly) (1.6.3)\n",
            "Collecting h5py~=3.1.0\n",
            "\u001b[?25l  Downloading https://files.pythonhosted.org/packages/9d/74/9eae2bedd8201ab464308f42c601a12d79727a1c87f0c867fdefb212c6cf/h5py-3.1.0-cp37-cp37m-manylinux1_x86_64.whl (4.0MB)\n",
            "\u001b[K     |████████████████████████████████| 4.0MB 52.1MB/s \n",
            "\u001b[?25hRequirement already satisfied: protobuf>=3.9.2 in /usr/local/lib/python3.7/dist-packages (from tf-nightly) (3.12.4)\n",
            "Requirement already satisfied: six~=1.15.0 in /usr/local/lib/python3.7/dist-packages (from tf-nightly) (1.15.0)\n",
            "Collecting tb-nightly~=2.5.0.a\n",
            "\u001b[?25l  Downloading https://files.pythonhosted.org/packages/d9/5d/c4dcd14ee626f6dc4e688517a374ddf60e775c8b28151414bb10de5e0778/tb_nightly-2.5.0a20210301-py3-none-any.whl (5.9MB)\n",
            "\u001b[K     |████████████████████████████████| 5.9MB 25.0MB/s \n",
            "\u001b[?25hCollecting grpcio~=1.34.0\n",
            "\u001b[?25l  Downloading https://files.pythonhosted.org/packages/d5/d1/f38a91d8724706427fe973a7dfa11e938cee98aa7196b03d870a25a08bab/grpcio-1.34.1-cp37-cp37m-manylinux2014_x86_64.whl (4.0MB)\n",
            "\u001b[K     |████████████████████████████████| 4.0MB 43.7MB/s \n",
            "\u001b[?25hRequirement already satisfied: opt-einsum~=3.3.0 in /usr/local/lib/python3.7/dist-packages (from tf-nightly) (3.3.0)\n",
            "Requirement already satisfied: typing-extensions~=3.7.4 in /usr/local/lib/python3.7/dist-packages (from tf-nightly) (3.7.4.3)\n",
            "Requirement already satisfied: google-pasta~=0.2 in /usr/local/lib/python3.7/dist-packages (from tf-nightly) (0.2.0)\n",
            "Collecting tf-estimator-nightly~=2.5.0.dev\n",
            "\u001b[?25l  Downloading https://files.pythonhosted.org/packages/6b/0a/ad0233ca628c5c9af8219676406d4f71f3036b8f53a03a1300e50b91021c/tf_estimator_nightly-2.5.0.dev2021030101-py2.py3-none-any.whl (462kB)\n",
            "\u001b[K     |████████████████████████████████| 471kB 55.5MB/s \n",
            "\u001b[?25hRequirement already satisfied: numpy~=1.19.2 in /usr/local/lib/python3.7/dist-packages (from tf-nightly) (1.19.5)\n",
            "Requirement already satisfied: wrapt~=1.12.1 in /usr/local/lib/python3.7/dist-packages (from tf-nightly) (1.12.1)\n",
            "Requirement already satisfied: flatbuffers~=1.12.0 in /usr/local/lib/python3.7/dist-packages (from tf-nightly) (1.12)\n",
            "Collecting cached-property; python_version < \"3.8\"\n",
            "  Downloading https://files.pythonhosted.org/packages/48/19/f2090f7dad41e225c7f2326e4cfe6fff49e57dedb5b53636c9551f86b069/cached_property-1.5.2-py2.py3-none-any.whl\n",
            "Requirement already satisfied: setuptools in /usr/local/lib/python3.7/dist-packages (from protobuf>=3.9.2->tf-nightly) (53.0.0)\n",
            "Requirement already satisfied: tensorboard-plugin-wit>=1.6.0 in /usr/local/lib/python3.7/dist-packages (from tb-nightly~=2.5.0.a->tf-nightly) (1.8.0)\n",
            "Requirement already satisfied: requests<3,>=2.21.0 in /usr/local/lib/python3.7/dist-packages (from tb-nightly~=2.5.0.a->tf-nightly) (2.23.0)\n",
            "Collecting tensorboard-data-server<0.4.0,>=0.3.0\n",
            "\u001b[?25l  Downloading https://files.pythonhosted.org/packages/f2/6f/a1a04f6aece9cdabe80fba01241e76172380753801e34ad50d482fbde0c0/tensorboard_data_server-0.3.0-py3-none-manylinux2010_x86_64.whl (3.8MB)\n",
            "\u001b[K     |████████████████████████████████| 3.8MB 48.2MB/s \n",
            "\u001b[?25hRequirement already satisfied: werkzeug>=0.11.15 in /usr/local/lib/python3.7/dist-packages (from tb-nightly~=2.5.0.a->tf-nightly) (1.0.1)\n",
            "Requirement already satisfied: markdown>=2.6.8 in /usr/local/lib/python3.7/dist-packages (from tb-nightly~=2.5.0.a->tf-nightly) (3.3.4)\n",
            "Requirement already satisfied: google-auth<2,>=1.6.3 in /usr/local/lib/python3.7/dist-packages (from tb-nightly~=2.5.0.a->tf-nightly) (1.27.0)\n",
            "Requirement already satisfied: google-auth-oauthlib<0.5,>=0.4.1 in /usr/local/lib/python3.7/dist-packages (from tb-nightly~=2.5.0.a->tf-nightly) (0.4.2)\n",
            "Requirement already satisfied: idna<3,>=2.5 in /usr/local/lib/python3.7/dist-packages (from requests<3,>=2.21.0->tb-nightly~=2.5.0.a->tf-nightly) (2.10)\n",
            "Requirement already satisfied: certifi>=2017.4.17 in /usr/local/lib/python3.7/dist-packages (from requests<3,>=2.21.0->tb-nightly~=2.5.0.a->tf-nightly) (2020.12.5)\n",
            "Requirement already satisfied: chardet<4,>=3.0.2 in /usr/local/lib/python3.7/dist-packages (from requests<3,>=2.21.0->tb-nightly~=2.5.0.a->tf-nightly) (3.0.4)\n",
            "Requirement already satisfied: urllib3!=1.25.0,!=1.25.1,<1.26,>=1.21.1 in /usr/local/lib/python3.7/dist-packages (from requests<3,>=2.21.0->tb-nightly~=2.5.0.a->tf-nightly) (1.24.3)\n",
            "Requirement already satisfied: importlib-metadata; python_version < \"3.8\" in /usr/local/lib/python3.7/dist-packages (from markdown>=2.6.8->tb-nightly~=2.5.0.a->tf-nightly) (3.7.0)\n",
            "Requirement already satisfied: cachetools<5.0,>=2.0.0 in /usr/local/lib/python3.7/dist-packages (from google-auth<2,>=1.6.3->tb-nightly~=2.5.0.a->tf-nightly) (4.2.1)\n",
            "Requirement already satisfied: rsa<5,>=3.1.4; python_version >= \"3.6\" in /usr/local/lib/python3.7/dist-packages (from google-auth<2,>=1.6.3->tb-nightly~=2.5.0.a->tf-nightly) (4.7.2)\n",
            "Requirement already satisfied: pyasn1-modules>=0.2.1 in /usr/local/lib/python3.7/dist-packages (from google-auth<2,>=1.6.3->tb-nightly~=2.5.0.a->tf-nightly) (0.2.8)\n",
            "Requirement already satisfied: requests-oauthlib>=0.7.0 in /usr/local/lib/python3.7/dist-packages (from google-auth-oauthlib<0.5,>=0.4.1->tb-nightly~=2.5.0.a->tf-nightly) (1.3.0)\n",
            "Requirement already satisfied: zipp>=0.5 in /usr/local/lib/python3.7/dist-packages (from importlib-metadata; python_version < \"3.8\"->markdown>=2.6.8->tb-nightly~=2.5.0.a->tf-nightly) (3.4.0)\n",
            "Requirement already satisfied: pyasn1>=0.1.3 in /usr/local/lib/python3.7/dist-packages (from rsa<5,>=3.1.4; python_version >= \"3.6\"->google-auth<2,>=1.6.3->tb-nightly~=2.5.0.a->tf-nightly) (0.4.8)\n",
            "Requirement already satisfied: oauthlib>=3.0.0 in /usr/local/lib/python3.7/dist-packages (from requests-oauthlib>=0.7.0->google-auth-oauthlib<0.5,>=0.4.1->tb-nightly~=2.5.0.a->tf-nightly) (3.1.0)\n",
            "\u001b[31mERROR: tensorflow 2.4.1 has requirement gast==0.3.3, but you'll have gast 0.4.0 which is incompatible.\u001b[0m\n",
            "\u001b[31mERROR: tensorflow 2.4.1 has requirement grpcio~=1.32.0, but you'll have grpcio 1.34.1 which is incompatible.\u001b[0m\n",
            "\u001b[31mERROR: tensorflow 2.4.1 has requirement h5py~=2.10.0, but you'll have h5py 3.1.0 which is incompatible.\u001b[0m\n",
            "Installing collected packages: gast, cached-property, h5py, grpcio, tensorboard-data-server, tb-nightly, tf-estimator-nightly, tf-nightly\n",
            "  Found existing installation: gast 0.3.3\n",
            "    Uninstalling gast-0.3.3:\n",
            "      Successfully uninstalled gast-0.3.3\n",
            "  Found existing installation: h5py 2.10.0\n",
            "    Uninstalling h5py-2.10.0:\n",
            "      Successfully uninstalled h5py-2.10.0\n",
            "  Found existing installation: grpcio 1.32.0\n",
            "    Uninstalling grpcio-1.32.0:\n",
            "      Successfully uninstalled grpcio-1.32.0\n",
            "Successfully installed cached-property-1.5.2 gast-0.4.0 grpcio-1.34.1 h5py-3.1.0 tb-nightly-2.5.0a20210301 tensorboard-data-server-0.3.0 tf-estimator-nightly-2.5.0.dev2021030101 tf-nightly-2.5.0.dev20210301\n"
          ],
          "name": "stdout"
        },
        {
          "output_type": "display_data",
          "data": {
            "application/vnd.colab-display-data+json": {
              "pip_warning": {
                "packages": [
                  "gast",
                  "grpc",
                  "h5py",
                  "tensorboard",
                  "tensorflow",
                  "tensorflow_estimator"
                ]
              }
            }
          },
          "metadata": {
            "tags": []
          }
        }
      ]
    },
    {
      "cell_type": "code",
      "metadata": {
        "id": "Jh3K1INM2ojx"
      },
      "source": [
        "#Implement embedding layer\r\n",
        "#Two seperate embedding layers, one for tokens, one for token index (positions).\r\n",
        "\r\n",
        "class TokenAndPositionEmbedding(layers.Layer):\r\n",
        "    def __init__(self, maxlen, vocab_size, embed_dim):\r\n",
        "        super(TokenAndPositionEmbedding, self).__init__()\r\n",
        "        self.token_emb = layers.Embedding(input_dim=vocab_size, output_dim=embed_dim)\r\n",
        "        self.pos_emb = layers.Embedding(input_dim=maxlen, output_dim=embed_dim)\r\n",
        "\r\n",
        "    def call(self, x):\r\n",
        "        maxlen = tf.shape(x)[-1]\r\n",
        "        positions = tf.range(start=0, limit=maxlen, delta=1)\r\n",
        "        positions = self.pos_emb(positions)\r\n",
        "        x = self.token_emb(x)\r\n",
        "        return x + positions"
      ],
      "execution_count": null,
      "outputs": []
    },
    {
      "cell_type": "code",
      "metadata": {
        "id": "RGcyQWuy2ojy"
      },
      "source": [
        "#Create classifier model using transformer layer\r\n",
        "\r\n",
        "embed_dim = 32  # Embedding size for each token (vs 32 ?)\r\n",
        "num_heads = 2  # Number of attention heads \r\n",
        "ff_dim = 32  # Hidden layer size in feed forward network inside transformer\r\n",
        "\r\n",
        "inputs = layers.Input(shape=(maxlen,))\r\n",
        "embedding_layer = TokenAndPositionEmbedding(maxlen, vocab_size, embed_dim)\r\n",
        "x = embedding_layer(inputs)\r\n",
        "transformer_block = TransformerBlock(embed_dim, num_heads, ff_dim)\r\n",
        "x = transformer_block(x)\r\n",
        "x = layers.GlobalAveragePooling1D()(x)\r\n",
        "x = layers.Dropout(0.1)(x)\r\n",
        "x = layers.Dense(embed_dim, activation=\"relu\")(x)\r\n",
        "x = layers.Dropout(0.1)(x)\r\n",
        "outputs = layers.Dense(7, activation=\"softmax\")(x)\r\n",
        "\r\n",
        "transfo_model = keras.Model(inputs=inputs, outputs=outputs)"
      ],
      "execution_count": null,
      "outputs": []
    },
    {
      "cell_type": "code",
      "metadata": {
        "colab": {
          "base_uri": "https://localhost:8080/"
        },
        "id": "Bfk-uiBr2ojy",
        "outputId": "5d794eda-42b9-4cc7-9cce-b8811bc1c0cd"
      },
      "source": [
        "#Train and Evaluate\r\n",
        "early_stopping_callback_loss = tf.keras.callbacks.EarlyStopping(monitor = 'loss', patience = 1)\r\n",
        "early_stopping_callback_val_loss = tf.keras.callbacks.EarlyStopping(monitor = 'val_loss', patience = 1)\r\n",
        "\r\n",
        "transfo_model.compile(\"adam\", \"categorical_crossentropy\", metrics=[\"accuracy\"])\r\n",
        "transfo_history = transfo_model.fit(\r\n",
        "    X_train_tok, X_train_targets, validation_split=0.2, batch_size=512, epochs=4 , \\\r\n",
        "                         callbacks = [early_stopping_callback_loss, early_stopping_callback_val_loss], verbose=1)"
      ],
      "execution_count": null,
      "outputs": [
        {
          "output_type": "stream",
          "text": [
            "Epoch 1/4\n",
            "WARNING:tensorflow:AutoGraph could not transform <function Model.make_train_function.<locals>.train_function at 0x7ff6827e6320> and will run it as-is.\n",
            "Please report this to the TensorFlow team. When filing the bug, set the verbosity to 10 (on Linux, `export AUTOGRAPH_VERBOSITY=10`) and attach the full output.\n",
            "Cause: closure mismatch, requested ('self', 'step_function'), but source function had ()\n",
            "To silence this warning, decorate the function with @tf.autograph.experimental.do_not_convert\n",
            "WARNING: AutoGraph could not transform <function Model.make_train_function.<locals>.train_function at 0x7ff6827e6320> and will run it as-is.\n",
            "Please report this to the TensorFlow team. When filing the bug, set the verbosity to 10 (on Linux, `export AUTOGRAPH_VERBOSITY=10`) and attach the full output.\n",
            "Cause: closure mismatch, requested ('self', 'step_function'), but source function had ()\n",
            "To silence this warning, decorate the function with @tf.autograph.experimental.do_not_convert\n",
            "493/494 [============================>.] - ETA: 0s - loss: 1.2310 - accuracy: 0.5442WARNING:tensorflow:AutoGraph could not transform <function Model.make_test_function.<locals>.test_function at 0x7ff686aa7950> and will run it as-is.\n",
            "Please report this to the TensorFlow team. When filing the bug, set the verbosity to 10 (on Linux, `export AUTOGRAPH_VERBOSITY=10`) and attach the full output.\n",
            "Cause: closure mismatch, requested ('self', 'step_function'), but source function had ()\n",
            "To silence this warning, decorate the function with @tf.autograph.experimental.do_not_convert\n",
            "WARNING: AutoGraph could not transform <function Model.make_test_function.<locals>.test_function at 0x7ff686aa7950> and will run it as-is.\n",
            "Please report this to the TensorFlow team. When filing the bug, set the verbosity to 10 (on Linux, `export AUTOGRAPH_VERBOSITY=10`) and attach the full output.\n",
            "Cause: closure mismatch, requested ('self', 'step_function'), but source function had ()\n",
            "To silence this warning, decorate the function with @tf.autograph.experimental.do_not_convert\n",
            "494/494 [==============================] - 42s 78ms/step - loss: 1.2301 - accuracy: 0.5446 - val_loss: 0.6364 - val_accuracy: 0.7764\n",
            "Epoch 2/4\n",
            "494/494 [==============================] - 38s 77ms/step - loss: 0.5555 - accuracy: 0.8080 - val_loss: 0.4813 - val_accuracy: 0.8443\n",
            "Epoch 3/4\n",
            "494/494 [==============================] - 38s 77ms/step - loss: 0.3876 - accuracy: 0.8735 - val_loss: 0.4408 - val_accuracy: 0.8610\n",
            "Epoch 4/4\n",
            "494/494 [==============================] - 38s 77ms/step - loss: 0.3081 - accuracy: 0.9014 - val_loss: 0.4463 - val_accuracy: 0.8639\n"
          ],
          "name": "stdout"
        }
      ]
    },
    {
      "cell_type": "code",
      "metadata": {
        "colab": {
          "base_uri": "https://localhost:8080/",
          "height": 295
        },
        "id": "yF0AqMxD2ojz",
        "outputId": "4fccbe97-ffb8-4b46-9460-3b216517d88e"
      },
      "source": [
        "plt.plot(transfo_history.history['loss'])\r\n",
        "plt.plot(transfo_history.history['val_loss'])\r\n",
        "plt.title('model train vs validation loss')\r\n",
        "plt.ylabel('loss')\r\n",
        "plt.xlabel('epoch')\r\n",
        "plt.legend(['train', 'validation'], loc='upper right')\r\n",
        "plt.show()"
      ],
      "execution_count": null,
      "outputs": [
        {
          "output_type": "display_data",
          "data": {
            "image/png": "[encoded data removed]",
            "text/plain": [
              "<Figure size 432x288 with 1 Axes>"
            ]
          },
          "metadata": {
            "tags": [],
            "needs_background": "light"
          }
        }
      ]
    },
    {
      "cell_type": "code",
      "metadata": {
        "colab": {
          "base_uri": "https://localhost:8080/"
        },
        "id": "R5gPNfR-2ojz",
        "outputId": "b921e93e-9567-48bf-ccc0-5e561271ffde"
      },
      "source": [
        "transfo_pred = (transfo_model.predict(X_test_tok) >= 0.5).astype(\"int\")"
      ],
      "execution_count": null,
      "outputs": [
        {
          "output_type": "stream",
          "text": [
            "WARNING:tensorflow:AutoGraph could not transform <function Model.make_predict_function.<locals>.predict_function at 0x7ff686988200> and will run it as-is.\n",
            "Please report this to the TensorFlow team. When filing the bug, set the verbosity to 10 (on Linux, `export AUTOGRAPH_VERBOSITY=10`) and attach the full output.\n",
            "Cause: closure mismatch, requested ('self', 'step_function'), but source function had ()\n",
            "To silence this warning, decorate the function with @tf.autograph.experimental.do_not_convert\n",
            "WARNING: AutoGraph could not transform <function Model.make_predict_function.<locals>.predict_function at 0x7ff686988200> and will run it as-is.\n",
            "Please report this to the TensorFlow team. When filing the bug, set the verbosity to 10 (on Linux, `export AUTOGRAPH_VERBOSITY=10`) and attach the full output.\n",
            "Cause: closure mismatch, requested ('self', 'step_function'), but source function had ()\n",
            "To silence this warning, decorate the function with @tf.autograph.experimental.do_not_convert\n"
          ],
          "name": "stdout"
        }
      ]
    },
    {
      "cell_type": "code",
      "metadata": {
        "colab": {
          "base_uri": "https://localhost:8080/"
        },
        "id": "y3oj_4ne2ojz",
        "outputId": "9892fe1d-5b68-4b5c-b06e-cad955293701"
      },
      "source": [
        "print(classification_report(X_test_targets, transfo_pred))"
      ],
      "execution_count": null,
      "outputs": [
        {
          "output_type": "stream",
          "text": [
            "              precision    recall  f1-score   support\n",
            "\n",
            "           0       0.81      0.72      0.76     10683\n",
            "           1       0.79      0.83      0.81      5481\n",
            "           2       0.81      0.69      0.75      9460\n",
            "           3       0.96      0.93      0.94     39885\n",
            "           4       0.83      0.81      0.82     13410\n",
            "\n",
            "   micro avg       0.89      0.84      0.87     78919\n",
            "   macro avg       0.84      0.79      0.81     78919\n",
            "weighted avg       0.89      0.84      0.86     78919\n",
            " samples avg       0.84      0.84      0.84     78919\n",
            "\n"
          ],
          "name": "stdout"
        }
      ]
    },
    {
      "cell_type": "code",
      "metadata": {
        "colab": {
          "base_uri": "https://localhost:8080/"
        },
        "id": "Zxd4eqBW2oj0",
        "outputId": "a470573e-b63f-405f-dff0-4b38a17e49ef"
      },
      "source": [
        "conf_matrix = confusion_matrix(X_test_targets.argmax(axis=1), transfo_pred.argmax(axis=1))\r\n",
        "print(conf_matrix)"
      ],
      "execution_count": null,
      "outputs": [
        {
          "output_type": "stream",
          "text": [
            "[[ 9098    90   215   433   781]\n",
            " [  870  4024   364   109   125]\n",
            " [ 2096   117  6185   502   650]\n",
            " [ 1393   177   388 37149   637]\n",
            " [ 1797    61   162   606 10890]]\n"
          ],
          "name": "stdout"
        }
      ]
    },
    {
      "cell_type": "code",
      "metadata": {
        "colab": {
          "base_uri": "https://localhost:8080/",
          "height": 284
        },
        "id": "QDWjUPCF2oj0",
        "outputId": "f1b69e61-e4b6-4029-899b-14029f876486"
      },
      "source": [
        "sns.heatmap(conf_matrix/np.sum(conf_matrix), annot=True)"
      ],
      "execution_count": null,
      "outputs": [
        {
          "output_type": "execute_result",
          "data": {
            "text/plain": [
              "<matplotlib.axes._subplots.AxesSubplot at 0x7f92fadbbf10>"
            ]
          },
          "metadata": {
            "tags": []
          },
          "execution_count": 96
        },
        {
          "output_type": "display_data",
          "data": {
            "image/png": "[encoded data removed]",
            "text/plain": [
              "<Figure size 432x288 with 2 Axes>"
            ]
          },
          "metadata": {
            "tags": [],
            "needs_background": "light"
          }
        }
      ]
    },
    {
      "cell_type": "markdown",
      "metadata": {
        "id": "D2o-ZiqvL9Xz"
      },
      "source": [
        "### Via lexical features analysis"
      ]
    },
    {
      "cell_type": "code",
      "metadata": {
        "id": "KRhlmH4DMBCk"
      },
      "source": [
        ""
      ],
      "execution_count": null,
      "outputs": []
    },
    {
      "cell_type": "markdown",
      "metadata": {
        "id": "ce_rtrfuLww8"
      },
      "source": [
        "### Via modified Aspect-Based Sentiment Analysis ?"
      ]
    },
    {
      "cell_type": "code",
      "metadata": {
        "id": "mPR93c2ZL2EC"
      },
      "source": [
        ""
      ],
      "execution_count": null,
      "outputs": []
    },
    {
      "cell_type": "markdown",
      "metadata": {
        "id": "tMoNvZr0Lmlj"
      },
      "source": [
        "# Data augmentation"
      ]
    },
    {
      "cell_type": "markdown",
      "metadata": {
        "id": "yJ_7SvHGLo5x"
      },
      "source": [
        "### Via Google Translate"
      ]
    },
    {
      "cell_type": "code",
      "metadata": {
        "id": "A9swQCYJLrNz"
      },
      "source": [
        ""
      ],
      "execution_count": null,
      "outputs": []
    },
    {
      "cell_type": "markdown",
      "metadata": {
        "id": "u-K2CqBqjorl"
      },
      "source": [
        "### Via Weakly Unsupervised Learning"
      ]
    },
    {
      "cell_type": "code",
      "metadata": {
        "id": "RdSeFnwdjuCR"
      },
      "source": [
        ""
      ],
      "execution_count": null,
      "outputs": []
    },
    {
      "cell_type": "markdown",
      "metadata": {
        "id": "qTamIv6bjuOV"
      },
      "source": [
        "# Feature analysis"
      ]
    },
    {
      "cell_type": "markdown",
      "metadata": {
        "id": "oDHsf0pljx0K"
      },
      "source": [
        "### Sentiment analysis"
      ]
    },
    {
      "cell_type": "code",
      "metadata": {
        "colab": {
          "base_uri": "https://localhost:8080/"
        },
        "id": "vLcREzxvjwRL",
        "outputId": "c6bc14a6-8766-4765-8bcf-c2b31cd69c1d"
      },
      "source": [
        "!pip install vaderSentiment_fr\r\n",
        "from vaderSentiment_fr.vaderSentiment import SentimentIntensityAnalyzer\r\n",
        "nltk.download('vader_lexicon')\r\n",
        "vader = SentimentIntensityAnalyzer()"
      ],
      "execution_count": 101,
      "outputs": [
        {
          "output_type": "stream",
          "text": [
            "Collecting vaderSentiment_fr\n",
            "\u001b[?25l  Downloading https://files.pythonhosted.org/packages/d6/f0/eca010539a8b0ac61a7c7c3e10054bd8657ed625dfa52b5d629aaf321212/vaderSentiment_fr-1.2.tar.gz (228kB)\n",
            "\u001b[K     |████████████████████████████████| 235kB 5.8MB/s \n",
            "\u001b[?25hCollecting unidecode\n",
            "\u001b[?25l  Downloading https://files.pythonhosted.org/packages/9e/25/723487ca2a52ebcee88a34d7d1f5a4b80b793f179ee0f62d5371938dfa01/Unidecode-1.2.0-py2.py3-none-any.whl (241kB)\n",
            "\u001b[K     |████████████████████████████████| 245kB 49.0MB/s \n",
            "\u001b[?25hCollecting fuzzywuzzy\n",
            "  Downloading https://files.pythonhosted.org/packages/43/ff/74f23998ad2f93b945c0309f825be92e04e0348e062026998b5eefef4c33/fuzzywuzzy-0.18.0-py2.py3-none-any.whl\n",
            "Building wheels for collected packages: vaderSentiment-fr\n",
            "  Building wheel for vaderSentiment-fr (setup.py) ... \u001b[?25l\u001b[?25hdone\n",
            "  Created wheel for vaderSentiment-fr: filename=vaderSentiment_fr-1.2-cp37-none-any.whl size=232216 sha256=c232af99699787ebdf86243077aace094bfc6417e1ed82a6e4285f39d98d134d\n",
            "  Stored in directory: /root/.cache/pip/wheels/a1/3f/c5/0aca890f5c576a804800875e10035a2a0f8bd808952cd82bdf\n",
            "Successfully built vaderSentiment-fr\n",
            "Installing collected packages: unidecode, fuzzywuzzy, vaderSentiment-fr\n",
            "Successfully installed fuzzywuzzy-0.18.0 unidecode-1.2.0 vaderSentiment-fr-1.2\n",
            "[nltk_data] Downloading package vader_lexicon to /root/nltk_data...\n"
          ],
          "name": "stdout"
        }
      ]
    },
    {
      "cell_type": "code",
      "metadata": {
        "colab": {
          "base_uri": "https://localhost:8080/"
        },
        "id": "zKOdO-BvkILD",
        "outputId": "6f0b85b2-6ca7-4157-8170-3d5075c8fcbe"
      },
      "source": [
        "vader.polarity_scores('Moi mdr t trop nul')"
      ],
      "execution_count": 102,
      "outputs": [
        {
          "output_type": "execute_result",
          "data": {
            "text/plain": [
              "{'compound': 0.4779, 'neg': 0.206, 'neu': 0.345, 'pos': 0.449}"
            ]
          },
          "metadata": {
            "tags": []
          },
          "execution_count": 102
        }
      ]
    },
    {
      "cell_type": "code",
      "metadata": {
        "colab": {
          "base_uri": "https://localhost:8080/"
        },
        "id": "iJAHTNUUlRlv",
        "outputId": "2b8a9d67-b8b1-4dd8-95f2-8d1da480f226"
      },
      "source": [
        "vader.polarity_scores_max('visage avec des larmes de joie')"
      ],
      "execution_count": 103,
      "outputs": [
        {
          "output_type": "stream",
          "text": [
            "visage --> sage\n",
            "Fuzzy Ratio : 80\n",
            "Pas pris en compte car < 85\n",
            "avec --> avare\n",
            "Fuzzy Ratio : 67\n",
            "Pas pris en compte car < 85\n",
            "Processing time : 0.36016273498535156\n"
          ],
          "name": "stdout"
        },
        {
          "output_type": "execute_result",
          "data": {
            "text/plain": [
              "{'compound': -0.1531, 'neg': 0.264, 'neu': 0.556, 'pos': 0.181}"
            ]
          },
          "metadata": {
            "tags": []
          },
          "execution_count": 103
        }
      ]
    },
    {
      "cell_type": "code",
      "metadata": {
        "id": "ndWGQXvGlTu-"
      },
      "source": [
        "def get_vader_sent(val):\r\n",
        "  if val >= 0.05:\r\n",
        "    return \"pos\"\r\n",
        "  elif val <= -0.05:\r\n",
        "    return \"neg\"\r\n",
        "  else:\r\n",
        "    return \"neu\""
      ],
      "execution_count": 56,
      "outputs": []
    },
    {
      "cell_type": "code",
      "metadata": {
        "colab": {
          "base_uri": "https://localhost:8080/"
        },
        "id": "boQdcoxnlXC6",
        "outputId": "5c0dc33b-3567-477f-f3ce-5fdf72dfdb80"
      },
      "source": [
        "# Checking with non tokenized toxic data\r\n",
        "vader_toxic = []\r\n",
        "sentiments_toxic = dataset.loc[dataset['Class'] == 1][\"cleanSentence\"].tolist()\r\n",
        "\r\n",
        "for i in range(len(sentiments_toxic)):\r\n",
        "  vader_toxic.append(vader.polarity_scores(str(sentiments_toxic[i])))\r\n",
        "\r\n",
        "comp = []\r\n",
        "pos = []\r\n",
        "neg = []\r\n",
        "neu = []\r\n",
        "for j in range(len(vader_toxic)):\r\n",
        "  comp.append(vader_toxic[j]['compound'])\r\n",
        "  pos.append(vader_toxic[j]['pos'])\r\n",
        "  neg.append(vader_toxic[j]['neg'])\r\n",
        "  neu.append(vader_toxic[j]['neu'])\r\n",
        "\r\n",
        "print(\"Compound: \",sum(comp)/len(comp), \"Positive: \",sum(pos)/len(pos),\"Neutral: \", sum(neu)/len(neu),\"Negative :\", sum(neg)/len(neg))"
      ],
      "execution_count": 61,
      "outputs": [
        {
          "output_type": "stream",
          "text": [
            "Compound:  -0.13845125929507032 Positive:  0.06868095460782297 Neutral:  0.7195407851258535 Negative : 0.21178063445240752\n"
          ],
          "name": "stdout"
        }
      ]
    },
    {
      "cell_type": "code",
      "metadata": {
        "colab": {
          "base_uri": "https://localhost:8080/"
        },
        "id": "GblYYtFjmAfY",
        "outputId": "1f30d3c5-04a6-4ada-b439-61913bc79cdb"
      },
      "source": [
        "# Checking with non tokenized clean data\r\n",
        "vader_clean = []\r\n",
        "sentiments_clean = dataset.loc[dataset['Class'] == 0][\"cleanSentence\"].tolist()\r\n",
        "\r\n",
        "for i in range(len(sentiments_clean)):\r\n",
        "  vader_clean.append(vader.polarity_scores(str(sentiments_clean[i])))\r\n",
        "\r\n",
        "comp = []\r\n",
        "pos = []\r\n",
        "neg = []\r\n",
        "neu = []\r\n",
        "for j in range(len(vader_clean)):\r\n",
        "  comp.append(vader_clean[j]['compound'])\r\n",
        "  pos.append(vader_clean[j]['pos'])\r\n",
        "  neg.append(vader_clean[j]['neg'])\r\n",
        "  neu.append(vader_clean[j]['neu'])\r\n",
        "\r\n",
        "print(\"Compound: \",sum(comp)/len(comp), \"Positive: \",sum(pos)/len(pos),\"Neutral: \", sum(neu)/len(neu),\"Negative :\", sum(neg)/len(neg))"
      ],
      "execution_count": 62,
      "outputs": [
        {
          "output_type": "stream",
          "text": [
            "Compound:  0.1103306954999951 Positive:  0.1261536849999933 Neutral:  0.8205530599999965 Negative : 0.053292799999998926\n"
          ],
          "name": "stdout"
        }
      ]
    },
    {
      "cell_type": "code",
      "metadata": {
        "colab": {
          "base_uri": "https://localhost:8080/"
        },
        "id": "w-iEJ0e-mQRG",
        "outputId": "d2cac464-a018-4e7d-df5c-2b0cd7dae4e3"
      },
      "source": [
        "# Checking with non tokenized VERY toxic data\r\n",
        "vader_toxic = []\r\n",
        "sentiments_toxic = dataset.loc[dataset['Level'] == \"HIGH\"][\"cleanSentence\"].tolist()\r\n",
        "\r\n",
        "for i in range(len(sentiments_toxic)):\r\n",
        "  vader_toxic.append(vader.polarity_scores(str(sentiments_toxic[i])))\r\n",
        "\r\n",
        "comp = []\r\n",
        "pos = []\r\n",
        "neg = []\r\n",
        "neu = []\r\n",
        "for j in range(len(vader_toxic)):\r\n",
        "  comp.append(vader_toxic[j]['compound'])\r\n",
        "  pos.append(vader_toxic[j]['pos'])\r\n",
        "  neg.append(vader_toxic[j]['neg'])\r\n",
        "  neu.append(vader_toxic[j]['neu'])\r\n",
        "\r\n",
        "print(\"Compound: \",sum(comp)/len(comp), \"Positive: \",sum(pos)/len(pos),\"Neutral: \", sum(neu)/len(neu),\"Negative :\", sum(neg)/len(neg))"
      ],
      "execution_count": 64,
      "outputs": [
        {
          "output_type": "stream",
          "text": [
            "Compound:  -0.1677027025000968 Positive:  0.06561415345402831 Neutral:  0.7009890175793817 Negative : 0.23339883428913538\n"
          ],
          "name": "stdout"
        }
      ]
    },
    {
      "cell_type": "code",
      "metadata": {
        "id": "kqRE68tBluYn"
      },
      "source": [
        ""
      ],
      "execution_count": null,
      "outputs": []
    },
    {
      "cell_type": "code",
      "metadata": {
        "id": "FBDGBeM7ex02"
      },
      "source": [
        ""
      ],
      "execution_count": null,
      "outputs": []
    }
  ]
}